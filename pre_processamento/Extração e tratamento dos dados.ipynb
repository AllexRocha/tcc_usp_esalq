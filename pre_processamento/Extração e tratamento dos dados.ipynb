{
 "cells": [
  {
   "cell_type": "markdown",
   "id": "8f395376",
   "metadata": {},
   "source": [
    "# Importando bibliotecas"
   ]
  },
  {
   "cell_type": "code",
   "execution_count": 2,
   "id": "7deacc99",
   "metadata": {},
   "outputs": [],
   "source": [
    "import numpy as np\n",
    "import pandas as pd\n",
    "import matplotlib.pyplot as plt"
   ]
  },
  {
   "cell_type": "markdown",
   "id": "2f2cb5dd",
   "metadata": {},
   "source": [
    "# Funções"
   ]
  },
  {
   "cell_type": "code",
   "execution_count": 3,
   "id": "8061f4a0",
   "metadata": {},
   "outputs": [],
   "source": [
    "def concatenar_parcial(df,ano):\n",
    "    meses = df.columns[1:]\n",
    "    dataframes = []\n",
    "    for mes in meses:\n",
    "        df_aux = df[mes]\n",
    "        df_aux = df_aux.iloc[:-2]\n",
    "        if mes in ['Abr', 'Jun', 'Set', 'Nov']:\n",
    "            df_aux = df_aux.iloc[:-1]\n",
    "        elif mes == 'Fev':\n",
    "            if ano in [2012,2016,2020,2024]:\n",
    "                df_aux = df_aux.iloc[:-2]\n",
    "            else:\n",
    "                df_aux = df_aux.iloc[:-3]\n",
    "\n",
    "                \n",
    "        if df_aux.isnull().all():\n",
    "            break\n",
    "        dataframes.append(df_aux)\n",
    "\n",
    "    df_resultante = pd.concat(dataframes, ignore_index=True)\n",
    "    return df_resultante\n",
    "\n"
   ]
  },
  {
   "cell_type": "markdown",
   "id": "c60f18ae",
   "metadata": {},
   "source": [
    "# Extraíndo dados"
   ]
  },
  {
   "cell_type": "code",
   "execution_count": 4,
   "id": "9c14438b",
   "metadata": {},
   "outputs": [],
   "source": [
    "import pandas as pd\n",
    "anos = 14\n",
    "dataframe = []\n",
    "for ano in range(2010,2010+anos+1):\n",
    "    caminho_arquivo = f'ibovespa/{ano}.csv'\n",
    "\n",
    "    df = pd.read_csv(caminho_arquivo, sep=';', decimal='.', header=1,encoding='latin-1')\n",
    "    dataframe.append(concatenar_parcial(df,ano))\n",
    "df_resultante = pd.concat(dataframe, ignore_index=True)\n",
    "\n",
    "\n",
    "date_range = pd.date_range(start='2010-01-01', periods=len(df_resultante), freq='D')\n",
    "df_resultante.index = date_range\n",
    "df_resultante = df_resultante.iloc[:-30]\n",
    "\n",
    "df = pd.DataFrame({'valor': df_resultante})\n",
    "df['valor'] = df['valor'].str.replace(',', '')\n",
    "df['valor'] = df['valor'].astype(float)\n",
    "df['data'] = df.index"
   ]
  },
  {
   "cell_type": "code",
   "execution_count": 5,
   "id": "8f04e163",
   "metadata": {},
   "outputs": [
    {
     "data": {
      "text/html": [
       "<div>\n",
       "<style scoped>\n",
       "    .dataframe tbody tr th:only-of-type {\n",
       "        vertical-align: middle;\n",
       "    }\n",
       "\n",
       "    .dataframe tbody tr th {\n",
       "        vertical-align: top;\n",
       "    }\n",
       "\n",
       "    .dataframe thead th {\n",
       "        text-align: right;\n",
       "    }\n",
       "</style>\n",
       "<table border=\"1\" class=\"dataframe\">\n",
       "  <thead>\n",
       "    <tr style=\"text-align: right;\">\n",
       "      <th></th>\n",
       "      <th>valor</th>\n",
       "      <th>data</th>\n",
       "    </tr>\n",
       "  </thead>\n",
       "  <tbody>\n",
       "    <tr>\n",
       "      <th>2010-01-01</th>\n",
       "      <td>NaN</td>\n",
       "      <td>2010-01-01</td>\n",
       "    </tr>\n",
       "    <tr>\n",
       "      <th>2010-01-02</th>\n",
       "      <td>NaN</td>\n",
       "      <td>2010-01-02</td>\n",
       "    </tr>\n",
       "    <tr>\n",
       "      <th>2010-01-03</th>\n",
       "      <td>NaN</td>\n",
       "      <td>2010-01-03</td>\n",
       "    </tr>\n",
       "    <tr>\n",
       "      <th>2010-01-04</th>\n",
       "      <td>70.04508</td>\n",
       "      <td>2010-01-04</td>\n",
       "    </tr>\n",
       "    <tr>\n",
       "      <th>2010-01-05</th>\n",
       "      <td>70.23982</td>\n",
       "      <td>2010-01-05</td>\n",
       "    </tr>\n",
       "    <tr>\n",
       "      <th>...</th>\n",
       "      <td>...</td>\n",
       "      <td>...</td>\n",
       "    </tr>\n",
       "    <tr>\n",
       "      <th>2024-05-27</th>\n",
       "      <td>124.49568</td>\n",
       "      <td>2024-05-27</td>\n",
       "    </tr>\n",
       "    <tr>\n",
       "      <th>2024-05-28</th>\n",
       "      <td>123.77954</td>\n",
       "      <td>2024-05-28</td>\n",
       "    </tr>\n",
       "    <tr>\n",
       "      <th>2024-05-29</th>\n",
       "      <td>122.70728</td>\n",
       "      <td>2024-05-29</td>\n",
       "    </tr>\n",
       "    <tr>\n",
       "      <th>2024-05-30</th>\n",
       "      <td>NaN</td>\n",
       "      <td>2024-05-30</td>\n",
       "    </tr>\n",
       "    <tr>\n",
       "      <th>2024-05-31</th>\n",
       "      <td>122.09809</td>\n",
       "      <td>2024-05-31</td>\n",
       "    </tr>\n",
       "  </tbody>\n",
       "</table>\n",
       "<p>5265 rows × 2 columns</p>\n",
       "</div>"
      ],
      "text/plain": [
       "                valor       data\n",
       "2010-01-01        NaN 2010-01-01\n",
       "2010-01-02        NaN 2010-01-02\n",
       "2010-01-03        NaN 2010-01-03\n",
       "2010-01-04   70.04508 2010-01-04\n",
       "2010-01-05   70.23982 2010-01-05\n",
       "...               ...        ...\n",
       "2024-05-27  124.49568 2024-05-27\n",
       "2024-05-28  123.77954 2024-05-28\n",
       "2024-05-29  122.70728 2024-05-29\n",
       "2024-05-30        NaN 2024-05-30\n",
       "2024-05-31  122.09809 2024-05-31\n",
       "\n",
       "[5265 rows x 2 columns]"
      ]
     },
     "execution_count": 5,
     "metadata": {},
     "output_type": "execute_result"
    }
   ],
   "source": [
    "df"
   ]
  },
  {
   "cell_type": "markdown",
   "id": "786e7656",
   "metadata": {},
   "source": [
    "# Tratando dados"
   ]
  },
  {
   "cell_type": "code",
   "execution_count": 6,
   "id": "54fc107a",
   "metadata": {},
   "outputs": [
    {
     "data": {
      "text/html": [
       "<div>\n",
       "<style scoped>\n",
       "    .dataframe tbody tr th:only-of-type {\n",
       "        vertical-align: middle;\n",
       "    }\n",
       "\n",
       "    .dataframe tbody tr th {\n",
       "        vertical-align: top;\n",
       "    }\n",
       "\n",
       "    .dataframe thead th {\n",
       "        text-align: right;\n",
       "    }\n",
       "</style>\n",
       "<table border=\"1\" class=\"dataframe\">\n",
       "  <thead>\n",
       "    <tr style=\"text-align: right;\">\n",
       "      <th></th>\n",
       "      <th>valor</th>\n",
       "      <th>data</th>\n",
       "    </tr>\n",
       "  </thead>\n",
       "  <tbody>\n",
       "    <tr>\n",
       "      <th>2010-01-01</th>\n",
       "      <td>NaN</td>\n",
       "      <td>2010-01-01</td>\n",
       "    </tr>\n",
       "    <tr>\n",
       "      <th>2010-01-02</th>\n",
       "      <td>NaN</td>\n",
       "      <td>2010-01-02</td>\n",
       "    </tr>\n",
       "    <tr>\n",
       "      <th>2010-01-03</th>\n",
       "      <td>NaN</td>\n",
       "      <td>2010-01-03</td>\n",
       "    </tr>\n",
       "    <tr>\n",
       "      <th>2010-01-04</th>\n",
       "      <td>70.04508</td>\n",
       "      <td>2010-01-04</td>\n",
       "    </tr>\n",
       "    <tr>\n",
       "      <th>2010-01-05</th>\n",
       "      <td>70.23982</td>\n",
       "      <td>2010-01-05</td>\n",
       "    </tr>\n",
       "  </tbody>\n",
       "</table>\n",
       "</div>"
      ],
      "text/plain": [
       "               valor       data\n",
       "2010-01-01       NaN 2010-01-01\n",
       "2010-01-02       NaN 2010-01-02\n",
       "2010-01-03       NaN 2010-01-03\n",
       "2010-01-04  70.04508 2010-01-04\n",
       "2010-01-05  70.23982 2010-01-05"
      ]
     },
     "execution_count": 6,
     "metadata": {},
     "output_type": "execute_result"
    }
   ],
   "source": [
    "\n",
    "datas = pd.DataFrame(df.index)\n",
    "df = df.assign(data=df.index)\n",
    "df.head()"
   ]
  },
  {
   "cell_type": "markdown",
   "id": "ae567a16",
   "metadata": {},
   "source": [
    "# Separando dados de treino teste e previsão"
   ]
  },
  {
   "cell_type": "code",
   "execution_count": 7,
   "id": "4f6d375c",
   "metadata": {},
   "outputs": [],
   "source": [
    "treino = df[df.index < '2021-03-15']\n",
    "teste = df[(df.index >= '2021-03-15') & (df.index < '2023-12-31')]\n",
    "previsao = df[df.index >= '2023-12-31']"
   ]
  },
  {
   "cell_type": "code",
   "execution_count": 8,
   "id": "844ce9b7",
   "metadata": {},
   "outputs": [
    {
     "data": {
      "text/plain": [
       "0.8002738654147105"
      ]
     },
     "execution_count": 8,
     "metadata": {},
     "output_type": "execute_result"
    }
   ],
   "source": [
    "len(treino)/(len(treino)+len(teste))"
   ]
  },
  {
   "cell_type": "code",
   "execution_count": 9,
   "id": "7ca60159",
   "metadata": {},
   "outputs": [
    {
     "data": {
      "image/png": "[encoded data removed]",
      "text/plain": [
       "<Figure size 1008x360 with 1 Axes>"
      ]
     },
     "metadata": {
      "needs_background": "light"
     },
     "output_type": "display_data"
    }
   ],
   "source": [
    "import matplotlib.pyplot as plt\n",
    "pd.plotting.register_matplotlib_converters()\n",
    "f, ax = plt.subplots(figsize=(14,5))\n",
    "treino.plot(kind='line', x='data', y='valor', color='blue', label='Treino', ax=ax)\n",
    "teste.plot(kind='line', x='data', y='valor', color='red', label='Teste', ax=ax)\n",
    "previsao.plot(kind='line', x='data', y='valor', color='green', label='Previsão', ax=ax)\n",
    "plt.title('Dados de treino e teste e previsão do índice ibovespa diário de 2010 á 2024')\n",
    "plt.show()"
   ]
  },
  {
   "cell_type": "code",
   "execution_count": 10,
   "id": "3223623a",
   "metadata": {},
   "outputs": [
    {
     "data": {
      "text/html": [
       "<div>\n",
       "<style scoped>\n",
       "    .dataframe tbody tr th:only-of-type {\n",
       "        vertical-align: middle;\n",
       "    }\n",
       "\n",
       "    .dataframe tbody tr th {\n",
       "        vertical-align: top;\n",
       "    }\n",
       "\n",
       "    .dataframe thead th {\n",
       "        text-align: right;\n",
       "    }\n",
       "</style>\n",
       "<table border=\"1\" class=\"dataframe\">\n",
       "  <thead>\n",
       "    <tr style=\"text-align: right;\">\n",
       "      <th></th>\n",
       "      <th>0</th>\n",
       "    </tr>\n",
       "  </thead>\n",
       "  <tbody>\n",
       "    <tr>\n",
       "      <th>0</th>\n",
       "      <td>2010-01-01</td>\n",
       "    </tr>\n",
       "    <tr>\n",
       "      <th>1</th>\n",
       "      <td>2010-01-02</td>\n",
       "    </tr>\n",
       "    <tr>\n",
       "      <th>2</th>\n",
       "      <td>2010-01-03</td>\n",
       "    </tr>\n",
       "    <tr>\n",
       "      <th>3</th>\n",
       "      <td>2010-01-04</td>\n",
       "    </tr>\n",
       "    <tr>\n",
       "      <th>4</th>\n",
       "      <td>2010-01-05</td>\n",
       "    </tr>\n",
       "    <tr>\n",
       "      <th>...</th>\n",
       "      <td>...</td>\n",
       "    </tr>\n",
       "    <tr>\n",
       "      <th>5260</th>\n",
       "      <td>2024-05-27</td>\n",
       "    </tr>\n",
       "    <tr>\n",
       "      <th>5261</th>\n",
       "      <td>2024-05-28</td>\n",
       "    </tr>\n",
       "    <tr>\n",
       "      <th>5262</th>\n",
       "      <td>2024-05-29</td>\n",
       "    </tr>\n",
       "    <tr>\n",
       "      <th>5263</th>\n",
       "      <td>2024-05-30</td>\n",
       "    </tr>\n",
       "    <tr>\n",
       "      <th>5264</th>\n",
       "      <td>2024-05-31</td>\n",
       "    </tr>\n",
       "  </tbody>\n",
       "</table>\n",
       "<p>5265 rows × 1 columns</p>\n",
       "</div>"
      ],
      "text/plain": [
       "              0\n",
       "0    2010-01-01\n",
       "1    2010-01-02\n",
       "2    2010-01-03\n",
       "3    2010-01-04\n",
       "4    2010-01-05\n",
       "...         ...\n",
       "5260 2024-05-27\n",
       "5261 2024-05-28\n",
       "5262 2024-05-29\n",
       "5263 2024-05-30\n",
       "5264 2024-05-31\n",
       "\n",
       "[5265 rows x 1 columns]"
      ]
     },
     "execution_count": 10,
     "metadata": {},
     "output_type": "execute_result"
    }
   ],
   "source": [
    "datas"
   ]
  },
  {
   "cell_type": "code",
   "execution_count": 11,
   "id": "548ff091",
   "metadata": {},
   "outputs": [],
   "source": [
    "treino.to_csv('dados_tratados/treino.csv', header=True, index=False)\n",
    "teste.to_csv('dados_tratados/teste.csv', header=True, index=False)\n",
    "previsao.to_csv('dados_tratados/previsao.csv', header=True, index=False)\n",
    "datas.to_csv('dados_tratados/datas.csv', header=True, index=False)"
   ]
  },
  {
   "cell_type": "code",
   "execution_count": 12,
   "id": "fc82088b",
   "metadata": {},
   "outputs": [],
   "source": [
    "def df_tratamento_dados(df):\n",
    "    df['data'] = pd.to_datetime(df['data'], format='%Y-%m-%d')\n",
    "    df = df.sort_values(by='data')\n",
    "    # Completando dados\n",
    "    # Crie um novo DataFrame com um intervalo completo de datas\n",
    "    data_inicio = df['data'].min()  # Data de início\n",
    "    data_fim = df['data'].max()  \n",
    "    datas_completas = pd.date_range(start=data_inicio, end=data_fim, freq='D')\n",
    "    # Crie um novo DataFrame com o intervalo completo de datas\n",
    "    df_completo = pd.DataFrame(datas_completas, columns=['data'])# Faça um merge com o dataframe original\n",
    "\n",
    "    df = df_completo.merge(df, on='data', how='left')\n",
    "    df = df.sort_values(by='data')\n",
    "\n",
    "    \n",
    "    df['valor'] = pd.to_numeric(df['valor'], errors='coerce')\n",
    "    df.index = pd.to_datetime(df['data'])\n",
    "    # Interpolação linear\n",
    "    df['valor'] = df['valor'].interpolate(method='linear')\n",
    "    df['valor'] = df['valor'].fillna(method='bfill')\n",
    "    df.sort_index(ascending=True, inplace=True)\n",
    "    df = df.asfreq('D')\n",
    "    return df"
   ]
  },
  {
   "cell_type": "code",
   "execution_count": 14,
   "id": "e808ee6d",
   "metadata": {},
   "outputs": [],
   "source": [
    "def ler_csv(caminho_arquivo):\n",
    "    return pd.read_csv(caminho_arquivo, sep=',',usecols=[0,1], decimal=',', header=0)\n",
    "\n",
    "treino = ler_csv('dados_tratados/treino.csv')\n",
    "teste = ler_csv('dados_tratados/teste.csv')\n",
    "previsao = ler_csv('dados_tratados/previsao.csv')"
   ]
  },
  {
   "cell_type": "code",
   "execution_count": 15,
   "id": "6b549d91",
   "metadata": {},
   "outputs": [],
   "source": [
    "treino = df_tratamento_dados(treino)\n",
    "teste = df_tratamento_dados(teste)\n",
    "previsao = df_tratamento_dados(previsao)"
   ]
  },
  {
   "cell_type": "code",
   "execution_count": 16,
   "id": "85e72916",
   "metadata": {},
   "outputs": [],
   "source": [
    "total = pd.concat([treino,teste,previsao])"
   ]
  },
  {
   "cell_type": "code",
   "execution_count": 18,
   "id": "eb208085",
   "metadata": {},
   "outputs": [
    {
     "data": {
      "text/html": [
       "<div>\n",
       "<style scoped>\n",
       "    .dataframe tbody tr th:only-of-type {\n",
       "        vertical-align: middle;\n",
       "    }\n",
       "\n",
       "    .dataframe tbody tr th {\n",
       "        vertical-align: top;\n",
       "    }\n",
       "\n",
       "    .dataframe thead th {\n",
       "        text-align: right;\n",
       "    }\n",
       "</style>\n",
       "<table border=\"1\" class=\"dataframe\">\n",
       "  <thead>\n",
       "    <tr style=\"text-align: right;\">\n",
       "      <th></th>\n",
       "      <th>data</th>\n",
       "      <th>valor</th>\n",
       "    </tr>\n",
       "    <tr>\n",
       "      <th>data</th>\n",
       "      <th></th>\n",
       "      <th></th>\n",
       "    </tr>\n",
       "  </thead>\n",
       "  <tbody>\n",
       "    <tr>\n",
       "      <th>2010-01-01</th>\n",
       "      <td>2010-01-01</td>\n",
       "      <td>70.045080</td>\n",
       "    </tr>\n",
       "    <tr>\n",
       "      <th>2010-01-02</th>\n",
       "      <td>2010-01-02</td>\n",
       "      <td>70.045080</td>\n",
       "    </tr>\n",
       "    <tr>\n",
       "      <th>2010-01-03</th>\n",
       "      <td>2010-01-03</td>\n",
       "      <td>70.045080</td>\n",
       "    </tr>\n",
       "    <tr>\n",
       "      <th>2010-01-04</th>\n",
       "      <td>2010-01-04</td>\n",
       "      <td>70.045080</td>\n",
       "    </tr>\n",
       "    <tr>\n",
       "      <th>2010-01-05</th>\n",
       "      <td>2010-01-05</td>\n",
       "      <td>70.239820</td>\n",
       "    </tr>\n",
       "    <tr>\n",
       "      <th>...</th>\n",
       "      <td>...</td>\n",
       "      <td>...</td>\n",
       "    </tr>\n",
       "    <tr>\n",
       "      <th>2024-05-27</th>\n",
       "      <td>2024-05-27</td>\n",
       "      <td>124.495680</td>\n",
       "    </tr>\n",
       "    <tr>\n",
       "      <th>2024-05-28</th>\n",
       "      <td>2024-05-28</td>\n",
       "      <td>123.779540</td>\n",
       "    </tr>\n",
       "    <tr>\n",
       "      <th>2024-05-29</th>\n",
       "      <td>2024-05-29</td>\n",
       "      <td>122.707280</td>\n",
       "    </tr>\n",
       "    <tr>\n",
       "      <th>2024-05-30</th>\n",
       "      <td>2024-05-30</td>\n",
       "      <td>122.402685</td>\n",
       "    </tr>\n",
       "    <tr>\n",
       "      <th>2024-05-31</th>\n",
       "      <td>2024-05-31</td>\n",
       "      <td>122.098090</td>\n",
       "    </tr>\n",
       "  </tbody>\n",
       "</table>\n",
       "<p>5265 rows × 2 columns</p>\n",
       "</div>"
      ],
      "text/plain": [
       "                 data       valor\n",
       "data                             \n",
       "2010-01-01 2010-01-01   70.045080\n",
       "2010-01-02 2010-01-02   70.045080\n",
       "2010-01-03 2010-01-03   70.045080\n",
       "2010-01-04 2010-01-04   70.045080\n",
       "2010-01-05 2010-01-05   70.239820\n",
       "...               ...         ...\n",
       "2024-05-27 2024-05-27  124.495680\n",
       "2024-05-28 2024-05-28  123.779540\n",
       "2024-05-29 2024-05-29  122.707280\n",
       "2024-05-30 2024-05-30  122.402685\n",
       "2024-05-31 2024-05-31  122.098090\n",
       "\n",
       "[5265 rows x 2 columns]"
      ]
     },
     "execution_count": 18,
     "metadata": {},
     "output_type": "execute_result"
    }
   ],
   "source": [
    "total"
   ]
  },
  {
   "cell_type": "code",
   "execution_count": 24,
   "id": "b73ea193",
   "metadata": {},
   "outputs": [
    {
     "data": {
      "image/png": "[encoded data removed]",
      "text/plain": [
       "<Figure size 576x432 with 1 Axes>"
      ]
     },
     "metadata": {
      "needs_background": "light"
     },
     "output_type": "display_data"
    }
   ],
   "source": [
    "import pandas as pd\n",
    "import matplotlib.pyplot as plt\n",
    "\n",
    "total.boxplot(column=['valor'], grid=True, figsize=(8, 6))\n",
    "plt.title(\"Box Plot dos dados\")\n",
    "plt.ylabel(\"Valores\")\n",
    "plt.xticks([])  # Remova os rótulos do eixo x\n",
    "plt.show()\n"
   ]
  },
  {
   "cell_type": "code",
   "execution_count": 26,
   "id": "c4517d23",
   "metadata": {},
   "outputs": [
    {
     "name": "stdout",
     "output_type": "stream",
     "text": [
      "Contagem: 5265\n",
      "Média: 79.13773200000014\n",
      "Desvio Padrão: 26.15303811527205\n",
      "Coeficiente de Variação: 33.05%\n",
      "Mínimo: 37.49747\n",
      "Máximo: 134.19372\n",
      "Quartis (25%, 50%, 75%): 56.53162, 68.95242, 104.38467\n"
     ]
    }
   ],
   "source": [
    "import pandas as pd\n",
    "\n",
    "# Suponha que você já tenha um DataFrame chamado 'total' com a coluna 'valor'\n",
    "\n",
    "# Contagem\n",
    "total_count = total['valor'].count()\n",
    "\n",
    "# Média\n",
    "total_mean = total['valor'].mean()\n",
    "\n",
    "# Desvio Padrão\n",
    "total_std = total['valor'].std()\n",
    "\n",
    "# Coeficiente de Variação\n",
    "cv = (total_std / total_mean) * 100\n",
    "\n",
    "# Mínimo e Máximo\n",
    "valor_min = total['valor'].min()\n",
    "valor_max = total['valor'].max()\n",
    "\n",
    "# Quartis (25%, 50%, 75%)\n",
    "q25 = total['valor'].quantile(0.25)\n",
    "q50 = total['valor'].quantile(0.50)  # Equivalente à mediana\n",
    "q75 = total['valor'].quantile(0.75)\n",
    "\n",
    "# Imprimir os resultados\n",
    "print(f\"Contagem: {total_count}\")\n",
    "print(f\"Média: {total_mean}\")\n",
    "print(f\"Desvio Padrão: {total_std}\")\n",
    "print(f\"Coeficiente de Variação: {cv:.2f}%\")\n",
    "print(f\"Mínimo: {valor_min}\")\n",
    "print(f\"Máximo: {valor_max}\")\n",
    "print(f\"Quartis (25%, 50%, 75%): {q25}, {q50}, {q75}\")\n"
   ]
  },
  {
   "cell_type": "code",
   "execution_count": null,
   "id": "283d2497",
   "metadata": {},
   "outputs": [],
   "source": []
  }
 ],
 "metadata": {
  "kernelspec": {
   "display_name": "Python 3 (ipykernel)",
   "language": "python",
   "name": "python3"
  },
  "language_info": {
   "codemirror_mode": {
    "name": "ipython",
    "version": 3
   },
   "file_extension": ".py",
   "mimetype": "text/x-python",
   "name": "python",
   "nbconvert_exporter": "python",
   "pygments_lexer": "ipython3",
   "version": "3.9.12"
  }
 },
 "nbformat": 4,
 "nbformat_minor": 5
}
