{
 "cells": [
  {
   "cell_type": "code",
   "execution_count": 46,
   "id": "20df92f7",
   "metadata": {},
   "outputs": [],
   "source": [
    "# load the libraries\n",
    "import numpy as np\n",
    "import pandas as pd\n",
    "import matplotlib.pyplot as plt\n",
    "%matplotlib inline\n",
    "import torch\n",
    "import torch.nn as nn"
   ]
  },
  {
   "cell_type": "code",
   "execution_count": 47,
   "id": "9a529650",
   "metadata": {},
   "outputs": [],
   "source": [
    "# Implement LSTM\n",
    "class LSTM(nn.Module):\n",
    "    def __init__(self, in_dim, hid_dim, out_dim, num_layers, dropout_rate=0.5):\n",
    "        super().__init__()\n",
    "        self.in_dim = in_dim\n",
    "        self.hid_dim = hid_dim\n",
    "        self.out_dim = out_dim\n",
    "        self.layer = num_layers\n",
    "        \n",
    "        self.lstm = nn.LSTM(self.in_dim, self.hid_dim, self.layer, dropout=dropout_rate, batch_first=True)\n",
    "        \n",
    "        self.fc = nn.Linear(self.hid_dim, self.out_dim)\n",
    "        \n",
    "    def forward(self, x):\n",
    "        \n",
    "        # initialize the hidden state\n",
    "        h0 = torch.zeros(self.layer, x.size(0), self.hid_dim)\n",
    "        c0 = torch.zeros(self.layer, x.size(0), self.hid_dim)\n",
    "        \n",
    "        # forward propagate\n",
    "        out, (h_,c_) = self.lstm(x,(h0,c0))\n",
    "        \n",
    "        out = self.fc(out[:,-1,:])\n",
    "        return out\n",
    "\n",
    "def train_model(model,\n",
    "               criterion,\n",
    "               optimizer,\n",
    "               x_train,\n",
    "               x_test,\n",
    "               y_train,\n",
    "               y_test,\n",
    "               epochs=500):\n",
    "    \n",
    "    train_loss = np.zeros(epochs)\n",
    "    test_loss = np.zeros(epochs)\n",
    "    \n",
    "    for epoch in range(epochs):\n",
    "        \n",
    "        # put default model grads to zero\n",
    "        optimizer.zero_grad()\n",
    "        \n",
    "        # predict the output\n",
    "        pred = model(x_train)\n",
    "        \n",
    "        # calculate the loss \n",
    "        error = criterion(pred,y_train)\n",
    "        \n",
    "        # backpropagate the error\n",
    "        error.backward()\n",
    "        \n",
    "        # update the model parameters\n",
    "        optimizer.step()\n",
    "        \n",
    "        # save the losses \n",
    "        train_loss[epoch] = error.item()\n",
    "        \n",
    "        # test loss \n",
    "        test_pred = model(x_test)\n",
    "        test_error = criterion(y_test,test_pred)\n",
    "        test_loss[epoch] = test_error.item()\n",
    "        \n",
    "        if (epoch+1) % 5 ==0:\n",
    "           print('Epoch :{}    Train Loss :{}    Test Loss :{}'.format((epoch+1)/epochs, error.item(), test_error.item()))\n",
    "            \n",
    "    return train_loss, test_loss\n",
    "\n",
    "\n",
    "# divide the data into train and test\n",
    "def split_data(x,y, ratio):\n",
    "    assert len(x)==len(y)\n",
    "    N = len(x)\n",
    "    train_x, test_x  = x[:int(N*ratio)], x[int(N*ratio):]\n",
    "    train_y, test_y  = y[:int(N*ratio)], y[int(N*ratio):]\n",
    "    return train_x,train_y, test_x, test_y\n",
    "\n",
    "# divide the data into number of steps \n",
    "def create_data(data, seq_len):\n",
    "    N = len(data)\n",
    "    X = []\n",
    "    Y = []\n",
    "    for i in range(N-seq_len-1):\n",
    "        x = data[i:i+seq_len]\n",
    "        X.append(x)\n",
    "        y = data[i+seq_len]\n",
    "        Y.append(y)\n",
    "        \n",
    "    return X,Y"
   ]
  },
  {
   "cell_type": "code",
   "execution_count": 48,
   "id": "d91fd479",
   "metadata": {},
   "outputs": [],
   "source": [
    "import pandas as pd\n",
    "import matplotlib.pyplot as plt\n",
    "\n",
    "def concatenar_parcial(df):\n",
    "    meses = df.columns[1:]\n",
    "    dataframes = []\n",
    "    for mes in meses:\n",
    "        df_aux = df[mes]\n",
    "        df_aux = df_aux.drop(df_aux.index[-1])\n",
    "        df_aux = df_aux.drop(df_aux.index[-1])\n",
    "\n",
    "        dataframes.append(df_aux)\n",
    "\n",
    "    df_resultante = pd.concat(dataframes, ignore_index=True)\n",
    "    return df_resultante\n",
    "\n",
    "import pandas as pd\n",
    "anos = 13\n",
    "dataframe = []\n",
    "for ano in range(2010,2010+anos+1):\n",
    "    \n",
    "    caminho_arquivo = f'dados/ibovespa/{ano}.csv'\n",
    "\n",
    "    df = pd.read_csv(caminho_arquivo, sep=';', decimal='.', header=1,encoding='latin-1')\n",
    "    dataframe.append(concatenar_parcial(df))\n",
    "df_resultante = pd.concat(dataframe, ignore_index=True)\n",
    "\n",
    "\n",
    "date_range = pd.date_range(start='2010-01-01', periods=len(df_resultante), freq='D')\n",
    "df_resultante.index = date_range\n",
    "\n",
    "df = pd.DataFrame({'Último': df_resultante})\n",
    "df['Último'] = df['Último'].str.replace(',', '')\n",
    "df.dropna(subset=['Último'], inplace=True)\n",
    "df['Último'] = df['Último'].astype(float)\n",
    "df['Data'] = df.index"
   ]
  },
  {
   "cell_type": "code",
   "execution_count": 49,
   "id": "cdd95ce3",
   "metadata": {},
   "outputs": [],
   "source": [
    "def df_tratamento_dados(df):\n",
    "    df = df.rename(columns={'Data':'data','Último': 'value'})\n",
    "    df['data'] = pd.to_datetime(df['data'], format='%d.%m.%Y')\n",
    "    df = df.sort_values(by='data')\n",
    "    # Completando dados\n",
    "    # Crie um novo DataFrame com um intervalo completo de datas\n",
    "    data_inicio = df['data'].min()  # Data de início\n",
    "    data_fim = df['data'].max()  \n",
    "    datas_completas = pd.date_range(start=data_inicio, end=data_fim, freq='D')\n",
    "    # Crie um novo DataFrame com o intervalo completo de datas\n",
    "    df_completo = pd.DataFrame(datas_completas, columns=['data'])# Faça um merge com o dataframe original\n",
    "\n",
    "    df = df_completo.merge(df, on='data', how='left')\n",
    "    df = df.sort_values(by='data')\n",
    "\n",
    "    \n",
    "    df['value'] = pd.to_numeric(df['value'], errors='coerce')\n",
    "    df.index = pd.to_datetime(df['data'])\n",
    "    # Interpolação linear\n",
    "    df['value'] = df['value'].interpolate(method='linear')\n",
    "    df.set_index('data', inplace=True)\n",
    "    df.sort_index(ascending=True, inplace=True)\n",
    "    df = df.asfreq('D')\n",
    "    return df"
   ]
  },
  {
   "cell_type": "code",
   "execution_count": 50,
   "id": "68b1cd87",
   "metadata": {},
   "outputs": [
    {
     "data": {
      "text/html": [
       "<div>\n",
       "<style scoped>\n",
       "    .dataframe tbody tr th:only-of-type {\n",
       "        vertical-align: middle;\n",
       "    }\n",
       "\n",
       "    .dataframe tbody tr th {\n",
       "        vertical-align: top;\n",
       "    }\n",
       "\n",
       "    .dataframe thead th {\n",
       "        text-align: right;\n",
       "    }\n",
       "</style>\n",
       "<table border=\"1\" class=\"dataframe\">\n",
       "  <thead>\n",
       "    <tr style=\"text-align: right;\">\n",
       "      <th></th>\n",
       "      <th>value</th>\n",
       "    </tr>\n",
       "    <tr>\n",
       "      <th>data</th>\n",
       "      <th></th>\n",
       "    </tr>\n",
       "  </thead>\n",
       "  <tbody>\n",
       "    <tr>\n",
       "      <th>2010-01-04</th>\n",
       "      <td>70.04508</td>\n",
       "    </tr>\n",
       "    <tr>\n",
       "      <th>2010-01-05</th>\n",
       "      <td>70.23982</td>\n",
       "    </tr>\n",
       "    <tr>\n",
       "      <th>2010-01-06</th>\n",
       "      <td>70.72934</td>\n",
       "    </tr>\n",
       "    <tr>\n",
       "      <th>2010-01-07</th>\n",
       "      <td>70.45112</td>\n",
       "    </tr>\n",
       "    <tr>\n",
       "      <th>2010-01-08</th>\n",
       "      <td>70.26270</td>\n",
       "    </tr>\n",
       "  </tbody>\n",
       "</table>\n",
       "</div>"
      ],
      "text/plain": [
       "               value\n",
       "data                \n",
       "2010-01-04  70.04508\n",
       "2010-01-05  70.23982\n",
       "2010-01-06  70.72934\n",
       "2010-01-07  70.45112\n",
       "2010-01-08  70.26270"
      ]
     },
     "execution_count": 50,
     "metadata": {},
     "output_type": "execute_result"
    }
   ],
   "source": [
    "data = df_tratamento_dados(df)\n",
    "datas = pd.DataFrame(data.index)\n",
    "data.head()"
   ]
  },
  {
   "cell_type": "code",
   "execution_count": null,
   "id": "ac81b1a9",
   "metadata": {},
   "outputs": [],
   "source": []
  },
  {
   "cell_type": "code",
   "execution_count": 25,
   "id": "cc6f6480",
   "metadata": {},
   "outputs": [
    {
     "data": {
      "text/html": [
       "<div>\n",
       "<style scoped>\n",
       "    .dataframe tbody tr th:only-of-type {\n",
       "        vertical-align: middle;\n",
       "    }\n",
       "\n",
       "    .dataframe tbody tr th {\n",
       "        vertical-align: top;\n",
       "    }\n",
       "\n",
       "    .dataframe thead th {\n",
       "        text-align: right;\n",
       "    }\n",
       "</style>\n",
       "<table border=\"1\" class=\"dataframe\">\n",
       "  <thead>\n",
       "    <tr style=\"text-align: right;\">\n",
       "      <th></th>\n",
       "      <th>value</th>\n",
       "    </tr>\n",
       "    <tr>\n",
       "      <th>data</th>\n",
       "      <th></th>\n",
       "    </tr>\n",
       "  </thead>\n",
       "  <tbody>\n",
       "    <tr>\n",
       "      <th>2024-03-28</th>\n",
       "      <td>133.142925</td>\n",
       "    </tr>\n",
       "    <tr>\n",
       "      <th>2024-03-29</th>\n",
       "      <td>133.337922</td>\n",
       "    </tr>\n",
       "    <tr>\n",
       "      <th>2024-03-30</th>\n",
       "      <td>133.532920</td>\n",
       "    </tr>\n",
       "    <tr>\n",
       "      <th>2024-03-31</th>\n",
       "      <td>134.193720</td>\n",
       "    </tr>\n",
       "    <tr>\n",
       "      <th>2024-04-01</th>\n",
       "      <td>134.185240</td>\n",
       "    </tr>\n",
       "  </tbody>\n",
       "</table>\n",
       "</div>"
      ],
      "text/plain": [
       "                 value\n",
       "data                  \n",
       "2024-03-28  133.142925\n",
       "2024-03-29  133.337922\n",
       "2024-03-30  133.532920\n",
       "2024-03-31  134.193720\n",
       "2024-04-01  134.185240"
      ]
     },
     "execution_count": 25,
     "metadata": {},
     "output_type": "execute_result"
    }
   ],
   "source": [
    "data.tail()"
   ]
  },
  {
   "cell_type": "code",
   "execution_count": 26,
   "id": "07f14fa4",
   "metadata": {},
   "outputs": [
    {
     "data": {
      "text/plain": [
       "5202"
      ]
     },
     "execution_count": 26,
     "metadata": {},
     "output_type": "execute_result"
    }
   ],
   "source": [
    "#datas = datas.iloc[:-11]\n",
    "len(datas)"
   ]
  },
  {
   "cell_type": "code",
   "execution_count": 51,
   "id": "dc9810e4",
   "metadata": {},
   "outputs": [],
   "source": [
    "treino = datas[datas['data'] <='2021-01-01']\n",
    "percentual = len(treino)/len(datas)\n",
    "entradas = 10"
   ]
  },
  {
   "cell_type": "code",
   "execution_count": 52,
   "id": "7239af19",
   "metadata": {},
   "outputs": [
    {
     "data": {
      "text/plain": [
       "<AxesSubplot:xlabel='data'>"
      ]
     },
     "execution_count": 52,
     "metadata": {},
     "output_type": "execute_result"
    },
    {
     "data": {
      "image/png": "[encoded data removed]",
      "text/plain": [
       "<Figure size 432x288 with 1 Axes>"
      ]
     },
     "metadata": {
      "needs_background": "light"
     },
     "output_type": "display_data"
    }
   ],
   "source": [
    "data.plot()"
   ]
  },
  {
   "cell_type": "code",
   "execution_count": 807,
   "id": "e64e95e8",
   "metadata": {},
   "outputs": [
    {
     "data": {
      "image/png": "[encoded data removed]",
      "text/plain": [
       "<Figure size 1440x432 with 1 Axes>"
      ]
     },
     "metadata": {
      "needs_background": "light"
     },
     "output_type": "display_data"
    }
   ],
   "source": [
    "weakly_mean = data['value'].resample('W').mean()\n",
    "data = weakly_mean.to_frame()\n",
    "##Monthly Stock Price \n",
    "fig = plt.figure(figsize=(20,6))\n",
    "plt.plot(data['value'],label='Monthly Averages Apple Stock')\n",
    "plt.legend(prop={'size': 12})\n",
    "plt.show()"
   ]
  },
  {
   "cell_type": "code",
   "execution_count": 288,
   "id": "53483b1d",
   "metadata": {},
   "outputs": [
    {
     "data": {
      "image/png": "[encoded data removed]",
      "text/plain": [
       "<Figure size 1440x432 with 1 Axes>"
      ]
     },
     "metadata": {
      "needs_background": "light"
     },
     "output_type": "display_data"
    }
   ],
   "source": [
    "monthly_mean = data['value'].resample('M').mean()\n",
    "data = monthly_mean.to_frame()\n",
    "##Monthly Stock Price \n",
    "fig = plt.figure(figsize=(20,6))\n",
    "plt.plot(data['value'],label='Monthly Averages Apple Stock')\n",
    "plt.legend(prop={'size': 12})\n",
    "plt.show()"
   ]
  },
  {
   "cell_type": "code",
   "execution_count": 53,
   "id": "f2a8663f",
   "metadata": {},
   "outputs": [],
   "source": [
    "# scale the data\n",
    "from sklearn.preprocessing import MinMaxScaler\n",
    "scale = MinMaxScaler(feature_range=(0,1))\n",
    "data = scale.fit_transform(data)"
   ]
  },
  {
   "cell_type": "code",
   "execution_count": 54,
   "id": "522f2531",
   "metadata": {},
   "outputs": [],
   "source": [
    "x,y = create_data(data,entradas)"
   ]
  },
  {
   "cell_type": "code",
   "execution_count": 55,
   "id": "9a3a9842",
   "metadata": {},
   "outputs": [],
   "source": [
    "# convert the x and y values into arrays\n",
    "x, y = np.asarray(x), np.asarray(y)"
   ]
  },
  {
   "cell_type": "code",
   "execution_count": 56,
   "id": "27fb2ddd",
   "metadata": {},
   "outputs": [
    {
     "data": {
      "text/plain": [
       "(5191, 10)"
      ]
     },
     "execution_count": 56,
     "metadata": {},
     "output_type": "execute_result"
    }
   ],
   "source": [
    "x.reshape(-1,entradas).shape"
   ]
  },
  {
   "cell_type": "code",
   "execution_count": 57,
   "id": "833b1338",
   "metadata": {},
   "outputs": [],
   "source": [
    "train_x,train_y, test_x, test_y = split_data(x,y,percentual)"
   ]
  },
  {
   "cell_type": "code",
   "execution_count": 58,
   "id": "d52cc4c1",
   "metadata": {},
   "outputs": [],
   "source": [
    "# convert the data from numpy to tensor\n",
    "train_x = torch.from_numpy(train_x.astype(np.float32))\n",
    "train_y = torch.from_numpy(train_y.astype(np.float32))\n",
    "test_x = torch.from_numpy(test_x.astype(np.float32))\n",
    "test_y = torch.from_numpy(test_y.astype(np.float32))"
   ]
  },
  {
   "cell_type": "code",
   "execution_count": null,
   "id": "4f47ff46",
   "metadata": {},
   "outputs": [],
   "source": []
  },
  {
   "cell_type": "code",
   "execution_count": 59,
   "id": "30fcced6",
   "metadata": {},
   "outputs": [
    {
     "name": "stdout",
     "output_type": "stream",
     "text": [
      "Total Possible Models 1\n",
      "Epoch :0.0125    Train Loss :0.03173252195119858    Test Loss :0.18288865685462952\n",
      "Epoch :0.025    Train Loss :0.013520975597202778    Test Loss :0.020962709560990334\n",
      "Epoch :0.0375    Train Loss :0.02188006043434143    Test Loss :0.11217521876096725\n",
      "Epoch :0.05    Train Loss :0.01815456710755825    Test Loss :0.033630646765232086\n",
      "Epoch :0.0625    Train Loss :0.007736272644251585    Test Loss :0.04105750843882561\n",
      "Epoch :0.075    Train Loss :0.0066695683635771275    Test Loss :0.007642895914614201\n",
      "Epoch :0.0875    Train Loss :0.002838218118995428    Test Loss :0.026816893368959427\n",
      "Epoch :0.1    Train Loss :0.0022618197835981846    Test Loss :0.015083512291312218\n",
      "Epoch :0.1125    Train Loss :0.0017893350450322032    Test Loss :0.00630083866417408\n",
      "Epoch :0.125    Train Loss :0.0011306338710710406    Test Loss :0.01470019668340683\n",
      "Epoch :0.1375    Train Loss :0.0011713480344042182    Test Loss :0.007706151809543371\n",
      "Epoch :0.15    Train Loss :0.0011316945310682058    Test Loss :0.007584557402879\n",
      "Epoch :0.1625    Train Loss :0.0010418310994282365    Test Loss :0.006828215438872576\n",
      "Epoch :0.175    Train Loss :0.000946301908697933    Test Loss :0.007868682034313679\n",
      "Epoch :0.1875    Train Loss :0.0008934888173826039    Test Loss :0.0060482872650027275\n",
      "Epoch :0.2    Train Loss :0.0008252418483607471    Test Loss :0.006780373863875866\n",
      "Epoch :0.2125    Train Loss :0.0007855533622205257    Test Loss :0.00684593990445137\n",
      "Epoch :0.225    Train Loss :0.0007586752763018012    Test Loss :0.005499114748090506\n",
      "Epoch :0.2375    Train Loss :0.0007039060583338141    Test Loss :0.005441715940833092\n",
      "Epoch :0.25    Train Loss :0.0007079169154167175    Test Loss :0.005058789160102606\n",
      "Epoch :0.2625    Train Loss :0.0006859255372546613    Test Loss :0.004846916068345308\n",
      "Epoch :0.275    Train Loss :0.0006504408665932715    Test Loss :0.004248475655913353\n",
      "Epoch :0.2875    Train Loss :0.0006400110432878137    Test Loss :0.004092266783118248\n",
      "Epoch :0.3    Train Loss :0.0006229394930414855    Test Loss :0.0037124869413673878\n",
      "Epoch :0.3125    Train Loss :0.0005754953599534929    Test Loss :0.003954845480620861\n",
      "Epoch :0.325    Train Loss :0.0005969048361293972    Test Loss :0.003572770394384861\n",
      "Epoch :0.3375    Train Loss :0.0005860007368028164    Test Loss :0.003467716509476304\n",
      "Epoch :0.35    Train Loss :0.0005517106037586927    Test Loss :0.003289466258138418\n",
      "Epoch :0.3625    Train Loss :0.0005162841989658773    Test Loss :0.0031481466721743345\n",
      "Epoch :0.375    Train Loss :0.0005057428497821093    Test Loss :0.002647728193551302\n",
      "Epoch :0.3875    Train Loss :0.0004911379073746502    Test Loss :0.003131729317829013\n",
      "Epoch :0.4    Train Loss :0.00048772495938465    Test Loss :0.0027603311464190483\n",
      "Epoch :0.4125    Train Loss :0.00048224590136669576    Test Loss :0.0026693493127822876\n",
      "Epoch :0.425    Train Loss :0.00047877291217446327    Test Loss :0.002546262927353382\n",
      "Epoch :0.4375    Train Loss :0.0004490421852096915    Test Loss :0.0023293443955481052\n",
      "Epoch :0.45    Train Loss :0.0004558864457067102    Test Loss :0.0024643249344080687\n",
      "Epoch :0.4625    Train Loss :0.0004568265285342932    Test Loss :0.002654334995895624\n",
      "Epoch :0.475    Train Loss :0.00044188214815221727    Test Loss :0.002206093166023493\n",
      "Epoch :0.4875    Train Loss :0.00044934492325410247    Test Loss :0.002173234708607197\n",
      "Epoch :0.5    Train Loss :0.0004322589957155287    Test Loss :0.0019009659299626946\n",
      "Epoch :0.5125    Train Loss :0.00042738320189528167    Test Loss :0.0020197038538753986\n",
      "Epoch :0.525    Train Loss :0.00041347273509018123    Test Loss :0.001984949456527829\n",
      "Epoch :0.5375    Train Loss :0.00040180954965762794    Test Loss :0.0016621307004243135\n",
      "Epoch :0.55    Train Loss :0.00040118113975040615    Test Loss :0.0017500926041975617\n",
      "Epoch :0.5625    Train Loss :0.00036078167613595724    Test Loss :0.0016565454425290227\n",
      "Epoch :0.575    Train Loss :0.00037382266600616276    Test Loss :0.0015035487012937665\n",
      "Epoch :0.5875    Train Loss :0.00036686682142317295    Test Loss :0.0014565971214324236\n",
      "Epoch :0.6    Train Loss :0.00036019532126374543    Test Loss :0.0014094315702095628\n",
      "Epoch :0.6125    Train Loss :0.0004566674178931862    Test Loss :0.0012524646008387208\n",
      "Epoch :0.625    Train Loss :0.0004030006821267307    Test Loss :0.0018707549897953868\n",
      "Epoch :0.6375    Train Loss :0.00044638075632974505    Test Loss :0.0029196508694440126\n",
      "Epoch :0.65    Train Loss :0.0005333725712262094    Test Loss :0.003232016460970044\n",
      "Epoch :0.6625    Train Loss :0.0005359083297662437    Test Loss :0.002701252931728959\n",
      "Epoch :0.675    Train Loss :0.00046362626017071307    Test Loss :0.0018527847714722157\n",
      "Epoch :0.6875    Train Loss :0.00042074924567714334    Test Loss :0.001759726437740028\n",
      "Epoch :0.7    Train Loss :0.0004005481314379722    Test Loss :0.0019299689447507262\n",
      "Epoch :0.7125    Train Loss :0.00040052441181614995    Test Loss :0.0015641930513083935\n",
      "Epoch :0.725    Train Loss :0.0003757282393053174    Test Loss :0.001536248018965125\n",
      "Epoch :0.7375    Train Loss :0.00039777334313839674    Test Loss :0.0015108449151739478\n",
      "Epoch :0.75    Train Loss :0.00035597695386968553    Test Loss :0.0016370996600016952\n",
      "Epoch :0.7625    Train Loss :0.000358116056304425    Test Loss :0.0013916419120505452\n",
      "Epoch :0.775    Train Loss :0.00036398167139850557    Test Loss :0.0011961772106587887\n",
      "Epoch :0.7875    Train Loss :0.00031230784952640533    Test Loss :0.0013165291165933013\n",
      "Epoch :0.8    Train Loss :0.0003333812637720257    Test Loss :0.001109122415073216\n",
      "Epoch :0.8125    Train Loss :0.0003349449543748051    Test Loss :0.0010925126262009144\n",
      "Epoch :0.825    Train Loss :0.0003183976805303246    Test Loss :0.0009991835104301572\n",
      "Epoch :0.8375    Train Loss :0.0003212856827303767    Test Loss :0.0009982103947550058\n",
      "Epoch :0.85    Train Loss :0.0002983380400110036    Test Loss :0.0009504389599896967\n",
      "Epoch :0.8625    Train Loss :0.00031538467737846076    Test Loss :0.000888835929799825\n",
      "Epoch :0.875    Train Loss :0.00029510806780308485    Test Loss :0.0009157373569905758\n",
      "Epoch :0.8875    Train Loss :0.0002888177987188101    Test Loss :0.0008529500337317586\n",
      "Epoch :0.9    Train Loss :0.0002826020063366741    Test Loss :0.0008600818109698594\n",
      "Epoch :0.9125    Train Loss :0.00032336372532881796    Test Loss :0.0011653092224150896\n",
      "Epoch :0.925    Train Loss :0.0007358028087764978    Test Loss :0.0014160462887957692\n",
      "Epoch :0.9375    Train Loss :0.0004505378019530326    Test Loss :0.0009085443452931941\n",
      "Epoch :0.95    Train Loss :0.0003934701671823859    Test Loss :0.0016095131868496537\n",
      "Epoch :0.9625    Train Loss :0.00029498155345208943    Test Loss :0.0009609961998648942\n",
      "Epoch :0.975    Train Loss :0.0002909483155235648    Test Loss :0.0010677805403247476\n",
      "Epoch :0.9875    Train Loss :0.0002875818172469735    Test Loss :0.0009378036484122276\n",
      "Epoch :1.0    Train Loss :0.00027964304899796844    Test Loss :0.0008492697379551828\n",
      "RMSE: 23.272440153900124\n",
      "MAE: 22.00986634214252\n",
      "MAPE: 19.121427151047413%\n"
     ]
    },
    {
     "name": "stderr",
     "output_type": "stream",
     "text": [
      "C:\\Users\\alex\\AppData\\Local\\Temp\\ipykernel_3796\\3119262964.py:79: FutureWarning: The frame.append method is deprecated and will be removed from pandas in a future version. Use pandas.concat instead.\n",
      "  model_parameters = model_parameters.append({'RMSE':RMSE,'MAE':MAE,'MAPE':MAPE,'Parameters':p},ignore_index=True)\n"
     ]
    },
    {
     "name": "stdout",
     "output_type": "stream",
     "text": [
      "total:  100.0\n",
      "RMSE: 23.272440153900124\n",
      "MAE: 22.00986634214252\n",
      "MAPE: 19.121427151047413\n",
      "{'dropout_rate': 0.8, 'epochs': 400, 'hid_size': 100, 'lr': 0.01, 'num_layers': 2}\n"
     ]
    },
    {
     "data": {
      "text/plain": [
       "<matplotlib.legend.Legend at 0x1dfd65e1a30>"
      ]
     },
     "execution_count": 59,
     "metadata": {},
     "output_type": "execute_result"
    },
    {
     "data": {
      "image/png": "[encoded data removed]",
      "text/plain": [
       "<Figure size 432x288 with 1 Axes>"
      ]
     },
     "metadata": {
      "needs_background": "light"
     },
     "output_type": "display_data"
    }
   ],
   "source": [
    "from sklearn.model_selection import ParameterGrid\n",
    "params_grid = {'num_layers':[2],\n",
    "               'hid_size':[100],\n",
    "              'lr': [0.01],\n",
    "               'epochs':[400],\n",
    "              'dropout_rate':[0.8]}\n",
    "grid = ParameterGrid(params_grid)\n",
    "cnt = 0\n",
    "for p in grid:\n",
    "    cnt = cnt+1\n",
    "\n",
    "print('Total Possible Models',cnt)\n",
    "\n",
    "from sklearn.metrics import mean_squared_error, mean_absolute_error\n",
    "\n",
    "model_parameters = pd.DataFrame(columns = ['RMSE','Parameters'])\n",
    "best_rmse = np.inf\n",
    "best_prediction=None\n",
    "count = 0\n",
    "\n",
    "for p in grid:\n",
    "    \n",
    "    lstm = LSTM(in_dim = x.shape[-1],\n",
    "                hid_dim = p['hid_size'],\n",
    "                out_dim = x.shape[-1],\n",
    "                num_layers = p['num_layers'], \n",
    "                dropout_rate= p['dropout_rate'])\n",
    "    \n",
    "    optimizer = torch.optim.Adam(lstm.parameters(), lr=p['lr'])\n",
    "    \n",
    "    loss_fun = nn.MSELoss()\n",
    "    \n",
    "    train_loss, test_loss = train_model(lstm,\n",
    "               loss_fun,\n",
    "               optimizer,\n",
    "               train_x,\n",
    "               test_x,\n",
    "               train_y,\n",
    "               test_y,\n",
    "               epochs=p['epochs'])\n",
    "\n",
    "    \n",
    "    # testing the predction model on multiple time series\n",
    "    last_x = train_x[-1].view(entradas)\n",
    "\n",
    "    prediction_val = []\n",
    "\n",
    "    while len(prediction_val)<len(test_y):\n",
    "        prediction = lstm(last_x.view(1,entradas,1))\n",
    "        prediction_val.append(prediction[0,0].item())\n",
    "\n",
    "\n",
    "        ## replace the predicted value in last x\n",
    "        last_x = torch.cat((last_x[1:],prediction[0]))\n",
    "\n",
    "    # plot the result\n",
    "    train_y_cp = scale.inverse_transform(train_y.detach().numpy())\n",
    "    test_y_cp = scale.inverse_transform(test_y.detach().numpy())\n",
    "    prediction_val = scale.inverse_transform(np.asarray(prediction_val).reshape(-1,1))\n",
    "\n",
    "    y_true = test_y_cp\n",
    "    y_pred = prediction_val\n",
    "\n",
    "    RMSE = np.sqrt(mean_squared_error(y_true, y_pred))\n",
    "    print(f'RMSE: {RMSE}')\n",
    "\n",
    "    MAE = mean_absolute_error(y_true, y_pred)\n",
    "    print(f'MAE: {MAE}')\n",
    "\n",
    "    MAPE = np.mean(np.abs((y_true - y_pred) / y_true)) * 100\n",
    "    print(f'MAPE: {MAPE}%')\n",
    "    \n",
    "    if RMSE < best_rmse:\n",
    "        best_rmse = RMSE\n",
    "        best_mae = MAE\n",
    "        best_mape = MAPE\n",
    "        best_prediction = y_pred\n",
    "    \n",
    "    model_parameters = model_parameters.append({'RMSE':RMSE,'MAE':MAE,'MAPE':MAPE,'Parameters':p},ignore_index=True)\n",
    "    count += 1\n",
    "    print(\"total: \" ,round(count/cnt,2)*100)\n",
    "\n",
    "parameters = model_parameters.sort_values(by=['RMSE'])\n",
    "parameters = parameters.reset_index(drop=True)\n",
    "print('RMSE:',parameters.loc[0, 'RMSE'])\n",
    "print('MAE:',parameters.loc[0, 'MAE'])\n",
    "print('MAPE:',parameters.loc[0, 'MAPE'])\n",
    "print(parameters.loc[0, 'Parameters'])\n",
    "plt.plot(datas['data'].iloc[:len(train_y_cp)],train_y_cp,label='Real treino', color = 'blue')\n",
    "plt.plot(datas['data'].iloc[len(train_y_cp):len(train_y_cp)+len(test_y_cp)],test_y_cp,label='Real teste', color = 'orange')\n",
    "plt.plot(datas['data'].iloc[len(train_y_cp):len(train_y_cp)+len(test_y_cp)],prediction_val,label='Predição',color = 'green')\n",
    "#plt.axvline(int(len(x)*0.8),color='red')\n",
    "plt.legend()"
   ]
  },
  {
   "cell_type": "code",
   "execution_count": 228,
   "id": "623863b9",
   "metadata": {},
   "outputs": [
    {
     "data": {
      "text/plain": [
       "[<matplotlib.lines.Line2D at 0x23939022040>]"
      ]
     },
     "execution_count": 228,
     "metadata": {},
     "output_type": "execute_result"
    },
    {
     "data": {
      "image/png": "[encoded data removed]",
      "text/plain": [
       "<Figure size 432x288 with 1 Axes>"
      ]
     },
     "metadata": {
      "needs_background": "light"
     },
     "output_type": "display_data"
    }
   ],
   "source": [
    "#plt.plot(datas['data'].iloc[:len(train_y_cp)],train_y_cp,label='Real treino', color = 'blue')\n",
    "plt.plot(datas['data'].iloc[len(train_y_cp):len(train_y_cp)+len(test_y_cp)],test_y_cp,label='Real teste', color = 'orange')\n",
    "plt.plot(datas['data'].iloc[len(train_y_cp):len(train_y_cp)+len(test_y_cp)],prediction_val,label='Predition',color = 'green')"
   ]
  },
  {
   "cell_type": "code",
   "execution_count": 705,
   "id": "3bac5244",
   "metadata": {},
   "outputs": [
    {
     "name": "stdout",
     "output_type": "stream",
     "text": [
      "Epoch :0.01    Train Loss :0.01861429587006569    Test Loss :0.17723213136196136\n",
      "Epoch :0.02    Train Loss :0.01193243358284235    Test Loss :0.25457316637039185\n",
      "Epoch :0.03    Train Loss :0.009923559613525867    Test Loss :0.19284014403820038\n",
      "Epoch :0.04    Train Loss :0.008962872438132763    Test Loss :0.12565907835960388\n",
      "Epoch :0.05    Train Loss :0.00577475456520915    Test Loss :0.0962563306093216\n",
      "Epoch :0.06    Train Loss :0.0015596471494063735    Test Loss :0.010005585849285126\n",
      "Epoch :0.07    Train Loss :0.0008004165138117969    Test Loss :0.001729213516227901\n",
      "Epoch :0.08    Train Loss :0.0009112193947657943    Test Loss :0.004989201668649912\n",
      "Epoch :0.09    Train Loss :0.0004987037973478436    Test Loss :0.002247923519462347\n",
      "Epoch :0.1    Train Loss :0.00037238880759105086    Test Loss :0.0011634360998868942\n",
      "Epoch :0.11    Train Loss :0.0001357675646431744    Test Loss :0.0031108807306736708\n",
      "Epoch :0.12    Train Loss :0.0002369032590650022    Test Loss :0.0038666564505547285\n",
      "Epoch :0.13    Train Loss :0.0001291394146392122    Test Loss :0.0013221900444477797\n",
      "Epoch :0.14    Train Loss :0.0001446128881070763    Test Loss :0.0023750995751470327\n",
      "Epoch :0.15    Train Loss :0.00013715543900616467    Test Loss :0.004614817909896374\n",
      "Epoch :0.16    Train Loss :0.00011808298586402088    Test Loss :0.002678193151950836\n",
      "Epoch :0.17    Train Loss :0.00012490169319789857    Test Loss :0.00228296872228384\n",
      "Epoch :0.18    Train Loss :0.00011882969556609169    Test Loss :0.0030542640015482903\n",
      "Epoch :0.19    Train Loss :0.00011513591016409919    Test Loss :0.00238442444242537\n",
      "Epoch :0.2    Train Loss :0.00011600782454479486    Test Loss :0.0021145811770111322\n",
      "Epoch :0.21    Train Loss :0.00011448224540799856    Test Loss :0.0024787248112261295\n",
      "Epoch :0.22    Train Loss :0.00011341756180627272    Test Loss :0.0021754554472863674\n",
      "Epoch :0.23    Train Loss :0.00011296451702946797    Test Loss :0.002013222314417362\n",
      "Epoch :0.24    Train Loss :0.0001121641107602045    Test Loss :0.0021400046534836292\n",
      "Epoch :0.25    Train Loss :0.00011150413774885237    Test Loss :0.0019683330319821835\n",
      "Epoch :0.26    Train Loss :0.000110985929495655    Test Loss :0.0019004425266757607\n",
      "Epoch :0.27    Train Loss :0.00011038528464268893    Test Loss :0.0019317714031785727\n",
      "Epoch :0.28    Train Loss :0.00010976975318044424    Test Loss :0.0018226816318929195\n",
      "Epoch :0.29    Train Loss :0.00010918480256805196    Test Loss :0.001787443645298481\n",
      "Epoch :0.3    Train Loss :0.00010859286703635007    Test Loss :0.0017626956105232239\n",
      "Epoch :0.31    Train Loss :0.00010798825678648427    Test Loss :0.0016820115270093083\n",
      "Epoch :0.32    Train Loss :0.00010738446871982887    Test Loss :0.001647391589358449\n",
      "Epoch :0.33    Train Loss :0.00010678025864763185    Test Loss :0.0015972140245139599\n",
      "Epoch :0.34    Train Loss :0.00010617122461553663    Test Loss :0.0015364829450845718\n",
      "Epoch :0.35    Train Loss :0.00010555859626038    Test Loss :0.0014971188502386212\n",
      "Epoch :0.36    Train Loss :0.00010494383604964241    Test Loss :0.001443853136152029\n",
      "Epoch :0.37    Train Loss :0.0001043267548084259    Test Loss :0.0013964377576485276\n",
      "Epoch :0.38    Train Loss :0.00010370724339736626    Test Loss :0.0013540445361286402\n",
      "Epoch :0.39    Train Loss :0.00010308558557881042    Test Loss :0.001306222635321319\n",
      "Epoch :0.4    Train Loss :0.00010246221063425764    Test Loss :0.0012648719130083919\n",
      "Epoch :0.41    Train Loss :0.00010183732956647873    Test Loss :0.0012224498204886913\n",
      "Epoch :0.42    Train Loss :0.0001012111606542021    Test Loss :0.00118059606757015\n",
      "Epoch :0.43    Train Loss :0.00010058397310785949    Test Loss :0.0011416481574997306\n",
      "Epoch :0.44    Train Loss :9.9956028861925e-05    Test Loss :0.0011019137455150485\n",
      "Epoch :0.45    Train Loss :9.93275607470423e-05    Test Loss :0.001064351643435657\n",
      "Epoch :0.46    Train Loss :9.869880886981264e-05    Test Loss :0.0010275145759806037\n",
      "Epoch :0.47    Train Loss :9.807001333683729e-05    Test Loss :0.0009914161637425423\n",
      "Epoch :0.48    Train Loss :9.744140697875991e-05    Test Loss :0.0009568461100570858\n",
      "Epoch :0.49    Train Loss :9.681321535026655e-05    Test Loss :0.000922864128369838\n",
      "Epoch :0.5    Train Loss :9.618565673008561e-05    Test Loss :0.0008902225526981056\n",
      "Epoch :0.51    Train Loss :9.555898577673361e-05    Test Loss :0.0008585625910200179\n",
      "Epoch :0.52    Train Loss :9.493342804489657e-05    Test Loss :0.0008279081084765494\n",
      "Epoch :0.53    Train Loss :9.43091872613877e-05    Test Loss :0.0007983873365446925\n",
      "Epoch :0.54    Train Loss :9.36865180847235e-05    Test Loss :0.0007697614491917193\n",
      "Epoch :0.55    Train Loss :9.306562424171716e-05    Test Loss :0.0007422072812914848\n",
      "Epoch :0.56    Train Loss :9.244673856301233e-05    Test Loss :0.0007155998609960079\n",
      "Epoch :0.57    Train Loss :9.183011570712551e-05    Test Loss :0.0006899775471538305\n",
      "Epoch :0.58    Train Loss :9.121595212491229e-05    Test Loss :0.0006653216551057994\n",
      "Epoch :0.59    Train Loss :9.060450975084677e-05    Test Loss :0.0006415766547434032\n",
      "Epoch :0.6    Train Loss :8.999599231174216e-05    Test Loss :0.0006187715334817767\n",
      "Epoch :0.61    Train Loss :8.939066901803017e-05    Test Loss :0.0005968612967990339\n",
      "Epoch :0.62    Train Loss :8.878876542439684e-05    Test Loss :0.0005758473998866975\n",
      "Epoch :0.63    Train Loss :8.819052163744345e-05    Test Loss :0.0005556959076784551\n",
      "Epoch :0.64    Train Loss :8.759619959164411e-05    Test Loss :0.0005363936652429402\n",
      "Epoch :0.65    Train Loss :8.700603939360008e-05    Test Loss :0.0005179249565117061\n",
      "Epoch :0.66    Train Loss :8.642028114991263e-05    Test Loss :0.0005002616671845317\n",
      "Epoch :0.67    Train Loss :8.583917951909825e-05    Test Loss :0.0004833935236092657\n",
      "Epoch :0.68    Train Loss :8.526304736733437e-05    Test Loss :0.0004672909853979945\n",
      "Epoch :0.69    Train Loss :8.469208114547655e-05    Test Loss :0.0004519382491707802\n",
      "Epoch :0.7    Train Loss :8.412660099565983e-05    Test Loss :0.00043731232290156186\n",
      "Epoch :0.71    Train Loss :8.356681792065501e-05    Test Loss :0.0004233960644342005\n",
      "Epoch :0.72    Train Loss :8.301308116642758e-05    Test Loss :0.0004101604863535613\n",
      "Epoch :0.73    Train Loss :8.246560901170596e-05    Test Loss :0.0003975906001869589\n",
      "Epoch :0.74    Train Loss :8.19246779428795e-05    Test Loss :0.00038566390867345035\n",
      "Epoch :0.75    Train Loss :8.139057172229514e-05    Test Loss :0.000374356925021857\n",
      "Epoch :0.76    Train Loss :8.086355228442699e-05    Test Loss :0.00036364924744702876\n",
      "Epoch :0.77    Train Loss :8.034391794353724e-05    Test Loss :0.00035351942642591894\n",
      "Epoch :0.78    Train Loss :7.983189425431192e-05    Test Loss :0.0003439471183810383\n",
      "Epoch :0.79    Train Loss :7.932780135888606e-05    Test Loss :0.0003349065955262631\n",
      "Epoch :0.8    Train Loss :7.883181388024241e-05    Test Loss :0.00032638164702802896\n",
      "Epoch :0.81    Train Loss :7.83442665124312e-05    Test Loss :0.0003183475346304476\n",
      "Epoch :0.82    Train Loss :7.786531205056235e-05    Test Loss :0.0003107842640019953\n",
      "Epoch :0.83    Train Loss :7.73952342569828e-05    Test Loss :0.00030367181170731783\n",
      "Epoch :0.84    Train Loss :7.693419320276007e-05    Test Loss :0.00029698730213567615\n",
      "Epoch :0.85    Train Loss :7.648239989066496e-05    Test Loss :0.0002907132438849658\n",
      "Epoch :0.86    Train Loss :7.603998528793454e-05    Test Loss :0.0002848261792678386\n",
      "Epoch :0.87    Train Loss :7.560711674159393e-05    Test Loss :0.0002793105086311698\n",
      "Epoch :0.88    Train Loss :7.518389611504972e-05    Test Loss :0.00027414190117269754\n",
      "Epoch :0.89    Train Loss :7.477039616787806e-05    Test Loss :0.0002693076094146818\n",
      "Epoch :0.9    Train Loss :7.436667510773987e-05    Test Loss :0.00026478315703570843\n",
      "Epoch :0.91    Train Loss :7.397271110676229e-05    Test Loss :0.0002605556801427156\n",
      "Epoch :0.92    Train Loss :7.358850416494533e-05    Test Loss :0.00025660445680841804\n",
      "Epoch :0.93    Train Loss :7.321398152271286e-05    Test Loss :0.0002529147022869438\n",
      "Epoch :0.94    Train Loss :7.284904859261587e-05    Test Loss :0.0002494701184332371\n",
      "Epoch :0.95    Train Loss :7.249352347571403e-05    Test Loss :0.00024625411606393754\n",
      "Epoch :0.96    Train Loss :7.214726065285504e-05    Test Loss :0.00024325514095835388\n",
      "Epoch :0.97    Train Loss :7.18099981895648e-05    Test Loss :0.00024045487225521356\n"
     ]
    },
    {
     "name": "stdout",
     "output_type": "stream",
     "text": [
      "Epoch :0.98    Train Loss :7.148149597924203e-05    Test Loss :0.000237844287767075\n",
      "Epoch :0.99    Train Loss :7.116144115570933e-05    Test Loss :0.00023540810798294842\n",
      "Epoch :1.0    Train Loss :7.084951357683167e-05    Test Loss :0.0002331357536604628\n",
      "RMSE: 11.912035518716857\n",
      "MAE: 9.461597080171536\n",
      "MAPE: 8.730951254942683%\n",
      "total:  50.0\n",
      "RMSE: 11.912035518716857\n",
      "MAE: 9.461597080171536\n",
      "MAPE: 8.730951254942683\n",
      "{'batch_size': 1, 'dropout_rate': 0.0, 'epochs': 500, 'hid_size': 170, 'lr': 0.01, 'num_layers': 1}\n"
     ]
    },
    {
     "name": "stderr",
     "output_type": "stream",
     "text": [
      "C:\\Users\\alex\\AppData\\Local\\Temp\\ipykernel_1888\\101669459.py:65: FutureWarning: The frame.append method is deprecated and will be removed from pandas in a future version. Use pandas.concat instead.\n",
      "  model_parameters = model_parameters.append({'RMSE':RMSE,'MAE':MAE,'MAPE':MAPE,'Parameters':p},ignore_index=True)\n"
     ]
    },
    {
     "data": {
      "text/plain": [
       "<matplotlib.legend.Legend at 0x294a7114730>"
      ]
     },
     "execution_count": 705,
     "metadata": {},
     "output_type": "execute_result"
    },
    {
     "data": {
      "image/png": "[encoded data removed]",
      "text/plain": [
       "<Figure size 432x288 with 1 Axes>"
      ]
     },
     "metadata": {
      "needs_background": "light"
     },
     "output_type": "display_data"
    }
   ],
   "source": [
    "from sklearn.metrics import mean_squared_error, mean_absolute_error\n",
    "model_parameters = pd.DataFrame(columns = ['RMSE','Parameters'])\n",
    "best_rmse = np.inf\n",
    "best_prediction=None\n",
    "count = 0\n",
    "\n",
    "#{'batch_size': 32, 'dropout_rate': 0.5, 'epochs': 500, 'hid_size': 200, 'lr': 0.01, 'num_layers': 1}\n",
    "\n",
    "lstm = LSTM(in_dim = x.shape[-1],\n",
    "            hid_dim = 50,\n",
    "            out_dim = x.shape[-1],\n",
    "            dropout_rate= 0.0,\n",
    "            num_layers = 1)\n",
    "\n",
    "optimizer = torch.optim.Adam(lstm.parameters(), lr=0.01)\n",
    "\n",
    "loss_fun = nn.MSELoss()\n",
    "\n",
    "train_loss, test_loss = train_model(lstm,\n",
    "           loss_fun,\n",
    "           optimizer,\n",
    "           train_x,\n",
    "           test_x,\n",
    "           train_y,\n",
    "           test_y,\n",
    "           epochs=500)\n",
    "\n",
    "\n",
    "# testing the predction model on multiple time series\n",
    "last_x = train_x[-1].view(entradas)\n",
    "\n",
    "prediction_val = []\n",
    "\n",
    "while len(prediction_val)<len(test_y):\n",
    "    prediction = lstm(last_x.view(1,entradas,1))\n",
    "    prediction_val.append(prediction[0,0].item())\n",
    "\n",
    "\n",
    "    ## replace the predicted value in last x\n",
    "    last_x = torch.cat((last_x[1:],prediction[0]))\n",
    "\n",
    "# plot the result\n",
    "train_y_cp = scale.inverse_transform(train_y.detach().numpy())\n",
    "test_y_cp = scale.inverse_transform(test_y.detach().numpy())\n",
    "prediction_val = scale.inverse_transform(np.asarray(prediction_val).reshape(-1,1))\n",
    "\n",
    "y_true = test_y_cp\n",
    "y_pred = prediction_val\n",
    "\n",
    "RMSE = np.sqrt(mean_squared_error(y_true, y_pred))\n",
    "print(f'RMSE: {RMSE}')\n",
    "\n",
    "MAE = mean_absolute_error(y_true, y_pred)\n",
    "print(f'MAE: {MAE}')\n",
    "\n",
    "MAPE = np.mean(np.abs((y_true - y_pred) / y_true)) * 100\n",
    "print(f'MAPE: {MAPE}%')\n",
    "\n",
    "if RMSE < best_rmse:\n",
    "    best_rmse = RMSE\n",
    "    best_mae = MAE\n",
    "    best_mape = MAPE\n",
    "    best_prediction = y_pred\n",
    "\n",
    "model_parameters = model_parameters.append({'RMSE':RMSE,'MAE':MAE,'MAPE':MAPE,'Parameters':p},ignore_index=True)\n",
    "count += 1\n",
    "print(\"total: \" ,round(count/cnt,2)*100)\n",
    "\n",
    "parameters = model_parameters.sort_values(by=['RMSE'])\n",
    "parameters = parameters.reset_index(drop=True)\n",
    "print('RMSE:',parameters.loc[0, 'RMSE'])\n",
    "print('MAE:',parameters.loc[0, 'MAE'])\n",
    "print('MAPE:',parameters.loc[0, 'MAPE'])\n",
    "print(parameters.loc[0, 'Parameters'])\n",
    "plt.plot(datas['data'].iloc[:len(train_y_cp)],train_y_cp,label='Real treino', color = 'blue')\n",
    "plt.plot(datas['data'].iloc[len(train_y_cp):len(train_y_cp)+len(test_y_cp)],test_y_cp,label='Real teste', color = 'orange')\n",
    "plt.plot(datas['data'].iloc[len(train_y_cp):len(train_y_cp)+len(test_y_cp)],prediction_val,label='Predição',color = 'green')\n",
    "#plt.axvline(int(len(x)*0.8),color='red')\n",
    "plt.legend()"
   ]
  },
  {
   "cell_type": "code",
   "execution_count": null,
   "id": "53a18918",
   "metadata": {},
   "outputs": [],
   "source": [
    "import torch\n",
    "import torch.nn as nn\n",
    "\n",
    "# Suponha que você queira prever os próximos 10 passos de tempo\n",
    "num_steps = 10\n",
    "\n",
    "# Modifique seus dados de treinamento para refletir isso\n",
    "x, y = [], []\n",
    "for i in range(len(data) - num_steps):\n",
    "    x.append(data[i:i+num_steps])\n",
    "    y.append(data[i+1:i+num_steps+1])\n",
    "    \n",
    "train_x,train_y, test_x, test_y = split_data(x,y,0.8)\n",
    "\n",
    "train_x = torch.tensor(train_x, dtype=torch.float)\n",
    "train_y = torch.tensor(train_y, dtype=torch.float)\n",
    "test_x = torch.tensor(test_x, dtype=torch.float)\n",
    "test_y = torch.tensor(test_y, dtype=torch.float)\n",
    "\n",
    "# Defina seu modelo LSTM\n",
    "class LSTM(nn.Module):\n",
    "    def __init__(self, in_dim, hid_dim, feature_dim, num_layers, num_steps):\n",
    "        super(LSTM, self).__init__()\n",
    "        self.lstm = nn.LSTM(in_dim, hid_dim, num_layers, batch_first=True)\n",
    "        self.fc = nn.Linear(hid_dim, num_steps * feature_dim)\n",
    "        self.feature_dim = feature_dim\n",
    "        self.num_steps = num_steps\n",
    "\n",
    "    def forward(self, x):\n",
    "        out, _ = self.lstm(x)\n",
    "        out = self.fc(out[:, -1, :])\n",
    "        return out.view(x.size(0), self.num_steps, self.feature_dim)\n",
    "\n",
    "\n",
    "# Instancie o modelo\n",
    "#lstm = LSTM(in_dim=train_x.shape[-1], hid_dim=5, feature_dim=train_x.shape[-1], num_layers=3)\n",
    "lstm = LSTM(in_dim=train_x.shape[-1], hid_dim=5, feature_dim=train_x.shape[-1], num_layers=3, num_steps=num_steps)\n",
    "# Defina a função de perda e o otimizador\n",
    "criterion = nn.MSELoss()\n",
    "optimizer = torch.optim.Adam(lstm.parameters())\n",
    "\n",
    "# Treine o modelo\n",
    "for epoch in range(100):  # número de épocas\n",
    "    lstm.train()\n",
    "    optimizer.zero_grad()\n",
    "    outputs = lstm(train_x)\n",
    "    loss = criterion(outputs, train_y)\n",
    "    loss.backward()\n",
    "    optimizer.step()\n",
    "\n",
    "    if epoch % 10 == 0:\n",
    "        print(f'Epoch: {epoch}, Loss: {loss.item()}')\n",
    "\n",
    "# Durante a inferência, você pode alimentar o modelo com uma sequência de `num_steps` passos de tempo\n",
    "# e ele irá prever os próximos `num_steps` passos de tempo de uma vez\n",
    "lstm.eval()\n",
    "prediction_val = lstm(test_x)\n"
   ]
  },
  {
   "cell_type": "code",
   "execution_count": 189,
   "id": "8491808b",
   "metadata": {},
   "outputs": [],
   "source": [
    "import matplotlib.pyplot as plt\n",
    "# Converta a saída do tensor PyTorch para um array NumPy\n",
    "# plot the result\n",
    "train_y_cp = scale.inverse_transform(np.asarray(train_y[0]).reshape(-1,1))\n",
    "test_y_cp = scale.inverse_transform(np.asarray(test_y[0]).reshape(-1,1))\n",
    "prediction_val_cp = scale.inverse_transform(np.asarray(prediction_val[0].detach().numpy()).reshape(-1,1))\n",
    "data_cp = scale.inverse_transform(np.asarray(data).reshape(-1,1))\n",
    "\n"
   ]
  },
  {
   "cell_type": "code",
   "execution_count": 160,
   "id": "83300d69",
   "metadata": {},
   "outputs": [],
   "source": [
    "train_y_cp = np.asarray(train_y[-1]).reshape(-1,1)\n",
    "test_y_cp = np.asarray(test_y[-1]).reshape(-1,1)\n",
    "data_cp = data"
   ]
  },
  {
   "cell_type": "code",
   "execution_count": 190,
   "id": "516f7c8e",
   "metadata": {},
   "outputs": [
    {
     "data": {
      "text/plain": [
       "array([[ 52.577587 ],\n",
       "       [ 75.34177  ],\n",
       "       [ 64.56846  ],\n",
       "       [ 74.570885 ],\n",
       "       [ 68.47082  ],\n",
       "       [ 67.576416 ],\n",
       "       [ 67.779175 ],\n",
       "       [ 76.37376  ],\n",
       "       [ 68.07785  ],\n",
       "       [ 35.86038  ],\n",
       "       [ 28.88093  ],\n",
       "       [ 68.988304 ],\n",
       "       [ 80.360085 ],\n",
       "       [ 51.232994 ],\n",
       "       [ 67.61011  ],\n",
       "       [ 68.16122  ],\n",
       "       [ 50.49556  ],\n",
       "       [ 80.45557  ],\n",
       "       [ 68.29851  ],\n",
       "       [ 64.70509  ],\n",
       "       [ 36.38353  ],\n",
       "       [ 69.84884  ],\n",
       "       [ 58.74419  ],\n",
       "       [ 68.21084  ],\n",
       "       [ 68.129974 ],\n",
       "       [ 59.20064  ],\n",
       "       [ 47.81357  ],\n",
       "       [ 67.078445 ],\n",
       "       [ 75.09762  ],\n",
       "       [ 61.1828   ],\n",
       "       [ 59.07162  ],\n",
       "       [ 24.03544  ],\n",
       "       [ 41.10042  ],\n",
       "       [ 63.390705 ],\n",
       "       [ 79.346985 ],\n",
       "       [ 61.577393 ],\n",
       "       [ 70.281235 ],\n",
       "       [ 51.245113 ],\n",
       "       [ 72.65294  ],\n",
       "       [ 67.40604  ],\n",
       "       [ 25.382294 ],\n",
       "       [ 80.27316  ],\n",
       "       [ 66.75804  ],\n",
       "       [ 81.572296 ],\n",
       "       [ 17.918653 ],\n",
       "       [ -7.773189 ],\n",
       "       [ 66.18378  ],\n",
       "       [ 68.54278  ],\n",
       "       [ 71.461266 ],\n",
       "       [ 72.8039   ],\n",
       "       [ 30.257475 ],\n",
       "       [ 66.65523  ],\n",
       "       [ 13.91933  ],\n",
       "       [ 59.13743  ],\n",
       "       [ 71.708244 ],\n",
       "       [ 70.620346 ],\n",
       "       [ 52.491413 ],\n",
       "       [ 70.756134 ],\n",
       "       [ 62.585587 ],\n",
       "       [ 65.480446 ],\n",
       "       [ 46.047974 ],\n",
       "       [ 68.128586 ],\n",
       "       [  9.723944 ],\n",
       "       [ 26.298769 ],\n",
       "       [ 16.328363 ],\n",
       "       [ 60.73687  ],\n",
       "       [ 68.02581  ],\n",
       "       [ 64.43956  ],\n",
       "       [ 74.46333  ],\n",
       "       [ 70.22529  ],\n",
       "       [ 64.41298  ],\n",
       "       [ 24.445879 ],\n",
       "       [ 49.90561  ],\n",
       "       [ 78.62656  ],\n",
       "       [ 65.382965 ],\n",
       "       [ 68.14315  ],\n",
       "       [ 68.63309  ],\n",
       "       [ 59.76045  ],\n",
       "       [ 67.68217  ],\n",
       "       [ 59.566544 ],\n",
       "       [ 88.73799  ],\n",
       "       [ 67.68523  ],\n",
       "       [ 39.411896 ],\n",
       "       [ 57.332237 ],\n",
       "       [ 74.474045 ],\n",
       "       [ 75.27229  ],\n",
       "       [ 12.284519 ],\n",
       "       [ 41.186275 ],\n",
       "       [ 89.28975  ],\n",
       "       [ 49.113075 ],\n",
       "       [ 64.34493  ],\n",
       "       [ 69.63039  ],\n",
       "       [ 33.205772 ],\n",
       "       [ 29.448944 ],\n",
       "       [ 68.94544  ],\n",
       "       [ 71.09697  ],\n",
       "       [ 79.81877  ],\n",
       "       [ 35.703983 ],\n",
       "       [ 70.758446 ],\n",
       "       [ 28.44348  ],\n",
       "       [ 74.74791  ],\n",
       "       [ 79.45036  ],\n",
       "       [ 72.82508  ],\n",
       "       [ 73.901855 ],\n",
       "       [ 74.26519  ],\n",
       "       [ 67.27209  ],\n",
       "       [ 65.17359  ],\n",
       "       [ 23.464783 ],\n",
       "       [ 71.917496 ],\n",
       "       [ 72.36409  ],\n",
       "       [ 50.49395  ],\n",
       "       [ 72.739204 ],\n",
       "       [ 72.27679  ],\n",
       "       [-15.954197 ],\n",
       "       [ 53.74188  ],\n",
       "       [ 73.62009  ],\n",
       "       [ 26.26807  ],\n",
       "       [ 76.8895   ],\n",
       "       [ 19.723555 ],\n",
       "       [ 71.19826  ],\n",
       "       [ 68.255585 ],\n",
       "       [ 53.003124 ],\n",
       "       [ 66.08958  ],\n",
       "       [ 13.315963 ],\n",
       "       [ 76.81912  ],\n",
       "       [ 46.734688 ],\n",
       "       [ 68.99921  ],\n",
       "       [ 50.002846 ],\n",
       "       [ 78.26798  ],\n",
       "       [ 69.54814  ],\n",
       "       [ 37.361885 ],\n",
       "       [ 64.29567  ],\n",
       "       [ 70.5755   ],\n",
       "       [ 25.018457 ],\n",
       "       [ 52.0859   ],\n",
       "       [ 79.32027  ],\n",
       "       [ 66.71492  ],\n",
       "       [ 65.42351  ],\n",
       "       [ 79.015205 ],\n",
       "       [ 17.466812 ],\n",
       "       [ 71.087776 ],\n",
       "       [ 50.498753 ],\n",
       "       [ 65.689865 ],\n",
       "       [ 63.363297 ],\n",
       "       [ 11.291453 ],\n",
       "       [ 68.3124   ],\n",
       "       [ 60.01135  ],\n",
       "       [ 22.713823 ],\n",
       "       [ 38.097908 ],\n",
       "       [ 54.91224  ],\n",
       "       [ 75.371445 ],\n",
       "       [ 71.22586  ],\n",
       "       [ 51.467022 ],\n",
       "       [ 70.606895 ],\n",
       "       [ 53.16202  ],\n",
       "       [ 70.25152  ],\n",
       "       [ 57.434315 ],\n",
       "       [ 67.25142  ],\n",
       "       [ 68.55316  ],\n",
       "       [ 73.39031  ],\n",
       "       [ 75.58429  ],\n",
       "       [ 58.71336  ],\n",
       "       [ 27.673141 ],\n",
       "       [ 74.38605  ],\n",
       "       [ 59.28739  ],\n",
       "       [ 71.33808  ],\n",
       "       [ 15.094933 ],\n",
       "       [ 44.762833 ],\n",
       "       [ 68.91772  ],\n",
       "       [ 22.319786 ],\n",
       "       [ 52.7868   ],\n",
       "       [ 68.91384  ],\n",
       "       [ 70.325165 ],\n",
       "       [ 72.12192  ],\n",
       "       [ 56.200264 ],\n",
       "       [ 79.482956 ],\n",
       "       [ 80.78311  ],\n",
       "       [-14.1916685],\n",
       "       [ 29.147831 ],\n",
       "       [  8.27332  ],\n",
       "       [ 45.7217   ],\n",
       "       [ 53.440414 ],\n",
       "       [ 48.66122  ],\n",
       "       [ 70.22825  ],\n",
       "       [ 70.42693  ],\n",
       "       [ 75.54792  ],\n",
       "       [ 80.01411  ],\n",
       "       [ 62.036755 ],\n",
       "       [ 72.40648  ],\n",
       "       [ 53.664917 ],\n",
       "       [ 69.5377   ],\n",
       "       [ 64.85216  ],\n",
       "       [ 74.51875  ],\n",
       "       [ 46.41443  ],\n",
       "       [ 49.155    ],\n",
       "       [ 70.800476 ],\n",
       "       [ 76.58909  ],\n",
       "       [ 72.844795 ],\n",
       "       [ 57.14853  ],\n",
       "       [ 67.89614  ]], dtype=float32)"
      ]
     },
     "execution_count": 190,
     "metadata": {},
     "output_type": "execute_result"
    }
   ],
   "source": [
    "prediction_val_cp"
   ]
  },
  {
   "cell_type": "code",
   "execution_count": 139,
   "id": "5f0d7535",
   "metadata": {},
   "outputs": [],
   "source": [
    "data = scale.inverse_transform(np.asarray(data).reshape(-1,1))"
   ]
  },
  {
   "cell_type": "code",
   "execution_count": 685,
   "id": "9644ef57",
   "metadata": {},
   "outputs": [],
   "source": [
    "# implement GRU\n",
    "class GRU(nn.Module):\n",
    "    def __init__(self,in_dim, hid_dim, out_dim, num_layer):\n",
    "        super().__init__()\n",
    "        \n",
    "        self.in_dim = in_dim\n",
    "        self.hid_dim = hid_dim\n",
    "        self.out_dim = out_dim\n",
    "        self.layer = num_layers\n",
    "        \n",
    "        self.gru = nn.GRU(self.in_dim, self.hid_dim, self.layer, batch_first=True)\n",
    "        self.fc = nn.Linear(self.hid_dim, self.out_dim)\n",
    "        \n",
    "    def forward(self,x):\n",
    "        \n",
    "        # initalize the hidden layers\n",
    "        h0 = torch.zeros(self.layer, x.size(0), self.hid_dim)\n",
    "        \n",
    "        out, _ = self.gru(x,h0)\n",
    "        out = self.fc(out[:,-1,:])\n",
    "        return out"
   ]
  },
  {
   "cell_type": "code",
   "execution_count": 691,
   "id": "34a0bb2d",
   "metadata": {},
   "outputs": [],
   "source": [
    "# define the network\n",
    "in_size = x.shape[-1]\n",
    "out_size = in_size\n",
    "hid_size = 60\n",
    "num_layers =1\n",
    "\n",
    "gru = GRU(in_size,hid_size,out_size, num_layers)\n",
    "\n",
    "optimizer = torch.optim.Adam(gru.parameters(), lr=0.01)\n",
    "loss_fun = nn.MSELoss()"
   ]
  },
  {
   "cell_type": "code",
   "execution_count": 692,
   "id": "15c2ca56",
   "metadata": {},
   "outputs": [
    {
     "name": "stdout",
     "output_type": "stream",
     "text": [
      "Epoch :0.01    Train Loss :0.021962763741612434    Test Loss :0.30210232734680176\n",
      "Epoch :0.02    Train Loss :0.011096998117864132    Test Loss :0.12744174897670746\n",
      "Epoch :0.03    Train Loss :0.00758646335452795    Test Loss :0.16319875419139862\n",
      "Epoch :0.04    Train Loss :0.005451171658933163    Test Loss :0.0900878831744194\n",
      "Epoch :0.05    Train Loss :0.0024549849331378937    Test Loss :0.01755501888692379\n",
      "Epoch :0.06    Train Loss :0.00029868545243516564    Test Loss :0.022898510098457336\n",
      "Epoch :0.07    Train Loss :0.0006662888918071985    Test Loss :0.0003249711880926043\n",
      "Epoch :0.08    Train Loss :0.000270019838353619    Test Loss :0.006337831262499094\n",
      "Epoch :0.09    Train Loss :0.00029022875241935253    Test Loss :0.00353198847733438\n",
      "Epoch :0.1    Train Loss :0.00010807515354827046    Test Loss :0.0012068354990333319\n",
      "Epoch :0.11    Train Loss :0.0001690733915893361    Test Loss :0.0009154008002951741\n",
      "Epoch :0.12    Train Loss :0.00013641173427458853    Test Loss :0.0003150766424369067\n",
      "Epoch :0.13    Train Loss :9.230131399817765e-05    Test Loss :0.0010367583017796278\n",
      "Epoch :0.14    Train Loss :9.883909660857171e-05    Test Loss :0.0008173501119017601\n",
      "Epoch :0.15    Train Loss :8.874448394635692e-05    Test Loss :0.000562493281904608\n",
      "Epoch :0.16    Train Loss :8.877444633981213e-05    Test Loss :0.00028540065977722406\n",
      "Epoch :0.17    Train Loss :8.217194408643991e-05    Test Loss :0.000320605409797281\n",
      "Epoch :0.18    Train Loss :8.129032357828692e-05    Test Loss :0.0005504949949681759\n",
      "Epoch :0.19    Train Loss :8.043566049309447e-05    Test Loss :0.0004571833123918623\n",
      "Epoch :0.2    Train Loss :7.784722401993349e-05    Test Loss :0.0003287619911134243\n",
      "Epoch :0.21    Train Loss :7.760582957416773e-05    Test Loss :0.00032279835431836545\n",
      "Epoch :0.22    Train Loss :7.608167652506381e-05    Test Loss :0.000349892710801214\n",
      "Epoch :0.23    Train Loss :7.535457552876323e-05    Test Loss :0.000350783986505121\n",
      "Epoch :0.24    Train Loss :7.439588807756081e-05    Test Loss :0.00032630530768074095\n",
      "Epoch :0.25    Train Loss :7.35659123165533e-05    Test Loss :0.0003034088877029717\n",
      "Epoch :0.26    Train Loss :7.276793621713296e-05    Test Loss :0.0002979555865749717\n",
      "Epoch :0.27    Train Loss :7.198704406619072e-05    Test Loss :0.0002990604261867702\n",
      "Epoch :0.28    Train Loss :7.125116098904982e-05    Test Loss :0.00029050916782580316\n",
      "Epoch :0.29    Train Loss :7.052784349070862e-05    Test Loss :0.00027731212321668863\n",
      "Epoch :0.3    Train Loss :6.983644561842084e-05    Test Loss :0.00027026073075830936\n",
      "Epoch :0.31    Train Loss :6.916459096828476e-05    Test Loss :0.0002666850050445646\n",
      "Epoch :0.32    Train Loss :6.851567741250619e-05    Test Loss :0.0002603459870442748\n",
      "Epoch :0.33    Train Loss :6.788760947529227e-05    Test Loss :0.0002528295444790274\n",
      "Epoch :0.34    Train Loss :6.727939035044983e-05    Test Loss :0.0002475753426551819\n",
      "Epoch :0.35    Train Loss :6.669077993137762e-05    Test Loss :0.0002433076879242435\n",
      "Epoch :0.36    Train Loss :6.612097058678046e-05    Test Loss :0.00023803625663276762\n",
      "Epoch :0.37    Train Loss :6.556887092301622e-05    Test Loss :0.0002327508555026725\n",
      "Epoch :0.38    Train Loss :6.503438635263592e-05    Test Loss :0.0002286300150444731\n",
      "Epoch :0.39    Train Loss :6.451649824157357e-05    Test Loss :0.00022495543817058206\n",
      "Epoch :0.4    Train Loss :6.401472637662664e-05    Test Loss :0.00022096201428212225\n",
      "Epoch :0.41    Train Loss :6.352847412927076e-05    Test Loss :0.00021706665575038642\n",
      "Epoch :0.42    Train Loss :6.305715214693919e-05    Test Loss :0.000213682244066149\n",
      "Epoch :0.43    Train Loss :6.260019290493801e-05    Test Loss :0.00021055896650068462\n",
      "Epoch :0.44    Train Loss :6.215707981027663e-05    Test Loss :0.00020748653332702816\n",
      "Epoch :0.45    Train Loss :6.172725989017636e-05    Test Loss :0.00020459671213757247\n",
      "Epoch :0.46    Train Loss :6.131025293143466e-05    Test Loss :0.00020195289107505232\n",
      "Epoch :0.47    Train Loss :6.0905582358827814e-05    Test Loss :0.00019944731320720166\n",
      "Epoch :0.48    Train Loss :6.0512775235110894e-05    Test Loss :0.00019704806618392467\n",
      "Epoch :0.49    Train Loss :6.013138408889063e-05    Test Loss :0.00019480824994388968\n",
      "Epoch :0.5    Train Loss :5.976098691462539e-05    Test Loss :0.0001927236298797652\n",
      "Epoch :0.51    Train Loss :5.94011798966676e-05    Test Loss :0.00019075190357398242\n",
      "Epoch :0.52    Train Loss :5.905157377128489e-05    Test Loss :0.0001888910192064941\n",
      "Epoch :0.53    Train Loss :5.871176108485088e-05    Test Loss :0.00018714943144004792\n",
      "Epoch :0.54    Train Loss :5.838141805725172e-05    Test Loss :0.00018551321409177035\n",
      "Epoch :0.55    Train Loss :5.8060180890606716e-05    Test Loss :0.00018396848463453352\n",
      "Epoch :0.56    Train Loss :5.774772580480203e-05    Test Loss :0.0001825145009206608\n",
      "Epoch :0.57    Train Loss :5.744373629568145e-05    Test Loss :0.0001811479014577344\n",
      "Epoch :0.58    Train Loss :5.714789585908875e-05    Test Loss :0.0001798598823370412\n",
      "Epoch :0.59    Train Loss :5.685992437065579e-05    Test Loss :0.00017864498659037054\n",
      "Epoch :0.6    Train Loss :5.657953806803562e-05    Test Loss :0.0001775004348019138\n",
      "Epoch :0.61    Train Loss :5.630648593069054e-05    Test Loss :0.0001764212065609172\n",
      "Epoch :0.62    Train Loss :5.604050602414645e-05    Test Loss :0.00017540187400300056\n",
      "Epoch :0.63    Train Loss :5.578134368988685e-05    Test Loss :0.00017443919205106795\n",
      "Epoch :0.64    Train Loss :5.5528773373225704e-05    Test Loss :0.00017352981376461685\n",
      "Epoch :0.65    Train Loss :5.5282580433413386e-05    Test Loss :0.00017266948998440057\n",
      "Epoch :0.66    Train Loss :5.504254295374267e-05    Test Loss :0.00017185490287374705\n",
      "Epoch :0.67    Train Loss :5.4808453569421545e-05    Test Loss :0.00017108352039940655\n",
      "Epoch :0.68    Train Loss :5.458011582959443e-05    Test Loss :0.00017035201017279178\n",
      "Epoch :0.69    Train Loss :5.4357340559363365e-05    Test Loss :0.00016965770919341594\n",
      "Epoch :0.7    Train Loss :5.4139960411703214e-05    Test Loss :0.00016899817273952067\n",
      "Epoch :0.71    Train Loss :5.3927782573737204e-05    Test Loss :0.00016837104340083897\n",
      "Epoch :0.72    Train Loss :5.3720657888334244e-05    Test Loss :0.00016777403652668\n",
      "Epoch :0.73    Train Loss :5.351840445655398e-05    Test Loss :0.00016720521671231836\n",
      "Epoch :0.74    Train Loss :5.332090222509578e-05    Test Loss :0.0001666624448262155\n",
      "Epoch :0.75    Train Loss :5.312798384693451e-05    Test Loss :0.00016614407650195062\n",
      "Epoch :0.76    Train Loss :5.2939507440896705e-05    Test Loss :0.00016564849647693336\n",
      "Epoch :0.77    Train Loss :5.2755338401766494e-05    Test Loss :0.0001651740458328277\n",
      "Epoch :0.78    Train Loss :5.257536031422205e-05    Test Loss :0.00016471931303385645\n",
      "Epoch :0.79    Train Loss :5.239943493506871e-05    Test Loss :0.00016428301751147956\n",
      "Epoch :0.8    Train Loss :5.2227445848984644e-05    Test Loss :0.00016386396600864828\n",
      "Epoch :0.81    Train Loss :5.2059273002669215e-05    Test Loss :0.00016346090706065297\n",
      "Epoch :0.82    Train Loss :5.189482544665225e-05    Test Loss :0.00016307280748151243\n",
      "Epoch :0.83    Train Loss :5.17339794896543e-05    Test Loss :0.0001626987213967368\n",
      "Epoch :0.84    Train Loss :5.157663326826878e-05    Test Loss :0.00016233768837992102\n",
      "Epoch :0.85    Train Loss :5.1422688557067886e-05    Test Loss :0.00016198898083530366\n",
      "Epoch :0.86    Train Loss :5.1272043492645025e-05    Test Loss :0.00016165168199222535\n",
      "Epoch :0.87    Train Loss :5.11246471432969e-05    Test Loss :0.00016132518067024648\n",
      "Epoch :0.88    Train Loss :5.0980346713913605e-05    Test Loss :0.00016100890934467316\n",
      "Epoch :0.89    Train Loss :5.083910218672827e-05    Test Loss :0.0001607020676601678\n",
      "Epoch :0.9    Train Loss :5.070082625024952e-05    Test Loss :0.00016040429181884974\n",
      "Epoch :0.91    Train Loss :5.05654388689436e-05    Test Loss :0.0001601149997441098\n",
      "Epoch :0.92    Train Loss :5.043284545536153e-05    Test Loss :0.00015983378398232162\n",
      "Epoch :0.93    Train Loss :5.030300235375762e-05    Test Loss :0.00015956016432028264\n",
      "Epoch :0.94    Train Loss :5.017581133870408e-05    Test Loss :0.0001592938060639426\n",
      "Epoch :0.95    Train Loss :5.005122147849761e-05    Test Loss :0.00015903440362308174\n",
      "Epoch :0.96    Train Loss :4.992916728951968e-05    Test Loss :0.00015878160775173455\n",
      "Epoch :0.97    Train Loss :4.980957237421535e-05    Test Loss :0.00015853512741159648\n"
     ]
    },
    {
     "name": "stdout",
     "output_type": "stream",
     "text": [
      "Epoch :0.98    Train Loss :4.9692393076838925e-05    Test Loss :0.00015829478797968477\n",
      "Epoch :0.99    Train Loss :4.957755299983546e-05    Test Loss :0.0001580602693138644\n",
      "Epoch :1.0    Train Loss :4.946500121150166e-05    Test Loss :0.00015783141134306788\n"
     ]
    }
   ],
   "source": [
    "train_loss, test_loss = train_model(gru,\n",
    "               loss_fun,\n",
    "               optimizer,\n",
    "               train_x,\n",
    "               test_x,\n",
    "               train_y,\n",
    "               test_y,\n",
    "               epochs=500)"
   ]
  },
  {
   "cell_type": "code",
   "execution_count": 693,
   "id": "fa088c6a",
   "metadata": {},
   "outputs": [
    {
     "data": {
      "text/plain": [
       "<matplotlib.legend.Legend at 0x294a7706b20>"
      ]
     },
     "execution_count": 693,
     "metadata": {},
     "output_type": "execute_result"
    },
    {
     "data": {
      "image/png": "[encoded data removed]",
      "text/plain": [
       "<Figure size 432x288 with 1 Axes>"
      ]
     },
     "metadata": {
      "needs_background": "light"
     },
     "output_type": "display_data"
    }
   ],
   "source": [
    "plt.plot(train_loss,label='Train_loss')\n",
    "plt.plot(test_loss,label='Test Loss')\n",
    "plt.legend()"
   ]
  },
  {
   "cell_type": "code",
   "execution_count": 694,
   "id": "3b0e430a",
   "metadata": {},
   "outputs": [
    {
     "data": {
      "text/plain": [
       "<matplotlib.legend.Legend at 0x294a776b8e0>"
      ]
     },
     "execution_count": 694,
     "metadata": {},
     "output_type": "execute_result"
    },
    {
     "data": {
      "image/png": "[encoded data removed]",
      "text/plain": [
       "<Figure size 432x288 with 1 Axes>"
      ]
     },
     "metadata": {
      "needs_background": "light"
     },
     "output_type": "display_data"
    }
   ],
   "source": [
    "# testing the prediction quality if the trained model\n",
    "# 1) Multi Step prediction\n",
    "#plt.plot(train_y.detach().numpy())\n",
    "plt.plot(np.vstack((train_y.detach().numpy(),test_y.detach().numpy())),label='Target')\n",
    "plt.plot(np.vstack((train_y.detach().numpy(),gru(test_x).detach().numpy())),label='Predition')\n",
    "plt.axvline(int(len(x)*0.7))\n",
    "plt.legend()"
   ]
  },
  {
   "cell_type": "code",
   "execution_count": 695,
   "id": "9380609a",
   "metadata": {},
   "outputs": [
    {
     "data": {
      "text/plain": [
       "<matplotlib.legend.Legend at 0x294a8e572b0>"
      ]
     },
     "execution_count": 695,
     "metadata": {},
     "output_type": "execute_result"
    },
    {
     "data": {
      "image/png": "[encoded data removed]",
      "text/plain": [
       "<Figure size 432x288 with 1 Axes>"
      ]
     },
     "metadata": {
      "needs_background": "light"
     },
     "output_type": "display_data"
    }
   ],
   "source": [
    "# testing the predction model on multiple time series\n",
    "last_x = train_x[-1].view(10)\n",
    "\n",
    "prediction_val = []\n",
    "\n",
    "while len(prediction_val)<len(test_y):\n",
    "    prediction = gru(last_x.view(1,10,1))\n",
    "    prediction_val.append(prediction[0,0].item())\n",
    "    \n",
    "    \n",
    "    ## replace the predicted value in last x\n",
    "    last_x = torch.cat((last_x[1:],prediction[0]))\n",
    "    \n",
    "# plot the result\n",
    "plt.plot(np.vstack((train_y.detach().numpy(),test_y.detach().numpy())),label='Target')\n",
    "plt.plot(np.vstack((train_y.detach().numpy(),np.asarray(prediction_val).reshape(-1,1))),label='Predition')\n",
    "plt.axvline(int(len(x)*0.7),color='red')\n",
    "plt.legend()"
   ]
  },
  {
   "cell_type": "code",
   "execution_count": null,
   "id": "7251a6c0",
   "metadata": {},
   "outputs": [],
   "source": []
  }
 ],
 "metadata": {
  "kernelspec": {
   "display_name": "Python 3 (ipykernel)",
   "language": "python",
   "name": "python3"
  },
  "language_info": {
   "codemirror_mode": {
    "name": "ipython",
    "version": 3
   },
   "file_extension": ".py",
   "mimetype": "text/x-python",
   "name": "python",
   "nbconvert_exporter": "python",
   "pygments_lexer": "ipython3",
   "version": "3.9.12"
  }
 },
 "nbformat": 4,
 "nbformat_minor": 5
}
