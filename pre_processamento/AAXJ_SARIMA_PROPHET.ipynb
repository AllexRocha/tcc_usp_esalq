{
 "cells": [
  {
   "cell_type": "markdown",
   "id": "816d7557",
   "metadata": {},
   "source": [
    "# AAXJ"
   ]
  },
  {
   "cell_type": "markdown",
   "id": "c7a0f77d",
   "metadata": {},
   "source": [
    "## Lendo arquivo de dados Ibovespa"
   ]
  },
  {
   "cell_type": "code",
   "execution_count": 1,
   "id": "c71fb2e4",
   "metadata": {},
   "outputs": [],
   "source": [
    "import pandas as pd\n",
    "\n",
    "def ler_csv(caminho_arquivo):\n",
    "    return pd.read_csv(caminho_arquivo, sep=',',usecols=[0,1], decimal=',', header=0)\n",
    "\n",
    "df = ler_csv('dados/AAXJ.csv')"
   ]
  },
  {
   "cell_type": "markdown",
   "id": "3e7be6ab",
   "metadata": {},
   "source": [
    "## Pré - tratamento dos dados"
   ]
  },
  {
   "cell_type": "code",
   "execution_count": 2,
   "id": "a05feef7",
   "metadata": {},
   "outputs": [],
   "source": [
    "def df_tratamento_dados(df):\n",
    "    df = df.rename(columns={'Data':'data','Último': 'value'})\n",
    "    df['data'] = pd.to_datetime(df['data'], format='%d.%m.%Y')\n",
    "    df = df.sort_values(by='data')\n",
    "    # Completando dados\n",
    "    # Crie um novo DataFrame com um intervalo completo de datas\n",
    "    data_inicio = df['data'].min()  # Data de início\n",
    "    data_fim = df['data'].max()  \n",
    "    datas_completas = pd.date_range(start=data_inicio, end=data_fim, freq='D')\n",
    "    # Crie um novo DataFrame com o intervalo completo de datas\n",
    "    df_completo = pd.DataFrame(datas_completas, columns=['data'])# Faça um merge com o dataframe original\n",
    "\n",
    "    df = df_completo.merge(df, on='data', how='left')\n",
    "    df = df.sort_values(by='data')\n",
    "\n",
    "    \n",
    "    df['value'] = pd.to_numeric(df['value'], errors='coerce')\n",
    "    df.index = pd.to_datetime(df['data'])\n",
    "    # Interpolação linear\n",
    "    df['value'] = df['value'].interpolate(method='linear')\n",
    "    df.set_index('data', inplace=True)\n",
    "    df.sort_index(ascending=True, inplace=True)\n",
    "    df = df.asfreq('D')\n",
    "    return df"
   ]
  },
  {
   "cell_type": "code",
   "execution_count": 3,
   "id": "697a2198",
   "metadata": {},
   "outputs": [],
   "source": [
    "df_arima = df_tratamento_dados(df)"
   ]
  },
  {
   "cell_type": "markdown",
   "id": "7289118c",
   "metadata": {},
   "source": [
    "# Separando os dados de treino e de teste"
   ]
  },
  {
   "cell_type": "code",
   "execution_count": 4,
   "id": "cef3e627",
   "metadata": {},
   "outputs": [
    {
     "name": "stdout",
     "output_type": "stream",
     "text": [
      "4086\n",
      "1022\n"
     ]
    }
   ],
   "source": [
    "def split(df_arima, perc):\n",
    "    train = df_arima[:int(len(df_arima)*perc)]\n",
    "    test = df_arima[len(train):]\n",
    "    print(len(train))\n",
    "    print(len(test))\n",
    "    return train, test\n",
    "\n",
    "arima_train, arima_test = split(df_arima, 0.8)"
   ]
  },
  {
   "cell_type": "code",
   "execution_count": 294,
   "id": "cf9e907a",
   "metadata": {},
   "outputs": [
    {
     "data": {
      "text/html": [
       "<div>\n",
       "<style scoped>\n",
       "    .dataframe tbody tr th:only-of-type {\n",
       "        vertical-align: middle;\n",
       "    }\n",
       "\n",
       "    .dataframe tbody tr th {\n",
       "        vertical-align: top;\n",
       "    }\n",
       "\n",
       "    .dataframe thead th {\n",
       "        text-align: right;\n",
       "    }\n",
       "</style>\n",
       "<table border=\"1\" class=\"dataframe\">\n",
       "  <thead>\n",
       "    <tr style=\"text-align: right;\">\n",
       "      <th></th>\n",
       "      <th>value</th>\n",
       "    </tr>\n",
       "    <tr>\n",
       "      <th>data</th>\n",
       "      <th></th>\n",
       "    </tr>\n",
       "  </thead>\n",
       "  <tbody>\n",
       "    <tr>\n",
       "      <th>2010-01-04</th>\n",
       "      <td>4.046029</td>\n",
       "    </tr>\n",
       "    <tr>\n",
       "      <th>2010-01-05</th>\n",
       "      <td>4.057162</td>\n",
       "    </tr>\n",
       "    <tr>\n",
       "      <th>2010-01-06</th>\n",
       "      <td>4.056296</td>\n",
       "    </tr>\n",
       "    <tr>\n",
       "      <th>2010-01-07</th>\n",
       "      <td>4.051437</td>\n",
       "    </tr>\n",
       "    <tr>\n",
       "      <th>2010-01-08</th>\n",
       "      <td>4.055430</td>\n",
       "    </tr>\n",
       "    <tr>\n",
       "      <th>...</th>\n",
       "      <td>...</td>\n",
       "    </tr>\n",
       "    <tr>\n",
       "      <th>2021-03-08</th>\n",
       "      <td>4.517540</td>\n",
       "    </tr>\n",
       "    <tr>\n",
       "      <th>2021-03-09</th>\n",
       "      <td>4.540952</td>\n",
       "    </tr>\n",
       "    <tr>\n",
       "      <th>2021-03-10</th>\n",
       "      <td>4.534533</td>\n",
       "    </tr>\n",
       "    <tr>\n",
       "      <th>2021-03-11</th>\n",
       "      <td>4.565077</td>\n",
       "    </tr>\n",
       "    <tr>\n",
       "      <th>2021-03-12</th>\n",
       "      <td>4.544039</td>\n",
       "    </tr>\n",
       "  </tbody>\n",
       "</table>\n",
       "<p>4086 rows × 1 columns</p>\n",
       "</div>"
      ],
      "text/plain": [
       "               value\n",
       "data                \n",
       "2010-01-04  4.046029\n",
       "2010-01-05  4.057162\n",
       "2010-01-06  4.056296\n",
       "2010-01-07  4.051437\n",
       "2010-01-08  4.055430\n",
       "...              ...\n",
       "2021-03-08  4.517540\n",
       "2021-03-09  4.540952\n",
       "2021-03-10  4.534533\n",
       "2021-03-11  4.565077\n",
       "2021-03-12  4.544039\n",
       "\n",
       "[4086 rows x 1 columns]"
      ]
     },
     "execution_count": 294,
     "metadata": {},
     "output_type": "execute_result"
    }
   ],
   "source": [
    "arima_train"
   ]
  },
  {
   "cell_type": "markdown",
   "id": "d05bd4b8",
   "metadata": {},
   "source": [
    "## Decompondo a série"
   ]
  },
  {
   "cell_type": "code",
   "execution_count": 295,
   "id": "35ff53de",
   "metadata": {},
   "outputs": [
    {
     "data": {
      "image/png": "[encoded data removed]",
      "text/plain": [
       "<Figure size 432x288 with 4 Axes>"
      ]
     },
     "metadata": {
      "needs_background": "light"
     },
     "output_type": "display_data"
    }
   ],
   "source": [
    "from statsmodels.tsa.seasonal import seasonal_decompose\n",
    "import matplotlib.pyplot as plt\n",
    "result = seasonal_decompose(df_arima, model='additive',period=365,extrapolate_trend='freq')\n",
    "result.plot()\n",
    "plt.show()"
   ]
  },
  {
   "cell_type": "markdown",
   "id": "7e7f097a",
   "metadata": {},
   "source": [
    "## Verificando estacionariedade da série e da componente sasonal"
   ]
  },
  {
   "cell_type": "code",
   "execution_count": 296,
   "id": "174fdd40",
   "metadata": {},
   "outputs": [],
   "source": [
    "from statsmodels.tsa.stattools import adfuller\n",
    "import numpy as np\n",
    "def check_stationarity(df):\n",
    "    dftest = adfuller(df)\n",
    "    adf = dftest[0]\n",
    "    pvalue = dftest[1]\n",
    "    critical_value = dftest[4]['5%']\n",
    "    if (pvalue < 0.05) and (adf < critical_value):\n",
    "        print('The series is stationary')\n",
    "    else:\n",
    "        print('The series is NOT stationary')"
   ]
  },
  {
   "cell_type": "code",
   "execution_count": 297,
   "id": "ac7098d3",
   "metadata": {},
   "outputs": [
    {
     "name": "stdout",
     "output_type": "stream",
     "text": [
      "The series is stationary\n"
     ]
    }
   ],
   "source": [
    "# Componente sasonal\n",
    "seasonal = result.seasonal\n",
    "check_stationarity(seasonal)"
   ]
  },
  {
   "cell_type": "code",
   "execution_count": 298,
   "id": "49cfb78c",
   "metadata": {},
   "outputs": [
    {
     "name": "stdout",
     "output_type": "stream",
     "text": [
      "The series is NOT stationary\n"
     ]
    }
   ],
   "source": [
    "# série temporal\n",
    "check_stationarity(arima_train['value'])"
   ]
  },
  {
   "cell_type": "markdown",
   "id": "9447f67f",
   "metadata": {},
   "source": [
    "## Plotando os gráficos de ACF e PCF da série"
   ]
  },
  {
   "cell_type": "code",
   "execution_count": 299,
   "id": "9f754500",
   "metadata": {},
   "outputs": [
    {
     "data": {
      "image/png": "[encoded data removed]",
      "text/plain": [
       "<Figure size 432x288 with 1 Axes>"
      ]
     },
     "metadata": {
      "needs_background": "light"
     },
     "output_type": "display_data"
    },
    {
     "data": {
      "image/png": "[encoded data removed]",
      "text/plain": [
       "<Figure size 432x288 with 1 Axes>"
      ]
     },
     "metadata": {
      "needs_background": "light"
     },
     "output_type": "display_data"
    }
   ],
   "source": [
    "from statsmodels.graphics.tsaplots import plot_acf, plot_pacf\n",
    "plot_pacf(arima_train.diff().dropna(), lags =12)\n",
    "plt.show()\n",
    "plot_acf(arima_train.diff().dropna(), lags =12)\n",
    "plt.show()"
   ]
  },
  {
   "cell_type": "code",
   "execution_count": 300,
   "id": "f6c40c04",
   "metadata": {},
   "outputs": [
    {
     "data": {
      "image/png": "[encoded data removed]",
      "text/plain": [
       "<Figure size 432x288 with 1 Axes>"
      ]
     },
     "metadata": {
      "needs_background": "light"
     },
     "output_type": "display_data"
    },
    {
     "data": {
      "image/png": "[encoded data removed]",
      "text/plain": [
       "<Figure size 432x288 with 1 Axes>"
      ]
     },
     "metadata": {
      "needs_background": "light"
     },
     "output_type": "display_data"
    }
   ],
   "source": [
    "from statsmodels.graphics.tsaplots import plot_acf, plot_pacf\n",
    "plot_pacf(seasonal, lags =12)\n",
    "plt.show()\n",
    "plot_acf(seasonal, lags =12)\n",
    "plt.show()"
   ]
  },
  {
   "cell_type": "markdown",
   "id": "4df62281",
   "metadata": {},
   "source": [
    "#### Analisando os gráficos pode ser visto que uma possível configuração pode ser pdq = 1,1,1 e PDQ = 0,0,1"
   ]
  },
  {
   "cell_type": "code",
   "execution_count": 5,
   "id": "10ea93a1",
   "metadata": {},
   "outputs": [],
   "source": [
    "ACF_PACF_config = [(0,1,0),(6,0,0, 12),'n']"
   ]
  },
  {
   "cell_type": "markdown",
   "id": "5f3acf4b",
   "metadata": {},
   "source": [
    "# Parâmetros com auto arima"
   ]
  },
  {
   "cell_type": "code",
   "execution_count": 6,
   "id": "f0f45a62",
   "metadata": {},
   "outputs": [],
   "source": [
    "from pmdarima import auto_arima\n",
    "\n",
    "# Suponha que 'data' seja a sua série temporal\n",
    "auto_arima_config = auto_arima(arima_train, seasonal=True, m=12)  # m é o período da sazonalidade"
   ]
  },
  {
   "cell_type": "code",
   "execution_count": 7,
   "id": "6349ead9",
   "metadata": {},
   "outputs": [
    {
     "data": {
      "text/plain": [
       "[(0, 1, 0), (0, 0, 0, 12), 'n']"
      ]
     },
     "execution_count": 7,
     "metadata": {},
     "output_type": "execute_result"
    }
   ],
   "source": [
    "# Obter os parâmetros 'order' e 'seasonal_order'\n",
    "order = auto_arima_config.order\n",
    "seasonal_order = auto_arima_config.seasonal_order\n",
    "auto_arima_config = [order,seasonal_order,'n']\n",
    "auto_arima_config"
   ]
  },
  {
   "cell_type": "markdown",
   "id": "045ed5b9",
   "metadata": {},
   "source": [
    "##### O Auto Arima retornou como parãmetros pdq = 0,1,0 e PDQ = 0,0,0"
   ]
  },
  {
   "cell_type": "markdown",
   "id": "e5426ed8",
   "metadata": {},
   "source": [
    "# Parâmetros com grid search"
   ]
  },
  {
   "cell_type": "markdown",
   "id": "493d86f5",
   "metadata": {},
   "source": [
    "## Carregando funções"
   ]
  },
  {
   "cell_type": "code",
   "execution_count": 11,
   "id": "386b2a96",
   "metadata": {},
   "outputs": [
    {
     "data": {
      "text/plain": [
       "256"
      ]
     },
     "execution_count": 11,
     "metadata": {},
     "output_type": "execute_result"
    }
   ],
   "source": [
    "import itertools\n",
    "def sarima_parameter_search(inicio,search_range, seasonal = [12]):\n",
    "    \"\"\"\n",
    "    Get all of the parameter combinations for a SARIMA model.\n",
    "    \"\"\"\n",
    "    p = q = d = range(inicio, search_range)\n",
    "    trend = ['n','c','t','ct']\n",
    "    pdq = list(itertools.product(p, d, q))\n",
    "    pdq_combinations = [(x[0], x[1], x[2], x[3], x[4]) for x in list(itertools.product(p, d, q, seasonal, trend))]\n",
    "    return pdq, pdq_combinations\n",
    "\n",
    "### EXECUTE IN MAIN FUNCTION ###\n",
    "order_combos, seasonal_order_combos = sarima_parameter_search(inicio=0, search_range = 2)\n",
    "total = len(order_combos)*len(seasonal_order_combos)\n",
    "total"
   ]
  },
  {
   "cell_type": "code",
   "execution_count": 12,
   "id": "0e2b03f4",
   "metadata": {},
   "outputs": [],
   "source": [
    "import numpy as np\n",
    "from statsmodels.tsa.statespace.sarimax import SARIMAX\n",
    "from statsmodels.tsa.arima.model import ARIMA\n",
    "from sklearn.metrics import mean_squared_error\n",
    "from sklearn.metrics import mean_absolute_error, mean_absolute_percentage_error\n",
    "def seasonal_arima_model(time_series=None, order=None, seasonal_order=None, trend=None, steps=None, modo=None):\n",
    "    \"\"\"\n",
    "    Generate a seasonal ARIMA model using a set of hyperparameters. Returns the model fit, and the \n",
    "    associated model AIC and BIC values.\n",
    "    \"\"\" \n",
    "    try:\n",
    "        if modo == \"SARIMA\":\n",
    "            model = SARIMAX(time_series, \n",
    "                                       order=order, \n",
    "                                       seasonal_order=seasonal_order, \n",
    "                                       trend = trend,\n",
    "                                       enforce_stationarity=False, \n",
    "                                       enforce_invertibility=False)\n",
    "            model_fit = model.fit()\n",
    "            prediction = model_fit.forecast(steps=steps)\n",
    "            # Calcule o MAE, MAPE e RMSE\n",
    "            rmse = np.sqrt(mean_squared_error(arima_test, prediction))\n",
    "            mae = mean_absolute_error(arima_test, prediction)\n",
    "            mape = mean_absolute_percentage_error(arima_test, prediction)\n",
    "            return rmse,mae,mape, model_fit, prediction\n",
    "        elif modo == \"ARIMA\":         \n",
    "            model = ARIMA(time_series, order=order)\n",
    "            model_fit = model.fit()\n",
    "            prediction = model_fit.forecast(steps=steps)\n",
    "            rmse = np.sqrt(mean_squared_error(arima_test, prediction))\n",
    "            \n",
    "            return rmse, model_fit, prediction\n",
    "    except:\n",
    "        print(\"Could not fit with the designated model parameters\")\n",
    "        return None, None, None\n",
    "\n",
    "def grid_search(order_combos,seasonal_order_combos, df, steps, modo):\n",
    "    lowest_rmse = 100000000000\n",
    "    lowest_mae = 100000000000\n",
    "    lowest_mape = 100000000000\n",
    "    \n",
    "    if modo == \"ARIMA\":\n",
    "        for order_combo in order_combos:\n",
    "            #Generate the ARIMA model\n",
    "            rmse,mae,mape,model_fit, prediction  = seasonal_arima_model(time_series = df, \n",
    "                                                        order = order_combo, \n",
    "                                                        steps=steps,\n",
    "                                                        modo=modo)\n",
    "            print(\"order-- \", order_combo, \", lowest_rmse--\",rmse)\n",
    "            if (rmse < lowest_rmse):\n",
    "                lowest_rmse = rmse\n",
    "                best_model = model_fit\n",
    "                best_order = order_combo\n",
    "        melhor_conf = best_order\n",
    "        return lowest_rmse,best_model,melhor_conf\n",
    "                \n",
    "    elif modo == \"SARIMA\":\n",
    "        #Generate  model for each of hyperparameter combination in a loop\n",
    "        for order_combo in order_combos:\n",
    "            for seasonal_order_combo in seasonal_order_combos:\n",
    "                #Convert the combination to list format\n",
    "                seasonal_order_combo = list(seasonal_order_combo)\n",
    "                #Generate the SARIMA model\n",
    "                rmse,mae,mape,model_fit, prediction  = seasonal_arima_model(time_series = df, \n",
    "                                                            order = order_combo, \n",
    "                                                            seasonal_order = seasonal_order_combo[0:4],\n",
    "                                                            trend = seasonal_order_combo[-1],\n",
    "                                                            steps=steps,\n",
    "                                                            modo=modo)\n",
    "                print(\"order-- \", order_combo, \", seasonal order-- \", seasonal_order_combo, \", rmse--\",rmse,\", mae--\",mae,\", mape--\",mape)\n",
    "                if (rmse < lowest_rmse) or (mae < lowest_mae) or (mape < lowest_mape):\n",
    "                    lowest_rmse = rmse\n",
    "                    lowest_mae = mae\n",
    "                    lowest_mape = mape\n",
    "                    best_model = model_fit\n",
    "                    best_order = order_combo\n",
    "                    best_seasonal_order = seasonal_order_combo\n",
    "\n",
    "                #print(\"Best model paramaters: order-- \", best_order, \", seasonal order-- \", best_seasonal_order, \", lowest_rmse--\",lowest_rmse)\n",
    "        melhor_conf = [best_order,tuple(best_seasonal_order[0:4]),best_seasonal_order[-1]]\n",
    "        return lowest_rmse,lowest_mae,lowest_mape,best_model,melhor_conf"
   ]
  },
  {
   "cell_type": "code",
   "execution_count": 13,
   "id": "382aa49f",
   "metadata": {},
   "outputs": [
    {
     "name": "stdout",
     "output_type": "stream",
     "text": [
      "order--  (0, 0, 0) , seasonal order--  [0, 0, 0, 12, 'n'] , rmse-- 74.92033274528062 , mae-- 74.11370352250489 , mape-- 1.0\n",
      "order--  (0, 0, 0) , seasonal order--  [0, 0, 0, 12, 'c'] , rmse-- 15.501967099437971 , mae-- 11.47507249480074 , mape-- 0.1390340544183719\n",
      "order--  (0, 0, 0) , seasonal order--  [0, 0, 0, 12, 't'] , rmse-- 42.40124798652617 , mae-- 38.56628859152234 , mape-- 0.563805133405105\n",
      "order--  (0, 0, 0) , seasonal order--  [0, 0, 0, 12, 'ct'] , rmse-- 12.634809787211754 , mae-- 11.71077154128635 , mape-- 0.16086399559460243\n",
      "order--  (0, 0, 0) , seasonal order--  [0, 0, 1, 12, 'n'] , rmse-- 74.38626498788895 , mae-- 73.5367580410957 , mape-- 0.9938522386139867\n",
      "order--  (0, 0, 0) , seasonal order--  [0, 0, 1, 12, 'c'] , rmse-- 15.204614751443668 , mae-- 11.256093184185453 , mape-- 0.13657462134970186\n",
      "order--  (0, 0, 0) , seasonal order--  [0, 0, 1, 12, 't'] , rmse-- 42.39077593168014 , mae-- 38.54540555577412 , mape-- 0.5635509024321776\n",
      "order--  (0, 0, 0) , seasonal order--  [0, 0, 1, 12, 'ct'] , rmse-- 12.539752239445242 , mae-- 11.641038783659024 , mape-- 0.16039638496727443\n",
      "order--  (0, 0, 0) , seasonal order--  [0, 1, 0, 12, 'n'] , rmse-- 23.026169298030993 , mae-- 20.301386170906717 , mape-- 0.30006081108822963\n",
      "order--  (0, 0, 0) , seasonal order--  [0, 1, 0, 12, 'c'] , rmse-- 28.253456771759975 , mae-- 24.924675901493362 , mape-- 0.36822108321195723\n"
     ]
    },
    {
     "name": "stderr",
     "output_type": "stream",
     "text": [
      "C:\\Users\\alex\\anaconda3\\lib\\site-packages\\statsmodels\\base\\model.py:607: ConvergenceWarning: Maximum Likelihood optimization failed to converge. Check mle_retvals\n",
      "  warnings.warn(\"Maximum Likelihood optimization failed to \"\n"
     ]
    },
    {
     "name": "stdout",
     "output_type": "stream",
     "text": [
      "order--  (0, 0, 0) , seasonal order--  [0, 1, 0, 12, 't'] , rmse-- 37.56060655215969 , mae-- 33.009671199760845 , mape-- 0.4876058547512037\n"
     ]
    },
    {
     "name": "stderr",
     "output_type": "stream",
     "text": [
      "C:\\Users\\alex\\anaconda3\\lib\\site-packages\\statsmodels\\base\\model.py:607: ConvergenceWarning: Maximum Likelihood optimization failed to converge. Check mle_retvals\n",
      "  warnings.warn(\"Maximum Likelihood optimization failed to \"\n"
     ]
    },
    {
     "name": "stdout",
     "output_type": "stream",
     "text": [
      "order--  (0, 0, 0) , seasonal order--  [0, 1, 0, 12, 'ct'] , rmse-- 41.24628772850212 , mae-- 36.17297756606429 , mape-- 0.534368292564527\n",
      "order--  (0, 0, 0) , seasonal order--  [0, 1, 1, 12, 'n'] , rmse-- 23.113577996534822 , mae-- 20.39309580008897 , mape-- 0.30135249436539235\n",
      "order--  (0, 0, 0) , seasonal order--  [0, 1, 1, 12, 'c'] , rmse-- 28.75901005460645 , mae-- 25.389475237389316 , mape-- 0.3749895008725434\n",
      "order--  (0, 0, 0) , seasonal order--  [0, 1, 1, 12, 't'] , rmse-- 37.33301961513271 , mae-- 32.78383264259347 , mape-- 0.48438773642027644\n",
      "order--  (0, 0, 0) , seasonal order--  [0, 1, 1, 12, 'ct'] , rmse-- 41.042702067850634 , mae-- 35.96652715497857 , mape-- 0.5314424593759781\n",
      "order--  (0, 0, 0) , seasonal order--  [1, 0, 0, 12, 'n'] , rmse-- 29.986961034064436 , mae-- 26.42566285650257 , mape-- 0.3904163856456706\n",
      "order--  (0, 0, 0) , seasonal order--  [1, 0, 0, 12, 'c'] , rmse-- 14.58804742792222 , mae-- 12.642872659034108 , mape-- 0.18760953386355456\n",
      "order--  (0, 0, 0) , seasonal order--  [1, 0, 0, 12, 't'] , rmse-- 38.09263664823761 , mae-- 33.49550653710779 , mape-- 0.4947208019440495\n",
      "order--  (0, 0, 0) , seasonal order--  [1, 0, 0, 12, 'ct'] , rmse-- 12.023659910994887 , mae-- 10.829439618887903 , mape-- 0.14519396410009122\n",
      "order--  (0, 0, 0) , seasonal order--  [1, 0, 1, 12, 'n'] , rmse-- 30.304466100333478 , mae-- 26.725083985772113 , mape-- 0.3947439987392788\n",
      "order--  (0, 0, 0) , seasonal order--  [1, 0, 1, 12, 'c'] , rmse-- 15.484204748655978 , mae-- 13.474982747983281 , mape-- 0.1997938864092236\n"
     ]
    },
    {
     "name": "stderr",
     "output_type": "stream",
     "text": [
      "C:\\Users\\alex\\anaconda3\\lib\\site-packages\\statsmodels\\base\\model.py:607: ConvergenceWarning: Maximum Likelihood optimization failed to converge. Check mle_retvals\n",
      "  warnings.warn(\"Maximum Likelihood optimization failed to \"\n"
     ]
    },
    {
     "name": "stdout",
     "output_type": "stream",
     "text": [
      "order--  (0, 0, 0) , seasonal order--  [1, 0, 1, 12, 't'] , rmse-- 37.675247256241725 , mae-- 33.14876472036123 , mape-- 0.48953523569469914\n",
      "order--  (0, 0, 0) , seasonal order--  [1, 0, 1, 12, 'ct'] , rmse-- 11.991897823066896 , mae-- 10.925078746122193 , mape-- 0.147751649791467\n",
      "order--  (0, 0, 0) , seasonal order--  [1, 1, 0, 12, 'n'] , rmse-- 23.112465326146822 , mae-- 20.391927921017228 , mape-- 0.30133581962515005\n",
      "order--  (0, 0, 0) , seasonal order--  [1, 1, 0, 12, 'c'] , rmse-- 28.70020480507123 , mae-- 25.337160388390277 , mape-- 0.3742205249256171\n"
     ]
    },
    {
     "name": "stderr",
     "output_type": "stream",
     "text": [
      "C:\\Users\\alex\\anaconda3\\lib\\site-packages\\statsmodels\\base\\model.py:607: ConvergenceWarning: Maximum Likelihood optimization failed to converge. Check mle_retvals\n",
      "  warnings.warn(\"Maximum Likelihood optimization failed to \"\n"
     ]
    },
    {
     "name": "stdout",
     "output_type": "stream",
     "text": [
      "order--  (0, 0, 0) , seasonal order--  [1, 1, 0, 12, 't'] , rmse-- 37.417153941164756 , mae-- 32.9062078351951 , mape-- 0.4859951254788416\n",
      "order--  (0, 0, 0) , seasonal order--  [1, 1, 0, 12, 'ct'] , rmse-- 41.048993814698136 , mae-- 36.02504544444447 , mape-- 0.5320962316580139\n",
      "order--  (0, 0, 0) , seasonal order--  [1, 1, 1, 12, 'n'] , rmse-- 23.155737366724168 , mae-- 20.43733237371491 , mape-- 0.301978354936145\n",
      "order--  (0, 0, 0) , seasonal order--  [1, 1, 1, 12, 'c'] , rmse-- 29.118215397586965 , mae-- 25.717982448469126 , mape-- 0.3797824934214995\n",
      "order--  (0, 0, 0) , seasonal order--  [1, 1, 1, 12, 't'] , rmse-- 37.07207238117567 , mae-- 32.55871031717233 , mape-- 0.481061779349855\n"
     ]
    },
    {
     "name": "stderr",
     "output_type": "stream",
     "text": [
      "C:\\Users\\alex\\anaconda3\\lib\\site-packages\\statsmodels\\base\\model.py:607: ConvergenceWarning: Maximum Likelihood optimization failed to converge. Check mle_retvals\n",
      "  warnings.warn(\"Maximum Likelihood optimization failed to \"\n"
     ]
    },
    {
     "name": "stdout",
     "output_type": "stream",
     "text": [
      "order--  (0, 0, 0) , seasonal order--  [1, 1, 1, 12, 'ct'] , rmse-- 40.666867927784416 , mae-- 35.64356550347877 , mape-- 0.5266703249590146\n",
      "order--  (0, 0, 1) , seasonal order--  [0, 0, 0, 12, 'n'] , rmse-- 74.88342361012299 , mae-- 74.07706668576358 , mape-- 0.9996109913278689\n",
      "order--  (0, 0, 1) , seasonal order--  [0, 0, 0, 12, 'c'] , rmse-- 15.48715326817405 , mae-- 11.465786291215725 , mape-- 0.13893141372099513\n",
      "order--  (0, 0, 1) , seasonal order--  [0, 0, 0, 12, 't'] , rmse-- 42.391186264282034 , mae-- 38.55668234462742 , mape-- 0.5636672821764741\n",
      "order--  (0, 0, 1) , seasonal order--  [0, 0, 0, 12, 'ct'] , rmse-- 12.623668391422074 , mae-- 11.699959704646487 , mape-- 0.1606946963086974\n",
      "order--  (0, 0, 1) , seasonal order--  [0, 0, 1, 12, 'n'] , rmse-- 74.36682200690144 , mae-- 73.51303677170606 , mape-- 0.9935945630052776\n",
      "order--  (0, 0, 1) , seasonal order--  [0, 0, 1, 12, 'c'] , rmse-- 15.201736387026102 , mae-- 11.255664245249188 , mape-- 0.13657069170860406\n",
      "order--  (0, 0, 1) , seasonal order--  [0, 0, 1, 12, 't'] , rmse-- 42.37120582630273 , mae-- 38.5188331990028 , mape-- 0.5631994162319628\n"
     ]
    },
    {
     "name": "stderr",
     "output_type": "stream",
     "text": [
      "C:\\Users\\alex\\anaconda3\\lib\\site-packages\\statsmodels\\base\\model.py:607: ConvergenceWarning: Maximum Likelihood optimization failed to converge. Check mle_retvals\n",
      "  warnings.warn(\"Maximum Likelihood optimization failed to \"\n"
     ]
    },
    {
     "name": "stdout",
     "output_type": "stream",
     "text": [
      "order--  (0, 0, 1) , seasonal order--  [0, 0, 1, 12, 'ct'] , rmse-- 12.527894309705244 , mae-- 11.628791139547088 , mape-- 0.16016664256706248\n",
      "order--  (0, 0, 1) , seasonal order--  [0, 1, 0, 12, 'n'] , rmse-- 22.76800265541216 , mae-- 20.03295931366466 , mape-- 0.2963467109007129\n",
      "order--  (0, 0, 1) , seasonal order--  [0, 1, 0, 12, 'c'] , rmse-- 27.96265437421066 , mae-- 24.620693600826062 , mape-- 0.3640039828070078\n",
      "order--  (0, 0, 1) , seasonal order--  [0, 1, 0, 12, 't'] , rmse-- 36.04881336467169 , mae-- 31.600323087500765 , mape-- 0.46723108199447166\n",
      "order--  (0, 0, 1) , seasonal order--  [0, 1, 0, 12, 'ct'] , rmse-- 39.466327408835916 , mae-- 34.53168445889388 , mape-- 0.5105812453708206\n",
      "order--  (0, 0, 1) , seasonal order--  [0, 1, 1, 12, 'n'] , rmse-- 23.317630340321966 , mae-- 20.613318584554506 , mape-- 0.30450844307048847\n",
      "order--  (0, 0, 1) , seasonal order--  [0, 1, 1, 12, 'c'] , rmse-- 29.062748085130952 , mae-- 25.704359387501032 , mape-- 0.37949389856569576\n",
      "order--  (0, 0, 1) , seasonal order--  [0, 1, 1, 12, 't'] , rmse-- 35.92199070738702 , mae-- 31.462997906693055 , mape-- 0.4653096303328394\n",
      "order--  (0, 0, 1) , seasonal order--  [0, 1, 1, 12, 'ct'] , rmse-- 39.33801164022229 , mae-- 34.391234294809834 , mape-- 0.5086211703583255\n",
      "order--  (0, 0, 1) , seasonal order--  [1, 0, 0, 12, 'n'] , rmse-- 28.677096831196224 , mae-- 25.232019155605784 , mape-- 0.37307111114239794\n"
     ]
    },
    {
     "name": "stderr",
     "output_type": "stream",
     "text": [
      "C:\\Users\\alex\\anaconda3\\lib\\site-packages\\statsmodels\\base\\model.py:607: ConvergenceWarning: Maximum Likelihood optimization failed to converge. Check mle_retvals\n",
      "  warnings.warn(\"Maximum Likelihood optimization failed to \"\n"
     ]
    },
    {
     "name": "stdout",
     "output_type": "stream",
     "text": [
      "order--  (0, 0, 1) , seasonal order--  [1, 0, 0, 12, 'c'] , rmse-- 8.509156035711735 , mae-- 7.04627638505385 , mape-- 0.10492610234970369\n"
     ]
    },
    {
     "name": "stderr",
     "output_type": "stream",
     "text": [
      "C:\\Users\\alex\\anaconda3\\lib\\site-packages\\statsmodels\\base\\model.py:607: ConvergenceWarning: Maximum Likelihood optimization failed to converge. Check mle_retvals\n",
      "  warnings.warn(\"Maximum Likelihood optimization failed to \"\n"
     ]
    },
    {
     "name": "stdout",
     "output_type": "stream",
     "text": [
      "order--  (0, 0, 1) , seasonal order--  [1, 0, 0, 12, 't'] , rmse-- 37.56290169176523 , mae-- 32.97444464368086 , mape-- 0.48731914207935284\n",
      "order--  (0, 0, 1) , seasonal order--  [1, 0, 0, 12, 'ct'] , rmse-- 12.005739720599857 , mae-- 10.803882374639807 , mape-- 0.14477226345928065\n",
      "order--  (0, 0, 1) , seasonal order--  [1, 0, 1, 12, 'n'] , rmse-- 30.735031370641828 , mae-- 27.1547022775044 , mape-- 0.40093066889337775\n"
     ]
    },
    {
     "name": "stderr",
     "output_type": "stream",
     "text": [
      "C:\\Users\\alex\\anaconda3\\lib\\site-packages\\statsmodels\\base\\model.py:607: ConvergenceWarning: Maximum Likelihood optimization failed to converge. Check mle_retvals\n",
      "  warnings.warn(\"Maximum Likelihood optimization failed to \"\n"
     ]
    },
    {
     "name": "stdout",
     "output_type": "stream",
     "text": [
      "order--  (0, 0, 1) , seasonal order--  [1, 0, 1, 12, 'c'] , rmse-- 5.386648670225423 , mae-- 4.50028856214446 , mape-- 0.06353515957779696\n"
     ]
    },
    {
     "name": "stderr",
     "output_type": "stream",
     "text": [
      "C:\\Users\\alex\\anaconda3\\lib\\site-packages\\statsmodels\\base\\model.py:607: ConvergenceWarning: Maximum Likelihood optimization failed to converge. Check mle_retvals\n",
      "  warnings.warn(\"Maximum Likelihood optimization failed to \"\n"
     ]
    },
    {
     "name": "stdout",
     "output_type": "stream",
     "text": [
      "order--  (0, 0, 1) , seasonal order--  [1, 0, 1, 12, 't'] , rmse-- 19.999260357679987 , mae-- 17.596012362345665 , mape-- 0.25889250654918666\n"
     ]
    },
    {
     "name": "stderr",
     "output_type": "stream",
     "text": [
      "C:\\Users\\alex\\anaconda3\\lib\\site-packages\\statsmodels\\base\\model.py:607: ConvergenceWarning: Maximum Likelihood optimization failed to converge. Check mle_retvals\n",
      "  warnings.warn(\"Maximum Likelihood optimization failed to \"\n"
     ]
    },
    {
     "name": "stdout",
     "output_type": "stream",
     "text": [
      "order--  (0, 0, 1) , seasonal order--  [1, 0, 1, 12, 'ct'] , rmse-- 13.424042740188458 , mae-- 12.501831727449389 , mape-- 0.17607896156600197\n",
      "order--  (0, 0, 1) , seasonal order--  [1, 1, 0, 12, 'n'] , rmse-- 23.210099323563124 , mae-- 20.499762657537055 , mape-- 0.30291007857102814\n",
      "order--  (0, 0, 1) , seasonal order--  [1, 1, 0, 12, 'c'] , rmse-- 28.776021359834935 , mae-- 25.427967210260228 , mape-- 0.37551981485227126\n",
      "order--  (0, 0, 1) , seasonal order--  [1, 1, 0, 12, 't'] , rmse-- 36.95055480334861 , mae-- 32.52338620851744 , mape-- 0.4803078951263179\n",
      "order--  (0, 0, 1) , seasonal order--  [1, 1, 0, 12, 'ct'] , rmse-- 39.848597430859556 , mae-- 35.01528091654649 , mape-- 0.5171332839023883\n",
      "order--  (0, 0, 1) , seasonal order--  [1, 1, 1, 12, 'n'] , rmse-- 23.376349543046015 , mae-- 20.675132781498984 , mape-- 0.3053790306459309\n",
      "order--  (0, 0, 1) , seasonal order--  [1, 1, 1, 12, 'c'] , rmse-- 29.330403473629023 , mae-- 25.958359369594614 , mape-- 0.38316077210635985\n",
      "order--  (0, 0, 1) , seasonal order--  [1, 1, 1, 12, 't'] , rmse-- 37.09436037730365 , mae-- 32.66944667142186 , mape-- 0.4823763155036208\n",
      "order--  (0, 0, 1) , seasonal order--  [1, 1, 1, 12, 'ct'] , rmse-- 40.465314224908084 , mae-- 35.62687745752582 , mape-- 0.5258420976534923\n",
      "order--  (0, 1, 0) , seasonal order--  [0, 0, 0, 12, 'n'] , rmse-- 22.769913876418098 , mae-- 20.01775440313111 , mape-- 0.29632315674782267\n",
      "order--  (0, 1, 0) , seasonal order--  [0, 0, 0, 12, 'c'] , rmse-- 27.873473174468256 , mae-- 24.51590541797849 , mape-- 0.3626766897163108\n"
     ]
    },
    {
     "name": "stderr",
     "output_type": "stream",
     "text": [
      "C:\\Users\\alex\\anaconda3\\lib\\site-packages\\statsmodels\\base\\model.py:607: ConvergenceWarning: Maximum Likelihood optimization failed to converge. Check mle_retvals\n",
      "  warnings.warn(\"Maximum Likelihood optimization failed to \"\n"
     ]
    },
    {
     "name": "stdout",
     "output_type": "stream",
     "text": [
      "order--  (0, 1, 0) , seasonal order--  [0, 0, 0, 12, 't'] , rmse-- 37.11964380084813 , mae-- 32.54313846405987 , mape-- 0.4811918239135303\n"
     ]
    },
    {
     "name": "stderr",
     "output_type": "stream",
     "text": [
      "C:\\Users\\alex\\anaconda3\\lib\\site-packages\\statsmodels\\base\\model.py:607: ConvergenceWarning: Maximum Likelihood optimization failed to converge. Check mle_retvals\n",
      "  warnings.warn(\"Maximum Likelihood optimization failed to \"\n"
     ]
    },
    {
     "name": "stdout",
     "output_type": "stream",
     "text": [
      "order--  (0, 1, 0) , seasonal order--  [0, 0, 0, 12, 'ct'] , rmse-- 40.58101144463437 , mae-- 35.51157081852653 , mape-- 0.5250722366336752\n",
      "order--  (0, 1, 0) , seasonal order--  [0, 0, 1, 12, 'n'] , rmse-- 22.745291787192123 , mae-- 19.992059942733803 , mape-- 0.2959615030227575\n",
      "order--  (0, 1, 0) , seasonal order--  [0, 0, 1, 12, 'c'] , rmse-- 27.907664737607636 , mae-- 24.541095658062204 , mape-- 0.36306881668689817\n",
      "order--  (0, 1, 0) , seasonal order--  [0, 0, 1, 12, 't'] , rmse-- 37.07013205818 , mae-- 32.49095992629187 , mape-- 0.48045969704633884\n",
      "order--  (0, 1, 0) , seasonal order--  [0, 0, 1, 12, 'ct'] , rmse-- 40.53026479570639 , mae-- 35.45776777160053 , mape-- 0.5243183384314077\n",
      "order--  (0, 1, 0) , seasonal order--  [0, 1, 0, 12, 'n'] , rmse-- 95.64833121565526 , mae-- 82.08030822538774 , mape-- 1.2049045853875553\n",
      "order--  (0, 1, 0) , seasonal order--  [0, 1, 0, 12, 'c'] , rmse-- 105.19985881577492 , mae-- 89.37548164978793 , mape-- 1.3146255237481042\n"
     ]
    },
    {
     "name": "stderr",
     "output_type": "stream",
     "text": [
      "C:\\Users\\alex\\anaconda3\\lib\\site-packages\\statsmodels\\base\\model.py:607: ConvergenceWarning: Maximum Likelihood optimization failed to converge. Check mle_retvals\n",
      "  warnings.warn(\"Maximum Likelihood optimization failed to \"\n"
     ]
    },
    {
     "name": "stdout",
     "output_type": "stream",
     "text": [
      "order--  (0, 1, 0) , seasonal order--  [0, 1, 0, 12, 't'] , rmse-- 133.73596992542093 , mae-- 110.88982927674728 , mape-- 1.6384316768450995\n"
     ]
    },
    {
     "name": "stderr",
     "output_type": "stream",
     "text": [
      "C:\\Users\\alex\\anaconda3\\lib\\site-packages\\statsmodels\\base\\model.py:607: ConvergenceWarning: Maximum Likelihood optimization failed to converge. Check mle_retvals\n",
      "  warnings.warn(\"Maximum Likelihood optimization failed to \"\n"
     ]
    },
    {
     "name": "stdout",
     "output_type": "stream",
     "text": [
      "order--  (0, 1, 0) , seasonal order--  [0, 1, 0, 12, 'ct'] , rmse-- 149.97075620658674 , mae-- 122.9814709584693 , mape-- 1.8205455216592175\n",
      "order--  (0, 1, 0) , seasonal order--  [0, 1, 1, 12, 'n'] , rmse-- 28.047152925717395 , mae-- 24.682510010221577 , mape-- 0.3650729021826451\n",
      "order--  (0, 1, 0) , seasonal order--  [0, 1, 1, 12, 'c'] , rmse-- 40.1069914603828 , mae-- 35.12092696773973 , mape-- 0.5192340876207825\n"
     ]
    },
    {
     "name": "stderr",
     "output_type": "stream",
     "text": [
      "C:\\Users\\alex\\anaconda3\\lib\\site-packages\\statsmodels\\base\\model.py:607: ConvergenceWarning: Maximum Likelihood optimization failed to converge. Check mle_retvals\n",
      "  warnings.warn(\"Maximum Likelihood optimization failed to \"\n"
     ]
    },
    {
     "name": "stdout",
     "output_type": "stream",
     "text": [
      "order--  (0, 1, 0) , seasonal order--  [0, 1, 1, 12, 't'] , rmse-- 42.9735879642214 , mae-- 30.718498431311932 , mape-- 0.4590053511772106\n"
     ]
    },
    {
     "name": "stderr",
     "output_type": "stream",
     "text": [
      "C:\\Users\\alex\\anaconda3\\lib\\site-packages\\statsmodels\\base\\model.py:607: ConvergenceWarning: Maximum Likelihood optimization failed to converge. Check mle_retvals\n",
      "  warnings.warn(\"Maximum Likelihood optimization failed to \"\n"
     ]
    },
    {
     "name": "stdout",
     "output_type": "stream",
     "text": [
      "order--  (0, 1, 0) , seasonal order--  [0, 1, 1, 12, 'ct'] , rmse-- 60.355181097693546 , mae-- 43.70564170153999 , mape-- 0.6543115484012573\n",
      "order--  (0, 1, 0) , seasonal order--  [1, 0, 0, 12, 'n'] , rmse-- 22.74396975197918 , mae-- 19.99067605347522 , mape-- 0.2959420390532529\n",
      "order--  (0, 1, 0) , seasonal order--  [1, 0, 0, 12, 'c'] , rmse-- 27.956939335347577 , mae-- 24.584164304053676 , mape-- 0.36370476118110134\n"
     ]
    },
    {
     "name": "stderr",
     "output_type": "stream",
     "text": [
      "C:\\Users\\alex\\anaconda3\\lib\\site-packages\\statsmodels\\base\\model.py:607: ConvergenceWarning: Maximum Likelihood optimization failed to converge. Check mle_retvals\n",
      "  warnings.warn(\"Maximum Likelihood optimization failed to \"\n"
     ]
    },
    {
     "name": "stdout",
     "output_type": "stream",
     "text": [
      "order--  (0, 1, 0) , seasonal order--  [1, 0, 0, 12, 't'] , rmse-- 37.07280794480723 , mae-- 32.495198986580625 , mape-- 0.4805144390015432\n",
      "order--  (0, 1, 0) , seasonal order--  [1, 0, 0, 12, 'ct'] , rmse-- 40.576507930529395 , mae-- 35.499460322324 , mape-- 0.5249262202686364\n",
      "order--  (0, 1, 0) , seasonal order--  [1, 0, 1, 12, 'n'] , rmse-- 22.75618366624242 , mae-- 20.00335912588571 , mape-- 0.29612079033545335\n",
      "order--  (0, 1, 0) , seasonal order--  [1, 0, 1, 12, 'c'] , rmse-- 27.76169847502173 , mae-- 24.414857009064274 , mape-- 0.3611989312866569\n"
     ]
    },
    {
     "name": "stderr",
     "output_type": "stream",
     "text": [
      "C:\\Users\\alex\\anaconda3\\lib\\site-packages\\statsmodels\\base\\model.py:607: ConvergenceWarning: Maximum Likelihood optimization failed to converge. Check mle_retvals\n",
      "  warnings.warn(\"Maximum Likelihood optimization failed to \"\n"
     ]
    },
    {
     "name": "stdout",
     "output_type": "stream",
     "text": [
      "order--  (0, 1, 0) , seasonal order--  [1, 0, 1, 12, 't'] , rmse-- 35.49617781729941 , mae-- 31.126890338804067 , mape-- 0.4603324369418312\n"
     ]
    },
    {
     "name": "stderr",
     "output_type": "stream",
     "text": [
      "C:\\Users\\alex\\anaconda3\\lib\\site-packages\\statsmodels\\base\\model.py:607: ConvergenceWarning: Maximum Likelihood optimization failed to converge. Check mle_retvals\n",
      "  warnings.warn(\"Maximum Likelihood optimization failed to \"\n"
     ]
    },
    {
     "name": "stdout",
     "output_type": "stream",
     "text": [
      "order--  (0, 1, 0) , seasonal order--  [1, 0, 1, 12, 'ct'] , rmse-- 38.57092518681071 , mae-- 33.766167510523154 , mape-- 0.4993529091963956\n",
      "order--  (0, 1, 0) , seasonal order--  [1, 1, 0, 12, 'n'] , rmse-- 145.88008516759086 , mae-- 125.6945844178934 , mape-- 1.8465072720904019\n",
      "order--  (0, 1, 0) , seasonal order--  [1, 1, 0, 12, 'c'] , rmse-- 147.47932217894896 , mae-- 126.9230056089679 , mape-- 1.8649781376806893\n",
      "order--  (0, 1, 0) , seasonal order--  [1, 1, 0, 12, 't'] , rmse-- 213.23765560749337 , mae-- 176.76939596351968 , mape-- 2.6148928203788553\n"
     ]
    },
    {
     "name": "stderr",
     "output_type": "stream",
     "text": [
      "C:\\Users\\alex\\anaconda3\\lib\\site-packages\\statsmodels\\base\\model.py:607: ConvergenceWarning: Maximum Likelihood optimization failed to converge. Check mle_retvals\n",
      "  warnings.warn(\"Maximum Likelihood optimization failed to \"\n"
     ]
    },
    {
     "name": "stdout",
     "output_type": "stream",
     "text": [
      "order--  (0, 1, 0) , seasonal order--  [1, 1, 0, 12, 'ct'] , rmse-- 224.0673192056143 , mae-- 184.85688467043752 , mape-- 2.736671431263995\n",
      "order--  (0, 1, 0) , seasonal order--  [1, 1, 1, 12, 'n'] , rmse-- 28.04716681269008 , mae-- 24.682523192709606 , mape-- 0.3650730923345003\n",
      "order--  (0, 1, 0) , seasonal order--  [1, 1, 1, 12, 'c'] , rmse-- 38.361837187523506 , mae-- 33.6163193576025 , mape-- 0.49702179276169056\n"
     ]
    },
    {
     "name": "stderr",
     "output_type": "stream",
     "text": [
      "C:\\Users\\alex\\anaconda3\\lib\\site-packages\\statsmodels\\base\\model.py:607: ConvergenceWarning: Maximum Likelihood optimization failed to converge. Check mle_retvals\n",
      "  warnings.warn(\"Maximum Likelihood optimization failed to \"\n"
     ]
    },
    {
     "name": "stdout",
     "output_type": "stream",
     "text": [
      "order--  (0, 1, 0) , seasonal order--  [1, 1, 1, 12, 't'] , rmse-- 61.91029576317689 , mae-- 48.14882030419013 , mape-- 0.7149426400984048\n"
     ]
    },
    {
     "name": "stderr",
     "output_type": "stream",
     "text": [
      "C:\\Users\\alex\\anaconda3\\lib\\site-packages\\statsmodels\\base\\model.py:607: ConvergenceWarning: Maximum Likelihood optimization failed to converge. Check mle_retvals\n",
      "  warnings.warn(\"Maximum Likelihood optimization failed to \"\n"
     ]
    },
    {
     "name": "stdout",
     "output_type": "stream",
     "text": [
      "order--  (0, 1, 0) , seasonal order--  [1, 1, 1, 12, 'ct'] , rmse-- 77.895964665662 , mae-- 60.03452176195691 , mape-- 0.8937409393046323\n",
      "order--  (0, 1, 1) , seasonal order--  [0, 0, 0, 12, 'n'] , rmse-- 22.742641304210164 , mae-- 19.989291391949827 , mape-- 0.2959225447305248\n",
      "order--  (0, 1, 1) , seasonal order--  [0, 0, 0, 12, 'c'] , rmse-- 27.84891557914474 , mae-- 24.48909353204441 , mape-- 0.36230374232726853\n"
     ]
    },
    {
     "name": "stderr",
     "output_type": "stream",
     "text": [
      "C:\\Users\\alex\\anaconda3\\lib\\site-packages\\statsmodels\\base\\model.py:607: ConvergenceWarning: Maximum Likelihood optimization failed to converge. Check mle_retvals\n",
      "  warnings.warn(\"Maximum Likelihood optimization failed to \"\n"
     ]
    },
    {
     "name": "stdout",
     "output_type": "stream",
     "text": [
      "order--  (0, 1, 1) , seasonal order--  [0, 0, 0, 12, 't'] , rmse-- 36.893267934420116 , mae-- 32.33983496190038 , mape-- 0.4782213886215586\n"
     ]
    },
    {
     "name": "stderr",
     "output_type": "stream",
     "text": [
      "C:\\Users\\alex\\anaconda3\\lib\\site-packages\\statsmodels\\base\\model.py:607: ConvergenceWarning: Maximum Likelihood optimization failed to converge. Check mle_retvals\n",
      "  warnings.warn(\"Maximum Likelihood optimization failed to \"\n"
     ]
    },
    {
     "name": "stdout",
     "output_type": "stream",
     "text": [
      "order--  (0, 1, 1) , seasonal order--  [0, 0, 0, 12, 'ct'] , rmse-- 40.41821260373193 , mae-- 35.362892886620195 , mape-- 0.5229103190600496\n",
      "order--  (0, 1, 1) , seasonal order--  [0, 0, 1, 12, 'n'] , rmse-- 22.717477731810266 , mae-- 19.963039939748317 , mape-- 0.29555299070539437\n",
      "order--  (0, 1, 1) , seasonal order--  [0, 0, 1, 12, 'c'] , rmse-- 27.838673377568163 , mae-- 24.475133887579954 , mape-- 0.3621190914174469\n"
     ]
    },
    {
     "name": "stderr",
     "output_type": "stream",
     "text": [
      "C:\\Users\\alex\\anaconda3\\lib\\site-packages\\statsmodels\\base\\model.py:607: ConvergenceWarning: Maximum Likelihood optimization failed to converge. Check mle_retvals\n",
      "  warnings.warn(\"Maximum Likelihood optimization failed to \"\n"
     ]
    },
    {
     "name": "stdout",
     "output_type": "stream",
     "text": [
      "order--  (0, 1, 1) , seasonal order--  [0, 0, 1, 12, 't'] , rmse-- 36.85605652761031 , mae-- 32.29827131853698 , mape-- 0.477646015081075\n"
     ]
    },
    {
     "name": "stderr",
     "output_type": "stream",
     "text": [
      "C:\\Users\\alex\\anaconda3\\lib\\site-packages\\statsmodels\\base\\model.py:607: ConvergenceWarning: Maximum Likelihood optimization failed to converge. Check mle_retvals\n",
      "  warnings.warn(\"Maximum Likelihood optimization failed to \"\n"
     ]
    },
    {
     "name": "stdout",
     "output_type": "stream",
     "text": [
      "order--  (0, 1, 1) , seasonal order--  [0, 0, 1, 12, 'ct'] , rmse-- 40.380274916231876 , mae-- 35.32008389603684 , mape-- 0.5223188946061911\n",
      "order--  (0, 1, 1) , seasonal order--  [0, 1, 0, 12, 'n'] , rmse-- 98.2563537754386 , mae-- 84.34914697339664 , mape-- 1.2382691562746386\n",
      "order--  (0, 1, 1) , seasonal order--  [0, 1, 0, 12, 'c'] , rmse-- 109.428278518736 , mae-- 92.88100799791478 , mape-- 1.366590207141427\n"
     ]
    },
    {
     "name": "stderr",
     "output_type": "stream",
     "text": [
      "C:\\Users\\alex\\anaconda3\\lib\\site-packages\\statsmodels\\base\\model.py:607: ConvergenceWarning: Maximum Likelihood optimization failed to converge. Check mle_retvals\n",
      "  warnings.warn(\"Maximum Likelihood optimization failed to \"\n"
     ]
    },
    {
     "name": "stdout",
     "output_type": "stream",
     "text": [
      "order--  (0, 1, 1) , seasonal order--  [0, 1, 0, 12, 't'] , rmse-- 136.58525700602672 , mae-- 113.35373033963592 , mape-- 1.6747182245654428\n",
      "order--  (0, 1, 1) , seasonal order--  [0, 1, 0, 12, 'ct'] , rmse-- 147.01704519902358 , mae-- 121.13013917868409 , mape-- 1.7918396868862132\n",
      "order--  (0, 1, 1) , seasonal order--  [0, 1, 1, 12, 'n'] , rmse-- 27.93451689210137 , mae-- 24.578787458311943 , mape-- 0.36356402479259536\n",
      "order--  (0, 1, 1) , seasonal order--  [0, 1, 1, 12, 'c'] , rmse-- 40.618716155241486 , mae-- 35.55456219446237 , mape-- 0.5256639558819504\n"
     ]
    },
    {
     "name": "stderr",
     "output_type": "stream",
     "text": [
      "C:\\Users\\alex\\anaconda3\\lib\\site-packages\\statsmodels\\base\\model.py:607: ConvergenceWarning: Maximum Likelihood optimization failed to converge. Check mle_retvals\n",
      "  warnings.warn(\"Maximum Likelihood optimization failed to \"\n"
     ]
    },
    {
     "name": "stdout",
     "output_type": "stream",
     "text": [
      "order--  (0, 1, 1) , seasonal order--  [0, 1, 1, 12, 't'] , rmse-- 43.78284515615155 , mae-- 31.435954493698894 , mape-- 0.46958890700694317\n"
     ]
    },
    {
     "name": "stderr",
     "output_type": "stream",
     "text": [
      "C:\\Users\\alex\\anaconda3\\lib\\site-packages\\statsmodels\\base\\model.py:607: ConvergenceWarning: Maximum Likelihood optimization failed to converge. Check mle_retvals\n",
      "  warnings.warn(\"Maximum Likelihood optimization failed to \"\n"
     ]
    },
    {
     "name": "stdout",
     "output_type": "stream",
     "text": [
      "order--  (0, 1, 1) , seasonal order--  [0, 1, 1, 12, 'ct'] , rmse-- 54.95947857139575 , mae-- 39.78889074972193 , mape-- 0.5952023598074986\n",
      "order--  (0, 1, 1) , seasonal order--  [1, 0, 0, 12, 'n'] , rmse-- 22.716259929884757 , mae-- 19.96176429701248 , mape-- 0.29553505062963775\n",
      "order--  (0, 1, 1) , seasonal order--  [1, 0, 0, 12, 'c'] , rmse-- 27.92115299895359 , mae-- 24.5474055907048 , mape-- 0.3631854825671577\n"
     ]
    },
    {
     "name": "stderr",
     "output_type": "stream",
     "text": [
      "C:\\Users\\alex\\anaconda3\\lib\\site-packages\\statsmodels\\base\\model.py:607: ConvergenceWarning: Maximum Likelihood optimization failed to converge. Check mle_retvals\n",
      "  warnings.warn(\"Maximum Likelihood optimization failed to \"\n"
     ]
    },
    {
     "name": "stdout",
     "output_type": "stream",
     "text": [
      "order--  (0, 1, 1) , seasonal order--  [1, 0, 0, 12, 't'] , rmse-- 37.04146574381096 , mae-- 32.461246561506 , mape-- 0.48004110132412126\n",
      "order--  (0, 1, 1) , seasonal order--  [1, 0, 0, 12, 'ct'] , rmse-- 40.60748984682433 , mae-- 35.518679102331475 , mape-- 0.5252396314386026\n",
      "order--  (0, 1, 1) , seasonal order--  [1, 0, 1, 12, 'n'] , rmse-- 22.749609224924924 , mae-- 19.996550396062688 , mape-- 0.2960247630541824\n",
      "order--  (0, 1, 1) , seasonal order--  [1, 0, 1, 12, 'c'] , rmse-- 27.753411770127762 , mae-- 24.406447511795196 , mape-- 0.3610797691651487\n"
     ]
    },
    {
     "name": "stderr",
     "output_type": "stream",
     "text": [
      "C:\\Users\\alex\\anaconda3\\lib\\site-packages\\statsmodels\\base\\model.py:607: ConvergenceWarning: Maximum Likelihood optimization failed to converge. Check mle_retvals\n",
      "  warnings.warn(\"Maximum Likelihood optimization failed to \"\n"
     ]
    },
    {
     "name": "stdout",
     "output_type": "stream",
     "text": [
      "order--  (0, 1, 1) , seasonal order--  [1, 0, 1, 12, 't'] , rmse-- 35.291625300587704 , mae-- 30.94251226857167 , mape-- 0.457640351487854\n"
     ]
    },
    {
     "name": "stderr",
     "output_type": "stream",
     "text": [
      "C:\\Users\\alex\\anaconda3\\lib\\site-packages\\statsmodels\\base\\model.py:607: ConvergenceWarning: Maximum Likelihood optimization failed to converge. Check mle_retvals\n",
      "  warnings.warn(\"Maximum Likelihood optimization failed to \"\n"
     ]
    },
    {
     "name": "stdout",
     "output_type": "stream",
     "text": [
      "order--  (0, 1, 1) , seasonal order--  [1, 0, 1, 12, 'ct'] , rmse-- 38.422855336634655 , mae-- 33.63038813839623 , mape-- 0.49738015215488635\n",
      "order--  (0, 1, 1) , seasonal order--  [1, 1, 0, 12, 'n'] , rmse-- 146.1086320587023 , mae-- 125.89360052169039 , mape-- 1.849432441573032\n",
      "order--  (0, 1, 1) , seasonal order--  [1, 1, 0, 12, 'c'] , rmse-- 147.69536768118624 , mae-- 127.11240443326656 , mape-- 1.8677587822923878\n"
     ]
    },
    {
     "name": "stderr",
     "output_type": "stream",
     "text": [
      "C:\\Users\\alex\\anaconda3\\lib\\site-packages\\statsmodels\\base\\model.py:607: ConvergenceWarning: Maximum Likelihood optimization failed to converge. Check mle_retvals\n",
      "  warnings.warn(\"Maximum Likelihood optimization failed to \"\n"
     ]
    },
    {
     "name": "stdout",
     "output_type": "stream",
     "text": [
      "order--  (0, 1, 1) , seasonal order--  [1, 1, 0, 12, 't'] , rmse-- 214.94577788420648 , mae-- 178.2385250530586 , mape-- 2.6365410533282048\n"
     ]
    },
    {
     "name": "stderr",
     "output_type": "stream",
     "text": [
      "C:\\Users\\alex\\anaconda3\\lib\\site-packages\\statsmodels\\base\\model.py:607: ConvergenceWarning: Maximum Likelihood optimization failed to converge. Check mle_retvals\n",
      "  warnings.warn(\"Maximum Likelihood optimization failed to \"\n"
     ]
    },
    {
     "name": "stdout",
     "output_type": "stream",
     "text": [
      "order--  (0, 1, 1) , seasonal order--  [1, 1, 0, 12, 'ct'] , rmse-- 221.90405333628723 , mae-- 183.43681639150986 , mape-- 2.714815112853127\n",
      "order--  (0, 1, 1) , seasonal order--  [1, 1, 1, 12, 'n'] , rmse-- 27.934533569169286 , mae-- 24.578803520311205 , mape-- 0.3635642555766543\n",
      "order--  (0, 1, 1) , seasonal order--  [1, 1, 1, 12, 'c'] , rmse-- 40.31447222836043 , mae-- 35.29131393027803 , mape-- 0.5217823791527907\n"
     ]
    },
    {
     "name": "stderr",
     "output_type": "stream",
     "text": [
      "C:\\Users\\alex\\anaconda3\\lib\\site-packages\\statsmodels\\base\\model.py:607: ConvergenceWarning: Maximum Likelihood optimization failed to converge. Check mle_retvals\n",
      "  warnings.warn(\"Maximum Likelihood optimization failed to \"\n"
     ]
    },
    {
     "name": "stdout",
     "output_type": "stream",
     "text": [
      "order--  (0, 1, 1) , seasonal order--  [1, 1, 1, 12, 't'] , rmse-- 62.818039517930906 , mae-- 48.93676594839258 , mape-- 0.7265567623854033\n"
     ]
    },
    {
     "name": "stderr",
     "output_type": "stream",
     "text": [
      "C:\\Users\\alex\\anaconda3\\lib\\site-packages\\statsmodels\\base\\model.py:607: ConvergenceWarning: Maximum Likelihood optimization failed to converge. Check mle_retvals\n",
      "  warnings.warn(\"Maximum Likelihood optimization failed to \"\n"
     ]
    },
    {
     "name": "stdout",
     "output_type": "stream",
     "text": [
      "order--  (0, 1, 1) , seasonal order--  [1, 1, 1, 12, 'ct'] , rmse-- 73.09592578385426 , mae-- 56.58083934883735 , mape-- 0.8415475326792854\n",
      "order--  (1, 0, 0) , seasonal order--  [0, 0, 0, 12, 'n'] , rmse-- 29.754747490233946 , mae-- 26.149919162307384 , mape-- 0.3868313156112529\n",
      "order--  (1, 0, 0) , seasonal order--  [0, 0, 0, 12, 'c'] , rmse-- 15.725959500759581 , mae-- 13.645358481597388 , mape-- 0.202645718102775\n"
     ]
    },
    {
     "name": "stderr",
     "output_type": "stream",
     "text": [
      "C:\\Users\\alex\\anaconda3\\lib\\site-packages\\statsmodels\\base\\model.py:607: ConvergenceWarning: Maximum Likelihood optimization failed to converge. Check mle_retvals\n",
      "  warnings.warn(\"Maximum Likelihood optimization failed to \"\n"
     ]
    },
    {
     "name": "stdout",
     "output_type": "stream",
     "text": [
      "order--  (1, 0, 0) , seasonal order--  [0, 0, 0, 12, 't'] , rmse-- 38.246718054502566 , mae-- 33.5426398701434 , mape-- 0.4958587710481872\n"
     ]
    },
    {
     "name": "stderr",
     "output_type": "stream",
     "text": [
      "C:\\Users\\alex\\anaconda3\\lib\\site-packages\\statsmodels\\base\\model.py:607: ConvergenceWarning: Maximum Likelihood optimization failed to converge. Check mle_retvals\n",
      "  warnings.warn(\"Maximum Likelihood optimization failed to \"\n"
     ]
    },
    {
     "name": "stdout",
     "output_type": "stream",
     "text": [
      "order--  (1, 0, 0) , seasonal order--  [0, 0, 0, 12, 'ct'] , rmse-- 17.636519563436178 , mae-- 14.984196636081156 , mape-- 0.22400209802320906\n"
     ]
    },
    {
     "name": "stderr",
     "output_type": "stream",
     "text": [
      "C:\\Users\\alex\\anaconda3\\lib\\site-packages\\statsmodels\\base\\model.py:607: ConvergenceWarning: Maximum Likelihood optimization failed to converge. Check mle_retvals\n",
      "  warnings.warn(\"Maximum Likelihood optimization failed to \"\n"
     ]
    },
    {
     "name": "stdout",
     "output_type": "stream",
     "text": [
      "order--  (1, 0, 0) , seasonal order--  [0, 0, 1, 12, 'n'] , rmse-- 30.73344985368073 , mae-- 26.989274375092897 , mape-- 0.39927675160449116\n"
     ]
    },
    {
     "name": "stderr",
     "output_type": "stream",
     "text": [
      "C:\\Users\\alex\\anaconda3\\lib\\site-packages\\statsmodels\\base\\model.py:607: ConvergenceWarning: Maximum Likelihood optimization failed to converge. Check mle_retvals\n",
      "  warnings.warn(\"Maximum Likelihood optimization failed to \"\n"
     ]
    },
    {
     "name": "stdout",
     "output_type": "stream",
     "text": [
      "order--  (1, 0, 0) , seasonal order--  [0, 0, 1, 12, 'c'] , rmse-- 5.173262408123275 , mae-- 4.230014084866261 , mape-- 0.05758504611717986\n"
     ]
    },
    {
     "name": "stderr",
     "output_type": "stream",
     "text": [
      "C:\\Users\\alex\\anaconda3\\lib\\site-packages\\statsmodels\\base\\model.py:607: ConvergenceWarning: Maximum Likelihood optimization failed to converge. Check mle_retvals\n",
      "  warnings.warn(\"Maximum Likelihood optimization failed to \"\n"
     ]
    },
    {
     "name": "stdout",
     "output_type": "stream",
     "text": [
      "order--  (1, 0, 0) , seasonal order--  [0, 0, 1, 12, 't'] , rmse-- 41.3113087506498 , mae-- 37.15773086268342 , mape-- 0.5450941329030516\n"
     ]
    },
    {
     "name": "stderr",
     "output_type": "stream",
     "text": [
      "C:\\Users\\alex\\anaconda3\\lib\\site-packages\\statsmodels\\base\\model.py:607: ConvergenceWarning: Maximum Likelihood optimization failed to converge. Check mle_retvals\n",
      "  warnings.warn(\"Maximum Likelihood optimization failed to \"\n"
     ]
    },
    {
     "name": "stdout",
     "output_type": "stream",
     "text": [
      "order--  (1, 0, 0) , seasonal order--  [0, 0, 1, 12, 'ct'] , rmse-- 18.307032900328014 , mae-- 16.07220591744752 , mape-- 0.23803929813305624\n",
      "order--  (1, 0, 0) , seasonal order--  [0, 1, 0, 12, 'n'] , rmse-- 20.971313774738682 , mae-- 18.24487043690287 , mape-- 0.27079019141092775\n",
      "order--  (1, 0, 0) , seasonal order--  [0, 1, 0, 12, 'c'] , rmse-- 25.776784802079163 , mae-- 22.43363089284581 , mape-- 0.3328339145376751\n",
      "order--  (1, 0, 0) , seasonal order--  [0, 1, 0, 12, 't'] , rmse-- 34.12054604524016 , mae-- 29.586613942156884 , mape-- 0.4388669456026633\n",
      "order--  (1, 0, 0) , seasonal order--  [0, 1, 0, 12, 'ct'] , rmse-- 37.267963010927254 , mae-- 32.25554257980587 , mape-- 0.47845575738623175\n",
      "order--  (1, 0, 0) , seasonal order--  [0, 1, 1, 12, 'n'] , rmse-- 15.784727355392931 , mae-- 13.703948260826346 , mape-- 0.20348316920142728\n",
      "order--  (1, 0, 0) , seasonal order--  [0, 1, 1, 12, 'c'] , rmse-- 17.562466751677167 , mae-- 14.927650484366799 , mape-- 0.2231373797289733\n",
      "order--  (1, 0, 0) , seasonal order--  [0, 1, 1, 12, 't'] , rmse-- 34.095883011866704 , mae-- 29.562385574544763 , mape-- 0.4385126610300214\n"
     ]
    },
    {
     "name": "stderr",
     "output_type": "stream",
     "text": [
      "C:\\Users\\alex\\anaconda3\\lib\\site-packages\\statsmodels\\base\\model.py:607: ConvergenceWarning: Maximum Likelihood optimization failed to converge. Check mle_retvals\n",
      "  warnings.warn(\"Maximum Likelihood optimization failed to \"\n"
     ]
    },
    {
     "name": "stdout",
     "output_type": "stream",
     "text": [
      "order--  (1, 0, 0) , seasonal order--  [0, 1, 1, 12, 'ct'] , rmse-- 37.24164139192193 , mae-- 32.22924889287715 , mape-- 0.4780739057679815\n",
      "order--  (1, 0, 0) , seasonal order--  [1, 0, 0, 12, 'n'] , rmse-- 29.531679994995386 , mae-- 25.949446407790806 , mape-- 0.38389721794577514\n",
      "order--  (1, 0, 0) , seasonal order--  [1, 0, 0, 12, 'c'] , rmse-- 13.826692672436614 , mae-- 11.888276160775755 , mape-- 0.17687509391100525\n"
     ]
    },
    {
     "name": "stderr",
     "output_type": "stream",
     "text": [
      "C:\\Users\\alex\\anaconda3\\lib\\site-packages\\statsmodels\\base\\model.py:607: ConvergenceWarning: Maximum Likelihood optimization failed to converge. Check mle_retvals\n",
      "  warnings.warn(\"Maximum Likelihood optimization failed to \"\n"
     ]
    },
    {
     "name": "stdout",
     "output_type": "stream",
     "text": [
      "order--  (1, 0, 0) , seasonal order--  [1, 0, 0, 12, 't'] , rmse-- 41.83135276411614 , mae-- 37.09678358401617 , mape-- 0.5466101312169601\n",
      "order--  (1, 0, 0) , seasonal order--  [1, 0, 0, 12, 'ct'] , rmse-- 16.251514397606883 , mae-- 14.070078187017858 , mape-- 0.20780275007406204\n"
     ]
    },
    {
     "name": "stderr",
     "output_type": "stream",
     "text": [
      "C:\\Users\\alex\\anaconda3\\lib\\site-packages\\statsmodels\\base\\model.py:607: ConvergenceWarning: Maximum Likelihood optimization failed to converge. Check mle_retvals\n",
      "  warnings.warn(\"Maximum Likelihood optimization failed to \"\n"
     ]
    },
    {
     "name": "stdout",
     "output_type": "stream",
     "text": [
      "order--  (1, 0, 0) , seasonal order--  [1, 0, 1, 12, 'n'] , rmse-- 30.108677688315726 , mae-- 26.440274366625168 , mape-- 0.39119342883701214\n",
      "order--  (1, 0, 0) , seasonal order--  [1, 0, 1, 12, 'c'] , rmse-- 12.063015791086697 , mae-- 10.238761680733367 , mape-- 0.1526959469025171\n",
      "order--  (1, 0, 0) , seasonal order--  [1, 0, 1, 12, 't'] , rmse-- 38.18320848722852 , mae-- 33.57426295629181 , mape-- 0.4960696586448167\n",
      "order--  (1, 0, 0) , seasonal order--  [1, 0, 1, 12, 'ct'] , rmse-- 8.90038398810541 , mae-- 7.672013793759558 , mape-- 0.10216852298825757\n",
      "order--  (1, 0, 0) , seasonal order--  [1, 1, 0, 12, 'n'] , rmse-- 19.27188940967513 , mae-- 16.646606491570974 , mape-- 0.2475527033311572\n",
      "order--  (1, 0, 0) , seasonal order--  [1, 1, 0, 12, 'c'] , rmse-- 24.760273734586306 , mae-- 21.391743883591392 , mape-- 0.3180288622693593\n"
     ]
    },
    {
     "name": "stderr",
     "output_type": "stream",
     "text": [
      "C:\\Users\\alex\\anaconda3\\lib\\site-packages\\statsmodels\\base\\model.py:607: ConvergenceWarning: Maximum Likelihood optimization failed to converge. Check mle_retvals\n",
      "  warnings.warn(\"Maximum Likelihood optimization failed to \"\n"
     ]
    },
    {
     "name": "stdout",
     "output_type": "stream",
     "text": [
      "order--  (1, 0, 0) , seasonal order--  [1, 1, 0, 12, 't'] , rmse-- 33.92185913037848 , mae-- 29.419577737995912 , mape-- 0.43638687291926176\n"
     ]
    },
    {
     "name": "stderr",
     "output_type": "stream",
     "text": [
      "C:\\Users\\alex\\anaconda3\\lib\\site-packages\\statsmodels\\base\\model.py:607: ConvergenceWarning: Maximum Likelihood optimization failed to converge. Check mle_retvals\n",
      "  warnings.warn(\"Maximum Likelihood optimization failed to \"\n"
     ]
    },
    {
     "name": "stdout",
     "output_type": "stream",
     "text": [
      "order--  (1, 0, 0) , seasonal order--  [1, 1, 0, 12, 'ct'] , rmse-- 36.99425151267343 , mae-- 32.025881822240294 , mape-- 0.47504501843191155\n",
      "order--  (1, 0, 0) , seasonal order--  [1, 1, 1, 12, 'n'] , rmse-- 15.811084011856613 , mae-- 13.728199291315972 , mape-- 0.20383898020725227\n",
      "order--  (1, 0, 0) , seasonal order--  [1, 1, 1, 12, 'c'] , rmse-- 17.590875557299654 , mae-- 14.955414510265085 , mape-- 0.22353887749273715\n",
      "Could not fit with the designated model parameters\n"
     ]
    },
    {
     "ename": "ValueError",
     "evalue": "not enough values to unpack (expected 5, got 3)",
     "output_type": "error",
     "traceback": [
      "\u001b[1;31m---------------------------------------------------------------------------\u001b[0m",
      "\u001b[1;31mValueError\u001b[0m                                Traceback (most recent call last)",
      "Input \u001b[1;32mIn [13]\u001b[0m, in \u001b[0;36m<cell line: 1>\u001b[1;34m()\u001b[0m\n\u001b[1;32m----> 1\u001b[0m rmse,mae,mape,model, grid_search_melhor_conf, \u001b[38;5;241m=\u001b[39m \u001b[43mgrid_search\u001b[49m\u001b[43m(\u001b[49m\u001b[43morder_combos\u001b[49m\u001b[43m,\u001b[49m\u001b[43mseasonal_order_combos\u001b[49m\u001b[43m,\u001b[49m\u001b[43m \u001b[49m\u001b[43marima_train\u001b[49m\u001b[43m,\u001b[49m\u001b[43m \u001b[49m\u001b[38;5;28;43mlen\u001b[39;49m\u001b[43m(\u001b[49m\u001b[43marima_test\u001b[49m\u001b[43m)\u001b[49m\u001b[43m,\u001b[49m\u001b[43m \u001b[49m\u001b[38;5;124;43m\"\u001b[39;49m\u001b[38;5;124;43mSARIMA\u001b[39;49m\u001b[38;5;124;43m\"\u001b[39;49m\u001b[43m)\u001b[49m\n\u001b[0;32m      2\u001b[0m \u001b[38;5;28mprint\u001b[39m(\u001b[38;5;124mf\u001b[39m\u001b[38;5;124m\"\u001b[39m\u001b[38;5;124mA melhor configuração para essa série temporal é:\u001b[39m\u001b[38;5;132;01m{\u001b[39;00mgrid_search_melhor_conf\u001b[38;5;132;01m}\u001b[39;00m\u001b[38;5;124m\"\u001b[39m)\n",
      "Input \u001b[1;32mIn [12]\u001b[0m, in \u001b[0;36mgrid_search\u001b[1;34m(order_combos, seasonal_order_combos, df, steps, modo)\u001b[0m\n\u001b[0;32m     62\u001b[0m seasonal_order_combo \u001b[38;5;241m=\u001b[39m \u001b[38;5;28mlist\u001b[39m(seasonal_order_combo)\n\u001b[0;32m     63\u001b[0m \u001b[38;5;66;03m#Generate the SARIMA model\u001b[39;00m\n\u001b[1;32m---> 64\u001b[0m rmse,mae,mape,model_fit, prediction  \u001b[38;5;241m=\u001b[39m seasonal_arima_model(time_series \u001b[38;5;241m=\u001b[39m df, \n\u001b[0;32m     65\u001b[0m                                             order \u001b[38;5;241m=\u001b[39m order_combo, \n\u001b[0;32m     66\u001b[0m                                             seasonal_order \u001b[38;5;241m=\u001b[39m seasonal_order_combo[\u001b[38;5;241m0\u001b[39m:\u001b[38;5;241m4\u001b[39m],\n\u001b[0;32m     67\u001b[0m                                             trend \u001b[38;5;241m=\u001b[39m seasonal_order_combo[\u001b[38;5;241m-\u001b[39m\u001b[38;5;241m1\u001b[39m],\n\u001b[0;32m     68\u001b[0m                                             steps\u001b[38;5;241m=\u001b[39msteps,\n\u001b[0;32m     69\u001b[0m                                             modo\u001b[38;5;241m=\u001b[39mmodo)\n\u001b[0;32m     70\u001b[0m \u001b[38;5;28mprint\u001b[39m(\u001b[38;5;124m\"\u001b[39m\u001b[38;5;124morder-- \u001b[39m\u001b[38;5;124m\"\u001b[39m, order_combo, \u001b[38;5;124m\"\u001b[39m\u001b[38;5;124m, seasonal order-- \u001b[39m\u001b[38;5;124m\"\u001b[39m, seasonal_order_combo, \u001b[38;5;124m\"\u001b[39m\u001b[38;5;124m, rmse--\u001b[39m\u001b[38;5;124m\"\u001b[39m,rmse,\u001b[38;5;124m\"\u001b[39m\u001b[38;5;124m, mae--\u001b[39m\u001b[38;5;124m\"\u001b[39m,mae,\u001b[38;5;124m\"\u001b[39m\u001b[38;5;124m, mape--\u001b[39m\u001b[38;5;124m\"\u001b[39m,mape)\n\u001b[0;32m     71\u001b[0m \u001b[38;5;28;01mif\u001b[39;00m (rmse \u001b[38;5;241m<\u001b[39m lowest_rmse) \u001b[38;5;129;01mor\u001b[39;00m (mae \u001b[38;5;241m<\u001b[39m lowest_mae) \u001b[38;5;129;01mor\u001b[39;00m (mape \u001b[38;5;241m<\u001b[39m lowest_mape):\n",
      "\u001b[1;31mValueError\u001b[0m: not enough values to unpack (expected 5, got 3)"
     ]
    }
   ],
   "source": [
    "rmse,mae,mape,model, grid_search_melhor_conf, = grid_search(order_combos,seasonal_order_combos, arima_train, len(arima_test), \"SARIMA\")\n",
    "print(f\"A melhor configuração para essa série temporal é:{grid_search_melhor_conf}\")"
   ]
  },
  {
   "cell_type": "code",
   "execution_count": 14,
   "id": "00313532",
   "metadata": {},
   "outputs": [
    {
     "ename": "NameError",
     "evalue": "name 'grid_search_melhor_conf' is not defined",
     "output_type": "error",
     "traceback": [
      "\u001b[1;31m---------------------------------------------------------------------------\u001b[0m",
      "\u001b[1;31mNameError\u001b[0m                                 Traceback (most recent call last)",
      "Input \u001b[1;32mIn [14]\u001b[0m, in \u001b[0;36m<cell line: 1>\u001b[1;34m()\u001b[0m\n\u001b[1;32m----> 1\u001b[0m \u001b[38;5;28mprint\u001b[39m(\u001b[38;5;124mf\u001b[39m\u001b[38;5;124m\"\u001b[39m\u001b[38;5;124mA melhor configuração para essa série temporal é:\u001b[39m\u001b[38;5;132;01m{\u001b[39;00mgrid_search_melhor_conf\u001b[38;5;132;01m}\u001b[39;00m\u001b[38;5;124m\"\u001b[39m)\n",
      "\u001b[1;31mNameError\u001b[0m: name 'grid_search_melhor_conf' is not defined"
     ]
    }
   ],
   "source": [
    "print(f\"A melhor configuração para essa série temporal é:{grid_search_melhor_conf}\")"
   ]
  },
  {
   "cell_type": "code",
   "execution_count": 15,
   "id": "6ecd4625",
   "metadata": {},
   "outputs": [],
   "source": [
    "grid_search_melhor_conf = [(1, 0, 0), (0, 0, 1, 12), 'c']"
   ]
  },
  {
   "cell_type": "markdown",
   "id": "9ac14132",
   "metadata": {},
   "source": [
    "##### O grid search retornou os parâmetros pdq = 0,1,0 e PDQ = 0,0,1"
   ]
  },
  {
   "cell_type": "markdown",
   "id": "d77684bf",
   "metadata": {},
   "source": [
    "# Selecionando a melhor configuração"
   ]
  },
  {
   "cell_type": "code",
   "execution_count": 18,
   "id": "04cf5207",
   "metadata": {},
   "outputs": [
    {
     "name": "stdout",
     "output_type": "stream",
     "text": [
      "RMSE da config: [(0, 1, 0), (6, 0, 0, 12), 'n']- rmse:22.586430117373446, mae:19.82641609545243, mape:0.2936287444091531\n",
      "RMSE da config: [(0, 1, 0), (0, 0, 0, 12), 'n']- rmse:22.586430117373446, mae:19.82641609545243, mape:0.2936287444091531\n"
     ]
    },
    {
     "name": "stderr",
     "output_type": "stream",
     "text": [
      "C:\\Users\\alex\\anaconda3\\lib\\site-packages\\statsmodels\\base\\model.py:607: ConvergenceWarning: Maximum Likelihood optimization failed to converge. Check mle_retvals\n",
      "  warnings.warn(\"Maximum Likelihood optimization failed to \"\n"
     ]
    },
    {
     "name": "stdout",
     "output_type": "stream",
     "text": [
      "RMSE da config: [(1, 0, 0), (0, 0, 1, 12), 'c']- rmse:5.173262408123275, mae:4.230014084866261, mape:0.05758504611717986\n"
     ]
    }
   ],
   "source": [
    "configs = [ACF_PACF_config, auto_arima_config,grid_search_melhor_conf]\n",
    "rmse = 1000000\n",
    "mae = 1000000\n",
    "mape = 1000000\n",
    "for config in configs: \n",
    "    rmse_pred,mae_pred,mape_pred,model_fit,predicao = seasonal_arima_model(arima_train, config[0], config[1], config[2],len(arima_test),\"SARIMA\")\n",
    "    if rmse_pred <= rmse or mae_pred <= mae or mape_pred <= mape :\n",
    "        melhor_model = model_fit\n",
    "        mae=mae_pred\n",
    "        mape = mape_pred \n",
    "        melhor_predicao =  predicao\n",
    "        rmse = rmse_pred\n",
    "    print(f\"RMSE da config: {config}- rmse:{rmse}, mae:{mae}, mape:{mape}\")"
   ]
  },
  {
   "cell_type": "markdown",
   "id": "3da9df2c",
   "metadata": {},
   "source": [
    "#### a melhor configuração é pdq = 0,1,0 e PDQ =0,0,1"
   ]
  },
  {
   "cell_type": "code",
   "execution_count": 114,
   "id": "2ee0a184",
   "metadata": {},
   "outputs": [
    {
     "ename": "TypeError",
     "evalue": "cannot unpack non-iterable NoneType object",
     "output_type": "error",
     "traceback": [
      "\u001b[1;31m---------------------------------------------------------------------------\u001b[0m",
      "\u001b[1;31mTypeError\u001b[0m                                 Traceback (most recent call last)",
      "Input \u001b[1;32mIn [114]\u001b[0m, in \u001b[0;36m<cell line: 1>\u001b[1;34m()\u001b[0m\n\u001b[1;32m----> 1\u001b[0m rmse_pred,model_fit,melhor_predicao \u001b[38;5;241m=\u001b[39m seasonal_arima_model(arima_train, (\u001b[38;5;241m1\u001b[39m,\u001b[38;5;241m0\u001b[39m,\u001b[38;5;241m1\u001b[39m), (\u001b[38;5;241m0\u001b[39m,\u001b[38;5;241m0\u001b[39m,\u001b[38;5;241m0\u001b[39m,\u001b[38;5;241m12\u001b[39m),\u001b[38;5;124m'\u001b[39m\u001b[38;5;124mc\u001b[39m\u001b[38;5;124m'\u001b[39m,\u001b[38;5;28mlen\u001b[39m(arima_test))\n",
      "\u001b[1;31mTypeError\u001b[0m: cannot unpack non-iterable NoneType object"
     ]
    }
   ],
   "source": [
    "rmse_pred,model_fit,melhor_predicao = seasonal_arima_model(arima_train, (1,0,1), (0,0,0,12),'c',len(arima_test))"
   ]
  },
  {
   "cell_type": "code",
   "execution_count": 23,
   "id": "ef47ea79",
   "metadata": {},
   "outputs": [
    {
     "data": {
      "image/png": "[encoded data removed]",
      "text/plain": [
       "<Figure size 1152x576 with 1 Axes>"
      ]
     },
     "metadata": {
      "needs_background": "light"
     },
     "output_type": "display_data"
    }
   ],
   "source": [
    "import numpy as np\n",
    "import matplotlib.pyplot as plt\n",
    "from statsmodels.graphics.tsaplots import plot_predict\n",
    "\n",
    "# Fazendo previsões\n",
    "previsoes = melhor_model.get_forecast(steps=len(arima_test))\n",
    "intervalo_confianca = previsoes.conf_int(alpha=0.05)\n",
    "# Plotando os resultados\n",
    "plt.figure(figsize=(16, 8))\n",
    "\n",
    "# Linha da série temporal\n",
    "plt.plot(arima_train.index, arima_train['value'],color='blue', label='Real treino')\n",
    "plt.plot(arima_test.index, arima_test['value'],color='orange', label='Real teste')\n",
    "\n",
    "# Linha das previsões\n",
    "plt.plot(previsoes.predicted_mean.index, previsoes.predicted_mean, color='green', label='Previsão')\n",
    "\n",
    "# Área do intervalo de confiança\n",
    "plt.fill_between(intervalo_confianca.index,\n",
    "                 intervalo_confianca.iloc[:, 0],\n",
    "                 intervalo_confianca.iloc[:, 1], color='pink', alpha=0.5)\n",
    "\n",
    "plt.ylabel('Valores', fontsize=12)\n",
    "plt.xlabel('Datas', fontsize=12)\n",
    "plt.title('Índice AAXJ previsto com o modelo SARIMA')\n",
    "\n",
    "plt.legend()\n",
    "plt.show()"
   ]
  },
  {
   "cell_type": "code",
   "execution_count": 20,
   "id": "66130002",
   "metadata": {},
   "outputs": [
    {
     "data": {
      "text/plain": [
       "<matplotlib.legend.Legend at 0x1ab8117df10>"
      ]
     },
     "execution_count": 20,
     "metadata": {},
     "output_type": "execute_result"
    },
    {
     "data": {
      "image/png": "[encoded data removed]",
      "text/plain": [
       "<Figure size 1152x288 with 1 Axes>"
      ]
     },
     "metadata": {
      "needs_background": "light"
     },
     "output_type": "display_data"
    }
   ],
   "source": [
    "import matplotlib.pyplot as plt\n",
    "plt.figure(figsize=(16,4))\n",
    "plt.plot(arima_test, label=\"Real\")\n",
    "plt.plot(melhor_predicao, label=\"Previsto\")\n",
    "plt.title('', fontsize=20)\n",
    "plt.ylabel('Valores', fontsize=12)\n",
    "plt.xlabel('Datas', fontsize=12)\n",
    "plt.title('AAXJ Dados previstos e dados de teste')\n",
    "plt.legend()"
   ]
  },
  {
   "cell_type": "code",
   "execution_count": 21,
   "id": "d552fbef",
   "metadata": {},
   "outputs": [
    {
     "data": {
      "image/png": "[encoded data removed]",
      "text/plain": [
       "<Figure size 1080x864 with 4 Axes>"
      ]
     },
     "metadata": {
      "needs_background": "light"
     },
     "output_type": "display_data"
    }
   ],
   "source": [
    "# Suponha que 'modelo_sarima' é o seu modelo SARIMA ajustado\n",
    "melhor_model.plot_diagnostics(figsize=(15,12))\n",
    "plt.show()"
   ]
  },
  {
   "cell_type": "markdown",
   "id": "a992deda",
   "metadata": {},
   "source": [
    "# Prophet"
   ]
  },
  {
   "cell_type": "markdown",
   "id": "9febf772",
   "metadata": {},
   "source": [
    "## carregando dados"
   ]
  },
  {
   "cell_type": "code",
   "execution_count": 27,
   "id": "6c21fa42",
   "metadata": {},
   "outputs": [],
   "source": [
    "df = ler_csv('dados/AAXJ.csv')\n",
    "df_prophet = df_tratamento_dados(df)\n"
   ]
  },
  {
   "cell_type": "code",
   "execution_count": 314,
   "id": "6207bfda",
   "metadata": {},
   "outputs": [
    {
     "data": {
      "text/plain": [
       "5108"
      ]
     },
     "execution_count": 314,
     "metadata": {},
     "output_type": "execute_result"
    }
   ],
   "source": [
    "len(df_prophet)"
   ]
  },
  {
   "cell_type": "markdown",
   "id": "a75ca5e0",
   "metadata": {},
   "source": [
    "## Adequando o df"
   ]
  },
  {
   "cell_type": "code",
   "execution_count": 28,
   "id": "376f5f3d",
   "metadata": {},
   "outputs": [
    {
     "data": {
      "text/plain": [
       "5108"
      ]
     },
     "execution_count": 28,
     "metadata": {},
     "output_type": "execute_result"
    }
   ],
   "source": [
    "df_prophet['ds'] = df_prophet.index.copy()\n",
    "df_prophet.rename(columns={'value': 'y'}, inplace=True)\n",
    "df_prophet.reset_index(inplace=True, drop=True)\n",
    "df_prophet.dropna(inplace=True)\n",
    "df_prophet.tail(9)\n",
    "len(df_prophet)"
   ]
  },
  {
   "cell_type": "markdown",
   "id": "3412b01e",
   "metadata": {},
   "source": [
    "## Separando treino e teste"
   ]
  },
  {
   "cell_type": "code",
   "execution_count": 29,
   "id": "a1713446",
   "metadata": {},
   "outputs": [
    {
     "name": "stdout",
     "output_type": "stream",
     "text": [
      "4086\n",
      "1022\n"
     ]
    }
   ],
   "source": [
    "prophet_train, prophet_test = split(df_prophet, 0.8) \n"
   ]
  },
  {
   "cell_type": "code",
   "execution_count": 260,
   "id": "876fd0eb",
   "metadata": {},
   "outputs": [
    {
     "name": "stdout",
     "output_type": "stream",
     "text": [
      "5058\n",
      "50\n"
     ]
    }
   ],
   "source": [
    "def split(df_arima, days):\n",
    "    train = df_arima[:-days]\n",
    "    test = df_arima[-days:]\n",
    "    print(len(train))\n",
    "    print(len(test))\n",
    "    return train, test\n",
    "\n",
    "prophet_train, prophet_test = split(df_prophet, 50)"
   ]
  },
  {
   "cell_type": "code",
   "execution_count": 30,
   "id": "d940ce54",
   "metadata": {},
   "outputs": [
    {
     "data": {
      "image/png": "[encoded data removed]",
      "text/plain": [
       "<Figure size 1152x288 with 1 Axes>"
      ]
     },
     "metadata": {
      "needs_background": "light"
     },
     "output_type": "display_data"
    }
   ],
   "source": [
    "import matplotlib.pyplot as plt\n",
    "plt.figure(figsize=(16,4))\n",
    "# Plotando o primeiro gráfico\n",
    "plt.plot(prophet_train['ds'], prophet_train['y'], label='Predito')\n",
    "# Plotando o segundo gráfico\n",
    "plt.plot(prophet_test['ds'], prophet_test['y'], label='Teste')\n",
    "# Adicionando uma legenda\n",
    "plt.legend()\n",
    "\n",
    "# Exibindo o gráfico\n",
    "plt.show()"
   ]
  },
  {
   "cell_type": "markdown",
   "id": "cbb20b70",
   "metadata": {},
   "source": [
    "## Ajustando o modelo"
   ]
  },
  {
   "cell_type": "code",
   "execution_count": 31,
   "id": "53a7e509",
   "metadata": {},
   "outputs": [
    {
     "name": "stderr",
     "output_type": "stream",
     "text": [
      "07:54:49 - cmdstanpy - INFO - Chain [1] start processing\n",
      "07:54:50 - cmdstanpy - INFO - Chain [1] done processing\n"
     ]
    },
    {
     "name": "stdout",
     "output_type": "stream",
     "text": [
      "Index(['ds', 'trend', 'yhat_lower', 'yhat_upper', 'trend_lower', 'trend_upper',\n",
      "       'additive_terms', 'additive_terms_lower', 'additive_terms_upper',\n",
      "       'weekly', 'weekly_lower', 'weekly_upper', 'yearly', 'yearly_lower',\n",
      "       'yearly_upper', 'multiplicative_terms', 'multiplicative_terms_lower',\n",
      "       'multiplicative_terms_upper', 'yhat'],\n",
      "      dtype='object')\n"
     ]
    },
    {
     "data": {
      "text/html": [
       "<div>\n",
       "<style scoped>\n",
       "    .dataframe tbody tr th:only-of-type {\n",
       "        vertical-align: middle;\n",
       "    }\n",
       "\n",
       "    .dataframe tbody tr th {\n",
       "        vertical-align: top;\n",
       "    }\n",
       "\n",
       "    .dataframe thead th {\n",
       "        text-align: right;\n",
       "    }\n",
       "</style>\n",
       "<table border=\"1\" class=\"dataframe\">\n",
       "  <thead>\n",
       "    <tr style=\"text-align: right;\">\n",
       "      <th></th>\n",
       "      <th>yhat_lower</th>\n",
       "      <th>yhat_upper</th>\n",
       "      <th>yhat</th>\n",
       "    </tr>\n",
       "  </thead>\n",
       "  <tbody>\n",
       "    <tr>\n",
       "      <th>0</th>\n",
       "      <td>72.309412</td>\n",
       "      <td>86.628422</td>\n",
       "      <td>79.675490</td>\n",
       "    </tr>\n",
       "    <tr>\n",
       "      <th>1</th>\n",
       "      <td>72.783780</td>\n",
       "      <td>86.043519</td>\n",
       "      <td>79.555486</td>\n",
       "    </tr>\n",
       "    <tr>\n",
       "      <th>2</th>\n",
       "      <td>72.294570</td>\n",
       "      <td>86.646934</td>\n",
       "      <td>79.453039</td>\n",
       "    </tr>\n",
       "    <tr>\n",
       "      <th>3</th>\n",
       "      <td>72.498550</td>\n",
       "      <td>86.428262</td>\n",
       "      <td>79.445895</td>\n",
       "    </tr>\n",
       "    <tr>\n",
       "      <th>4</th>\n",
       "      <td>72.239897</td>\n",
       "      <td>86.199747</td>\n",
       "      <td>79.405810</td>\n",
       "    </tr>\n",
       "  </tbody>\n",
       "</table>\n",
       "</div>"
      ],
      "text/plain": [
       "   yhat_lower  yhat_upper       yhat\n",
       "0   72.309412   86.628422  79.675490\n",
       "1   72.783780   86.043519  79.555486\n",
       "2   72.294570   86.646934  79.453039\n",
       "3   72.498550   86.428262  79.445895\n",
       "4   72.239897   86.199747  79.405810"
      ]
     },
     "execution_count": 31,
     "metadata": {},
     "output_type": "execute_result"
    }
   ],
   "source": [
    "# This function fits the prophet model to the input data and generates a forecast\n",
    "from prophet import Prophet\n",
    "def fit_and_forecast(df, periods, interval_width, changepoint_range=0.5):\n",
    "    # set the uncertainty interval\n",
    "    Prophet(interval_width=interval_width)\n",
    "    # Instantiate the model\n",
    "    model = Prophet(changepoint_range=changepoint_range)\n",
    "    # Fit the model\n",
    "    model.fit(df)\n",
    "    # Create a dataframe with a given number of dates\n",
    "    future_df = model.make_future_dataframe(periods=periods,freq='D',include_history = False)\n",
    "    # Generate a forecast for the given dates\n",
    "    forecast_df = model.predict(future_df)\n",
    "    #print(forecast_df.head())\n",
    "    return forecast_df, model, future_df\n",
    "# Forecast for 365 days with full data\n",
    "forecast_df, model, future_df = fit_and_forecast(prophet_train, len(prophet_test), 0.95)\n",
    "print(forecast_df.columns)\n",
    "forecast_df[['yhat_lower', 'yhat_upper', 'yhat']].head(5)"
   ]
  },
  {
   "cell_type": "code",
   "execution_count": 283,
   "id": "74ab6a52",
   "metadata": {},
   "outputs": [
    {
     "data": {
      "image/png": "[encoded data removed]",
      "text/plain": [
       "<Figure size 720x432 with 1 Axes>"
      ]
     },
     "execution_count": 283,
     "metadata": {},
     "output_type": "execute_result"
    },
    {
     "data": {
      "image/png": "[encoded data removed]",
      "text/plain": [
       "<Figure size 720x432 with 1 Axes>"
      ]
     },
     "metadata": {},
     "output_type": "display_data"
    }
   ],
   "source": [
    "model.plot(forecast_df, uncertainty=True)"
   ]
  },
  {
   "cell_type": "code",
   "execution_count": 279,
   "id": "2cecc31c",
   "metadata": {},
   "outputs": [
    {
     "data": {
      "image/png": "[encoded data removed]",
      "text/plain": [
       "<Figure size 720x432 with 1 Axes>"
      ]
     },
     "metadata": {},
     "output_type": "display_data"
    }
   ],
   "source": [
    "from prophet.plot import add_changepoints_to_plot\n",
    "axislist = add_changepoints_to_plot(model.plot(forecast_df).gca(), model, forecast_df)"
   ]
  },
  {
   "cell_type": "code",
   "execution_count": 620,
   "id": "9b0b36ad",
   "metadata": {},
   "outputs": [],
   "source": [
    "predicao = forecast_df[['ds','yhat']]\n",
    "predicao = predicao[len(prophet_train):]"
   ]
  },
  {
   "cell_type": "code",
   "execution_count": 621,
   "id": "ac9317a9",
   "metadata": {},
   "outputs": [
    {
     "data": {
      "text/html": [
       "<div>\n",
       "<style scoped>\n",
       "    .dataframe tbody tr th:only-of-type {\n",
       "        vertical-align: middle;\n",
       "    }\n",
       "\n",
       "    .dataframe tbody tr th {\n",
       "        vertical-align: top;\n",
       "    }\n",
       "\n",
       "    .dataframe thead th {\n",
       "        text-align: right;\n",
       "    }\n",
       "</style>\n",
       "<table border=\"1\" class=\"dataframe\">\n",
       "  <thead>\n",
       "    <tr style=\"text-align: right;\">\n",
       "      <th></th>\n",
       "      <th>y</th>\n",
       "      <th>ds</th>\n",
       "    </tr>\n",
       "  </thead>\n",
       "  <tbody>\n",
       "    <tr>\n",
       "      <th>4596</th>\n",
       "      <td>106.472000</td>\n",
       "      <td>2022-08-05</td>\n",
       "    </tr>\n",
       "    <tr>\n",
       "      <th>4597</th>\n",
       "      <td>107.115333</td>\n",
       "      <td>2022-08-06</td>\n",
       "    </tr>\n",
       "    <tr>\n",
       "      <th>4598</th>\n",
       "      <td>107.758667</td>\n",
       "      <td>2022-08-07</td>\n",
       "    </tr>\n",
       "    <tr>\n",
       "      <th>4599</th>\n",
       "      <td>108.402000</td>\n",
       "      <td>2022-08-08</td>\n",
       "    </tr>\n",
       "    <tr>\n",
       "      <th>4600</th>\n",
       "      <td>108.651000</td>\n",
       "      <td>2022-08-09</td>\n",
       "    </tr>\n",
       "    <tr>\n",
       "      <th>...</th>\n",
       "      <td>...</td>\n",
       "      <td>...</td>\n",
       "    </tr>\n",
       "    <tr>\n",
       "      <th>5102</th>\n",
       "      <td>133.143000</td>\n",
       "      <td>2023-12-24</td>\n",
       "    </tr>\n",
       "    <tr>\n",
       "      <th>5103</th>\n",
       "      <td>133.338000</td>\n",
       "      <td>2023-12-25</td>\n",
       "    </tr>\n",
       "    <tr>\n",
       "      <th>5104</th>\n",
       "      <td>133.533000</td>\n",
       "      <td>2023-12-26</td>\n",
       "    </tr>\n",
       "    <tr>\n",
       "      <th>5105</th>\n",
       "      <td>134.194000</td>\n",
       "      <td>2023-12-27</td>\n",
       "    </tr>\n",
       "    <tr>\n",
       "      <th>5106</th>\n",
       "      <td>134.185000</td>\n",
       "      <td>2023-12-28</td>\n",
       "    </tr>\n",
       "  </tbody>\n",
       "</table>\n",
       "<p>511 rows × 2 columns</p>\n",
       "</div>"
      ],
      "text/plain": [
       "               y         ds\n",
       "4596  106.472000 2022-08-05\n",
       "4597  107.115333 2022-08-06\n",
       "4598  107.758667 2022-08-07\n",
       "4599  108.402000 2022-08-08\n",
       "4600  108.651000 2022-08-09\n",
       "...          ...        ...\n",
       "5102  133.143000 2023-12-24\n",
       "5103  133.338000 2023-12-25\n",
       "5104  133.533000 2023-12-26\n",
       "5105  134.194000 2023-12-27\n",
       "5106  134.185000 2023-12-28\n",
       "\n",
       "[511 rows x 2 columns]"
      ]
     },
     "execution_count": 621,
     "metadata": {},
     "output_type": "execute_result"
    }
   ],
   "source": [
    "prophet_test"
   ]
  },
  {
   "cell_type": "code",
   "execution_count": 623,
   "id": "024d43bc",
   "metadata": {},
   "outputs": [
    {
     "data": {
      "text/plain": [
       "7.821085174542876"
      ]
     },
     "execution_count": 623,
     "metadata": {},
     "output_type": "execute_result"
    }
   ],
   "source": [
    "rmse = np.sqrt(mean_squared_error(prophet_test['y'], predicao['yhat']))\n",
    "rmse"
   ]
  },
  {
   "cell_type": "markdown",
   "id": "71dd20c7",
   "metadata": {},
   "source": [
    "## Ajuste de hiperparâmetros"
   ]
  },
  {
   "cell_type": "code",
   "execution_count": 107,
   "id": "a9bd1934",
   "metadata": {},
   "outputs": [
    {
     "name": "stdout",
     "output_type": "stream",
     "text": [
      "Total Possible Models 72\n"
     ]
    }
   ],
   "source": [
    "from sklearn.model_selection import ParameterGrid\n",
    "params_grid = {'seasonality_mode':(['additive']),\n",
    "               'changepoint_prior_scale':[0.03, 0.035, 0.04],\n",
    "              'holidays_prior_scale': [5,10,15,20],\n",
    "               'changepoint_range':[0.85,0.9],\n",
    "              'n_changepoints' : [50,75,100]}\n",
    "grid = ParameterGrid(params_grid)\n",
    "cnt = 0\n",
    "for p in grid:\n",
    "    cnt = cnt+1\n",
    "\n",
    "print('Total Possible Models',cnt)"
   ]
  },
  {
   "cell_type": "code",
   "execution_count": 320,
   "id": "a7ef9318",
   "metadata": {},
   "outputs": [
    {
     "name": "stdout",
     "output_type": "stream",
     "text": [
      "Total Possible Models 216\n"
     ]
    }
   ],
   "source": [
    "from sklearn.model_selection import ParameterGrid\n",
    "params_grid = {'seasonality_mode':(['additive','multiplicative']),\n",
    "               'changepoint_prior_scale':[0.01,0.04, 0.08],\n",
    "              'holidays_prior_scale': [1,10,20],\n",
    "               'changepoint_range':[0.4,0.6,0.8],\n",
    "              'n_changepoints' : [50,75,90,100]}\n",
    "grid = ParameterGrid(params_grid)\n",
    "cnt = 0\n",
    "for p in grid:\n",
    "    cnt = cnt+1\n",
    "\n",
    "print('Total Possible Models',cnt)"
   ]
  },
  {
   "cell_type": "code",
   "execution_count": 108,
   "id": "f9ebc8cb",
   "metadata": {},
   "outputs": [
    {
     "name": "stdout",
     "output_type": "stream",
     "text": [
      "          ds                     holiday\n",
      "0 2010-01-01  Confraternização Universal\n",
      "1 2010-04-02           Sexta-feira Santa\n",
      "2 2010-04-21                  Tiradentes\n",
      "3 2010-05-01          Dia do Trabalhador\n",
      "4 2010-09-07     Independência do Brasil\n"
     ]
    }
   ],
   "source": [
    "import holidays\n",
    "\n",
    "# Cria um DataFrame vazio para armazenar os feriados\n",
    "holiday = pd.DataFrame([])\n",
    "\n",
    "# Itera sobre os feriados do Brasil entre 2010 e 2023\n",
    "for date, name in sorted(holidays.Brazil(years=range(2010, 2024)).items()):\n",
    "    # Adiciona os feriados ao DataFrame\n",
    "    holiday = pd.concat([holiday, pd.DataFrame({'ds': date, 'holiday': name}, index=[0])], ignore_index=True)\n",
    "\n",
    "# Converte a coluna 'ds' para o formato datetime\n",
    "holiday['ds'] = pd.to_datetime(holiday['ds'], format='%Y-%m-%d', errors='ignore')\n",
    "\n",
    "# Exibe os primeiros registros do DataFrame\n",
    "print(holiday.head())"
   ]
  },
  {
   "cell_type": "code",
   "execution_count": 24,
   "id": "04794d7e",
   "metadata": {},
   "outputs": [
    {
     "name": "stdout",
     "output_type": "stream",
     "text": [
      "Total Possible Models 160\n"
     ]
    }
   ],
   "source": [
    "from sklearn.model_selection import ParameterGrid\n",
    "params_grid = {'seasonality_mode':(['additive','multiplicative']),\n",
    "               'seasonality_prior_scale':[0.01,1,5,10,12],\n",
    "               'changepoint_prior_scale':[0.001,0.05,0.08,0.5],\n",
    "              'holidays_prior_scale': [5,10],\n",
    "               'changepoint_range':[0.2],\n",
    "              'n_changepoints' : [50,75]}\n",
    "grid = ParameterGrid(params_grid)\n",
    "cnt = 0\n",
    "for p in grid:\n",
    "    cnt = cnt+1\n",
    "\n",
    "print('Total Possible Models',cnt)"
   ]
  },
  {
   "cell_type": "code",
   "execution_count": 32,
   "id": "ced4ba26",
   "metadata": {},
   "outputs": [
    {
     "name": "stdout",
     "output_type": "stream",
     "text": [
      "{'changepoint_prior_scale': 0.001, 'changepoint_range': 0.2, 'holidays_prior_scale': 5, 'n_changepoints': 50, 'seasonality_mode': 'additive', 'seasonality_prior_scale': 0.01}\n"
     ]
    },
    {
     "name": "stderr",
     "output_type": "stream",
     "text": [
      "07:54:57 - cmdstanpy - INFO - Chain [1] start processing\n",
      "07:54:57 - cmdstanpy - INFO - Chain [1] done processing\n"
     ]
    },
    {
     "name": "stdout",
     "output_type": "stream",
     "text": [
      "Root Mean Square Error(RMSE)------------------------------------ 12.589483335147166\n"
     ]
    },
    {
     "name": "stderr",
     "output_type": "stream",
     "text": [
      "C:\\Users\\alex\\AppData\\Local\\Temp\\ipykernel_11468\\1416017460.py:35: FutureWarning: The frame.append method is deprecated and will be removed from pandas in a future version. Use pandas.concat instead.\n",
      "  model_parameters = model_parameters.append({'RMSE':RMSE,'MAE':MAE,'MAPE':MAPE,'Parameters':p},ignore_index=True)\n"
     ]
    },
    {
     "name": "stdout",
     "output_type": "stream",
     "text": [
      "total:  1.0\n",
      "{'changepoint_prior_scale': 0.001, 'changepoint_range': 0.2, 'holidays_prior_scale': 5, 'n_changepoints': 50, 'seasonality_mode': 'additive', 'seasonality_prior_scale': 1}\n"
     ]
    },
    {
     "name": "stderr",
     "output_type": "stream",
     "text": [
      "07:54:58 - cmdstanpy - INFO - Chain [1] start processing\n",
      "07:54:59 - cmdstanpy - INFO - Chain [1] done processing\n"
     ]
    },
    {
     "name": "stdout",
     "output_type": "stream",
     "text": [
      "Root Mean Square Error(RMSE)------------------------------------ 12.589483335147166\n",
      "total:  1.0\n",
      "{'changepoint_prior_scale': 0.001, 'changepoint_range': 0.2, 'holidays_prior_scale': 5, 'n_changepoints': 50, 'seasonality_mode': 'additive', 'seasonality_prior_scale': 5}\n"
     ]
    },
    {
     "name": "stderr",
     "output_type": "stream",
     "text": [
      "C:\\Users\\alex\\AppData\\Local\\Temp\\ipykernel_11468\\1416017460.py:35: FutureWarning: The frame.append method is deprecated and will be removed from pandas in a future version. Use pandas.concat instead.\n",
      "  model_parameters = model_parameters.append({'RMSE':RMSE,'MAE':MAE,'MAPE':MAPE,'Parameters':p},ignore_index=True)\n",
      "07:54:59 - cmdstanpy - INFO - Chain [1] start processing\n",
      "07:55:00 - cmdstanpy - INFO - Chain [1] done processing\n"
     ]
    },
    {
     "name": "stdout",
     "output_type": "stream",
     "text": [
      "Root Mean Square Error(RMSE)------------------------------------ 12.589483335147166\n",
      "total:  2.0\n",
      "{'changepoint_prior_scale': 0.001, 'changepoint_range': 0.2, 'holidays_prior_scale': 5, 'n_changepoints': 50, 'seasonality_mode': 'additive', 'seasonality_prior_scale': 10}\n"
     ]
    },
    {
     "name": "stderr",
     "output_type": "stream",
     "text": [
      "C:\\Users\\alex\\AppData\\Local\\Temp\\ipykernel_11468\\1416017460.py:35: FutureWarning: The frame.append method is deprecated and will be removed from pandas in a future version. Use pandas.concat instead.\n",
      "  model_parameters = model_parameters.append({'RMSE':RMSE,'MAE':MAE,'MAPE':MAPE,'Parameters':p},ignore_index=True)\n",
      "07:55:01 - cmdstanpy - INFO - Chain [1] start processing\n",
      "07:55:01 - cmdstanpy - INFO - Chain [1] done processing\n"
     ]
    },
    {
     "name": "stdout",
     "output_type": "stream",
     "text": [
      "Root Mean Square Error(RMSE)------------------------------------ 12.589483335147166\n",
      "total:  3.0\n",
      "{'changepoint_prior_scale': 0.001, 'changepoint_range': 0.2, 'holidays_prior_scale': 5, 'n_changepoints': 50, 'seasonality_mode': 'additive', 'seasonality_prior_scale': 12}\n"
     ]
    },
    {
     "name": "stderr",
     "output_type": "stream",
     "text": [
      "C:\\Users\\alex\\AppData\\Local\\Temp\\ipykernel_11468\\1416017460.py:35: FutureWarning: The frame.append method is deprecated and will be removed from pandas in a future version. Use pandas.concat instead.\n",
      "  model_parameters = model_parameters.append({'RMSE':RMSE,'MAE':MAE,'MAPE':MAPE,'Parameters':p},ignore_index=True)\n",
      "07:55:02 - cmdstanpy - INFO - Chain [1] start processing\n",
      "07:55:02 - cmdstanpy - INFO - Chain [1] done processing\n"
     ]
    },
    {
     "name": "stdout",
     "output_type": "stream",
     "text": [
      "Root Mean Square Error(RMSE)------------------------------------ 12.589483335147166\n",
      "total:  3.0\n",
      "{'changepoint_prior_scale': 0.001, 'changepoint_range': 0.2, 'holidays_prior_scale': 5, 'n_changepoints': 50, 'seasonality_mode': 'multiplicative', 'seasonality_prior_scale': 0.01}\n"
     ]
    },
    {
     "name": "stderr",
     "output_type": "stream",
     "text": [
      "C:\\Users\\alex\\AppData\\Local\\Temp\\ipykernel_11468\\1416017460.py:35: FutureWarning: The frame.append method is deprecated and will be removed from pandas in a future version. Use pandas.concat instead.\n",
      "  model_parameters = model_parameters.append({'RMSE':RMSE,'MAE':MAE,'MAPE':MAPE,'Parameters':p},ignore_index=True)\n",
      "07:55:03 - cmdstanpy - INFO - Chain [1] start processing\n",
      "07:55:04 - cmdstanpy - INFO - Chain [1] done processing\n"
     ]
    },
    {
     "name": "stdout",
     "output_type": "stream",
     "text": [
      "Root Mean Square Error(RMSE)------------------------------------ 12.704278830609864\n",
      "total:  4.0\n",
      "{'changepoint_prior_scale': 0.001, 'changepoint_range': 0.2, 'holidays_prior_scale': 5, 'n_changepoints': 50, 'seasonality_mode': 'multiplicative', 'seasonality_prior_scale': 1}\n"
     ]
    },
    {
     "name": "stderr",
     "output_type": "stream",
     "text": [
      "C:\\Users\\alex\\AppData\\Local\\Temp\\ipykernel_11468\\1416017460.py:35: FutureWarning: The frame.append method is deprecated and will be removed from pandas in a future version. Use pandas.concat instead.\n",
      "  model_parameters = model_parameters.append({'RMSE':RMSE,'MAE':MAE,'MAPE':MAPE,'Parameters':p},ignore_index=True)\n",
      "07:55:05 - cmdstanpy - INFO - Chain [1] start processing\n",
      "07:55:05 - cmdstanpy - INFO - Chain [1] done processing\n"
     ]
    },
    {
     "name": "stdout",
     "output_type": "stream",
     "text": [
      "Root Mean Square Error(RMSE)------------------------------------ 12.704278830609864\n",
      "total:  4.0\n",
      "{'changepoint_prior_scale': 0.001, 'changepoint_range': 0.2, 'holidays_prior_scale': 5, 'n_changepoints': 50, 'seasonality_mode': 'multiplicative', 'seasonality_prior_scale': 5}\n"
     ]
    },
    {
     "name": "stderr",
     "output_type": "stream",
     "text": [
      "C:\\Users\\alex\\AppData\\Local\\Temp\\ipykernel_11468\\1416017460.py:35: FutureWarning: The frame.append method is deprecated and will be removed from pandas in a future version. Use pandas.concat instead.\n",
      "  model_parameters = model_parameters.append({'RMSE':RMSE,'MAE':MAE,'MAPE':MAPE,'Parameters':p},ignore_index=True)\n",
      "07:55:06 - cmdstanpy - INFO - Chain [1] start processing\n",
      "07:55:07 - cmdstanpy - INFO - Chain [1] done processing\n"
     ]
    },
    {
     "name": "stdout",
     "output_type": "stream",
     "text": [
      "Root Mean Square Error(RMSE)------------------------------------ 12.704278830609864\n",
      "total:  5.0\n",
      "{'changepoint_prior_scale': 0.001, 'changepoint_range': 0.2, 'holidays_prior_scale': 5, 'n_changepoints': 50, 'seasonality_mode': 'multiplicative', 'seasonality_prior_scale': 10}\n"
     ]
    },
    {
     "name": "stderr",
     "output_type": "stream",
     "text": [
      "C:\\Users\\alex\\AppData\\Local\\Temp\\ipykernel_11468\\1416017460.py:35: FutureWarning: The frame.append method is deprecated and will be removed from pandas in a future version. Use pandas.concat instead.\n",
      "  model_parameters = model_parameters.append({'RMSE':RMSE,'MAE':MAE,'MAPE':MAPE,'Parameters':p},ignore_index=True)\n",
      "07:55:09 - cmdstanpy - INFO - Chain [1] start processing\n",
      "07:55:09 - cmdstanpy - INFO - Chain [1] done processing\n"
     ]
    },
    {
     "name": "stdout",
     "output_type": "stream",
     "text": [
      "Root Mean Square Error(RMSE)------------------------------------ 12.704278830609864\n",
      "total:  6.0\n",
      "{'changepoint_prior_scale': 0.001, 'changepoint_range': 0.2, 'holidays_prior_scale': 5, 'n_changepoints': 50, 'seasonality_mode': 'multiplicative', 'seasonality_prior_scale': 12}\n"
     ]
    },
    {
     "name": "stderr",
     "output_type": "stream",
     "text": [
      "C:\\Users\\alex\\AppData\\Local\\Temp\\ipykernel_11468\\1416017460.py:35: FutureWarning: The frame.append method is deprecated and will be removed from pandas in a future version. Use pandas.concat instead.\n",
      "  model_parameters = model_parameters.append({'RMSE':RMSE,'MAE':MAE,'MAPE':MAPE,'Parameters':p},ignore_index=True)\n",
      "07:55:12 - cmdstanpy - INFO - Chain [1] start processing\n",
      "07:55:13 - cmdstanpy - INFO - Chain [1] done processing\n"
     ]
    },
    {
     "name": "stdout",
     "output_type": "stream",
     "text": [
      "Root Mean Square Error(RMSE)------------------------------------ 12.704278830609864\n",
      "total:  6.0\n",
      "{'changepoint_prior_scale': 0.001, 'changepoint_range': 0.2, 'holidays_prior_scale': 5, 'n_changepoints': 75, 'seasonality_mode': 'additive', 'seasonality_prior_scale': 0.01}\n"
     ]
    },
    {
     "name": "stderr",
     "output_type": "stream",
     "text": [
      "C:\\Users\\alex\\AppData\\Local\\Temp\\ipykernel_11468\\1416017460.py:35: FutureWarning: The frame.append method is deprecated and will be removed from pandas in a future version. Use pandas.concat instead.\n",
      "  model_parameters = model_parameters.append({'RMSE':RMSE,'MAE':MAE,'MAPE':MAPE,'Parameters':p},ignore_index=True)\n",
      "07:55:15 - cmdstanpy - INFO - Chain [1] start processing\n",
      "07:55:15 - cmdstanpy - INFO - Chain [1] done processing\n"
     ]
    },
    {
     "name": "stdout",
     "output_type": "stream",
     "text": [
      "Root Mean Square Error(RMSE)------------------------------------ 12.752388972714344\n",
      "total:  7.000000000000001\n",
      "{'changepoint_prior_scale': 0.001, 'changepoint_range': 0.2, 'holidays_prior_scale': 5, 'n_changepoints': 75, 'seasonality_mode': 'additive', 'seasonality_prior_scale': 1}\n"
     ]
    },
    {
     "name": "stderr",
     "output_type": "stream",
     "text": [
      "C:\\Users\\alex\\AppData\\Local\\Temp\\ipykernel_11468\\1416017460.py:35: FutureWarning: The frame.append method is deprecated and will be removed from pandas in a future version. Use pandas.concat instead.\n",
      "  model_parameters = model_parameters.append({'RMSE':RMSE,'MAE':MAE,'MAPE':MAPE,'Parameters':p},ignore_index=True)\n",
      "07:55:16 - cmdstanpy - INFO - Chain [1] start processing\n",
      "07:55:17 - cmdstanpy - INFO - Chain [1] done processing\n"
     ]
    },
    {
     "name": "stdout",
     "output_type": "stream",
     "text": [
      "Root Mean Square Error(RMSE)------------------------------------ 12.752388972714344\n",
      "total:  7.000000000000001\n",
      "{'changepoint_prior_scale': 0.001, 'changepoint_range': 0.2, 'holidays_prior_scale': 5, 'n_changepoints': 75, 'seasonality_mode': 'additive', 'seasonality_prior_scale': 5}\n"
     ]
    },
    {
     "name": "stderr",
     "output_type": "stream",
     "text": [
      "C:\\Users\\alex\\AppData\\Local\\Temp\\ipykernel_11468\\1416017460.py:35: FutureWarning: The frame.append method is deprecated and will be removed from pandas in a future version. Use pandas.concat instead.\n",
      "  model_parameters = model_parameters.append({'RMSE':RMSE,'MAE':MAE,'MAPE':MAPE,'Parameters':p},ignore_index=True)\n",
      "07:55:18 - cmdstanpy - INFO - Chain [1] start processing\n",
      "07:55:18 - cmdstanpy - INFO - Chain [1] done processing\n"
     ]
    },
    {
     "name": "stdout",
     "output_type": "stream",
     "text": [
      "Root Mean Square Error(RMSE)------------------------------------ 12.752388972714344\n",
      "total:  8.0\n",
      "{'changepoint_prior_scale': 0.001, 'changepoint_range': 0.2, 'holidays_prior_scale': 5, 'n_changepoints': 75, 'seasonality_mode': 'additive', 'seasonality_prior_scale': 10}\n"
     ]
    },
    {
     "name": "stderr",
     "output_type": "stream",
     "text": [
      "C:\\Users\\alex\\AppData\\Local\\Temp\\ipykernel_11468\\1416017460.py:35: FutureWarning: The frame.append method is deprecated and will be removed from pandas in a future version. Use pandas.concat instead.\n",
      "  model_parameters = model_parameters.append({'RMSE':RMSE,'MAE':MAE,'MAPE':MAPE,'Parameters':p},ignore_index=True)\n",
      "07:55:19 - cmdstanpy - INFO - Chain [1] start processing\n",
      "07:55:20 - cmdstanpy - INFO - Chain [1] done processing\n"
     ]
    },
    {
     "name": "stdout",
     "output_type": "stream",
     "text": [
      "Root Mean Square Error(RMSE)------------------------------------ 12.752388972714344\n",
      "total:  9.0\n",
      "{'changepoint_prior_scale': 0.001, 'changepoint_range': 0.2, 'holidays_prior_scale': 5, 'n_changepoints': 75, 'seasonality_mode': 'additive', 'seasonality_prior_scale': 12}\n"
     ]
    },
    {
     "name": "stderr",
     "output_type": "stream",
     "text": [
      "C:\\Users\\alex\\AppData\\Local\\Temp\\ipykernel_11468\\1416017460.py:35: FutureWarning: The frame.append method is deprecated and will be removed from pandas in a future version. Use pandas.concat instead.\n",
      "  model_parameters = model_parameters.append({'RMSE':RMSE,'MAE':MAE,'MAPE':MAPE,'Parameters':p},ignore_index=True)\n",
      "07:55:21 - cmdstanpy - INFO - Chain [1] start processing\n",
      "07:55:22 - cmdstanpy - INFO - Chain [1] done processing\n"
     ]
    },
    {
     "name": "stdout",
     "output_type": "stream",
     "text": [
      "Root Mean Square Error(RMSE)------------------------------------ 12.752388972714344\n",
      "total:  9.0\n",
      "{'changepoint_prior_scale': 0.001, 'changepoint_range': 0.2, 'holidays_prior_scale': 5, 'n_changepoints': 75, 'seasonality_mode': 'multiplicative', 'seasonality_prior_scale': 0.01}\n"
     ]
    },
    {
     "name": "stderr",
     "output_type": "stream",
     "text": [
      "C:\\Users\\alex\\AppData\\Local\\Temp\\ipykernel_11468\\1416017460.py:35: FutureWarning: The frame.append method is deprecated and will be removed from pandas in a future version. Use pandas.concat instead.\n",
      "  model_parameters = model_parameters.append({'RMSE':RMSE,'MAE':MAE,'MAPE':MAPE,'Parameters':p},ignore_index=True)\n",
      "07:55:25 - cmdstanpy - INFO - Chain [1] start processing\n",
      "07:55:25 - cmdstanpy - INFO - Chain [1] done processing\n"
     ]
    },
    {
     "name": "stdout",
     "output_type": "stream",
     "text": [
      "Root Mean Square Error(RMSE)------------------------------------ 12.814519765740098\n",
      "total:  10.0\n",
      "{'changepoint_prior_scale': 0.001, 'changepoint_range': 0.2, 'holidays_prior_scale': 5, 'n_changepoints': 75, 'seasonality_mode': 'multiplicative', 'seasonality_prior_scale': 1}\n"
     ]
    },
    {
     "name": "stderr",
     "output_type": "stream",
     "text": [
      "C:\\Users\\alex\\AppData\\Local\\Temp\\ipykernel_11468\\1416017460.py:35: FutureWarning: The frame.append method is deprecated and will be removed from pandas in a future version. Use pandas.concat instead.\n",
      "  model_parameters = model_parameters.append({'RMSE':RMSE,'MAE':MAE,'MAPE':MAPE,'Parameters':p},ignore_index=True)\n",
      "07:55:26 - cmdstanpy - INFO - Chain [1] start processing\n",
      "07:55:27 - cmdstanpy - INFO - Chain [1] done processing\n"
     ]
    },
    {
     "name": "stdout",
     "output_type": "stream",
     "text": [
      "Root Mean Square Error(RMSE)------------------------------------ 12.814519765740098\n",
      "total:  11.0\n",
      "{'changepoint_prior_scale': 0.001, 'changepoint_range': 0.2, 'holidays_prior_scale': 5, 'n_changepoints': 75, 'seasonality_mode': 'multiplicative', 'seasonality_prior_scale': 5}\n"
     ]
    },
    {
     "name": "stderr",
     "output_type": "stream",
     "text": [
      "C:\\Users\\alex\\AppData\\Local\\Temp\\ipykernel_11468\\1416017460.py:35: FutureWarning: The frame.append method is deprecated and will be removed from pandas in a future version. Use pandas.concat instead.\n",
      "  model_parameters = model_parameters.append({'RMSE':RMSE,'MAE':MAE,'MAPE':MAPE,'Parameters':p},ignore_index=True)\n",
      "07:55:28 - cmdstanpy - INFO - Chain [1] start processing\n",
      "07:55:28 - cmdstanpy - INFO - Chain [1] done processing\n"
     ]
    },
    {
     "name": "stdout",
     "output_type": "stream",
     "text": [
      "Root Mean Square Error(RMSE)------------------------------------ 12.814519765740098\n",
      "total:  11.0\n",
      "{'changepoint_prior_scale': 0.001, 'changepoint_range': 0.2, 'holidays_prior_scale': 5, 'n_changepoints': 75, 'seasonality_mode': 'multiplicative', 'seasonality_prior_scale': 10}\n"
     ]
    },
    {
     "name": "stderr",
     "output_type": "stream",
     "text": [
      "C:\\Users\\alex\\AppData\\Local\\Temp\\ipykernel_11468\\1416017460.py:35: FutureWarning: The frame.append method is deprecated and will be removed from pandas in a future version. Use pandas.concat instead.\n",
      "  model_parameters = model_parameters.append({'RMSE':RMSE,'MAE':MAE,'MAPE':MAPE,'Parameters':p},ignore_index=True)\n",
      "07:55:29 - cmdstanpy - INFO - Chain [1] start processing\n",
      "07:55:30 - cmdstanpy - INFO - Chain [1] done processing\n"
     ]
    },
    {
     "name": "stdout",
     "output_type": "stream",
     "text": [
      "Root Mean Square Error(RMSE)------------------------------------ 12.814519765740098\n",
      "total:  12.0\n",
      "{'changepoint_prior_scale': 0.001, 'changepoint_range': 0.2, 'holidays_prior_scale': 5, 'n_changepoints': 75, 'seasonality_mode': 'multiplicative', 'seasonality_prior_scale': 12}\n"
     ]
    },
    {
     "name": "stderr",
     "output_type": "stream",
     "text": [
      "C:\\Users\\alex\\AppData\\Local\\Temp\\ipykernel_11468\\1416017460.py:35: FutureWarning: The frame.append method is deprecated and will be removed from pandas in a future version. Use pandas.concat instead.\n",
      "  model_parameters = model_parameters.append({'RMSE':RMSE,'MAE':MAE,'MAPE':MAPE,'Parameters':p},ignore_index=True)\n",
      "07:55:32 - cmdstanpy - INFO - Chain [1] start processing\n",
      "07:55:33 - cmdstanpy - INFO - Chain [1] done processing\n"
     ]
    },
    {
     "name": "stdout",
     "output_type": "stream",
     "text": [
      "Root Mean Square Error(RMSE)------------------------------------ 12.814519765740098\n",
      "total:  12.0\n",
      "{'changepoint_prior_scale': 0.001, 'changepoint_range': 0.2, 'holidays_prior_scale': 10, 'n_changepoints': 50, 'seasonality_mode': 'additive', 'seasonality_prior_scale': 0.01}\n"
     ]
    },
    {
     "name": "stderr",
     "output_type": "stream",
     "text": [
      "C:\\Users\\alex\\AppData\\Local\\Temp\\ipykernel_11468\\1416017460.py:35: FutureWarning: The frame.append method is deprecated and will be removed from pandas in a future version. Use pandas.concat instead.\n",
      "  model_parameters = model_parameters.append({'RMSE':RMSE,'MAE':MAE,'MAPE':MAPE,'Parameters':p},ignore_index=True)\n",
      "07:55:34 - cmdstanpy - INFO - Chain [1] start processing\n",
      "07:55:35 - cmdstanpy - INFO - Chain [1] done processing\n"
     ]
    },
    {
     "name": "stdout",
     "output_type": "stream",
     "text": [
      "Root Mean Square Error(RMSE)------------------------------------ 12.589483335147166\n",
      "total:  13.0\n",
      "{'changepoint_prior_scale': 0.001, 'changepoint_range': 0.2, 'holidays_prior_scale': 10, 'n_changepoints': 50, 'seasonality_mode': 'additive', 'seasonality_prior_scale': 1}\n"
     ]
    },
    {
     "name": "stderr",
     "output_type": "stream",
     "text": [
      "C:\\Users\\alex\\AppData\\Local\\Temp\\ipykernel_11468\\1416017460.py:35: FutureWarning: The frame.append method is deprecated and will be removed from pandas in a future version. Use pandas.concat instead.\n",
      "  model_parameters = model_parameters.append({'RMSE':RMSE,'MAE':MAE,'MAPE':MAPE,'Parameters':p},ignore_index=True)\n",
      "07:55:36 - cmdstanpy - INFO - Chain [1] start processing\n",
      "07:55:36 - cmdstanpy - INFO - Chain [1] done processing\n"
     ]
    },
    {
     "name": "stdout",
     "output_type": "stream",
     "text": [
      "Root Mean Square Error(RMSE)------------------------------------ 12.589483335147166\n",
      "total:  14.000000000000002\n",
      "{'changepoint_prior_scale': 0.001, 'changepoint_range': 0.2, 'holidays_prior_scale': 10, 'n_changepoints': 50, 'seasonality_mode': 'additive', 'seasonality_prior_scale': 5}\n"
     ]
    },
    {
     "name": "stderr",
     "output_type": "stream",
     "text": [
      "C:\\Users\\alex\\AppData\\Local\\Temp\\ipykernel_11468\\1416017460.py:35: FutureWarning: The frame.append method is deprecated and will be removed from pandas in a future version. Use pandas.concat instead.\n",
      "  model_parameters = model_parameters.append({'RMSE':RMSE,'MAE':MAE,'MAPE':MAPE,'Parameters':p},ignore_index=True)\n",
      "07:55:37 - cmdstanpy - INFO - Chain [1] start processing\n",
      "07:55:37 - cmdstanpy - INFO - Chain [1] done processing\n"
     ]
    },
    {
     "name": "stdout",
     "output_type": "stream",
     "text": [
      "Root Mean Square Error(RMSE)------------------------------------ 12.589483335147166\n",
      "total:  14.000000000000002\n",
      "{'changepoint_prior_scale': 0.001, 'changepoint_range': 0.2, 'holidays_prior_scale': 10, 'n_changepoints': 50, 'seasonality_mode': 'additive', 'seasonality_prior_scale': 10}\n"
     ]
    },
    {
     "name": "stderr",
     "output_type": "stream",
     "text": [
      "C:\\Users\\alex\\AppData\\Local\\Temp\\ipykernel_11468\\1416017460.py:35: FutureWarning: The frame.append method is deprecated and will be removed from pandas in a future version. Use pandas.concat instead.\n",
      "  model_parameters = model_parameters.append({'RMSE':RMSE,'MAE':MAE,'MAPE':MAPE,'Parameters':p},ignore_index=True)\n",
      "07:55:38 - cmdstanpy - INFO - Chain [1] start processing\n",
      "07:55:39 - cmdstanpy - INFO - Chain [1] done processing\n"
     ]
    },
    {
     "name": "stdout",
     "output_type": "stream",
     "text": [
      "Root Mean Square Error(RMSE)------------------------------------ 12.589483335147166\n",
      "total:  15.0\n",
      "{'changepoint_prior_scale': 0.001, 'changepoint_range': 0.2, 'holidays_prior_scale': 10, 'n_changepoints': 50, 'seasonality_mode': 'additive', 'seasonality_prior_scale': 12}\n"
     ]
    },
    {
     "name": "stderr",
     "output_type": "stream",
     "text": [
      "C:\\Users\\alex\\AppData\\Local\\Temp\\ipykernel_11468\\1416017460.py:35: FutureWarning: The frame.append method is deprecated and will be removed from pandas in a future version. Use pandas.concat instead.\n",
      "  model_parameters = model_parameters.append({'RMSE':RMSE,'MAE':MAE,'MAPE':MAPE,'Parameters':p},ignore_index=True)\n",
      "07:55:39 - cmdstanpy - INFO - Chain [1] start processing\n",
      "07:55:40 - cmdstanpy - INFO - Chain [1] done processing\n"
     ]
    },
    {
     "name": "stdout",
     "output_type": "stream",
     "text": [
      "Root Mean Square Error(RMSE)------------------------------------ 12.589483335147166\n",
      "total:  16.0\n",
      "{'changepoint_prior_scale': 0.001, 'changepoint_range': 0.2, 'holidays_prior_scale': 10, 'n_changepoints': 50, 'seasonality_mode': 'multiplicative', 'seasonality_prior_scale': 0.01}\n"
     ]
    },
    {
     "name": "stderr",
     "output_type": "stream",
     "text": [
      "C:\\Users\\alex\\AppData\\Local\\Temp\\ipykernel_11468\\1416017460.py:35: FutureWarning: The frame.append method is deprecated and will be removed from pandas in a future version. Use pandas.concat instead.\n",
      "  model_parameters = model_parameters.append({'RMSE':RMSE,'MAE':MAE,'MAPE':MAPE,'Parameters':p},ignore_index=True)\n",
      "07:55:41 - cmdstanpy - INFO - Chain [1] start processing\n",
      "07:55:41 - cmdstanpy - INFO - Chain [1] done processing\n"
     ]
    },
    {
     "name": "stdout",
     "output_type": "stream",
     "text": [
      "Root Mean Square Error(RMSE)------------------------------------ 12.704278830609864\n",
      "total:  16.0\n",
      "{'changepoint_prior_scale': 0.001, 'changepoint_range': 0.2, 'holidays_prior_scale': 10, 'n_changepoints': 50, 'seasonality_mode': 'multiplicative', 'seasonality_prior_scale': 1}\n"
     ]
    },
    {
     "name": "stderr",
     "output_type": "stream",
     "text": [
      "C:\\Users\\alex\\AppData\\Local\\Temp\\ipykernel_11468\\1416017460.py:35: FutureWarning: The frame.append method is deprecated and will be removed from pandas in a future version. Use pandas.concat instead.\n",
      "  model_parameters = model_parameters.append({'RMSE':RMSE,'MAE':MAE,'MAPE':MAPE,'Parameters':p},ignore_index=True)\n",
      "07:55:42 - cmdstanpy - INFO - Chain [1] start processing\n",
      "07:55:43 - cmdstanpy - INFO - Chain [1] done processing\n"
     ]
    },
    {
     "name": "stdout",
     "output_type": "stream",
     "text": [
      "Root Mean Square Error(RMSE)------------------------------------ 12.704278830609864\n",
      "total:  17.0\n",
      "{'changepoint_prior_scale': 0.001, 'changepoint_range': 0.2, 'holidays_prior_scale': 10, 'n_changepoints': 50, 'seasonality_mode': 'multiplicative', 'seasonality_prior_scale': 5}\n"
     ]
    },
    {
     "name": "stderr",
     "output_type": "stream",
     "text": [
      "C:\\Users\\alex\\AppData\\Local\\Temp\\ipykernel_11468\\1416017460.py:35: FutureWarning: The frame.append method is deprecated and will be removed from pandas in a future version. Use pandas.concat instead.\n",
      "  model_parameters = model_parameters.append({'RMSE':RMSE,'MAE':MAE,'MAPE':MAPE,'Parameters':p},ignore_index=True)\n",
      "07:55:43 - cmdstanpy - INFO - Chain [1] start processing\n",
      "07:55:44 - cmdstanpy - INFO - Chain [1] done processing\n"
     ]
    },
    {
     "name": "stdout",
     "output_type": "stream",
     "text": [
      "Root Mean Square Error(RMSE)------------------------------------ 12.704278830609864\n",
      "total:  17.0\n",
      "{'changepoint_prior_scale': 0.001, 'changepoint_range': 0.2, 'holidays_prior_scale': 10, 'n_changepoints': 50, 'seasonality_mode': 'multiplicative', 'seasonality_prior_scale': 10}\n"
     ]
    },
    {
     "name": "stderr",
     "output_type": "stream",
     "text": [
      "C:\\Users\\alex\\AppData\\Local\\Temp\\ipykernel_11468\\1416017460.py:35: FutureWarning: The frame.append method is deprecated and will be removed from pandas in a future version. Use pandas.concat instead.\n",
      "  model_parameters = model_parameters.append({'RMSE':RMSE,'MAE':MAE,'MAPE':MAPE,'Parameters':p},ignore_index=True)\n",
      "07:55:45 - cmdstanpy - INFO - Chain [1] start processing\n",
      "07:55:45 - cmdstanpy - INFO - Chain [1] done processing\n"
     ]
    },
    {
     "name": "stdout",
     "output_type": "stream",
     "text": [
      "Root Mean Square Error(RMSE)------------------------------------ 12.704278830609864\n",
      "total:  18.0\n",
      "{'changepoint_prior_scale': 0.001, 'changepoint_range': 0.2, 'holidays_prior_scale': 10, 'n_changepoints': 50, 'seasonality_mode': 'multiplicative', 'seasonality_prior_scale': 12}\n"
     ]
    },
    {
     "name": "stderr",
     "output_type": "stream",
     "text": [
      "C:\\Users\\alex\\AppData\\Local\\Temp\\ipykernel_11468\\1416017460.py:35: FutureWarning: The frame.append method is deprecated and will be removed from pandas in a future version. Use pandas.concat instead.\n",
      "  model_parameters = model_parameters.append({'RMSE':RMSE,'MAE':MAE,'MAPE':MAPE,'Parameters':p},ignore_index=True)\n",
      "07:55:46 - cmdstanpy - INFO - Chain [1] start processing\n",
      "07:55:47 - cmdstanpy - INFO - Chain [1] done processing\n"
     ]
    },
    {
     "name": "stdout",
     "output_type": "stream",
     "text": [
      "Root Mean Square Error(RMSE)------------------------------------ 12.704278830609864\n",
      "total:  19.0\n",
      "{'changepoint_prior_scale': 0.001, 'changepoint_range': 0.2, 'holidays_prior_scale': 10, 'n_changepoints': 75, 'seasonality_mode': 'additive', 'seasonality_prior_scale': 0.01}\n"
     ]
    },
    {
     "name": "stderr",
     "output_type": "stream",
     "text": [
      "C:\\Users\\alex\\AppData\\Local\\Temp\\ipykernel_11468\\1416017460.py:35: FutureWarning: The frame.append method is deprecated and will be removed from pandas in a future version. Use pandas.concat instead.\n",
      "  model_parameters = model_parameters.append({'RMSE':RMSE,'MAE':MAE,'MAPE':MAPE,'Parameters':p},ignore_index=True)\n",
      "07:55:47 - cmdstanpy - INFO - Chain [1] start processing\n",
      "07:55:48 - cmdstanpy - INFO - Chain [1] done processing\n"
     ]
    },
    {
     "name": "stdout",
     "output_type": "stream",
     "text": [
      "Root Mean Square Error(RMSE)------------------------------------ 12.752388972714344\n",
      "total:  19.0\n",
      "{'changepoint_prior_scale': 0.001, 'changepoint_range': 0.2, 'holidays_prior_scale': 10, 'n_changepoints': 75, 'seasonality_mode': 'additive', 'seasonality_prior_scale': 1}\n"
     ]
    },
    {
     "name": "stderr",
     "output_type": "stream",
     "text": [
      "C:\\Users\\alex\\AppData\\Local\\Temp\\ipykernel_11468\\1416017460.py:35: FutureWarning: The frame.append method is deprecated and will be removed from pandas in a future version. Use pandas.concat instead.\n",
      "  model_parameters = model_parameters.append({'RMSE':RMSE,'MAE':MAE,'MAPE':MAPE,'Parameters':p},ignore_index=True)\n",
      "07:55:49 - cmdstanpy - INFO - Chain [1] start processing\n",
      "07:55:49 - cmdstanpy - INFO - Chain [1] done processing\n"
     ]
    },
    {
     "name": "stdout",
     "output_type": "stream",
     "text": [
      "Root Mean Square Error(RMSE)------------------------------------ 12.752388972714344\n",
      "total:  20.0\n",
      "{'changepoint_prior_scale': 0.001, 'changepoint_range': 0.2, 'holidays_prior_scale': 10, 'n_changepoints': 75, 'seasonality_mode': 'additive', 'seasonality_prior_scale': 5}\n"
     ]
    },
    {
     "name": "stderr",
     "output_type": "stream",
     "text": [
      "C:\\Users\\alex\\AppData\\Local\\Temp\\ipykernel_11468\\1416017460.py:35: FutureWarning: The frame.append method is deprecated and will be removed from pandas in a future version. Use pandas.concat instead.\n",
      "  model_parameters = model_parameters.append({'RMSE':RMSE,'MAE':MAE,'MAPE':MAPE,'Parameters':p},ignore_index=True)\n",
      "07:55:50 - cmdstanpy - INFO - Chain [1] start processing\n",
      "07:55:51 - cmdstanpy - INFO - Chain [1] done processing\n"
     ]
    },
    {
     "name": "stdout",
     "output_type": "stream",
     "text": [
      "Root Mean Square Error(RMSE)------------------------------------ 12.752388972714344\n",
      "total:  21.0\n",
      "{'changepoint_prior_scale': 0.001, 'changepoint_range': 0.2, 'holidays_prior_scale': 10, 'n_changepoints': 75, 'seasonality_mode': 'additive', 'seasonality_prior_scale': 10}\n"
     ]
    },
    {
     "name": "stderr",
     "output_type": "stream",
     "text": [
      "C:\\Users\\alex\\AppData\\Local\\Temp\\ipykernel_11468\\1416017460.py:35: FutureWarning: The frame.append method is deprecated and will be removed from pandas in a future version. Use pandas.concat instead.\n",
      "  model_parameters = model_parameters.append({'RMSE':RMSE,'MAE':MAE,'MAPE':MAPE,'Parameters':p},ignore_index=True)\n",
      "07:55:51 - cmdstanpy - INFO - Chain [1] start processing\n",
      "07:55:52 - cmdstanpy - INFO - Chain [1] done processing\n"
     ]
    },
    {
     "name": "stdout",
     "output_type": "stream",
     "text": [
      "Root Mean Square Error(RMSE)------------------------------------ 12.752388972714344\n",
      "total:  21.0\n",
      "{'changepoint_prior_scale': 0.001, 'changepoint_range': 0.2, 'holidays_prior_scale': 10, 'n_changepoints': 75, 'seasonality_mode': 'additive', 'seasonality_prior_scale': 12}\n"
     ]
    },
    {
     "name": "stderr",
     "output_type": "stream",
     "text": [
      "C:\\Users\\alex\\AppData\\Local\\Temp\\ipykernel_11468\\1416017460.py:35: FutureWarning: The frame.append method is deprecated and will be removed from pandas in a future version. Use pandas.concat instead.\n",
      "  model_parameters = model_parameters.append({'RMSE':RMSE,'MAE':MAE,'MAPE':MAPE,'Parameters':p},ignore_index=True)\n",
      "07:55:53 - cmdstanpy - INFO - Chain [1] start processing\n",
      "07:55:53 - cmdstanpy - INFO - Chain [1] done processing\n"
     ]
    },
    {
     "name": "stdout",
     "output_type": "stream",
     "text": [
      "Root Mean Square Error(RMSE)------------------------------------ 12.752388972714344\n",
      "total:  22.0\n",
      "{'changepoint_prior_scale': 0.001, 'changepoint_range': 0.2, 'holidays_prior_scale': 10, 'n_changepoints': 75, 'seasonality_mode': 'multiplicative', 'seasonality_prior_scale': 0.01}\n"
     ]
    },
    {
     "name": "stderr",
     "output_type": "stream",
     "text": [
      "C:\\Users\\alex\\AppData\\Local\\Temp\\ipykernel_11468\\1416017460.py:35: FutureWarning: The frame.append method is deprecated and will be removed from pandas in a future version. Use pandas.concat instead.\n",
      "  model_parameters = model_parameters.append({'RMSE':RMSE,'MAE':MAE,'MAPE':MAPE,'Parameters':p},ignore_index=True)\n",
      "07:55:54 - cmdstanpy - INFO - Chain [1] start processing\n",
      "07:55:55 - cmdstanpy - INFO - Chain [1] done processing\n"
     ]
    },
    {
     "name": "stdout",
     "output_type": "stream",
     "text": [
      "Root Mean Square Error(RMSE)------------------------------------ 12.814519765740098\n",
      "total:  23.0\n",
      "{'changepoint_prior_scale': 0.001, 'changepoint_range': 0.2, 'holidays_prior_scale': 10, 'n_changepoints': 75, 'seasonality_mode': 'multiplicative', 'seasonality_prior_scale': 1}\n"
     ]
    },
    {
     "name": "stderr",
     "output_type": "stream",
     "text": [
      "C:\\Users\\alex\\AppData\\Local\\Temp\\ipykernel_11468\\1416017460.py:35: FutureWarning: The frame.append method is deprecated and will be removed from pandas in a future version. Use pandas.concat instead.\n",
      "  model_parameters = model_parameters.append({'RMSE':RMSE,'MAE':MAE,'MAPE':MAPE,'Parameters':p},ignore_index=True)\n",
      "07:55:55 - cmdstanpy - INFO - Chain [1] start processing\n",
      "07:55:56 - cmdstanpy - INFO - Chain [1] done processing\n"
     ]
    },
    {
     "name": "stdout",
     "output_type": "stream",
     "text": [
      "Root Mean Square Error(RMSE)------------------------------------ 12.814519765740098\n",
      "total:  23.0\n",
      "{'changepoint_prior_scale': 0.001, 'changepoint_range': 0.2, 'holidays_prior_scale': 10, 'n_changepoints': 75, 'seasonality_mode': 'multiplicative', 'seasonality_prior_scale': 5}\n"
     ]
    },
    {
     "name": "stderr",
     "output_type": "stream",
     "text": [
      "C:\\Users\\alex\\AppData\\Local\\Temp\\ipykernel_11468\\1416017460.py:35: FutureWarning: The frame.append method is deprecated and will be removed from pandas in a future version. Use pandas.concat instead.\n",
      "  model_parameters = model_parameters.append({'RMSE':RMSE,'MAE':MAE,'MAPE':MAPE,'Parameters':p},ignore_index=True)\n",
      "07:55:57 - cmdstanpy - INFO - Chain [1] start processing\n",
      "07:55:58 - cmdstanpy - INFO - Chain [1] done processing\n"
     ]
    },
    {
     "name": "stdout",
     "output_type": "stream",
     "text": [
      "Root Mean Square Error(RMSE)------------------------------------ 12.814519765740098\n",
      "total:  24.0\n",
      "{'changepoint_prior_scale': 0.001, 'changepoint_range': 0.2, 'holidays_prior_scale': 10, 'n_changepoints': 75, 'seasonality_mode': 'multiplicative', 'seasonality_prior_scale': 10}\n"
     ]
    },
    {
     "name": "stderr",
     "output_type": "stream",
     "text": [
      "C:\\Users\\alex\\AppData\\Local\\Temp\\ipykernel_11468\\1416017460.py:35: FutureWarning: The frame.append method is deprecated and will be removed from pandas in a future version. Use pandas.concat instead.\n",
      "  model_parameters = model_parameters.append({'RMSE':RMSE,'MAE':MAE,'MAPE':MAPE,'Parameters':p},ignore_index=True)\n",
      "07:55:59 - cmdstanpy - INFO - Chain [1] start processing\n",
      "07:56:01 - cmdstanpy - INFO - Chain [1] done processing\n"
     ]
    },
    {
     "name": "stdout",
     "output_type": "stream",
     "text": [
      "Root Mean Square Error(RMSE)------------------------------------ 12.814519765740098\n",
      "total:  24.0\n",
      "{'changepoint_prior_scale': 0.001, 'changepoint_range': 0.2, 'holidays_prior_scale': 10, 'n_changepoints': 75, 'seasonality_mode': 'multiplicative', 'seasonality_prior_scale': 12}\n"
     ]
    },
    {
     "name": "stderr",
     "output_type": "stream",
     "text": [
      "C:\\Users\\alex\\AppData\\Local\\Temp\\ipykernel_11468\\1416017460.py:35: FutureWarning: The frame.append method is deprecated and will be removed from pandas in a future version. Use pandas.concat instead.\n",
      "  model_parameters = model_parameters.append({'RMSE':RMSE,'MAE':MAE,'MAPE':MAPE,'Parameters':p},ignore_index=True)\n",
      "07:56:02 - cmdstanpy - INFO - Chain [1] start processing\n",
      "07:56:03 - cmdstanpy - INFO - Chain [1] done processing\n"
     ]
    },
    {
     "name": "stdout",
     "output_type": "stream",
     "text": [
      "Root Mean Square Error(RMSE)------------------------------------ 12.814519765740098\n",
      "total:  25.0\n",
      "{'changepoint_prior_scale': 0.05, 'changepoint_range': 0.2, 'holidays_prior_scale': 5, 'n_changepoints': 50, 'seasonality_mode': 'additive', 'seasonality_prior_scale': 0.01}\n"
     ]
    },
    {
     "name": "stderr",
     "output_type": "stream",
     "text": [
      "C:\\Users\\alex\\AppData\\Local\\Temp\\ipykernel_11468\\1416017460.py:35: FutureWarning: The frame.append method is deprecated and will be removed from pandas in a future version. Use pandas.concat instead.\n",
      "  model_parameters = model_parameters.append({'RMSE':RMSE,'MAE':MAE,'MAPE':MAPE,'Parameters':p},ignore_index=True)\n",
      "07:56:04 - cmdstanpy - INFO - Chain [1] start processing\n",
      "07:56:05 - cmdstanpy - INFO - Chain [1] done processing\n"
     ]
    },
    {
     "name": "stdout",
     "output_type": "stream",
     "text": [
      "Root Mean Square Error(RMSE)------------------------------------ 13.92902720134618\n",
      "total:  26.0\n",
      "{'changepoint_prior_scale': 0.05, 'changepoint_range': 0.2, 'holidays_prior_scale': 5, 'n_changepoints': 50, 'seasonality_mode': 'additive', 'seasonality_prior_scale': 1}\n"
     ]
    },
    {
     "name": "stderr",
     "output_type": "stream",
     "text": [
      "C:\\Users\\alex\\AppData\\Local\\Temp\\ipykernel_11468\\1416017460.py:35: FutureWarning: The frame.append method is deprecated and will be removed from pandas in a future version. Use pandas.concat instead.\n",
      "  model_parameters = model_parameters.append({'RMSE':RMSE,'MAE':MAE,'MAPE':MAPE,'Parameters':p},ignore_index=True)\n",
      "07:56:05 - cmdstanpy - INFO - Chain [1] start processing\n",
      "07:56:06 - cmdstanpy - INFO - Chain [1] done processing\n"
     ]
    },
    {
     "name": "stdout",
     "output_type": "stream",
     "text": [
      "Root Mean Square Error(RMSE)------------------------------------ 13.92902720134618\n",
      "total:  26.0\n",
      "{'changepoint_prior_scale': 0.05, 'changepoint_range': 0.2, 'holidays_prior_scale': 5, 'n_changepoints': 50, 'seasonality_mode': 'additive', 'seasonality_prior_scale': 5}\n"
     ]
    },
    {
     "name": "stderr",
     "output_type": "stream",
     "text": [
      "C:\\Users\\alex\\AppData\\Local\\Temp\\ipykernel_11468\\1416017460.py:35: FutureWarning: The frame.append method is deprecated and will be removed from pandas in a future version. Use pandas.concat instead.\n",
      "  model_parameters = model_parameters.append({'RMSE':RMSE,'MAE':MAE,'MAPE':MAPE,'Parameters':p},ignore_index=True)\n",
      "07:56:07 - cmdstanpy - INFO - Chain [1] start processing\n",
      "07:56:08 - cmdstanpy - INFO - Chain [1] done processing\n"
     ]
    },
    {
     "name": "stdout",
     "output_type": "stream",
     "text": [
      "Root Mean Square Error(RMSE)------------------------------------ 13.92902720134618\n",
      "total:  27.0\n",
      "{'changepoint_prior_scale': 0.05, 'changepoint_range': 0.2, 'holidays_prior_scale': 5, 'n_changepoints': 50, 'seasonality_mode': 'additive', 'seasonality_prior_scale': 10}\n"
     ]
    },
    {
     "name": "stderr",
     "output_type": "stream",
     "text": [
      "C:\\Users\\alex\\AppData\\Local\\Temp\\ipykernel_11468\\1416017460.py:35: FutureWarning: The frame.append method is deprecated and will be removed from pandas in a future version. Use pandas.concat instead.\n",
      "  model_parameters = model_parameters.append({'RMSE':RMSE,'MAE':MAE,'MAPE':MAPE,'Parameters':p},ignore_index=True)\n",
      "07:56:09 - cmdstanpy - INFO - Chain [1] start processing\n",
      "07:56:10 - cmdstanpy - INFO - Chain [1] done processing\n"
     ]
    },
    {
     "name": "stdout",
     "output_type": "stream",
     "text": [
      "Root Mean Square Error(RMSE)------------------------------------ 13.92902720134618\n",
      "total:  28.000000000000004\n",
      "{'changepoint_prior_scale': 0.05, 'changepoint_range': 0.2, 'holidays_prior_scale': 5, 'n_changepoints': 50, 'seasonality_mode': 'additive', 'seasonality_prior_scale': 12}\n"
     ]
    },
    {
     "name": "stderr",
     "output_type": "stream",
     "text": [
      "C:\\Users\\alex\\AppData\\Local\\Temp\\ipykernel_11468\\1416017460.py:35: FutureWarning: The frame.append method is deprecated and will be removed from pandas in a future version. Use pandas.concat instead.\n",
      "  model_parameters = model_parameters.append({'RMSE':RMSE,'MAE':MAE,'MAPE':MAPE,'Parameters':p},ignore_index=True)\n",
      "07:56:11 - cmdstanpy - INFO - Chain [1] start processing\n",
      "07:56:12 - cmdstanpy - INFO - Chain [1] done processing\n"
     ]
    },
    {
     "name": "stdout",
     "output_type": "stream",
     "text": [
      "Root Mean Square Error(RMSE)------------------------------------ 13.92902720134618\n",
      "total:  28.000000000000004\n",
      "{'changepoint_prior_scale': 0.05, 'changepoint_range': 0.2, 'holidays_prior_scale': 5, 'n_changepoints': 50, 'seasonality_mode': 'multiplicative', 'seasonality_prior_scale': 0.01}\n"
     ]
    },
    {
     "name": "stderr",
     "output_type": "stream",
     "text": [
      "C:\\Users\\alex\\AppData\\Local\\Temp\\ipykernel_11468\\1416017460.py:35: FutureWarning: The frame.append method is deprecated and will be removed from pandas in a future version. Use pandas.concat instead.\n",
      "  model_parameters = model_parameters.append({'RMSE':RMSE,'MAE':MAE,'MAPE':MAPE,'Parameters':p},ignore_index=True)\n",
      "07:56:13 - cmdstanpy - INFO - Chain [1] start processing\n",
      "07:56:20 - cmdstanpy - INFO - Chain [1] done processing\n"
     ]
    },
    {
     "name": "stdout",
     "output_type": "stream",
     "text": [
      "Root Mean Square Error(RMSE)------------------------------------ 13.997216410230717\n",
      "total:  28.999999999999996\n",
      "{'changepoint_prior_scale': 0.05, 'changepoint_range': 0.2, 'holidays_prior_scale': 5, 'n_changepoints': 50, 'seasonality_mode': 'multiplicative', 'seasonality_prior_scale': 1}\n"
     ]
    },
    {
     "name": "stderr",
     "output_type": "stream",
     "text": [
      "C:\\Users\\alex\\AppData\\Local\\Temp\\ipykernel_11468\\1416017460.py:35: FutureWarning: The frame.append method is deprecated and will be removed from pandas in a future version. Use pandas.concat instead.\n",
      "  model_parameters = model_parameters.append({'RMSE':RMSE,'MAE':MAE,'MAPE':MAPE,'Parameters':p},ignore_index=True)\n",
      "07:56:21 - cmdstanpy - INFO - Chain [1] start processing\n",
      "07:56:25 - cmdstanpy - INFO - Chain [1] done processing\n"
     ]
    },
    {
     "name": "stdout",
     "output_type": "stream",
     "text": [
      "Root Mean Square Error(RMSE)------------------------------------ 13.997216410230717\n",
      "total:  28.999999999999996\n",
      "{'changepoint_prior_scale': 0.05, 'changepoint_range': 0.2, 'holidays_prior_scale': 5, 'n_changepoints': 50, 'seasonality_mode': 'multiplicative', 'seasonality_prior_scale': 5}\n"
     ]
    },
    {
     "name": "stderr",
     "output_type": "stream",
     "text": [
      "C:\\Users\\alex\\AppData\\Local\\Temp\\ipykernel_11468\\1416017460.py:35: FutureWarning: The frame.append method is deprecated and will be removed from pandas in a future version. Use pandas.concat instead.\n",
      "  model_parameters = model_parameters.append({'RMSE':RMSE,'MAE':MAE,'MAPE':MAPE,'Parameters':p},ignore_index=True)\n",
      "07:56:26 - cmdstanpy - INFO - Chain [1] start processing\n",
      "07:56:30 - cmdstanpy - INFO - Chain [1] done processing\n"
     ]
    },
    {
     "name": "stdout",
     "output_type": "stream",
     "text": [
      "Root Mean Square Error(RMSE)------------------------------------ 13.997216410230717\n",
      "total:  30.0\n",
      "{'changepoint_prior_scale': 0.05, 'changepoint_range': 0.2, 'holidays_prior_scale': 5, 'n_changepoints': 50, 'seasonality_mode': 'multiplicative', 'seasonality_prior_scale': 10}\n"
     ]
    },
    {
     "name": "stderr",
     "output_type": "stream",
     "text": [
      "C:\\Users\\alex\\AppData\\Local\\Temp\\ipykernel_11468\\1416017460.py:35: FutureWarning: The frame.append method is deprecated and will be removed from pandas in a future version. Use pandas.concat instead.\n",
      "  model_parameters = model_parameters.append({'RMSE':RMSE,'MAE':MAE,'MAPE':MAPE,'Parameters':p},ignore_index=True)\n",
      "07:56:30 - cmdstanpy - INFO - Chain [1] start processing\n",
      "07:56:34 - cmdstanpy - INFO - Chain [1] done processing\n"
     ]
    },
    {
     "name": "stdout",
     "output_type": "stream",
     "text": [
      "Root Mean Square Error(RMSE)------------------------------------ 13.997216410230717\n",
      "total:  31.0\n",
      "{'changepoint_prior_scale': 0.05, 'changepoint_range': 0.2, 'holidays_prior_scale': 5, 'n_changepoints': 50, 'seasonality_mode': 'multiplicative', 'seasonality_prior_scale': 12}\n"
     ]
    },
    {
     "name": "stderr",
     "output_type": "stream",
     "text": [
      "C:\\Users\\alex\\AppData\\Local\\Temp\\ipykernel_11468\\1416017460.py:35: FutureWarning: The frame.append method is deprecated and will be removed from pandas in a future version. Use pandas.concat instead.\n",
      "  model_parameters = model_parameters.append({'RMSE':RMSE,'MAE':MAE,'MAPE':MAPE,'Parameters':p},ignore_index=True)\n",
      "07:56:35 - cmdstanpy - INFO - Chain [1] start processing\n",
      "07:56:39 - cmdstanpy - INFO - Chain [1] done processing\n"
     ]
    },
    {
     "name": "stdout",
     "output_type": "stream",
     "text": [
      "Root Mean Square Error(RMSE)------------------------------------ 13.997216410230717\n",
      "total:  31.0\n",
      "{'changepoint_prior_scale': 0.05, 'changepoint_range': 0.2, 'holidays_prior_scale': 5, 'n_changepoints': 75, 'seasonality_mode': 'additive', 'seasonality_prior_scale': 0.01}\n"
     ]
    },
    {
     "name": "stderr",
     "output_type": "stream",
     "text": [
      "C:\\Users\\alex\\AppData\\Local\\Temp\\ipykernel_11468\\1416017460.py:35: FutureWarning: The frame.append method is deprecated and will be removed from pandas in a future version. Use pandas.concat instead.\n",
      "  model_parameters = model_parameters.append({'RMSE':RMSE,'MAE':MAE,'MAPE':MAPE,'Parameters':p},ignore_index=True)\n",
      "07:56:40 - cmdstanpy - INFO - Chain [1] start processing\n",
      "07:56:41 - cmdstanpy - INFO - Chain [1] done processing\n"
     ]
    },
    {
     "name": "stdout",
     "output_type": "stream",
     "text": [
      "Root Mean Square Error(RMSE)------------------------------------ 13.923738315354703\n",
      "total:  32.0\n",
      "{'changepoint_prior_scale': 0.05, 'changepoint_range': 0.2, 'holidays_prior_scale': 5, 'n_changepoints': 75, 'seasonality_mode': 'additive', 'seasonality_prior_scale': 1}\n"
     ]
    },
    {
     "name": "stderr",
     "output_type": "stream",
     "text": [
      "C:\\Users\\alex\\AppData\\Local\\Temp\\ipykernel_11468\\1416017460.py:35: FutureWarning: The frame.append method is deprecated and will be removed from pandas in a future version. Use pandas.concat instead.\n",
      "  model_parameters = model_parameters.append({'RMSE':RMSE,'MAE':MAE,'MAPE':MAPE,'Parameters':p},ignore_index=True)\n",
      "07:56:42 - cmdstanpy - INFO - Chain [1] start processing\n",
      "07:56:44 - cmdstanpy - INFO - Chain [1] done processing\n"
     ]
    },
    {
     "name": "stdout",
     "output_type": "stream",
     "text": [
      "Root Mean Square Error(RMSE)------------------------------------ 13.923738315354703\n",
      "total:  33.0\n",
      "{'changepoint_prior_scale': 0.05, 'changepoint_range': 0.2, 'holidays_prior_scale': 5, 'n_changepoints': 75, 'seasonality_mode': 'additive', 'seasonality_prior_scale': 5}\n"
     ]
    },
    {
     "name": "stderr",
     "output_type": "stream",
     "text": [
      "C:\\Users\\alex\\AppData\\Local\\Temp\\ipykernel_11468\\1416017460.py:35: FutureWarning: The frame.append method is deprecated and will be removed from pandas in a future version. Use pandas.concat instead.\n",
      "  model_parameters = model_parameters.append({'RMSE':RMSE,'MAE':MAE,'MAPE':MAPE,'Parameters':p},ignore_index=True)\n",
      "07:56:45 - cmdstanpy - INFO - Chain [1] start processing\n",
      "07:56:47 - cmdstanpy - INFO - Chain [1] done processing\n"
     ]
    },
    {
     "name": "stdout",
     "output_type": "stream",
     "text": [
      "Root Mean Square Error(RMSE)------------------------------------ 13.923738315354703\n",
      "total:  33.0\n",
      "{'changepoint_prior_scale': 0.05, 'changepoint_range': 0.2, 'holidays_prior_scale': 5, 'n_changepoints': 75, 'seasonality_mode': 'additive', 'seasonality_prior_scale': 10}\n"
     ]
    },
    {
     "name": "stderr",
     "output_type": "stream",
     "text": [
      "C:\\Users\\alex\\AppData\\Local\\Temp\\ipykernel_11468\\1416017460.py:35: FutureWarning: The frame.append method is deprecated and will be removed from pandas in a future version. Use pandas.concat instead.\n",
      "  model_parameters = model_parameters.append({'RMSE':RMSE,'MAE':MAE,'MAPE':MAPE,'Parameters':p},ignore_index=True)\n",
      "07:56:48 - cmdstanpy - INFO - Chain [1] start processing\n",
      "07:56:49 - cmdstanpy - INFO - Chain [1] done processing\n"
     ]
    },
    {
     "name": "stdout",
     "output_type": "stream",
     "text": [
      "Root Mean Square Error(RMSE)------------------------------------ 13.923738315354703\n",
      "total:  34.0\n",
      "{'changepoint_prior_scale': 0.05, 'changepoint_range': 0.2, 'holidays_prior_scale': 5, 'n_changepoints': 75, 'seasonality_mode': 'additive', 'seasonality_prior_scale': 12}\n"
     ]
    },
    {
     "name": "stderr",
     "output_type": "stream",
     "text": [
      "C:\\Users\\alex\\AppData\\Local\\Temp\\ipykernel_11468\\1416017460.py:35: FutureWarning: The frame.append method is deprecated and will be removed from pandas in a future version. Use pandas.concat instead.\n",
      "  model_parameters = model_parameters.append({'RMSE':RMSE,'MAE':MAE,'MAPE':MAPE,'Parameters':p},ignore_index=True)\n",
      "07:56:50 - cmdstanpy - INFO - Chain [1] start processing\n",
      "07:56:54 - cmdstanpy - INFO - Chain [1] done processing\n"
     ]
    },
    {
     "name": "stdout",
     "output_type": "stream",
     "text": [
      "Root Mean Square Error(RMSE)------------------------------------ 13.923738315354703\n",
      "total:  34.0\n",
      "{'changepoint_prior_scale': 0.05, 'changepoint_range': 0.2, 'holidays_prior_scale': 5, 'n_changepoints': 75, 'seasonality_mode': 'multiplicative', 'seasonality_prior_scale': 0.01}\n"
     ]
    },
    {
     "name": "stderr",
     "output_type": "stream",
     "text": [
      "C:\\Users\\alex\\AppData\\Local\\Temp\\ipykernel_11468\\1416017460.py:35: FutureWarning: The frame.append method is deprecated and will be removed from pandas in a future version. Use pandas.concat instead.\n",
      "  model_parameters = model_parameters.append({'RMSE':RMSE,'MAE':MAE,'MAPE':MAPE,'Parameters':p},ignore_index=True)\n",
      "07:56:56 - cmdstanpy - INFO - Chain [1] start processing\n",
      "07:57:03 - cmdstanpy - INFO - Chain [1] done processing\n"
     ]
    },
    {
     "name": "stdout",
     "output_type": "stream",
     "text": [
      "Root Mean Square Error(RMSE)------------------------------------ 13.993025084913802\n",
      "total:  35.0\n",
      "{'changepoint_prior_scale': 0.05, 'changepoint_range': 0.2, 'holidays_prior_scale': 5, 'n_changepoints': 75, 'seasonality_mode': 'multiplicative', 'seasonality_prior_scale': 1}\n"
     ]
    },
    {
     "name": "stderr",
     "output_type": "stream",
     "text": [
      "C:\\Users\\alex\\AppData\\Local\\Temp\\ipykernel_11468\\1416017460.py:35: FutureWarning: The frame.append method is deprecated and will be removed from pandas in a future version. Use pandas.concat instead.\n",
      "  model_parameters = model_parameters.append({'RMSE':RMSE,'MAE':MAE,'MAPE':MAPE,'Parameters':p},ignore_index=True)\n",
      "07:57:04 - cmdstanpy - INFO - Chain [1] start processing\n",
      "07:57:09 - cmdstanpy - INFO - Chain [1] done processing\n"
     ]
    },
    {
     "name": "stdout",
     "output_type": "stream",
     "text": [
      "Root Mean Square Error(RMSE)------------------------------------ 13.993025084913802\n",
      "total:  36.0\n",
      "{'changepoint_prior_scale': 0.05, 'changepoint_range': 0.2, 'holidays_prior_scale': 5, 'n_changepoints': 75, 'seasonality_mode': 'multiplicative', 'seasonality_prior_scale': 5}\n"
     ]
    },
    {
     "name": "stderr",
     "output_type": "stream",
     "text": [
      "C:\\Users\\alex\\AppData\\Local\\Temp\\ipykernel_11468\\1416017460.py:35: FutureWarning: The frame.append method is deprecated and will be removed from pandas in a future version. Use pandas.concat instead.\n",
      "  model_parameters = model_parameters.append({'RMSE':RMSE,'MAE':MAE,'MAPE':MAPE,'Parameters':p},ignore_index=True)\n",
      "07:57:10 - cmdstanpy - INFO - Chain [1] start processing\n",
      "07:57:15 - cmdstanpy - INFO - Chain [1] done processing\n"
     ]
    },
    {
     "name": "stdout",
     "output_type": "stream",
     "text": [
      "Root Mean Square Error(RMSE)------------------------------------ 13.993025084913802\n",
      "total:  36.0\n",
      "{'changepoint_prior_scale': 0.05, 'changepoint_range': 0.2, 'holidays_prior_scale': 5, 'n_changepoints': 75, 'seasonality_mode': 'multiplicative', 'seasonality_prior_scale': 10}\n"
     ]
    },
    {
     "name": "stderr",
     "output_type": "stream",
     "text": [
      "C:\\Users\\alex\\AppData\\Local\\Temp\\ipykernel_11468\\1416017460.py:35: FutureWarning: The frame.append method is deprecated and will be removed from pandas in a future version. Use pandas.concat instead.\n",
      "  model_parameters = model_parameters.append({'RMSE':RMSE,'MAE':MAE,'MAPE':MAPE,'Parameters':p},ignore_index=True)\n",
      "07:57:16 - cmdstanpy - INFO - Chain [1] start processing\n",
      "07:57:21 - cmdstanpy - INFO - Chain [1] done processing\n"
     ]
    },
    {
     "name": "stdout",
     "output_type": "stream",
     "text": [
      "Root Mean Square Error(RMSE)------------------------------------ 13.993025084913802\n",
      "total:  37.0\n",
      "{'changepoint_prior_scale': 0.05, 'changepoint_range': 0.2, 'holidays_prior_scale': 5, 'n_changepoints': 75, 'seasonality_mode': 'multiplicative', 'seasonality_prior_scale': 12}\n"
     ]
    },
    {
     "name": "stderr",
     "output_type": "stream",
     "text": [
      "C:\\Users\\alex\\AppData\\Local\\Temp\\ipykernel_11468\\1416017460.py:35: FutureWarning: The frame.append method is deprecated and will be removed from pandas in a future version. Use pandas.concat instead.\n",
      "  model_parameters = model_parameters.append({'RMSE':RMSE,'MAE':MAE,'MAPE':MAPE,'Parameters':p},ignore_index=True)\n",
      "07:57:23 - cmdstanpy - INFO - Chain [1] start processing\n",
      "07:57:31 - cmdstanpy - INFO - Chain [1] done processing\n"
     ]
    },
    {
     "name": "stdout",
     "output_type": "stream",
     "text": [
      "Root Mean Square Error(RMSE)------------------------------------ 13.993025084913802\n",
      "total:  38.0\n",
      "{'changepoint_prior_scale': 0.05, 'changepoint_range': 0.2, 'holidays_prior_scale': 10, 'n_changepoints': 50, 'seasonality_mode': 'additive', 'seasonality_prior_scale': 0.01}\n"
     ]
    },
    {
     "name": "stderr",
     "output_type": "stream",
     "text": [
      "C:\\Users\\alex\\AppData\\Local\\Temp\\ipykernel_11468\\1416017460.py:35: FutureWarning: The frame.append method is deprecated and will be removed from pandas in a future version. Use pandas.concat instead.\n",
      "  model_parameters = model_parameters.append({'RMSE':RMSE,'MAE':MAE,'MAPE':MAPE,'Parameters':p},ignore_index=True)\n",
      "07:57:32 - cmdstanpy - INFO - Chain [1] start processing\n",
      "07:57:33 - cmdstanpy - INFO - Chain [1] done processing\n"
     ]
    },
    {
     "name": "stdout",
     "output_type": "stream",
     "text": [
      "Root Mean Square Error(RMSE)------------------------------------ 13.92902720134618\n",
      "total:  38.0\n",
      "{'changepoint_prior_scale': 0.05, 'changepoint_range': 0.2, 'holidays_prior_scale': 10, 'n_changepoints': 50, 'seasonality_mode': 'additive', 'seasonality_prior_scale': 1}\n"
     ]
    },
    {
     "name": "stderr",
     "output_type": "stream",
     "text": [
      "C:\\Users\\alex\\AppData\\Local\\Temp\\ipykernel_11468\\1416017460.py:35: FutureWarning: The frame.append method is deprecated and will be removed from pandas in a future version. Use pandas.concat instead.\n",
      "  model_parameters = model_parameters.append({'RMSE':RMSE,'MAE':MAE,'MAPE':MAPE,'Parameters':p},ignore_index=True)\n",
      "07:57:34 - cmdstanpy - INFO - Chain [1] start processing\n",
      "07:57:36 - cmdstanpy - INFO - Chain [1] done processing\n"
     ]
    },
    {
     "name": "stdout",
     "output_type": "stream",
     "text": [
      "Root Mean Square Error(RMSE)------------------------------------ 13.92902720134618\n",
      "total:  39.0\n",
      "{'changepoint_prior_scale': 0.05, 'changepoint_range': 0.2, 'holidays_prior_scale': 10, 'n_changepoints': 50, 'seasonality_mode': 'additive', 'seasonality_prior_scale': 5}\n"
     ]
    },
    {
     "name": "stderr",
     "output_type": "stream",
     "text": [
      "C:\\Users\\alex\\AppData\\Local\\Temp\\ipykernel_11468\\1416017460.py:35: FutureWarning: The frame.append method is deprecated and will be removed from pandas in a future version. Use pandas.concat instead.\n",
      "  model_parameters = model_parameters.append({'RMSE':RMSE,'MAE':MAE,'MAPE':MAPE,'Parameters':p},ignore_index=True)\n",
      "07:57:38 - cmdstanpy - INFO - Chain [1] start processing\n",
      "07:57:40 - cmdstanpy - INFO - Chain [1] done processing\n"
     ]
    },
    {
     "name": "stdout",
     "output_type": "stream",
     "text": [
      "Root Mean Square Error(RMSE)------------------------------------ 13.92902720134618\n",
      "total:  39.0\n",
      "{'changepoint_prior_scale': 0.05, 'changepoint_range': 0.2, 'holidays_prior_scale': 10, 'n_changepoints': 50, 'seasonality_mode': 'additive', 'seasonality_prior_scale': 10}\n"
     ]
    },
    {
     "name": "stderr",
     "output_type": "stream",
     "text": [
      "C:\\Users\\alex\\AppData\\Local\\Temp\\ipykernel_11468\\1416017460.py:35: FutureWarning: The frame.append method is deprecated and will be removed from pandas in a future version. Use pandas.concat instead.\n",
      "  model_parameters = model_parameters.append({'RMSE':RMSE,'MAE':MAE,'MAPE':MAPE,'Parameters':p},ignore_index=True)\n",
      "07:57:41 - cmdstanpy - INFO - Chain [1] start processing\n",
      "07:57:42 - cmdstanpy - INFO - Chain [1] done processing\n"
     ]
    },
    {
     "name": "stdout",
     "output_type": "stream",
     "text": [
      "Root Mean Square Error(RMSE)------------------------------------ 13.92902720134618\n",
      "total:  40.0\n",
      "{'changepoint_prior_scale': 0.05, 'changepoint_range': 0.2, 'holidays_prior_scale': 10, 'n_changepoints': 50, 'seasonality_mode': 'additive', 'seasonality_prior_scale': 12}\n"
     ]
    },
    {
     "name": "stderr",
     "output_type": "stream",
     "text": [
      "C:\\Users\\alex\\AppData\\Local\\Temp\\ipykernel_11468\\1416017460.py:35: FutureWarning: The frame.append method is deprecated and will be removed from pandas in a future version. Use pandas.concat instead.\n",
      "  model_parameters = model_parameters.append({'RMSE':RMSE,'MAE':MAE,'MAPE':MAPE,'Parameters':p},ignore_index=True)\n",
      "07:57:43 - cmdstanpy - INFO - Chain [1] start processing\n",
      "07:57:44 - cmdstanpy - INFO - Chain [1] done processing\n"
     ]
    },
    {
     "name": "stdout",
     "output_type": "stream",
     "text": [
      "Root Mean Square Error(RMSE)------------------------------------ 13.92902720134618\n",
      "total:  41.0\n",
      "{'changepoint_prior_scale': 0.05, 'changepoint_range': 0.2, 'holidays_prior_scale': 10, 'n_changepoints': 50, 'seasonality_mode': 'multiplicative', 'seasonality_prior_scale': 0.01}\n"
     ]
    },
    {
     "name": "stderr",
     "output_type": "stream",
     "text": [
      "C:\\Users\\alex\\AppData\\Local\\Temp\\ipykernel_11468\\1416017460.py:35: FutureWarning: The frame.append method is deprecated and will be removed from pandas in a future version. Use pandas.concat instead.\n",
      "  model_parameters = model_parameters.append({'RMSE':RMSE,'MAE':MAE,'MAPE':MAPE,'Parameters':p},ignore_index=True)\n",
      "07:57:45 - cmdstanpy - INFO - Chain [1] start processing\n",
      "07:57:48 - cmdstanpy - INFO - Chain [1] done processing\n"
     ]
    },
    {
     "name": "stdout",
     "output_type": "stream",
     "text": [
      "Root Mean Square Error(RMSE)------------------------------------ 13.997216410230717\n",
      "total:  41.0\n",
      "{'changepoint_prior_scale': 0.05, 'changepoint_range': 0.2, 'holidays_prior_scale': 10, 'n_changepoints': 50, 'seasonality_mode': 'multiplicative', 'seasonality_prior_scale': 1}\n"
     ]
    },
    {
     "name": "stderr",
     "output_type": "stream",
     "text": [
      "C:\\Users\\alex\\AppData\\Local\\Temp\\ipykernel_11468\\1416017460.py:35: FutureWarning: The frame.append method is deprecated and will be removed from pandas in a future version. Use pandas.concat instead.\n",
      "  model_parameters = model_parameters.append({'RMSE':RMSE,'MAE':MAE,'MAPE':MAPE,'Parameters':p},ignore_index=True)\n",
      "07:57:49 - cmdstanpy - INFO - Chain [1] start processing\n",
      "07:57:53 - cmdstanpy - INFO - Chain [1] done processing\n"
     ]
    },
    {
     "name": "stdout",
     "output_type": "stream",
     "text": [
      "Root Mean Square Error(RMSE)------------------------------------ 13.997216410230717\n",
      "total:  42.0\n",
      "{'changepoint_prior_scale': 0.05, 'changepoint_range': 0.2, 'holidays_prior_scale': 10, 'n_changepoints': 50, 'seasonality_mode': 'multiplicative', 'seasonality_prior_scale': 5}\n"
     ]
    },
    {
     "name": "stderr",
     "output_type": "stream",
     "text": [
      "C:\\Users\\alex\\AppData\\Local\\Temp\\ipykernel_11468\\1416017460.py:35: FutureWarning: The frame.append method is deprecated and will be removed from pandas in a future version. Use pandas.concat instead.\n",
      "  model_parameters = model_parameters.append({'RMSE':RMSE,'MAE':MAE,'MAPE':MAPE,'Parameters':p},ignore_index=True)\n",
      "07:57:54 - cmdstanpy - INFO - Chain [1] start processing\n",
      "07:58:00 - cmdstanpy - INFO - Chain [1] done processing\n"
     ]
    },
    {
     "name": "stdout",
     "output_type": "stream",
     "text": [
      "Root Mean Square Error(RMSE)------------------------------------ 13.997216410230717\n",
      "total:  42.0\n",
      "{'changepoint_prior_scale': 0.05, 'changepoint_range': 0.2, 'holidays_prior_scale': 10, 'n_changepoints': 50, 'seasonality_mode': 'multiplicative', 'seasonality_prior_scale': 10}\n"
     ]
    },
    {
     "name": "stderr",
     "output_type": "stream",
     "text": [
      "C:\\Users\\alex\\AppData\\Local\\Temp\\ipykernel_11468\\1416017460.py:35: FutureWarning: The frame.append method is deprecated and will be removed from pandas in a future version. Use pandas.concat instead.\n",
      "  model_parameters = model_parameters.append({'RMSE':RMSE,'MAE':MAE,'MAPE':MAPE,'Parameters':p},ignore_index=True)\n",
      "07:58:01 - cmdstanpy - INFO - Chain [1] start processing\n",
      "07:58:05 - cmdstanpy - INFO - Chain [1] done processing\n"
     ]
    },
    {
     "name": "stdout",
     "output_type": "stream",
     "text": [
      "Root Mean Square Error(RMSE)------------------------------------ 13.997216410230717\n",
      "total:  43.0\n",
      "{'changepoint_prior_scale': 0.05, 'changepoint_range': 0.2, 'holidays_prior_scale': 10, 'n_changepoints': 50, 'seasonality_mode': 'multiplicative', 'seasonality_prior_scale': 12}\n"
     ]
    },
    {
     "name": "stderr",
     "output_type": "stream",
     "text": [
      "C:\\Users\\alex\\AppData\\Local\\Temp\\ipykernel_11468\\1416017460.py:35: FutureWarning: The frame.append method is deprecated and will be removed from pandas in a future version. Use pandas.concat instead.\n",
      "  model_parameters = model_parameters.append({'RMSE':RMSE,'MAE':MAE,'MAPE':MAPE,'Parameters':p},ignore_index=True)\n",
      "07:58:06 - cmdstanpy - INFO - Chain [1] start processing\n",
      "07:58:10 - cmdstanpy - INFO - Chain [1] done processing\n"
     ]
    },
    {
     "name": "stdout",
     "output_type": "stream",
     "text": [
      "Root Mean Square Error(RMSE)------------------------------------ 13.997216410230717\n",
      "total:  44.0\n",
      "{'changepoint_prior_scale': 0.05, 'changepoint_range': 0.2, 'holidays_prior_scale': 10, 'n_changepoints': 75, 'seasonality_mode': 'additive', 'seasonality_prior_scale': 0.01}\n"
     ]
    },
    {
     "name": "stderr",
     "output_type": "stream",
     "text": [
      "C:\\Users\\alex\\AppData\\Local\\Temp\\ipykernel_11468\\1416017460.py:35: FutureWarning: The frame.append method is deprecated and will be removed from pandas in a future version. Use pandas.concat instead.\n",
      "  model_parameters = model_parameters.append({'RMSE':RMSE,'MAE':MAE,'MAPE':MAPE,'Parameters':p},ignore_index=True)\n",
      "07:58:10 - cmdstanpy - INFO - Chain [1] start processing\n",
      "07:58:12 - cmdstanpy - INFO - Chain [1] done processing\n"
     ]
    },
    {
     "name": "stdout",
     "output_type": "stream",
     "text": [
      "Root Mean Square Error(RMSE)------------------------------------ 13.923738315354703\n",
      "total:  44.0\n",
      "{'changepoint_prior_scale': 0.05, 'changepoint_range': 0.2, 'holidays_prior_scale': 10, 'n_changepoints': 75, 'seasonality_mode': 'additive', 'seasonality_prior_scale': 1}\n"
     ]
    },
    {
     "name": "stderr",
     "output_type": "stream",
     "text": [
      "C:\\Users\\alex\\AppData\\Local\\Temp\\ipykernel_11468\\1416017460.py:35: FutureWarning: The frame.append method is deprecated and will be removed from pandas in a future version. Use pandas.concat instead.\n",
      "  model_parameters = model_parameters.append({'RMSE':RMSE,'MAE':MAE,'MAPE':MAPE,'Parameters':p},ignore_index=True)\n",
      "07:58:13 - cmdstanpy - INFO - Chain [1] start processing\n",
      "07:58:15 - cmdstanpy - INFO - Chain [1] done processing\n"
     ]
    },
    {
     "name": "stdout",
     "output_type": "stream",
     "text": [
      "Root Mean Square Error(RMSE)------------------------------------ 13.923738315354703\n",
      "total:  45.0\n",
      "{'changepoint_prior_scale': 0.05, 'changepoint_range': 0.2, 'holidays_prior_scale': 10, 'n_changepoints': 75, 'seasonality_mode': 'additive', 'seasonality_prior_scale': 5}\n"
     ]
    },
    {
     "name": "stderr",
     "output_type": "stream",
     "text": [
      "C:\\Users\\alex\\AppData\\Local\\Temp\\ipykernel_11468\\1416017460.py:35: FutureWarning: The frame.append method is deprecated and will be removed from pandas in a future version. Use pandas.concat instead.\n",
      "  model_parameters = model_parameters.append({'RMSE':RMSE,'MAE':MAE,'MAPE':MAPE,'Parameters':p},ignore_index=True)\n",
      "07:58:16 - cmdstanpy - INFO - Chain [1] start processing\n",
      "07:58:19 - cmdstanpy - INFO - Chain [1] done processing\n"
     ]
    },
    {
     "name": "stdout",
     "output_type": "stream",
     "text": [
      "Root Mean Square Error(RMSE)------------------------------------ 13.923738315354703\n",
      "total:  46.0\n",
      "{'changepoint_prior_scale': 0.05, 'changepoint_range': 0.2, 'holidays_prior_scale': 10, 'n_changepoints': 75, 'seasonality_mode': 'additive', 'seasonality_prior_scale': 10}\n"
     ]
    },
    {
     "name": "stderr",
     "output_type": "stream",
     "text": [
      "C:\\Users\\alex\\AppData\\Local\\Temp\\ipykernel_11468\\1416017460.py:35: FutureWarning: The frame.append method is deprecated and will be removed from pandas in a future version. Use pandas.concat instead.\n",
      "  model_parameters = model_parameters.append({'RMSE':RMSE,'MAE':MAE,'MAPE':MAPE,'Parameters':p},ignore_index=True)\n",
      "07:58:21 - cmdstanpy - INFO - Chain [1] start processing\n",
      "07:58:23 - cmdstanpy - INFO - Chain [1] done processing\n"
     ]
    },
    {
     "name": "stdout",
     "output_type": "stream",
     "text": [
      "Root Mean Square Error(RMSE)------------------------------------ 13.923738315354703\n",
      "total:  46.0\n",
      "{'changepoint_prior_scale': 0.05, 'changepoint_range': 0.2, 'holidays_prior_scale': 10, 'n_changepoints': 75, 'seasonality_mode': 'additive', 'seasonality_prior_scale': 12}\n"
     ]
    },
    {
     "name": "stderr",
     "output_type": "stream",
     "text": [
      "C:\\Users\\alex\\AppData\\Local\\Temp\\ipykernel_11468\\1416017460.py:35: FutureWarning: The frame.append method is deprecated and will be removed from pandas in a future version. Use pandas.concat instead.\n",
      "  model_parameters = model_parameters.append({'RMSE':RMSE,'MAE':MAE,'MAPE':MAPE,'Parameters':p},ignore_index=True)\n",
      "07:58:25 - cmdstanpy - INFO - Chain [1] start processing\n",
      "07:58:27 - cmdstanpy - INFO - Chain [1] done processing\n"
     ]
    },
    {
     "name": "stdout",
     "output_type": "stream",
     "text": [
      "Root Mean Square Error(RMSE)------------------------------------ 13.923738315354703\n",
      "total:  47.0\n",
      "{'changepoint_prior_scale': 0.05, 'changepoint_range': 0.2, 'holidays_prior_scale': 10, 'n_changepoints': 75, 'seasonality_mode': 'multiplicative', 'seasonality_prior_scale': 0.01}\n"
     ]
    },
    {
     "name": "stderr",
     "output_type": "stream",
     "text": [
      "C:\\Users\\alex\\AppData\\Local\\Temp\\ipykernel_11468\\1416017460.py:35: FutureWarning: The frame.append method is deprecated and will be removed from pandas in a future version. Use pandas.concat instead.\n",
      "  model_parameters = model_parameters.append({'RMSE':RMSE,'MAE':MAE,'MAPE':MAPE,'Parameters':p},ignore_index=True)\n",
      "07:58:28 - cmdstanpy - INFO - Chain [1] start processing\n",
      "07:58:36 - cmdstanpy - INFO - Chain [1] done processing\n"
     ]
    },
    {
     "name": "stdout",
     "output_type": "stream",
     "text": [
      "Root Mean Square Error(RMSE)------------------------------------ 13.993025084913802\n",
      "total:  47.0\n",
      "{'changepoint_prior_scale': 0.05, 'changepoint_range': 0.2, 'holidays_prior_scale': 10, 'n_changepoints': 75, 'seasonality_mode': 'multiplicative', 'seasonality_prior_scale': 1}\n"
     ]
    },
    {
     "name": "stderr",
     "output_type": "stream",
     "text": [
      "C:\\Users\\alex\\AppData\\Local\\Temp\\ipykernel_11468\\1416017460.py:35: FutureWarning: The frame.append method is deprecated and will be removed from pandas in a future version. Use pandas.concat instead.\n",
      "  model_parameters = model_parameters.append({'RMSE':RMSE,'MAE':MAE,'MAPE':MAPE,'Parameters':p},ignore_index=True)\n",
      "07:58:37 - cmdstanpy - INFO - Chain [1] start processing\n",
      "07:58:42 - cmdstanpy - INFO - Chain [1] done processing\n"
     ]
    },
    {
     "name": "stdout",
     "output_type": "stream",
     "text": [
      "Root Mean Square Error(RMSE)------------------------------------ 13.993025084913802\n",
      "total:  48.0\n",
      "{'changepoint_prior_scale': 0.05, 'changepoint_range': 0.2, 'holidays_prior_scale': 10, 'n_changepoints': 75, 'seasonality_mode': 'multiplicative', 'seasonality_prior_scale': 5}\n"
     ]
    },
    {
     "name": "stderr",
     "output_type": "stream",
     "text": [
      "C:\\Users\\alex\\AppData\\Local\\Temp\\ipykernel_11468\\1416017460.py:35: FutureWarning: The frame.append method is deprecated and will be removed from pandas in a future version. Use pandas.concat instead.\n",
      "  model_parameters = model_parameters.append({'RMSE':RMSE,'MAE':MAE,'MAPE':MAPE,'Parameters':p},ignore_index=True)\n",
      "07:58:43 - cmdstanpy - INFO - Chain [1] start processing\n",
      "07:58:47 - cmdstanpy - INFO - Chain [1] done processing\n"
     ]
    },
    {
     "name": "stdout",
     "output_type": "stream",
     "text": [
      "Root Mean Square Error(RMSE)------------------------------------ 13.993025084913802\n",
      "total:  49.0\n",
      "{'changepoint_prior_scale': 0.05, 'changepoint_range': 0.2, 'holidays_prior_scale': 10, 'n_changepoints': 75, 'seasonality_mode': 'multiplicative', 'seasonality_prior_scale': 10}\n"
     ]
    },
    {
     "name": "stderr",
     "output_type": "stream",
     "text": [
      "C:\\Users\\alex\\AppData\\Local\\Temp\\ipykernel_11468\\1416017460.py:35: FutureWarning: The frame.append method is deprecated and will be removed from pandas in a future version. Use pandas.concat instead.\n",
      "  model_parameters = model_parameters.append({'RMSE':RMSE,'MAE':MAE,'MAPE':MAPE,'Parameters':p},ignore_index=True)\n",
      "07:58:48 - cmdstanpy - INFO - Chain [1] start processing\n",
      "07:58:53 - cmdstanpy - INFO - Chain [1] done processing\n"
     ]
    },
    {
     "name": "stdout",
     "output_type": "stream",
     "text": [
      "Root Mean Square Error(RMSE)------------------------------------ 13.993025084913802\n",
      "total:  49.0\n",
      "{'changepoint_prior_scale': 0.05, 'changepoint_range': 0.2, 'holidays_prior_scale': 10, 'n_changepoints': 75, 'seasonality_mode': 'multiplicative', 'seasonality_prior_scale': 12}\n"
     ]
    },
    {
     "name": "stderr",
     "output_type": "stream",
     "text": [
      "C:\\Users\\alex\\AppData\\Local\\Temp\\ipykernel_11468\\1416017460.py:35: FutureWarning: The frame.append method is deprecated and will be removed from pandas in a future version. Use pandas.concat instead.\n",
      "  model_parameters = model_parameters.append({'RMSE':RMSE,'MAE':MAE,'MAPE':MAPE,'Parameters':p},ignore_index=True)\n",
      "07:58:54 - cmdstanpy - INFO - Chain [1] start processing\n",
      "07:59:00 - cmdstanpy - INFO - Chain [1] done processing\n"
     ]
    },
    {
     "name": "stdout",
     "output_type": "stream",
     "text": [
      "Root Mean Square Error(RMSE)------------------------------------ 13.993025084913802\n",
      "total:  50.0\n",
      "{'changepoint_prior_scale': 0.08, 'changepoint_range': 0.2, 'holidays_prior_scale': 5, 'n_changepoints': 50, 'seasonality_mode': 'additive', 'seasonality_prior_scale': 0.01}\n"
     ]
    },
    {
     "name": "stderr",
     "output_type": "stream",
     "text": [
      "C:\\Users\\alex\\AppData\\Local\\Temp\\ipykernel_11468\\1416017460.py:35: FutureWarning: The frame.append method is deprecated and will be removed from pandas in a future version. Use pandas.concat instead.\n",
      "  model_parameters = model_parameters.append({'RMSE':RMSE,'MAE':MAE,'MAPE':MAPE,'Parameters':p},ignore_index=True)\n",
      "07:59:02 - cmdstanpy - INFO - Chain [1] start processing\n",
      "07:59:05 - cmdstanpy - INFO - Chain [1] done processing\n"
     ]
    },
    {
     "name": "stdout",
     "output_type": "stream",
     "text": [
      "Root Mean Square Error(RMSE)------------------------------------ 13.9385393659538\n",
      "total:  51.0\n",
      "{'changepoint_prior_scale': 0.08, 'changepoint_range': 0.2, 'holidays_prior_scale': 5, 'n_changepoints': 50, 'seasonality_mode': 'additive', 'seasonality_prior_scale': 1}\n"
     ]
    },
    {
     "name": "stderr",
     "output_type": "stream",
     "text": [
      "C:\\Users\\alex\\AppData\\Local\\Temp\\ipykernel_11468\\1416017460.py:35: FutureWarning: The frame.append method is deprecated and will be removed from pandas in a future version. Use pandas.concat instead.\n",
      "  model_parameters = model_parameters.append({'RMSE':RMSE,'MAE':MAE,'MAPE':MAPE,'Parameters':p},ignore_index=True)\n",
      "07:59:07 - cmdstanpy - INFO - Chain [1] start processing\n",
      "07:59:09 - cmdstanpy - INFO - Chain [1] done processing\n"
     ]
    },
    {
     "name": "stdout",
     "output_type": "stream",
     "text": [
      "Root Mean Square Error(RMSE)------------------------------------ 13.9385393659538\n",
      "total:  51.0\n",
      "{'changepoint_prior_scale': 0.08, 'changepoint_range': 0.2, 'holidays_prior_scale': 5, 'n_changepoints': 50, 'seasonality_mode': 'additive', 'seasonality_prior_scale': 5}\n"
     ]
    },
    {
     "name": "stderr",
     "output_type": "stream",
     "text": [
      "C:\\Users\\alex\\AppData\\Local\\Temp\\ipykernel_11468\\1416017460.py:35: FutureWarning: The frame.append method is deprecated and will be removed from pandas in a future version. Use pandas.concat instead.\n",
      "  model_parameters = model_parameters.append({'RMSE':RMSE,'MAE':MAE,'MAPE':MAPE,'Parameters':p},ignore_index=True)\n",
      "07:59:10 - cmdstanpy - INFO - Chain [1] start processing\n",
      "07:59:12 - cmdstanpy - INFO - Chain [1] done processing\n"
     ]
    },
    {
     "name": "stdout",
     "output_type": "stream",
     "text": [
      "Root Mean Square Error(RMSE)------------------------------------ 13.9385393659538\n",
      "total:  52.0\n",
      "{'changepoint_prior_scale': 0.08, 'changepoint_range': 0.2, 'holidays_prior_scale': 5, 'n_changepoints': 50, 'seasonality_mode': 'additive', 'seasonality_prior_scale': 10}\n"
     ]
    },
    {
     "name": "stderr",
     "output_type": "stream",
     "text": [
      "C:\\Users\\alex\\AppData\\Local\\Temp\\ipykernel_11468\\1416017460.py:35: FutureWarning: The frame.append method is deprecated and will be removed from pandas in a future version. Use pandas.concat instead.\n",
      "  model_parameters = model_parameters.append({'RMSE':RMSE,'MAE':MAE,'MAPE':MAPE,'Parameters':p},ignore_index=True)\n",
      "07:59:13 - cmdstanpy - INFO - Chain [1] start processing\n",
      "07:59:14 - cmdstanpy - INFO - Chain [1] done processing\n"
     ]
    },
    {
     "name": "stdout",
     "output_type": "stream",
     "text": [
      "Root Mean Square Error(RMSE)------------------------------------ 13.9385393659538\n",
      "total:  53.0\n",
      "{'changepoint_prior_scale': 0.08, 'changepoint_range': 0.2, 'holidays_prior_scale': 5, 'n_changepoints': 50, 'seasonality_mode': 'additive', 'seasonality_prior_scale': 12}\n"
     ]
    },
    {
     "name": "stderr",
     "output_type": "stream",
     "text": [
      "C:\\Users\\alex\\AppData\\Local\\Temp\\ipykernel_11468\\1416017460.py:35: FutureWarning: The frame.append method is deprecated and will be removed from pandas in a future version. Use pandas.concat instead.\n",
      "  model_parameters = model_parameters.append({'RMSE':RMSE,'MAE':MAE,'MAPE':MAPE,'Parameters':p},ignore_index=True)\n",
      "07:59:15 - cmdstanpy - INFO - Chain [1] start processing\n",
      "07:59:18 - cmdstanpy - INFO - Chain [1] done processing\n"
     ]
    },
    {
     "name": "stdout",
     "output_type": "stream",
     "text": [
      "Root Mean Square Error(RMSE)------------------------------------ 13.9385393659538\n",
      "total:  53.0\n",
      "{'changepoint_prior_scale': 0.08, 'changepoint_range': 0.2, 'holidays_prior_scale': 5, 'n_changepoints': 50, 'seasonality_mode': 'multiplicative', 'seasonality_prior_scale': 0.01}\n"
     ]
    },
    {
     "name": "stderr",
     "output_type": "stream",
     "text": [
      "C:\\Users\\alex\\AppData\\Local\\Temp\\ipykernel_11468\\1416017460.py:35: FutureWarning: The frame.append method is deprecated and will be removed from pandas in a future version. Use pandas.concat instead.\n",
      "  model_parameters = model_parameters.append({'RMSE':RMSE,'MAE':MAE,'MAPE':MAPE,'Parameters':p},ignore_index=True)\n",
      "07:59:20 - cmdstanpy - INFO - Chain [1] start processing\n",
      "07:59:23 - cmdstanpy - INFO - Chain [1] done processing\n"
     ]
    },
    {
     "name": "stdout",
     "output_type": "stream",
     "text": [
      "Root Mean Square Error(RMSE)------------------------------------ 13.997582552704884\n",
      "total:  54.0\n",
      "{'changepoint_prior_scale': 0.08, 'changepoint_range': 0.2, 'holidays_prior_scale': 5, 'n_changepoints': 50, 'seasonality_mode': 'multiplicative', 'seasonality_prior_scale': 1}\n"
     ]
    },
    {
     "name": "stderr",
     "output_type": "stream",
     "text": [
      "C:\\Users\\alex\\AppData\\Local\\Temp\\ipykernel_11468\\1416017460.py:35: FutureWarning: The frame.append method is deprecated and will be removed from pandas in a future version. Use pandas.concat instead.\n",
      "  model_parameters = model_parameters.append({'RMSE':RMSE,'MAE':MAE,'MAPE':MAPE,'Parameters':p},ignore_index=True)\n",
      "07:59:24 - cmdstanpy - INFO - Chain [1] start processing\n",
      "07:59:26 - cmdstanpy - INFO - Chain [1] done processing\n"
     ]
    },
    {
     "name": "stdout",
     "output_type": "stream",
     "text": [
      "Root Mean Square Error(RMSE)------------------------------------ 13.997582552704884\n",
      "total:  54.0\n",
      "{'changepoint_prior_scale': 0.08, 'changepoint_range': 0.2, 'holidays_prior_scale': 5, 'n_changepoints': 50, 'seasonality_mode': 'multiplicative', 'seasonality_prior_scale': 5}\n"
     ]
    },
    {
     "name": "stderr",
     "output_type": "stream",
     "text": [
      "C:\\Users\\alex\\AppData\\Local\\Temp\\ipykernel_11468\\1416017460.py:35: FutureWarning: The frame.append method is deprecated and will be removed from pandas in a future version. Use pandas.concat instead.\n",
      "  model_parameters = model_parameters.append({'RMSE':RMSE,'MAE':MAE,'MAPE':MAPE,'Parameters':p},ignore_index=True)\n",
      "07:59:27 - cmdstanpy - INFO - Chain [1] start processing\n",
      "07:59:30 - cmdstanpy - INFO - Chain [1] done processing\n"
     ]
    },
    {
     "name": "stdout",
     "output_type": "stream",
     "text": [
      "Root Mean Square Error(RMSE)------------------------------------ 13.997582552704884\n",
      "total:  55.00000000000001\n",
      "{'changepoint_prior_scale': 0.08, 'changepoint_range': 0.2, 'holidays_prior_scale': 5, 'n_changepoints': 50, 'seasonality_mode': 'multiplicative', 'seasonality_prior_scale': 10}\n"
     ]
    },
    {
     "name": "stderr",
     "output_type": "stream",
     "text": [
      "C:\\Users\\alex\\AppData\\Local\\Temp\\ipykernel_11468\\1416017460.py:35: FutureWarning: The frame.append method is deprecated and will be removed from pandas in a future version. Use pandas.concat instead.\n",
      "  model_parameters = model_parameters.append({'RMSE':RMSE,'MAE':MAE,'MAPE':MAPE,'Parameters':p},ignore_index=True)\n",
      "07:59:31 - cmdstanpy - INFO - Chain [1] start processing\n",
      "07:59:37 - cmdstanpy - INFO - Chain [1] done processing\n"
     ]
    },
    {
     "name": "stdout",
     "output_type": "stream",
     "text": [
      "Root Mean Square Error(RMSE)------------------------------------ 13.997582552704884\n",
      "total:  56.00000000000001\n",
      "{'changepoint_prior_scale': 0.08, 'changepoint_range': 0.2, 'holidays_prior_scale': 5, 'n_changepoints': 50, 'seasonality_mode': 'multiplicative', 'seasonality_prior_scale': 12}\n"
     ]
    },
    {
     "name": "stderr",
     "output_type": "stream",
     "text": [
      "C:\\Users\\alex\\AppData\\Local\\Temp\\ipykernel_11468\\1416017460.py:35: FutureWarning: The frame.append method is deprecated and will be removed from pandas in a future version. Use pandas.concat instead.\n",
      "  model_parameters = model_parameters.append({'RMSE':RMSE,'MAE':MAE,'MAPE':MAPE,'Parameters':p},ignore_index=True)\n",
      "07:59:39 - cmdstanpy - INFO - Chain [1] start processing\n",
      "07:59:41 - cmdstanpy - INFO - Chain [1] done processing\n"
     ]
    },
    {
     "name": "stdout",
     "output_type": "stream",
     "text": [
      "Root Mean Square Error(RMSE)------------------------------------ 13.997582552704884\n",
      "total:  56.00000000000001\n",
      "{'changepoint_prior_scale': 0.08, 'changepoint_range': 0.2, 'holidays_prior_scale': 5, 'n_changepoints': 75, 'seasonality_mode': 'additive', 'seasonality_prior_scale': 0.01}\n"
     ]
    },
    {
     "name": "stderr",
     "output_type": "stream",
     "text": [
      "C:\\Users\\alex\\AppData\\Local\\Temp\\ipykernel_11468\\1416017460.py:35: FutureWarning: The frame.append method is deprecated and will be removed from pandas in a future version. Use pandas.concat instead.\n",
      "  model_parameters = model_parameters.append({'RMSE':RMSE,'MAE':MAE,'MAPE':MAPE,'Parameters':p},ignore_index=True)\n",
      "07:59:42 - cmdstanpy - INFO - Chain [1] start processing\n",
      "07:59:44 - cmdstanpy - INFO - Chain [1] done processing\n"
     ]
    },
    {
     "name": "stdout",
     "output_type": "stream",
     "text": [
      "Root Mean Square Error(RMSE)------------------------------------ 13.930510625036913\n",
      "total:  56.99999999999999\n",
      "{'changepoint_prior_scale': 0.08, 'changepoint_range': 0.2, 'holidays_prior_scale': 5, 'n_changepoints': 75, 'seasonality_mode': 'additive', 'seasonality_prior_scale': 1}\n"
     ]
    },
    {
     "name": "stderr",
     "output_type": "stream",
     "text": [
      "C:\\Users\\alex\\AppData\\Local\\Temp\\ipykernel_11468\\1416017460.py:35: FutureWarning: The frame.append method is deprecated and will be removed from pandas in a future version. Use pandas.concat instead.\n",
      "  model_parameters = model_parameters.append({'RMSE':RMSE,'MAE':MAE,'MAPE':MAPE,'Parameters':p},ignore_index=True)\n",
      "07:59:45 - cmdstanpy - INFO - Chain [1] start processing\n",
      "07:59:47 - cmdstanpy - INFO - Chain [1] done processing\n"
     ]
    },
    {
     "name": "stdout",
     "output_type": "stream",
     "text": [
      "Root Mean Square Error(RMSE)------------------------------------ 13.930510625036913\n",
      "total:  56.99999999999999\n",
      "{'changepoint_prior_scale': 0.08, 'changepoint_range': 0.2, 'holidays_prior_scale': 5, 'n_changepoints': 75, 'seasonality_mode': 'additive', 'seasonality_prior_scale': 5}\n"
     ]
    },
    {
     "name": "stderr",
     "output_type": "stream",
     "text": [
      "C:\\Users\\alex\\AppData\\Local\\Temp\\ipykernel_11468\\1416017460.py:35: FutureWarning: The frame.append method is deprecated and will be removed from pandas in a future version. Use pandas.concat instead.\n",
      "  model_parameters = model_parameters.append({'RMSE':RMSE,'MAE':MAE,'MAPE':MAPE,'Parameters':p},ignore_index=True)\n",
      "07:59:48 - cmdstanpy - INFO - Chain [1] start processing\n",
      "07:59:50 - cmdstanpy - INFO - Chain [1] done processing\n"
     ]
    },
    {
     "name": "stdout",
     "output_type": "stream",
     "text": [
      "Root Mean Square Error(RMSE)------------------------------------ 13.930510625036913\n",
      "total:  57.99999999999999\n",
      "{'changepoint_prior_scale': 0.08, 'changepoint_range': 0.2, 'holidays_prior_scale': 5, 'n_changepoints': 75, 'seasonality_mode': 'additive', 'seasonality_prior_scale': 10}\n"
     ]
    },
    {
     "name": "stderr",
     "output_type": "stream",
     "text": [
      "C:\\Users\\alex\\AppData\\Local\\Temp\\ipykernel_11468\\1416017460.py:35: FutureWarning: The frame.append method is deprecated and will be removed from pandas in a future version. Use pandas.concat instead.\n",
      "  model_parameters = model_parameters.append({'RMSE':RMSE,'MAE':MAE,'MAPE':MAPE,'Parameters':p},ignore_index=True)\n",
      "07:59:51 - cmdstanpy - INFO - Chain [1] start processing\n",
      "07:59:56 - cmdstanpy - INFO - Chain [1] done processing\n"
     ]
    },
    {
     "name": "stdout",
     "output_type": "stream",
     "text": [
      "Root Mean Square Error(RMSE)------------------------------------ 13.930510625036913\n",
      "total:  59.0\n",
      "{'changepoint_prior_scale': 0.08, 'changepoint_range': 0.2, 'holidays_prior_scale': 5, 'n_changepoints': 75, 'seasonality_mode': 'additive', 'seasonality_prior_scale': 12}\n"
     ]
    },
    {
     "name": "stderr",
     "output_type": "stream",
     "text": [
      "C:\\Users\\alex\\AppData\\Local\\Temp\\ipykernel_11468\\1416017460.py:35: FutureWarning: The frame.append method is deprecated and will be removed from pandas in a future version. Use pandas.concat instead.\n",
      "  model_parameters = model_parameters.append({'RMSE':RMSE,'MAE':MAE,'MAPE':MAPE,'Parameters':p},ignore_index=True)\n",
      "07:59:57 - cmdstanpy - INFO - Chain [1] start processing\n",
      "07:59:59 - cmdstanpy - INFO - Chain [1] done processing\n"
     ]
    },
    {
     "name": "stdout",
     "output_type": "stream",
     "text": [
      "Root Mean Square Error(RMSE)------------------------------------ 13.930510625036913\n",
      "total:  59.0\n",
      "{'changepoint_prior_scale': 0.08, 'changepoint_range': 0.2, 'holidays_prior_scale': 5, 'n_changepoints': 75, 'seasonality_mode': 'multiplicative', 'seasonality_prior_scale': 0.01}\n"
     ]
    },
    {
     "name": "stderr",
     "output_type": "stream",
     "text": [
      "C:\\Users\\alex\\AppData\\Local\\Temp\\ipykernel_11468\\1416017460.py:35: FutureWarning: The frame.append method is deprecated and will be removed from pandas in a future version. Use pandas.concat instead.\n",
      "  model_parameters = model_parameters.append({'RMSE':RMSE,'MAE':MAE,'MAPE':MAPE,'Parameters':p},ignore_index=True)\n",
      "08:00:00 - cmdstanpy - INFO - Chain [1] start processing\n",
      "08:00:05 - cmdstanpy - INFO - Chain [1] done processing\n"
     ]
    },
    {
     "name": "stdout",
     "output_type": "stream",
     "text": [
      "Root Mean Square Error(RMSE)------------------------------------ 13.989183151838901\n",
      "total:  60.0\n",
      "{'changepoint_prior_scale': 0.08, 'changepoint_range': 0.2, 'holidays_prior_scale': 5, 'n_changepoints': 75, 'seasonality_mode': 'multiplicative', 'seasonality_prior_scale': 1}\n"
     ]
    },
    {
     "name": "stderr",
     "output_type": "stream",
     "text": [
      "C:\\Users\\alex\\AppData\\Local\\Temp\\ipykernel_11468\\1416017460.py:35: FutureWarning: The frame.append method is deprecated and will be removed from pandas in a future version. Use pandas.concat instead.\n",
      "  model_parameters = model_parameters.append({'RMSE':RMSE,'MAE':MAE,'MAPE':MAPE,'Parameters':p},ignore_index=True)\n",
      "08:00:05 - cmdstanpy - INFO - Chain [1] start processing\n",
      "08:00:11 - cmdstanpy - INFO - Chain [1] done processing\n"
     ]
    },
    {
     "name": "stdout",
     "output_type": "stream",
     "text": [
      "Root Mean Square Error(RMSE)------------------------------------ 13.989183151838901\n",
      "total:  61.0\n",
      "{'changepoint_prior_scale': 0.08, 'changepoint_range': 0.2, 'holidays_prior_scale': 5, 'n_changepoints': 75, 'seasonality_mode': 'multiplicative', 'seasonality_prior_scale': 5}\n"
     ]
    },
    {
     "name": "stderr",
     "output_type": "stream",
     "text": [
      "C:\\Users\\alex\\AppData\\Local\\Temp\\ipykernel_11468\\1416017460.py:35: FutureWarning: The frame.append method is deprecated and will be removed from pandas in a future version. Use pandas.concat instead.\n",
      "  model_parameters = model_parameters.append({'RMSE':RMSE,'MAE':MAE,'MAPE':MAPE,'Parameters':p},ignore_index=True)\n",
      "08:00:13 - cmdstanpy - INFO - Chain [1] start processing\n",
      "08:00:19 - cmdstanpy - INFO - Chain [1] done processing\n"
     ]
    },
    {
     "name": "stdout",
     "output_type": "stream",
     "text": [
      "Root Mean Square Error(RMSE)------------------------------------ 13.989183151838901\n",
      "total:  61.0\n",
      "{'changepoint_prior_scale': 0.08, 'changepoint_range': 0.2, 'holidays_prior_scale': 5, 'n_changepoints': 75, 'seasonality_mode': 'multiplicative', 'seasonality_prior_scale': 10}\n"
     ]
    },
    {
     "name": "stderr",
     "output_type": "stream",
     "text": [
      "C:\\Users\\alex\\AppData\\Local\\Temp\\ipykernel_11468\\1416017460.py:35: FutureWarning: The frame.append method is deprecated and will be removed from pandas in a future version. Use pandas.concat instead.\n",
      "  model_parameters = model_parameters.append({'RMSE':RMSE,'MAE':MAE,'MAPE':MAPE,'Parameters':p},ignore_index=True)\n",
      "08:00:20 - cmdstanpy - INFO - Chain [1] start processing\n",
      "08:00:25 - cmdstanpy - INFO - Chain [1] done processing\n"
     ]
    },
    {
     "name": "stdout",
     "output_type": "stream",
     "text": [
      "Root Mean Square Error(RMSE)------------------------------------ 13.989183151838901\n",
      "total:  62.0\n",
      "{'changepoint_prior_scale': 0.08, 'changepoint_range': 0.2, 'holidays_prior_scale': 5, 'n_changepoints': 75, 'seasonality_mode': 'multiplicative', 'seasonality_prior_scale': 12}\n"
     ]
    },
    {
     "name": "stderr",
     "output_type": "stream",
     "text": [
      "C:\\Users\\alex\\AppData\\Local\\Temp\\ipykernel_11468\\1416017460.py:35: FutureWarning: The frame.append method is deprecated and will be removed from pandas in a future version. Use pandas.concat instead.\n",
      "  model_parameters = model_parameters.append({'RMSE':RMSE,'MAE':MAE,'MAPE':MAPE,'Parameters':p},ignore_index=True)\n",
      "08:00:26 - cmdstanpy - INFO - Chain [1] start processing\n",
      "08:00:31 - cmdstanpy - INFO - Chain [1] done processing\n"
     ]
    },
    {
     "name": "stdout",
     "output_type": "stream",
     "text": [
      "Root Mean Square Error(RMSE)------------------------------------ 13.989183151838901\n",
      "total:  62.0\n",
      "{'changepoint_prior_scale': 0.08, 'changepoint_range': 0.2, 'holidays_prior_scale': 10, 'n_changepoints': 50, 'seasonality_mode': 'additive', 'seasonality_prior_scale': 0.01}\n"
     ]
    },
    {
     "name": "stderr",
     "output_type": "stream",
     "text": [
      "C:\\Users\\alex\\AppData\\Local\\Temp\\ipykernel_11468\\1416017460.py:35: FutureWarning: The frame.append method is deprecated and will be removed from pandas in a future version. Use pandas.concat instead.\n",
      "  model_parameters = model_parameters.append({'RMSE':RMSE,'MAE':MAE,'MAPE':MAPE,'Parameters':p},ignore_index=True)\n",
      "08:00:32 - cmdstanpy - INFO - Chain [1] start processing\n",
      "08:00:34 - cmdstanpy - INFO - Chain [1] done processing\n"
     ]
    },
    {
     "name": "stdout",
     "output_type": "stream",
     "text": [
      "Root Mean Square Error(RMSE)------------------------------------ 13.9385393659538\n",
      "total:  63.0\n",
      "{'changepoint_prior_scale': 0.08, 'changepoint_range': 0.2, 'holidays_prior_scale': 10, 'n_changepoints': 50, 'seasonality_mode': 'additive', 'seasonality_prior_scale': 1}\n"
     ]
    },
    {
     "name": "stderr",
     "output_type": "stream",
     "text": [
      "C:\\Users\\alex\\AppData\\Local\\Temp\\ipykernel_11468\\1416017460.py:35: FutureWarning: The frame.append method is deprecated and will be removed from pandas in a future version. Use pandas.concat instead.\n",
      "  model_parameters = model_parameters.append({'RMSE':RMSE,'MAE':MAE,'MAPE':MAPE,'Parameters':p},ignore_index=True)\n",
      "08:00:36 - cmdstanpy - INFO - Chain [1] start processing\n",
      "08:00:39 - cmdstanpy - INFO - Chain [1] done processing\n"
     ]
    },
    {
     "name": "stdout",
     "output_type": "stream",
     "text": [
      "Root Mean Square Error(RMSE)------------------------------------ 13.9385393659538\n",
      "total:  64.0\n",
      "{'changepoint_prior_scale': 0.08, 'changepoint_range': 0.2, 'holidays_prior_scale': 10, 'n_changepoints': 50, 'seasonality_mode': 'additive', 'seasonality_prior_scale': 5}\n"
     ]
    },
    {
     "name": "stderr",
     "output_type": "stream",
     "text": [
      "C:\\Users\\alex\\AppData\\Local\\Temp\\ipykernel_11468\\1416017460.py:35: FutureWarning: The frame.append method is deprecated and will be removed from pandas in a future version. Use pandas.concat instead.\n",
      "  model_parameters = model_parameters.append({'RMSE':RMSE,'MAE':MAE,'MAPE':MAPE,'Parameters':p},ignore_index=True)\n",
      "08:00:41 - cmdstanpy - INFO - Chain [1] start processing\n",
      "08:00:43 - cmdstanpy - INFO - Chain [1] done processing\n"
     ]
    },
    {
     "name": "stdout",
     "output_type": "stream",
     "text": [
      "Root Mean Square Error(RMSE)------------------------------------ 13.9385393659538\n",
      "total:  64.0\n",
      "{'changepoint_prior_scale': 0.08, 'changepoint_range': 0.2, 'holidays_prior_scale': 10, 'n_changepoints': 50, 'seasonality_mode': 'additive', 'seasonality_prior_scale': 10}\n"
     ]
    },
    {
     "name": "stderr",
     "output_type": "stream",
     "text": [
      "C:\\Users\\alex\\AppData\\Local\\Temp\\ipykernel_11468\\1416017460.py:35: FutureWarning: The frame.append method is deprecated and will be removed from pandas in a future version. Use pandas.concat instead.\n",
      "  model_parameters = model_parameters.append({'RMSE':RMSE,'MAE':MAE,'MAPE':MAPE,'Parameters':p},ignore_index=True)\n",
      "08:00:44 - cmdstanpy - INFO - Chain [1] start processing\n",
      "08:00:46 - cmdstanpy - INFO - Chain [1] done processing\n"
     ]
    },
    {
     "name": "stdout",
     "output_type": "stream",
     "text": [
      "Root Mean Square Error(RMSE)------------------------------------ 13.9385393659538\n",
      "total:  65.0\n",
      "{'changepoint_prior_scale': 0.08, 'changepoint_range': 0.2, 'holidays_prior_scale': 10, 'n_changepoints': 50, 'seasonality_mode': 'additive', 'seasonality_prior_scale': 12}\n"
     ]
    },
    {
     "name": "stderr",
     "output_type": "stream",
     "text": [
      "C:\\Users\\alex\\AppData\\Local\\Temp\\ipykernel_11468\\1416017460.py:35: FutureWarning: The frame.append method is deprecated and will be removed from pandas in a future version. Use pandas.concat instead.\n",
      "  model_parameters = model_parameters.append({'RMSE':RMSE,'MAE':MAE,'MAPE':MAPE,'Parameters':p},ignore_index=True)\n",
      "08:00:46 - cmdstanpy - INFO - Chain [1] start processing\n",
      "08:00:48 - cmdstanpy - INFO - Chain [1] done processing\n"
     ]
    },
    {
     "name": "stdout",
     "output_type": "stream",
     "text": [
      "Root Mean Square Error(RMSE)------------------------------------ 13.9385393659538\n",
      "total:  66.0\n",
      "{'changepoint_prior_scale': 0.08, 'changepoint_range': 0.2, 'holidays_prior_scale': 10, 'n_changepoints': 50, 'seasonality_mode': 'multiplicative', 'seasonality_prior_scale': 0.01}\n"
     ]
    },
    {
     "name": "stderr",
     "output_type": "stream",
     "text": [
      "C:\\Users\\alex\\AppData\\Local\\Temp\\ipykernel_11468\\1416017460.py:35: FutureWarning: The frame.append method is deprecated and will be removed from pandas in a future version. Use pandas.concat instead.\n",
      "  model_parameters = model_parameters.append({'RMSE':RMSE,'MAE':MAE,'MAPE':MAPE,'Parameters':p},ignore_index=True)\n",
      "08:00:49 - cmdstanpy - INFO - Chain [1] start processing\n",
      "08:00:51 - cmdstanpy - INFO - Chain [1] done processing\n"
     ]
    },
    {
     "name": "stdout",
     "output_type": "stream",
     "text": [
      "Root Mean Square Error(RMSE)------------------------------------ 13.997582552704884\n",
      "total:  66.0\n",
      "{'changepoint_prior_scale': 0.08, 'changepoint_range': 0.2, 'holidays_prior_scale': 10, 'n_changepoints': 50, 'seasonality_mode': 'multiplicative', 'seasonality_prior_scale': 1}\n"
     ]
    },
    {
     "name": "stderr",
     "output_type": "stream",
     "text": [
      "C:\\Users\\alex\\AppData\\Local\\Temp\\ipykernel_11468\\1416017460.py:35: FutureWarning: The frame.append method is deprecated and will be removed from pandas in a future version. Use pandas.concat instead.\n",
      "  model_parameters = model_parameters.append({'RMSE':RMSE,'MAE':MAE,'MAPE':MAPE,'Parameters':p},ignore_index=True)\n",
      "08:00:52 - cmdstanpy - INFO - Chain [1] start processing\n",
      "08:00:55 - cmdstanpy - INFO - Chain [1] done processing\n"
     ]
    },
    {
     "name": "stdout",
     "output_type": "stream",
     "text": [
      "Root Mean Square Error(RMSE)------------------------------------ 13.997582552704884\n",
      "total:  67.0\n",
      "{'changepoint_prior_scale': 0.08, 'changepoint_range': 0.2, 'holidays_prior_scale': 10, 'n_changepoints': 50, 'seasonality_mode': 'multiplicative', 'seasonality_prior_scale': 5}\n"
     ]
    },
    {
     "name": "stderr",
     "output_type": "stream",
     "text": [
      "C:\\Users\\alex\\AppData\\Local\\Temp\\ipykernel_11468\\1416017460.py:35: FutureWarning: The frame.append method is deprecated and will be removed from pandas in a future version. Use pandas.concat instead.\n",
      "  model_parameters = model_parameters.append({'RMSE':RMSE,'MAE':MAE,'MAPE':MAPE,'Parameters':p},ignore_index=True)\n",
      "08:00:56 - cmdstanpy - INFO - Chain [1] start processing\n",
      "08:01:01 - cmdstanpy - INFO - Chain [1] done processing\n"
     ]
    },
    {
     "name": "stdout",
     "output_type": "stream",
     "text": [
      "Root Mean Square Error(RMSE)------------------------------------ 13.997582552704884\n",
      "total:  68.0\n",
      "{'changepoint_prior_scale': 0.08, 'changepoint_range': 0.2, 'holidays_prior_scale': 10, 'n_changepoints': 50, 'seasonality_mode': 'multiplicative', 'seasonality_prior_scale': 10}\n"
     ]
    },
    {
     "name": "stderr",
     "output_type": "stream",
     "text": [
      "C:\\Users\\alex\\AppData\\Local\\Temp\\ipykernel_11468\\1416017460.py:35: FutureWarning: The frame.append method is deprecated and will be removed from pandas in a future version. Use pandas.concat instead.\n",
      "  model_parameters = model_parameters.append({'RMSE':RMSE,'MAE':MAE,'MAPE':MAPE,'Parameters':p},ignore_index=True)\n",
      "08:01:03 - cmdstanpy - INFO - Chain [1] start processing\n",
      "08:01:06 - cmdstanpy - INFO - Chain [1] done processing\n"
     ]
    },
    {
     "name": "stdout",
     "output_type": "stream",
     "text": [
      "Root Mean Square Error(RMSE)------------------------------------ 13.997582552704884\n",
      "total:  68.0\n",
      "{'changepoint_prior_scale': 0.08, 'changepoint_range': 0.2, 'holidays_prior_scale': 10, 'n_changepoints': 50, 'seasonality_mode': 'multiplicative', 'seasonality_prior_scale': 12}\n"
     ]
    },
    {
     "name": "stderr",
     "output_type": "stream",
     "text": [
      "C:\\Users\\alex\\AppData\\Local\\Temp\\ipykernel_11468\\1416017460.py:35: FutureWarning: The frame.append method is deprecated and will be removed from pandas in a future version. Use pandas.concat instead.\n",
      "  model_parameters = model_parameters.append({'RMSE':RMSE,'MAE':MAE,'MAPE':MAPE,'Parameters':p},ignore_index=True)\n",
      "08:01:07 - cmdstanpy - INFO - Chain [1] start processing\n",
      "08:01:09 - cmdstanpy - INFO - Chain [1] done processing\n"
     ]
    },
    {
     "name": "stdout",
     "output_type": "stream",
     "text": [
      "Root Mean Square Error(RMSE)------------------------------------ 13.997582552704884\n",
      "total:  69.0\n",
      "{'changepoint_prior_scale': 0.08, 'changepoint_range': 0.2, 'holidays_prior_scale': 10, 'n_changepoints': 75, 'seasonality_mode': 'additive', 'seasonality_prior_scale': 0.01}\n"
     ]
    },
    {
     "name": "stderr",
     "output_type": "stream",
     "text": [
      "C:\\Users\\alex\\AppData\\Local\\Temp\\ipykernel_11468\\1416017460.py:35: FutureWarning: The frame.append method is deprecated and will be removed from pandas in a future version. Use pandas.concat instead.\n",
      "  model_parameters = model_parameters.append({'RMSE':RMSE,'MAE':MAE,'MAPE':MAPE,'Parameters':p},ignore_index=True)\n",
      "08:01:10 - cmdstanpy - INFO - Chain [1] start processing\n",
      "08:01:12 - cmdstanpy - INFO - Chain [1] done processing\n"
     ]
    },
    {
     "name": "stdout",
     "output_type": "stream",
     "text": [
      "Root Mean Square Error(RMSE)------------------------------------ 13.930510625036913\n",
      "total:  69.0\n",
      "{'changepoint_prior_scale': 0.08, 'changepoint_range': 0.2, 'holidays_prior_scale': 10, 'n_changepoints': 75, 'seasonality_mode': 'additive', 'seasonality_prior_scale': 1}\n"
     ]
    },
    {
     "name": "stderr",
     "output_type": "stream",
     "text": [
      "C:\\Users\\alex\\AppData\\Local\\Temp\\ipykernel_11468\\1416017460.py:35: FutureWarning: The frame.append method is deprecated and will be removed from pandas in a future version. Use pandas.concat instead.\n",
      "  model_parameters = model_parameters.append({'RMSE':RMSE,'MAE':MAE,'MAPE':MAPE,'Parameters':p},ignore_index=True)\n",
      "08:01:14 - cmdstanpy - INFO - Chain [1] start processing\n",
      "08:01:18 - cmdstanpy - INFO - Chain [1] done processing\n"
     ]
    },
    {
     "name": "stdout",
     "output_type": "stream",
     "text": [
      "Root Mean Square Error(RMSE)------------------------------------ 13.930510625036913\n",
      "total:  70.0\n",
      "{'changepoint_prior_scale': 0.08, 'changepoint_range': 0.2, 'holidays_prior_scale': 10, 'n_changepoints': 75, 'seasonality_mode': 'additive', 'seasonality_prior_scale': 5}\n"
     ]
    },
    {
     "name": "stderr",
     "output_type": "stream",
     "text": [
      "C:\\Users\\alex\\AppData\\Local\\Temp\\ipykernel_11468\\1416017460.py:35: FutureWarning: The frame.append method is deprecated and will be removed from pandas in a future version. Use pandas.concat instead.\n",
      "  model_parameters = model_parameters.append({'RMSE':RMSE,'MAE':MAE,'MAPE':MAPE,'Parameters':p},ignore_index=True)\n",
      "08:01:19 - cmdstanpy - INFO - Chain [1] start processing\n",
      "08:01:21 - cmdstanpy - INFO - Chain [1] done processing\n"
     ]
    },
    {
     "name": "stdout",
     "output_type": "stream",
     "text": [
      "Root Mean Square Error(RMSE)------------------------------------ 13.930510625036913\n",
      "total:  71.0\n",
      "{'changepoint_prior_scale': 0.08, 'changepoint_range': 0.2, 'holidays_prior_scale': 10, 'n_changepoints': 75, 'seasonality_mode': 'additive', 'seasonality_prior_scale': 10}\n"
     ]
    },
    {
     "name": "stderr",
     "output_type": "stream",
     "text": [
      "C:\\Users\\alex\\AppData\\Local\\Temp\\ipykernel_11468\\1416017460.py:35: FutureWarning: The frame.append method is deprecated and will be removed from pandas in a future version. Use pandas.concat instead.\n",
      "  model_parameters = model_parameters.append({'RMSE':RMSE,'MAE':MAE,'MAPE':MAPE,'Parameters':p},ignore_index=True)\n",
      "08:01:22 - cmdstanpy - INFO - Chain [1] start processing\n",
      "08:01:24 - cmdstanpy - INFO - Chain [1] done processing\n"
     ]
    },
    {
     "name": "stdout",
     "output_type": "stream",
     "text": [
      "Root Mean Square Error(RMSE)------------------------------------ 13.930510625036913\n",
      "total:  71.0\n",
      "{'changepoint_prior_scale': 0.08, 'changepoint_range': 0.2, 'holidays_prior_scale': 10, 'n_changepoints': 75, 'seasonality_mode': 'additive', 'seasonality_prior_scale': 12}\n"
     ]
    },
    {
     "name": "stderr",
     "output_type": "stream",
     "text": [
      "C:\\Users\\alex\\AppData\\Local\\Temp\\ipykernel_11468\\1416017460.py:35: FutureWarning: The frame.append method is deprecated and will be removed from pandas in a future version. Use pandas.concat instead.\n",
      "  model_parameters = model_parameters.append({'RMSE':RMSE,'MAE':MAE,'MAPE':MAPE,'Parameters':p},ignore_index=True)\n",
      "08:01:25 - cmdstanpy - INFO - Chain [1] start processing\n",
      "08:01:27 - cmdstanpy - INFO - Chain [1] done processing\n"
     ]
    },
    {
     "name": "stdout",
     "output_type": "stream",
     "text": [
      "Root Mean Square Error(RMSE)------------------------------------ 13.930510625036913\n",
      "total:  72.0\n",
      "{'changepoint_prior_scale': 0.08, 'changepoint_range': 0.2, 'holidays_prior_scale': 10, 'n_changepoints': 75, 'seasonality_mode': 'multiplicative', 'seasonality_prior_scale': 0.01}\n"
     ]
    },
    {
     "name": "stderr",
     "output_type": "stream",
     "text": [
      "C:\\Users\\alex\\AppData\\Local\\Temp\\ipykernel_11468\\1416017460.py:35: FutureWarning: The frame.append method is deprecated and will be removed from pandas in a future version. Use pandas.concat instead.\n",
      "  model_parameters = model_parameters.append({'RMSE':RMSE,'MAE':MAE,'MAPE':MAPE,'Parameters':p},ignore_index=True)\n",
      "08:01:28 - cmdstanpy - INFO - Chain [1] start processing\n",
      "08:01:38 - cmdstanpy - INFO - Chain [1] done processing\n"
     ]
    },
    {
     "name": "stdout",
     "output_type": "stream",
     "text": [
      "Root Mean Square Error(RMSE)------------------------------------ 13.989183151838901\n",
      "total:  72.0\n",
      "{'changepoint_prior_scale': 0.08, 'changepoint_range': 0.2, 'holidays_prior_scale': 10, 'n_changepoints': 75, 'seasonality_mode': 'multiplicative', 'seasonality_prior_scale': 1}\n"
     ]
    },
    {
     "name": "stderr",
     "output_type": "stream",
     "text": [
      "C:\\Users\\alex\\AppData\\Local\\Temp\\ipykernel_11468\\1416017460.py:35: FutureWarning: The frame.append method is deprecated and will be removed from pandas in a future version. Use pandas.concat instead.\n",
      "  model_parameters = model_parameters.append({'RMSE':RMSE,'MAE':MAE,'MAPE':MAPE,'Parameters':p},ignore_index=True)\n",
      "08:01:39 - cmdstanpy - INFO - Chain [1] start processing\n",
      "08:01:48 - cmdstanpy - INFO - Chain [1] done processing\n"
     ]
    },
    {
     "name": "stdout",
     "output_type": "stream",
     "text": [
      "Root Mean Square Error(RMSE)------------------------------------ 13.989183151838901\n",
      "total:  73.0\n",
      "{'changepoint_prior_scale': 0.08, 'changepoint_range': 0.2, 'holidays_prior_scale': 10, 'n_changepoints': 75, 'seasonality_mode': 'multiplicative', 'seasonality_prior_scale': 5}\n"
     ]
    },
    {
     "name": "stderr",
     "output_type": "stream",
     "text": [
      "C:\\Users\\alex\\AppData\\Local\\Temp\\ipykernel_11468\\1416017460.py:35: FutureWarning: The frame.append method is deprecated and will be removed from pandas in a future version. Use pandas.concat instead.\n",
      "  model_parameters = model_parameters.append({'RMSE':RMSE,'MAE':MAE,'MAPE':MAPE,'Parameters':p},ignore_index=True)\n",
      "08:01:50 - cmdstanpy - INFO - Chain [1] start processing\n",
      "08:01:57 - cmdstanpy - INFO - Chain [1] done processing\n"
     ]
    },
    {
     "name": "stdout",
     "output_type": "stream",
     "text": [
      "Root Mean Square Error(RMSE)------------------------------------ 13.989183151838901\n",
      "total:  74.0\n",
      "{'changepoint_prior_scale': 0.08, 'changepoint_range': 0.2, 'holidays_prior_scale': 10, 'n_changepoints': 75, 'seasonality_mode': 'multiplicative', 'seasonality_prior_scale': 10}\n"
     ]
    },
    {
     "name": "stderr",
     "output_type": "stream",
     "text": [
      "C:\\Users\\alex\\AppData\\Local\\Temp\\ipykernel_11468\\1416017460.py:35: FutureWarning: The frame.append method is deprecated and will be removed from pandas in a future version. Use pandas.concat instead.\n",
      "  model_parameters = model_parameters.append({'RMSE':RMSE,'MAE':MAE,'MAPE':MAPE,'Parameters':p},ignore_index=True)\n",
      "08:01:59 - cmdstanpy - INFO - Chain [1] start processing\n",
      "08:02:08 - cmdstanpy - INFO - Chain [1] done processing\n"
     ]
    },
    {
     "name": "stdout",
     "output_type": "stream",
     "text": [
      "Root Mean Square Error(RMSE)------------------------------------ 13.989183151838901\n",
      "total:  74.0\n",
      "{'changepoint_prior_scale': 0.08, 'changepoint_range': 0.2, 'holidays_prior_scale': 10, 'n_changepoints': 75, 'seasonality_mode': 'multiplicative', 'seasonality_prior_scale': 12}\n"
     ]
    },
    {
     "name": "stderr",
     "output_type": "stream",
     "text": [
      "C:\\Users\\alex\\AppData\\Local\\Temp\\ipykernel_11468\\1416017460.py:35: FutureWarning: The frame.append method is deprecated and will be removed from pandas in a future version. Use pandas.concat instead.\n",
      "  model_parameters = model_parameters.append({'RMSE':RMSE,'MAE':MAE,'MAPE':MAPE,'Parameters':p},ignore_index=True)\n",
      "08:02:09 - cmdstanpy - INFO - Chain [1] start processing\n",
      "08:02:20 - cmdstanpy - INFO - Chain [1] done processing\n"
     ]
    },
    {
     "name": "stdout",
     "output_type": "stream",
     "text": [
      "Root Mean Square Error(RMSE)------------------------------------ 13.989183151838901\n",
      "total:  75.0\n",
      "{'changepoint_prior_scale': 0.5, 'changepoint_range': 0.2, 'holidays_prior_scale': 5, 'n_changepoints': 50, 'seasonality_mode': 'additive', 'seasonality_prior_scale': 0.01}\n"
     ]
    },
    {
     "name": "stderr",
     "output_type": "stream",
     "text": [
      "C:\\Users\\alex\\AppData\\Local\\Temp\\ipykernel_11468\\1416017460.py:35: FutureWarning: The frame.append method is deprecated and will be removed from pandas in a future version. Use pandas.concat instead.\n",
      "  model_parameters = model_parameters.append({'RMSE':RMSE,'MAE':MAE,'MAPE':MAPE,'Parameters':p},ignore_index=True)\n",
      "08:02:21 - cmdstanpy - INFO - Chain [1] start processing\n",
      "08:02:23 - cmdstanpy - INFO - Chain [1] done processing\n"
     ]
    },
    {
     "name": "stdout",
     "output_type": "stream",
     "text": [
      "Root Mean Square Error(RMSE)------------------------------------ 13.952180952751181\n",
      "total:  76.0\n",
      "{'changepoint_prior_scale': 0.5, 'changepoint_range': 0.2, 'holidays_prior_scale': 5, 'n_changepoints': 50, 'seasonality_mode': 'additive', 'seasonality_prior_scale': 1}\n"
     ]
    },
    {
     "name": "stderr",
     "output_type": "stream",
     "text": [
      "C:\\Users\\alex\\AppData\\Local\\Temp\\ipykernel_11468\\1416017460.py:35: FutureWarning: The frame.append method is deprecated and will be removed from pandas in a future version. Use pandas.concat instead.\n",
      "  model_parameters = model_parameters.append({'RMSE':RMSE,'MAE':MAE,'MAPE':MAPE,'Parameters':p},ignore_index=True)\n",
      "08:02:23 - cmdstanpy - INFO - Chain [1] start processing\n",
      "08:02:27 - cmdstanpy - INFO - Chain [1] done processing\n"
     ]
    },
    {
     "name": "stdout",
     "output_type": "stream",
     "text": [
      "Root Mean Square Error(RMSE)------------------------------------ 13.952180952751181\n",
      "total:  76.0\n",
      "{'changepoint_prior_scale': 0.5, 'changepoint_range': 0.2, 'holidays_prior_scale': 5, 'n_changepoints': 50, 'seasonality_mode': 'additive', 'seasonality_prior_scale': 5}\n"
     ]
    },
    {
     "name": "stderr",
     "output_type": "stream",
     "text": [
      "C:\\Users\\alex\\AppData\\Local\\Temp\\ipykernel_11468\\1416017460.py:35: FutureWarning: The frame.append method is deprecated and will be removed from pandas in a future version. Use pandas.concat instead.\n",
      "  model_parameters = model_parameters.append({'RMSE':RMSE,'MAE':MAE,'MAPE':MAPE,'Parameters':p},ignore_index=True)\n",
      "08:02:29 - cmdstanpy - INFO - Chain [1] start processing\n",
      "08:02:32 - cmdstanpy - INFO - Chain [1] done processing\n"
     ]
    },
    {
     "name": "stdout",
     "output_type": "stream",
     "text": [
      "Root Mean Square Error(RMSE)------------------------------------ 13.952180952751181\n",
      "total:  77.0\n",
      "{'changepoint_prior_scale': 0.5, 'changepoint_range': 0.2, 'holidays_prior_scale': 5, 'n_changepoints': 50, 'seasonality_mode': 'additive', 'seasonality_prior_scale': 10}\n"
     ]
    },
    {
     "name": "stderr",
     "output_type": "stream",
     "text": [
      "C:\\Users\\alex\\AppData\\Local\\Temp\\ipykernel_11468\\1416017460.py:35: FutureWarning: The frame.append method is deprecated and will be removed from pandas in a future version. Use pandas.concat instead.\n",
      "  model_parameters = model_parameters.append({'RMSE':RMSE,'MAE':MAE,'MAPE':MAPE,'Parameters':p},ignore_index=True)\n",
      "08:02:33 - cmdstanpy - INFO - Chain [1] start processing\n",
      "08:02:34 - cmdstanpy - INFO - Chain [1] done processing\n"
     ]
    },
    {
     "name": "stdout",
     "output_type": "stream",
     "text": [
      "Root Mean Square Error(RMSE)------------------------------------ 13.952180952751181\n",
      "total:  78.0\n",
      "{'changepoint_prior_scale': 0.5, 'changepoint_range': 0.2, 'holidays_prior_scale': 5, 'n_changepoints': 50, 'seasonality_mode': 'additive', 'seasonality_prior_scale': 12}\n"
     ]
    },
    {
     "name": "stderr",
     "output_type": "stream",
     "text": [
      "C:\\Users\\alex\\AppData\\Local\\Temp\\ipykernel_11468\\1416017460.py:35: FutureWarning: The frame.append method is deprecated and will be removed from pandas in a future version. Use pandas.concat instead.\n",
      "  model_parameters = model_parameters.append({'RMSE':RMSE,'MAE':MAE,'MAPE':MAPE,'Parameters':p},ignore_index=True)\n",
      "08:02:35 - cmdstanpy - INFO - Chain [1] start processing\n",
      "08:02:38 - cmdstanpy - INFO - Chain [1] done processing\n"
     ]
    },
    {
     "name": "stdout",
     "output_type": "stream",
     "text": [
      "Root Mean Square Error(RMSE)------------------------------------ 13.952180952751181\n",
      "total:  78.0\n",
      "{'changepoint_prior_scale': 0.5, 'changepoint_range': 0.2, 'holidays_prior_scale': 5, 'n_changepoints': 50, 'seasonality_mode': 'multiplicative', 'seasonality_prior_scale': 0.01}\n"
     ]
    },
    {
     "name": "stderr",
     "output_type": "stream",
     "text": [
      "C:\\Users\\alex\\AppData\\Local\\Temp\\ipykernel_11468\\1416017460.py:35: FutureWarning: The frame.append method is deprecated and will be removed from pandas in a future version. Use pandas.concat instead.\n",
      "  model_parameters = model_parameters.append({'RMSE':RMSE,'MAE':MAE,'MAPE':MAPE,'Parameters':p},ignore_index=True)\n",
      "08:02:40 - cmdstanpy - INFO - Chain [1] start processing\n",
      "08:02:46 - cmdstanpy - INFO - Chain [1] done processing\n"
     ]
    },
    {
     "name": "stdout",
     "output_type": "stream",
     "text": [
      "Root Mean Square Error(RMSE)------------------------------------ 13.973923875245884\n",
      "total:  79.0\n",
      "{'changepoint_prior_scale': 0.5, 'changepoint_range': 0.2, 'holidays_prior_scale': 5, 'n_changepoints': 50, 'seasonality_mode': 'multiplicative', 'seasonality_prior_scale': 1}\n"
     ]
    },
    {
     "name": "stderr",
     "output_type": "stream",
     "text": [
      "C:\\Users\\alex\\AppData\\Local\\Temp\\ipykernel_11468\\1416017460.py:35: FutureWarning: The frame.append method is deprecated and will be removed from pandas in a future version. Use pandas.concat instead.\n",
      "  model_parameters = model_parameters.append({'RMSE':RMSE,'MAE':MAE,'MAPE':MAPE,'Parameters':p},ignore_index=True)\n",
      "08:02:47 - cmdstanpy - INFO - Chain [1] start processing\n",
      "08:02:50 - cmdstanpy - INFO - Chain [1] done processing\n"
     ]
    },
    {
     "name": "stdout",
     "output_type": "stream",
     "text": [
      "Root Mean Square Error(RMSE)------------------------------------ 13.973923875245884\n",
      "total:  79.0\n",
      "{'changepoint_prior_scale': 0.5, 'changepoint_range': 0.2, 'holidays_prior_scale': 5, 'n_changepoints': 50, 'seasonality_mode': 'multiplicative', 'seasonality_prior_scale': 5}\n"
     ]
    },
    {
     "name": "stderr",
     "output_type": "stream",
     "text": [
      "C:\\Users\\alex\\AppData\\Local\\Temp\\ipykernel_11468\\1416017460.py:35: FutureWarning: The frame.append method is deprecated and will be removed from pandas in a future version. Use pandas.concat instead.\n",
      "  model_parameters = model_parameters.append({'RMSE':RMSE,'MAE':MAE,'MAPE':MAPE,'Parameters':p},ignore_index=True)\n",
      "08:02:51 - cmdstanpy - INFO - Chain [1] start processing\n",
      "08:02:56 - cmdstanpy - INFO - Chain [1] done processing\n"
     ]
    },
    {
     "name": "stdout",
     "output_type": "stream",
     "text": [
      "Root Mean Square Error(RMSE)------------------------------------ 13.973923875245884\n",
      "total:  80.0\n",
      "{'changepoint_prior_scale': 0.5, 'changepoint_range': 0.2, 'holidays_prior_scale': 5, 'n_changepoints': 50, 'seasonality_mode': 'multiplicative', 'seasonality_prior_scale': 10}\n"
     ]
    },
    {
     "name": "stderr",
     "output_type": "stream",
     "text": [
      "C:\\Users\\alex\\AppData\\Local\\Temp\\ipykernel_11468\\1416017460.py:35: FutureWarning: The frame.append method is deprecated and will be removed from pandas in a future version. Use pandas.concat instead.\n",
      "  model_parameters = model_parameters.append({'RMSE':RMSE,'MAE':MAE,'MAPE':MAPE,'Parameters':p},ignore_index=True)\n",
      "08:02:57 - cmdstanpy - INFO - Chain [1] start processing\n",
      "08:02:59 - cmdstanpy - INFO - Chain [1] done processing\n"
     ]
    },
    {
     "name": "stdout",
     "output_type": "stream",
     "text": [
      "Root Mean Square Error(RMSE)------------------------------------ 13.973923875245884\n",
      "total:  81.0\n",
      "{'changepoint_prior_scale': 0.5, 'changepoint_range': 0.2, 'holidays_prior_scale': 5, 'n_changepoints': 50, 'seasonality_mode': 'multiplicative', 'seasonality_prior_scale': 12}\n"
     ]
    },
    {
     "name": "stderr",
     "output_type": "stream",
     "text": [
      "C:\\Users\\alex\\AppData\\Local\\Temp\\ipykernel_11468\\1416017460.py:35: FutureWarning: The frame.append method is deprecated and will be removed from pandas in a future version. Use pandas.concat instead.\n",
      "  model_parameters = model_parameters.append({'RMSE':RMSE,'MAE':MAE,'MAPE':MAPE,'Parameters':p},ignore_index=True)\n",
      "08:03:00 - cmdstanpy - INFO - Chain [1] start processing\n",
      "08:03:03 - cmdstanpy - INFO - Chain [1] done processing\n"
     ]
    },
    {
     "name": "stdout",
     "output_type": "stream",
     "text": [
      "Root Mean Square Error(RMSE)------------------------------------ 13.973923875245884\n",
      "total:  81.0\n",
      "{'changepoint_prior_scale': 0.5, 'changepoint_range': 0.2, 'holidays_prior_scale': 5, 'n_changepoints': 75, 'seasonality_mode': 'additive', 'seasonality_prior_scale': 0.01}\n"
     ]
    },
    {
     "name": "stderr",
     "output_type": "stream",
     "text": [
      "C:\\Users\\alex\\AppData\\Local\\Temp\\ipykernel_11468\\1416017460.py:35: FutureWarning: The frame.append method is deprecated and will be removed from pandas in a future version. Use pandas.concat instead.\n",
      "  model_parameters = model_parameters.append({'RMSE':RMSE,'MAE':MAE,'MAPE':MAPE,'Parameters':p},ignore_index=True)\n",
      "08:03:04 - cmdstanpy - INFO - Chain [1] start processing\n",
      "08:03:07 - cmdstanpy - INFO - Chain [1] done processing\n"
     ]
    },
    {
     "name": "stdout",
     "output_type": "stream",
     "text": [
      "Root Mean Square Error(RMSE)------------------------------------ 13.951903910294396\n",
      "total:  82.0\n",
      "{'changepoint_prior_scale': 0.5, 'changepoint_range': 0.2, 'holidays_prior_scale': 5, 'n_changepoints': 75, 'seasonality_mode': 'additive', 'seasonality_prior_scale': 1}\n"
     ]
    },
    {
     "name": "stderr",
     "output_type": "stream",
     "text": [
      "C:\\Users\\alex\\AppData\\Local\\Temp\\ipykernel_11468\\1416017460.py:35: FutureWarning: The frame.append method is deprecated and will be removed from pandas in a future version. Use pandas.concat instead.\n",
      "  model_parameters = model_parameters.append({'RMSE':RMSE,'MAE':MAE,'MAPE':MAPE,'Parameters':p},ignore_index=True)\n",
      "08:03:08 - cmdstanpy - INFO - Chain [1] start processing\n",
      "08:03:11 - cmdstanpy - INFO - Chain [1] done processing\n"
     ]
    },
    {
     "name": "stdout",
     "output_type": "stream",
     "text": [
      "Root Mean Square Error(RMSE)------------------------------------ 13.951903910294396\n",
      "total:  82.0\n",
      "{'changepoint_prior_scale': 0.5, 'changepoint_range': 0.2, 'holidays_prior_scale': 5, 'n_changepoints': 75, 'seasonality_mode': 'additive', 'seasonality_prior_scale': 5}\n"
     ]
    },
    {
     "name": "stderr",
     "output_type": "stream",
     "text": [
      "C:\\Users\\alex\\AppData\\Local\\Temp\\ipykernel_11468\\1416017460.py:35: FutureWarning: The frame.append method is deprecated and will be removed from pandas in a future version. Use pandas.concat instead.\n",
      "  model_parameters = model_parameters.append({'RMSE':RMSE,'MAE':MAE,'MAPE':MAPE,'Parameters':p},ignore_index=True)\n",
      "08:03:12 - cmdstanpy - INFO - Chain [1] start processing\n",
      "08:03:18 - cmdstanpy - INFO - Chain [1] done processing\n"
     ]
    },
    {
     "name": "stdout",
     "output_type": "stream",
     "text": [
      "Root Mean Square Error(RMSE)------------------------------------ 13.951903910294396\n",
      "total:  83.0\n",
      "{'changepoint_prior_scale': 0.5, 'changepoint_range': 0.2, 'holidays_prior_scale': 5, 'n_changepoints': 75, 'seasonality_mode': 'additive', 'seasonality_prior_scale': 10}\n"
     ]
    },
    {
     "name": "stderr",
     "output_type": "stream",
     "text": [
      "C:\\Users\\alex\\AppData\\Local\\Temp\\ipykernel_11468\\1416017460.py:35: FutureWarning: The frame.append method is deprecated and will be removed from pandas in a future version. Use pandas.concat instead.\n",
      "  model_parameters = model_parameters.append({'RMSE':RMSE,'MAE':MAE,'MAPE':MAPE,'Parameters':p},ignore_index=True)\n",
      "08:03:20 - cmdstanpy - INFO - Chain [1] start processing\n",
      "08:03:24 - cmdstanpy - INFO - Chain [1] done processing\n"
     ]
    },
    {
     "name": "stdout",
     "output_type": "stream",
     "text": [
      "Root Mean Square Error(RMSE)------------------------------------ 13.951903910294396\n",
      "total:  84.0\n",
      "{'changepoint_prior_scale': 0.5, 'changepoint_range': 0.2, 'holidays_prior_scale': 5, 'n_changepoints': 75, 'seasonality_mode': 'additive', 'seasonality_prior_scale': 12}\n"
     ]
    },
    {
     "name": "stderr",
     "output_type": "stream",
     "text": [
      "C:\\Users\\alex\\AppData\\Local\\Temp\\ipykernel_11468\\1416017460.py:35: FutureWarning: The frame.append method is deprecated and will be removed from pandas in a future version. Use pandas.concat instead.\n",
      "  model_parameters = model_parameters.append({'RMSE':RMSE,'MAE':MAE,'MAPE':MAPE,'Parameters':p},ignore_index=True)\n",
      "08:03:25 - cmdstanpy - INFO - Chain [1] start processing\n",
      "08:03:28 - cmdstanpy - INFO - Chain [1] done processing\n"
     ]
    },
    {
     "name": "stdout",
     "output_type": "stream",
     "text": [
      "Root Mean Square Error(RMSE)------------------------------------ 13.951903910294396\n",
      "total:  84.0\n",
      "{'changepoint_prior_scale': 0.5, 'changepoint_range': 0.2, 'holidays_prior_scale': 5, 'n_changepoints': 75, 'seasonality_mode': 'multiplicative', 'seasonality_prior_scale': 0.01}\n"
     ]
    },
    {
     "name": "stderr",
     "output_type": "stream",
     "text": [
      "C:\\Users\\alex\\AppData\\Local\\Temp\\ipykernel_11468\\1416017460.py:35: FutureWarning: The frame.append method is deprecated and will be removed from pandas in a future version. Use pandas.concat instead.\n",
      "  model_parameters = model_parameters.append({'RMSE':RMSE,'MAE':MAE,'MAPE':MAPE,'Parameters':p},ignore_index=True)\n",
      "08:03:29 - cmdstanpy - INFO - Chain [1] start processing\n",
      "08:03:32 - cmdstanpy - INFO - Chain [1] done processing\n"
     ]
    },
    {
     "name": "stdout",
     "output_type": "stream",
     "text": [
      "Root Mean Square Error(RMSE)------------------------------------ 13.96143137179759\n",
      "total:  85.0\n",
      "{'changepoint_prior_scale': 0.5, 'changepoint_range': 0.2, 'holidays_prior_scale': 5, 'n_changepoints': 75, 'seasonality_mode': 'multiplicative', 'seasonality_prior_scale': 1}\n"
     ]
    },
    {
     "name": "stderr",
     "output_type": "stream",
     "text": [
      "C:\\Users\\alex\\AppData\\Local\\Temp\\ipykernel_11468\\1416017460.py:35: FutureWarning: The frame.append method is deprecated and will be removed from pandas in a future version. Use pandas.concat instead.\n",
      "  model_parameters = model_parameters.append({'RMSE':RMSE,'MAE':MAE,'MAPE':MAPE,'Parameters':p},ignore_index=True)\n",
      "08:03:33 - cmdstanpy - INFO - Chain [1] start processing\n",
      "08:03:38 - cmdstanpy - INFO - Chain [1] done processing\n"
     ]
    },
    {
     "name": "stdout",
     "output_type": "stream",
     "text": [
      "Root Mean Square Error(RMSE)------------------------------------ 13.96143137179759\n",
      "total:  86.0\n",
      "{'changepoint_prior_scale': 0.5, 'changepoint_range': 0.2, 'holidays_prior_scale': 5, 'n_changepoints': 75, 'seasonality_mode': 'multiplicative', 'seasonality_prior_scale': 5}\n"
     ]
    },
    {
     "name": "stderr",
     "output_type": "stream",
     "text": [
      "C:\\Users\\alex\\AppData\\Local\\Temp\\ipykernel_11468\\1416017460.py:35: FutureWarning: The frame.append method is deprecated and will be removed from pandas in a future version. Use pandas.concat instead.\n",
      "  model_parameters = model_parameters.append({'RMSE':RMSE,'MAE':MAE,'MAPE':MAPE,'Parameters':p},ignore_index=True)\n",
      "08:03:39 - cmdstanpy - INFO - Chain [1] start processing\n",
      "08:03:42 - cmdstanpy - INFO - Chain [1] done processing\n"
     ]
    },
    {
     "name": "stdout",
     "output_type": "stream",
     "text": [
      "Root Mean Square Error(RMSE)------------------------------------ 13.96143137179759\n",
      "total:  86.0\n",
      "{'changepoint_prior_scale': 0.5, 'changepoint_range': 0.2, 'holidays_prior_scale': 5, 'n_changepoints': 75, 'seasonality_mode': 'multiplicative', 'seasonality_prior_scale': 10}\n"
     ]
    },
    {
     "name": "stderr",
     "output_type": "stream",
     "text": [
      "C:\\Users\\alex\\AppData\\Local\\Temp\\ipykernel_11468\\1416017460.py:35: FutureWarning: The frame.append method is deprecated and will be removed from pandas in a future version. Use pandas.concat instead.\n",
      "  model_parameters = model_parameters.append({'RMSE':RMSE,'MAE':MAE,'MAPE':MAPE,'Parameters':p},ignore_index=True)\n",
      "08:03:43 - cmdstanpy - INFO - Chain [1] start processing\n",
      "08:03:46 - cmdstanpy - INFO - Chain [1] done processing\n"
     ]
    },
    {
     "name": "stdout",
     "output_type": "stream",
     "text": [
      "Root Mean Square Error(RMSE)------------------------------------ 13.96143137179759\n",
      "total:  87.0\n",
      "{'changepoint_prior_scale': 0.5, 'changepoint_range': 0.2, 'holidays_prior_scale': 5, 'n_changepoints': 75, 'seasonality_mode': 'multiplicative', 'seasonality_prior_scale': 12}\n"
     ]
    },
    {
     "name": "stderr",
     "output_type": "stream",
     "text": [
      "C:\\Users\\alex\\AppData\\Local\\Temp\\ipykernel_11468\\1416017460.py:35: FutureWarning: The frame.append method is deprecated and will be removed from pandas in a future version. Use pandas.concat instead.\n",
      "  model_parameters = model_parameters.append({'RMSE':RMSE,'MAE':MAE,'MAPE':MAPE,'Parameters':p},ignore_index=True)\n",
      "08:03:46 - cmdstanpy - INFO - Chain [1] start processing\n",
      "08:03:52 - cmdstanpy - INFO - Chain [1] done processing\n"
     ]
    },
    {
     "name": "stdout",
     "output_type": "stream",
     "text": [
      "Root Mean Square Error(RMSE)------------------------------------ 13.96143137179759\n",
      "total:  88.0\n",
      "{'changepoint_prior_scale': 0.5, 'changepoint_range': 0.2, 'holidays_prior_scale': 10, 'n_changepoints': 50, 'seasonality_mode': 'additive', 'seasonality_prior_scale': 0.01}\n"
     ]
    },
    {
     "name": "stderr",
     "output_type": "stream",
     "text": [
      "C:\\Users\\alex\\AppData\\Local\\Temp\\ipykernel_11468\\1416017460.py:35: FutureWarning: The frame.append method is deprecated and will be removed from pandas in a future version. Use pandas.concat instead.\n",
      "  model_parameters = model_parameters.append({'RMSE':RMSE,'MAE':MAE,'MAPE':MAPE,'Parameters':p},ignore_index=True)\n",
      "08:03:53 - cmdstanpy - INFO - Chain [1] start processing\n",
      "08:03:54 - cmdstanpy - INFO - Chain [1] done processing\n"
     ]
    },
    {
     "name": "stdout",
     "output_type": "stream",
     "text": [
      "Root Mean Square Error(RMSE)------------------------------------ 13.952180952751181\n",
      "total:  88.0\n",
      "{'changepoint_prior_scale': 0.5, 'changepoint_range': 0.2, 'holidays_prior_scale': 10, 'n_changepoints': 50, 'seasonality_mode': 'additive', 'seasonality_prior_scale': 1}\n"
     ]
    },
    {
     "name": "stderr",
     "output_type": "stream",
     "text": [
      "C:\\Users\\alex\\AppData\\Local\\Temp\\ipykernel_11468\\1416017460.py:35: FutureWarning: The frame.append method is deprecated and will be removed from pandas in a future version. Use pandas.concat instead.\n",
      "  model_parameters = model_parameters.append({'RMSE':RMSE,'MAE':MAE,'MAPE':MAPE,'Parameters':p},ignore_index=True)\n",
      "08:03:55 - cmdstanpy - INFO - Chain [1] start processing\n",
      "08:03:58 - cmdstanpy - INFO - Chain [1] done processing\n"
     ]
    },
    {
     "name": "stdout",
     "output_type": "stream",
     "text": [
      "Root Mean Square Error(RMSE)------------------------------------ 13.952180952751181\n",
      "total:  89.0\n",
      "{'changepoint_prior_scale': 0.5, 'changepoint_range': 0.2, 'holidays_prior_scale': 10, 'n_changepoints': 50, 'seasonality_mode': 'additive', 'seasonality_prior_scale': 5}\n"
     ]
    },
    {
     "name": "stderr",
     "output_type": "stream",
     "text": [
      "C:\\Users\\alex\\AppData\\Local\\Temp\\ipykernel_11468\\1416017460.py:35: FutureWarning: The frame.append method is deprecated and will be removed from pandas in a future version. Use pandas.concat instead.\n",
      "  model_parameters = model_parameters.append({'RMSE':RMSE,'MAE':MAE,'MAPE':MAPE,'Parameters':p},ignore_index=True)\n",
      "08:04:00 - cmdstanpy - INFO - Chain [1] start processing\n",
      "08:04:02 - cmdstanpy - INFO - Chain [1] done processing\n"
     ]
    },
    {
     "name": "stdout",
     "output_type": "stream",
     "text": [
      "Root Mean Square Error(RMSE)------------------------------------ 13.952180952751181\n",
      "total:  89.0\n",
      "{'changepoint_prior_scale': 0.5, 'changepoint_range': 0.2, 'holidays_prior_scale': 10, 'n_changepoints': 50, 'seasonality_mode': 'additive', 'seasonality_prior_scale': 10}\n"
     ]
    },
    {
     "name": "stderr",
     "output_type": "stream",
     "text": [
      "C:\\Users\\alex\\AppData\\Local\\Temp\\ipykernel_11468\\1416017460.py:35: FutureWarning: The frame.append method is deprecated and will be removed from pandas in a future version. Use pandas.concat instead.\n",
      "  model_parameters = model_parameters.append({'RMSE':RMSE,'MAE':MAE,'MAPE':MAPE,'Parameters':p},ignore_index=True)\n",
      "08:04:03 - cmdstanpy - INFO - Chain [1] start processing\n",
      "08:04:05 - cmdstanpy - INFO - Chain [1] done processing\n"
     ]
    },
    {
     "name": "stdout",
     "output_type": "stream",
     "text": [
      "Root Mean Square Error(RMSE)------------------------------------ 13.952180952751181\n",
      "total:  90.0\n",
      "{'changepoint_prior_scale': 0.5, 'changepoint_range': 0.2, 'holidays_prior_scale': 10, 'n_changepoints': 50, 'seasonality_mode': 'additive', 'seasonality_prior_scale': 12}\n"
     ]
    },
    {
     "name": "stderr",
     "output_type": "stream",
     "text": [
      "C:\\Users\\alex\\AppData\\Local\\Temp\\ipykernel_11468\\1416017460.py:35: FutureWarning: The frame.append method is deprecated and will be removed from pandas in a future version. Use pandas.concat instead.\n",
      "  model_parameters = model_parameters.append({'RMSE':RMSE,'MAE':MAE,'MAPE':MAPE,'Parameters':p},ignore_index=True)\n",
      "08:04:06 - cmdstanpy - INFO - Chain [1] start processing\n",
      "08:04:07 - cmdstanpy - INFO - Chain [1] done processing\n"
     ]
    },
    {
     "name": "stdout",
     "output_type": "stream",
     "text": [
      "Root Mean Square Error(RMSE)------------------------------------ 13.952180952751181\n",
      "total:  91.0\n",
      "{'changepoint_prior_scale': 0.5, 'changepoint_range': 0.2, 'holidays_prior_scale': 10, 'n_changepoints': 50, 'seasonality_mode': 'multiplicative', 'seasonality_prior_scale': 0.01}\n"
     ]
    },
    {
     "name": "stderr",
     "output_type": "stream",
     "text": [
      "C:\\Users\\alex\\AppData\\Local\\Temp\\ipykernel_11468\\1416017460.py:35: FutureWarning: The frame.append method is deprecated and will be removed from pandas in a future version. Use pandas.concat instead.\n",
      "  model_parameters = model_parameters.append({'RMSE':RMSE,'MAE':MAE,'MAPE':MAPE,'Parameters':p},ignore_index=True)\n",
      "08:04:08 - cmdstanpy - INFO - Chain [1] start processing\n",
      "08:04:10 - cmdstanpy - INFO - Chain [1] done processing\n"
     ]
    },
    {
     "name": "stdout",
     "output_type": "stream",
     "text": [
      "Root Mean Square Error(RMSE)------------------------------------ 13.973923875245884\n",
      "total:  91.0\n",
      "{'changepoint_prior_scale': 0.5, 'changepoint_range': 0.2, 'holidays_prior_scale': 10, 'n_changepoints': 50, 'seasonality_mode': 'multiplicative', 'seasonality_prior_scale': 1}\n"
     ]
    },
    {
     "name": "stderr",
     "output_type": "stream",
     "text": [
      "C:\\Users\\alex\\AppData\\Local\\Temp\\ipykernel_11468\\1416017460.py:35: FutureWarning: The frame.append method is deprecated and will be removed from pandas in a future version. Use pandas.concat instead.\n",
      "  model_parameters = model_parameters.append({'RMSE':RMSE,'MAE':MAE,'MAPE':MAPE,'Parameters':p},ignore_index=True)\n",
      "08:04:11 - cmdstanpy - INFO - Chain [1] start processing\n",
      "08:04:14 - cmdstanpy - INFO - Chain [1] done processing\n"
     ]
    },
    {
     "name": "stdout",
     "output_type": "stream",
     "text": [
      "Root Mean Square Error(RMSE)------------------------------------ 13.973923875245884\n",
      "total:  92.0\n",
      "{'changepoint_prior_scale': 0.5, 'changepoint_range': 0.2, 'holidays_prior_scale': 10, 'n_changepoints': 50, 'seasonality_mode': 'multiplicative', 'seasonality_prior_scale': 5}\n"
     ]
    },
    {
     "name": "stderr",
     "output_type": "stream",
     "text": [
      "C:\\Users\\alex\\AppData\\Local\\Temp\\ipykernel_11468\\1416017460.py:35: FutureWarning: The frame.append method is deprecated and will be removed from pandas in a future version. Use pandas.concat instead.\n",
      "  model_parameters = model_parameters.append({'RMSE':RMSE,'MAE':MAE,'MAPE':MAPE,'Parameters':p},ignore_index=True)\n",
      "08:04:14 - cmdstanpy - INFO - Chain [1] start processing\n",
      "08:04:19 - cmdstanpy - INFO - Chain [1] done processing\n"
     ]
    },
    {
     "name": "stdout",
     "output_type": "stream",
     "text": [
      "Root Mean Square Error(RMSE)------------------------------------ 13.973923875245884\n",
      "total:  93.0\n",
      "{'changepoint_prior_scale': 0.5, 'changepoint_range': 0.2, 'holidays_prior_scale': 10, 'n_changepoints': 50, 'seasonality_mode': 'multiplicative', 'seasonality_prior_scale': 10}\n"
     ]
    },
    {
     "name": "stderr",
     "output_type": "stream",
     "text": [
      "C:\\Users\\alex\\AppData\\Local\\Temp\\ipykernel_11468\\1416017460.py:35: FutureWarning: The frame.append method is deprecated and will be removed from pandas in a future version. Use pandas.concat instead.\n",
      "  model_parameters = model_parameters.append({'RMSE':RMSE,'MAE':MAE,'MAPE':MAPE,'Parameters':p},ignore_index=True)\n",
      "08:04:21 - cmdstanpy - INFO - Chain [1] start processing\n",
      "08:04:23 - cmdstanpy - INFO - Chain [1] done processing\n"
     ]
    },
    {
     "name": "stdout",
     "output_type": "stream",
     "text": [
      "Root Mean Square Error(RMSE)------------------------------------ 13.973923875245884\n",
      "total:  93.0\n",
      "{'changepoint_prior_scale': 0.5, 'changepoint_range': 0.2, 'holidays_prior_scale': 10, 'n_changepoints': 50, 'seasonality_mode': 'multiplicative', 'seasonality_prior_scale': 12}\n"
     ]
    },
    {
     "name": "stderr",
     "output_type": "stream",
     "text": [
      "C:\\Users\\alex\\AppData\\Local\\Temp\\ipykernel_11468\\1416017460.py:35: FutureWarning: The frame.append method is deprecated and will be removed from pandas in a future version. Use pandas.concat instead.\n",
      "  model_parameters = model_parameters.append({'RMSE':RMSE,'MAE':MAE,'MAPE':MAPE,'Parameters':p},ignore_index=True)\n",
      "08:04:24 - cmdstanpy - INFO - Chain [1] start processing\n",
      "08:04:27 - cmdstanpy - INFO - Chain [1] done processing\n"
     ]
    },
    {
     "name": "stdout",
     "output_type": "stream",
     "text": [
      "Root Mean Square Error(RMSE)------------------------------------ 13.973923875245884\n",
      "total:  94.0\n",
      "{'changepoint_prior_scale': 0.5, 'changepoint_range': 0.2, 'holidays_prior_scale': 10, 'n_changepoints': 75, 'seasonality_mode': 'additive', 'seasonality_prior_scale': 0.01}\n"
     ]
    },
    {
     "name": "stderr",
     "output_type": "stream",
     "text": [
      "C:\\Users\\alex\\AppData\\Local\\Temp\\ipykernel_11468\\1416017460.py:35: FutureWarning: The frame.append method is deprecated and will be removed from pandas in a future version. Use pandas.concat instead.\n",
      "  model_parameters = model_parameters.append({'RMSE':RMSE,'MAE':MAE,'MAPE':MAPE,'Parameters':p},ignore_index=True)\n",
      "08:04:28 - cmdstanpy - INFO - Chain [1] start processing\n",
      "08:04:31 - cmdstanpy - INFO - Chain [1] done processing\n"
     ]
    },
    {
     "name": "stdout",
     "output_type": "stream",
     "text": [
      "Root Mean Square Error(RMSE)------------------------------------ 13.951903910294396\n",
      "total:  94.0\n",
      "{'changepoint_prior_scale': 0.5, 'changepoint_range': 0.2, 'holidays_prior_scale': 10, 'n_changepoints': 75, 'seasonality_mode': 'additive', 'seasonality_prior_scale': 1}\n"
     ]
    },
    {
     "name": "stderr",
     "output_type": "stream",
     "text": [
      "C:\\Users\\alex\\AppData\\Local\\Temp\\ipykernel_11468\\1416017460.py:35: FutureWarning: The frame.append method is deprecated and will be removed from pandas in a future version. Use pandas.concat instead.\n",
      "  model_parameters = model_parameters.append({'RMSE':RMSE,'MAE':MAE,'MAPE':MAPE,'Parameters':p},ignore_index=True)\n",
      "08:04:32 - cmdstanpy - INFO - Chain [1] start processing\n",
      "08:04:39 - cmdstanpy - INFO - Chain [1] done processing\n"
     ]
    },
    {
     "name": "stdout",
     "output_type": "stream",
     "text": [
      "Root Mean Square Error(RMSE)------------------------------------ 13.951903910294396\n",
      "total:  95.0\n",
      "{'changepoint_prior_scale': 0.5, 'changepoint_range': 0.2, 'holidays_prior_scale': 10, 'n_changepoints': 75, 'seasonality_mode': 'additive', 'seasonality_prior_scale': 5}\n"
     ]
    },
    {
     "name": "stderr",
     "output_type": "stream",
     "text": [
      "C:\\Users\\alex\\AppData\\Local\\Temp\\ipykernel_11468\\1416017460.py:35: FutureWarning: The frame.append method is deprecated and will be removed from pandas in a future version. Use pandas.concat instead.\n",
      "  model_parameters = model_parameters.append({'RMSE':RMSE,'MAE':MAE,'MAPE':MAPE,'Parameters':p},ignore_index=True)\n",
      "08:04:40 - cmdstanpy - INFO - Chain [1] start processing\n",
      "08:04:43 - cmdstanpy - INFO - Chain [1] done processing\n"
     ]
    },
    {
     "name": "stdout",
     "output_type": "stream",
     "text": [
      "Root Mean Square Error(RMSE)------------------------------------ 13.951903910294396\n",
      "total:  96.0\n",
      "{'changepoint_prior_scale': 0.5, 'changepoint_range': 0.2, 'holidays_prior_scale': 10, 'n_changepoints': 75, 'seasonality_mode': 'additive', 'seasonality_prior_scale': 10}\n"
     ]
    },
    {
     "name": "stderr",
     "output_type": "stream",
     "text": [
      "C:\\Users\\alex\\AppData\\Local\\Temp\\ipykernel_11468\\1416017460.py:35: FutureWarning: The frame.append method is deprecated and will be removed from pandas in a future version. Use pandas.concat instead.\n",
      "  model_parameters = model_parameters.append({'RMSE':RMSE,'MAE':MAE,'MAPE':MAPE,'Parameters':p},ignore_index=True)\n",
      "08:04:44 - cmdstanpy - INFO - Chain [1] start processing\n",
      "08:04:47 - cmdstanpy - INFO - Chain [1] done processing\n"
     ]
    },
    {
     "name": "stdout",
     "output_type": "stream",
     "text": [
      "Root Mean Square Error(RMSE)------------------------------------ 13.951903910294396\n",
      "total:  96.0\n",
      "{'changepoint_prior_scale': 0.5, 'changepoint_range': 0.2, 'holidays_prior_scale': 10, 'n_changepoints': 75, 'seasonality_mode': 'additive', 'seasonality_prior_scale': 12}\n"
     ]
    },
    {
     "name": "stderr",
     "output_type": "stream",
     "text": [
      "C:\\Users\\alex\\AppData\\Local\\Temp\\ipykernel_11468\\1416017460.py:35: FutureWarning: The frame.append method is deprecated and will be removed from pandas in a future version. Use pandas.concat instead.\n",
      "  model_parameters = model_parameters.append({'RMSE':RMSE,'MAE':MAE,'MAPE':MAPE,'Parameters':p},ignore_index=True)\n",
      "08:04:48 - cmdstanpy - INFO - Chain [1] start processing\n",
      "08:04:51 - cmdstanpy - INFO - Chain [1] done processing\n"
     ]
    },
    {
     "name": "stdout",
     "output_type": "stream",
     "text": [
      "Root Mean Square Error(RMSE)------------------------------------ 13.951903910294396\n",
      "total:  97.0\n",
      "{'changepoint_prior_scale': 0.5, 'changepoint_range': 0.2, 'holidays_prior_scale': 10, 'n_changepoints': 75, 'seasonality_mode': 'multiplicative', 'seasonality_prior_scale': 0.01}\n"
     ]
    },
    {
     "name": "stderr",
     "output_type": "stream",
     "text": [
      "C:\\Users\\alex\\AppData\\Local\\Temp\\ipykernel_11468\\1416017460.py:35: FutureWarning: The frame.append method is deprecated and will be removed from pandas in a future version. Use pandas.concat instead.\n",
      "  model_parameters = model_parameters.append({'RMSE':RMSE,'MAE':MAE,'MAPE':MAPE,'Parameters':p},ignore_index=True)\n",
      "08:04:52 - cmdstanpy - INFO - Chain [1] start processing\n",
      "08:04:55 - cmdstanpy - INFO - Chain [1] done processing\n"
     ]
    },
    {
     "name": "stdout",
     "output_type": "stream",
     "text": [
      "Root Mean Square Error(RMSE)------------------------------------ 13.96143137179759\n",
      "total:  97.0\n",
      "{'changepoint_prior_scale': 0.5, 'changepoint_range': 0.2, 'holidays_prior_scale': 10, 'n_changepoints': 75, 'seasonality_mode': 'multiplicative', 'seasonality_prior_scale': 1}\n"
     ]
    },
    {
     "name": "stderr",
     "output_type": "stream",
     "text": [
      "C:\\Users\\alex\\AppData\\Local\\Temp\\ipykernel_11468\\1416017460.py:35: FutureWarning: The frame.append method is deprecated and will be removed from pandas in a future version. Use pandas.concat instead.\n",
      "  model_parameters = model_parameters.append({'RMSE':RMSE,'MAE':MAE,'MAPE':MAPE,'Parameters':p},ignore_index=True)\n",
      "08:04:56 - cmdstanpy - INFO - Chain [1] start processing\n",
      "08:04:58 - cmdstanpy - INFO - Chain [1] done processing\n"
     ]
    },
    {
     "name": "stdout",
     "output_type": "stream",
     "text": [
      "Root Mean Square Error(RMSE)------------------------------------ 13.96143137179759\n",
      "total:  98.0\n",
      "{'changepoint_prior_scale': 0.5, 'changepoint_range': 0.2, 'holidays_prior_scale': 10, 'n_changepoints': 75, 'seasonality_mode': 'multiplicative', 'seasonality_prior_scale': 5}\n"
     ]
    },
    {
     "name": "stderr",
     "output_type": "stream",
     "text": [
      "C:\\Users\\alex\\AppData\\Local\\Temp\\ipykernel_11468\\1416017460.py:35: FutureWarning: The frame.append method is deprecated and will be removed from pandas in a future version. Use pandas.concat instead.\n",
      "  model_parameters = model_parameters.append({'RMSE':RMSE,'MAE':MAE,'MAPE':MAPE,'Parameters':p},ignore_index=True)\n",
      "08:04:59 - cmdstanpy - INFO - Chain [1] start processing\n",
      "08:05:06 - cmdstanpy - INFO - Chain [1] done processing\n"
     ]
    },
    {
     "name": "stdout",
     "output_type": "stream",
     "text": [
      "Root Mean Square Error(RMSE)------------------------------------ 13.96143137179759\n",
      "total:  99.0\n",
      "{'changepoint_prior_scale': 0.5, 'changepoint_range': 0.2, 'holidays_prior_scale': 10, 'n_changepoints': 75, 'seasonality_mode': 'multiplicative', 'seasonality_prior_scale': 10}\n"
     ]
    },
    {
     "name": "stderr",
     "output_type": "stream",
     "text": [
      "C:\\Users\\alex\\AppData\\Local\\Temp\\ipykernel_11468\\1416017460.py:35: FutureWarning: The frame.append method is deprecated and will be removed from pandas in a future version. Use pandas.concat instead.\n",
      "  model_parameters = model_parameters.append({'RMSE':RMSE,'MAE':MAE,'MAPE':MAPE,'Parameters':p},ignore_index=True)\n",
      "08:05:08 - cmdstanpy - INFO - Chain [1] start processing\n",
      "08:05:12 - cmdstanpy - INFO - Chain [1] done processing\n"
     ]
    },
    {
     "name": "stdout",
     "output_type": "stream",
     "text": [
      "Root Mean Square Error(RMSE)------------------------------------ 13.96143137179759\n",
      "total:  99.0\n",
      "{'changepoint_prior_scale': 0.5, 'changepoint_range': 0.2, 'holidays_prior_scale': 10, 'n_changepoints': 75, 'seasonality_mode': 'multiplicative', 'seasonality_prior_scale': 12}\n"
     ]
    },
    {
     "name": "stderr",
     "output_type": "stream",
     "text": [
      "C:\\Users\\alex\\AppData\\Local\\Temp\\ipykernel_11468\\1416017460.py:35: FutureWarning: The frame.append method is deprecated and will be removed from pandas in a future version. Use pandas.concat instead.\n",
      "  model_parameters = model_parameters.append({'RMSE':RMSE,'MAE':MAE,'MAPE':MAPE,'Parameters':p},ignore_index=True)\n",
      "08:05:12 - cmdstanpy - INFO - Chain [1] start processing\n",
      "08:05:15 - cmdstanpy - INFO - Chain [1] done processing\n"
     ]
    },
    {
     "name": "stdout",
     "output_type": "stream",
     "text": [
      "Root Mean Square Error(RMSE)------------------------------------ 13.96143137179759\n",
      "total:  100.0\n"
     ]
    },
    {
     "name": "stderr",
     "output_type": "stream",
     "text": [
      "C:\\Users\\alex\\AppData\\Local\\Temp\\ipykernel_11468\\1416017460.py:35: FutureWarning: The frame.append method is deprecated and will be removed from pandas in a future version. Use pandas.concat instead.\n",
      "  model_parameters = model_parameters.append({'RMSE':RMSE,'MAE':MAE,'MAPE':MAPE,'Parameters':p},ignore_index=True)\n"
     ]
    }
   ],
   "source": [
    "import random\n",
    "import numpy as np\n",
    "model_parameters = pd.DataFrame(columns = ['RMSE','Parameters'])\n",
    "best_rmse = np.inf\n",
    "best_prediction=None\n",
    "count = 0\n",
    "for p in grid:\n",
    "    \n",
    "    test = pd.DataFrame()\n",
    "    print(p)\n",
    "    random.seed(0)\n",
    "    train_model =Prophet(changepoint_prior_scale = p['changepoint_prior_scale'],\n",
    "                         holidays_prior_scale = p['holidays_prior_scale'],\n",
    "                         n_changepoints = p['n_changepoints'],\n",
    "                         changepoint_range=p['changepoint_range'],\n",
    "                         seasonality_mode = p['seasonality_mode'],\n",
    "                         weekly_seasonality=True,\n",
    "                         daily_seasonality = True,\n",
    "                         yearly_seasonality = True,\n",
    "                         interval_width=0.95)\n",
    "    train_model.fit(prophet_train)\n",
    "    train_forecast = train_model.make_future_dataframe(periods=len(prophet_test), freq='D',include_history = False)\n",
    "    train_forecast = train_model.predict(train_forecast)\n",
    "    predicao=train_forecast[['ds','yhat']]\n",
    "    Actual = prophet_test\n",
    "    RMSE = np.sqrt(mean_squared_error(Actual['y'], predicao['yhat']))\n",
    "    MAE = mean_absolute_error(Actual['y'], predicao['yhat'])\n",
    "    MAPE = mean_absolute_percentage_error(Actual['y'], predicao['yhat'])\n",
    "    if RMSE < best_rmse:\n",
    "        best_rmse = RMSE\n",
    "        best_mae = MAE\n",
    "        best_mape = MAPE\n",
    "        best_prediction = train_forecast\n",
    "    print('Root Mean Square Error(RMSE)------------------------------------',RMSE)\n",
    "    model_parameters = model_parameters.append({'RMSE':RMSE,'MAE':MAE,'MAPE':MAPE,'Parameters':p},ignore_index=True)\n",
    "    count += 1\n",
    "    print(\"total: \" ,round(count/cnt,2)*100)"
   ]
  },
  {
   "cell_type": "code",
   "execution_count": 34,
   "id": "8df2bab3",
   "metadata": {},
   "outputs": [
    {
     "data": {
      "text/html": [
       "<div>\n",
       "<style scoped>\n",
       "    .dataframe tbody tr th:only-of-type {\n",
       "        vertical-align: middle;\n",
       "    }\n",
       "\n",
       "    .dataframe tbody tr th {\n",
       "        vertical-align: top;\n",
       "    }\n",
       "\n",
       "    .dataframe thead th {\n",
       "        text-align: right;\n",
       "    }\n",
       "</style>\n",
       "<table border=\"1\" class=\"dataframe\">\n",
       "  <thead>\n",
       "    <tr style=\"text-align: right;\">\n",
       "      <th></th>\n",
       "      <th>RMSE</th>\n",
       "      <th>Parameters</th>\n",
       "      <th>MAE</th>\n",
       "      <th>MAPE</th>\n",
       "    </tr>\n",
       "  </thead>\n",
       "  <tbody>\n",
       "    <tr>\n",
       "      <th>0</th>\n",
       "      <td>12.589483</td>\n",
       "      <td>{'changepoint_prior_scale': 0.001, 'changepoin...</td>\n",
       "      <td>11.579502</td>\n",
       "      <td>0.158467</td>\n",
       "    </tr>\n",
       "    <tr>\n",
       "      <th>1</th>\n",
       "      <td>12.589483</td>\n",
       "      <td>{'changepoint_prior_scale': 0.001, 'changepoin...</td>\n",
       "      <td>11.579502</td>\n",
       "      <td>0.158467</td>\n",
       "    </tr>\n",
       "    <tr>\n",
       "      <th>2</th>\n",
       "      <td>12.589483</td>\n",
       "      <td>{'changepoint_prior_scale': 0.001, 'changepoin...</td>\n",
       "      <td>11.579502</td>\n",
       "      <td>0.158467</td>\n",
       "    </tr>\n",
       "    <tr>\n",
       "      <th>3</th>\n",
       "      <td>12.589483</td>\n",
       "      <td>{'changepoint_prior_scale': 0.001, 'changepoin...</td>\n",
       "      <td>11.579502</td>\n",
       "      <td>0.158467</td>\n",
       "    </tr>\n",
       "    <tr>\n",
       "      <th>4</th>\n",
       "      <td>12.589483</td>\n",
       "      <td>{'changepoint_prior_scale': 0.001, 'changepoin...</td>\n",
       "      <td>11.579502</td>\n",
       "      <td>0.158467</td>\n",
       "    </tr>\n",
       "  </tbody>\n",
       "</table>\n",
       "</div>"
      ],
      "text/plain": [
       "        RMSE                                         Parameters        MAE  \\\n",
       "0  12.589483  {'changepoint_prior_scale': 0.001, 'changepoin...  11.579502   \n",
       "1  12.589483  {'changepoint_prior_scale': 0.001, 'changepoin...  11.579502   \n",
       "2  12.589483  {'changepoint_prior_scale': 0.001, 'changepoin...  11.579502   \n",
       "3  12.589483  {'changepoint_prior_scale': 0.001, 'changepoin...  11.579502   \n",
       "4  12.589483  {'changepoint_prior_scale': 0.001, 'changepoin...  11.579502   \n",
       "\n",
       "       MAPE  \n",
       "0  0.158467  \n",
       "1  0.158467  \n",
       "2  0.158467  \n",
       "3  0.158467  \n",
       "4  0.158467  "
      ]
     },
     "execution_count": 34,
     "metadata": {},
     "output_type": "execute_result"
    }
   ],
   "source": [
    "parameters = model_parameters.sort_values(by=['RMSE'])\n",
    "parameters = parameters.reset_index(drop=True)\n",
    "parameters.head()"
   ]
  },
  {
   "cell_type": "code",
   "execution_count": 35,
   "id": "19347abc",
   "metadata": {},
   "outputs": [
    {
     "name": "stdout",
     "output_type": "stream",
     "text": [
      "RMSE: 12.589483335147166\n",
      "MAE: 11.579501627169579\n",
      "MAPE: 0.15846737939806035\n",
      "{'changepoint_prior_scale': 0.001, 'changepoint_range': 0.2, 'holidays_prior_scale': 5, 'n_changepoints': 50, 'seasonality_mode': 'additive', 'seasonality_prior_scale': 0.01}\n"
     ]
    }
   ],
   "source": [
    "print('RMSE:',parameters.loc[0, 'RMSE'])\n",
    "print('MAE:',parameters.loc[0, 'MAE'])\n",
    "print('MAPE:',parameters.loc[0, 'MAPE'])\n",
    "print(parameters.loc[0, 'Parameters'])"
   ]
  },
  {
   "cell_type": "code",
   "execution_count": 252,
   "id": "3217fcfe",
   "metadata": {},
   "outputs": [
    {
     "data": {
      "text/html": [
       "<div>\n",
       "<style scoped>\n",
       "    .dataframe tbody tr th:only-of-type {\n",
       "        vertical-align: middle;\n",
       "    }\n",
       "\n",
       "    .dataframe tbody tr th {\n",
       "        vertical-align: top;\n",
       "    }\n",
       "\n",
       "    .dataframe thead th {\n",
       "        text-align: right;\n",
       "    }\n",
       "</style>\n",
       "<table border=\"1\" class=\"dataframe\">\n",
       "  <thead>\n",
       "    <tr style=\"text-align: right;\">\n",
       "      <th></th>\n",
       "      <th>ds</th>\n",
       "      <th>trend</th>\n",
       "      <th>yhat_lower</th>\n",
       "      <th>yhat_upper</th>\n",
       "      <th>trend_lower</th>\n",
       "      <th>trend_upper</th>\n",
       "      <th>Confraternização Universal</th>\n",
       "      <th>Confraternização Universal_lower</th>\n",
       "      <th>Confraternização Universal_upper</th>\n",
       "      <th>Dia do Trabalhador</th>\n",
       "      <th>...</th>\n",
       "      <th>holidays</th>\n",
       "      <th>holidays_lower</th>\n",
       "      <th>holidays_upper</th>\n",
       "      <th>yearly</th>\n",
       "      <th>yearly_lower</th>\n",
       "      <th>yearly_upper</th>\n",
       "      <th>multiplicative_terms</th>\n",
       "      <th>multiplicative_terms_lower</th>\n",
       "      <th>multiplicative_terms_upper</th>\n",
       "      <th>yhat</th>\n",
       "    </tr>\n",
       "  </thead>\n",
       "  <tbody>\n",
       "    <tr>\n",
       "      <th>0</th>\n",
       "      <td>2021-03-13</td>\n",
       "      <td>0.381995</td>\n",
       "      <td>0.354002</td>\n",
       "      <td>0.410572</td>\n",
       "      <td>0.381995</td>\n",
       "      <td>0.381995</td>\n",
       "      <td>0.0</td>\n",
       "      <td>0.0</td>\n",
       "      <td>0.0</td>\n",
       "      <td>0.0</td>\n",
       "      <td>...</td>\n",
       "      <td>0.000000</td>\n",
       "      <td>0.000000</td>\n",
       "      <td>0.000000</td>\n",
       "      <td>-0.000770</td>\n",
       "      <td>-0.000770</td>\n",
       "      <td>-0.000770</td>\n",
       "      <td>0.0</td>\n",
       "      <td>0.0</td>\n",
       "      <td>0.0</td>\n",
       "      <td>0.381225</td>\n",
       "    </tr>\n",
       "    <tr>\n",
       "      <th>1</th>\n",
       "      <td>2021-03-14</td>\n",
       "      <td>0.382012</td>\n",
       "      <td>0.350323</td>\n",
       "      <td>0.410512</td>\n",
       "      <td>0.382012</td>\n",
       "      <td>0.382012</td>\n",
       "      <td>0.0</td>\n",
       "      <td>0.0</td>\n",
       "      <td>0.0</td>\n",
       "      <td>0.0</td>\n",
       "      <td>...</td>\n",
       "      <td>0.000000</td>\n",
       "      <td>0.000000</td>\n",
       "      <td>0.000000</td>\n",
       "      <td>-0.001041</td>\n",
       "      <td>-0.001041</td>\n",
       "      <td>-0.001041</td>\n",
       "      <td>0.0</td>\n",
       "      <td>0.0</td>\n",
       "      <td>0.0</td>\n",
       "      <td>0.380971</td>\n",
       "    </tr>\n",
       "    <tr>\n",
       "      <th>2</th>\n",
       "      <td>2021-03-15</td>\n",
       "      <td>0.382029</td>\n",
       "      <td>0.350916</td>\n",
       "      <td>0.410061</td>\n",
       "      <td>0.382029</td>\n",
       "      <td>0.382031</td>\n",
       "      <td>0.0</td>\n",
       "      <td>0.0</td>\n",
       "      <td>0.0</td>\n",
       "      <td>0.0</td>\n",
       "      <td>...</td>\n",
       "      <td>0.000000</td>\n",
       "      <td>0.000000</td>\n",
       "      <td>0.000000</td>\n",
       "      <td>-0.001288</td>\n",
       "      <td>-0.001288</td>\n",
       "      <td>-0.001288</td>\n",
       "      <td>0.0</td>\n",
       "      <td>0.0</td>\n",
       "      <td>0.0</td>\n",
       "      <td>0.380741</td>\n",
       "    </tr>\n",
       "    <tr>\n",
       "      <th>3</th>\n",
       "      <td>2021-03-16</td>\n",
       "      <td>0.382047</td>\n",
       "      <td>0.350352</td>\n",
       "      <td>0.409150</td>\n",
       "      <td>0.382036</td>\n",
       "      <td>0.382058</td>\n",
       "      <td>0.0</td>\n",
       "      <td>0.0</td>\n",
       "      <td>0.0</td>\n",
       "      <td>0.0</td>\n",
       "      <td>...</td>\n",
       "      <td>0.000000</td>\n",
       "      <td>0.000000</td>\n",
       "      <td>0.000000</td>\n",
       "      <td>-0.001509</td>\n",
       "      <td>-0.001509</td>\n",
       "      <td>-0.001509</td>\n",
       "      <td>0.0</td>\n",
       "      <td>0.0</td>\n",
       "      <td>0.0</td>\n",
       "      <td>0.380537</td>\n",
       "    </tr>\n",
       "    <tr>\n",
       "      <th>4</th>\n",
       "      <td>2021-03-17</td>\n",
       "      <td>0.382064</td>\n",
       "      <td>0.348935</td>\n",
       "      <td>0.409003</td>\n",
       "      <td>0.382041</td>\n",
       "      <td>0.382090</td>\n",
       "      <td>0.0</td>\n",
       "      <td>0.0</td>\n",
       "      <td>0.0</td>\n",
       "      <td>0.0</td>\n",
       "      <td>...</td>\n",
       "      <td>0.000000</td>\n",
       "      <td>0.000000</td>\n",
       "      <td>0.000000</td>\n",
       "      <td>-0.001701</td>\n",
       "      <td>-0.001701</td>\n",
       "      <td>-0.001701</td>\n",
       "      <td>0.0</td>\n",
       "      <td>0.0</td>\n",
       "      <td>0.0</td>\n",
       "      <td>0.380363</td>\n",
       "    </tr>\n",
       "    <tr>\n",
       "      <th>...</th>\n",
       "      <td>...</td>\n",
       "      <td>...</td>\n",
       "      <td>...</td>\n",
       "      <td>...</td>\n",
       "      <td>...</td>\n",
       "      <td>...</td>\n",
       "      <td>...</td>\n",
       "      <td>...</td>\n",
       "      <td>...</td>\n",
       "      <td>...</td>\n",
       "      <td>...</td>\n",
       "      <td>...</td>\n",
       "      <td>...</td>\n",
       "      <td>...</td>\n",
       "      <td>...</td>\n",
       "      <td>...</td>\n",
       "      <td>...</td>\n",
       "      <td>...</td>\n",
       "      <td>...</td>\n",
       "      <td>...</td>\n",
       "      <td>...</td>\n",
       "    </tr>\n",
       "    <tr>\n",
       "      <th>1017</th>\n",
       "      <td>2023-12-25</td>\n",
       "      <td>0.399633</td>\n",
       "      <td>0.195166</td>\n",
       "      <td>0.601518</td>\n",
       "      <td>0.197827</td>\n",
       "      <td>0.600249</td>\n",
       "      <td>0.0</td>\n",
       "      <td>0.0</td>\n",
       "      <td>0.0</td>\n",
       "      <td>0.0</td>\n",
       "      <td>...</td>\n",
       "      <td>-0.000157</td>\n",
       "      <td>-0.000157</td>\n",
       "      <td>-0.000157</td>\n",
       "      <td>-0.001148</td>\n",
       "      <td>-0.001148</td>\n",
       "      <td>-0.001148</td>\n",
       "      <td>0.0</td>\n",
       "      <td>0.0</td>\n",
       "      <td>0.0</td>\n",
       "      <td>0.398329</td>\n",
       "    </tr>\n",
       "    <tr>\n",
       "      <th>1018</th>\n",
       "      <td>2023-12-26</td>\n",
       "      <td>0.399651</td>\n",
       "      <td>0.193627</td>\n",
       "      <td>0.603760</td>\n",
       "      <td>0.197576</td>\n",
       "      <td>0.600552</td>\n",
       "      <td>0.0</td>\n",
       "      <td>0.0</td>\n",
       "      <td>0.0</td>\n",
       "      <td>0.0</td>\n",
       "      <td>...</td>\n",
       "      <td>0.000000</td>\n",
       "      <td>0.000000</td>\n",
       "      <td>0.000000</td>\n",
       "      <td>-0.001113</td>\n",
       "      <td>-0.001113</td>\n",
       "      <td>-0.001113</td>\n",
       "      <td>0.0</td>\n",
       "      <td>0.0</td>\n",
       "      <td>0.0</td>\n",
       "      <td>0.398538</td>\n",
       "    </tr>\n",
       "    <tr>\n",
       "      <th>1019</th>\n",
       "      <td>2023-12-27</td>\n",
       "      <td>0.399668</td>\n",
       "      <td>0.200647</td>\n",
       "      <td>0.602923</td>\n",
       "      <td>0.197325</td>\n",
       "      <td>0.600854</td>\n",
       "      <td>0.0</td>\n",
       "      <td>0.0</td>\n",
       "      <td>0.0</td>\n",
       "      <td>0.0</td>\n",
       "      <td>...</td>\n",
       "      <td>0.000000</td>\n",
       "      <td>0.000000</td>\n",
       "      <td>0.000000</td>\n",
       "      <td>-0.001044</td>\n",
       "      <td>-0.001044</td>\n",
       "      <td>-0.001044</td>\n",
       "      <td>0.0</td>\n",
       "      <td>0.0</td>\n",
       "      <td>0.0</td>\n",
       "      <td>0.398625</td>\n",
       "    </tr>\n",
       "    <tr>\n",
       "      <th>1020</th>\n",
       "      <td>2023-12-28</td>\n",
       "      <td>0.399685</td>\n",
       "      <td>0.193331</td>\n",
       "      <td>0.605447</td>\n",
       "      <td>0.197077</td>\n",
       "      <td>0.601157</td>\n",
       "      <td>0.0</td>\n",
       "      <td>0.0</td>\n",
       "      <td>0.0</td>\n",
       "      <td>0.0</td>\n",
       "      <td>...</td>\n",
       "      <td>0.000000</td>\n",
       "      <td>0.000000</td>\n",
       "      <td>0.000000</td>\n",
       "      <td>-0.000939</td>\n",
       "      <td>-0.000939</td>\n",
       "      <td>-0.000939</td>\n",
       "      <td>0.0</td>\n",
       "      <td>0.0</td>\n",
       "      <td>0.0</td>\n",
       "      <td>0.398746</td>\n",
       "    </tr>\n",
       "    <tr>\n",
       "      <th>1021</th>\n",
       "      <td>2023-12-29</td>\n",
       "      <td>0.399703</td>\n",
       "      <td>0.187911</td>\n",
       "      <td>0.605292</td>\n",
       "      <td>0.196834</td>\n",
       "      <td>0.601460</td>\n",
       "      <td>0.0</td>\n",
       "      <td>0.0</td>\n",
       "      <td>0.0</td>\n",
       "      <td>0.0</td>\n",
       "      <td>...</td>\n",
       "      <td>0.000000</td>\n",
       "      <td>0.000000</td>\n",
       "      <td>0.000000</td>\n",
       "      <td>-0.000802</td>\n",
       "      <td>-0.000802</td>\n",
       "      <td>-0.000802</td>\n",
       "      <td>0.0</td>\n",
       "      <td>0.0</td>\n",
       "      <td>0.0</td>\n",
       "      <td>0.398901</td>\n",
       "    </tr>\n",
       "  </tbody>\n",
       "</table>\n",
       "<p>1022 rows × 46 columns</p>\n",
       "</div>"
      ],
      "text/plain": [
       "             ds     trend  yhat_lower  yhat_upper  trend_lower  trend_upper  \\\n",
       "0    2021-03-13  0.381995    0.354002    0.410572     0.381995     0.381995   \n",
       "1    2021-03-14  0.382012    0.350323    0.410512     0.382012     0.382012   \n",
       "2    2021-03-15  0.382029    0.350916    0.410061     0.382029     0.382031   \n",
       "3    2021-03-16  0.382047    0.350352    0.409150     0.382036     0.382058   \n",
       "4    2021-03-17  0.382064    0.348935    0.409003     0.382041     0.382090   \n",
       "...         ...       ...         ...         ...          ...          ...   \n",
       "1017 2023-12-25  0.399633    0.195166    0.601518     0.197827     0.600249   \n",
       "1018 2023-12-26  0.399651    0.193627    0.603760     0.197576     0.600552   \n",
       "1019 2023-12-27  0.399668    0.200647    0.602923     0.197325     0.600854   \n",
       "1020 2023-12-28  0.399685    0.193331    0.605447     0.197077     0.601157   \n",
       "1021 2023-12-29  0.399703    0.187911    0.605292     0.196834     0.601460   \n",
       "\n",
       "      Confraternização Universal  Confraternização Universal_lower  \\\n",
       "0                            0.0                               0.0   \n",
       "1                            0.0                               0.0   \n",
       "2                            0.0                               0.0   \n",
       "3                            0.0                               0.0   \n",
       "4                            0.0                               0.0   \n",
       "...                          ...                               ...   \n",
       "1017                         0.0                               0.0   \n",
       "1018                         0.0                               0.0   \n",
       "1019                         0.0                               0.0   \n",
       "1020                         0.0                               0.0   \n",
       "1021                         0.0                               0.0   \n",
       "\n",
       "      Confraternização Universal_upper  Dia do Trabalhador  ...  holidays  \\\n",
       "0                                  0.0                 0.0  ...  0.000000   \n",
       "1                                  0.0                 0.0  ...  0.000000   \n",
       "2                                  0.0                 0.0  ...  0.000000   \n",
       "3                                  0.0                 0.0  ...  0.000000   \n",
       "4                                  0.0                 0.0  ...  0.000000   \n",
       "...                                ...                 ...  ...       ...   \n",
       "1017                               0.0                 0.0  ... -0.000157   \n",
       "1018                               0.0                 0.0  ...  0.000000   \n",
       "1019                               0.0                 0.0  ...  0.000000   \n",
       "1020                               0.0                 0.0  ...  0.000000   \n",
       "1021                               0.0                 0.0  ...  0.000000   \n",
       "\n",
       "      holidays_lower  holidays_upper    yearly  yearly_lower  yearly_upper  \\\n",
       "0           0.000000        0.000000 -0.000770     -0.000770     -0.000770   \n",
       "1           0.000000        0.000000 -0.001041     -0.001041     -0.001041   \n",
       "2           0.000000        0.000000 -0.001288     -0.001288     -0.001288   \n",
       "3           0.000000        0.000000 -0.001509     -0.001509     -0.001509   \n",
       "4           0.000000        0.000000 -0.001701     -0.001701     -0.001701   \n",
       "...              ...             ...       ...           ...           ...   \n",
       "1017       -0.000157       -0.000157 -0.001148     -0.001148     -0.001148   \n",
       "1018        0.000000        0.000000 -0.001113     -0.001113     -0.001113   \n",
       "1019        0.000000        0.000000 -0.001044     -0.001044     -0.001044   \n",
       "1020        0.000000        0.000000 -0.000939     -0.000939     -0.000939   \n",
       "1021        0.000000        0.000000 -0.000802     -0.000802     -0.000802   \n",
       "\n",
       "      multiplicative_terms  multiplicative_terms_lower  \\\n",
       "0                      0.0                         0.0   \n",
       "1                      0.0                         0.0   \n",
       "2                      0.0                         0.0   \n",
       "3                      0.0                         0.0   \n",
       "4                      0.0                         0.0   \n",
       "...                    ...                         ...   \n",
       "1017                   0.0                         0.0   \n",
       "1018                   0.0                         0.0   \n",
       "1019                   0.0                         0.0   \n",
       "1020                   0.0                         0.0   \n",
       "1021                   0.0                         0.0   \n",
       "\n",
       "      multiplicative_terms_upper      yhat  \n",
       "0                            0.0  0.381225  \n",
       "1                            0.0  0.380971  \n",
       "2                            0.0  0.380741  \n",
       "3                            0.0  0.380537  \n",
       "4                            0.0  0.380363  \n",
       "...                          ...       ...  \n",
       "1017                         0.0  0.398329  \n",
       "1018                         0.0  0.398538  \n",
       "1019                         0.0  0.398625  \n",
       "1020                         0.0  0.398746  \n",
       "1021                         0.0  0.398901  \n",
       "\n",
       "[1022 rows x 46 columns]"
      ]
     },
     "execution_count": 252,
     "metadata": {},
     "output_type": "execute_result"
    }
   ],
   "source": [
    "best_prediction"
   ]
  },
  {
   "cell_type": "code",
   "execution_count": 36,
   "id": "1aa0e3ac",
   "metadata": {},
   "outputs": [
    {
     "data": {
      "image/png": "[encoded data removed]",
      "text/plain": [
       "<Figure size 1152x288 with 1 Axes>"
      ]
     },
     "metadata": {
      "needs_background": "light"
     },
     "output_type": "display_data"
    }
   ],
   "source": [
    "import matplotlib.pyplot as plt\n",
    "plt.figure(figsize=(16,4))\n",
    "# Plotando o primeiro gráfico\n",
    "plt.plot(predicao['ds'], predicao['yhat'], label='Predito')\n",
    "# Plotando o segundo gráfico\n",
    "plt.plot(prophet_test['ds'], prophet_test['y'], label='Teste')\n",
    "# Adicionando uma legenda\n",
    "plt.legend()\n",
    "plt.title('AAXJ 600 dados de teste e previsto')\n",
    "# Exibindo o gráfico\n",
    "plt.show()"
   ]
  },
  {
   "cell_type": "code",
   "execution_count": 37,
   "id": "491bfb53",
   "metadata": {},
   "outputs": [
    {
     "data": {
      "image/png": "[encoded data removed]",
      "text/plain": [
       "<Figure size 1152x576 with 1 Axes>"
      ]
     },
     "metadata": {
      "needs_background": "light"
     },
     "output_type": "display_data"
    }
   ],
   "source": [
    "import matplotlib.pyplot as plt\n",
    "plt.figure(figsize=(16, 8))\n",
    "# Plotando o primeiro gráfico\n",
    "plt.plot(best_prediction['ds'], best_prediction['yhat'],color='green', label='Predito')\n",
    "# Plotando o segundo gráfico\n",
    "# Linha da série temporal\n",
    "plt.plot(prophet_train['ds'], prophet_train['y'],color='blue', label='Real treino')\n",
    "plt.plot(prophet_test['ds'], prophet_test['y'],color='orange', label='Real')\n",
    "\n",
    "# Área do intervalo de confiança\n",
    "plt.fill_between(best_prediction['ds'],\n",
    "                 best_prediction['yhat_upper'],\n",
    "                 best_prediction['yhat_lower'], color='pink', alpha=0.5)\n",
    "\n",
    "plt.ylabel('Valores', fontsize=12)\n",
    "plt.xlabel('Datas', fontsize=12)\n",
    "plt.title('Índice AAXJ 600 previsto com o modelo Prophet')\n",
    "# Adicionando uma legenda\n",
    "plt.legend()\n",
    "\n",
    "# Exibindo o gráfico\n",
    "plt.show()"
   ]
  },
  {
   "cell_type": "code",
   "execution_count": null,
   "id": "ac21930d",
   "metadata": {},
   "outputs": [],
   "source": [
    "cros_validation(model)"
   ]
  }
 ],
 "metadata": {
  "kernelspec": {
   "display_name": "Python 3 (ipykernel)",
   "language": "python",
   "name": "python3"
  },
  "language_info": {
   "codemirror_mode": {
    "name": "ipython",
    "version": 3
   },
   "file_extension": ".py",
   "mimetype": "text/x-python",
   "name": "python",
   "nbconvert_exporter": "python",
   "pygments_lexer": "ipython3",
   "version": "3.9.12"
  }
 },
 "nbformat": 4,
 "nbformat_minor": 5
}
