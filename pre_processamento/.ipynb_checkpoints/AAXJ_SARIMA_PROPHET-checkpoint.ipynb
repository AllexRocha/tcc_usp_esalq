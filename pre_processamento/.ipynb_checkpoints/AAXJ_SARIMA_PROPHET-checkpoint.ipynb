{
 "cells": [
  {
   "cell_type": "markdown",
   "id": "816d7557",
   "metadata": {},
   "source": [
    "# AAXJ"
   ]
  },
  {
   "cell_type": "markdown",
   "id": "c7a0f77d",
   "metadata": {},
   "source": [
    "## Lendo arquivo de dados Ibovespa"
   ]
  },
  {
   "cell_type": "code",
   "execution_count": 1,
   "id": "c71fb2e4",
   "metadata": {},
   "outputs": [],
   "source": [
    "import pandas as pd\n",
    "\n",
    "def ler_csv(caminho_arquivo):\n",
    "    return pd.read_csv(caminho_arquivo, sep=',',usecols=[0,1], decimal=',', header=0)\n",
    "\n",
    "df = ler_csv('dados/AAXJ.csv')"
   ]
  },
  {
   "cell_type": "markdown",
   "id": "3e7be6ab",
   "metadata": {},
   "source": [
    "## Pré - tratamento dos dados"
   ]
  },
  {
   "cell_type": "code",
   "execution_count": 2,
   "id": "a05feef7",
   "metadata": {},
   "outputs": [],
   "source": [
    "def df_tratamento_dados(df):\n",
    "    df = df.rename(columns={'Data':'data','Último': 'value'})\n",
    "    df['data'] = pd.to_datetime(df['data'], format='%d.%m.%Y')\n",
    "    df = df.sort_values(by='data')\n",
    "    # Completando dados\n",
    "    # Crie um novo DataFrame com um intervalo completo de datas\n",
    "    data_inicio = df['data'].min()  # Data de início\n",
    "    data_fim = df['data'].max()  \n",
    "    datas_completas = pd.date_range(start=data_inicio, end=data_fim, freq='D')\n",
    "    # Crie um novo DataFrame com o intervalo completo de datas\n",
    "    df_completo = pd.DataFrame(datas_completas, columns=['data'])# Faça um merge com o dataframe original\n",
    "\n",
    "    df = df_completo.merge(df, on='data', how='left')\n",
    "    df = df.sort_values(by='data')\n",
    "\n",
    "    \n",
    "    df['value'] = pd.to_numeric(df['value'], errors='coerce')\n",
    "    df.index = pd.to_datetime(df['data'])\n",
    "    # Interpolação linear\n",
    "    df['value'] = df['value'].interpolate(method='linear')\n",
    "    df.set_index('data', inplace=True)\n",
    "    df.sort_index(ascending=True, inplace=True)\n",
    "    df = df.asfreq('D')\n",
    "    return df"
   ]
  },
  {
   "cell_type": "code",
   "execution_count": 4,
   "id": "697a2198",
   "metadata": {},
   "outputs": [],
   "source": [
    "df_arima = df_tratamento_dados(df)"
   ]
  },
  {
   "cell_type": "markdown",
   "id": "7289118c",
   "metadata": {},
   "source": [
    "# Separando os dados de treino e de teste"
   ]
  },
  {
   "cell_type": "code",
   "execution_count": 5,
   "id": "cef3e627",
   "metadata": {},
   "outputs": [
    {
     "name": "stdout",
     "output_type": "stream",
     "text": [
      "4086\n",
      "1022\n"
     ]
    }
   ],
   "source": [
    "def split(df_arima, perc):\n",
    "    train = df_arima[:int(len(df_arima)*perc)]\n",
    "    test = df_arima[len(train):]\n",
    "    print(len(train))\n",
    "    print(len(test))\n",
    "    return train, test\n",
    "\n",
    "arima_train, arima_test = split(df_arima, 0.8)"
   ]
  },
  {
   "cell_type": "code",
   "execution_count": 236,
   "id": "5e3c3b70",
   "metadata": {},
   "outputs": [
    {
     "data": {
      "text/html": [
       "<div>\n",
       "<style scoped>\n",
       "    .dataframe tbody tr th:only-of-type {\n",
       "        vertical-align: middle;\n",
       "    }\n",
       "\n",
       "    .dataframe tbody tr th {\n",
       "        vertical-align: top;\n",
       "    }\n",
       "\n",
       "    .dataframe thead th {\n",
       "        text-align: right;\n",
       "    }\n",
       "</style>\n",
       "<table border=\"1\" class=\"dataframe\">\n",
       "  <thead>\n",
       "    <tr style=\"text-align: right;\">\n",
       "      <th></th>\n",
       "      <th>value</th>\n",
       "    </tr>\n",
       "    <tr>\n",
       "      <th>data</th>\n",
       "      <th></th>\n",
       "    </tr>\n",
       "  </thead>\n",
       "  <tbody>\n",
       "    <tr>\n",
       "      <th>2010-01-04</th>\n",
       "      <td>57.17</td>\n",
       "    </tr>\n",
       "    <tr>\n",
       "      <th>2010-01-05</th>\n",
       "      <td>57.81</td>\n",
       "    </tr>\n",
       "    <tr>\n",
       "      <th>2010-01-06</th>\n",
       "      <td>57.76</td>\n",
       "    </tr>\n",
       "    <tr>\n",
       "      <th>2010-01-07</th>\n",
       "      <td>57.48</td>\n",
       "    </tr>\n",
       "    <tr>\n",
       "      <th>2010-01-08</th>\n",
       "      <td>57.71</td>\n",
       "    </tr>\n",
       "    <tr>\n",
       "      <th>...</th>\n",
       "      <td>...</td>\n",
       "    </tr>\n",
       "    <tr>\n",
       "      <th>2021-03-08</th>\n",
       "      <td>91.61</td>\n",
       "    </tr>\n",
       "    <tr>\n",
       "      <th>2021-03-09</th>\n",
       "      <td>93.78</td>\n",
       "    </tr>\n",
       "    <tr>\n",
       "      <th>2021-03-10</th>\n",
       "      <td>93.18</td>\n",
       "    </tr>\n",
       "    <tr>\n",
       "      <th>2021-03-11</th>\n",
       "      <td>96.07</td>\n",
       "    </tr>\n",
       "    <tr>\n",
       "      <th>2021-03-12</th>\n",
       "      <td>94.07</td>\n",
       "    </tr>\n",
       "  </tbody>\n",
       "</table>\n",
       "<p>4086 rows × 1 columns</p>\n",
       "</div>"
      ],
      "text/plain": [
       "            value\n",
       "data             \n",
       "2010-01-04  57.17\n",
       "2010-01-05  57.81\n",
       "2010-01-06  57.76\n",
       "2010-01-07  57.48\n",
       "2010-01-08  57.71\n",
       "...           ...\n",
       "2021-03-08  91.61\n",
       "2021-03-09  93.78\n",
       "2021-03-10  93.18\n",
       "2021-03-11  96.07\n",
       "2021-03-12  94.07\n",
       "\n",
       "[4086 rows x 1 columns]"
      ]
     },
     "execution_count": 236,
     "metadata": {},
     "output_type": "execute_result"
    }
   ],
   "source": [
    "arima_train"
   ]
  },
  {
   "cell_type": "markdown",
   "id": "d05bd4b8",
   "metadata": {},
   "source": [
    "## Decompondo a série"
   ]
  },
  {
   "cell_type": "code",
   "execution_count": 6,
   "id": "35ff53de",
   "metadata": {},
   "outputs": [
    {
     "data": {
      "image/png": "[encoded data removed]",
      "text/plain": [
       "<Figure size 432x288 with 4 Axes>"
      ]
     },
     "metadata": {
      "needs_background": "light"
     },
     "output_type": "display_data"
    }
   ],
   "source": [
    "from statsmodels.tsa.seasonal import seasonal_decompose\n",
    "import matplotlib.pyplot as plt\n",
    "result = seasonal_decompose(df_arima, model='additive',period=365,extrapolate_trend='freq')\n",
    "result.plot()\n",
    "plt.show()"
   ]
  },
  {
   "cell_type": "markdown",
   "id": "7e7f097a",
   "metadata": {},
   "source": [
    "## Verificando estacionariedade da série e da componente sasonal"
   ]
  },
  {
   "cell_type": "code",
   "execution_count": 7,
   "id": "174fdd40",
   "metadata": {},
   "outputs": [],
   "source": [
    "from statsmodels.tsa.stattools import adfuller\n",
    "import numpy as np\n",
    "def check_stationarity(df):\n",
    "    dftest = adfuller(df)\n",
    "    adf = dftest[0]\n",
    "    pvalue = dftest[1]\n",
    "    critical_value = dftest[4]['5%']\n",
    "    if (pvalue < 0.05) and (adf < critical_value):\n",
    "        print('The series is stationary')\n",
    "    else:\n",
    "        print('The series is NOT stationary')"
   ]
  },
  {
   "cell_type": "code",
   "execution_count": 8,
   "id": "ac7098d3",
   "metadata": {},
   "outputs": [
    {
     "name": "stdout",
     "output_type": "stream",
     "text": [
      "The series is stationary\n"
     ]
    }
   ],
   "source": [
    "# Componente sasonal\n",
    "seasonal = result.seasonal\n",
    "check_stationarity(seasonal)"
   ]
  },
  {
   "cell_type": "code",
   "execution_count": 9,
   "id": "49cfb78c",
   "metadata": {},
   "outputs": [
    {
     "name": "stdout",
     "output_type": "stream",
     "text": [
      "The series is NOT stationary\n"
     ]
    }
   ],
   "source": [
    "# série temporal\n",
    "check_stationarity(arima_train['value'])"
   ]
  },
  {
   "cell_type": "markdown",
   "id": "9447f67f",
   "metadata": {},
   "source": [
    "## Plotando os gráficos de ACF e PCF da série"
   ]
  },
  {
   "cell_type": "code",
   "execution_count": 10,
   "id": "9f754500",
   "metadata": {},
   "outputs": [
    {
     "data": {
      "image/png": "[encoded data removed]",
      "text/plain": [
       "<Figure size 432x288 with 1 Axes>"
      ]
     },
     "metadata": {
      "needs_background": "light"
     },
     "output_type": "display_data"
    },
    {
     "data": {
      "image/png": "[encoded data removed]",
      "text/plain": [
       "<Figure size 432x288 with 1 Axes>"
      ]
     },
     "metadata": {
      "needs_background": "light"
     },
     "output_type": "display_data"
    }
   ],
   "source": [
    "from statsmodels.graphics.tsaplots import plot_acf, plot_pacf\n",
    "plot_pacf(arima_train.diff().dropna(), lags =12)\n",
    "plt.show()\n",
    "plot_acf(arima_train.diff().dropna(), lags =12)\n",
    "plt.show()"
   ]
  },
  {
   "cell_type": "code",
   "execution_count": 11,
   "id": "f6c40c04",
   "metadata": {},
   "outputs": [
    {
     "data": {
      "image/png": "[encoded data removed]",
      "text/plain": [
       "<Figure size 432x288 with 1 Axes>"
      ]
     },
     "metadata": {
      "needs_background": "light"
     },
     "output_type": "display_data"
    },
    {
     "data": {
      "image/png": "[encoded data removed]",
      "text/plain": [
       "<Figure size 432x288 with 1 Axes>"
      ]
     },
     "metadata": {
      "needs_background": "light"
     },
     "output_type": "display_data"
    }
   ],
   "source": [
    "from statsmodels.graphics.tsaplots import plot_acf, plot_pacf\n",
    "plot_pacf(seasonal, lags =12)\n",
    "plt.show()\n",
    "plot_acf(seasonal, lags =12)\n",
    "plt.show()"
   ]
  },
  {
   "cell_type": "markdown",
   "id": "4df62281",
   "metadata": {},
   "source": [
    "#### Analisando os gráficos pode ser visto que uma possível configuração pode ser pdq = 1,1,1 e PDQ = 0,0,1"
   ]
  },
  {
   "cell_type": "code",
   "execution_count": 12,
   "id": "10ea93a1",
   "metadata": {},
   "outputs": [],
   "source": [
    "ACF_PACF_config = [(0,1,0),(6,0,0, 12),'n']"
   ]
  },
  {
   "cell_type": "markdown",
   "id": "5f3acf4b",
   "metadata": {},
   "source": [
    "# Parâmetros com auto arima"
   ]
  },
  {
   "cell_type": "code",
   "execution_count": 22,
   "id": "f0f45a62",
   "metadata": {},
   "outputs": [],
   "source": [
    "from pmdarima import auto_arima\n",
    "\n",
    "# Suponha que 'data' seja a sua série temporal\n",
    "auto_arima_config = auto_arima(arima_train, seasonal=True, m=12)  # m é o período da sazonalidade"
   ]
  },
  {
   "cell_type": "code",
   "execution_count": 23,
   "id": "6349ead9",
   "metadata": {},
   "outputs": [
    {
     "data": {
      "text/plain": [
       "[(0, 1, 0), (0, 0, 0, 12), 'n']"
      ]
     },
     "execution_count": 23,
     "metadata": {},
     "output_type": "execute_result"
    }
   ],
   "source": [
    "# Obter os parâmetros 'order' e 'seasonal_order'\n",
    "order = auto_arima_config.order\n",
    "seasonal_order = auto_arima_config.seasonal_order\n",
    "auto_arima_config = [order,seasonal_order,'n']\n",
    "auto_arima_config"
   ]
  },
  {
   "cell_type": "markdown",
   "id": "045ed5b9",
   "metadata": {},
   "source": [
    "##### O Auto Arima retornou como parãmetros pdq = 0,1,0 e PDQ = 0,0,0"
   ]
  },
  {
   "cell_type": "markdown",
   "id": "e5426ed8",
   "metadata": {},
   "source": [
    "# Parâmetros com grid search"
   ]
  },
  {
   "cell_type": "markdown",
   "id": "493d86f5",
   "metadata": {},
   "source": [
    "## Carregando funções"
   ]
  },
  {
   "cell_type": "code",
   "execution_count": 17,
   "id": "386b2a96",
   "metadata": {},
   "outputs": [
    {
     "data": {
      "text/plain": [
       "256"
      ]
     },
     "execution_count": 17,
     "metadata": {},
     "output_type": "execute_result"
    }
   ],
   "source": [
    "import itertools\n",
    "def sarima_parameter_search(inicio,search_range, seasonal = [12]):\n",
    "    \"\"\"\n",
    "    Get all of the parameter combinations for a SARIMA model.\n",
    "    \"\"\"\n",
    "    p = q = d = range(inicio, search_range)\n",
    "    trend = ['n','c','t','ct']\n",
    "    pdq = list(itertools.product(p, d, q))\n",
    "    pdq_combinations = [(x[0], x[1], x[2], x[3], x[4]) for x in list(itertools.product(p, d, q, seasonal, trend))]\n",
    "    return pdq, pdq_combinations\n",
    "\n",
    "### EXECUTE IN MAIN FUNCTION ###\n",
    "order_combos, seasonal_order_combos = sarima_parameter_search(inicio=0, search_range = 2)\n",
    "total = len(order_combos)*len(seasonal_order_combos)\n",
    "total"
   ]
  },
  {
   "cell_type": "code",
   "execution_count": 18,
   "id": "0e2b03f4",
   "metadata": {},
   "outputs": [],
   "source": [
    "from statsmodels.tsa.statespace.sarimax import SARIMAX\n",
    "from statsmodels.tsa.arima.model import ARIMA\n",
    "from sklearn.metrics import mean_squared_error\n",
    "def seasonal_arima_model(time_series=None, order=None, seasonal_order=None, trend=None, steps=None, modo=None):\n",
    "    \"\"\"\n",
    "    Generate a seasonal ARIMA model using a set of hyperparameters. Returns the model fit, and the \n",
    "    associated model AIC and BIC values.\n",
    "    \"\"\" \n",
    "    try:\n",
    "        if modo == \"SARIMA\":\n",
    "            model = SARIMAX(time_series, \n",
    "                                       order=order, \n",
    "                                       seasonal_order=seasonal_order, \n",
    "                                       trend = trend,\n",
    "                                       enforce_stationarity=False, \n",
    "                                       enforce_invertibility=False)\n",
    "            model_fit = model.fit()\n",
    "            prediction = model_fit.forecast(steps=steps)\n",
    "            rmse = np.sqrt(mean_squared_error(arima_test, prediction))\n",
    "            return rmse, model_fit, prediction\n",
    "        elif modo == \"ARIMA\":         \n",
    "            model = ARIMA(time_series, order=order)\n",
    "            model_fit = model.fit()\n",
    "            prediction = model_fit.forecast(steps=steps)\n",
    "            rmse = np.sqrt(mean_squared_error(arima_test, prediction))\n",
    "            return rmse, model_fit, prediction\n",
    "    except:\n",
    "        print(\"Could not fit with the designated model parameters\")\n",
    "        return None, None, None\n",
    "\n",
    "def grid_search(order_combos,seasonal_order_combos, df, steps, modo):\n",
    "    lowest_rmse = 100000000000\n",
    "    \n",
    "    if modo == \"ARIMA\":\n",
    "        for order_combo in order_combos:\n",
    "            #Generate the ARIMA model\n",
    "            rmse,model_fit, prediction  = seasonal_arima_model(time_series = df, \n",
    "                                                        order = order_combo, \n",
    "                                                        steps=steps,\n",
    "                                                        modo=modo)\n",
    "            print(\"order-- \", order_combo, \", lowest_rmse--\",rmse)\n",
    "            if (rmse < lowest_rmse):\n",
    "                lowest_rmse = rmse\n",
    "                best_model = model_fit\n",
    "                best_order = order_combo\n",
    "        melhor_conf = best_order\n",
    "        return lowest_rmse,melhor_conf\n",
    "                \n",
    "    elif modo == \"SARIMA\":\n",
    "        count=0\n",
    "        #Generate  model for each of hyperparameter combination in a loop\n",
    "        for order_combo in order_combos:\n",
    "            for seasonal_order_combo in seasonal_order_combos:\n",
    "                count +=1\n",
    "                print(round(count*100/total,2),\"%\")\n",
    "                #Convert the combination to list format\n",
    "                seasonal_order_combo = list(seasonal_order_combo)\n",
    "                #Generate the SARIMA model\n",
    "                rmse,model_fit, prediction  = seasonal_arima_model(time_series = df, \n",
    "                                                            order = order_combo, \n",
    "                                                            seasonal_order = seasonal_order_combo[0:4],\n",
    "                                                            trend = seasonal_order_combo[-1],\n",
    "                                                            steps=steps,\n",
    "                                                            modo=modo)\n",
    "                print(\"order-- \", order_combo, \", seasonal order-- \", seasonal_order_combo, \", lowest_rmse--\",rmse)\n",
    "                if (rmse < lowest_rmse):\n",
    "                    lowest_rmse = rmse\n",
    "                    best_model = model_fit\n",
    "                    best_order = order_combo\n",
    "                    best_seasonal_order = seasonal_order_combo\n",
    "\n",
    "                #print(\"Best model paramaters: order-- \", best_order, \", seasonal order-- \", best_seasonal_order, \", lowest_rmse--\",lowest_rmse)\n",
    "        melhor_conf = [best_order,tuple(best_seasonal_order[0:4]),best_seasonal_order[-1]]\n",
    "        return lowest_rmse, best_model,melhor_conf"
   ]
  },
  {
   "cell_type": "code",
   "execution_count": 19,
   "id": "382aa49f",
   "metadata": {},
   "outputs": [
    {
     "name": "stdout",
     "output_type": "stream",
     "text": [
      "0.39 %\n",
      "order--  (0, 0, 0) , seasonal order--  [0, 0, 0, 12, 'n'] , lowest_rmse-- 74.92033274528062\n",
      "0.78 %\n",
      "order--  (0, 0, 0) , seasonal order--  [0, 0, 0, 12, 'c'] , lowest_rmse-- 15.501967099437971\n",
      "1.17 %\n",
      "order--  (0, 0, 0) , seasonal order--  [0, 0, 0, 12, 't'] , lowest_rmse-- 42.40124798652617\n",
      "1.56 %\n",
      "order--  (0, 0, 0) , seasonal order--  [0, 0, 0, 12, 'ct'] , lowest_rmse-- 12.634809787211754\n",
      "1.95 %\n",
      "order--  (0, 0, 0) , seasonal order--  [0, 0, 1, 12, 'n'] , lowest_rmse-- 74.38626498788895\n",
      "2.34 %\n",
      "order--  (0, 0, 0) , seasonal order--  [0, 0, 1, 12, 'c'] , lowest_rmse-- 15.204614751443668\n",
      "2.73 %\n",
      "order--  (0, 0, 0) , seasonal order--  [0, 0, 1, 12, 't'] , lowest_rmse-- 42.39077593168014\n",
      "3.12 %\n",
      "order--  (0, 0, 0) , seasonal order--  [0, 0, 1, 12, 'ct'] , lowest_rmse-- 12.539752239445242\n",
      "3.52 %\n",
      "order--  (0, 0, 0) , seasonal order--  [0, 1, 0, 12, 'n'] , lowest_rmse-- 23.026169298030993\n",
      "3.91 %\n",
      "order--  (0, 0, 0) , seasonal order--  [0, 1, 0, 12, 'c'] , lowest_rmse-- 28.253456771759975\n",
      "4.3 %\n"
     ]
    },
    {
     "name": "stderr",
     "output_type": "stream",
     "text": [
      "C:\\Users\\alex\\anaconda3\\lib\\site-packages\\statsmodels\\base\\model.py:607: ConvergenceWarning: Maximum Likelihood optimization failed to converge. Check mle_retvals\n",
      "  warnings.warn(\"Maximum Likelihood optimization failed to \"\n"
     ]
    },
    {
     "name": "stdout",
     "output_type": "stream",
     "text": [
      "order--  (0, 0, 0) , seasonal order--  [0, 1, 0, 12, 't'] , lowest_rmse-- 37.56060655215969\n",
      "4.69 %\n"
     ]
    },
    {
     "name": "stderr",
     "output_type": "stream",
     "text": [
      "C:\\Users\\alex\\anaconda3\\lib\\site-packages\\statsmodels\\base\\model.py:607: ConvergenceWarning: Maximum Likelihood optimization failed to converge. Check mle_retvals\n",
      "  warnings.warn(\"Maximum Likelihood optimization failed to \"\n"
     ]
    },
    {
     "name": "stdout",
     "output_type": "stream",
     "text": [
      "order--  (0, 0, 0) , seasonal order--  [0, 1, 0, 12, 'ct'] , lowest_rmse-- 41.24628772850212\n",
      "5.08 %\n",
      "order--  (0, 0, 0) , seasonal order--  [0, 1, 1, 12, 'n'] , lowest_rmse-- 23.113577996534822\n",
      "5.47 %\n",
      "order--  (0, 0, 0) , seasonal order--  [0, 1, 1, 12, 'c'] , lowest_rmse-- 28.75901005460645\n",
      "5.86 %\n",
      "order--  (0, 0, 0) , seasonal order--  [0, 1, 1, 12, 't'] , lowest_rmse-- 37.33301961513271\n",
      "6.25 %\n",
      "order--  (0, 0, 0) , seasonal order--  [0, 1, 1, 12, 'ct'] , lowest_rmse-- 41.042702067850634\n",
      "6.64 %\n",
      "order--  (0, 0, 0) , seasonal order--  [1, 0, 0, 12, 'n'] , lowest_rmse-- 29.986961034064436\n",
      "7.03 %\n",
      "order--  (0, 0, 0) , seasonal order--  [1, 0, 0, 12, 'c'] , lowest_rmse-- 14.58804742792222\n",
      "7.42 %\n",
      "order--  (0, 0, 0) , seasonal order--  [1, 0, 0, 12, 't'] , lowest_rmse-- 38.09263664823761\n",
      "7.81 %\n",
      "order--  (0, 0, 0) , seasonal order--  [1, 0, 0, 12, 'ct'] , lowest_rmse-- 12.023659910994887\n",
      "8.2 %\n",
      "order--  (0, 0, 0) , seasonal order--  [1, 0, 1, 12, 'n'] , lowest_rmse-- 30.304466100333478\n",
      "8.59 %\n",
      "order--  (0, 0, 0) , seasonal order--  [1, 0, 1, 12, 'c'] , lowest_rmse-- 15.484204748655978\n",
      "8.98 %\n"
     ]
    },
    {
     "name": "stderr",
     "output_type": "stream",
     "text": [
      "C:\\Users\\alex\\anaconda3\\lib\\site-packages\\statsmodels\\base\\model.py:607: ConvergenceWarning: Maximum Likelihood optimization failed to converge. Check mle_retvals\n",
      "  warnings.warn(\"Maximum Likelihood optimization failed to \"\n"
     ]
    },
    {
     "name": "stdout",
     "output_type": "stream",
     "text": [
      "order--  (0, 0, 0) , seasonal order--  [1, 0, 1, 12, 't'] , lowest_rmse-- 37.675247256241725\n",
      "9.38 %\n",
      "order--  (0, 0, 0) , seasonal order--  [1, 0, 1, 12, 'ct'] , lowest_rmse-- 11.991897823066896\n",
      "9.77 %\n",
      "order--  (0, 0, 0) , seasonal order--  [1, 1, 0, 12, 'n'] , lowest_rmse-- 23.112465326146822\n",
      "10.16 %\n",
      "order--  (0, 0, 0) , seasonal order--  [1, 1, 0, 12, 'c'] , lowest_rmse-- 28.70020480507123\n",
      "10.55 %\n"
     ]
    },
    {
     "name": "stderr",
     "output_type": "stream",
     "text": [
      "C:\\Users\\alex\\anaconda3\\lib\\site-packages\\statsmodels\\base\\model.py:607: ConvergenceWarning: Maximum Likelihood optimization failed to converge. Check mle_retvals\n",
      "  warnings.warn(\"Maximum Likelihood optimization failed to \"\n"
     ]
    },
    {
     "name": "stdout",
     "output_type": "stream",
     "text": [
      "order--  (0, 0, 0) , seasonal order--  [1, 1, 0, 12, 't'] , lowest_rmse-- 37.417153941164756\n",
      "10.94 %\n",
      "order--  (0, 0, 0) , seasonal order--  [1, 1, 0, 12, 'ct'] , lowest_rmse-- 41.048993814698136\n",
      "11.33 %\n",
      "order--  (0, 0, 0) , seasonal order--  [1, 1, 1, 12, 'n'] , lowest_rmse-- 23.155737366724168\n",
      "11.72 %\n",
      "order--  (0, 0, 0) , seasonal order--  [1, 1, 1, 12, 'c'] , lowest_rmse-- 29.118215397586965\n",
      "12.11 %\n",
      "order--  (0, 0, 0) , seasonal order--  [1, 1, 1, 12, 't'] , lowest_rmse-- 37.07207238117567\n",
      "12.5 %\n"
     ]
    },
    {
     "name": "stderr",
     "output_type": "stream",
     "text": [
      "C:\\Users\\alex\\anaconda3\\lib\\site-packages\\statsmodels\\base\\model.py:607: ConvergenceWarning: Maximum Likelihood optimization failed to converge. Check mle_retvals\n",
      "  warnings.warn(\"Maximum Likelihood optimization failed to \"\n"
     ]
    },
    {
     "name": "stdout",
     "output_type": "stream",
     "text": [
      "order--  (0, 0, 0) , seasonal order--  [1, 1, 1, 12, 'ct'] , lowest_rmse-- 40.666867927784416\n",
      "12.89 %\n",
      "order--  (0, 0, 1) , seasonal order--  [0, 0, 0, 12, 'n'] , lowest_rmse-- 74.88342361012299\n",
      "13.28 %\n",
      "order--  (0, 0, 1) , seasonal order--  [0, 0, 0, 12, 'c'] , lowest_rmse-- 15.48715326817405\n",
      "13.67 %\n",
      "order--  (0, 0, 1) , seasonal order--  [0, 0, 0, 12, 't'] , lowest_rmse-- 42.391186264282034\n",
      "14.06 %\n",
      "order--  (0, 0, 1) , seasonal order--  [0, 0, 0, 12, 'ct'] , lowest_rmse-- 12.623668391422074\n",
      "14.45 %\n",
      "order--  (0, 0, 1) , seasonal order--  [0, 0, 1, 12, 'n'] , lowest_rmse-- 74.36682200690144\n",
      "14.84 %\n",
      "order--  (0, 0, 1) , seasonal order--  [0, 0, 1, 12, 'c'] , lowest_rmse-- 15.201736387026102\n",
      "15.23 %\n",
      "order--  (0, 0, 1) , seasonal order--  [0, 0, 1, 12, 't'] , lowest_rmse-- 42.37120582630273\n",
      "15.62 %\n"
     ]
    },
    {
     "name": "stderr",
     "output_type": "stream",
     "text": [
      "C:\\Users\\alex\\anaconda3\\lib\\site-packages\\statsmodels\\base\\model.py:607: ConvergenceWarning: Maximum Likelihood optimization failed to converge. Check mle_retvals\n",
      "  warnings.warn(\"Maximum Likelihood optimization failed to \"\n"
     ]
    },
    {
     "name": "stdout",
     "output_type": "stream",
     "text": [
      "order--  (0, 0, 1) , seasonal order--  [0, 0, 1, 12, 'ct'] , lowest_rmse-- 12.527894309705244\n",
      "16.02 %\n",
      "order--  (0, 0, 1) , seasonal order--  [0, 1, 0, 12, 'n'] , lowest_rmse-- 22.76800265541216\n",
      "16.41 %\n",
      "order--  (0, 0, 1) , seasonal order--  [0, 1, 0, 12, 'c'] , lowest_rmse-- 27.96265437421066\n",
      "16.8 %\n",
      "order--  (0, 0, 1) , seasonal order--  [0, 1, 0, 12, 't'] , lowest_rmse-- 36.04881336467169\n",
      "17.19 %\n",
      "order--  (0, 0, 1) , seasonal order--  [0, 1, 0, 12, 'ct'] , lowest_rmse-- 39.466327408835916\n",
      "17.58 %\n",
      "order--  (0, 0, 1) , seasonal order--  [0, 1, 1, 12, 'n'] , lowest_rmse-- 23.317630340321966\n",
      "17.97 %\n",
      "order--  (0, 0, 1) , seasonal order--  [0, 1, 1, 12, 'c'] , lowest_rmse-- 29.062748085130952\n",
      "18.36 %\n",
      "order--  (0, 0, 1) , seasonal order--  [0, 1, 1, 12, 't'] , lowest_rmse-- 35.92199070738702\n",
      "18.75 %\n",
      "order--  (0, 0, 1) , seasonal order--  [0, 1, 1, 12, 'ct'] , lowest_rmse-- 39.33801164022229\n",
      "19.14 %\n",
      "order--  (0, 0, 1) , seasonal order--  [1, 0, 0, 12, 'n'] , lowest_rmse-- 28.677096831196224\n",
      "19.53 %\n"
     ]
    },
    {
     "name": "stderr",
     "output_type": "stream",
     "text": [
      "C:\\Users\\alex\\anaconda3\\lib\\site-packages\\statsmodels\\base\\model.py:607: ConvergenceWarning: Maximum Likelihood optimization failed to converge. Check mle_retvals\n",
      "  warnings.warn(\"Maximum Likelihood optimization failed to \"\n"
     ]
    },
    {
     "name": "stdout",
     "output_type": "stream",
     "text": [
      "order--  (0, 0, 1) , seasonal order--  [1, 0, 0, 12, 'c'] , lowest_rmse-- 8.509156035711735\n",
      "19.92 %\n"
     ]
    },
    {
     "name": "stderr",
     "output_type": "stream",
     "text": [
      "C:\\Users\\alex\\anaconda3\\lib\\site-packages\\statsmodels\\base\\model.py:607: ConvergenceWarning: Maximum Likelihood optimization failed to converge. Check mle_retvals\n",
      "  warnings.warn(\"Maximum Likelihood optimization failed to \"\n"
     ]
    },
    {
     "name": "stdout",
     "output_type": "stream",
     "text": [
      "order--  (0, 0, 1) , seasonal order--  [1, 0, 0, 12, 't'] , lowest_rmse-- 37.56290169176523\n",
      "20.31 %\n",
      "order--  (0, 0, 1) , seasonal order--  [1, 0, 0, 12, 'ct'] , lowest_rmse-- 12.005739720599857\n",
      "20.7 %\n",
      "order--  (0, 0, 1) , seasonal order--  [1, 0, 1, 12, 'n'] , lowest_rmse-- 30.735031370641828\n",
      "21.09 %\n"
     ]
    },
    {
     "name": "stderr",
     "output_type": "stream",
     "text": [
      "C:\\Users\\alex\\anaconda3\\lib\\site-packages\\statsmodels\\base\\model.py:607: ConvergenceWarning: Maximum Likelihood optimization failed to converge. Check mle_retvals\n",
      "  warnings.warn(\"Maximum Likelihood optimization failed to \"\n"
     ]
    },
    {
     "name": "stdout",
     "output_type": "stream",
     "text": [
      "order--  (0, 0, 1) , seasonal order--  [1, 0, 1, 12, 'c'] , lowest_rmse-- 5.386648670225423\n",
      "21.48 %\n"
     ]
    },
    {
     "name": "stderr",
     "output_type": "stream",
     "text": [
      "C:\\Users\\alex\\anaconda3\\lib\\site-packages\\statsmodels\\base\\model.py:607: ConvergenceWarning: Maximum Likelihood optimization failed to converge. Check mle_retvals\n",
      "  warnings.warn(\"Maximum Likelihood optimization failed to \"\n"
     ]
    },
    {
     "name": "stdout",
     "output_type": "stream",
     "text": [
      "order--  (0, 0, 1) , seasonal order--  [1, 0, 1, 12, 't'] , lowest_rmse-- 19.999260357679987\n",
      "21.88 %\n"
     ]
    },
    {
     "name": "stderr",
     "output_type": "stream",
     "text": [
      "C:\\Users\\alex\\anaconda3\\lib\\site-packages\\statsmodels\\base\\model.py:607: ConvergenceWarning: Maximum Likelihood optimization failed to converge. Check mle_retvals\n",
      "  warnings.warn(\"Maximum Likelihood optimization failed to \"\n"
     ]
    },
    {
     "name": "stdout",
     "output_type": "stream",
     "text": [
      "order--  (0, 0, 1) , seasonal order--  [1, 0, 1, 12, 'ct'] , lowest_rmse-- 13.424042740188458\n",
      "22.27 %\n",
      "order--  (0, 0, 1) , seasonal order--  [1, 1, 0, 12, 'n'] , lowest_rmse-- 23.210099323563124\n",
      "22.66 %\n",
      "order--  (0, 0, 1) , seasonal order--  [1, 1, 0, 12, 'c'] , lowest_rmse-- 28.776021359834935\n",
      "23.05 %\n",
      "order--  (0, 0, 1) , seasonal order--  [1, 1, 0, 12, 't'] , lowest_rmse-- 36.95055480334861\n",
      "23.44 %\n",
      "order--  (0, 0, 1) , seasonal order--  [1, 1, 0, 12, 'ct'] , lowest_rmse-- 39.848597430859556\n",
      "23.83 %\n",
      "order--  (0, 0, 1) , seasonal order--  [1, 1, 1, 12, 'n'] , lowest_rmse-- 23.376349543046015\n",
      "24.22 %\n",
      "order--  (0, 0, 1) , seasonal order--  [1, 1, 1, 12, 'c'] , lowest_rmse-- 29.330403473629023\n",
      "24.61 %\n",
      "order--  (0, 0, 1) , seasonal order--  [1, 1, 1, 12, 't'] , lowest_rmse-- 37.09436037730365\n",
      "25.0 %\n",
      "order--  (0, 0, 1) , seasonal order--  [1, 1, 1, 12, 'ct'] , lowest_rmse-- 40.465314224908084\n",
      "25.39 %\n",
      "order--  (0, 1, 0) , seasonal order--  [0, 0, 0, 12, 'n'] , lowest_rmse-- 22.769913876418098\n",
      "25.78 %\n",
      "order--  (0, 1, 0) , seasonal order--  [0, 0, 0, 12, 'c'] , lowest_rmse-- 27.873473174468256\n",
      "26.17 %\n"
     ]
    },
    {
     "name": "stderr",
     "output_type": "stream",
     "text": [
      "C:\\Users\\alex\\anaconda3\\lib\\site-packages\\statsmodels\\base\\model.py:607: ConvergenceWarning: Maximum Likelihood optimization failed to converge. Check mle_retvals\n",
      "  warnings.warn(\"Maximum Likelihood optimization failed to \"\n"
     ]
    },
    {
     "name": "stdout",
     "output_type": "stream",
     "text": [
      "order--  (0, 1, 0) , seasonal order--  [0, 0, 0, 12, 't'] , lowest_rmse-- 37.11964380084813\n",
      "26.56 %\n"
     ]
    },
    {
     "name": "stderr",
     "output_type": "stream",
     "text": [
      "C:\\Users\\alex\\anaconda3\\lib\\site-packages\\statsmodels\\base\\model.py:607: ConvergenceWarning: Maximum Likelihood optimization failed to converge. Check mle_retvals\n",
      "  warnings.warn(\"Maximum Likelihood optimization failed to \"\n"
     ]
    },
    {
     "name": "stdout",
     "output_type": "stream",
     "text": [
      "order--  (0, 1, 0) , seasonal order--  [0, 0, 0, 12, 'ct'] , lowest_rmse-- 40.58101144463437\n",
      "26.95 %\n",
      "order--  (0, 1, 0) , seasonal order--  [0, 0, 1, 12, 'n'] , lowest_rmse-- 22.745291787192123\n",
      "27.34 %\n",
      "order--  (0, 1, 0) , seasonal order--  [0, 0, 1, 12, 'c'] , lowest_rmse-- 27.907664737607636\n",
      "27.73 %\n",
      "order--  (0, 1, 0) , seasonal order--  [0, 0, 1, 12, 't'] , lowest_rmse-- 37.07013205818\n",
      "28.12 %\n",
      "order--  (0, 1, 0) , seasonal order--  [0, 0, 1, 12, 'ct'] , lowest_rmse-- 40.53026479570639\n",
      "28.52 %\n",
      "order--  (0, 1, 0) , seasonal order--  [0, 1, 0, 12, 'n'] , lowest_rmse-- 95.64833121565526\n",
      "28.91 %\n",
      "order--  (0, 1, 0) , seasonal order--  [0, 1, 0, 12, 'c'] , lowest_rmse-- 105.19985881577492\n",
      "29.3 %\n"
     ]
    },
    {
     "name": "stderr",
     "output_type": "stream",
     "text": [
      "C:\\Users\\alex\\anaconda3\\lib\\site-packages\\statsmodels\\base\\model.py:607: ConvergenceWarning: Maximum Likelihood optimization failed to converge. Check mle_retvals\n",
      "  warnings.warn(\"Maximum Likelihood optimization failed to \"\n"
     ]
    },
    {
     "name": "stdout",
     "output_type": "stream",
     "text": [
      "order--  (0, 1, 0) , seasonal order--  [0, 1, 0, 12, 't'] , lowest_rmse-- 133.73596992542093\n",
      "29.69 %\n"
     ]
    },
    {
     "name": "stderr",
     "output_type": "stream",
     "text": [
      "C:\\Users\\alex\\anaconda3\\lib\\site-packages\\statsmodels\\base\\model.py:607: ConvergenceWarning: Maximum Likelihood optimization failed to converge. Check mle_retvals\n",
      "  warnings.warn(\"Maximum Likelihood optimization failed to \"\n"
     ]
    },
    {
     "name": "stdout",
     "output_type": "stream",
     "text": [
      "order--  (0, 1, 0) , seasonal order--  [0, 1, 0, 12, 'ct'] , lowest_rmse-- 149.97075620658674\n",
      "30.08 %\n",
      "order--  (0, 1, 0) , seasonal order--  [0, 1, 1, 12, 'n'] , lowest_rmse-- 28.047152925717395\n",
      "30.47 %\n",
      "order--  (0, 1, 0) , seasonal order--  [0, 1, 1, 12, 'c'] , lowest_rmse-- 40.1069914603828\n",
      "30.86 %\n"
     ]
    },
    {
     "name": "stderr",
     "output_type": "stream",
     "text": [
      "C:\\Users\\alex\\anaconda3\\lib\\site-packages\\statsmodels\\base\\model.py:607: ConvergenceWarning: Maximum Likelihood optimization failed to converge. Check mle_retvals\n",
      "  warnings.warn(\"Maximum Likelihood optimization failed to \"\n"
     ]
    },
    {
     "name": "stdout",
     "output_type": "stream",
     "text": [
      "order--  (0, 1, 0) , seasonal order--  [0, 1, 1, 12, 't'] , lowest_rmse-- 42.9735879642214\n",
      "31.25 %\n"
     ]
    },
    {
     "name": "stderr",
     "output_type": "stream",
     "text": [
      "C:\\Users\\alex\\anaconda3\\lib\\site-packages\\statsmodels\\base\\model.py:607: ConvergenceWarning: Maximum Likelihood optimization failed to converge. Check mle_retvals\n",
      "  warnings.warn(\"Maximum Likelihood optimization failed to \"\n"
     ]
    },
    {
     "name": "stdout",
     "output_type": "stream",
     "text": [
      "order--  (0, 1, 0) , seasonal order--  [0, 1, 1, 12, 'ct'] , lowest_rmse-- 60.355181097693546\n",
      "31.64 %\n",
      "order--  (0, 1, 0) , seasonal order--  [1, 0, 0, 12, 'n'] , lowest_rmse-- 22.74396975197918\n",
      "32.03 %\n",
      "order--  (0, 1, 0) , seasonal order--  [1, 0, 0, 12, 'c'] , lowest_rmse-- 27.956939335347577\n",
      "32.42 %\n"
     ]
    },
    {
     "name": "stderr",
     "output_type": "stream",
     "text": [
      "C:\\Users\\alex\\anaconda3\\lib\\site-packages\\statsmodels\\base\\model.py:607: ConvergenceWarning: Maximum Likelihood optimization failed to converge. Check mle_retvals\n",
      "  warnings.warn(\"Maximum Likelihood optimization failed to \"\n"
     ]
    },
    {
     "name": "stdout",
     "output_type": "stream",
     "text": [
      "order--  (0, 1, 0) , seasonal order--  [1, 0, 0, 12, 't'] , lowest_rmse-- 37.07280794480723\n",
      "32.81 %\n",
      "order--  (0, 1, 0) , seasonal order--  [1, 0, 0, 12, 'ct'] , lowest_rmse-- 40.576507930529395\n",
      "33.2 %\n",
      "order--  (0, 1, 0) , seasonal order--  [1, 0, 1, 12, 'n'] , lowest_rmse-- 22.75618366624242\n",
      "33.59 %\n",
      "order--  (0, 1, 0) , seasonal order--  [1, 0, 1, 12, 'c'] , lowest_rmse-- 27.76169847502173\n",
      "33.98 %\n"
     ]
    },
    {
     "name": "stderr",
     "output_type": "stream",
     "text": [
      "C:\\Users\\alex\\anaconda3\\lib\\site-packages\\statsmodels\\base\\model.py:607: ConvergenceWarning: Maximum Likelihood optimization failed to converge. Check mle_retvals\n",
      "  warnings.warn(\"Maximum Likelihood optimization failed to \"\n"
     ]
    },
    {
     "name": "stdout",
     "output_type": "stream",
     "text": [
      "order--  (0, 1, 0) , seasonal order--  [1, 0, 1, 12, 't'] , lowest_rmse-- 35.49617781729941\n",
      "34.38 %\n"
     ]
    },
    {
     "name": "stderr",
     "output_type": "stream",
     "text": [
      "C:\\Users\\alex\\anaconda3\\lib\\site-packages\\statsmodels\\base\\model.py:607: ConvergenceWarning: Maximum Likelihood optimization failed to converge. Check mle_retvals\n",
      "  warnings.warn(\"Maximum Likelihood optimization failed to \"\n"
     ]
    },
    {
     "name": "stdout",
     "output_type": "stream",
     "text": [
      "order--  (0, 1, 0) , seasonal order--  [1, 0, 1, 12, 'ct'] , lowest_rmse-- 38.57092518681071\n",
      "34.77 %\n",
      "order--  (0, 1, 0) , seasonal order--  [1, 1, 0, 12, 'n'] , lowest_rmse-- 145.88008516759086\n",
      "35.16 %\n",
      "order--  (0, 1, 0) , seasonal order--  [1, 1, 0, 12, 'c'] , lowest_rmse-- 147.47932217894896\n",
      "35.55 %\n",
      "order--  (0, 1, 0) , seasonal order--  [1, 1, 0, 12, 't'] , lowest_rmse-- 213.23765560749337\n",
      "35.94 %\n"
     ]
    },
    {
     "name": "stderr",
     "output_type": "stream",
     "text": [
      "C:\\Users\\alex\\anaconda3\\lib\\site-packages\\statsmodels\\base\\model.py:607: ConvergenceWarning: Maximum Likelihood optimization failed to converge. Check mle_retvals\n",
      "  warnings.warn(\"Maximum Likelihood optimization failed to \"\n"
     ]
    },
    {
     "name": "stdout",
     "output_type": "stream",
     "text": [
      "order--  (0, 1, 0) , seasonal order--  [1, 1, 0, 12, 'ct'] , lowest_rmse-- 224.0673192056143\n",
      "36.33 %\n",
      "order--  (0, 1, 0) , seasonal order--  [1, 1, 1, 12, 'n'] , lowest_rmse-- 28.04716681269008\n",
      "36.72 %\n",
      "order--  (0, 1, 0) , seasonal order--  [1, 1, 1, 12, 'c'] , lowest_rmse-- 38.361837187523506\n",
      "37.11 %\n"
     ]
    },
    {
     "name": "stderr",
     "output_type": "stream",
     "text": [
      "C:\\Users\\alex\\anaconda3\\lib\\site-packages\\statsmodels\\base\\model.py:607: ConvergenceWarning: Maximum Likelihood optimization failed to converge. Check mle_retvals\n",
      "  warnings.warn(\"Maximum Likelihood optimization failed to \"\n"
     ]
    },
    {
     "name": "stdout",
     "output_type": "stream",
     "text": [
      "order--  (0, 1, 0) , seasonal order--  [1, 1, 1, 12, 't'] , lowest_rmse-- 61.91029576317689\n",
      "37.5 %\n"
     ]
    },
    {
     "name": "stderr",
     "output_type": "stream",
     "text": [
      "C:\\Users\\alex\\anaconda3\\lib\\site-packages\\statsmodels\\base\\model.py:607: ConvergenceWarning: Maximum Likelihood optimization failed to converge. Check mle_retvals\n",
      "  warnings.warn(\"Maximum Likelihood optimization failed to \"\n"
     ]
    },
    {
     "name": "stdout",
     "output_type": "stream",
     "text": [
      "order--  (0, 1, 0) , seasonal order--  [1, 1, 1, 12, 'ct'] , lowest_rmse-- 77.895964665662\n",
      "37.89 %\n",
      "order--  (0, 1, 1) , seasonal order--  [0, 0, 0, 12, 'n'] , lowest_rmse-- 22.742641304210164\n",
      "38.28 %\n",
      "order--  (0, 1, 1) , seasonal order--  [0, 0, 0, 12, 'c'] , lowest_rmse-- 27.84891557914474\n",
      "38.67 %\n"
     ]
    },
    {
     "name": "stderr",
     "output_type": "stream",
     "text": [
      "C:\\Users\\alex\\anaconda3\\lib\\site-packages\\statsmodels\\base\\model.py:607: ConvergenceWarning: Maximum Likelihood optimization failed to converge. Check mle_retvals\n",
      "  warnings.warn(\"Maximum Likelihood optimization failed to \"\n"
     ]
    },
    {
     "name": "stdout",
     "output_type": "stream",
     "text": [
      "order--  (0, 1, 1) , seasonal order--  [0, 0, 0, 12, 't'] , lowest_rmse-- 36.893267934420116\n",
      "39.06 %\n"
     ]
    },
    {
     "name": "stderr",
     "output_type": "stream",
     "text": [
      "C:\\Users\\alex\\anaconda3\\lib\\site-packages\\statsmodels\\base\\model.py:607: ConvergenceWarning: Maximum Likelihood optimization failed to converge. Check mle_retvals\n",
      "  warnings.warn(\"Maximum Likelihood optimization failed to \"\n"
     ]
    },
    {
     "name": "stdout",
     "output_type": "stream",
     "text": [
      "order--  (0, 1, 1) , seasonal order--  [0, 0, 0, 12, 'ct'] , lowest_rmse-- 40.41821260373193\n",
      "39.45 %\n",
      "order--  (0, 1, 1) , seasonal order--  [0, 0, 1, 12, 'n'] , lowest_rmse-- 22.717477731810266\n",
      "39.84 %\n",
      "order--  (0, 1, 1) , seasonal order--  [0, 0, 1, 12, 'c'] , lowest_rmse-- 27.838673377568163\n",
      "40.23 %\n"
     ]
    },
    {
     "name": "stderr",
     "output_type": "stream",
     "text": [
      "C:\\Users\\alex\\anaconda3\\lib\\site-packages\\statsmodels\\base\\model.py:607: ConvergenceWarning: Maximum Likelihood optimization failed to converge. Check mle_retvals\n",
      "  warnings.warn(\"Maximum Likelihood optimization failed to \"\n"
     ]
    },
    {
     "name": "stdout",
     "output_type": "stream",
     "text": [
      "order--  (0, 1, 1) , seasonal order--  [0, 0, 1, 12, 't'] , lowest_rmse-- 36.85605652761031\n",
      "40.62 %\n"
     ]
    },
    {
     "name": "stderr",
     "output_type": "stream",
     "text": [
      "C:\\Users\\alex\\anaconda3\\lib\\site-packages\\statsmodels\\base\\model.py:607: ConvergenceWarning: Maximum Likelihood optimization failed to converge. Check mle_retvals\n",
      "  warnings.warn(\"Maximum Likelihood optimization failed to \"\n"
     ]
    },
    {
     "name": "stdout",
     "output_type": "stream",
     "text": [
      "order--  (0, 1, 1) , seasonal order--  [0, 0, 1, 12, 'ct'] , lowest_rmse-- 40.380274916231876\n",
      "41.02 %\n",
      "order--  (0, 1, 1) , seasonal order--  [0, 1, 0, 12, 'n'] , lowest_rmse-- 98.2563537754386\n",
      "41.41 %\n",
      "order--  (0, 1, 1) , seasonal order--  [0, 1, 0, 12, 'c'] , lowest_rmse-- 109.428278518736\n",
      "41.8 %\n"
     ]
    },
    {
     "name": "stderr",
     "output_type": "stream",
     "text": [
      "C:\\Users\\alex\\anaconda3\\lib\\site-packages\\statsmodels\\base\\model.py:607: ConvergenceWarning: Maximum Likelihood optimization failed to converge. Check mle_retvals\n",
      "  warnings.warn(\"Maximum Likelihood optimization failed to \"\n"
     ]
    },
    {
     "name": "stdout",
     "output_type": "stream",
     "text": [
      "order--  (0, 1, 1) , seasonal order--  [0, 1, 0, 12, 't'] , lowest_rmse-- 136.58525700602672\n",
      "42.19 %\n",
      "order--  (0, 1, 1) , seasonal order--  [0, 1, 0, 12, 'ct'] , lowest_rmse-- 147.01704519902358\n",
      "42.58 %\n",
      "order--  (0, 1, 1) , seasonal order--  [0, 1, 1, 12, 'n'] , lowest_rmse-- 27.93451689210137\n",
      "42.97 %\n",
      "order--  (0, 1, 1) , seasonal order--  [0, 1, 1, 12, 'c'] , lowest_rmse-- 40.618716155241486\n",
      "43.36 %\n"
     ]
    },
    {
     "name": "stderr",
     "output_type": "stream",
     "text": [
      "C:\\Users\\alex\\anaconda3\\lib\\site-packages\\statsmodels\\base\\model.py:607: ConvergenceWarning: Maximum Likelihood optimization failed to converge. Check mle_retvals\n",
      "  warnings.warn(\"Maximum Likelihood optimization failed to \"\n"
     ]
    },
    {
     "name": "stdout",
     "output_type": "stream",
     "text": [
      "order--  (0, 1, 1) , seasonal order--  [0, 1, 1, 12, 't'] , lowest_rmse-- 43.78284515615155\n",
      "43.75 %\n"
     ]
    },
    {
     "name": "stderr",
     "output_type": "stream",
     "text": [
      "C:\\Users\\alex\\anaconda3\\lib\\site-packages\\statsmodels\\base\\model.py:607: ConvergenceWarning: Maximum Likelihood optimization failed to converge. Check mle_retvals\n",
      "  warnings.warn(\"Maximum Likelihood optimization failed to \"\n"
     ]
    },
    {
     "name": "stdout",
     "output_type": "stream",
     "text": [
      "order--  (0, 1, 1) , seasonal order--  [0, 1, 1, 12, 'ct'] , lowest_rmse-- 54.95947857139575\n",
      "44.14 %\n",
      "order--  (0, 1, 1) , seasonal order--  [1, 0, 0, 12, 'n'] , lowest_rmse-- 22.716259929884757\n",
      "44.53 %\n",
      "order--  (0, 1, 1) , seasonal order--  [1, 0, 0, 12, 'c'] , lowest_rmse-- 27.92115299895359\n",
      "44.92 %\n"
     ]
    },
    {
     "name": "stderr",
     "output_type": "stream",
     "text": [
      "C:\\Users\\alex\\anaconda3\\lib\\site-packages\\statsmodels\\base\\model.py:607: ConvergenceWarning: Maximum Likelihood optimization failed to converge. Check mle_retvals\n",
      "  warnings.warn(\"Maximum Likelihood optimization failed to \"\n"
     ]
    },
    {
     "name": "stdout",
     "output_type": "stream",
     "text": [
      "order--  (0, 1, 1) , seasonal order--  [1, 0, 0, 12, 't'] , lowest_rmse-- 37.04146574381096\n",
      "45.31 %\n",
      "order--  (0, 1, 1) , seasonal order--  [1, 0, 0, 12, 'ct'] , lowest_rmse-- 40.60748984682433\n",
      "45.7 %\n",
      "order--  (0, 1, 1) , seasonal order--  [1, 0, 1, 12, 'n'] , lowest_rmse-- 22.749609224924924\n",
      "46.09 %\n",
      "order--  (0, 1, 1) , seasonal order--  [1, 0, 1, 12, 'c'] , lowest_rmse-- 27.753411770127762\n",
      "46.48 %\n"
     ]
    },
    {
     "name": "stderr",
     "output_type": "stream",
     "text": [
      "C:\\Users\\alex\\anaconda3\\lib\\site-packages\\statsmodels\\base\\model.py:607: ConvergenceWarning: Maximum Likelihood optimization failed to converge. Check mle_retvals\n",
      "  warnings.warn(\"Maximum Likelihood optimization failed to \"\n"
     ]
    },
    {
     "name": "stdout",
     "output_type": "stream",
     "text": [
      "order--  (0, 1, 1) , seasonal order--  [1, 0, 1, 12, 't'] , lowest_rmse-- 35.291625300587704\n",
      "46.88 %\n"
     ]
    },
    {
     "name": "stderr",
     "output_type": "stream",
     "text": [
      "C:\\Users\\alex\\anaconda3\\lib\\site-packages\\statsmodels\\base\\model.py:607: ConvergenceWarning: Maximum Likelihood optimization failed to converge. Check mle_retvals\n",
      "  warnings.warn(\"Maximum Likelihood optimization failed to \"\n"
     ]
    },
    {
     "name": "stdout",
     "output_type": "stream",
     "text": [
      "order--  (0, 1, 1) , seasonal order--  [1, 0, 1, 12, 'ct'] , lowest_rmse-- 38.422855336634655\n",
      "47.27 %\n",
      "order--  (0, 1, 1) , seasonal order--  [1, 1, 0, 12, 'n'] , lowest_rmse-- 146.1086320587023\n",
      "47.66 %\n",
      "order--  (0, 1, 1) , seasonal order--  [1, 1, 0, 12, 'c'] , lowest_rmse-- 147.69536768118624\n",
      "48.05 %\n"
     ]
    },
    {
     "name": "stderr",
     "output_type": "stream",
     "text": [
      "C:\\Users\\alex\\anaconda3\\lib\\site-packages\\statsmodels\\base\\model.py:607: ConvergenceWarning: Maximum Likelihood optimization failed to converge. Check mle_retvals\n",
      "  warnings.warn(\"Maximum Likelihood optimization failed to \"\n"
     ]
    },
    {
     "name": "stdout",
     "output_type": "stream",
     "text": [
      "order--  (0, 1, 1) , seasonal order--  [1, 1, 0, 12, 't'] , lowest_rmse-- 214.94577788420648\n",
      "48.44 %\n"
     ]
    },
    {
     "name": "stderr",
     "output_type": "stream",
     "text": [
      "C:\\Users\\alex\\anaconda3\\lib\\site-packages\\statsmodels\\base\\model.py:607: ConvergenceWarning: Maximum Likelihood optimization failed to converge. Check mle_retvals\n",
      "  warnings.warn(\"Maximum Likelihood optimization failed to \"\n"
     ]
    },
    {
     "name": "stdout",
     "output_type": "stream",
     "text": [
      "order--  (0, 1, 1) , seasonal order--  [1, 1, 0, 12, 'ct'] , lowest_rmse-- 221.90405333628723\n",
      "48.83 %\n",
      "order--  (0, 1, 1) , seasonal order--  [1, 1, 1, 12, 'n'] , lowest_rmse-- 27.934533569169286\n",
      "49.22 %\n",
      "order--  (0, 1, 1) , seasonal order--  [1, 1, 1, 12, 'c'] , lowest_rmse-- 40.31447222836043\n",
      "49.61 %\n"
     ]
    },
    {
     "name": "stderr",
     "output_type": "stream",
     "text": [
      "C:\\Users\\alex\\anaconda3\\lib\\site-packages\\statsmodels\\base\\model.py:607: ConvergenceWarning: Maximum Likelihood optimization failed to converge. Check mle_retvals\n",
      "  warnings.warn(\"Maximum Likelihood optimization failed to \"\n"
     ]
    },
    {
     "name": "stdout",
     "output_type": "stream",
     "text": [
      "order--  (0, 1, 1) , seasonal order--  [1, 1, 1, 12, 't'] , lowest_rmse-- 62.818039517930906\n",
      "50.0 %\n"
     ]
    },
    {
     "name": "stderr",
     "output_type": "stream",
     "text": [
      "C:\\Users\\alex\\anaconda3\\lib\\site-packages\\statsmodels\\base\\model.py:607: ConvergenceWarning: Maximum Likelihood optimization failed to converge. Check mle_retvals\n",
      "  warnings.warn(\"Maximum Likelihood optimization failed to \"\n"
     ]
    },
    {
     "name": "stdout",
     "output_type": "stream",
     "text": [
      "order--  (0, 1, 1) , seasonal order--  [1, 1, 1, 12, 'ct'] , lowest_rmse-- 73.09592578385426\n",
      "50.39 %\n",
      "order--  (1, 0, 0) , seasonal order--  [0, 0, 0, 12, 'n'] , lowest_rmse-- 29.754747490233946\n",
      "50.78 %\n",
      "order--  (1, 0, 0) , seasonal order--  [0, 0, 0, 12, 'c'] , lowest_rmse-- 15.725959500759581\n",
      "51.17 %\n"
     ]
    },
    {
     "name": "stderr",
     "output_type": "stream",
     "text": [
      "C:\\Users\\alex\\anaconda3\\lib\\site-packages\\statsmodels\\base\\model.py:607: ConvergenceWarning: Maximum Likelihood optimization failed to converge. Check mle_retvals\n",
      "  warnings.warn(\"Maximum Likelihood optimization failed to \"\n"
     ]
    },
    {
     "name": "stdout",
     "output_type": "stream",
     "text": [
      "order--  (1, 0, 0) , seasonal order--  [0, 0, 0, 12, 't'] , lowest_rmse-- 38.246718054502566\n",
      "51.56 %\n"
     ]
    },
    {
     "name": "stderr",
     "output_type": "stream",
     "text": [
      "C:\\Users\\alex\\anaconda3\\lib\\site-packages\\statsmodels\\base\\model.py:607: ConvergenceWarning: Maximum Likelihood optimization failed to converge. Check mle_retvals\n",
      "  warnings.warn(\"Maximum Likelihood optimization failed to \"\n"
     ]
    },
    {
     "name": "stdout",
     "output_type": "stream",
     "text": [
      "order--  (1, 0, 0) , seasonal order--  [0, 0, 0, 12, 'ct'] , lowest_rmse-- 17.636519563436178\n",
      "51.95 %\n"
     ]
    },
    {
     "name": "stderr",
     "output_type": "stream",
     "text": [
      "C:\\Users\\alex\\anaconda3\\lib\\site-packages\\statsmodels\\base\\model.py:607: ConvergenceWarning: Maximum Likelihood optimization failed to converge. Check mle_retvals\n",
      "  warnings.warn(\"Maximum Likelihood optimization failed to \"\n"
     ]
    },
    {
     "name": "stdout",
     "output_type": "stream",
     "text": [
      "order--  (1, 0, 0) , seasonal order--  [0, 0, 1, 12, 'n'] , lowest_rmse-- 30.73344985368073\n",
      "52.34 %\n"
     ]
    },
    {
     "name": "stderr",
     "output_type": "stream",
     "text": [
      "C:\\Users\\alex\\anaconda3\\lib\\site-packages\\statsmodels\\base\\model.py:607: ConvergenceWarning: Maximum Likelihood optimization failed to converge. Check mle_retvals\n",
      "  warnings.warn(\"Maximum Likelihood optimization failed to \"\n"
     ]
    },
    {
     "name": "stdout",
     "output_type": "stream",
     "text": [
      "order--  (1, 0, 0) , seasonal order--  [0, 0, 1, 12, 'c'] , lowest_rmse-- 5.173262408123275\n",
      "52.73 %\n"
     ]
    },
    {
     "name": "stderr",
     "output_type": "stream",
     "text": [
      "C:\\Users\\alex\\anaconda3\\lib\\site-packages\\statsmodels\\base\\model.py:607: ConvergenceWarning: Maximum Likelihood optimization failed to converge. Check mle_retvals\n",
      "  warnings.warn(\"Maximum Likelihood optimization failed to \"\n"
     ]
    },
    {
     "name": "stdout",
     "output_type": "stream",
     "text": [
      "order--  (1, 0, 0) , seasonal order--  [0, 0, 1, 12, 't'] , lowest_rmse-- 41.3113087506498\n",
      "53.12 %\n"
     ]
    },
    {
     "name": "stderr",
     "output_type": "stream",
     "text": [
      "C:\\Users\\alex\\anaconda3\\lib\\site-packages\\statsmodels\\base\\model.py:607: ConvergenceWarning: Maximum Likelihood optimization failed to converge. Check mle_retvals\n",
      "  warnings.warn(\"Maximum Likelihood optimization failed to \"\n"
     ]
    },
    {
     "name": "stdout",
     "output_type": "stream",
     "text": [
      "order--  (1, 0, 0) , seasonal order--  [0, 0, 1, 12, 'ct'] , lowest_rmse-- 18.307032900328014\n",
      "53.52 %\n",
      "order--  (1, 0, 0) , seasonal order--  [0, 1, 0, 12, 'n'] , lowest_rmse-- 20.971313774738682\n",
      "53.91 %\n",
      "order--  (1, 0, 0) , seasonal order--  [0, 1, 0, 12, 'c'] , lowest_rmse-- 25.776784802079163\n",
      "54.3 %\n",
      "order--  (1, 0, 0) , seasonal order--  [0, 1, 0, 12, 't'] , lowest_rmse-- 34.12054604524016\n",
      "54.69 %\n",
      "order--  (1, 0, 0) , seasonal order--  [0, 1, 0, 12, 'ct'] , lowest_rmse-- 37.267963010927254\n",
      "55.08 %\n",
      "order--  (1, 0, 0) , seasonal order--  [0, 1, 1, 12, 'n'] , lowest_rmse-- 15.784727355392931\n",
      "55.47 %\n",
      "order--  (1, 0, 0) , seasonal order--  [0, 1, 1, 12, 'c'] , lowest_rmse-- 17.562466751677167\n",
      "55.86 %\n",
      "order--  (1, 0, 0) , seasonal order--  [0, 1, 1, 12, 't'] , lowest_rmse-- 34.095883011866704\n",
      "56.25 %\n"
     ]
    },
    {
     "name": "stderr",
     "output_type": "stream",
     "text": [
      "C:\\Users\\alex\\anaconda3\\lib\\site-packages\\statsmodels\\base\\model.py:607: ConvergenceWarning: Maximum Likelihood optimization failed to converge. Check mle_retvals\n",
      "  warnings.warn(\"Maximum Likelihood optimization failed to \"\n"
     ]
    },
    {
     "name": "stdout",
     "output_type": "stream",
     "text": [
      "order--  (1, 0, 0) , seasonal order--  [0, 1, 1, 12, 'ct'] , lowest_rmse-- 37.24164139192193\n",
      "56.64 %\n",
      "order--  (1, 0, 0) , seasonal order--  [1, 0, 0, 12, 'n'] , lowest_rmse-- 29.531679994995386\n",
      "57.03 %\n",
      "order--  (1, 0, 0) , seasonal order--  [1, 0, 0, 12, 'c'] , lowest_rmse-- 13.826692672436614\n",
      "57.42 %\n"
     ]
    },
    {
     "name": "stderr",
     "output_type": "stream",
     "text": [
      "C:\\Users\\alex\\anaconda3\\lib\\site-packages\\statsmodels\\base\\model.py:607: ConvergenceWarning: Maximum Likelihood optimization failed to converge. Check mle_retvals\n",
      "  warnings.warn(\"Maximum Likelihood optimization failed to \"\n"
     ]
    },
    {
     "name": "stdout",
     "output_type": "stream",
     "text": [
      "order--  (1, 0, 0) , seasonal order--  [1, 0, 0, 12, 't'] , lowest_rmse-- 41.83135276411614\n",
      "57.81 %\n",
      "order--  (1, 0, 0) , seasonal order--  [1, 0, 0, 12, 'ct'] , lowest_rmse-- 16.251514397606883\n",
      "58.2 %\n"
     ]
    },
    {
     "name": "stderr",
     "output_type": "stream",
     "text": [
      "C:\\Users\\alex\\anaconda3\\lib\\site-packages\\statsmodels\\base\\model.py:607: ConvergenceWarning: Maximum Likelihood optimization failed to converge. Check mle_retvals\n",
      "  warnings.warn(\"Maximum Likelihood optimization failed to \"\n"
     ]
    },
    {
     "name": "stdout",
     "output_type": "stream",
     "text": [
      "order--  (1, 0, 0) , seasonal order--  [1, 0, 1, 12, 'n'] , lowest_rmse-- 30.108677688315726\n",
      "58.59 %\n",
      "order--  (1, 0, 0) , seasonal order--  [1, 0, 1, 12, 'c'] , lowest_rmse-- 12.063015791086697\n",
      "58.98 %\n",
      "order--  (1, 0, 0) , seasonal order--  [1, 0, 1, 12, 't'] , lowest_rmse-- 38.18320848722852\n",
      "59.38 %\n",
      "order--  (1, 0, 0) , seasonal order--  [1, 0, 1, 12, 'ct'] , lowest_rmse-- 8.90038398810541\n",
      "59.77 %\n",
      "order--  (1, 0, 0) , seasonal order--  [1, 1, 0, 12, 'n'] , lowest_rmse-- 19.27188940967513\n",
      "60.16 %\n",
      "order--  (1, 0, 0) , seasonal order--  [1, 1, 0, 12, 'c'] , lowest_rmse-- 24.760273734586306\n",
      "60.55 %\n"
     ]
    },
    {
     "name": "stderr",
     "output_type": "stream",
     "text": [
      "C:\\Users\\alex\\anaconda3\\lib\\site-packages\\statsmodels\\base\\model.py:607: ConvergenceWarning: Maximum Likelihood optimization failed to converge. Check mle_retvals\n",
      "  warnings.warn(\"Maximum Likelihood optimization failed to \"\n"
     ]
    },
    {
     "name": "stdout",
     "output_type": "stream",
     "text": [
      "order--  (1, 0, 0) , seasonal order--  [1, 1, 0, 12, 't'] , lowest_rmse-- 33.92185913037848\n",
      "60.94 %\n"
     ]
    },
    {
     "name": "stderr",
     "output_type": "stream",
     "text": [
      "C:\\Users\\alex\\anaconda3\\lib\\site-packages\\statsmodels\\base\\model.py:607: ConvergenceWarning: Maximum Likelihood optimization failed to converge. Check mle_retvals\n",
      "  warnings.warn(\"Maximum Likelihood optimization failed to \"\n"
     ]
    },
    {
     "name": "stdout",
     "output_type": "stream",
     "text": [
      "order--  (1, 0, 0) , seasonal order--  [1, 1, 0, 12, 'ct'] , lowest_rmse-- 36.99425151267343\n",
      "61.33 %\n",
      "order--  (1, 0, 0) , seasonal order--  [1, 1, 1, 12, 'n'] , lowest_rmse-- 15.811084011856613\n",
      "61.72 %\n",
      "order--  (1, 0, 0) , seasonal order--  [1, 1, 1, 12, 'c'] , lowest_rmse-- 17.590875557299654\n",
      "62.11 %\n"
     ]
    },
    {
     "name": "stderr",
     "output_type": "stream",
     "text": [
      "C:\\Users\\alex\\anaconda3\\lib\\site-packages\\statsmodels\\base\\model.py:607: ConvergenceWarning: Maximum Likelihood optimization failed to converge. Check mle_retvals\n",
      "  warnings.warn(\"Maximum Likelihood optimization failed to \"\n"
     ]
    },
    {
     "name": "stdout",
     "output_type": "stream",
     "text": [
      "order--  (1, 0, 0) , seasonal order--  [1, 1, 1, 12, 't'] , lowest_rmse-- 33.75933381552671\n",
      "62.5 %\n"
     ]
    },
    {
     "name": "stderr",
     "output_type": "stream",
     "text": [
      "C:\\Users\\alex\\anaconda3\\lib\\site-packages\\statsmodels\\base\\model.py:607: ConvergenceWarning: Maximum Likelihood optimization failed to converge. Check mle_retvals\n",
      "  warnings.warn(\"Maximum Likelihood optimization failed to \"\n"
     ]
    },
    {
     "name": "stdout",
     "output_type": "stream",
     "text": [
      "order--  (1, 0, 0) , seasonal order--  [1, 1, 1, 12, 'ct'] , lowest_rmse-- 36.79980736724931\n",
      "62.89 %\n",
      "order--  (1, 0, 1) , seasonal order--  [0, 0, 0, 12, 'n'] , lowest_rmse-- 29.502132145478125\n",
      "63.28 %\n",
      "order--  (1, 0, 1) , seasonal order--  [0, 0, 0, 12, 'c'] , lowest_rmse-- 15.134085387028652\n",
      "63.67 %\n"
     ]
    },
    {
     "name": "stderr",
     "output_type": "stream",
     "text": [
      "C:\\Users\\alex\\anaconda3\\lib\\site-packages\\statsmodels\\base\\model.py:607: ConvergenceWarning: Maximum Likelihood optimization failed to converge. Check mle_retvals\n",
      "  warnings.warn(\"Maximum Likelihood optimization failed to \"\n"
     ]
    },
    {
     "name": "stdout",
     "output_type": "stream",
     "text": [
      "order--  (1, 0, 1) , seasonal order--  [0, 0, 0, 12, 't'] , lowest_rmse-- 38.17669011297336\n",
      "64.06 %\n"
     ]
    },
    {
     "name": "stderr",
     "output_type": "stream",
     "text": [
      "C:\\Users\\alex\\anaconda3\\lib\\site-packages\\statsmodels\\base\\model.py:607: ConvergenceWarning: Maximum Likelihood optimization failed to converge. Check mle_retvals\n",
      "  warnings.warn(\"Maximum Likelihood optimization failed to \"\n"
     ]
    },
    {
     "name": "stdout",
     "output_type": "stream",
     "text": [
      "order--  (1, 0, 1) , seasonal order--  [0, 0, 0, 12, 'ct'] , lowest_rmse-- 17.364229075026742\n",
      "64.45 %\n"
     ]
    },
    {
     "name": "stderr",
     "output_type": "stream",
     "text": [
      "C:\\Users\\alex\\anaconda3\\lib\\site-packages\\statsmodels\\base\\model.py:607: ConvergenceWarning: Maximum Likelihood optimization failed to converge. Check mle_retvals\n",
      "  warnings.warn(\"Maximum Likelihood optimization failed to \"\n"
     ]
    },
    {
     "name": "stdout",
     "output_type": "stream",
     "text": [
      "order--  (1, 0, 1) , seasonal order--  [0, 0, 1, 12, 'n'] , lowest_rmse-- 30.964821015154552\n",
      "64.84 %\n"
     ]
    },
    {
     "name": "stderr",
     "output_type": "stream",
     "text": [
      "C:\\Users\\alex\\anaconda3\\lib\\site-packages\\statsmodels\\base\\model.py:607: ConvergenceWarning: Maximum Likelihood optimization failed to converge. Check mle_retvals\n",
      "  warnings.warn(\"Maximum Likelihood optimization failed to \"\n"
     ]
    },
    {
     "name": "stdout",
     "output_type": "stream",
     "text": [
      "order--  (1, 0, 1) , seasonal order--  [0, 0, 1, 12, 'c'] , lowest_rmse-- 6.586756089936678\n",
      "65.23 %\n"
     ]
    },
    {
     "name": "stderr",
     "output_type": "stream",
     "text": [
      "C:\\Users\\alex\\anaconda3\\lib\\site-packages\\statsmodels\\base\\model.py:607: ConvergenceWarning: Maximum Likelihood optimization failed to converge. Check mle_retvals\n",
      "  warnings.warn(\"Maximum Likelihood optimization failed to \"\n"
     ]
    },
    {
     "name": "stdout",
     "output_type": "stream",
     "text": [
      "order--  (1, 0, 1) , seasonal order--  [0, 0, 1, 12, 't'] , lowest_rmse-- 41.19723991243143\n",
      "65.62 %\n"
     ]
    },
    {
     "name": "stderr",
     "output_type": "stream",
     "text": [
      "C:\\Users\\alex\\anaconda3\\lib\\site-packages\\statsmodels\\base\\model.py:607: ConvergenceWarning: Maximum Likelihood optimization failed to converge. Check mle_retvals\n",
      "  warnings.warn(\"Maximum Likelihood optimization failed to \"\n"
     ]
    },
    {
     "name": "stdout",
     "output_type": "stream",
     "text": [
      "order--  (1, 0, 1) , seasonal order--  [0, 0, 1, 12, 'ct'] , lowest_rmse-- 17.986678215208077\n",
      "66.02 %\n",
      "order--  (1, 0, 1) , seasonal order--  [0, 1, 0, 12, 'n'] , lowest_rmse-- 21.043518967074746\n",
      "66.41 %\n",
      "order--  (1, 0, 1) , seasonal order--  [0, 1, 0, 12, 'c'] , lowest_rmse-- 25.930105545253603\n",
      "66.8 %\n"
     ]
    },
    {
     "name": "stderr",
     "output_type": "stream",
     "text": [
      "C:\\Users\\alex\\anaconda3\\lib\\site-packages\\statsmodels\\base\\model.py:607: ConvergenceWarning: Maximum Likelihood optimization failed to converge. Check mle_retvals\n",
      "  warnings.warn(\"Maximum Likelihood optimization failed to \"\n"
     ]
    },
    {
     "name": "stdout",
     "output_type": "stream",
     "text": [
      "order--  (1, 0, 1) , seasonal order--  [0, 1, 0, 12, 't'] , lowest_rmse-- 33.621110433174955\n",
      "67.19 %\n"
     ]
    },
    {
     "name": "stderr",
     "output_type": "stream",
     "text": [
      "C:\\Users\\alex\\anaconda3\\lib\\site-packages\\statsmodels\\base\\model.py:607: ConvergenceWarning: Maximum Likelihood optimization failed to converge. Check mle_retvals\n",
      "  warnings.warn(\"Maximum Likelihood optimization failed to \"\n"
     ]
    },
    {
     "name": "stdout",
     "output_type": "stream",
     "text": [
      "order--  (1, 0, 1) , seasonal order--  [0, 1, 0, 12, 'ct'] , lowest_rmse-- 36.598803454443804\n",
      "67.58 %\n",
      "order--  (1, 0, 1) , seasonal order--  [0, 1, 1, 12, 'n'] , lowest_rmse-- 15.122027949852635\n",
      "67.97 %\n",
      "order--  (1, 0, 1) , seasonal order--  [0, 1, 1, 12, 'c'] , lowest_rmse-- 17.294176416275736\n",
      "68.36 %\n"
     ]
    },
    {
     "name": "stderr",
     "output_type": "stream",
     "text": [
      "C:\\Users\\alex\\anaconda3\\lib\\site-packages\\statsmodels\\base\\model.py:607: ConvergenceWarning: Maximum Likelihood optimization failed to converge. Check mle_retvals\n",
      "  warnings.warn(\"Maximum Likelihood optimization failed to \"\n"
     ]
    },
    {
     "name": "stdout",
     "output_type": "stream",
     "text": [
      "order--  (1, 0, 1) , seasonal order--  [0, 1, 1, 12, 't'] , lowest_rmse-- 33.580152628387985\n",
      "68.75 %\n"
     ]
    },
    {
     "name": "stderr",
     "output_type": "stream",
     "text": [
      "C:\\Users\\alex\\anaconda3\\lib\\site-packages\\statsmodels\\base\\model.py:607: ConvergenceWarning: Maximum Likelihood optimization failed to converge. Check mle_retvals\n",
      "  warnings.warn(\"Maximum Likelihood optimization failed to \"\n"
     ]
    },
    {
     "name": "stdout",
     "output_type": "stream",
     "text": [
      "order--  (1, 0, 1) , seasonal order--  [0, 1, 1, 12, 'ct'] , lowest_rmse-- 36.55630527478703\n",
      "69.14 %\n",
      "order--  (1, 0, 1) , seasonal order--  [1, 0, 0, 12, 'n'] , lowest_rmse-- 29.260234366051073\n",
      "69.53 %\n"
     ]
    },
    {
     "name": "stderr",
     "output_type": "stream",
     "text": [
      "C:\\Users\\alex\\anaconda3\\lib\\site-packages\\statsmodels\\base\\model.py:607: ConvergenceWarning: Maximum Likelihood optimization failed to converge. Check mle_retvals\n",
      "  warnings.warn(\"Maximum Likelihood optimization failed to \"\n"
     ]
    },
    {
     "name": "stdout",
     "output_type": "stream",
     "text": [
      "order--  (1, 0, 1) , seasonal order--  [1, 0, 0, 12, 'c'] , lowest_rmse-- 10.990130741821018\n",
      "69.92 %\n",
      "order--  (1, 0, 1) , seasonal order--  [1, 0, 0, 12, 't'] , lowest_rmse-- 38.72858321096115\n",
      "70.31 %\n",
      "order--  (1, 0, 1) , seasonal order--  [1, 0, 0, 12, 'ct'] , lowest_rmse-- 25.810901131757134\n",
      "70.7 %\n",
      "order--  (1, 0, 1) , seasonal order--  [1, 0, 1, 12, 'n'] , lowest_rmse-- 29.99013100972916\n",
      "71.09 %\n",
      "order--  (1, 0, 1) , seasonal order--  [1, 0, 1, 12, 'c'] , lowest_rmse-- 11.629994326739313\n",
      "71.48 %\n",
      "order--  (1, 0, 1) , seasonal order--  [1, 0, 1, 12, 't'] , lowest_rmse-- 41.994115527073646\n",
      "71.88 %\n"
     ]
    },
    {
     "name": "stderr",
     "output_type": "stream",
     "text": [
      "C:\\Users\\alex\\anaconda3\\lib\\site-packages\\statsmodels\\base\\model.py:607: ConvergenceWarning: Maximum Likelihood optimization failed to converge. Check mle_retvals\n",
      "  warnings.warn(\"Maximum Likelihood optimization failed to \"\n"
     ]
    },
    {
     "name": "stdout",
     "output_type": "stream",
     "text": [
      "order--  (1, 0, 1) , seasonal order--  [1, 0, 1, 12, 'ct'] , lowest_rmse-- 11.42236509947643\n",
      "72.27 %\n",
      "order--  (1, 0, 1) , seasonal order--  [1, 1, 0, 12, 'n'] , lowest_rmse-- 19.443733774077536\n",
      "72.66 %\n",
      "order--  (1, 0, 1) , seasonal order--  [1, 1, 0, 12, 'c'] , lowest_rmse-- 24.929162639113517\n",
      "73.05 %\n"
     ]
    },
    {
     "name": "stderr",
     "output_type": "stream",
     "text": [
      "C:\\Users\\alex\\anaconda3\\lib\\site-packages\\statsmodels\\base\\model.py:607: ConvergenceWarning: Maximum Likelihood optimization failed to converge. Check mle_retvals\n",
      "  warnings.warn(\"Maximum Likelihood optimization failed to \"\n"
     ]
    },
    {
     "name": "stdout",
     "output_type": "stream",
     "text": [
      "order--  (1, 0, 1) , seasonal order--  [1, 1, 0, 12, 't'] , lowest_rmse-- 33.35025935535211\n",
      "73.44 %\n"
     ]
    },
    {
     "name": "stderr",
     "output_type": "stream",
     "text": [
      "C:\\Users\\alex\\anaconda3\\lib\\site-packages\\statsmodels\\base\\model.py:607: ConvergenceWarning: Maximum Likelihood optimization failed to converge. Check mle_retvals\n",
      "  warnings.warn(\"Maximum Likelihood optimization failed to \"\n"
     ]
    },
    {
     "name": "stdout",
     "output_type": "stream",
     "text": [
      "order--  (1, 0, 1) , seasonal order--  [1, 1, 0, 12, 'ct'] , lowest_rmse-- 36.25605009049665\n",
      "73.83 %\n",
      "order--  (1, 0, 1) , seasonal order--  [1, 1, 1, 12, 'n'] , lowest_rmse-- 15.12057237772823\n",
      "74.22 %\n"
     ]
    },
    {
     "name": "stderr",
     "output_type": "stream",
     "text": [
      "C:\\Users\\alex\\anaconda3\\lib\\site-packages\\statsmodels\\base\\model.py:607: ConvergenceWarning: Maximum Likelihood optimization failed to converge. Check mle_retvals\n",
      "  warnings.warn(\"Maximum Likelihood optimization failed to \"\n"
     ]
    },
    {
     "name": "stdout",
     "output_type": "stream",
     "text": [
      "order--  (1, 0, 1) , seasonal order--  [1, 1, 1, 12, 'c'] , lowest_rmse-- 17.287848965258544\n",
      "74.61 %\n"
     ]
    },
    {
     "name": "stderr",
     "output_type": "stream",
     "text": [
      "C:\\Users\\alex\\anaconda3\\lib\\site-packages\\statsmodels\\base\\model.py:607: ConvergenceWarning: Maximum Likelihood optimization failed to converge. Check mle_retvals\n",
      "  warnings.warn(\"Maximum Likelihood optimization failed to \"\n"
     ]
    },
    {
     "name": "stdout",
     "output_type": "stream",
     "text": [
      "order--  (1, 0, 1) , seasonal order--  [1, 1, 1, 12, 't'] , lowest_rmse-- 33.167549968799946\n",
      "75.0 %\n"
     ]
    },
    {
     "name": "stderr",
     "output_type": "stream",
     "text": [
      "C:\\Users\\alex\\anaconda3\\lib\\site-packages\\statsmodels\\base\\model.py:607: ConvergenceWarning: Maximum Likelihood optimization failed to converge. Check mle_retvals\n",
      "  warnings.warn(\"Maximum Likelihood optimization failed to \"\n"
     ]
    },
    {
     "name": "stdout",
     "output_type": "stream",
     "text": [
      "order--  (1, 0, 1) , seasonal order--  [1, 1, 1, 12, 'ct'] , lowest_rmse-- 36.04315417347501\n",
      "75.39 %\n",
      "order--  (1, 1, 0) , seasonal order--  [0, 0, 0, 12, 'n'] , lowest_rmse-- 22.741521778011244\n",
      "75.78 %\n",
      "order--  (1, 1, 0) , seasonal order--  [0, 0, 0, 12, 'c'] , lowest_rmse-- 27.843943737093973\n",
      "76.17 %\n",
      "order--  (1, 1, 0) , seasonal order--  [0, 0, 0, 12, 't'] , lowest_rmse-- 37.08341730530854\n",
      "76.56 %\n",
      "order--  (1, 1, 0) , seasonal order--  [0, 0, 0, 12, 'ct'] , lowest_rmse-- 40.77923938756216\n",
      "76.95 %\n",
      "order--  (1, 1, 0) , seasonal order--  [0, 0, 1, 12, 'n'] , lowest_rmse-- 22.71634839746344\n",
      "77.34 %\n",
      "order--  (1, 1, 0) , seasonal order--  [0, 0, 1, 12, 'c'] , lowest_rmse-- 27.879706087904335\n",
      "77.73 %\n",
      "order--  (1, 1, 0) , seasonal order--  [0, 0, 1, 12, 't'] , lowest_rmse-- 37.02014966271225\n",
      "78.12 %\n",
      "order--  (1, 1, 0) , seasonal order--  [0, 0, 1, 12, 'ct'] , lowest_rmse-- 40.71088268736741\n",
      "78.52 %\n",
      "order--  (1, 1, 0) , seasonal order--  [0, 1, 0, 12, 'n'] , lowest_rmse-- 98.45073713267134\n",
      "78.91 %\n"
     ]
    },
    {
     "name": "stderr",
     "output_type": "stream",
     "text": [
      "C:\\Users\\alex\\anaconda3\\lib\\site-packages\\statsmodels\\base\\model.py:607: ConvergenceWarning: Maximum Likelihood optimization failed to converge. Check mle_retvals\n",
      "  warnings.warn(\"Maximum Likelihood optimization failed to \"\n"
     ]
    },
    {
     "name": "stdout",
     "output_type": "stream",
     "text": [
      "order--  (1, 1, 0) , seasonal order--  [0, 1, 0, 12, 'c'] , lowest_rmse-- 108.0160601967047\n",
      "79.3 %\n"
     ]
    },
    {
     "name": "stderr",
     "output_type": "stream",
     "text": [
      "C:\\Users\\alex\\anaconda3\\lib\\site-packages\\statsmodels\\base\\model.py:607: ConvergenceWarning: Maximum Likelihood optimization failed to converge. Check mle_retvals\n",
      "  warnings.warn(\"Maximum Likelihood optimization failed to \"\n"
     ]
    },
    {
     "name": "stdout",
     "output_type": "stream",
     "text": [
      "order--  (1, 1, 0) , seasonal order--  [0, 1, 0, 12, 't'] , lowest_rmse-- 137.41759275324142\n",
      "79.69 %\n"
     ]
    },
    {
     "name": "stderr",
     "output_type": "stream",
     "text": [
      "C:\\Users\\alex\\anaconda3\\lib\\site-packages\\statsmodels\\base\\model.py:607: ConvergenceWarning: Maximum Likelihood optimization failed to converge. Check mle_retvals\n",
      "  warnings.warn(\"Maximum Likelihood optimization failed to \"\n"
     ]
    },
    {
     "name": "stdout",
     "output_type": "stream",
     "text": [
      "order--  (1, 1, 0) , seasonal order--  [0, 1, 0, 12, 'ct'] , lowest_rmse-- 158.4136253196694\n",
      "80.08 %\n",
      "order--  (1, 1, 0) , seasonal order--  [0, 1, 1, 12, 'n'] , lowest_rmse-- 27.932523378366394\n",
      "80.47 %\n",
      "order--  (1, 1, 0) , seasonal order--  [0, 1, 1, 12, 'c'] , lowest_rmse-- 40.31530710785309\n",
      "80.86 %\n"
     ]
    },
    {
     "name": "stderr",
     "output_type": "stream",
     "text": [
      "C:\\Users\\alex\\anaconda3\\lib\\site-packages\\statsmodels\\base\\model.py:607: ConvergenceWarning: Maximum Likelihood optimization failed to converge. Check mle_retvals\n",
      "  warnings.warn(\"Maximum Likelihood optimization failed to \"\n"
     ]
    },
    {
     "name": "stdout",
     "output_type": "stream",
     "text": [
      "order--  (1, 1, 0) , seasonal order--  [0, 1, 1, 12, 't'] , lowest_rmse-- 44.54819347298775\n",
      "81.25 %\n"
     ]
    },
    {
     "name": "stderr",
     "output_type": "stream",
     "text": [
      "C:\\Users\\alex\\anaconda3\\lib\\site-packages\\statsmodels\\base\\model.py:607: ConvergenceWarning: Maximum Likelihood optimization failed to converge. Check mle_retvals\n",
      "  warnings.warn(\"Maximum Likelihood optimization failed to \"\n"
     ]
    },
    {
     "name": "stdout",
     "output_type": "stream",
     "text": [
      "order--  (1, 1, 0) , seasonal order--  [0, 1, 1, 12, 'ct'] , lowest_rmse-- 67.04058697450975\n",
      "81.64 %\n",
      "order--  (1, 1, 0) , seasonal order--  [1, 0, 0, 12, 'n'] , lowest_rmse-- 22.715342689620314\n",
      "82.03 %\n",
      "order--  (1, 1, 0) , seasonal order--  [1, 0, 0, 12, 'c'] , lowest_rmse-- 27.882676977647066\n",
      "82.42 %\n",
      "order--  (1, 1, 0) , seasonal order--  [1, 0, 0, 12, 't'] , lowest_rmse-- 37.032638150630454\n",
      "82.81 %\n"
     ]
    },
    {
     "name": "stderr",
     "output_type": "stream",
     "text": [
      "C:\\Users\\alex\\anaconda3\\lib\\site-packages\\statsmodels\\base\\model.py:607: ConvergenceWarning: Maximum Likelihood optimization failed to converge. Check mle_retvals\n",
      "  warnings.warn(\"Maximum Likelihood optimization failed to \"\n"
     ]
    },
    {
     "name": "stdout",
     "output_type": "stream",
     "text": [
      "order--  (1, 1, 0) , seasonal order--  [1, 0, 0, 12, 'ct'] , lowest_rmse-- 40.773520212739356\n",
      "83.2 %\n",
      "order--  (1, 1, 0) , seasonal order--  [1, 0, 1, 12, 'n'] , lowest_rmse-- 22.74694013560624\n",
      "83.59 %\n",
      "order--  (1, 1, 0) , seasonal order--  [1, 0, 1, 12, 'c'] , lowest_rmse-- 27.77910449266336\n",
      "83.98 %\n"
     ]
    },
    {
     "name": "stderr",
     "output_type": "stream",
     "text": [
      "C:\\Users\\alex\\anaconda3\\lib\\site-packages\\statsmodels\\base\\model.py:607: ConvergenceWarning: Maximum Likelihood optimization failed to converge. Check mle_retvals\n",
      "  warnings.warn(\"Maximum Likelihood optimization failed to \"\n"
     ]
    },
    {
     "name": "stdout",
     "output_type": "stream",
     "text": [
      "order--  (1, 1, 0) , seasonal order--  [1, 0, 1, 12, 't'] , lowest_rmse-- 35.46032202525278\n",
      "84.38 %\n"
     ]
    },
    {
     "name": "stderr",
     "output_type": "stream",
     "text": [
      "C:\\Users\\alex\\anaconda3\\lib\\site-packages\\statsmodels\\base\\model.py:607: ConvergenceWarning: Maximum Likelihood optimization failed to converge. Check mle_retvals\n",
      "  warnings.warn(\"Maximum Likelihood optimization failed to \"\n"
     ]
    },
    {
     "name": "stdout",
     "output_type": "stream",
     "text": [
      "order--  (1, 1, 0) , seasonal order--  [1, 0, 1, 12, 'ct'] , lowest_rmse-- 38.74335766104807\n",
      "84.77 %\n",
      "order--  (1, 1, 0) , seasonal order--  [1, 1, 0, 12, 'n'] , lowest_rmse-- 146.13487680838523\n",
      "85.16 %\n",
      "order--  (1, 1, 0) , seasonal order--  [1, 1, 0, 12, 'c'] , lowest_rmse-- 144.92472322835462\n",
      "85.55 %\n"
     ]
    },
    {
     "name": "stderr",
     "output_type": "stream",
     "text": [
      "C:\\Users\\alex\\anaconda3\\lib\\site-packages\\statsmodels\\base\\model.py:607: ConvergenceWarning: Maximum Likelihood optimization failed to converge. Check mle_retvals\n",
      "  warnings.warn(\"Maximum Likelihood optimization failed to \"\n"
     ]
    },
    {
     "name": "stdout",
     "output_type": "stream",
     "text": [
      "order--  (1, 1, 0) , seasonal order--  [1, 1, 0, 12, 't'] , lowest_rmse-- 216.02584511948788\n",
      "85.94 %\n"
     ]
    },
    {
     "name": "stderr",
     "output_type": "stream",
     "text": [
      "C:\\Users\\alex\\anaconda3\\lib\\site-packages\\statsmodels\\base\\model.py:607: ConvergenceWarning: Maximum Likelihood optimization failed to converge. Check mle_retvals\n",
      "  warnings.warn(\"Maximum Likelihood optimization failed to \"\n"
     ]
    },
    {
     "name": "stdout",
     "output_type": "stream",
     "text": [
      "order--  (1, 1, 0) , seasonal order--  [1, 1, 0, 12, 'ct'] , lowest_rmse-- 230.02886223831902\n",
      "86.33 %\n",
      "order--  (1, 1, 0) , seasonal order--  [1, 1, 1, 12, 'n'] , lowest_rmse-- 27.932570529993377\n",
      "86.72 %\n",
      "order--  (1, 1, 0) , seasonal order--  [1, 1, 1, 12, 'c'] , lowest_rmse-- 40.4780326795064\n",
      "87.11 %\n"
     ]
    },
    {
     "name": "stderr",
     "output_type": "stream",
     "text": [
      "C:\\Users\\alex\\anaconda3\\lib\\site-packages\\statsmodels\\base\\model.py:607: ConvergenceWarning: Maximum Likelihood optimization failed to converge. Check mle_retvals\n",
      "  warnings.warn(\"Maximum Likelihood optimization failed to \"\n"
     ]
    },
    {
     "name": "stdout",
     "output_type": "stream",
     "text": [
      "order--  (1, 1, 0) , seasonal order--  [1, 1, 1, 12, 't'] , lowest_rmse-- 63.52952952411875\n",
      "87.5 %\n"
     ]
    },
    {
     "name": "stderr",
     "output_type": "stream",
     "text": [
      "C:\\Users\\alex\\anaconda3\\lib\\site-packages\\statsmodels\\base\\model.py:607: ConvergenceWarning: Maximum Likelihood optimization failed to converge. Check mle_retvals\n",
      "  warnings.warn(\"Maximum Likelihood optimization failed to \"\n"
     ]
    },
    {
     "name": "stdout",
     "output_type": "stream",
     "text": [
      "order--  (1, 1, 0) , seasonal order--  [1, 1, 1, 12, 'ct'] , lowest_rmse-- 84.20117948578157\n",
      "87.89 %\n",
      "order--  (1, 1, 1) , seasonal order--  [0, 0, 0, 12, 'n'] , lowest_rmse-- 22.749039843017254\n",
      "88.28 %\n",
      "order--  (1, 1, 1) , seasonal order--  [0, 0, 0, 12, 'c'] , lowest_rmse-- 27.835042437160812\n",
      "88.67 %\n"
     ]
    },
    {
     "name": "stderr",
     "output_type": "stream",
     "text": [
      "C:\\Users\\alex\\anaconda3\\lib\\site-packages\\statsmodels\\base\\model.py:607: ConvergenceWarning: Maximum Likelihood optimization failed to converge. Check mle_retvals\n",
      "  warnings.warn(\"Maximum Likelihood optimization failed to \"\n"
     ]
    },
    {
     "name": "stdout",
     "output_type": "stream",
     "text": [
      "order--  (1, 1, 1) , seasonal order--  [0, 0, 0, 12, 't'] , lowest_rmse-- 35.6906987934808\n",
      "89.06 %\n"
     ]
    },
    {
     "name": "stderr",
     "output_type": "stream",
     "text": [
      "C:\\Users\\alex\\anaconda3\\lib\\site-packages\\statsmodels\\base\\model.py:607: ConvergenceWarning: Maximum Likelihood optimization failed to converge. Check mle_retvals\n",
      "  warnings.warn(\"Maximum Likelihood optimization failed to \"\n"
     ]
    },
    {
     "name": "stdout",
     "output_type": "stream",
     "text": [
      "order--  (1, 1, 1) , seasonal order--  [0, 0, 0, 12, 'ct'] , lowest_rmse-- 72.6983839022091\n",
      "89.45 %\n",
      "order--  (1, 1, 1) , seasonal order--  [0, 0, 1, 12, 'n'] , lowest_rmse-- 22.71278579489226\n",
      "89.84 %\n",
      "order--  (1, 1, 1) , seasonal order--  [0, 0, 1, 12, 'c'] , lowest_rmse-- 28.56839992122677\n",
      "90.23 %\n"
     ]
    },
    {
     "name": "stderr",
     "output_type": "stream",
     "text": [
      "C:\\Users\\alex\\anaconda3\\lib\\site-packages\\statsmodels\\base\\model.py:607: ConvergenceWarning: Maximum Likelihood optimization failed to converge. Check mle_retvals\n",
      "  warnings.warn(\"Maximum Likelihood optimization failed to \"\n"
     ]
    },
    {
     "name": "stdout",
     "output_type": "stream",
     "text": [
      "order--  (1, 1, 1) , seasonal order--  [0, 0, 1, 12, 't'] , lowest_rmse-- 35.64742420285212\n",
      "90.62 %\n"
     ]
    },
    {
     "name": "stderr",
     "output_type": "stream",
     "text": [
      "C:\\Users\\alex\\anaconda3\\lib\\site-packages\\statsmodels\\base\\model.py:607: ConvergenceWarning: Maximum Likelihood optimization failed to converge. Check mle_retvals\n",
      "  warnings.warn(\"Maximum Likelihood optimization failed to \"\n"
     ]
    },
    {
     "name": "stdout",
     "output_type": "stream",
     "text": [
      "order--  (1, 1, 1) , seasonal order--  [0, 0, 1, 12, 'ct'] , lowest_rmse-- 72.6416718346247\n",
      "91.02 %\n",
      "order--  (1, 1, 1) , seasonal order--  [0, 1, 0, 12, 'n'] , lowest_rmse-- 98.67444774903025\n",
      "91.41 %\n",
      "order--  (1, 1, 1) , seasonal order--  [0, 1, 0, 12, 'c'] , lowest_rmse-- 107.8332888840375\n",
      "91.8 %\n"
     ]
    },
    {
     "name": "stderr",
     "output_type": "stream",
     "text": [
      "C:\\Users\\alex\\anaconda3\\lib\\site-packages\\statsmodels\\base\\model.py:607: ConvergenceWarning: Maximum Likelihood optimization failed to converge. Check mle_retvals\n",
      "  warnings.warn(\"Maximum Likelihood optimization failed to \"\n"
     ]
    },
    {
     "name": "stdout",
     "output_type": "stream",
     "text": [
      "order--  (1, 1, 1) , seasonal order--  [0, 1, 0, 12, 't'] , lowest_rmse-- 186.1534366122306\n",
      "92.19 %\n"
     ]
    },
    {
     "name": "stderr",
     "output_type": "stream",
     "text": [
      "C:\\Users\\alex\\anaconda3\\lib\\site-packages\\statsmodels\\base\\model.py:607: ConvergenceWarning: Maximum Likelihood optimization failed to converge. Check mle_retvals\n",
      "  warnings.warn(\"Maximum Likelihood optimization failed to \"\n"
     ]
    },
    {
     "name": "stdout",
     "output_type": "stream",
     "text": [
      "order--  (1, 1, 1) , seasonal order--  [0, 1, 0, 12, 'ct'] , lowest_rmse-- 209.81966249612034\n",
      "92.58 %\n",
      "order--  (1, 1, 1) , seasonal order--  [0, 1, 1, 12, 'n'] , lowest_rmse-- 27.8967514642024\n",
      "92.97 %\n",
      "order--  (1, 1, 1) , seasonal order--  [0, 1, 1, 12, 'c'] , lowest_rmse-- 39.65670243455963\n",
      "93.36 %\n"
     ]
    },
    {
     "name": "stderr",
     "output_type": "stream",
     "text": [
      "C:\\Users\\alex\\anaconda3\\lib\\site-packages\\statsmodels\\base\\model.py:607: ConvergenceWarning: Maximum Likelihood optimization failed to converge. Check mle_retvals\n",
      "  warnings.warn(\"Maximum Likelihood optimization failed to \"\n"
     ]
    },
    {
     "name": "stdout",
     "output_type": "stream",
     "text": [
      "order--  (1, 1, 1) , seasonal order--  [0, 1, 1, 12, 't'] , lowest_rmse-- 97.81253399637713\n",
      "93.75 %\n"
     ]
    },
    {
     "name": "stderr",
     "output_type": "stream",
     "text": [
      "C:\\Users\\alex\\anaconda3\\lib\\site-packages\\statsmodels\\base\\model.py:607: ConvergenceWarning: Maximum Likelihood optimization failed to converge. Check mle_retvals\n",
      "  warnings.warn(\"Maximum Likelihood optimization failed to \"\n"
     ]
    },
    {
     "name": "stdout",
     "output_type": "stream",
     "text": [
      "order--  (1, 1, 1) , seasonal order--  [0, 1, 1, 12, 'ct'] , lowest_rmse-- 123.10112629124082\n",
      "94.14 %\n",
      "order--  (1, 1, 1) , seasonal order--  [1, 0, 0, 12, 'n'] , lowest_rmse-- 22.713870652356146\n",
      "94.53 %\n",
      "order--  (1, 1, 1) , seasonal order--  [1, 0, 0, 12, 'c'] , lowest_rmse-- 28.544963564982133\n",
      "94.92 %\n"
     ]
    },
    {
     "name": "stderr",
     "output_type": "stream",
     "text": [
      "C:\\Users\\alex\\anaconda3\\lib\\site-packages\\statsmodels\\base\\model.py:607: ConvergenceWarning: Maximum Likelihood optimization failed to converge. Check mle_retvals\n",
      "  warnings.warn(\"Maximum Likelihood optimization failed to \"\n"
     ]
    },
    {
     "name": "stdout",
     "output_type": "stream",
     "text": [
      "order--  (1, 1, 1) , seasonal order--  [1, 0, 0, 12, 't'] , lowest_rmse-- 35.67465318803419\n",
      "95.31 %\n"
     ]
    },
    {
     "name": "stderr",
     "output_type": "stream",
     "text": [
      "C:\\Users\\alex\\anaconda3\\lib\\site-packages\\statsmodels\\base\\model.py:607: ConvergenceWarning: Maximum Likelihood optimization failed to converge. Check mle_retvals\n",
      "  warnings.warn(\"Maximum Likelihood optimization failed to \"\n"
     ]
    },
    {
     "name": "stdout",
     "output_type": "stream",
     "text": [
      "order--  (1, 1, 1) , seasonal order--  [1, 0, 0, 12, 'ct'] , lowest_rmse-- 73.13509985837631\n",
      "95.7 %\n",
      "order--  (1, 1, 1) , seasonal order--  [1, 0, 1, 12, 'n'] , lowest_rmse-- 22.691560808103663\n",
      "96.09 %\n"
     ]
    },
    {
     "name": "stderr",
     "output_type": "stream",
     "text": [
      "C:\\Users\\alex\\anaconda3\\lib\\site-packages\\statsmodels\\base\\model.py:607: ConvergenceWarning: Maximum Likelihood optimization failed to converge. Check mle_retvals\n",
      "  warnings.warn(\"Maximum Likelihood optimization failed to \"\n"
     ]
    },
    {
     "name": "stdout",
     "output_type": "stream",
     "text": [
      "order--  (1, 1, 1) , seasonal order--  [1, 0, 1, 12, 'c'] , lowest_rmse-- 28.881139604301218\n",
      "96.48 %\n"
     ]
    },
    {
     "name": "stderr",
     "output_type": "stream",
     "text": [
      "C:\\Users\\alex\\anaconda3\\lib\\site-packages\\statsmodels\\base\\model.py:607: ConvergenceWarning: Maximum Likelihood optimization failed to converge. Check mle_retvals\n",
      "  warnings.warn(\"Maximum Likelihood optimization failed to \"\n"
     ]
    },
    {
     "name": "stdout",
     "output_type": "stream",
     "text": [
      "order--  (1, 1, 1) , seasonal order--  [1, 0, 1, 12, 't'] , lowest_rmse-- 35.51545307255434\n",
      "96.88 %\n"
     ]
    },
    {
     "name": "stderr",
     "output_type": "stream",
     "text": [
      "C:\\Users\\alex\\anaconda3\\lib\\site-packages\\statsmodels\\base\\model.py:607: ConvergenceWarning: Maximum Likelihood optimization failed to converge. Check mle_retvals\n",
      "  warnings.warn(\"Maximum Likelihood optimization failed to \"\n"
     ]
    },
    {
     "name": "stdout",
     "output_type": "stream",
     "text": [
      "order--  (1, 1, 1) , seasonal order--  [1, 0, 1, 12, 'ct'] , lowest_rmse-- 68.39002799793235\n",
      "97.27 %\n",
      "order--  (1, 1, 1) , seasonal order--  [1, 1, 0, 12, 'n'] , lowest_rmse-- 147.1488698074571\n",
      "97.66 %\n",
      "order--  (1, 1, 1) , seasonal order--  [1, 1, 0, 12, 'c'] , lowest_rmse-- 145.87109924661385\n",
      "98.05 %\n"
     ]
    },
    {
     "name": "stderr",
     "output_type": "stream",
     "text": [
      "C:\\Users\\alex\\anaconda3\\lib\\site-packages\\statsmodels\\base\\model.py:607: ConvergenceWarning: Maximum Likelihood optimization failed to converge. Check mle_retvals\n",
      "  warnings.warn(\"Maximum Likelihood optimization failed to \"\n"
     ]
    },
    {
     "name": "stdout",
     "output_type": "stream",
     "text": [
      "order--  (1, 1, 1) , seasonal order--  [1, 1, 0, 12, 't'] , lowest_rmse-- 205.7641465214519\n",
      "98.44 %\n"
     ]
    },
    {
     "name": "stderr",
     "output_type": "stream",
     "text": [
      "C:\\Users\\alex\\anaconda3\\lib\\site-packages\\statsmodels\\base\\model.py:607: ConvergenceWarning: Maximum Likelihood optimization failed to converge. Check mle_retvals\n",
      "  warnings.warn(\"Maximum Likelihood optimization failed to \"\n"
     ]
    },
    {
     "name": "stdout",
     "output_type": "stream",
     "text": [
      "order--  (1, 1, 1) , seasonal order--  [1, 1, 0, 12, 'ct'] , lowest_rmse-- 221.47935632269798\n",
      "98.83 %\n",
      "order--  (1, 1, 1) , seasonal order--  [1, 1, 1, 12, 'n'] , lowest_rmse-- 27.896713322427704\n",
      "99.22 %\n",
      "order--  (1, 1, 1) , seasonal order--  [1, 1, 1, 12, 'c'] , lowest_rmse-- 39.89316579851298\n",
      "99.61 %\n"
     ]
    },
    {
     "name": "stderr",
     "output_type": "stream",
     "text": [
      "C:\\Users\\alex\\anaconda3\\lib\\site-packages\\statsmodels\\base\\model.py:607: ConvergenceWarning: Maximum Likelihood optimization failed to converge. Check mle_retvals\n",
      "  warnings.warn(\"Maximum Likelihood optimization failed to \"\n"
     ]
    },
    {
     "name": "stdout",
     "output_type": "stream",
     "text": [
      "order--  (1, 1, 1) , seasonal order--  [1, 1, 1, 12, 't'] , lowest_rmse-- 112.33726055970943\n",
      "100.0 %\n"
     ]
    },
    {
     "name": "stderr",
     "output_type": "stream",
     "text": [
      "C:\\Users\\alex\\anaconda3\\lib\\site-packages\\statsmodels\\base\\model.py:607: ConvergenceWarning: Maximum Likelihood optimization failed to converge. Check mle_retvals\n",
      "  warnings.warn(\"Maximum Likelihood optimization failed to \"\n"
     ]
    },
    {
     "name": "stdout",
     "output_type": "stream",
     "text": [
      "order--  (1, 1, 1) , seasonal order--  [1, 1, 1, 12, 'ct'] , lowest_rmse-- 135.5383923292712\n",
      "A melhor configuração para essa série temporal é:[(1, 0, 0), (0, 0, 1, 12), 'c']\n"
     ]
    }
   ],
   "source": [
    "rmse,model, grid_search_melhor_conf, = grid_search(order_combos,seasonal_order_combos, arima_train, len(arima_test), \"SARIMA\")\n",
    "print(f\"A melhor configuração para essa série temporal é:{grid_search_melhor_conf}\")"
   ]
  },
  {
   "cell_type": "code",
   "execution_count": 20,
   "id": "00313532",
   "metadata": {},
   "outputs": [
    {
     "name": "stdout",
     "output_type": "stream",
     "text": [
      "A melhor configuração para essa série temporal é:[(1, 0, 0), (0, 0, 1, 12), 'c']\n"
     ]
    }
   ],
   "source": [
    "print(f\"A melhor configuração para essa série temporal é:{grid_search_melhor_conf}\")"
   ]
  },
  {
   "cell_type": "markdown",
   "id": "9ac14132",
   "metadata": {},
   "source": [
    "##### O grid search retornou os parâmetros pdq = 0,1,0 e PDQ = 0,0,1"
   ]
  },
  {
   "cell_type": "markdown",
   "id": "d77684bf",
   "metadata": {},
   "source": [
    "# Selecionando a melhor configuração"
   ]
  },
  {
   "cell_type": "code",
   "execution_count": 24,
   "id": "04cf5207",
   "metadata": {},
   "outputs": [
    {
     "name": "stdout",
     "output_type": "stream",
     "text": [
      "RMSE da config: [(0, 1, 0), (6, 0, 0, 12), 'n']: 22.586430117373446\n",
      "RMSE da config: [(0, 1, 0), (0, 0, 0, 12), 'n']: 22.586430117373446\n"
     ]
    },
    {
     "name": "stderr",
     "output_type": "stream",
     "text": [
      "C:\\Users\\alex\\anaconda3\\lib\\site-packages\\statsmodels\\base\\model.py:607: ConvergenceWarning: Maximum Likelihood optimization failed to converge. Check mle_retvals\n",
      "  warnings.warn(\"Maximum Likelihood optimization failed to \"\n"
     ]
    },
    {
     "name": "stdout",
     "output_type": "stream",
     "text": [
      "RMSE da config: [(1, 0, 0), (0, 0, 1, 12), 'c']: 5.173262408123275\n"
     ]
    }
   ],
   "source": [
    "configs = [ACF_PACF_config, auto_arima_config,grid_search_melhor_conf]\n",
    "rmse = 1000000\n",
    "for config in configs: \n",
    "    rmse_pred,model_fit,predicao = seasonal_arima_model(arima_train, config[0], config[1], config[2],len(arima_test),\"SARIMA\")\n",
    "    if rmse_pred <= rmse:\n",
    "        melhor_model = model_fit\n",
    "        melhor_predicao =  predicao\n",
    "        rmse = rmse_pred\n",
    "    print(f\"RMSE da config: {config}: {rmse}\")"
   ]
  },
  {
   "cell_type": "markdown",
   "id": "3da9df2c",
   "metadata": {},
   "source": [
    "#### a melhor configuração é pdq = 0,1,0 e PDQ =0,0,1"
   ]
  },
  {
   "cell_type": "code",
   "execution_count": 114,
   "id": "2ee0a184",
   "metadata": {},
   "outputs": [
    {
     "ename": "TypeError",
     "evalue": "cannot unpack non-iterable NoneType object",
     "output_type": "error",
     "traceback": [
      "\u001b[1;31m---------------------------------------------------------------------------\u001b[0m",
      "\u001b[1;31mTypeError\u001b[0m                                 Traceback (most recent call last)",
      "Input \u001b[1;32mIn [114]\u001b[0m, in \u001b[0;36m<cell line: 1>\u001b[1;34m()\u001b[0m\n\u001b[1;32m----> 1\u001b[0m rmse_pred,model_fit,melhor_predicao \u001b[38;5;241m=\u001b[39m seasonal_arima_model(arima_train, (\u001b[38;5;241m1\u001b[39m,\u001b[38;5;241m0\u001b[39m,\u001b[38;5;241m1\u001b[39m), (\u001b[38;5;241m0\u001b[39m,\u001b[38;5;241m0\u001b[39m,\u001b[38;5;241m0\u001b[39m,\u001b[38;5;241m12\u001b[39m),\u001b[38;5;124m'\u001b[39m\u001b[38;5;124mc\u001b[39m\u001b[38;5;124m'\u001b[39m,\u001b[38;5;28mlen\u001b[39m(arima_test))\n",
      "\u001b[1;31mTypeError\u001b[0m: cannot unpack non-iterable NoneType object"
     ]
    }
   ],
   "source": [
    "rmse_pred,model_fit,melhor_predicao = seasonal_arima_model(arima_train, (1,0,1), (0,0,0,12),'c',len(arima_test))"
   ]
  },
  {
   "cell_type": "code",
   "execution_count": 26,
   "id": "5c04d4d4",
   "metadata": {},
   "outputs": [
    {
     "name": "stderr",
     "output_type": "stream",
     "text": [
      "C:\\Users\\alex\\anaconda3\\lib\\site-packages\\statsmodels\\tsa\\statespace\\representation.py:374: FutureWarning: Unknown keyword arguments: dict_keys(['alpha']).Passing unknown keyword arguments will raise a TypeError beginning in version 0.15.\n",
      "  warnings.warn(msg, FutureWarning)\n"
     ]
    }
   ],
   "source": [
    "import numpy as np\n",
    "import matplotlib.pyplot as plt\n",
    "from statsmodels.graphics.tsaplots import plot_predict\n",
    "\n",
    "# Fazendo previsões\n",
    "previsoes = melhor_model.get_forecast(steps=len(arima_test),alpha=0.05)\n",
    "intervalo_confianca = previsoes.conf_int()\n",
    "\n"
   ]
  },
  {
   "cell_type": "code",
   "execution_count": 237,
   "id": "ef47ea79",
   "metadata": {},
   "outputs": [
    {
     "data": {
      "image/png": "[encoded data removed]",
      "text/plain": [
       "<Figure size 1152x576 with 1 Axes>"
      ]
     },
     "metadata": {
      "needs_background": "light"
     },
     "output_type": "display_data"
    }
   ],
   "source": [
    "# Plotando os resultados\n",
    "plt.figure(figsize=(16, 8))\n",
    "\n",
    "# Linha da série temporal\n",
    "plt.plot(arima_test.index, arima_test['value'], label='Observado')\n",
    "\n",
    "# Linha das previsões\n",
    "plt.plot(previsoes.predicted_mean.index, previsoes.predicted_mean, color='red', label='Previsões')\n",
    "\n",
    "# Área do intervalo de confiança\n",
    "plt.fill_between(intervalo_confianca.index,\n",
    "                 intervalo_confianca.iloc[:, 0],\n",
    "                 intervalo_confianca.iloc[:, 1], color='pink', alpha=0.3)\n",
    "plt.plot(arima_train.index, arima_train['value'], label='Observado')\n",
    "plt.legend()\n",
    "plt.show()"
   ]
  },
  {
   "cell_type": "code",
   "execution_count": 28,
   "id": "66130002",
   "metadata": {},
   "outputs": [
    {
     "data": {
      "text/plain": [
       "<matplotlib.legend.Legend at 0x1fbb233b280>"
      ]
     },
     "execution_count": 28,
     "metadata": {},
     "output_type": "execute_result"
    },
    {
     "data": {
      "image/png": "[encoded data removed]",
      "text/plain": [
       "<Figure size 1152x288 with 1 Axes>"
      ]
     },
     "metadata": {
      "needs_background": "light"
     },
     "output_type": "display_data"
    }
   ],
   "source": [
    "import matplotlib.pyplot as plt\n",
    "plt.figure(figsize=(16,4))\n",
    "plt.plot(arima_test, label=\"Atual\")\n",
    "plt.plot(melhor_predicao, label=\"Previsto\")\n",
    "plt.title('', fontsize=20)\n",
    "plt.ylabel('Indice', fontsize=16)\n",
    "plt.legend()"
   ]
  },
  {
   "cell_type": "markdown",
   "id": "a992deda",
   "metadata": {},
   "source": [
    "# Prophet"
   ]
  },
  {
   "cell_type": "markdown",
   "id": "9febf772",
   "metadata": {},
   "source": [
    "## carregando dados"
   ]
  },
  {
   "cell_type": "code",
   "execution_count": 29,
   "id": "6c21fa42",
   "metadata": {},
   "outputs": [],
   "source": [
    "df = ler_csv('dados/AAXJ.csv')\n",
    "df_prophet = df_tratamento_dados(df)\n"
   ]
  },
  {
   "cell_type": "code",
   "execution_count": 30,
   "id": "6207bfda",
   "metadata": {},
   "outputs": [
    {
     "data": {
      "text/plain": [
       "5108"
      ]
     },
     "execution_count": 30,
     "metadata": {},
     "output_type": "execute_result"
    }
   ],
   "source": [
    "len(df_prophet)"
   ]
  },
  {
   "cell_type": "markdown",
   "id": "a75ca5e0",
   "metadata": {},
   "source": [
    "## Adequando o df"
   ]
  },
  {
   "cell_type": "code",
   "execution_count": 31,
   "id": "376f5f3d",
   "metadata": {},
   "outputs": [
    {
     "data": {
      "text/plain": [
       "5108"
      ]
     },
     "execution_count": 31,
     "metadata": {},
     "output_type": "execute_result"
    }
   ],
   "source": [
    "df_prophet['ds'] = df_prophet.index.copy()\n",
    "df_prophet.rename(columns={'value': 'y'}, inplace=True)\n",
    "df_prophet.reset_index(inplace=True, drop=True)\n",
    "df_prophet.dropna(inplace=True)\n",
    "df_prophet.tail(9)\n",
    "len(df_prophet)"
   ]
  },
  {
   "cell_type": "markdown",
   "id": "3412b01e",
   "metadata": {},
   "source": [
    "## Separando treino e teste"
   ]
  },
  {
   "cell_type": "code",
   "execution_count": 202,
   "id": "a1713446",
   "metadata": {},
   "outputs": [
    {
     "name": "stdout",
     "output_type": "stream",
     "text": [
      "4086\n",
      "1022\n"
     ]
    }
   ],
   "source": [
    "prophet_train, prophet_test = split(df_prophet, 0.8) "
   ]
  },
  {
   "cell_type": "code",
   "execution_count": 8,
   "id": "876fd0eb",
   "metadata": {},
   "outputs": [
    {
     "name": "stdout",
     "output_type": "stream",
     "text": [
      "5057\n",
      "50\n"
     ]
    }
   ],
   "source": [
    "def split(df_arima, days):\n",
    "    train = df_arima[:-days]\n",
    "    test = df_arima[-days:]\n",
    "    print(len(train))\n",
    "    print(len(test))\n",
    "    return train, test\n",
    "\n",
    "prophet_train, prophet_test = split(df_prophet, 50)"
   ]
  },
  {
   "cell_type": "code",
   "execution_count": 194,
   "id": "be8dac98",
   "metadata": {},
   "outputs": [
    {
     "data": {
      "image/png": "[encoded data removed]",
      "text/plain": [
       "<Figure size 1152x288 with 1 Axes>"
      ]
     },
     "metadata": {
      "needs_background": "light"
     },
     "output_type": "display_data"
    }
   ],
   "source": [
    "import matplotlib.pyplot as plt\n",
    "plt.figure(figsize=(16,4))\n",
    "# Plotando o primeiro gráfico\n",
    "plt.plot(prophet_train['ds'], prophet_train['y'], label='Predito')\n",
    "# Plotando o segundo gráfico\n",
    "plt.plot(prophet_test['ds'], prophet_test['y'], label='Teste')\n",
    "# Adicionando uma legenda\n",
    "plt.legend()\n",
    "\n",
    "# Exibindo o gráfico\n",
    "plt.show()"
   ]
  },
  {
   "cell_type": "markdown",
   "id": "cbb20b70",
   "metadata": {},
   "source": [
    "## Ajustando o modelo"
   ]
  },
  {
   "cell_type": "code",
   "execution_count": 211,
   "id": "53a7e509",
   "metadata": {},
   "outputs": [
    {
     "name": "stderr",
     "output_type": "stream",
     "text": [
      "09:49:28 - cmdstanpy - INFO - Chain [1] start processing\n",
      "09:49:29 - cmdstanpy - INFO - Chain [1] done processing\n"
     ]
    },
    {
     "name": "stdout",
     "output_type": "stream",
     "text": [
      "Index(['ds', 'trend', 'yhat_lower', 'yhat_upper', 'trend_lower', 'trend_upper',\n",
      "       'additive_terms', 'additive_terms_lower', 'additive_terms_upper',\n",
      "       'weekly', 'weekly_lower', 'weekly_upper', 'yearly', 'yearly_lower',\n",
      "       'yearly_upper', 'multiplicative_terms', 'multiplicative_terms_lower',\n",
      "       'multiplicative_terms_upper', 'yhat'],\n",
      "      dtype='object')\n"
     ]
    },
    {
     "data": {
      "text/html": [
       "<div>\n",
       "<style scoped>\n",
       "    .dataframe tbody tr th:only-of-type {\n",
       "        vertical-align: middle;\n",
       "    }\n",
       "\n",
       "    .dataframe tbody tr th {\n",
       "        vertical-align: top;\n",
       "    }\n",
       "\n",
       "    .dataframe thead th {\n",
       "        text-align: right;\n",
       "    }\n",
       "</style>\n",
       "<table border=\"1\" class=\"dataframe\">\n",
       "  <thead>\n",
       "    <tr style=\"text-align: right;\">\n",
       "      <th></th>\n",
       "      <th>yhat_lower</th>\n",
       "      <th>yhat_upper</th>\n",
       "      <th>yhat</th>\n",
       "    </tr>\n",
       "  </thead>\n",
       "  <tbody>\n",
       "    <tr>\n",
       "      <th>0</th>\n",
       "      <td>70.747651</td>\n",
       "      <td>83.100420</td>\n",
       "      <td>76.689183</td>\n",
       "    </tr>\n",
       "    <tr>\n",
       "      <th>1</th>\n",
       "      <td>70.103628</td>\n",
       "      <td>82.684024</td>\n",
       "      <td>76.545758</td>\n",
       "    </tr>\n",
       "    <tr>\n",
       "      <th>2</th>\n",
       "      <td>69.696654</td>\n",
       "      <td>82.642247</td>\n",
       "      <td>76.420233</td>\n",
       "    </tr>\n",
       "    <tr>\n",
       "      <th>3</th>\n",
       "      <td>70.087755</td>\n",
       "      <td>82.486462</td>\n",
       "      <td>76.390192</td>\n",
       "    </tr>\n",
       "    <tr>\n",
       "      <th>4</th>\n",
       "      <td>70.248696</td>\n",
       "      <td>82.630584</td>\n",
       "      <td>76.327756</td>\n",
       "    </tr>\n",
       "  </tbody>\n",
       "</table>\n",
       "</div>"
      ],
      "text/plain": [
       "   yhat_lower  yhat_upper       yhat\n",
       "0   70.747651   83.100420  76.689183\n",
       "1   70.103628   82.684024  76.545758\n",
       "2   69.696654   82.642247  76.420233\n",
       "3   70.087755   82.486462  76.390192\n",
       "4   70.248696   82.630584  76.327756"
      ]
     },
     "execution_count": 211,
     "metadata": {},
     "output_type": "execute_result"
    }
   ],
   "source": [
    "# This function fits the prophet model to the input data and generates a forecast\n",
    "from prophet import Prophet\n",
    "def fit_and_forecast(df, periods, interval_width, changepoint_range=0.7):\n",
    "    # set the uncertainty interval\n",
    "    Prophet(interval_width=interval_width)\n",
    "    # Instantiate the model\n",
    "    model = Prophet(changepoint_range=changepoint_range)\n",
    "    # Fit the model\n",
    "    model.fit(df)\n",
    "    # Create a dataframe with a given number of dates\n",
    "    future_df = model.make_future_dataframe(periods=periods,freq='D',include_history = False)\n",
    "    # Generate a forecast for the given dates\n",
    "    forecast_df = model.predict(future_df)\n",
    "    #print(forecast_df.head())\n",
    "    return forecast_df, model, future_df\n",
    "# Forecast for 365 days with full data\n",
    "forecast_df, model, future_df = fit_and_forecast(prophet_train, len(prophet_test), 0.95)\n",
    "print(forecast_df.columns)\n",
    "forecast_df[['yhat_lower', 'yhat_upper', 'yhat']].head(5)"
   ]
  },
  {
   "cell_type": "code",
   "execution_count": 212,
   "id": "74ab6a52",
   "metadata": {},
   "outputs": [
    {
     "data": {
      "image/png": "[encoded data removed]",
      "text/plain": [
       "<Figure size 720x432 with 1 Axes>"
      ]
     },
     "execution_count": 212,
     "metadata": {},
     "output_type": "execute_result"
    },
    {
     "data": {
      "image/png": "[encoded data removed]",
      "text/plain": [
       "<Figure size 720x432 with 1 Axes>"
      ]
     },
     "metadata": {},
     "output_type": "display_data"
    }
   ],
   "source": [
    "model.plot(forecast_df, uncertainty=True)"
   ]
  },
  {
   "cell_type": "code",
   "execution_count": 213,
   "id": "2cecc31c",
   "metadata": {},
   "outputs": [
    {
     "data": {
      "image/png": "[encoded data removed]",
      "text/plain": [
       "<Figure size 720x432 with 1 Axes>"
      ]
     },
     "metadata": {},
     "output_type": "display_data"
    }
   ],
   "source": [
    "from prophet.plot import add_changepoints_to_plot\n",
    "axislist = add_changepoints_to_plot(model.plot(forecast_df).gca(), model, forecast_df)"
   ]
  },
  {
   "cell_type": "code",
   "execution_count": 620,
   "id": "9b0b36ad",
   "metadata": {},
   "outputs": [],
   "source": [
    "predicao = forecast_df[['ds','yhat']]\n",
    "predicao = predicao[len(prophet_train):]"
   ]
  },
  {
   "cell_type": "code",
   "execution_count": 621,
   "id": "ac9317a9",
   "metadata": {},
   "outputs": [
    {
     "data": {
      "text/html": [
       "<div>\n",
       "<style scoped>\n",
       "    .dataframe tbody tr th:only-of-type {\n",
       "        vertical-align: middle;\n",
       "    }\n",
       "\n",
       "    .dataframe tbody tr th {\n",
       "        vertical-align: top;\n",
       "    }\n",
       "\n",
       "    .dataframe thead th {\n",
       "        text-align: right;\n",
       "    }\n",
       "</style>\n",
       "<table border=\"1\" class=\"dataframe\">\n",
       "  <thead>\n",
       "    <tr style=\"text-align: right;\">\n",
       "      <th></th>\n",
       "      <th>y</th>\n",
       "      <th>ds</th>\n",
       "    </tr>\n",
       "  </thead>\n",
       "  <tbody>\n",
       "    <tr>\n",
       "      <th>4596</th>\n",
       "      <td>106.472000</td>\n",
       "      <td>2022-08-05</td>\n",
       "    </tr>\n",
       "    <tr>\n",
       "      <th>4597</th>\n",
       "      <td>107.115333</td>\n",
       "      <td>2022-08-06</td>\n",
       "    </tr>\n",
       "    <tr>\n",
       "      <th>4598</th>\n",
       "      <td>107.758667</td>\n",
       "      <td>2022-08-07</td>\n",
       "    </tr>\n",
       "    <tr>\n",
       "      <th>4599</th>\n",
       "      <td>108.402000</td>\n",
       "      <td>2022-08-08</td>\n",
       "    </tr>\n",
       "    <tr>\n",
       "      <th>4600</th>\n",
       "      <td>108.651000</td>\n",
       "      <td>2022-08-09</td>\n",
       "    </tr>\n",
       "    <tr>\n",
       "      <th>...</th>\n",
       "      <td>...</td>\n",
       "      <td>...</td>\n",
       "    </tr>\n",
       "    <tr>\n",
       "      <th>5102</th>\n",
       "      <td>133.143000</td>\n",
       "      <td>2023-12-24</td>\n",
       "    </tr>\n",
       "    <tr>\n",
       "      <th>5103</th>\n",
       "      <td>133.338000</td>\n",
       "      <td>2023-12-25</td>\n",
       "    </tr>\n",
       "    <tr>\n",
       "      <th>5104</th>\n",
       "      <td>133.533000</td>\n",
       "      <td>2023-12-26</td>\n",
       "    </tr>\n",
       "    <tr>\n",
       "      <th>5105</th>\n",
       "      <td>134.194000</td>\n",
       "      <td>2023-12-27</td>\n",
       "    </tr>\n",
       "    <tr>\n",
       "      <th>5106</th>\n",
       "      <td>134.185000</td>\n",
       "      <td>2023-12-28</td>\n",
       "    </tr>\n",
       "  </tbody>\n",
       "</table>\n",
       "<p>511 rows × 2 columns</p>\n",
       "</div>"
      ],
      "text/plain": [
       "               y         ds\n",
       "4596  106.472000 2022-08-05\n",
       "4597  107.115333 2022-08-06\n",
       "4598  107.758667 2022-08-07\n",
       "4599  108.402000 2022-08-08\n",
       "4600  108.651000 2022-08-09\n",
       "...          ...        ...\n",
       "5102  133.143000 2023-12-24\n",
       "5103  133.338000 2023-12-25\n",
       "5104  133.533000 2023-12-26\n",
       "5105  134.194000 2023-12-27\n",
       "5106  134.185000 2023-12-28\n",
       "\n",
       "[511 rows x 2 columns]"
      ]
     },
     "execution_count": 621,
     "metadata": {},
     "output_type": "execute_result"
    }
   ],
   "source": [
    "prophet_test"
   ]
  },
  {
   "cell_type": "code",
   "execution_count": 623,
   "id": "024d43bc",
   "metadata": {},
   "outputs": [
    {
     "data": {
      "text/plain": [
       "7.821085174542876"
      ]
     },
     "execution_count": 623,
     "metadata": {},
     "output_type": "execute_result"
    }
   ],
   "source": [
    "rmse = np.sqrt(mean_squared_error(prophet_test['y'], predicao['yhat']))\n",
    "rmse"
   ]
  },
  {
   "cell_type": "markdown",
   "id": "71dd20c7",
   "metadata": {},
   "source": [
    "## Ajuste de hiperparâmetros"
   ]
  },
  {
   "cell_type": "code",
   "execution_count": 107,
   "id": "a9bd1934",
   "metadata": {},
   "outputs": [
    {
     "name": "stdout",
     "output_type": "stream",
     "text": [
      "Total Possible Models 72\n"
     ]
    }
   ],
   "source": [
    "from sklearn.model_selection import ParameterGrid\n",
    "params_grid = {'seasonality_mode':(['additive']),\n",
    "               'changepoint_prior_scale':[0.03, 0.035, 0.04],\n",
    "              'holidays_prior_scale': [5,10,15,20],\n",
    "               'changepoint_range':[0.85,0.9],\n",
    "              'n_changepoints' : [50,75,100]}\n",
    "grid = ParameterGrid(params_grid)\n",
    "cnt = 0\n",
    "for p in grid:\n",
    "    cnt = cnt+1\n",
    "\n",
    "print('Total Possible Models',cnt)"
   ]
  },
  {
   "cell_type": "code",
   "execution_count": 111,
   "id": "a7ef9318",
   "metadata": {},
   "outputs": [
    {
     "name": "stdout",
     "output_type": "stream",
     "text": [
      "Total Possible Models 216\n"
     ]
    }
   ],
   "source": [
    "from sklearn.model_selection import ParameterGrid\n",
    "params_grid = {'seasonality_mode':(['additive','multiplicative']),\n",
    "               'changepoint_prior_scale':[0.01,0.04, 0.08],\n",
    "              'holidays_prior_scale': [1,10,20],\n",
    "               'changepoint_range':[0.4,0.6,0.8],\n",
    "              'n_changepoints' : [50,75,90,100]}\n",
    "grid = ParameterGrid(params_grid)\n",
    "cnt = 0\n",
    "for p in grid:\n",
    "    cnt = cnt+1\n",
    "\n",
    "print('Total Possible Models',cnt)"
   ]
  },
  {
   "cell_type": "code",
   "execution_count": 108,
   "id": "f9ebc8cb",
   "metadata": {},
   "outputs": [
    {
     "name": "stdout",
     "output_type": "stream",
     "text": [
      "          ds                     holiday\n",
      "0 2010-01-01  Confraternização Universal\n",
      "1 2010-04-02           Sexta-feira Santa\n",
      "2 2010-04-21                  Tiradentes\n",
      "3 2010-05-01          Dia do Trabalhador\n",
      "4 2010-09-07     Independência do Brasil\n"
     ]
    }
   ],
   "source": [
    "import holidays\n",
    "\n",
    "# Cria um DataFrame vazio para armazenar os feriados\n",
    "holiday = pd.DataFrame([])\n",
    "\n",
    "# Itera sobre os feriados do Brasil entre 2010 e 2023\n",
    "for date, name in sorted(holidays.Brazil(years=range(2010, 2024)).items()):\n",
    "    # Adiciona os feriados ao DataFrame\n",
    "    holiday = pd.concat([holiday, pd.DataFrame({'ds': date, 'holiday': name}, index=[0])], ignore_index=True)\n",
    "\n",
    "# Converte a coluna 'ds' para o formato datetime\n",
    "holiday['ds'] = pd.to_datetime(holiday['ds'], format='%Y-%m-%d', errors='ignore')\n",
    "\n",
    "# Exibe os primeiros registros do DataFrame\n",
    "print(holiday.head())"
   ]
  },
  {
   "cell_type": "code",
   "execution_count": 229,
   "id": "04794d7e",
   "metadata": {},
   "outputs": [
    {
     "name": "stdout",
     "output_type": "stream",
     "text": [
      "Total Possible Models 4\n"
     ]
    }
   ],
   "source": [
    "from sklearn.model_selection import ParameterGrid\n",
    "params_grid = {'seasonality_mode':(['additive']),\n",
    "               'seasonality_prior_scale':[20],\n",
    "               'changepoint_prior_scale':[0.8],\n",
    "              'holidays_prior_scale': [5,10],\n",
    "               'changepoint_range':[0.2],\n",
    "              'n_changepoints' : [50,75]}\n",
    "grid = ParameterGrid(params_grid)\n",
    "cnt = 0\n",
    "for p in grid:\n",
    "    cnt = cnt+1\n",
    "\n",
    "print('Total Possible Models',cnt)"
   ]
  },
  {
   "cell_type": "code",
   "execution_count": 230,
   "id": "ced4ba26",
   "metadata": {},
   "outputs": [
    {
     "name": "stdout",
     "output_type": "stream",
     "text": [
      "{'changepoint_prior_scale': 0.8, 'changepoint_range': 0.2, 'holidays_prior_scale': 5, 'n_changepoints': 50, 'seasonality_mode': 'additive', 'seasonality_prior_scale': 20}\n"
     ]
    },
    {
     "name": "stderr",
     "output_type": "stream",
     "text": [
      "10:12:25 - cmdstanpy - INFO - Chain [1] start processing\n",
      "10:12:30 - cmdstanpy - INFO - Chain [1] done processing\n"
     ]
    },
    {
     "name": "stdout",
     "output_type": "stream",
     "text": [
      "Root Mean Square Error(RMSE)------------------------------------ 13.940577640051863\n",
      "total:  25.0\n",
      "{'changepoint_prior_scale': 0.8, 'changepoint_range': 0.2, 'holidays_prior_scale': 5, 'n_changepoints': 75, 'seasonality_mode': 'additive', 'seasonality_prior_scale': 20}\n"
     ]
    },
    {
     "name": "stderr",
     "output_type": "stream",
     "text": [
      "10:12:32 - cmdstanpy - INFO - Chain [1] start processing\n",
      "10:12:39 - cmdstanpy - INFO - Chain [1] done processing\n"
     ]
    },
    {
     "name": "stdout",
     "output_type": "stream",
     "text": [
      "Root Mean Square Error(RMSE)------------------------------------ 13.94042431869603\n",
      "total:  50.0\n",
      "{'changepoint_prior_scale': 0.8, 'changepoint_range': 0.2, 'holidays_prior_scale': 10, 'n_changepoints': 50, 'seasonality_mode': 'additive', 'seasonality_prior_scale': 20}\n"
     ]
    },
    {
     "name": "stderr",
     "output_type": "stream",
     "text": [
      "10:12:40 - cmdstanpy - INFO - Chain [1] start processing\n",
      "10:12:41 - cmdstanpy - INFO - Chain [1] done processing\n"
     ]
    },
    {
     "name": "stdout",
     "output_type": "stream",
     "text": [
      "Root Mean Square Error(RMSE)------------------------------------ 13.939799818917896\n",
      "total:  75.0\n",
      "{'changepoint_prior_scale': 0.8, 'changepoint_range': 0.2, 'holidays_prior_scale': 10, 'n_changepoints': 75, 'seasonality_mode': 'additive', 'seasonality_prior_scale': 20}\n"
     ]
    },
    {
     "name": "stderr",
     "output_type": "stream",
     "text": [
      "10:12:42 - cmdstanpy - INFO - Chain [1] start processing\n",
      "10:12:45 - cmdstanpy - INFO - Chain [1] done processing\n"
     ]
    },
    {
     "name": "stdout",
     "output_type": "stream",
     "text": [
      "Root Mean Square Error(RMSE)------------------------------------ 13.937183642858676\n",
      "total:  100.0\n"
     ]
    }
   ],
   "source": [
    "import random\n",
    "import numpy as np\n",
    "\n",
    "model_parameters = pd.DataFrame(columns = ['RMSE','Parameters'])\n",
    "best_rmse = np.inf\n",
    "best_prediction=None\n",
    "count = 0\n",
    "\n",
    "for p in grid:\n",
    "    \n",
    "    test = pd.DataFrame()\n",
    "    print(p)\n",
    "    random.seed(0)\n",
    "    train_model =Prophet(changepoint_prior_scale = p['changepoint_prior_scale'],\n",
    "                         holidays_prior_scale = p['holidays_prior_scale'],\n",
    "                         n_changepoints = p['n_changepoints'],\n",
    "                         changepoint_range=p['changepoint_range'],\n",
    "                         seasonality_mode = p['seasonality_mode'],\n",
    "                         seasonality_prior_scale = p['seasonality_prior_scale'],\n",
    "                         yearly_seasonality = True,\n",
    "                         holidays=holiday, \n",
    "                         interval_width=0.95)\n",
    "    train_model.add_country_holidays(country_name='BR')\n",
    "    train_model.fit(prophet_train)\n",
    "    train_forecast = train_model.make_future_dataframe(periods=len(prophet_test), freq='D',include_history = False)\n",
    "    train_forecast = train_model.predict(train_forecast)\n",
    "    predicao=train_forecast[['ds','yhat']]\n",
    "    Actual = prophet_test\n",
    "    RMSE = np.sqrt(mean_squared_error(Actual['y'], predicao['yhat']))\n",
    "    if RMSE < best_rmse:\n",
    "        best_rmse = RMSE\n",
    "        best_prediction = train_forecast\n",
    "    print('Root Mean Square Error(RMSE)------------------------------------',RMSE)\n",
    "    model_parameters = pd.concat([model_parameters, pd.DataFrame({'RMSE':[RMSE],'Parameters':[p]})], ignore_index=True)\n",
    "    count += 1\n",
    "    print(\"total: \" ,round(count/cnt,2)*100)"
   ]
  },
  {
   "cell_type": "code",
   "execution_count": 181,
   "id": "8df2bab3",
   "metadata": {},
   "outputs": [
    {
     "data": {
      "text/html": [
       "<div>\n",
       "<style scoped>\n",
       "    .dataframe tbody tr th:only-of-type {\n",
       "        vertical-align: middle;\n",
       "    }\n",
       "\n",
       "    .dataframe tbody tr th {\n",
       "        vertical-align: top;\n",
       "    }\n",
       "\n",
       "    .dataframe thead th {\n",
       "        text-align: right;\n",
       "    }\n",
       "</style>\n",
       "<table border=\"1\" class=\"dataframe\">\n",
       "  <thead>\n",
       "    <tr style=\"text-align: right;\">\n",
       "      <th></th>\n",
       "      <th>RMSE</th>\n",
       "      <th>Parameters</th>\n",
       "    </tr>\n",
       "  </thead>\n",
       "  <tbody>\n",
       "    <tr>\n",
       "      <th>0</th>\n",
       "      <td>12.627938</td>\n",
       "      <td>{'changepoint_prior_scale': 0.05, 'changepoint...</td>\n",
       "    </tr>\n",
       "    <tr>\n",
       "      <th>1</th>\n",
       "      <td>12.628471</td>\n",
       "      <td>{'changepoint_prior_scale': 0.05, 'changepoint...</td>\n",
       "    </tr>\n",
       "    <tr>\n",
       "      <th>2</th>\n",
       "      <td>12.628624</td>\n",
       "      <td>{'changepoint_prior_scale': 0.05, 'changepoint...</td>\n",
       "    </tr>\n",
       "    <tr>\n",
       "      <th>3</th>\n",
       "      <td>12.628788</td>\n",
       "      <td>{'changepoint_prior_scale': 0.05, 'changepoint...</td>\n",
       "    </tr>\n",
       "    <tr>\n",
       "      <th>4</th>\n",
       "      <td>12.629049</td>\n",
       "      <td>{'changepoint_prior_scale': 0.08, 'changepoint...</td>\n",
       "    </tr>\n",
       "  </tbody>\n",
       "</table>\n",
       "</div>"
      ],
      "text/plain": [
       "        RMSE                                         Parameters\n",
       "0  12.627938  {'changepoint_prior_scale': 0.05, 'changepoint...\n",
       "1  12.628471  {'changepoint_prior_scale': 0.05, 'changepoint...\n",
       "2  12.628624  {'changepoint_prior_scale': 0.05, 'changepoint...\n",
       "3  12.628788  {'changepoint_prior_scale': 0.05, 'changepoint...\n",
       "4  12.629049  {'changepoint_prior_scale': 0.08, 'changepoint..."
      ]
     },
     "execution_count": 181,
     "metadata": {},
     "output_type": "execute_result"
    }
   ],
   "source": [
    "parameters = model_parameters.sort_values(by=['RMSE'])\n",
    "parameters = parameters.reset_index(drop=True)\n",
    "parameters.head()"
   ]
  },
  {
   "cell_type": "code",
   "execution_count": 182,
   "id": "19347abc",
   "metadata": {},
   "outputs": [
    {
     "name": "stdout",
     "output_type": "stream",
     "text": [
      "12.627938163826412\n",
      "{'changepoint_prior_scale': 0.05, 'changepoint_range': 0.05, 'holidays_prior_scale': 5, 'n_changepoints': 45, 'seasonality_mode': 'additive', 'seasonality_prior_scale': 10}\n"
     ]
    }
   ],
   "source": [
    "print(parameters.loc[0, 'RMSE'])\n",
    "print(parameters.loc[0, 'Parameters'])"
   ]
  },
  {
   "cell_type": "code",
   "execution_count": 24,
   "id": "3217fcfe",
   "metadata": {},
   "outputs": [
    {
     "data": {
      "text/html": [
       "<div>\n",
       "<style scoped>\n",
       "    .dataframe tbody tr th:only-of-type {\n",
       "        vertical-align: middle;\n",
       "    }\n",
       "\n",
       "    .dataframe tbody tr th {\n",
       "        vertical-align: top;\n",
       "    }\n",
       "\n",
       "    .dataframe thead th {\n",
       "        text-align: right;\n",
       "    }\n",
       "</style>\n",
       "<table border=\"1\" class=\"dataframe\">\n",
       "  <thead>\n",
       "    <tr style=\"text-align: right;\">\n",
       "      <th></th>\n",
       "      <th>ds</th>\n",
       "      <th>trend</th>\n",
       "      <th>yhat_lower</th>\n",
       "      <th>yhat_upper</th>\n",
       "      <th>trend_lower</th>\n",
       "      <th>trend_upper</th>\n",
       "      <th>Confraternização Universal</th>\n",
       "      <th>Confraternização Universal_lower</th>\n",
       "      <th>Confraternização Universal_upper</th>\n",
       "      <th>Dia do Trabalhador</th>\n",
       "      <th>...</th>\n",
       "      <th>weekly</th>\n",
       "      <th>weekly_lower</th>\n",
       "      <th>weekly_upper</th>\n",
       "      <th>yearly</th>\n",
       "      <th>yearly_lower</th>\n",
       "      <th>yearly_upper</th>\n",
       "      <th>multiplicative_terms</th>\n",
       "      <th>multiplicative_terms_lower</th>\n",
       "      <th>multiplicative_terms_upper</th>\n",
       "      <th>yhat</th>\n",
       "    </tr>\n",
       "  </thead>\n",
       "  <tbody>\n",
       "    <tr>\n",
       "      <th>0</th>\n",
       "      <td>2023-11-09</td>\n",
       "      <td>117.578931</td>\n",
       "      <td>105.987440</td>\n",
       "      <td>124.854574</td>\n",
       "      <td>117.578931</td>\n",
       "      <td>117.578931</td>\n",
       "      <td>0.0</td>\n",
       "      <td>0.0</td>\n",
       "      <td>0.0</td>\n",
       "      <td>0.0</td>\n",
       "      <td>...</td>\n",
       "      <td>0.034719</td>\n",
       "      <td>0.034719</td>\n",
       "      <td>0.034719</td>\n",
       "      <td>-0.109849</td>\n",
       "      <td>-0.109849</td>\n",
       "      <td>-0.109849</td>\n",
       "      <td>0.0</td>\n",
       "      <td>0.0</td>\n",
       "      <td>0.0</td>\n",
       "      <td>115.268279</td>\n",
       "    </tr>\n",
       "    <tr>\n",
       "      <th>1</th>\n",
       "      <td>2023-11-10</td>\n",
       "      <td>117.595261</td>\n",
       "      <td>106.238872</td>\n",
       "      <td>124.895490</td>\n",
       "      <td>117.595261</td>\n",
       "      <td>117.595261</td>\n",
       "      <td>0.0</td>\n",
       "      <td>0.0</td>\n",
       "      <td>0.0</td>\n",
       "      <td>0.0</td>\n",
       "      <td>...</td>\n",
       "      <td>0.012883</td>\n",
       "      <td>0.012883</td>\n",
       "      <td>0.012883</td>\n",
       "      <td>-0.157433</td>\n",
       "      <td>-0.157433</td>\n",
       "      <td>-0.157433</td>\n",
       "      <td>0.0</td>\n",
       "      <td>0.0</td>\n",
       "      <td>0.0</td>\n",
       "      <td>115.215189</td>\n",
       "    </tr>\n",
       "    <tr>\n",
       "      <th>2</th>\n",
       "      <td>2023-11-11</td>\n",
       "      <td>117.611591</td>\n",
       "      <td>105.244770</td>\n",
       "      <td>124.627312</td>\n",
       "      <td>117.611591</td>\n",
       "      <td>117.611591</td>\n",
       "      <td>0.0</td>\n",
       "      <td>0.0</td>\n",
       "      <td>0.0</td>\n",
       "      <td>0.0</td>\n",
       "      <td>...</td>\n",
       "      <td>-0.014508</td>\n",
       "      <td>-0.014508</td>\n",
       "      <td>-0.014508</td>\n",
       "      <td>-0.199338</td>\n",
       "      <td>-0.199338</td>\n",
       "      <td>-0.199338</td>\n",
       "      <td>0.0</td>\n",
       "      <td>0.0</td>\n",
       "      <td>0.0</td>\n",
       "      <td>115.162223</td>\n",
       "    </tr>\n",
       "    <tr>\n",
       "      <th>3</th>\n",
       "      <td>2023-11-12</td>\n",
       "      <td>117.627920</td>\n",
       "      <td>105.734004</td>\n",
       "      <td>124.196994</td>\n",
       "      <td>117.627920</td>\n",
       "      <td>117.627920</td>\n",
       "      <td>0.0</td>\n",
       "      <td>0.0</td>\n",
       "      <td>0.0</td>\n",
       "      <td>0.0</td>\n",
       "      <td>...</td>\n",
       "      <td>-0.038495</td>\n",
       "      <td>-0.038495</td>\n",
       "      <td>-0.038495</td>\n",
       "      <td>-0.235103</td>\n",
       "      <td>-0.235103</td>\n",
       "      <td>-0.235103</td>\n",
       "      <td>0.0</td>\n",
       "      <td>0.0</td>\n",
       "      <td>0.0</td>\n",
       "      <td>115.118800</td>\n",
       "    </tr>\n",
       "    <tr>\n",
       "      <th>4</th>\n",
       "      <td>2023-11-13</td>\n",
       "      <td>117.644250</td>\n",
       "      <td>105.499311</td>\n",
       "      <td>124.717820</td>\n",
       "      <td>117.638718</td>\n",
       "      <td>117.645199</td>\n",
       "      <td>0.0</td>\n",
       "      <td>0.0</td>\n",
       "      <td>0.0</td>\n",
       "      <td>0.0</td>\n",
       "      <td>...</td>\n",
       "      <td>-0.059011</td>\n",
       "      <td>-0.059011</td>\n",
       "      <td>-0.059011</td>\n",
       "      <td>-0.264424</td>\n",
       "      <td>-0.264424</td>\n",
       "      <td>-0.264424</td>\n",
       "      <td>0.0</td>\n",
       "      <td>0.0</td>\n",
       "      <td>0.0</td>\n",
       "      <td>115.085293</td>\n",
       "    </tr>\n",
       "    <tr>\n",
       "      <th>5</th>\n",
       "      <td>2023-11-14</td>\n",
       "      <td>117.660579</td>\n",
       "      <td>106.220504</td>\n",
       "      <td>124.612948</td>\n",
       "      <td>117.649549</td>\n",
       "      <td>117.668254</td>\n",
       "      <td>0.0</td>\n",
       "      <td>0.0</td>\n",
       "      <td>0.0</td>\n",
       "      <td>0.0</td>\n",
       "      <td>...</td>\n",
       "      <td>0.013535</td>\n",
       "      <td>0.013535</td>\n",
       "      <td>0.013535</td>\n",
       "      <td>-0.287157</td>\n",
       "      <td>-0.287157</td>\n",
       "      <td>-0.287157</td>\n",
       "      <td>0.0</td>\n",
       "      <td>0.0</td>\n",
       "      <td>0.0</td>\n",
       "      <td>115.151436</td>\n",
       "    </tr>\n",
       "    <tr>\n",
       "      <th>6</th>\n",
       "      <td>2023-11-15</td>\n",
       "      <td>117.676909</td>\n",
       "      <td>105.658070</td>\n",
       "      <td>124.768589</td>\n",
       "      <td>117.656046</td>\n",
       "      <td>117.694425</td>\n",
       "      <td>0.0</td>\n",
       "      <td>0.0</td>\n",
       "      <td>0.0</td>\n",
       "      <td>0.0</td>\n",
       "      <td>...</td>\n",
       "      <td>0.050877</td>\n",
       "      <td>0.050877</td>\n",
       "      <td>0.050877</td>\n",
       "      <td>-0.303320</td>\n",
       "      <td>-0.303320</td>\n",
       "      <td>-0.303320</td>\n",
       "      <td>0.0</td>\n",
       "      <td>0.0</td>\n",
       "      <td>0.0</td>\n",
       "      <td>114.960270</td>\n",
       "    </tr>\n",
       "    <tr>\n",
       "      <th>7</th>\n",
       "      <td>2023-11-16</td>\n",
       "      <td>117.693239</td>\n",
       "      <td>106.725955</td>\n",
       "      <td>124.370592</td>\n",
       "      <td>117.664589</td>\n",
       "      <td>117.715828</td>\n",
       "      <td>0.0</td>\n",
       "      <td>0.0</td>\n",
       "      <td>0.0</td>\n",
       "      <td>0.0</td>\n",
       "      <td>...</td>\n",
       "      <td>0.034719</td>\n",
       "      <td>0.034719</td>\n",
       "      <td>0.034719</td>\n",
       "      <td>-0.313086</td>\n",
       "      <td>-0.313086</td>\n",
       "      <td>-0.313086</td>\n",
       "      <td>0.0</td>\n",
       "      <td>0.0</td>\n",
       "      <td>0.0</td>\n",
       "      <td>115.179350</td>\n",
       "    </tr>\n",
       "    <tr>\n",
       "      <th>8</th>\n",
       "      <td>2023-11-17</td>\n",
       "      <td>117.709568</td>\n",
       "      <td>105.390486</td>\n",
       "      <td>124.752906</td>\n",
       "      <td>117.670344</td>\n",
       "      <td>117.742804</td>\n",
       "      <td>0.0</td>\n",
       "      <td>0.0</td>\n",
       "      <td>0.0</td>\n",
       "      <td>0.0</td>\n",
       "      <td>...</td>\n",
       "      <td>0.012883</td>\n",
       "      <td>0.012883</td>\n",
       "      <td>0.012883</td>\n",
       "      <td>-0.316776</td>\n",
       "      <td>-0.316776</td>\n",
       "      <td>-0.316776</td>\n",
       "      <td>0.0</td>\n",
       "      <td>0.0</td>\n",
       "      <td>0.0</td>\n",
       "      <td>115.170154</td>\n",
       "    </tr>\n",
       "    <tr>\n",
       "      <th>9</th>\n",
       "      <td>2023-11-18</td>\n",
       "      <td>117.725898</td>\n",
       "      <td>105.027632</td>\n",
       "      <td>124.508096</td>\n",
       "      <td>117.677893</td>\n",
       "      <td>117.770246</td>\n",
       "      <td>0.0</td>\n",
       "      <td>0.0</td>\n",
       "      <td>0.0</td>\n",
       "      <td>0.0</td>\n",
       "      <td>...</td>\n",
       "      <td>-0.014508</td>\n",
       "      <td>-0.014508</td>\n",
       "      <td>-0.014508</td>\n",
       "      <td>-0.314849</td>\n",
       "      <td>-0.314849</td>\n",
       "      <td>-0.314849</td>\n",
       "      <td>0.0</td>\n",
       "      <td>0.0</td>\n",
       "      <td>0.0</td>\n",
       "      <td>115.161019</td>\n",
       "    </tr>\n",
       "    <tr>\n",
       "      <th>10</th>\n",
       "      <td>2023-11-19</td>\n",
       "      <td>117.742227</td>\n",
       "      <td>105.822694</td>\n",
       "      <td>124.327522</td>\n",
       "      <td>117.683299</td>\n",
       "      <td>117.804425</td>\n",
       "      <td>0.0</td>\n",
       "      <td>0.0</td>\n",
       "      <td>0.0</td>\n",
       "      <td>0.0</td>\n",
       "      <td>...</td>\n",
       "      <td>-0.038495</td>\n",
       "      <td>-0.038495</td>\n",
       "      <td>-0.038495</td>\n",
       "      <td>-0.307885</td>\n",
       "      <td>-0.307885</td>\n",
       "      <td>-0.307885</td>\n",
       "      <td>0.0</td>\n",
       "      <td>0.0</td>\n",
       "      <td>0.0</td>\n",
       "      <td>115.160325</td>\n",
       "    </tr>\n",
       "    <tr>\n",
       "      <th>11</th>\n",
       "      <td>2023-11-20</td>\n",
       "      <td>117.758557</td>\n",
       "      <td>105.647446</td>\n",
       "      <td>124.998688</td>\n",
       "      <td>117.686597</td>\n",
       "      <td>117.832597</td>\n",
       "      <td>0.0</td>\n",
       "      <td>0.0</td>\n",
       "      <td>0.0</td>\n",
       "      <td>0.0</td>\n",
       "      <td>...</td>\n",
       "      <td>-0.059011</td>\n",
       "      <td>-0.059011</td>\n",
       "      <td>-0.059011</td>\n",
       "      <td>-0.296572</td>\n",
       "      <td>-0.296572</td>\n",
       "      <td>-0.296572</td>\n",
       "      <td>0.0</td>\n",
       "      <td>0.0</td>\n",
       "      <td>0.0</td>\n",
       "      <td>115.167452</td>\n",
       "    </tr>\n",
       "    <tr>\n",
       "      <th>12</th>\n",
       "      <td>2023-11-21</td>\n",
       "      <td>117.774886</td>\n",
       "      <td>106.009090</td>\n",
       "      <td>124.730468</td>\n",
       "      <td>117.691852</td>\n",
       "      <td>117.860031</td>\n",
       "      <td>0.0</td>\n",
       "      <td>0.0</td>\n",
       "      <td>0.0</td>\n",
       "      <td>0.0</td>\n",
       "      <td>...</td>\n",
       "      <td>0.013535</td>\n",
       "      <td>0.013535</td>\n",
       "      <td>0.013535</td>\n",
       "      <td>-0.281681</td>\n",
       "      <td>-0.281681</td>\n",
       "      <td>-0.281681</td>\n",
       "      <td>0.0</td>\n",
       "      <td>0.0</td>\n",
       "      <td>0.0</td>\n",
       "      <td>115.271220</td>\n",
       "    </tr>\n",
       "    <tr>\n",
       "      <th>13</th>\n",
       "      <td>2023-11-22</td>\n",
       "      <td>117.791216</td>\n",
       "      <td>105.642834</td>\n",
       "      <td>124.320187</td>\n",
       "      <td>117.689801</td>\n",
       "      <td>117.895240</td>\n",
       "      <td>0.0</td>\n",
       "      <td>0.0</td>\n",
       "      <td>0.0</td>\n",
       "      <td>0.0</td>\n",
       "      <td>...</td>\n",
       "      <td>0.050877</td>\n",
       "      <td>0.050877</td>\n",
       "      <td>0.050877</td>\n",
       "      <td>-0.264046</td>\n",
       "      <td>-0.264046</td>\n",
       "      <td>-0.264046</td>\n",
       "      <td>0.0</td>\n",
       "      <td>0.0</td>\n",
       "      <td>0.0</td>\n",
       "      <td>115.342526</td>\n",
       "    </tr>\n",
       "    <tr>\n",
       "      <th>14</th>\n",
       "      <td>2023-11-23</td>\n",
       "      <td>117.807546</td>\n",
       "      <td>105.381634</td>\n",
       "      <td>124.801844</td>\n",
       "      <td>117.691119</td>\n",
       "      <td>117.925217</td>\n",
       "      <td>0.0</td>\n",
       "      <td>0.0</td>\n",
       "      <td>0.0</td>\n",
       "      <td>0.0</td>\n",
       "      <td>...</td>\n",
       "      <td>0.034719</td>\n",
       "      <td>0.034719</td>\n",
       "      <td>0.034719</td>\n",
       "      <td>-0.244542</td>\n",
       "      <td>-0.244542</td>\n",
       "      <td>-0.244542</td>\n",
       "      <td>0.0</td>\n",
       "      <td>0.0</td>\n",
       "      <td>0.0</td>\n",
       "      <td>115.362201</td>\n",
       "    </tr>\n",
       "    <tr>\n",
       "      <th>15</th>\n",
       "      <td>2023-11-24</td>\n",
       "      <td>117.823875</td>\n",
       "      <td>106.336326</td>\n",
       "      <td>125.029765</td>\n",
       "      <td>117.685257</td>\n",
       "      <td>117.953920</td>\n",
       "      <td>0.0</td>\n",
       "      <td>0.0</td>\n",
       "      <td>0.0</td>\n",
       "      <td>0.0</td>\n",
       "      <td>...</td>\n",
       "      <td>0.012883</td>\n",
       "      <td>0.012883</td>\n",
       "      <td>0.012883</td>\n",
       "      <td>-0.224061</td>\n",
       "      <td>-0.224061</td>\n",
       "      <td>-0.224061</td>\n",
       "      <td>0.0</td>\n",
       "      <td>0.0</td>\n",
       "      <td>0.0</td>\n",
       "      <td>115.377176</td>\n",
       "    </tr>\n",
       "    <tr>\n",
       "      <th>16</th>\n",
       "      <td>2023-11-25</td>\n",
       "      <td>117.840205</td>\n",
       "      <td>106.304113</td>\n",
       "      <td>124.720825</td>\n",
       "      <td>117.688680</td>\n",
       "      <td>117.982573</td>\n",
       "      <td>0.0</td>\n",
       "      <td>0.0</td>\n",
       "      <td>0.0</td>\n",
       "      <td>0.0</td>\n",
       "      <td>...</td>\n",
       "      <td>-0.014508</td>\n",
       "      <td>-0.014508</td>\n",
       "      <td>-0.014508</td>\n",
       "      <td>-0.203482</td>\n",
       "      <td>-0.203482</td>\n",
       "      <td>-0.203482</td>\n",
       "      <td>0.0</td>\n",
       "      <td>0.0</td>\n",
       "      <td>0.0</td>\n",
       "      <td>115.386693</td>\n",
       "    </tr>\n",
       "    <tr>\n",
       "      <th>17</th>\n",
       "      <td>2023-11-26</td>\n",
       "      <td>117.856534</td>\n",
       "      <td>106.012094</td>\n",
       "      <td>125.075831</td>\n",
       "      <td>117.683814</td>\n",
       "      <td>118.016424</td>\n",
       "      <td>0.0</td>\n",
       "      <td>0.0</td>\n",
       "      <td>0.0</td>\n",
       "      <td>0.0</td>\n",
       "      <td>...</td>\n",
       "      <td>-0.038495</td>\n",
       "      <td>-0.038495</td>\n",
       "      <td>-0.038495</td>\n",
       "      <td>-0.183655</td>\n",
       "      <td>-0.183655</td>\n",
       "      <td>-0.183655</td>\n",
       "      <td>0.0</td>\n",
       "      <td>0.0</td>\n",
       "      <td>0.0</td>\n",
       "      <td>115.398863</td>\n",
       "    </tr>\n",
       "    <tr>\n",
       "      <th>18</th>\n",
       "      <td>2023-11-27</td>\n",
       "      <td>117.872864</td>\n",
       "      <td>106.142414</td>\n",
       "      <td>124.899780</td>\n",
       "      <td>117.673667</td>\n",
       "      <td>118.052271</td>\n",
       "      <td>0.0</td>\n",
       "      <td>0.0</td>\n",
       "      <td>0.0</td>\n",
       "      <td>0.0</td>\n",
       "      <td>...</td>\n",
       "      <td>-0.059011</td>\n",
       "      <td>-0.059011</td>\n",
       "      <td>-0.059011</td>\n",
       "      <td>-0.165367</td>\n",
       "      <td>-0.165367</td>\n",
       "      <td>-0.165367</td>\n",
       "      <td>0.0</td>\n",
       "      <td>0.0</td>\n",
       "      <td>0.0</td>\n",
       "      <td>115.412964</td>\n",
       "    </tr>\n",
       "    <tr>\n",
       "      <th>19</th>\n",
       "      <td>2023-11-28</td>\n",
       "      <td>117.889194</td>\n",
       "      <td>106.118015</td>\n",
       "      <td>125.202999</td>\n",
       "      <td>117.676080</td>\n",
       "      <td>118.082654</td>\n",
       "      <td>0.0</td>\n",
       "      <td>0.0</td>\n",
       "      <td>0.0</td>\n",
       "      <td>0.0</td>\n",
       "      <td>...</td>\n",
       "      <td>0.013535</td>\n",
       "      <td>0.013535</td>\n",
       "      <td>0.013535</td>\n",
       "      <td>-0.149331</td>\n",
       "      <td>-0.149331</td>\n",
       "      <td>-0.149331</td>\n",
       "      <td>0.0</td>\n",
       "      <td>0.0</td>\n",
       "      <td>0.0</td>\n",
       "      <td>115.517876</td>\n",
       "    </tr>\n",
       "    <tr>\n",
       "      <th>20</th>\n",
       "      <td>2023-11-29</td>\n",
       "      <td>117.905523</td>\n",
       "      <td>106.076307</td>\n",
       "      <td>124.285311</td>\n",
       "      <td>117.658837</td>\n",
       "      <td>118.107765</td>\n",
       "      <td>0.0</td>\n",
       "      <td>0.0</td>\n",
       "      <td>0.0</td>\n",
       "      <td>0.0</td>\n",
       "      <td>...</td>\n",
       "      <td>0.050877</td>\n",
       "      <td>0.050877</td>\n",
       "      <td>0.050877</td>\n",
       "      <td>-0.136156</td>\n",
       "      <td>-0.136156</td>\n",
       "      <td>-0.136156</td>\n",
       "      <td>0.0</td>\n",
       "      <td>0.0</td>\n",
       "      <td>0.0</td>\n",
       "      <td>115.584722</td>\n",
       "    </tr>\n",
       "    <tr>\n",
       "      <th>21</th>\n",
       "      <td>2023-11-30</td>\n",
       "      <td>117.921853</td>\n",
       "      <td>106.965740</td>\n",
       "      <td>125.995690</td>\n",
       "      <td>117.678381</td>\n",
       "      <td>118.141450</td>\n",
       "      <td>0.0</td>\n",
       "      <td>0.0</td>\n",
       "      <td>0.0</td>\n",
       "      <td>0.0</td>\n",
       "      <td>...</td>\n",
       "      <td>0.034719</td>\n",
       "      <td>0.034719</td>\n",
       "      <td>0.034719</td>\n",
       "      <td>-0.126333</td>\n",
       "      <td>-0.126333</td>\n",
       "      <td>-0.126333</td>\n",
       "      <td>0.0</td>\n",
       "      <td>0.0</td>\n",
       "      <td>0.0</td>\n",
       "      <td>115.594716</td>\n",
       "    </tr>\n",
       "    <tr>\n",
       "      <th>22</th>\n",
       "      <td>2023-12-01</td>\n",
       "      <td>117.938182</td>\n",
       "      <td>106.272709</td>\n",
       "      <td>124.731915</td>\n",
       "      <td>117.666419</td>\n",
       "      <td>118.169533</td>\n",
       "      <td>0.0</td>\n",
       "      <td>0.0</td>\n",
       "      <td>0.0</td>\n",
       "      <td>0.0</td>\n",
       "      <td>...</td>\n",
       "      <td>0.012883</td>\n",
       "      <td>0.012883</td>\n",
       "      <td>0.012883</td>\n",
       "      <td>-0.120222</td>\n",
       "      <td>-0.120222</td>\n",
       "      <td>-0.120222</td>\n",
       "      <td>0.0</td>\n",
       "      <td>0.0</td>\n",
       "      <td>0.0</td>\n",
       "      <td>115.595322</td>\n",
       "    </tr>\n",
       "    <tr>\n",
       "      <th>23</th>\n",
       "      <td>2023-12-02</td>\n",
       "      <td>117.954512</td>\n",
       "      <td>106.640948</td>\n",
       "      <td>124.875778</td>\n",
       "      <td>117.656649</td>\n",
       "      <td>118.200445</td>\n",
       "      <td>0.0</td>\n",
       "      <td>0.0</td>\n",
       "      <td>0.0</td>\n",
       "      <td>0.0</td>\n",
       "      <td>...</td>\n",
       "      <td>-0.014508</td>\n",
       "      <td>-0.014508</td>\n",
       "      <td>-0.014508</td>\n",
       "      <td>-0.118036</td>\n",
       "      <td>-0.118036</td>\n",
       "      <td>-0.118036</td>\n",
       "      <td>0.0</td>\n",
       "      <td>0.0</td>\n",
       "      <td>0.0</td>\n",
       "      <td>115.586447</td>\n",
       "    </tr>\n",
       "    <tr>\n",
       "      <th>24</th>\n",
       "      <td>2023-12-03</td>\n",
       "      <td>117.970841</td>\n",
       "      <td>106.247528</td>\n",
       "      <td>125.600606</td>\n",
       "      <td>117.659045</td>\n",
       "      <td>118.239932</td>\n",
       "      <td>0.0</td>\n",
       "      <td>0.0</td>\n",
       "      <td>0.0</td>\n",
       "      <td>0.0</td>\n",
       "      <td>...</td>\n",
       "      <td>-0.038495</td>\n",
       "      <td>-0.038495</td>\n",
       "      <td>-0.038495</td>\n",
       "      <td>-0.119833</td>\n",
       "      <td>-0.119833</td>\n",
       "      <td>-0.119833</td>\n",
       "      <td>0.0</td>\n",
       "      <td>0.0</td>\n",
       "      <td>0.0</td>\n",
       "      <td>115.576992</td>\n",
       "    </tr>\n",
       "    <tr>\n",
       "      <th>25</th>\n",
       "      <td>2023-12-04</td>\n",
       "      <td>117.987171</td>\n",
       "      <td>106.666419</td>\n",
       "      <td>125.174895</td>\n",
       "      <td>117.661441</td>\n",
       "      <td>118.272649</td>\n",
       "      <td>0.0</td>\n",
       "      <td>0.0</td>\n",
       "      <td>0.0</td>\n",
       "      <td>0.0</td>\n",
       "      <td>...</td>\n",
       "      <td>-0.059011</td>\n",
       "      <td>-0.059011</td>\n",
       "      <td>-0.059011</td>\n",
       "      <td>-0.125517</td>\n",
       "      <td>-0.125517</td>\n",
       "      <td>-0.125517</td>\n",
       "      <td>0.0</td>\n",
       "      <td>0.0</td>\n",
       "      <td>0.0</td>\n",
       "      <td>115.567122</td>\n",
       "    </tr>\n",
       "    <tr>\n",
       "      <th>26</th>\n",
       "      <td>2023-12-05</td>\n",
       "      <td>118.003501</td>\n",
       "      <td>105.994722</td>\n",
       "      <td>124.892254</td>\n",
       "      <td>117.641503</td>\n",
       "      <td>118.303017</td>\n",
       "      <td>0.0</td>\n",
       "      <td>0.0</td>\n",
       "      <td>0.0</td>\n",
       "      <td>0.0</td>\n",
       "      <td>...</td>\n",
       "      <td>0.013535</td>\n",
       "      <td>0.013535</td>\n",
       "      <td>0.013535</td>\n",
       "      <td>-0.134829</td>\n",
       "      <td>-0.134829</td>\n",
       "      <td>-0.134829</td>\n",
       "      <td>0.0</td>\n",
       "      <td>0.0</td>\n",
       "      <td>0.0</td>\n",
       "      <td>115.646686</td>\n",
       "    </tr>\n",
       "    <tr>\n",
       "      <th>27</th>\n",
       "      <td>2023-12-06</td>\n",
       "      <td>118.019830</td>\n",
       "      <td>106.715344</td>\n",
       "      <td>125.374829</td>\n",
       "      <td>117.641705</td>\n",
       "      <td>118.348118</td>\n",
       "      <td>0.0</td>\n",
       "      <td>0.0</td>\n",
       "      <td>0.0</td>\n",
       "      <td>0.0</td>\n",
       "      <td>...</td>\n",
       "      <td>0.050877</td>\n",
       "      <td>0.050877</td>\n",
       "      <td>0.050877</td>\n",
       "      <td>-0.147357</td>\n",
       "      <td>-0.147357</td>\n",
       "      <td>-0.147357</td>\n",
       "      <td>0.0</td>\n",
       "      <td>0.0</td>\n",
       "      <td>0.0</td>\n",
       "      <td>115.687828</td>\n",
       "    </tr>\n",
       "    <tr>\n",
       "      <th>28</th>\n",
       "      <td>2023-12-07</td>\n",
       "      <td>118.036160</td>\n",
       "      <td>105.726543</td>\n",
       "      <td>124.405910</td>\n",
       "      <td>117.641907</td>\n",
       "      <td>118.381314</td>\n",
       "      <td>0.0</td>\n",
       "      <td>0.0</td>\n",
       "      <td>0.0</td>\n",
       "      <td>0.0</td>\n",
       "      <td>...</td>\n",
       "      <td>0.034719</td>\n",
       "      <td>0.034719</td>\n",
       "      <td>0.034719</td>\n",
       "      <td>-0.162542</td>\n",
       "      <td>-0.162542</td>\n",
       "      <td>-0.162542</td>\n",
       "      <td>0.0</td>\n",
       "      <td>0.0</td>\n",
       "      <td>0.0</td>\n",
       "      <td>115.672815</td>\n",
       "    </tr>\n",
       "    <tr>\n",
       "      <th>29</th>\n",
       "      <td>2023-12-08</td>\n",
       "      <td>118.052489</td>\n",
       "      <td>106.098100</td>\n",
       "      <td>124.499255</td>\n",
       "      <td>117.642108</td>\n",
       "      <td>118.414425</td>\n",
       "      <td>0.0</td>\n",
       "      <td>0.0</td>\n",
       "      <td>0.0</td>\n",
       "      <td>0.0</td>\n",
       "      <td>...</td>\n",
       "      <td>0.012883</td>\n",
       "      <td>0.012883</td>\n",
       "      <td>0.012883</td>\n",
       "      <td>-0.179687</td>\n",
       "      <td>-0.179687</td>\n",
       "      <td>-0.179687</td>\n",
       "      <td>0.0</td>\n",
       "      <td>0.0</td>\n",
       "      <td>0.0</td>\n",
       "      <td>115.650164</td>\n",
       "    </tr>\n",
       "    <tr>\n",
       "      <th>30</th>\n",
       "      <td>2023-12-09</td>\n",
       "      <td>118.068819</td>\n",
       "      <td>106.288009</td>\n",
       "      <td>124.424042</td>\n",
       "      <td>117.642405</td>\n",
       "      <td>118.447536</td>\n",
       "      <td>0.0</td>\n",
       "      <td>0.0</td>\n",
       "      <td>0.0</td>\n",
       "      <td>0.0</td>\n",
       "      <td>...</td>\n",
       "      <td>-0.014508</td>\n",
       "      <td>-0.014508</td>\n",
       "      <td>-0.014508</td>\n",
       "      <td>-0.197972</td>\n",
       "      <td>-0.197972</td>\n",
       "      <td>-0.197972</td>\n",
       "      <td>0.0</td>\n",
       "      <td>0.0</td>\n",
       "      <td>0.0</td>\n",
       "      <td>115.620817</td>\n",
       "    </tr>\n",
       "    <tr>\n",
       "      <th>31</th>\n",
       "      <td>2023-12-10</td>\n",
       "      <td>118.085149</td>\n",
       "      <td>106.290738</td>\n",
       "      <td>124.992078</td>\n",
       "      <td>117.642710</td>\n",
       "      <td>118.480646</td>\n",
       "      <td>0.0</td>\n",
       "      <td>0.0</td>\n",
       "      <td>0.0</td>\n",
       "      <td>0.0</td>\n",
       "      <td>...</td>\n",
       "      <td>-0.038495</td>\n",
       "      <td>-0.038495</td>\n",
       "      <td>-0.038495</td>\n",
       "      <td>-0.216477</td>\n",
       "      <td>-0.216477</td>\n",
       "      <td>-0.216477</td>\n",
       "      <td>0.0</td>\n",
       "      <td>0.0</td>\n",
       "      <td>0.0</td>\n",
       "      <td>115.594655</td>\n",
       "    </tr>\n",
       "    <tr>\n",
       "      <th>32</th>\n",
       "      <td>2023-12-11</td>\n",
       "      <td>118.101478</td>\n",
       "      <td>106.035268</td>\n",
       "      <td>125.052432</td>\n",
       "      <td>117.634157</td>\n",
       "      <td>118.513746</td>\n",
       "      <td>0.0</td>\n",
       "      <td>0.0</td>\n",
       "      <td>0.0</td>\n",
       "      <td>0.0</td>\n",
       "      <td>...</td>\n",
       "      <td>-0.059011</td>\n",
       "      <td>-0.059011</td>\n",
       "      <td>-0.059011</td>\n",
       "      <td>-0.234194</td>\n",
       "      <td>-0.234194</td>\n",
       "      <td>-0.234194</td>\n",
       "      <td>0.0</td>\n",
       "      <td>0.0</td>\n",
       "      <td>0.0</td>\n",
       "      <td>115.572751</td>\n",
       "    </tr>\n",
       "    <tr>\n",
       "      <th>33</th>\n",
       "      <td>2023-12-12</td>\n",
       "      <td>118.117808</td>\n",
       "      <td>106.286621</td>\n",
       "      <td>124.748881</td>\n",
       "      <td>117.634058</td>\n",
       "      <td>118.546808</td>\n",
       "      <td>0.0</td>\n",
       "      <td>0.0</td>\n",
       "      <td>0.0</td>\n",
       "      <td>0.0</td>\n",
       "      <td>...</td>\n",
       "      <td>0.013535</td>\n",
       "      <td>0.013535</td>\n",
       "      <td>0.013535</td>\n",
       "      <td>-0.250060</td>\n",
       "      <td>-0.250060</td>\n",
       "      <td>-0.250060</td>\n",
       "      <td>0.0</td>\n",
       "      <td>0.0</td>\n",
       "      <td>0.0</td>\n",
       "      <td>115.645762</td>\n",
       "    </tr>\n",
       "    <tr>\n",
       "      <th>34</th>\n",
       "      <td>2023-12-13</td>\n",
       "      <td>118.134137</td>\n",
       "      <td>106.714684</td>\n",
       "      <td>124.872390</td>\n",
       "      <td>117.633960</td>\n",
       "      <td>118.579094</td>\n",
       "      <td>0.0</td>\n",
       "      <td>0.0</td>\n",
       "      <td>0.0</td>\n",
       "      <td>0.0</td>\n",
       "      <td>...</td>\n",
       "      <td>0.050877</td>\n",
       "      <td>0.050877</td>\n",
       "      <td>0.050877</td>\n",
       "      <td>-0.262975</td>\n",
       "      <td>-0.262975</td>\n",
       "      <td>-0.262975</td>\n",
       "      <td>0.0</td>\n",
       "      <td>0.0</td>\n",
       "      <td>0.0</td>\n",
       "      <td>115.686518</td>\n",
       "    </tr>\n",
       "    <tr>\n",
       "      <th>35</th>\n",
       "      <td>2023-12-14</td>\n",
       "      <td>118.150467</td>\n",
       "      <td>105.868398</td>\n",
       "      <td>124.677185</td>\n",
       "      <td>117.631551</td>\n",
       "      <td>118.614973</td>\n",
       "      <td>0.0</td>\n",
       "      <td>0.0</td>\n",
       "      <td>0.0</td>\n",
       "      <td>0.0</td>\n",
       "      <td>...</td>\n",
       "      <td>0.034719</td>\n",
       "      <td>0.034719</td>\n",
       "      <td>0.034719</td>\n",
       "      <td>-0.271832</td>\n",
       "      <td>-0.271832</td>\n",
       "      <td>-0.271832</td>\n",
       "      <td>0.0</td>\n",
       "      <td>0.0</td>\n",
       "      <td>0.0</td>\n",
       "      <td>115.677832</td>\n",
       "    </tr>\n",
       "    <tr>\n",
       "      <th>36</th>\n",
       "      <td>2023-12-15</td>\n",
       "      <td>118.166796</td>\n",
       "      <td>105.229433</td>\n",
       "      <td>125.737537</td>\n",
       "      <td>117.627656</td>\n",
       "      <td>118.653290</td>\n",
       "      <td>0.0</td>\n",
       "      <td>0.0</td>\n",
       "      <td>0.0</td>\n",
       "      <td>0.0</td>\n",
       "      <td>...</td>\n",
       "      <td>0.012883</td>\n",
       "      <td>0.012883</td>\n",
       "      <td>0.012883</td>\n",
       "      <td>-0.275543</td>\n",
       "      <td>-0.275543</td>\n",
       "      <td>-0.275543</td>\n",
       "      <td>0.0</td>\n",
       "      <td>0.0</td>\n",
       "      <td>0.0</td>\n",
       "      <td>115.668615</td>\n",
       "    </tr>\n",
       "    <tr>\n",
       "      <th>37</th>\n",
       "      <td>2023-12-16</td>\n",
       "      <td>118.183126</td>\n",
       "      <td>105.965667</td>\n",
       "      <td>124.558253</td>\n",
       "      <td>117.626210</td>\n",
       "      <td>118.695852</td>\n",
       "      <td>0.0</td>\n",
       "      <td>0.0</td>\n",
       "      <td>0.0</td>\n",
       "      <td>0.0</td>\n",
       "      <td>...</td>\n",
       "      <td>-0.014508</td>\n",
       "      <td>-0.014508</td>\n",
       "      <td>-0.014508</td>\n",
       "      <td>-0.273069</td>\n",
       "      <td>-0.273069</td>\n",
       "      <td>-0.273069</td>\n",
       "      <td>0.0</td>\n",
       "      <td>0.0</td>\n",
       "      <td>0.0</td>\n",
       "      <td>115.660027</td>\n",
       "    </tr>\n",
       "    <tr>\n",
       "      <th>38</th>\n",
       "      <td>2023-12-17</td>\n",
       "      <td>118.199456</td>\n",
       "      <td>105.255024</td>\n",
       "      <td>125.362221</td>\n",
       "      <td>117.624764</td>\n",
       "      <td>118.736299</td>\n",
       "      <td>0.0</td>\n",
       "      <td>0.0</td>\n",
       "      <td>0.0</td>\n",
       "      <td>0.0</td>\n",
       "      <td>...</td>\n",
       "      <td>-0.038495</td>\n",
       "      <td>-0.038495</td>\n",
       "      <td>-0.038495</td>\n",
       "      <td>-0.263442</td>\n",
       "      <td>-0.263442</td>\n",
       "      <td>-0.263442</td>\n",
       "      <td>0.0</td>\n",
       "      <td>0.0</td>\n",
       "      <td>0.0</td>\n",
       "      <td>115.661997</td>\n",
       "    </tr>\n",
       "    <tr>\n",
       "      <th>39</th>\n",
       "      <td>2023-12-18</td>\n",
       "      <td>118.215785</td>\n",
       "      <td>107.030337</td>\n",
       "      <td>124.763957</td>\n",
       "      <td>117.610058</td>\n",
       "      <td>118.772758</td>\n",
       "      <td>0.0</td>\n",
       "      <td>0.0</td>\n",
       "      <td>0.0</td>\n",
       "      <td>0.0</td>\n",
       "      <td>...</td>\n",
       "      <td>-0.059011</td>\n",
       "      <td>-0.059011</td>\n",
       "      <td>-0.059011</td>\n",
       "      <td>-0.245794</td>\n",
       "      <td>-0.245794</td>\n",
       "      <td>-0.245794</td>\n",
       "      <td>0.0</td>\n",
       "      <td>0.0</td>\n",
       "      <td>0.0</td>\n",
       "      <td>115.675459</td>\n",
       "    </tr>\n",
       "    <tr>\n",
       "      <th>40</th>\n",
       "      <td>2023-12-19</td>\n",
       "      <td>118.232115</td>\n",
       "      <td>106.795398</td>\n",
       "      <td>125.536070</td>\n",
       "      <td>117.604849</td>\n",
       "      <td>118.805359</td>\n",
       "      <td>0.0</td>\n",
       "      <td>0.0</td>\n",
       "      <td>0.0</td>\n",
       "      <td>0.0</td>\n",
       "      <td>...</td>\n",
       "      <td>0.013535</td>\n",
       "      <td>0.013535</td>\n",
       "      <td>0.013535</td>\n",
       "      <td>-0.219379</td>\n",
       "      <td>-0.219379</td>\n",
       "      <td>-0.219379</td>\n",
       "      <td>0.0</td>\n",
       "      <td>0.0</td>\n",
       "      <td>0.0</td>\n",
       "      <td>115.790750</td>\n",
       "    </tr>\n",
       "    <tr>\n",
       "      <th>41</th>\n",
       "      <td>2023-12-20</td>\n",
       "      <td>118.248444</td>\n",
       "      <td>106.633973</td>\n",
       "      <td>125.342832</td>\n",
       "      <td>117.599415</td>\n",
       "      <td>118.839571</td>\n",
       "      <td>0.0</td>\n",
       "      <td>0.0</td>\n",
       "      <td>0.0</td>\n",
       "      <td>0.0</td>\n",
       "      <td>...</td>\n",
       "      <td>0.050877</td>\n",
       "      <td>0.050877</td>\n",
       "      <td>0.050877</td>\n",
       "      <td>-0.183596</td>\n",
       "      <td>-0.183596</td>\n",
       "      <td>-0.183596</td>\n",
       "      <td>0.0</td>\n",
       "      <td>0.0</td>\n",
       "      <td>0.0</td>\n",
       "      <td>115.880204</td>\n",
       "    </tr>\n",
       "    <tr>\n",
       "      <th>42</th>\n",
       "      <td>2023-12-21</td>\n",
       "      <td>118.264774</td>\n",
       "      <td>107.483493</td>\n",
       "      <td>125.328805</td>\n",
       "      <td>117.593997</td>\n",
       "      <td>118.878464</td>\n",
       "      <td>0.0</td>\n",
       "      <td>0.0</td>\n",
       "      <td>0.0</td>\n",
       "      <td>0.0</td>\n",
       "      <td>...</td>\n",
       "      <td>0.034719</td>\n",
       "      <td>0.034719</td>\n",
       "      <td>0.034719</td>\n",
       "      <td>-0.138005</td>\n",
       "      <td>-0.138005</td>\n",
       "      <td>-0.138005</td>\n",
       "      <td>0.0</td>\n",
       "      <td>0.0</td>\n",
       "      <td>0.0</td>\n",
       "      <td>115.925966</td>\n",
       "    </tr>\n",
       "    <tr>\n",
       "      <th>43</th>\n",
       "      <td>2023-12-22</td>\n",
       "      <td>118.281104</td>\n",
       "      <td>107.265912</td>\n",
       "      <td>125.795101</td>\n",
       "      <td>117.589223</td>\n",
       "      <td>118.921987</td>\n",
       "      <td>0.0</td>\n",
       "      <td>0.0</td>\n",
       "      <td>0.0</td>\n",
       "      <td>0.0</td>\n",
       "      <td>...</td>\n",
       "      <td>0.012883</td>\n",
       "      <td>0.012883</td>\n",
       "      <td>0.012883</td>\n",
       "      <td>-0.082345</td>\n",
       "      <td>-0.082345</td>\n",
       "      <td>-0.082345</td>\n",
       "      <td>0.0</td>\n",
       "      <td>0.0</td>\n",
       "      <td>0.0</td>\n",
       "      <td>115.976121</td>\n",
       "    </tr>\n",
       "    <tr>\n",
       "      <th>44</th>\n",
       "      <td>2023-12-23</td>\n",
       "      <td>118.297433</td>\n",
       "      <td>107.107577</td>\n",
       "      <td>124.896033</td>\n",
       "      <td>117.583377</td>\n",
       "      <td>118.968084</td>\n",
       "      <td>0.0</td>\n",
       "      <td>0.0</td>\n",
       "      <td>0.0</td>\n",
       "      <td>0.0</td>\n",
       "      <td>...</td>\n",
       "      <td>-0.014508</td>\n",
       "      <td>-0.014508</td>\n",
       "      <td>-0.014508</td>\n",
       "      <td>-0.016540</td>\n",
       "      <td>-0.016540</td>\n",
       "      <td>-0.016540</td>\n",
       "      <td>0.0</td>\n",
       "      <td>0.0</td>\n",
       "      <td>0.0</td>\n",
       "      <td>116.030864</td>\n",
       "    </tr>\n",
       "    <tr>\n",
       "      <th>45</th>\n",
       "      <td>2023-12-24</td>\n",
       "      <td>118.313763</td>\n",
       "      <td>105.637552</td>\n",
       "      <td>125.277634</td>\n",
       "      <td>117.579976</td>\n",
       "      <td>119.009250</td>\n",
       "      <td>0.0</td>\n",
       "      <td>0.0</td>\n",
       "      <td>0.0</td>\n",
       "      <td>0.0</td>\n",
       "      <td>...</td>\n",
       "      <td>-0.038495</td>\n",
       "      <td>-0.038495</td>\n",
       "      <td>-0.038495</td>\n",
       "      <td>0.059289</td>\n",
       "      <td>0.059289</td>\n",
       "      <td>0.059289</td>\n",
       "      <td>0.0</td>\n",
       "      <td>0.0</td>\n",
       "      <td>0.0</td>\n",
       "      <td>116.099035</td>\n",
       "    </tr>\n",
       "    <tr>\n",
       "      <th>46</th>\n",
       "      <td>2023-12-25</td>\n",
       "      <td>118.330092</td>\n",
       "      <td>106.712308</td>\n",
       "      <td>126.704624</td>\n",
       "      <td>117.572672</td>\n",
       "      <td>119.052760</td>\n",
       "      <td>0.0</td>\n",
       "      <td>0.0</td>\n",
       "      <td>0.0</td>\n",
       "      <td>0.0</td>\n",
       "      <td>...</td>\n",
       "      <td>-0.059011</td>\n",
       "      <td>-0.059011</td>\n",
       "      <td>-0.059011</td>\n",
       "      <td>0.144823</td>\n",
       "      <td>0.144823</td>\n",
       "      <td>0.144823</td>\n",
       "      <td>0.0</td>\n",
       "      <td>0.0</td>\n",
       "      <td>0.0</td>\n",
       "      <td>116.534838</td>\n",
       "    </tr>\n",
       "    <tr>\n",
       "      <th>47</th>\n",
       "      <td>2023-12-26</td>\n",
       "      <td>118.346422</td>\n",
       "      <td>106.989319</td>\n",
       "      <td>126.438291</td>\n",
       "      <td>117.567195</td>\n",
       "      <td>119.098148</td>\n",
       "      <td>0.0</td>\n",
       "      <td>0.0</td>\n",
       "      <td>0.0</td>\n",
       "      <td>0.0</td>\n",
       "      <td>...</td>\n",
       "      <td>0.013535</td>\n",
       "      <td>0.013535</td>\n",
       "      <td>0.013535</td>\n",
       "      <td>0.239549</td>\n",
       "      <td>0.239549</td>\n",
       "      <td>0.239549</td>\n",
       "      <td>0.0</td>\n",
       "      <td>0.0</td>\n",
       "      <td>0.0</td>\n",
       "      <td>116.363985</td>\n",
       "    </tr>\n",
       "    <tr>\n",
       "      <th>48</th>\n",
       "      <td>2023-12-27</td>\n",
       "      <td>118.362751</td>\n",
       "      <td>107.250379</td>\n",
       "      <td>125.067156</td>\n",
       "      <td>117.560595</td>\n",
       "      <td>119.140203</td>\n",
       "      <td>0.0</td>\n",
       "      <td>0.0</td>\n",
       "      <td>0.0</td>\n",
       "      <td>0.0</td>\n",
       "      <td>...</td>\n",
       "      <td>0.050877</td>\n",
       "      <td>0.050877</td>\n",
       "      <td>0.050877</td>\n",
       "      <td>0.342763</td>\n",
       "      <td>0.342763</td>\n",
       "      <td>0.342763</td>\n",
       "      <td>0.0</td>\n",
       "      <td>0.0</td>\n",
       "      <td>0.0</td>\n",
       "      <td>116.520869</td>\n",
       "    </tr>\n",
       "    <tr>\n",
       "      <th>49</th>\n",
       "      <td>2023-12-28</td>\n",
       "      <td>118.379081</td>\n",
       "      <td>107.055757</td>\n",
       "      <td>125.796525</td>\n",
       "      <td>117.551908</td>\n",
       "      <td>119.187693</td>\n",
       "      <td>0.0</td>\n",
       "      <td>0.0</td>\n",
       "      <td>0.0</td>\n",
       "      <td>0.0</td>\n",
       "      <td>...</td>\n",
       "      <td>0.034719</td>\n",
       "      <td>0.034719</td>\n",
       "      <td>0.034719</td>\n",
       "      <td>0.453582</td>\n",
       "      <td>0.453582</td>\n",
       "      <td>0.453582</td>\n",
       "      <td>0.0</td>\n",
       "      <td>0.0</td>\n",
       "      <td>0.0</td>\n",
       "      <td>116.631860</td>\n",
       "    </tr>\n",
       "  </tbody>\n",
       "</table>\n",
       "<p>50 rows × 52 columns</p>\n",
       "</div>"
      ],
      "text/plain": [
       "           ds       trend  yhat_lower  yhat_upper  trend_lower  trend_upper  \\\n",
       "0  2023-11-09  117.578931  105.987440  124.854574   117.578931   117.578931   \n",
       "1  2023-11-10  117.595261  106.238872  124.895490   117.595261   117.595261   \n",
       "2  2023-11-11  117.611591  105.244770  124.627312   117.611591   117.611591   \n",
       "3  2023-11-12  117.627920  105.734004  124.196994   117.627920   117.627920   \n",
       "4  2023-11-13  117.644250  105.499311  124.717820   117.638718   117.645199   \n",
       "5  2023-11-14  117.660579  106.220504  124.612948   117.649549   117.668254   \n",
       "6  2023-11-15  117.676909  105.658070  124.768589   117.656046   117.694425   \n",
       "7  2023-11-16  117.693239  106.725955  124.370592   117.664589   117.715828   \n",
       "8  2023-11-17  117.709568  105.390486  124.752906   117.670344   117.742804   \n",
       "9  2023-11-18  117.725898  105.027632  124.508096   117.677893   117.770246   \n",
       "10 2023-11-19  117.742227  105.822694  124.327522   117.683299   117.804425   \n",
       "11 2023-11-20  117.758557  105.647446  124.998688   117.686597   117.832597   \n",
       "12 2023-11-21  117.774886  106.009090  124.730468   117.691852   117.860031   \n",
       "13 2023-11-22  117.791216  105.642834  124.320187   117.689801   117.895240   \n",
       "14 2023-11-23  117.807546  105.381634  124.801844   117.691119   117.925217   \n",
       "15 2023-11-24  117.823875  106.336326  125.029765   117.685257   117.953920   \n",
       "16 2023-11-25  117.840205  106.304113  124.720825   117.688680   117.982573   \n",
       "17 2023-11-26  117.856534  106.012094  125.075831   117.683814   118.016424   \n",
       "18 2023-11-27  117.872864  106.142414  124.899780   117.673667   118.052271   \n",
       "19 2023-11-28  117.889194  106.118015  125.202999   117.676080   118.082654   \n",
       "20 2023-11-29  117.905523  106.076307  124.285311   117.658837   118.107765   \n",
       "21 2023-11-30  117.921853  106.965740  125.995690   117.678381   118.141450   \n",
       "22 2023-12-01  117.938182  106.272709  124.731915   117.666419   118.169533   \n",
       "23 2023-12-02  117.954512  106.640948  124.875778   117.656649   118.200445   \n",
       "24 2023-12-03  117.970841  106.247528  125.600606   117.659045   118.239932   \n",
       "25 2023-12-04  117.987171  106.666419  125.174895   117.661441   118.272649   \n",
       "26 2023-12-05  118.003501  105.994722  124.892254   117.641503   118.303017   \n",
       "27 2023-12-06  118.019830  106.715344  125.374829   117.641705   118.348118   \n",
       "28 2023-12-07  118.036160  105.726543  124.405910   117.641907   118.381314   \n",
       "29 2023-12-08  118.052489  106.098100  124.499255   117.642108   118.414425   \n",
       "30 2023-12-09  118.068819  106.288009  124.424042   117.642405   118.447536   \n",
       "31 2023-12-10  118.085149  106.290738  124.992078   117.642710   118.480646   \n",
       "32 2023-12-11  118.101478  106.035268  125.052432   117.634157   118.513746   \n",
       "33 2023-12-12  118.117808  106.286621  124.748881   117.634058   118.546808   \n",
       "34 2023-12-13  118.134137  106.714684  124.872390   117.633960   118.579094   \n",
       "35 2023-12-14  118.150467  105.868398  124.677185   117.631551   118.614973   \n",
       "36 2023-12-15  118.166796  105.229433  125.737537   117.627656   118.653290   \n",
       "37 2023-12-16  118.183126  105.965667  124.558253   117.626210   118.695852   \n",
       "38 2023-12-17  118.199456  105.255024  125.362221   117.624764   118.736299   \n",
       "39 2023-12-18  118.215785  107.030337  124.763957   117.610058   118.772758   \n",
       "40 2023-12-19  118.232115  106.795398  125.536070   117.604849   118.805359   \n",
       "41 2023-12-20  118.248444  106.633973  125.342832   117.599415   118.839571   \n",
       "42 2023-12-21  118.264774  107.483493  125.328805   117.593997   118.878464   \n",
       "43 2023-12-22  118.281104  107.265912  125.795101   117.589223   118.921987   \n",
       "44 2023-12-23  118.297433  107.107577  124.896033   117.583377   118.968084   \n",
       "45 2023-12-24  118.313763  105.637552  125.277634   117.579976   119.009250   \n",
       "46 2023-12-25  118.330092  106.712308  126.704624   117.572672   119.052760   \n",
       "47 2023-12-26  118.346422  106.989319  126.438291   117.567195   119.098148   \n",
       "48 2023-12-27  118.362751  107.250379  125.067156   117.560595   119.140203   \n",
       "49 2023-12-28  118.379081  107.055757  125.796525   117.551908   119.187693   \n",
       "\n",
       "    Confraternização Universal  Confraternização Universal_lower  \\\n",
       "0                          0.0                               0.0   \n",
       "1                          0.0                               0.0   \n",
       "2                          0.0                               0.0   \n",
       "3                          0.0                               0.0   \n",
       "4                          0.0                               0.0   \n",
       "5                          0.0                               0.0   \n",
       "6                          0.0                               0.0   \n",
       "7                          0.0                               0.0   \n",
       "8                          0.0                               0.0   \n",
       "9                          0.0                               0.0   \n",
       "10                         0.0                               0.0   \n",
       "11                         0.0                               0.0   \n",
       "12                         0.0                               0.0   \n",
       "13                         0.0                               0.0   \n",
       "14                         0.0                               0.0   \n",
       "15                         0.0                               0.0   \n",
       "16                         0.0                               0.0   \n",
       "17                         0.0                               0.0   \n",
       "18                         0.0                               0.0   \n",
       "19                         0.0                               0.0   \n",
       "20                         0.0                               0.0   \n",
       "21                         0.0                               0.0   \n",
       "22                         0.0                               0.0   \n",
       "23                         0.0                               0.0   \n",
       "24                         0.0                               0.0   \n",
       "25                         0.0                               0.0   \n",
       "26                         0.0                               0.0   \n",
       "27                         0.0                               0.0   \n",
       "28                         0.0                               0.0   \n",
       "29                         0.0                               0.0   \n",
       "30                         0.0                               0.0   \n",
       "31                         0.0                               0.0   \n",
       "32                         0.0                               0.0   \n",
       "33                         0.0                               0.0   \n",
       "34                         0.0                               0.0   \n",
       "35                         0.0                               0.0   \n",
       "36                         0.0                               0.0   \n",
       "37                         0.0                               0.0   \n",
       "38                         0.0                               0.0   \n",
       "39                         0.0                               0.0   \n",
       "40                         0.0                               0.0   \n",
       "41                         0.0                               0.0   \n",
       "42                         0.0                               0.0   \n",
       "43                         0.0                               0.0   \n",
       "44                         0.0                               0.0   \n",
       "45                         0.0                               0.0   \n",
       "46                         0.0                               0.0   \n",
       "47                         0.0                               0.0   \n",
       "48                         0.0                               0.0   \n",
       "49                         0.0                               0.0   \n",
       "\n",
       "    Confraternização Universal_upper  Dia do Trabalhador  ...    weekly  \\\n",
       "0                                0.0                 0.0  ...  0.034719   \n",
       "1                                0.0                 0.0  ...  0.012883   \n",
       "2                                0.0                 0.0  ... -0.014508   \n",
       "3                                0.0                 0.0  ... -0.038495   \n",
       "4                                0.0                 0.0  ... -0.059011   \n",
       "5                                0.0                 0.0  ...  0.013535   \n",
       "6                                0.0                 0.0  ...  0.050877   \n",
       "7                                0.0                 0.0  ...  0.034719   \n",
       "8                                0.0                 0.0  ...  0.012883   \n",
       "9                                0.0                 0.0  ... -0.014508   \n",
       "10                               0.0                 0.0  ... -0.038495   \n",
       "11                               0.0                 0.0  ... -0.059011   \n",
       "12                               0.0                 0.0  ...  0.013535   \n",
       "13                               0.0                 0.0  ...  0.050877   \n",
       "14                               0.0                 0.0  ...  0.034719   \n",
       "15                               0.0                 0.0  ...  0.012883   \n",
       "16                               0.0                 0.0  ... -0.014508   \n",
       "17                               0.0                 0.0  ... -0.038495   \n",
       "18                               0.0                 0.0  ... -0.059011   \n",
       "19                               0.0                 0.0  ...  0.013535   \n",
       "20                               0.0                 0.0  ...  0.050877   \n",
       "21                               0.0                 0.0  ...  0.034719   \n",
       "22                               0.0                 0.0  ...  0.012883   \n",
       "23                               0.0                 0.0  ... -0.014508   \n",
       "24                               0.0                 0.0  ... -0.038495   \n",
       "25                               0.0                 0.0  ... -0.059011   \n",
       "26                               0.0                 0.0  ...  0.013535   \n",
       "27                               0.0                 0.0  ...  0.050877   \n",
       "28                               0.0                 0.0  ...  0.034719   \n",
       "29                               0.0                 0.0  ...  0.012883   \n",
       "30                               0.0                 0.0  ... -0.014508   \n",
       "31                               0.0                 0.0  ... -0.038495   \n",
       "32                               0.0                 0.0  ... -0.059011   \n",
       "33                               0.0                 0.0  ...  0.013535   \n",
       "34                               0.0                 0.0  ...  0.050877   \n",
       "35                               0.0                 0.0  ...  0.034719   \n",
       "36                               0.0                 0.0  ...  0.012883   \n",
       "37                               0.0                 0.0  ... -0.014508   \n",
       "38                               0.0                 0.0  ... -0.038495   \n",
       "39                               0.0                 0.0  ... -0.059011   \n",
       "40                               0.0                 0.0  ...  0.013535   \n",
       "41                               0.0                 0.0  ...  0.050877   \n",
       "42                               0.0                 0.0  ...  0.034719   \n",
       "43                               0.0                 0.0  ...  0.012883   \n",
       "44                               0.0                 0.0  ... -0.014508   \n",
       "45                               0.0                 0.0  ... -0.038495   \n",
       "46                               0.0                 0.0  ... -0.059011   \n",
       "47                               0.0                 0.0  ...  0.013535   \n",
       "48                               0.0                 0.0  ...  0.050877   \n",
       "49                               0.0                 0.0  ...  0.034719   \n",
       "\n",
       "    weekly_lower  weekly_upper    yearly  yearly_lower  yearly_upper  \\\n",
       "0       0.034719      0.034719 -0.109849     -0.109849     -0.109849   \n",
       "1       0.012883      0.012883 -0.157433     -0.157433     -0.157433   \n",
       "2      -0.014508     -0.014508 -0.199338     -0.199338     -0.199338   \n",
       "3      -0.038495     -0.038495 -0.235103     -0.235103     -0.235103   \n",
       "4      -0.059011     -0.059011 -0.264424     -0.264424     -0.264424   \n",
       "5       0.013535      0.013535 -0.287157     -0.287157     -0.287157   \n",
       "6       0.050877      0.050877 -0.303320     -0.303320     -0.303320   \n",
       "7       0.034719      0.034719 -0.313086     -0.313086     -0.313086   \n",
       "8       0.012883      0.012883 -0.316776     -0.316776     -0.316776   \n",
       "9      -0.014508     -0.014508 -0.314849     -0.314849     -0.314849   \n",
       "10     -0.038495     -0.038495 -0.307885     -0.307885     -0.307885   \n",
       "11     -0.059011     -0.059011 -0.296572     -0.296572     -0.296572   \n",
       "12      0.013535      0.013535 -0.281681     -0.281681     -0.281681   \n",
       "13      0.050877      0.050877 -0.264046     -0.264046     -0.264046   \n",
       "14      0.034719      0.034719 -0.244542     -0.244542     -0.244542   \n",
       "15      0.012883      0.012883 -0.224061     -0.224061     -0.224061   \n",
       "16     -0.014508     -0.014508 -0.203482     -0.203482     -0.203482   \n",
       "17     -0.038495     -0.038495 -0.183655     -0.183655     -0.183655   \n",
       "18     -0.059011     -0.059011 -0.165367     -0.165367     -0.165367   \n",
       "19      0.013535      0.013535 -0.149331     -0.149331     -0.149331   \n",
       "20      0.050877      0.050877 -0.136156     -0.136156     -0.136156   \n",
       "21      0.034719      0.034719 -0.126333     -0.126333     -0.126333   \n",
       "22      0.012883      0.012883 -0.120222     -0.120222     -0.120222   \n",
       "23     -0.014508     -0.014508 -0.118036     -0.118036     -0.118036   \n",
       "24     -0.038495     -0.038495 -0.119833     -0.119833     -0.119833   \n",
       "25     -0.059011     -0.059011 -0.125517     -0.125517     -0.125517   \n",
       "26      0.013535      0.013535 -0.134829     -0.134829     -0.134829   \n",
       "27      0.050877      0.050877 -0.147357     -0.147357     -0.147357   \n",
       "28      0.034719      0.034719 -0.162542     -0.162542     -0.162542   \n",
       "29      0.012883      0.012883 -0.179687     -0.179687     -0.179687   \n",
       "30     -0.014508     -0.014508 -0.197972     -0.197972     -0.197972   \n",
       "31     -0.038495     -0.038495 -0.216477     -0.216477     -0.216477   \n",
       "32     -0.059011     -0.059011 -0.234194     -0.234194     -0.234194   \n",
       "33      0.013535      0.013535 -0.250060     -0.250060     -0.250060   \n",
       "34      0.050877      0.050877 -0.262975     -0.262975     -0.262975   \n",
       "35      0.034719      0.034719 -0.271832     -0.271832     -0.271832   \n",
       "36      0.012883      0.012883 -0.275543     -0.275543     -0.275543   \n",
       "37     -0.014508     -0.014508 -0.273069     -0.273069     -0.273069   \n",
       "38     -0.038495     -0.038495 -0.263442     -0.263442     -0.263442   \n",
       "39     -0.059011     -0.059011 -0.245794     -0.245794     -0.245794   \n",
       "40      0.013535      0.013535 -0.219379     -0.219379     -0.219379   \n",
       "41      0.050877      0.050877 -0.183596     -0.183596     -0.183596   \n",
       "42      0.034719      0.034719 -0.138005     -0.138005     -0.138005   \n",
       "43      0.012883      0.012883 -0.082345     -0.082345     -0.082345   \n",
       "44     -0.014508     -0.014508 -0.016540     -0.016540     -0.016540   \n",
       "45     -0.038495     -0.038495  0.059289      0.059289      0.059289   \n",
       "46     -0.059011     -0.059011  0.144823      0.144823      0.144823   \n",
       "47      0.013535      0.013535  0.239549      0.239549      0.239549   \n",
       "48      0.050877      0.050877  0.342763      0.342763      0.342763   \n",
       "49      0.034719      0.034719  0.453582      0.453582      0.453582   \n",
       "\n",
       "    multiplicative_terms  multiplicative_terms_lower  \\\n",
       "0                    0.0                         0.0   \n",
       "1                    0.0                         0.0   \n",
       "2                    0.0                         0.0   \n",
       "3                    0.0                         0.0   \n",
       "4                    0.0                         0.0   \n",
       "5                    0.0                         0.0   \n",
       "6                    0.0                         0.0   \n",
       "7                    0.0                         0.0   \n",
       "8                    0.0                         0.0   \n",
       "9                    0.0                         0.0   \n",
       "10                   0.0                         0.0   \n",
       "11                   0.0                         0.0   \n",
       "12                   0.0                         0.0   \n",
       "13                   0.0                         0.0   \n",
       "14                   0.0                         0.0   \n",
       "15                   0.0                         0.0   \n",
       "16                   0.0                         0.0   \n",
       "17                   0.0                         0.0   \n",
       "18                   0.0                         0.0   \n",
       "19                   0.0                         0.0   \n",
       "20                   0.0                         0.0   \n",
       "21                   0.0                         0.0   \n",
       "22                   0.0                         0.0   \n",
       "23                   0.0                         0.0   \n",
       "24                   0.0                         0.0   \n",
       "25                   0.0                         0.0   \n",
       "26                   0.0                         0.0   \n",
       "27                   0.0                         0.0   \n",
       "28                   0.0                         0.0   \n",
       "29                   0.0                         0.0   \n",
       "30                   0.0                         0.0   \n",
       "31                   0.0                         0.0   \n",
       "32                   0.0                         0.0   \n",
       "33                   0.0                         0.0   \n",
       "34                   0.0                         0.0   \n",
       "35                   0.0                         0.0   \n",
       "36                   0.0                         0.0   \n",
       "37                   0.0                         0.0   \n",
       "38                   0.0                         0.0   \n",
       "39                   0.0                         0.0   \n",
       "40                   0.0                         0.0   \n",
       "41                   0.0                         0.0   \n",
       "42                   0.0                         0.0   \n",
       "43                   0.0                         0.0   \n",
       "44                   0.0                         0.0   \n",
       "45                   0.0                         0.0   \n",
       "46                   0.0                         0.0   \n",
       "47                   0.0                         0.0   \n",
       "48                   0.0                         0.0   \n",
       "49                   0.0                         0.0   \n",
       "\n",
       "    multiplicative_terms_upper        yhat  \n",
       "0                          0.0  115.268279  \n",
       "1                          0.0  115.215189  \n",
       "2                          0.0  115.162223  \n",
       "3                          0.0  115.118800  \n",
       "4                          0.0  115.085293  \n",
       "5                          0.0  115.151436  \n",
       "6                          0.0  114.960270  \n",
       "7                          0.0  115.179350  \n",
       "8                          0.0  115.170154  \n",
       "9                          0.0  115.161019  \n",
       "10                         0.0  115.160325  \n",
       "11                         0.0  115.167452  \n",
       "12                         0.0  115.271220  \n",
       "13                         0.0  115.342526  \n",
       "14                         0.0  115.362201  \n",
       "15                         0.0  115.377176  \n",
       "16                         0.0  115.386693  \n",
       "17                         0.0  115.398863  \n",
       "18                         0.0  115.412964  \n",
       "19                         0.0  115.517876  \n",
       "20                         0.0  115.584722  \n",
       "21                         0.0  115.594716  \n",
       "22                         0.0  115.595322  \n",
       "23                         0.0  115.586447  \n",
       "24                         0.0  115.576992  \n",
       "25                         0.0  115.567122  \n",
       "26                         0.0  115.646686  \n",
       "27                         0.0  115.687828  \n",
       "28                         0.0  115.672815  \n",
       "29                         0.0  115.650164  \n",
       "30                         0.0  115.620817  \n",
       "31                         0.0  115.594655  \n",
       "32                         0.0  115.572751  \n",
       "33                         0.0  115.645762  \n",
       "34                         0.0  115.686518  \n",
       "35                         0.0  115.677832  \n",
       "36                         0.0  115.668615  \n",
       "37                         0.0  115.660027  \n",
       "38                         0.0  115.661997  \n",
       "39                         0.0  115.675459  \n",
       "40                         0.0  115.790750  \n",
       "41                         0.0  115.880204  \n",
       "42                         0.0  115.925966  \n",
       "43                         0.0  115.976121  \n",
       "44                         0.0  116.030864  \n",
       "45                         0.0  116.099035  \n",
       "46                         0.0  116.534838  \n",
       "47                         0.0  116.363985  \n",
       "48                         0.0  116.520869  \n",
       "49                         0.0  116.631860  \n",
       "\n",
       "[50 rows x 52 columns]"
      ]
     },
     "execution_count": 24,
     "metadata": {},
     "output_type": "execute_result"
    }
   ],
   "source": [
    "best_prediction"
   ]
  },
  {
   "cell_type": "code",
   "execution_count": 231,
   "id": "1aa0e3ac",
   "metadata": {},
   "outputs": [
    {
     "data": {
      "image/png": "[encoded data removed]",
      "text/plain": [
       "<Figure size 1152x288 with 1 Axes>"
      ]
     },
     "metadata": {
      "needs_background": "light"
     },
     "output_type": "display_data"
    }
   ],
   "source": [
    "import matplotlib.pyplot as plt\n",
    "plt.figure(figsize=(16,4))\n",
    "# Plotando o primeiro gráfico\n",
    "plt.plot(best_prediction['ds'], best_prediction['yhat'], label='Predito')\n",
    "# Plotando o segundo gráfico\n",
    "plt.plot(prophet_test['ds'], prophet_test['y'], label='Teste')\n",
    "# Adicionando uma legenda\n",
    "plt.legend()\n",
    "\n",
    "# Exibindo o gráfico\n",
    "plt.show()"
   ]
  },
  {
   "cell_type": "code",
   "execution_count": 233,
   "id": "491bfb53",
   "metadata": {},
   "outputs": [
    {
     "data": {
      "image/png": "[encoded data removed]",
      "text/plain": [
       "<Figure size 720x360 with 1 Axes>"
      ]
     },
     "metadata": {
      "needs_background": "light"
     },
     "output_type": "display_data"
    }
   ],
   "source": [
    "# Plotando os resultados\n",
    "plt.figure(figsize=(10, 5))\n",
    "\n",
    "# Linha dos dados de teste\n",
    "plt.plot(prophet_train['ds'], prophet_train['y'], label='Observado')\n",
    "\n",
    "# Linha dos dados de teste\n",
    "plt.plot(prophet_test['ds'], prophet_test['y'], label='Observado')\n",
    "\n",
    "# Linha das previsões\n",
    "plt.plot(train_forecast['ds'], train_forecast['yhat'], color='red', label='Previsões')\n",
    "\n",
    "# Área do intervalo de confiança\n",
    "plt.fill_between(train_forecast['ds'],\n",
    "                 train_forecast['yhat_lower'],\n",
    "                 train_forecast['yhat_upper'], color='pink', alpha=0.5)\n",
    "\n",
    "plt.legend()\n",
    "plt.show()"
   ]
  }
 ],
 "metadata": {
  "kernelspec": {
   "display_name": "Python 3 (ipykernel)",
   "language": "python",
   "name": "python3"
  },
  "language_info": {
   "codemirror_mode": {
    "name": "ipython",
    "version": 3
   },
   "file_extension": ".py",
   "mimetype": "text/x-python",
   "name": "python",
   "nbconvert_exporter": "python",
   "pygments_lexer": "ipython3",
   "version": "3.9.12"
  }
 },
 "nbformat": 4,
 "nbformat_minor": 5
}
