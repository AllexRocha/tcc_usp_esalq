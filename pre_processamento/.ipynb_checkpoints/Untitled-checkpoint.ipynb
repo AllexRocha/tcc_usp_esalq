{
 "cells": [
  {
   "cell_type": "code",
   "execution_count": 1,
   "id": "516f86b9",
   "metadata": {},
   "outputs": [],
   "source": [
    "# load the libraries\n",
    "import numpy as np\n",
    "import pandas as pd\n",
    "import matplotlib.pyplot as plt\n",
    "%matplotlib inline\n",
    "import torch\n",
    "import torch.nn as nn"
   ]
  },
  {
   "cell_type": "code",
   "execution_count": 2,
   "id": "ae590489",
   "metadata": {},
   "outputs": [],
   "source": [
    "# Implement LSTM\n",
    "class LSTM(nn.Module):\n",
    "    def __init__(self, in_dim, hid_dim, out_dim, num_layers, dropout_rate=0.5):\n",
    "        super().__init__()\n",
    "        self.in_dim = in_dim\n",
    "        self.hid_dim = hid_dim\n",
    "        self.out_dim = out_dim\n",
    "        self.layer = num_layers\n",
    "        \n",
    "        self.lstm = nn.LSTM(self.in_dim, self.hid_dim, self.layer, dropout=dropout_rate, batch_first=True)\n",
    "        \n",
    "        self.fc = nn.Linear(self.hid_dim, self.out_dim)\n",
    "        \n",
    "    def forward(self, x):\n",
    "        \n",
    "        # initialize the hidden state\n",
    "        h0 = torch.zeros(self.layer, x.size(0), self.hid_dim)\n",
    "        c0 = torch.zeros(self.layer, x.size(0), self.hid_dim)\n",
    "        \n",
    "        # forward propagate\n",
    "        out, (h_,c_) = self.lstm(x,(h0,c0))\n",
    "        \n",
    "        out = self.fc(out[:,-1,:])\n",
    "        return out\n",
    "\n",
    "def train_model(model,\n",
    "               criterion,\n",
    "               optimizer,\n",
    "               x_train,\n",
    "               x_test,\n",
    "               y_train,\n",
    "               y_test,\n",
    "               epochs=500):\n",
    "    \n",
    "    train_loss = np.zeros(epochs)\n",
    "    test_loss = np.zeros(epochs)\n",
    "    \n",
    "    for epoch in range(epochs):\n",
    "        \n",
    "        # put default model grads to zero\n",
    "        optimizer.zero_grad()\n",
    "        \n",
    "        # predict the output\n",
    "        pred = model(x_train)\n",
    "        \n",
    "        # calculate the loss \n",
    "        error = criterion(pred,y_train)\n",
    "        \n",
    "        # backpropagate the error\n",
    "        error.backward()\n",
    "        \n",
    "        # update the model parameters\n",
    "        optimizer.step()\n",
    "        \n",
    "        # save the losses \n",
    "        train_loss[epoch] = error.item()\n",
    "        \n",
    "        # test loss \n",
    "        test_pred = model(x_test)\n",
    "        test_error = criterion(y_test,test_pred)\n",
    "        test_loss[epoch] = test_error.item()\n",
    "        \n",
    "        if (epoch+1) % 10 ==0:\n",
    "           print('Epoch :{}    Train Loss :{}    Test Loss :{}'.format((epoch+1)/epochs, error.item(), test_error.item()))\n",
    "            \n",
    "    return train_loss, test_loss\n",
    "\n",
    "\n",
    "# divide the data into train and test\n",
    "def split_data(x,y, ratio):\n",
    "    assert len(x)==len(y)\n",
    "    N = len(x)\n",
    "    train_x, test_x  = x[:int(N*ratio)], x[int(N*ratio):]\n",
    "    train_y, test_y  = y[:int(N*ratio)], y[int(N*ratio):]\n",
    "    return train_x,train_y, test_x, test_y\n",
    "\n",
    "# divide the data into number of steps \n",
    "def create_data(data, seq_len):\n",
    "    N = len(data)\n",
    "    X = []\n",
    "    Y = []\n",
    "    for i in range(N-seq_len-1):\n",
    "        x = data[i:i+seq_len]\n",
    "        X.append(x)\n",
    "        y = data[i+seq_len]\n",
    "        Y.append(y)\n",
    "        \n",
    "    return X,Y"
   ]
  },
  {
   "cell_type": "code",
   "execution_count": 3,
   "id": "1f3206c6",
   "metadata": {},
   "outputs": [],
   "source": [
    "import pandas as pd\n",
    "import matplotlib.pyplot as plt\n",
    "\n",
    "def ler_csv(caminho_arquivo):\n",
    "    return pd.read_csv(caminho_arquivo, sep=',',usecols=[0,1], decimal=',', header=0)\n",
    "\n",
    "df = ler_csv('dados/ibovespa.csv')"
   ]
  },
  {
   "cell_type": "code",
   "execution_count": 4,
   "id": "fc754093",
   "metadata": {},
   "outputs": [],
   "source": [
    "def df_tratamento_dados(df):\n",
    "    df = df.rename(columns={'Data':'data','Último': 'value'})\n",
    "    df['data'] = pd.to_datetime(df['data'], format='%d.%m.%Y')\n",
    "    df = df.sort_values(by='data')\n",
    "    # Completando dados\n",
    "    # Crie um novo DataFrame com um intervalo completo de datas\n",
    "    data_inicio = df['data'].min()  # Data de início\n",
    "    data_fim = df['data'].max()  \n",
    "    datas_completas = pd.date_range(start=data_inicio, end=data_fim, freq='D')\n",
    "    # Crie um novo DataFrame com o intervalo completo de datas\n",
    "    df_completo = pd.DataFrame(datas_completas, columns=['data'])# Faça um merge com o dataframe original\n",
    "\n",
    "    df = df_completo.merge(df, on='data', how='left')\n",
    "    df = df.sort_values(by='data')\n",
    "\n",
    "    \n",
    "    df['value'] = pd.to_numeric(df['value'], errors='coerce')\n",
    "    df.index = pd.to_datetime(df['data'])\n",
    "    # Interpolação linear\n",
    "    df['value'] = df['value'].interpolate(method='linear')\n",
    "    df.set_index('data', inplace=True)\n",
    "    df.sort_index(ascending=True, inplace=True)\n",
    "    df = df.asfreq('D')\n",
    "    return df"
   ]
  },
  {
   "cell_type": "code",
   "execution_count": 5,
   "id": "d4a4bec0",
   "metadata": {},
   "outputs": [],
   "source": [
    "data = df_tratamento_dados(df)"
   ]
  },
  {
   "cell_type": "code",
   "execution_count": 6,
   "id": "50bf3516",
   "metadata": {},
   "outputs": [
    {
     "data": {
      "text/plain": [
       "'data = df_tratamento_dados(df)\\ndata1  = data.loc[\\'2016-01-01\\':\\'2020-01-01\\']\\ndata2 = data.loc[\\'2021-03-01\\':]\\ndata = pd.concat([data1, data2])\\ndata.reset_index(drop=True, inplace=True)\\ndata.index.name = \"data\"\\ndata.plot()'"
      ]
     },
     "execution_count": 6,
     "metadata": {},
     "output_type": "execute_result"
    }
   ],
   "source": [
    "\"\"\"data = df_tratamento_dados(df)\n",
    "data1  = data.loc['2016-01-01':'2020-01-01']\n",
    "data2 = data.loc['2021-03-01':]\n",
    "data = pd.concat([data1, data2])\n",
    "data.reset_index(drop=True, inplace=True)\n",
    "data.index.name = \"data\"\n",
    "data.plot()\"\"\""
   ]
  },
  {
   "cell_type": "code",
   "execution_count": 7,
   "id": "8d907924",
   "metadata": {},
   "outputs": [],
   "source": [
    "#treino = datas[datas['data'] <='2021-01-01']\n",
    "percentual = 0.6\n",
    "#len(treino)/len(datas)\n",
    "entradas = 100"
   ]
  },
  {
   "cell_type": "code",
   "execution_count": 8,
   "id": "2d61189a",
   "metadata": {},
   "outputs": [
    {
     "data": {
      "text/plain": [
       "5107"
      ]
     },
     "execution_count": 8,
     "metadata": {},
     "output_type": "execute_result"
    }
   ],
   "source": [
    "len(data)"
   ]
  },
  {
   "cell_type": "code",
   "execution_count": 9,
   "id": "7b5eae63",
   "metadata": {},
   "outputs": [
    {
     "data": {
      "text/plain": [
       "<AxesSubplot:xlabel='data'>"
      ]
     },
     "execution_count": 9,
     "metadata": {},
     "output_type": "execute_result"
    },
    {
     "data": {
      "image/png": "[encoded data removed]",
      "text/plain": [
       "<Figure size 432x288 with 1 Axes>"
      ]
     },
     "metadata": {
      "needs_background": "light"
     },
     "output_type": "display_data"
    }
   ],
   "source": [
    "data.plot()"
   ]
  },
  {
   "cell_type": "code",
   "execution_count": 10,
   "id": "fc54fc87",
   "metadata": {},
   "outputs": [
    {
     "data": {
      "image/png": "[encoded data removed]",
      "text/plain": [
       "<Figure size 1440x432 with 1 Axes>"
      ]
     },
     "metadata": {
      "needs_background": "light"
     },
     "output_type": "display_data"
    }
   ],
   "source": [
    "weakly_mean = data['value'].resample('W').mean()\n",
    "data = weakly_mean.to_frame()\n",
    "##Monthly Stock Price \n",
    "fig = plt.figure(figsize=(20,6))\n",
    "plt.plot(data['value'],label='Monthly Averages Apple Stock')\n",
    "plt.legend(prop={'size': 12})\n",
    "plt.show()"
   ]
  },
  {
   "cell_type": "code",
   "execution_count": 11,
   "id": "4c1d2343",
   "metadata": {},
   "outputs": [
    {
     "ename": "NameError",
     "evalue": "name 'data1' is not defined",
     "output_type": "error",
     "traceback": [
      "\u001b[1;31m---------------------------------------------------------------------------\u001b[0m",
      "\u001b[1;31mNameError\u001b[0m                                 Traceback (most recent call last)",
      "Input \u001b[1;32mIn [11]\u001b[0m, in \u001b[0;36m<cell line: 3>\u001b[1;34m()\u001b[0m\n\u001b[0;32m      1\u001b[0m data  \u001b[38;5;241m=\u001b[39m data\u001b[38;5;241m.\u001b[39mloc[\u001b[38;5;124m'\u001b[39m\u001b[38;5;124m2016-01-01\u001b[39m\u001b[38;5;124m'\u001b[39m:\u001b[38;5;124m'\u001b[39m\u001b[38;5;124m2020-01-01\u001b[39m\u001b[38;5;124m'\u001b[39m]\n\u001b[0;32m      2\u001b[0m data2 \u001b[38;5;241m=\u001b[39m data\u001b[38;5;241m.\u001b[39mloc[\u001b[38;5;124m'\u001b[39m\u001b[38;5;124m2021-03-01\u001b[39m\u001b[38;5;124m'\u001b[39m:]\n\u001b[1;32m----> 3\u001b[0m data \u001b[38;5;241m=\u001b[39m pd\u001b[38;5;241m.\u001b[39mconcat([\u001b[43mdata1\u001b[49m, data2])\n\u001b[0;32m      4\u001b[0m data\u001b[38;5;241m.\u001b[39mreset_index(drop\u001b[38;5;241m=\u001b[39m\u001b[38;5;28;01mTrue\u001b[39;00m, inplace\u001b[38;5;241m=\u001b[39m\u001b[38;5;28;01mTrue\u001b[39;00m)\n\u001b[0;32m      5\u001b[0m data\u001b[38;5;241m.\u001b[39mindex\u001b[38;5;241m.\u001b[39mname \u001b[38;5;241m=\u001b[39m \u001b[38;5;124m\"\u001b[39m\u001b[38;5;124mdata\u001b[39m\u001b[38;5;124m\"\u001b[39m\n",
      "\u001b[1;31mNameError\u001b[0m: name 'data1' is not defined"
     ]
    }
   ],
   "source": [
    "\n",
    "data  = data.loc['2016-01-01':'2020-01-01']\n",
    "data2 = data.loc['2021-03-01':]\n",
    "data = pd.concat([data1, data2])\n",
    "data.reset_index(drop=True, inplace=True)\n",
    "data.index.name = \"data\"\n",
    "data.plot()"
   ]
  },
  {
   "cell_type": "code",
   "execution_count": null,
   "id": "80e5db1f",
   "metadata": {},
   "outputs": [],
   "source": [
    "len(data)"
   ]
  },
  {
   "cell_type": "code",
   "execution_count": null,
   "id": "30b0c96d",
   "metadata": {},
   "outputs": [],
   "source": [
    "\n",
    "data.plot()"
   ]
  },
  {
   "cell_type": "code",
   "execution_count": null,
   "id": "f4e4cc58",
   "metadata": {},
   "outputs": [],
   "source": [
    "datas = pd.DataFrame(data.index)\n",
    "data.head()"
   ]
  },
  {
   "cell_type": "code",
   "execution_count": null,
   "id": "e7952012",
   "metadata": {},
   "outputs": [],
   "source": [
    "# scale the data\n",
    "from sklearn.preprocessing import MinMaxScaler\n",
    "scale = MinMaxScaler(feature_range=(0,1))\n",
    "data = scale.fit_transform(data)"
   ]
  },
  {
   "cell_type": "code",
   "execution_count": null,
   "id": "a49bdae2",
   "metadata": {},
   "outputs": [],
   "source": [
    "x,y = create_data(data,entradas)"
   ]
  },
  {
   "cell_type": "code",
   "execution_count": null,
   "id": "3b086a01",
   "metadata": {},
   "outputs": [],
   "source": [
    "# convert the x and y values into arrays\n",
    "x, y = np.asarray(x), np.asarray(y)"
   ]
  },
  {
   "cell_type": "code",
   "execution_count": null,
   "id": "5076b9fa",
   "metadata": {},
   "outputs": [],
   "source": [
    "x.reshape(-1,entradas).shape"
   ]
  },
  {
   "cell_type": "code",
   "execution_count": null,
   "id": "87b616d5",
   "metadata": {},
   "outputs": [],
   "source": [
    "train_x,train_y, test_x, test_y = split_data(x,y,percentual)"
   ]
  },
  {
   "cell_type": "code",
   "execution_count": null,
   "id": "b15fdd93",
   "metadata": {},
   "outputs": [],
   "source": [
    "# convert the data from numpy to tensor\n",
    "train_x = torch.from_numpy(train_x.astype(np.float32))\n",
    "train_y = torch.from_numpy(train_y.astype(np.float32))\n",
    "test_x = torch.from_numpy(test_x.astype(np.float32))\n",
    "test_y = torch.from_numpy(test_y.astype(np.float32))"
   ]
  },
  {
   "cell_type": "code",
   "execution_count": null,
   "id": "a630efa5",
   "metadata": {},
   "outputs": [],
   "source": [
    "from sklearn.model_selection import ParameterGrid\n",
    "import matplotlib.dates as mdates\n",
    "params_grid = {'num_layers':[2],\n",
    "               'hid_size':[52],\n",
    "              'lr': [0.01],\n",
    "               'epochs':[300],\n",
    "              'dropout_rate':[0.4]}\n",
    "grid = ParameterGrid(params_grid)\n",
    "cnt = 0\n",
    "for p in grid:\n",
    "    cnt = cnt+1\n",
    "\n",
    "print('Total Possible Models',cnt)\n",
    "\n",
    "from sklearn.metrics import mean_squared_error, mean_absolute_error\n",
    "\n",
    "model_parameters = pd.DataFrame(columns = ['RMSE','Parameters'])\n",
    "best_rmse = np.inf\n",
    "best_prediction=None\n",
    "count = 0\n",
    "\n",
    "for p in grid:\n",
    "    \n",
    "    lstm = LSTM(in_dim = x.shape[-1],\n",
    "                hid_dim = p['hid_size'],\n",
    "                out_dim = x.shape[-1],\n",
    "                num_layers = p['num_layers'], \n",
    "                dropout_rate= p['dropout_rate'])\n",
    "    \n",
    "    optimizer = torch.optim.Adam(lstm.parameters(), lr=p['lr'])\n",
    "    \n",
    "    loss_fun = nn.MSELoss()\n",
    "    \n",
    "    train_loss, test_loss = train_model(lstm,\n",
    "               loss_fun,\n",
    "               optimizer,\n",
    "               train_x,\n",
    "               test_x,\n",
    "               train_y,\n",
    "               test_y,\n",
    "               epochs=p['epochs'])\n",
    "\n",
    "    \n",
    "    # testing the predction model on multiple time series\n",
    "    last_x = train_x[-1].view(entradas)\n",
    "\n",
    "    prediction_val = []\n",
    "\n",
    "    while len(prediction_val)<len(test_y):\n",
    "        prediction = lstm(last_x.view(1,entradas,1))\n",
    "        prediction_val.append(prediction[0,0].item())\n",
    "\n",
    "\n",
    "        ## replace the predicted value in last x\n",
    "        last_x = torch.cat((last_x[1:],prediction[0]))\n",
    "\n",
    "    # plot the result\n",
    "    train_y_cp = scale.inverse_transform(train_y.detach().numpy())\n",
    "    test_y_cp = scale.inverse_transform(test_y.detach().numpy())\n",
    "    prediction_val = scale.inverse_transform(np.asarray(prediction_val).reshape(-1,1))\n",
    "\n",
    "    y_true = test_y_cp\n",
    "    y_pred = prediction_val\n",
    "\n",
    "    RMSE = np.sqrt(mean_squared_error(y_true, y_pred))\n",
    "    print(f'RMSE: {RMSE}')\n",
    "\n",
    "    MAE = mean_absolute_error(y_true, y_pred)\n",
    "    print(f'MAE: {MAE}')\n",
    "\n",
    "    MAPE = np.mean(np.abs((y_true - y_pred) / y_true)) * 100\n",
    "    print(f'MAPE: {MAPE}%')\n",
    "    \n",
    "    if RMSE < best_rmse:\n",
    "        best_rmse = RMSE\n",
    "        best_mae = MAE\n",
    "        best_mape = MAPE\n",
    "        best_prediction = y_pred\n",
    "    \n",
    "    model_parameters = model_parameters.append({'RMSE':RMSE,'MAE':MAE,'MAPE':MAPE,'Parameters':p},ignore_index=True)\n",
    "    count += 1\n",
    "    print(\"total: \" ,round(count/cnt,2)*100)\n",
    "\n",
    "parameters = model_parameters.sort_values(by=['RMSE'])\n",
    "parameters = parameters.reset_index(drop=True)\n",
    "print('RMSE:',parameters.loc[0, 'RMSE'])\n",
    "print('MAE:',parameters.loc[0, 'MAE'])\n",
    "print('MAPE:',parameters.loc[0, 'MAPE'])\n",
    "print(parameters.loc[0, 'Parameters'])\n",
    "\n",
    "# Cria a figura e o eixo\n",
    "fig, ax = plt.subplots()\n",
    "\n",
    "# Plota os dados\n",
    "ax.plot(datas['data'].iloc[:len(train_y_cp)],train_y_cp,label='Real treino', color = 'blue')\n",
    "ax.plot(datas['data'].iloc[len(train_y_cp):len(train_y_cp)+len(test_y_cp)],test_y_cp,label='Real teste', color = 'orange')\n",
    "ax.plot(datas['data'].iloc[len(train_y_cp):len(train_y_cp)+len(test_y_cp)],prediction_val,label='Predição',color = 'green')\n",
    "\n",
    "# Formata as etiquetas do eixo x para mostrar apenas o ano\n",
    "ax.xaxis.set_major_locator(mdates.YearLocator())\n",
    "ax.xaxis.set_major_formatter(mdates.DateFormatter('%Y'))\n",
    "\n",
    "# Mostra a legenda\n",
    "plt.legend()\n",
    "\n",
    "# Mostra o gráfico\n",
    "plt.show()"
   ]
  },
  {
   "cell_type": "code",
   "execution_count": null,
   "id": "0d82d6ec",
   "metadata": {},
   "outputs": [],
   "source": [
    "import matplotlib.dates as mdates\n",
    "\n",
    "# Cria a figura e o eixo\n",
    "fig, ax = plt.subplots()\n",
    "\n",
    "# Plota os dados\n",
    "ax.plot(datas['data'].iloc[:len(train_y_cp)],train_y_cp,label='Real treino', color = 'blue')\n",
    "ax.plot(datas['data'].iloc[len(train_y_cp):len(train_y_cp)+len(test_y_cp)],test_y_cp,label='Real teste', color = 'orange')\n",
    "ax.plot(datas['data'].iloc[len(train_y_cp):len(train_y_cp)+len(test_y_cp)],prediction_val,label='Predição',color = 'green')\n",
    "\n",
    "# Formata as etiquetas do eixo x para mostrar apenas o ano\n",
    "ax.xaxis.set_major_locator(mdates.YearLocator())\n",
    "ax.xaxis.set_major_formatter(mdates.DateFormatter('%Y'))\n",
    "\n",
    "# Mostra a legenda\n",
    "plt.legend()\n",
    "\n",
    "# Mostra o gráfico\n",
    "plt.show()\n"
   ]
  },
  {
   "cell_type": "code",
   "execution_count": null,
   "id": "b2343b3f",
   "metadata": {},
   "outputs": [],
   "source": [
    "datas['data'].iloc[:len(train_y_cp)]"
   ]
  }
 ],
 "metadata": {
  "kernelspec": {
   "display_name": "Python 3 (ipykernel)",
   "language": "python",
   "name": "python3"
  },
  "language_info": {
   "codemirror_mode": {
    "name": "ipython",
    "version": 3
   },
   "file_extension": ".py",
   "mimetype": "text/x-python",
   "name": "python",
   "nbconvert_exporter": "python",
   "pygments_lexer": "ipython3",
   "version": "3.9.12"
  }
 },
 "nbformat": 4,
 "nbformat_minor": 5
}
