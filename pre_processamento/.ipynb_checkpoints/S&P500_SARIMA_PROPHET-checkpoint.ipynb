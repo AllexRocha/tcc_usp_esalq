{
 "cells": [
  {
   "cell_type": "markdown",
   "id": "816d7557",
   "metadata": {},
   "source": [
    "# S&P500"
   ]
  },
  {
   "cell_type": "markdown",
   "id": "c7a0f77d",
   "metadata": {},
   "source": [
    "## Lendo arquivo de dados Ibovespa"
   ]
  },
  {
   "cell_type": "code",
   "execution_count": 1,
   "id": "c71fb2e4",
   "metadata": {},
   "outputs": [],
   "source": [
    "import pandas as pd\n",
    "\n",
    "def ler_csv(caminho_arquivo):\n",
    "    return pd.read_csv(caminho_arquivo, sep=',',usecols=[0,1], decimal=',', header=0)\n",
    "\n",
    "df = ler_csv('dados/SP_500.csv')"
   ]
  },
  {
   "cell_type": "markdown",
   "id": "3e7be6ab",
   "metadata": {},
   "source": [
    "## Pré - tratamento dos dados"
   ]
  },
  {
   "cell_type": "code",
   "execution_count": 2,
   "id": "a05feef7",
   "metadata": {},
   "outputs": [],
   "source": [
    "def df_tratamento_dados(df):\n",
    "    df = df.rename(columns={'Data':'data','Último': 'value'})\n",
    "    df['data'] = pd.to_datetime(df['data'], format='%d.%m.%Y')\n",
    "    df = df.sort_values(by='data')\n",
    "    # Completando dados\n",
    "    # Crie um novo DataFrame com um intervalo completo de datas\n",
    "    data_inicio = df['data'].min()  # Data de início\n",
    "    data_fim = df['data'].max()  \n",
    "    datas_completas = pd.date_range(start=data_inicio, end=data_fim, freq='D')\n",
    "    # Crie um novo DataFrame com o intervalo completo de datas\n",
    "    df_completo = pd.DataFrame(datas_completas, columns=['data'])# Faça um merge com o dataframe original\n",
    "\n",
    "    df = df_completo.merge(df, on='data', how='left')\n",
    "    df = df.sort_values(by='data')\n",
    "\n",
    "    df['value'] = df['value'].str.replace('.', '',regex=False)  # Remove o ponto dos milhares\n",
    "    df['value'] = df['value'].str.replace(',', '.',regex=False)  # Substitui a vírgula por ponto\n",
    "    df['value'] = pd.to_numeric(df['value'], errors='coerce')\n",
    "    df.index = pd.to_datetime(df['data'])\n",
    "    # Interpolação linear\n",
    "    df['value'] = df['value'].interpolate(method='linear')\n",
    "    df.set_index('data', inplace=True)\n",
    "    df.sort_index(ascending=True, inplace=True)\n",
    "    df = df.asfreq('D')\n",
    "    return df"
   ]
  },
  {
   "cell_type": "code",
   "execution_count": 3,
   "id": "8fe519b0",
   "metadata": {},
   "outputs": [],
   "source": [
    "df_arima = df_tratamento_dados(df)"
   ]
  },
  {
   "cell_type": "code",
   "execution_count": 4,
   "id": "c231b6b2",
   "metadata": {},
   "outputs": [
    {
     "data": {
      "text/html": [
       "<div>\n",
       "<style scoped>\n",
       "    .dataframe tbody tr th:only-of-type {\n",
       "        vertical-align: middle;\n",
       "    }\n",
       "\n",
       "    .dataframe tbody tr th {\n",
       "        vertical-align: top;\n",
       "    }\n",
       "\n",
       "    .dataframe thead th {\n",
       "        text-align: right;\n",
       "    }\n",
       "</style>\n",
       "<table border=\"1\" class=\"dataframe\">\n",
       "  <thead>\n",
       "    <tr style=\"text-align: right;\">\n",
       "      <th></th>\n",
       "      <th>value</th>\n",
       "    </tr>\n",
       "    <tr>\n",
       "      <th>data</th>\n",
       "      <th></th>\n",
       "    </tr>\n",
       "  </thead>\n",
       "  <tbody>\n",
       "    <tr>\n",
       "      <th>2010-01-04</th>\n",
       "      <td>1132.990000</td>\n",
       "    </tr>\n",
       "    <tr>\n",
       "      <th>2010-01-05</th>\n",
       "      <td>1136.520000</td>\n",
       "    </tr>\n",
       "    <tr>\n",
       "      <th>2010-01-06</th>\n",
       "      <td>1137.140000</td>\n",
       "    </tr>\n",
       "    <tr>\n",
       "      <th>2010-01-07</th>\n",
       "      <td>1141.690000</td>\n",
       "    </tr>\n",
       "    <tr>\n",
       "      <th>2010-01-08</th>\n",
       "      <td>1144.980000</td>\n",
       "    </tr>\n",
       "    <tr>\n",
       "      <th>2010-01-09</th>\n",
       "      <td>1145.646667</td>\n",
       "    </tr>\n",
       "    <tr>\n",
       "      <th>2010-01-10</th>\n",
       "      <td>1146.313333</td>\n",
       "    </tr>\n",
       "    <tr>\n",
       "      <th>2010-01-11</th>\n",
       "      <td>1146.980000</td>\n",
       "    </tr>\n",
       "    <tr>\n",
       "      <th>2010-01-12</th>\n",
       "      <td>1136.220000</td>\n",
       "    </tr>\n",
       "    <tr>\n",
       "      <th>2010-01-13</th>\n",
       "      <td>1145.680000</td>\n",
       "    </tr>\n",
       "    <tr>\n",
       "      <th>2010-01-14</th>\n",
       "      <td>1148.460000</td>\n",
       "    </tr>\n",
       "    <tr>\n",
       "      <th>2010-01-15</th>\n",
       "      <td>1136.030000</td>\n",
       "    </tr>\n",
       "    <tr>\n",
       "      <th>2010-01-16</th>\n",
       "      <td>1139.580000</td>\n",
       "    </tr>\n",
       "    <tr>\n",
       "      <th>2010-01-17</th>\n",
       "      <td>1143.130000</td>\n",
       "    </tr>\n",
       "    <tr>\n",
       "      <th>2010-01-18</th>\n",
       "      <td>1146.680000</td>\n",
       "    </tr>\n",
       "    <tr>\n",
       "      <th>2010-01-19</th>\n",
       "      <td>1150.230000</td>\n",
       "    </tr>\n",
       "    <tr>\n",
       "      <th>2010-01-20</th>\n",
       "      <td>1138.040000</td>\n",
       "    </tr>\n",
       "    <tr>\n",
       "      <th>2010-01-21</th>\n",
       "      <td>1116.480000</td>\n",
       "    </tr>\n",
       "    <tr>\n",
       "      <th>2010-01-22</th>\n",
       "      <td>1091.760000</td>\n",
       "    </tr>\n",
       "    <tr>\n",
       "      <th>2010-01-23</th>\n",
       "      <td>1093.433333</td>\n",
       "    </tr>\n",
       "  </tbody>\n",
       "</table>\n",
       "</div>"
      ],
      "text/plain": [
       "                  value\n",
       "data                   \n",
       "2010-01-04  1132.990000\n",
       "2010-01-05  1136.520000\n",
       "2010-01-06  1137.140000\n",
       "2010-01-07  1141.690000\n",
       "2010-01-08  1144.980000\n",
       "2010-01-09  1145.646667\n",
       "2010-01-10  1146.313333\n",
       "2010-01-11  1146.980000\n",
       "2010-01-12  1136.220000\n",
       "2010-01-13  1145.680000\n",
       "2010-01-14  1148.460000\n",
       "2010-01-15  1136.030000\n",
       "2010-01-16  1139.580000\n",
       "2010-01-17  1143.130000\n",
       "2010-01-18  1146.680000\n",
       "2010-01-19  1150.230000\n",
       "2010-01-20  1138.040000\n",
       "2010-01-21  1116.480000\n",
       "2010-01-22  1091.760000\n",
       "2010-01-23  1093.433333"
      ]
     },
     "execution_count": 4,
     "metadata": {},
     "output_type": "execute_result"
    }
   ],
   "source": [
    "df_arima.head(20)"
   ]
  },
  {
   "cell_type": "markdown",
   "id": "9c4ee97e",
   "metadata": {},
   "source": [
    "# Separando os dados de treino e de teste"
   ]
  },
  {
   "cell_type": "code",
   "execution_count": 38,
   "id": "afa29703",
   "metadata": {},
   "outputs": [
    {
     "name": "stdout",
     "output_type": "stream",
     "text": [
      "5056\n",
      "52\n"
     ]
    }
   ],
   "source": [
    "def split(df_arima, perc):\n",
    "    train = df_arima[:int(len(df_arima)*perc)]\n",
    "    test = df_arima[len(train):]\n",
    "    print(len(train))\n",
    "    print(len(test))\n",
    "    return train, test\n",
    "\n",
    "arima_train, arima_test = split(df_arima, 0.99)"
   ]
  },
  {
   "cell_type": "code",
   "execution_count": 5,
   "id": "18c9e060",
   "metadata": {},
   "outputs": [
    {
     "name": "stdout",
     "output_type": "stream",
     "text": [
      "5008\n",
      "100\n"
     ]
    }
   ],
   "source": [
    "def split(df_arima, days):\n",
    "    train = df_arima[:-days]\n",
    "    test = df_arima[-days:]\n",
    "    print(len(train))\n",
    "    print(len(test))\n",
    "    return train, test\n",
    "\n",
    "arima_train, arima_test = split(df_arima, 100)"
   ]
  },
  {
   "cell_type": "code",
   "execution_count": 7,
   "id": "e3ce7fd5",
   "metadata": {},
   "outputs": [
    {
     "data": {
      "text/html": [
       "<div>\n",
       "<style scoped>\n",
       "    .dataframe tbody tr th:only-of-type {\n",
       "        vertical-align: middle;\n",
       "    }\n",
       "\n",
       "    .dataframe tbody tr th {\n",
       "        vertical-align: top;\n",
       "    }\n",
       "\n",
       "    .dataframe thead th {\n",
       "        text-align: right;\n",
       "    }\n",
       "</style>\n",
       "<table border=\"1\" class=\"dataframe\">\n",
       "  <thead>\n",
       "    <tr style=\"text-align: right;\">\n",
       "      <th></th>\n",
       "      <th>value</th>\n",
       "    </tr>\n",
       "    <tr>\n",
       "      <th>data</th>\n",
       "      <th></th>\n",
       "    </tr>\n",
       "  </thead>\n",
       "  <tbody>\n",
       "    <tr>\n",
       "      <th>2023-09-21</th>\n",
       "      <td>4330.000000</td>\n",
       "    </tr>\n",
       "    <tr>\n",
       "      <th>2023-09-22</th>\n",
       "      <td>4320.060000</td>\n",
       "    </tr>\n",
       "    <tr>\n",
       "      <th>2023-09-23</th>\n",
       "      <td>4325.853333</td>\n",
       "    </tr>\n",
       "    <tr>\n",
       "      <th>2023-09-24</th>\n",
       "      <td>4331.646667</td>\n",
       "    </tr>\n",
       "    <tr>\n",
       "      <th>2023-09-25</th>\n",
       "      <td>4337.440000</td>\n",
       "    </tr>\n",
       "    <tr>\n",
       "      <th>...</th>\n",
       "      <td>...</td>\n",
       "    </tr>\n",
       "    <tr>\n",
       "      <th>2023-12-25</th>\n",
       "      <td>4769.720000</td>\n",
       "    </tr>\n",
       "    <tr>\n",
       "      <th>2023-12-26</th>\n",
       "      <td>4774.750000</td>\n",
       "    </tr>\n",
       "    <tr>\n",
       "      <th>2023-12-27</th>\n",
       "      <td>4781.580000</td>\n",
       "    </tr>\n",
       "    <tr>\n",
       "      <th>2023-12-28</th>\n",
       "      <td>4783.350000</td>\n",
       "    </tr>\n",
       "    <tr>\n",
       "      <th>2023-12-29</th>\n",
       "      <td>4769.830000</td>\n",
       "    </tr>\n",
       "  </tbody>\n",
       "</table>\n",
       "<p>100 rows × 1 columns</p>\n",
       "</div>"
      ],
      "text/plain": [
       "                  value\n",
       "data                   \n",
       "2023-09-21  4330.000000\n",
       "2023-09-22  4320.060000\n",
       "2023-09-23  4325.853333\n",
       "2023-09-24  4331.646667\n",
       "2023-09-25  4337.440000\n",
       "...                 ...\n",
       "2023-12-25  4769.720000\n",
       "2023-12-26  4774.750000\n",
       "2023-12-27  4781.580000\n",
       "2023-12-28  4783.350000\n",
       "2023-12-29  4769.830000\n",
       "\n",
       "[100 rows x 1 columns]"
      ]
     },
     "execution_count": 7,
     "metadata": {},
     "output_type": "execute_result"
    }
   ],
   "source": [
    "arima_test"
   ]
  },
  {
   "cell_type": "markdown",
   "id": "d05bd4b8",
   "metadata": {},
   "source": [
    "## Decompondo a série"
   ]
  },
  {
   "cell_type": "code",
   "execution_count": 8,
   "id": "35ff53de",
   "metadata": {},
   "outputs": [
    {
     "data": {
      "image/png": "[encoded data removed]",
      "text/plain": [
       "<Figure size 432x288 with 4 Axes>"
      ]
     },
     "metadata": {
      "needs_background": "light"
     },
     "output_type": "display_data"
    }
   ],
   "source": [
    "from statsmodels.tsa.seasonal import seasonal_decompose\n",
    "import matplotlib.pyplot as plt\n",
    "result = seasonal_decompose(arima_train, model='additive',period=365,extrapolate_trend='freq')\n",
    "result.plot()\n",
    "plt.show()"
   ]
  },
  {
   "cell_type": "markdown",
   "id": "7e7f097a",
   "metadata": {},
   "source": [
    "## Verificando estacionariedade da série e da componente sasonal"
   ]
  },
  {
   "cell_type": "code",
   "execution_count": 40,
   "id": "174fdd40",
   "metadata": {},
   "outputs": [],
   "source": [
    "from statsmodels.tsa.stattools import adfuller\n",
    "import numpy as np\n",
    "def check_stationarity(df):\n",
    "    dftest = adfuller(df)\n",
    "    adf = dftest[0]\n",
    "    pvalue = dftest[1]\n",
    "    critical_value = dftest[4]['5%']\n",
    "    if (pvalue < 0.05) and (adf < critical_value):\n",
    "        print('The series is stationary')\n",
    "    else:\n",
    "        print('The series is NOT stationary')"
   ]
  },
  {
   "cell_type": "code",
   "execution_count": 41,
   "id": "ac7098d3",
   "metadata": {},
   "outputs": [
    {
     "name": "stdout",
     "output_type": "stream",
     "text": [
      "The series is stationary\n"
     ]
    }
   ],
   "source": [
    "# Componente sasonal\n",
    "seasonal = result.seasonal\n",
    "check_stationarity(seasonal)"
   ]
  },
  {
   "cell_type": "code",
   "execution_count": 43,
   "id": "49cfb78c",
   "metadata": {},
   "outputs": [
    {
     "name": "stdout",
     "output_type": "stream",
     "text": [
      "The series is NOT stationary\n"
     ]
    }
   ],
   "source": [
    "# série temporal\n",
    "check_stationarity(arima_train['value'])"
   ]
  },
  {
   "cell_type": "markdown",
   "id": "9447f67f",
   "metadata": {},
   "source": [
    "## Plotando os gráficos de ACF e PCF da série"
   ]
  },
  {
   "cell_type": "code",
   "execution_count": 44,
   "id": "9f754500",
   "metadata": {},
   "outputs": [
    {
     "data": {
      "image/png": "[encoded data removed]",
      "text/plain": [
       "<Figure size 432x288 with 1 Axes>"
      ]
     },
     "metadata": {
      "needs_background": "light"
     },
     "output_type": "display_data"
    },
    {
     "data": {
      "image/png": "[encoded data removed]",
      "text/plain": [
       "<Figure size 432x288 with 1 Axes>"
      ]
     },
     "metadata": {
      "needs_background": "light"
     },
     "output_type": "display_data"
    }
   ],
   "source": [
    "from statsmodels.graphics.tsaplots import plot_acf, plot_pacf\n",
    "plot_pacf(arima_train.diff().dropna(), lags =12)\n",
    "plt.show()\n",
    "plot_acf(arima_train.diff().dropna(), lags =12)\n",
    "plt.show()"
   ]
  },
  {
   "cell_type": "code",
   "execution_count": 11,
   "id": "f6c40c04",
   "metadata": {},
   "outputs": [
    {
     "data": {
      "image/png": "[encoded data removed]",
      "text/plain": [
       "<Figure size 432x288 with 1 Axes>"
      ]
     },
     "metadata": {
      "needs_background": "light"
     },
     "output_type": "display_data"
    },
    {
     "data": {
      "image/png": "[encoded data removed]",
      "text/plain": [
       "<Figure size 432x288 with 1 Axes>"
      ]
     },
     "metadata": {
      "needs_background": "light"
     },
     "output_type": "display_data"
    }
   ],
   "source": [
    "from statsmodels.graphics.tsaplots import plot_acf, plot_pacf\n",
    "plot_pacf(seasonal, lags =12)\n",
    "plt.show()\n",
    "plot_acf(seasonal, lags =12)\n",
    "plt.show()"
   ]
  },
  {
   "cell_type": "markdown",
   "id": "4df62281",
   "metadata": {},
   "source": [
    "#### Analisando os gráficos pode ser visto que uma possível configuração pode ser pdq = 1,1,1 e PDQ = 0,0,1"
   ]
  },
  {
   "cell_type": "code",
   "execution_count": 9,
   "id": "10ea93a1",
   "metadata": {},
   "outputs": [],
   "source": [
    "ACF_PACF_config = [(3,1,3),(4,0,0, 12),'n']"
   ]
  },
  {
   "cell_type": "markdown",
   "id": "5f3acf4b",
   "metadata": {},
   "source": [
    "# Parâmetros com auto arima"
   ]
  },
  {
   "cell_type": "code",
   "execution_count": 11,
   "id": "f0f45a62",
   "metadata": {},
   "outputs": [
    {
     "ename": "KeyboardInterrupt",
     "evalue": "",
     "output_type": "error",
     "traceback": [
      "\u001b[1;31m---------------------------------------------------------------------------\u001b[0m",
      "\u001b[1;31mKeyboardInterrupt\u001b[0m                         Traceback (most recent call last)",
      "Input \u001b[1;32mIn [11]\u001b[0m, in \u001b[0;36m<cell line: 4>\u001b[1;34m()\u001b[0m\n\u001b[0;32m      1\u001b[0m \u001b[38;5;28;01mfrom\u001b[39;00m \u001b[38;5;21;01mpmdarima\u001b[39;00m \u001b[38;5;28;01mimport\u001b[39;00m auto_arima\n\u001b[0;32m      3\u001b[0m \u001b[38;5;66;03m# Suponha que 'data' seja a sua série temporal\u001b[39;00m\n\u001b[1;32m----> 4\u001b[0m auto_arima_config \u001b[38;5;241m=\u001b[39m \u001b[43mauto_arima\u001b[49m\u001b[43m(\u001b[49m\u001b[43marima_train\u001b[49m\u001b[43m,\u001b[49m\u001b[43m \u001b[49m\u001b[43mseasonal\u001b[49m\u001b[38;5;241;43m=\u001b[39;49m\u001b[38;5;28;43;01mTrue\u001b[39;49;00m\u001b[43m,\u001b[49m\u001b[43m \u001b[49m\u001b[43mm\u001b[49m\u001b[38;5;241;43m=\u001b[39;49m\u001b[38;5;241;43m12\u001b[39;49m\u001b[43m)\u001b[49m\n",
      "File \u001b[1;32m~\\anaconda3\\lib\\site-packages\\pmdarima\\arima\\auto.py:701\u001b[0m, in \u001b[0;36mauto_arima\u001b[1;34m(y, X, start_p, d, start_q, max_p, max_d, max_q, start_P, D, start_Q, max_P, max_D, max_Q, max_order, m, seasonal, stationary, information_criterion, alpha, test, seasonal_test, stepwise, n_jobs, start_params, trend, method, maxiter, offset_test_args, seasonal_test_args, suppress_warnings, error_action, trace, random, random_state, n_fits, return_valid_fits, out_of_sample_size, scoring, scoring_args, with_intercept, sarimax_kwargs, **fit_args)\u001b[0m\n\u001b[0;32m    669\u001b[0m     \u001b[38;5;66;03m# init the stepwise model wrapper\u001b[39;00m\n\u001b[0;32m    670\u001b[0m     search \u001b[38;5;241m=\u001b[39m solvers\u001b[38;5;241m.\u001b[39m_StepwiseFitWrapper(\n\u001b[0;32m    671\u001b[0m         y,\n\u001b[0;32m    672\u001b[0m         X\u001b[38;5;241m=\u001b[39mX,\n\u001b[1;32m   (...)\u001b[0m\n\u001b[0;32m    698\u001b[0m         \u001b[38;5;241m*\u001b[39m\u001b[38;5;241m*\u001b[39msarimax_kwargs,\n\u001b[0;32m    699\u001b[0m     )\n\u001b[1;32m--> 701\u001b[0m sorted_res \u001b[38;5;241m=\u001b[39m \u001b[43msearch\u001b[49m\u001b[38;5;241;43m.\u001b[39;49m\u001b[43msolve\u001b[49m\u001b[43m(\u001b[49m\u001b[43m)\u001b[49m\n\u001b[0;32m    702\u001b[0m \u001b[38;5;28;01mreturn\u001b[39;00m _return_wrapper(sorted_res, return_valid_fits, start, trace)\n",
      "File \u001b[1;32m~\\anaconda3\\lib\\site-packages\\pmdarima\\arima\\_auto_solvers.py:405\u001b[0m, in \u001b[0;36m_StepwiseFitWrapper.solve\u001b[1;34m(self)\u001b[0m\n\u001b[0;32m    400\u001b[0m     p \u001b[38;5;241m+\u001b[39m\u001b[38;5;241m=\u001b[39m \u001b[38;5;241m1\u001b[39m\n\u001b[0;32m    401\u001b[0m     \u001b[38;5;28;01mcontinue\u001b[39;00m\n\u001b[0;32m    403\u001b[0m \u001b[38;5;28;01mif\u001b[39;00m q \u001b[38;5;241m<\u001b[39m max_q \u001b[38;5;129;01mand\u001b[39;00m \\\n\u001b[0;32m    404\u001b[0m         \u001b[38;5;28mself\u001b[39m\u001b[38;5;241m.\u001b[39mk \u001b[38;5;241m<\u001b[39m \u001b[38;5;28mself\u001b[39m\u001b[38;5;241m.\u001b[39mmax_k \u001b[38;5;129;01mand\u001b[39;00m \\\n\u001b[1;32m--> 405\u001b[0m         \u001b[38;5;28;43mself\u001b[39;49m\u001b[38;5;241;43m.\u001b[39;49m\u001b[43m_do_fit\u001b[49m\u001b[43m(\u001b[49m\u001b[43m(\u001b[49m\u001b[43mp\u001b[49m\u001b[43m,\u001b[49m\u001b[43m \u001b[49m\u001b[43md\u001b[49m\u001b[43m,\u001b[49m\u001b[43m \u001b[49m\u001b[43mq\u001b[49m\u001b[43m \u001b[49m\u001b[38;5;241;43m+\u001b[39;49m\u001b[43m \u001b[49m\u001b[38;5;241;43m1\u001b[39;49m\u001b[43m)\u001b[49m\u001b[43m,\u001b[49m\u001b[43m \u001b[49m\u001b[43m(\u001b[49m\u001b[43mP\u001b[49m\u001b[43m,\u001b[49m\u001b[43m \u001b[49m\u001b[43mD\u001b[49m\u001b[43m,\u001b[49m\u001b[43m \u001b[49m\u001b[43mQ\u001b[49m\u001b[43m,\u001b[49m\u001b[43m \u001b[49m\u001b[43mm\u001b[49m\u001b[43m)\u001b[49m\u001b[43m)\u001b[49m:\n\u001b[0;32m    406\u001b[0m     q \u001b[38;5;241m+\u001b[39m\u001b[38;5;241m=\u001b[39m \u001b[38;5;241m1\u001b[39m\n\u001b[0;32m    407\u001b[0m     \u001b[38;5;28;01mcontinue\u001b[39;00m\n",
      "File \u001b[1;32m~\\anaconda3\\lib\\site-packages\\pmdarima\\arima\\_auto_solvers.py:235\u001b[0m, in \u001b[0;36m_StepwiseFitWrapper._do_fit\u001b[1;34m(self, order, seasonal_order, constant)\u001b[0m\n\u001b[0;32m    230\u001b[0m \u001b[38;5;28;01mif\u001b[39;00m (order, seasonal_order, constant) \u001b[38;5;129;01mnot\u001b[39;00m \u001b[38;5;129;01min\u001b[39;00m \u001b[38;5;28mself\u001b[39m\u001b[38;5;241m.\u001b[39mresults_dict:\n\u001b[0;32m    231\u001b[0m \n\u001b[0;32m    232\u001b[0m     \u001b[38;5;66;03m# increment the number of fits\u001b[39;00m\n\u001b[0;32m    233\u001b[0m     \u001b[38;5;28mself\u001b[39m\u001b[38;5;241m.\u001b[39mk \u001b[38;5;241m+\u001b[39m\u001b[38;5;241m=\u001b[39m \u001b[38;5;241m1\u001b[39m\n\u001b[1;32m--> 235\u001b[0m     fit, fit_time, new_ic \u001b[38;5;241m=\u001b[39m \u001b[38;5;28;43mself\u001b[39;49m\u001b[38;5;241;43m.\u001b[39;49m\u001b[43m_fit_arima\u001b[49m\u001b[43m(\u001b[49m\n\u001b[0;32m    236\u001b[0m \u001b[43m        \u001b[49m\u001b[43morder\u001b[49m\u001b[38;5;241;43m=\u001b[39;49m\u001b[43morder\u001b[49m\u001b[43m,\u001b[49m\n\u001b[0;32m    237\u001b[0m \u001b[43m        \u001b[49m\u001b[43mseasonal_order\u001b[49m\u001b[38;5;241;43m=\u001b[39;49m\u001b[43mseasonal_order\u001b[49m\u001b[43m,\u001b[49m\n\u001b[0;32m    238\u001b[0m \u001b[43m        \u001b[49m\u001b[43mwith_intercept\u001b[49m\u001b[38;5;241;43m=\u001b[39;49m\u001b[43mconstant\u001b[49m\u001b[43m)\u001b[49m\n\u001b[0;32m    240\u001b[0m     \u001b[38;5;66;03m# use the orders as a key to be hashed for\u001b[39;00m\n\u001b[0;32m    241\u001b[0m     \u001b[38;5;66;03m# the dictionary (pointing to fit)\u001b[39;00m\n\u001b[0;32m    242\u001b[0m     \u001b[38;5;28mself\u001b[39m\u001b[38;5;241m.\u001b[39mresults_dict[(order, seasonal_order, constant)] \u001b[38;5;241m=\u001b[39m fit\n",
      "File \u001b[1;32m~\\anaconda3\\lib\\site-packages\\pmdarima\\arima\\_auto_solvers.py:508\u001b[0m, in \u001b[0;36m_fit_candidate_model\u001b[1;34m(y, X, order, seasonal_order, start_params, trend, method, maxiter, fit_params, suppress_warnings, trace, error_action, out_of_sample_size, scoring, scoring_args, with_intercept, information_criterion, **kwargs)\u001b[0m\n\u001b[0;32m    500\u001b[0m fit \u001b[38;5;241m=\u001b[39m ARIMA(order\u001b[38;5;241m=\u001b[39morder, seasonal_order\u001b[38;5;241m=\u001b[39mseasonal_order,\n\u001b[0;32m    501\u001b[0m             start_params\u001b[38;5;241m=\u001b[39mstart_params, trend\u001b[38;5;241m=\u001b[39mtrend, method\u001b[38;5;241m=\u001b[39mmethod,\n\u001b[0;32m    502\u001b[0m             maxiter\u001b[38;5;241m=\u001b[39mmaxiter, suppress_warnings\u001b[38;5;241m=\u001b[39msuppress_warnings,\n\u001b[0;32m    503\u001b[0m             out_of_sample_size\u001b[38;5;241m=\u001b[39mout_of_sample_size, scoring\u001b[38;5;241m=\u001b[39mscoring,\n\u001b[0;32m    504\u001b[0m             scoring_args\u001b[38;5;241m=\u001b[39mscoring_args,\n\u001b[0;32m    505\u001b[0m             with_intercept\u001b[38;5;241m=\u001b[39mwith_intercept, \u001b[38;5;241m*\u001b[39m\u001b[38;5;241m*\u001b[39mkwargs)\n\u001b[0;32m    507\u001b[0m \u001b[38;5;28;01mtry\u001b[39;00m:\n\u001b[1;32m--> 508\u001b[0m     fit\u001b[38;5;241m.\u001b[39mfit(y, X\u001b[38;5;241m=\u001b[39mX, \u001b[38;5;241m*\u001b[39m\u001b[38;5;241m*\u001b[39mfit_params)\n\u001b[0;32m    510\u001b[0m \u001b[38;5;66;03m# for non-stationarity errors or singular matrices, return None\u001b[39;00m\n\u001b[0;32m    511\u001b[0m \u001b[38;5;28;01mexcept\u001b[39;00m (LinAlgError, \u001b[38;5;167;01mValueError\u001b[39;00m) \u001b[38;5;28;01mas\u001b[39;00m v:\n",
      "File \u001b[1;32m~\\anaconda3\\lib\\site-packages\\pmdarima\\arima\\arima.py:603\u001b[0m, in \u001b[0;36mARIMA.fit\u001b[1;34m(self, y, X, **fit_args)\u001b[0m\n\u001b[0;32m    600\u001b[0m         X \u001b[38;5;241m=\u001b[39m safe_indexing(X, \u001b[38;5;28mslice\u001b[39m(\u001b[38;5;241m0\u001b[39m, n_exog \u001b[38;5;241m-\u001b[39m cv))\n\u001b[0;32m    602\u001b[0m \u001b[38;5;66;03m# Internal call\u001b[39;00m\n\u001b[1;32m--> 603\u001b[0m \u001b[38;5;28mself\u001b[39m\u001b[38;5;241m.\u001b[39m_fit(y, X, \u001b[38;5;241m*\u001b[39m\u001b[38;5;241m*\u001b[39mfit_args)\n\u001b[0;32m    605\u001b[0m \u001b[38;5;66;03m# now make a forecast if we're validating to compute the\u001b[39;00m\n\u001b[0;32m    606\u001b[0m \u001b[38;5;66;03m# out-of-sample score\u001b[39;00m\n\u001b[0;32m    607\u001b[0m \u001b[38;5;28;01mif\u001b[39;00m cv_samples \u001b[38;5;129;01mis\u001b[39;00m \u001b[38;5;129;01mnot\u001b[39;00m \u001b[38;5;28;01mNone\u001b[39;00m:\n\u001b[0;32m    608\u001b[0m     \u001b[38;5;66;03m# get the predictions (use self.predict, which calls forecast\u001b[39;00m\n\u001b[0;32m    609\u001b[0m     \u001b[38;5;66;03m# from statsmodels internally)\u001b[39;00m\n",
      "File \u001b[1;32m~\\anaconda3\\lib\\site-packages\\pmdarima\\arima\\arima.py:524\u001b[0m, in \u001b[0;36mARIMA._fit\u001b[1;34m(self, y, X, **fit_args)\u001b[0m\n\u001b[0;32m    522\u001b[0m     \u001b[38;5;28;01mwith\u001b[39;00m warnings\u001b[38;5;241m.\u001b[39mcatch_warnings(record\u001b[38;5;241m=\u001b[39m\u001b[38;5;28;01mFalse\u001b[39;00m):\n\u001b[0;32m    523\u001b[0m         warnings\u001b[38;5;241m.\u001b[39msimplefilter(\u001b[38;5;124m'\u001b[39m\u001b[38;5;124mignore\u001b[39m\u001b[38;5;124m'\u001b[39m)\n\u001b[1;32m--> 524\u001b[0m         fit, \u001b[38;5;28mself\u001b[39m\u001b[38;5;241m.\u001b[39marima_res_ \u001b[38;5;241m=\u001b[39m \u001b[43m_fit_wrapper\u001b[49m\u001b[43m(\u001b[49m\u001b[43m)\u001b[49m\n\u001b[0;32m    525\u001b[0m \u001b[38;5;28;01melse\u001b[39;00m:\n\u001b[0;32m    526\u001b[0m     fit, \u001b[38;5;28mself\u001b[39m\u001b[38;5;241m.\u001b[39marima_res_ \u001b[38;5;241m=\u001b[39m _fit_wrapper()\n",
      "File \u001b[1;32m~\\anaconda3\\lib\\site-packages\\pmdarima\\arima\\arima.py:510\u001b[0m, in \u001b[0;36mARIMA._fit.<locals>._fit_wrapper\u001b[1;34m()\u001b[0m\n\u001b[0;32m    507\u001b[0m _maxiter \u001b[38;5;241m=\u001b[39m fit_args\u001b[38;5;241m.\u001b[39mpop(\u001b[38;5;124m\"\u001b[39m\u001b[38;5;124mmaxiter\u001b[39m\u001b[38;5;124m\"\u001b[39m, _maxiter)\n\u001b[0;32m    509\u001b[0m disp \u001b[38;5;241m=\u001b[39m fit_args\u001b[38;5;241m.\u001b[39mpop(\u001b[38;5;124m\"\u001b[39m\u001b[38;5;124mdisp\u001b[39m\u001b[38;5;124m\"\u001b[39m, \u001b[38;5;241m0\u001b[39m)\n\u001b[1;32m--> 510\u001b[0m fitted \u001b[38;5;241m=\u001b[39m arima\u001b[38;5;241m.\u001b[39mfit(\n\u001b[0;32m    511\u001b[0m     start_params\u001b[38;5;241m=\u001b[39mstart_params,\n\u001b[0;32m    512\u001b[0m     method\u001b[38;5;241m=\u001b[39mmethod,\n\u001b[0;32m    513\u001b[0m     maxiter\u001b[38;5;241m=\u001b[39m_maxiter,\n\u001b[0;32m    514\u001b[0m     disp\u001b[38;5;241m=\u001b[39mdisp,\n\u001b[0;32m    515\u001b[0m     \u001b[38;5;241m*\u001b[39m\u001b[38;5;241m*\u001b[39mfit_args,\n\u001b[0;32m    516\u001b[0m )\n\u001b[0;32m    518\u001b[0m \u001b[38;5;28;01mreturn\u001b[39;00m arima, fitted\n",
      "File \u001b[1;32m~\\anaconda3\\lib\\site-packages\\statsmodels\\tsa\\statespace\\mlemodel.py:728\u001b[0m, in \u001b[0;36mMLEModel.fit\u001b[1;34m(self, start_params, transformed, includes_fixed, cov_type, cov_kwds, method, maxiter, full_output, disp, callback, return_params, optim_score, optim_complex_step, optim_hessian, flags, low_memory, **kwargs)\u001b[0m\n\u001b[0;32m    726\u001b[0m \u001b[38;5;28;01melse\u001b[39;00m:\n\u001b[0;32m    727\u001b[0m     func \u001b[38;5;241m=\u001b[39m \u001b[38;5;28mself\u001b[39m\u001b[38;5;241m.\u001b[39msmooth\n\u001b[1;32m--> 728\u001b[0m res \u001b[38;5;241m=\u001b[39m \u001b[43mfunc\u001b[49m\u001b[43m(\u001b[49m\u001b[43mmlefit\u001b[49m\u001b[38;5;241;43m.\u001b[39;49m\u001b[43mparams\u001b[49m\u001b[43m,\u001b[49m\u001b[43m \u001b[49m\u001b[43mtransformed\u001b[49m\u001b[38;5;241;43m=\u001b[39;49m\u001b[38;5;28;43;01mFalse\u001b[39;49;00m\u001b[43m,\u001b[49m\u001b[43m \u001b[49m\u001b[43mincludes_fixed\u001b[49m\u001b[38;5;241;43m=\u001b[39;49m\u001b[38;5;28;43;01mFalse\u001b[39;49;00m\u001b[43m,\u001b[49m\n\u001b[0;32m    729\u001b[0m \u001b[43m           \u001b[49m\u001b[43mcov_type\u001b[49m\u001b[38;5;241;43m=\u001b[39;49m\u001b[43mcov_type\u001b[49m\u001b[43m,\u001b[49m\u001b[43m \u001b[49m\u001b[43mcov_kwds\u001b[49m\u001b[38;5;241;43m=\u001b[39;49m\u001b[43mcov_kwds\u001b[49m\u001b[43m)\u001b[49m\n\u001b[0;32m    731\u001b[0m res\u001b[38;5;241m.\u001b[39mmlefit \u001b[38;5;241m=\u001b[39m mlefit\n\u001b[0;32m    732\u001b[0m res\u001b[38;5;241m.\u001b[39mmle_retvals \u001b[38;5;241m=\u001b[39m mlefit\u001b[38;5;241m.\u001b[39mmle_retvals\n",
      "File \u001b[1;32m~\\anaconda3\\lib\\site-packages\\statsmodels\\tsa\\statespace\\mlemodel.py:889\u001b[0m, in \u001b[0;36mMLEModel.smooth\u001b[1;34m(self, params, transformed, includes_fixed, complex_step, cov_type, cov_kwds, return_ssm, results_class, results_wrapper_class, **kwargs)\u001b[0m\n\u001b[0;32m    886\u001b[0m result \u001b[38;5;241m=\u001b[39m \u001b[38;5;28mself\u001b[39m\u001b[38;5;241m.\u001b[39mssm\u001b[38;5;241m.\u001b[39msmooth(complex_step\u001b[38;5;241m=\u001b[39mcomplex_step, \u001b[38;5;241m*\u001b[39m\u001b[38;5;241m*\u001b[39mkwargs)\n\u001b[0;32m    888\u001b[0m \u001b[38;5;66;03m# Wrap in a results object\u001b[39;00m\n\u001b[1;32m--> 889\u001b[0m \u001b[38;5;28;01mreturn\u001b[39;00m \u001b[38;5;28;43mself\u001b[39;49m\u001b[38;5;241;43m.\u001b[39;49m\u001b[43m_wrap_results\u001b[49m\u001b[43m(\u001b[49m\u001b[43mparams\u001b[49m\u001b[43m,\u001b[49m\u001b[43m \u001b[49m\u001b[43mresult\u001b[49m\u001b[43m,\u001b[49m\u001b[43m \u001b[49m\u001b[43mreturn_ssm\u001b[49m\u001b[43m,\u001b[49m\u001b[43m \u001b[49m\u001b[43mcov_type\u001b[49m\u001b[43m,\u001b[49m\n\u001b[0;32m    890\u001b[0m \u001b[43m                          \u001b[49m\u001b[43mcov_kwds\u001b[49m\u001b[43m,\u001b[49m\u001b[43m \u001b[49m\u001b[43mresults_class\u001b[49m\u001b[43m,\u001b[49m\n\u001b[0;32m    891\u001b[0m \u001b[43m                          \u001b[49m\u001b[43mresults_wrapper_class\u001b[49m\u001b[43m)\u001b[49m\n",
      "File \u001b[1;32m~\\anaconda3\\lib\\site-packages\\statsmodels\\tsa\\statespace\\mlemodel.py:788\u001b[0m, in \u001b[0;36mMLEModel._wrap_results\u001b[1;34m(self, params, result, return_raw, cov_type, cov_kwds, results_class, wrapper_class)\u001b[0m\n\u001b[0;32m    785\u001b[0m     \u001b[38;5;28;01mif\u001b[39;00m wrapper_class \u001b[38;5;129;01mis\u001b[39;00m \u001b[38;5;28;01mNone\u001b[39;00m:\n\u001b[0;32m    786\u001b[0m         wrapper_class \u001b[38;5;241m=\u001b[39m \u001b[38;5;28mself\u001b[39m\u001b[38;5;241m.\u001b[39m_res_classes[\u001b[38;5;124m'\u001b[39m\u001b[38;5;124mfit\u001b[39m\u001b[38;5;124m'\u001b[39m][\u001b[38;5;241m1\u001b[39m]\n\u001b[1;32m--> 788\u001b[0m     res \u001b[38;5;241m=\u001b[39m results_class(\u001b[38;5;28mself\u001b[39m, params, result, \u001b[38;5;241m*\u001b[39m\u001b[38;5;241m*\u001b[39mresult_kwargs)\n\u001b[0;32m    789\u001b[0m     result \u001b[38;5;241m=\u001b[39m wrapper_class(res)\n\u001b[0;32m    790\u001b[0m \u001b[38;5;28;01mreturn\u001b[39;00m result\n",
      "File \u001b[1;32m~\\anaconda3\\lib\\site-packages\\statsmodels\\tsa\\statespace\\sarimax.py:1806\u001b[0m, in \u001b[0;36mSARIMAXResults.__init__\u001b[1;34m(self, model, params, filter_results, cov_type, **kwargs)\u001b[0m\n\u001b[0;32m   1804\u001b[0m \u001b[38;5;28;01mdef\u001b[39;00m \u001b[38;5;21m__init__\u001b[39m(\u001b[38;5;28mself\u001b[39m, model, params, filter_results, cov_type\u001b[38;5;241m=\u001b[39m\u001b[38;5;28;01mNone\u001b[39;00m,\n\u001b[0;32m   1805\u001b[0m              \u001b[38;5;241m*\u001b[39m\u001b[38;5;241m*\u001b[39mkwargs):\n\u001b[1;32m-> 1806\u001b[0m     \u001b[38;5;28msuper\u001b[39m(SARIMAXResults, \u001b[38;5;28mself\u001b[39m)\u001b[38;5;241m.\u001b[39m\u001b[38;5;21m__init__\u001b[39m(model, params, filter_results,\n\u001b[0;32m   1807\u001b[0m                                          cov_type, \u001b[38;5;241m*\u001b[39m\u001b[38;5;241m*\u001b[39mkwargs)\n\u001b[0;32m   1809\u001b[0m     \u001b[38;5;28mself\u001b[39m\u001b[38;5;241m.\u001b[39mdf_resid \u001b[38;5;241m=\u001b[39m np\u001b[38;5;241m.\u001b[39minf  \u001b[38;5;66;03m# attribute required for wald tests\u001b[39;00m\n\u001b[0;32m   1811\u001b[0m     \u001b[38;5;66;03m# Save _init_kwds\u001b[39;00m\n",
      "File \u001b[1;32m~\\anaconda3\\lib\\site-packages\\statsmodels\\tsa\\statespace\\mlemodel.py:2373\u001b[0m, in \u001b[0;36mMLEResults.__init__\u001b[1;34m(self, model, params, results, cov_type, cov_kwds, **kwargs)\u001b[0m\n\u001b[0;32m   2371\u001b[0m \u001b[38;5;28;01mtry\u001b[39;00m:\n\u001b[0;32m   2372\u001b[0m     \u001b[38;5;28mself\u001b[39m\u001b[38;5;241m.\u001b[39m_rank \u001b[38;5;241m=\u001b[39m \u001b[38;5;28;01mNone\u001b[39;00m\n\u001b[1;32m-> 2373\u001b[0m     \u001b[38;5;28mself\u001b[39m\u001b[38;5;241m.\u001b[39m_get_robustcov_results(cov_type\u001b[38;5;241m=\u001b[39mcov_type, use_self\u001b[38;5;241m=\u001b[39m\u001b[38;5;28;01mTrue\u001b[39;00m,\n\u001b[0;32m   2374\u001b[0m                                 \u001b[38;5;241m*\u001b[39m\u001b[38;5;241m*\u001b[39mcov_kwds)\n\u001b[0;32m   2375\u001b[0m \u001b[38;5;28;01mexcept\u001b[39;00m np\u001b[38;5;241m.\u001b[39mlinalg\u001b[38;5;241m.\u001b[39mLinAlgError:\n\u001b[0;32m   2376\u001b[0m     \u001b[38;5;28mself\u001b[39m\u001b[38;5;241m.\u001b[39m_rank \u001b[38;5;241m=\u001b[39m \u001b[38;5;241m0\u001b[39m\n",
      "File \u001b[1;32m~\\anaconda3\\lib\\site-packages\\statsmodels\\tsa\\statespace\\mlemodel.py:2603\u001b[0m, in \u001b[0;36mMLEResults._get_robustcov_results\u001b[1;34m(self, cov_type, **kwargs)\u001b[0m\n\u001b[0;32m   2600\u001b[0m     res\u001b[38;5;241m.\u001b[39mcov_kwds[\u001b[38;5;124m'\u001b[39m\u001b[38;5;124mdescription\u001b[39m\u001b[38;5;124m'\u001b[39m] \u001b[38;5;241m=\u001b[39m descriptions[\u001b[38;5;124m'\u001b[39m\u001b[38;5;124mOIM\u001b[39m\u001b[38;5;124m'\u001b[39m]\u001b[38;5;241m.\u001b[39mformat(\n\u001b[0;32m   2601\u001b[0m                                         approx_type\u001b[38;5;241m=\u001b[39mapprox_type_str)\n\u001b[0;32m   2602\u001b[0m \u001b[38;5;28;01melif\u001b[39;00m \u001b[38;5;28mself\u001b[39m\u001b[38;5;241m.\u001b[39mcov_type \u001b[38;5;241m==\u001b[39m \u001b[38;5;124m'\u001b[39m\u001b[38;5;124mopg\u001b[39m\u001b[38;5;124m'\u001b[39m:\n\u001b[1;32m-> 2603\u001b[0m     res\u001b[38;5;241m.\u001b[39mcov_params_default \u001b[38;5;241m=\u001b[39m \u001b[43mres\u001b[49m\u001b[38;5;241;43m.\u001b[39;49m\u001b[43mcov_params_opg\u001b[49m\n\u001b[0;32m   2604\u001b[0m     res\u001b[38;5;241m.\u001b[39mcov_kwds[\u001b[38;5;124m'\u001b[39m\u001b[38;5;124mdescription\u001b[39m\u001b[38;5;124m'\u001b[39m] \u001b[38;5;241m=\u001b[39m descriptions[\u001b[38;5;124m'\u001b[39m\u001b[38;5;124mOPG\u001b[39m\u001b[38;5;124m'\u001b[39m]\u001b[38;5;241m.\u001b[39mformat(\n\u001b[0;32m   2605\u001b[0m                                         approx_type\u001b[38;5;241m=\u001b[39mapprox_type_str)\n\u001b[0;32m   2606\u001b[0m \u001b[38;5;28;01melif\u001b[39;00m \u001b[38;5;28mself\u001b[39m\u001b[38;5;241m.\u001b[39mcov_type \u001b[38;5;241m==\u001b[39m \u001b[38;5;124m'\u001b[39m\u001b[38;5;124mrobust\u001b[39m\u001b[38;5;124m'\u001b[39m \u001b[38;5;129;01mor\u001b[39;00m \u001b[38;5;28mself\u001b[39m\u001b[38;5;241m.\u001b[39mcov_type \u001b[38;5;241m==\u001b[39m \u001b[38;5;124m'\u001b[39m\u001b[38;5;124mrobust_oim\u001b[39m\u001b[38;5;124m'\u001b[39m:\n",
      "File \u001b[1;32m~\\anaconda3\\lib\\site-packages\\pandas\\_libs\\properties.pyx:37\u001b[0m, in \u001b[0;36mpandas._libs.properties.CachedProperty.__get__\u001b[1;34m()\u001b[0m\n",
      "File \u001b[1;32m~\\anaconda3\\lib\\site-packages\\statsmodels\\tsa\\statespace\\mlemodel.py:2733\u001b[0m, in \u001b[0;36mMLEResults.cov_params_opg\u001b[1;34m(self)\u001b[0m\n\u001b[0;32m   2727\u001b[0m \u001b[38;5;129m@cache_readonly\u001b[39m\n\u001b[0;32m   2728\u001b[0m \u001b[38;5;28;01mdef\u001b[39;00m \u001b[38;5;21mcov_params_opg\u001b[39m(\u001b[38;5;28mself\u001b[39m):\n\u001b[0;32m   2729\u001b[0m     \u001b[38;5;124;03m\"\"\"\u001b[39;00m\n\u001b[0;32m   2730\u001b[0m \u001b[38;5;124;03m    (array) The variance / covariance matrix. Computed using the outer\u001b[39;00m\n\u001b[0;32m   2731\u001b[0m \u001b[38;5;124;03m    product of gradients method.\u001b[39;00m\n\u001b[0;32m   2732\u001b[0m \u001b[38;5;124;03m    \"\"\"\u001b[39;00m\n\u001b[1;32m-> 2733\u001b[0m     \u001b[38;5;28;01mreturn\u001b[39;00m \u001b[38;5;28;43mself\u001b[39;49m\u001b[38;5;241;43m.\u001b[39;49m\u001b[43m_cov_params_opg\u001b[49m\u001b[43m(\u001b[49m\u001b[38;5;28;43mself\u001b[39;49m\u001b[38;5;241;43m.\u001b[39;49m\u001b[43m_cov_approx_complex_step\u001b[49m\u001b[43m,\u001b[49m\n\u001b[0;32m   2734\u001b[0m \u001b[43m                                \u001b[49m\u001b[38;5;28;43mself\u001b[39;49m\u001b[38;5;241;43m.\u001b[39;49m\u001b[43m_cov_approx_centered\u001b[49m\u001b[43m)\u001b[49m\n",
      "File \u001b[1;32m~\\anaconda3\\lib\\site-packages\\statsmodels\\tsa\\statespace\\mlemodel.py:2700\u001b[0m, in \u001b[0;36mMLEResults._cov_params_opg\u001b[1;34m(self, approx_complex_step, approx_centered)\u001b[0m\n\u001b[0;32m   2699\u001b[0m \u001b[38;5;28;01mdef\u001b[39;00m \u001b[38;5;21m_cov_params_opg\u001b[39m(\u001b[38;5;28mself\u001b[39m, approx_complex_step\u001b[38;5;241m=\u001b[39m\u001b[38;5;28;01mTrue\u001b[39;00m, approx_centered\u001b[38;5;241m=\u001b[39m\u001b[38;5;28;01mFalse\u001b[39;00m):\n\u001b[1;32m-> 2700\u001b[0m     evaluated_hessian \u001b[38;5;241m=\u001b[39m \u001b[38;5;28mself\u001b[39m\u001b[38;5;241m.\u001b[39mnobs_effective \u001b[38;5;241m*\u001b[39m \u001b[38;5;28;43mself\u001b[39;49m\u001b[38;5;241;43m.\u001b[39;49m\u001b[43mmodel\u001b[49m\u001b[38;5;241;43m.\u001b[39;49m\u001b[43m_hessian_opg\u001b[49m\u001b[43m(\u001b[49m\n\u001b[0;32m   2701\u001b[0m \u001b[43m        \u001b[49m\u001b[38;5;28;43mself\u001b[39;49m\u001b[38;5;241;43m.\u001b[39;49m\u001b[43mparams\u001b[49m\u001b[43m,\u001b[49m\u001b[43m \u001b[49m\u001b[43mtransformed\u001b[49m\u001b[38;5;241;43m=\u001b[39;49m\u001b[38;5;28;43;01mTrue\u001b[39;49;00m\u001b[43m,\u001b[49m\u001b[43m \u001b[49m\u001b[43mincludes_fixed\u001b[49m\u001b[38;5;241;43m=\u001b[39;49m\u001b[38;5;28;43;01mTrue\u001b[39;49;00m\u001b[43m,\u001b[49m\n\u001b[0;32m   2702\u001b[0m \u001b[43m        \u001b[49m\u001b[43mapprox_complex_step\u001b[49m\u001b[38;5;241;43m=\u001b[39;49m\u001b[43mapprox_complex_step\u001b[49m\u001b[43m,\u001b[49m\n\u001b[0;32m   2703\u001b[0m \u001b[43m        \u001b[49m\u001b[43mapprox_centered\u001b[49m\u001b[38;5;241;43m=\u001b[39;49m\u001b[43mapprox_centered\u001b[49m\u001b[43m)\u001b[49m\n\u001b[0;32m   2705\u001b[0m     no_free_params \u001b[38;5;241m=\u001b[39m (\u001b[38;5;28mself\u001b[39m\u001b[38;5;241m.\u001b[39m_free_params_index \u001b[38;5;129;01mis\u001b[39;00m \u001b[38;5;129;01mnot\u001b[39;00m \u001b[38;5;28;01mNone\u001b[39;00m \u001b[38;5;129;01mand\u001b[39;00m\n\u001b[0;32m   2706\u001b[0m                       \u001b[38;5;28mlen\u001b[39m(\u001b[38;5;28mself\u001b[39m\u001b[38;5;241m.\u001b[39m_free_params_index) \u001b[38;5;241m==\u001b[39m \u001b[38;5;241m0\u001b[39m)\n\u001b[0;32m   2708\u001b[0m     \u001b[38;5;28;01mif\u001b[39;00m no_free_params:\n",
      "File \u001b[1;32m~\\anaconda3\\lib\\site-packages\\statsmodels\\tsa\\statespace\\mlemodel.py:1542\u001b[0m, in \u001b[0;36mMLEModel._hessian_opg\u001b[1;34m(self, params, **kwargs)\u001b[0m\n\u001b[0;32m   1537\u001b[0m \u001b[38;5;28;01mdef\u001b[39;00m \u001b[38;5;21m_hessian_opg\u001b[39m(\u001b[38;5;28mself\u001b[39m, params, \u001b[38;5;241m*\u001b[39m\u001b[38;5;241m*\u001b[39mkwargs):\n\u001b[0;32m   1538\u001b[0m     \u001b[38;5;124;03m\"\"\"\u001b[39;00m\n\u001b[0;32m   1539\u001b[0m \u001b[38;5;124;03m    Hessian matrix computed using the outer product of gradients\u001b[39;00m\n\u001b[0;32m   1540\u001b[0m \u001b[38;5;124;03m    information matrix\u001b[39;00m\n\u001b[0;32m   1541\u001b[0m \u001b[38;5;124;03m    \"\"\"\u001b[39;00m\n\u001b[1;32m-> 1542\u001b[0m     \u001b[38;5;28;01mreturn\u001b[39;00m \u001b[38;5;241m-\u001b[39m\u001b[38;5;28mself\u001b[39m\u001b[38;5;241m.\u001b[39mopg_information_matrix(params, \u001b[38;5;241m*\u001b[39m\u001b[38;5;241m*\u001b[39mkwargs)\n",
      "File \u001b[1;32m~\\anaconda3\\lib\\site-packages\\statsmodels\\tsa\\statespace\\mlemodel.py:1229\u001b[0m, in \u001b[0;36mMLEModel.opg_information_matrix\u001b[1;34m(self, params, transformed, includes_fixed, approx_complex_step, **kwargs)\u001b[0m\n\u001b[0;32m   1224\u001b[0m \u001b[38;5;28;01mif\u001b[39;00m \u001b[38;5;129;01mnot\u001b[39;00m transformed \u001b[38;5;129;01mand\u001b[39;00m approx_complex_step:\n\u001b[0;32m   1225\u001b[0m     \u001b[38;5;28;01mraise\u001b[39;00m \u001b[38;5;167;01mValueError\u001b[39;00m(\u001b[38;5;124m\"\u001b[39m\u001b[38;5;124mCannot use complex-step approximations to\u001b[39m\u001b[38;5;124m\"\u001b[39m\n\u001b[0;32m   1226\u001b[0m                      \u001b[38;5;124m\"\u001b[39m\u001b[38;5;124m calculate the observed_information_matrix\u001b[39m\u001b[38;5;124m\"\u001b[39m\n\u001b[0;32m   1227\u001b[0m                      \u001b[38;5;124m\"\u001b[39m\u001b[38;5;124m with untransformed parameters.\u001b[39m\u001b[38;5;124m\"\u001b[39m)\n\u001b[1;32m-> 1229\u001b[0m score_obs \u001b[38;5;241m=\u001b[39m \u001b[38;5;28mself\u001b[39m\u001b[38;5;241m.\u001b[39mscore_obs(params, transformed\u001b[38;5;241m=\u001b[39mtransformed,\n\u001b[0;32m   1230\u001b[0m                            includes_fixed\u001b[38;5;241m=\u001b[39mincludes_fixed,\n\u001b[0;32m   1231\u001b[0m                            approx_complex_step\u001b[38;5;241m=\u001b[39mapprox_complex_step,\n\u001b[0;32m   1232\u001b[0m                            \u001b[38;5;241m*\u001b[39m\u001b[38;5;241m*\u001b[39mkwargs)\u001b[38;5;241m.\u001b[39mtranspose()\n\u001b[0;32m   1233\u001b[0m \u001b[38;5;28;01mreturn\u001b[39;00m (\n\u001b[0;32m   1234\u001b[0m     np\u001b[38;5;241m.\u001b[39minner(score_obs, score_obs) \u001b[38;5;241m/\u001b[39m\n\u001b[0;32m   1235\u001b[0m     (\u001b[38;5;28mself\u001b[39m\u001b[38;5;241m.\u001b[39mnobs \u001b[38;5;241m-\u001b[39m \u001b[38;5;28mself\u001b[39m\u001b[38;5;241m.\u001b[39mssm\u001b[38;5;241m.\u001b[39mloglikelihood_burn)\n\u001b[0;32m   1236\u001b[0m )\n",
      "File \u001b[1;32m~\\anaconda3\\lib\\site-packages\\statsmodels\\tsa\\statespace\\mlemodel.py:1448\u001b[0m, in \u001b[0;36mMLEModel.score_obs\u001b[1;34m(self, params, method, transformed, includes_fixed, approx_complex_step, approx_centered, **kwargs)\u001b[0m\n\u001b[0;32m   1446\u001b[0m     epsilon \u001b[38;5;241m=\u001b[39m _get_epsilon(params, \u001b[38;5;241m2.\u001b[39m, \u001b[38;5;28;01mNone\u001b[39;00m, \u001b[38;5;28mlen\u001b[39m(params))\n\u001b[0;32m   1447\u001b[0m     kwargs[\u001b[38;5;124m'\u001b[39m\u001b[38;5;124mcomplex_step\u001b[39m\u001b[38;5;124m'\u001b[39m] \u001b[38;5;241m=\u001b[39m \u001b[38;5;28;01mTrue\u001b[39;00m\n\u001b[1;32m-> 1448\u001b[0m     score \u001b[38;5;241m=\u001b[39m \u001b[43mapprox_fprime_cs\u001b[49m\u001b[43m(\u001b[49m\u001b[43mparams\u001b[49m\u001b[43m,\u001b[49m\u001b[43m \u001b[49m\u001b[38;5;28;43mself\u001b[39;49m\u001b[38;5;241;43m.\u001b[39;49m\u001b[43mloglikeobs\u001b[49m\u001b[43m,\u001b[49m\u001b[43m \u001b[49m\u001b[43mepsilon\u001b[49m\u001b[38;5;241;43m=\u001b[39;49m\u001b[43mepsilon\u001b[49m\u001b[43m,\u001b[49m\n\u001b[0;32m   1449\u001b[0m \u001b[43m                             \u001b[49m\u001b[43mkwargs\u001b[49m\u001b[38;5;241;43m=\u001b[39;49m\u001b[43mkwargs\u001b[49m\u001b[43m)\u001b[49m\n\u001b[0;32m   1450\u001b[0m \u001b[38;5;28;01melif\u001b[39;00m method \u001b[38;5;241m==\u001b[39m \u001b[38;5;124m'\u001b[39m\u001b[38;5;124mapprox\u001b[39m\u001b[38;5;124m'\u001b[39m:\n\u001b[0;32m   1451\u001b[0m     score \u001b[38;5;241m=\u001b[39m approx_fprime(params, \u001b[38;5;28mself\u001b[39m\u001b[38;5;241m.\u001b[39mloglikeobs, kwargs\u001b[38;5;241m=\u001b[39mkwargs,\n\u001b[0;32m   1452\u001b[0m                           centered\u001b[38;5;241m=\u001b[39mapprox_centered)\n",
      "File \u001b[1;32m~\\anaconda3\\lib\\site-packages\\statsmodels\\tools\\numdiff.py:251\u001b[0m, in \u001b[0;36mapprox_fprime_cs\u001b[1;34m(x, f, epsilon, args, kwargs)\u001b[0m\n\u001b[0;32m    249\u001b[0m increments \u001b[38;5;241m=\u001b[39m np\u001b[38;5;241m.\u001b[39midentity(n) \u001b[38;5;241m*\u001b[39m \u001b[38;5;241m1\u001b[39mj \u001b[38;5;241m*\u001b[39m epsilon\n\u001b[0;32m    250\u001b[0m \u001b[38;5;66;03m# TODO: see if this can be vectorized, but usually dim is small\u001b[39;00m\n\u001b[1;32m--> 251\u001b[0m partials \u001b[38;5;241m=\u001b[39m [f(x\u001b[38;5;241m+\u001b[39mih, \u001b[38;5;241m*\u001b[39margs, \u001b[38;5;241m*\u001b[39m\u001b[38;5;241m*\u001b[39mkwargs)\u001b[38;5;241m.\u001b[39mimag \u001b[38;5;241m/\u001b[39m epsilon[i]\n\u001b[0;32m    252\u001b[0m             \u001b[38;5;28;01mfor\u001b[39;00m i, ih \u001b[38;5;129;01min\u001b[39;00m \u001b[38;5;28menumerate\u001b[39m(increments)]\n\u001b[0;32m    254\u001b[0m \u001b[38;5;28;01mreturn\u001b[39;00m np\u001b[38;5;241m.\u001b[39marray(partials)\u001b[38;5;241m.\u001b[39mT\n",
      "File \u001b[1;32m~\\anaconda3\\lib\\site-packages\\statsmodels\\tools\\numdiff.py:251\u001b[0m, in \u001b[0;36m<listcomp>\u001b[1;34m(.0)\u001b[0m\n\u001b[0;32m    249\u001b[0m increments \u001b[38;5;241m=\u001b[39m np\u001b[38;5;241m.\u001b[39midentity(n) \u001b[38;5;241m*\u001b[39m \u001b[38;5;241m1\u001b[39mj \u001b[38;5;241m*\u001b[39m epsilon\n\u001b[0;32m    250\u001b[0m \u001b[38;5;66;03m# TODO: see if this can be vectorized, but usually dim is small\u001b[39;00m\n\u001b[1;32m--> 251\u001b[0m partials \u001b[38;5;241m=\u001b[39m [f(x\u001b[38;5;241m+\u001b[39mih, \u001b[38;5;241m*\u001b[39margs, \u001b[38;5;241m*\u001b[39m\u001b[38;5;241m*\u001b[39mkwargs)\u001b[38;5;241m.\u001b[39mimag \u001b[38;5;241m/\u001b[39m epsilon[i]\n\u001b[0;32m    252\u001b[0m             \u001b[38;5;28;01mfor\u001b[39;00m i, ih \u001b[38;5;129;01min\u001b[39;00m \u001b[38;5;28menumerate\u001b[39m(increments)]\n\u001b[0;32m    254\u001b[0m \u001b[38;5;28;01mreturn\u001b[39;00m np\u001b[38;5;241m.\u001b[39marray(partials)\u001b[38;5;241m.\u001b[39mT\n",
      "File \u001b[1;32m~\\anaconda3\\lib\\site-packages\\statsmodels\\tsa\\statespace\\mlemodel.py:988\u001b[0m, in \u001b[0;36mMLEModel.loglikeobs\u001b[1;34m(self, params, transformed, includes_fixed, complex_step, **kwargs)\u001b[0m\n\u001b[0;32m    983\u001b[0m     kwargs[\u001b[38;5;124m'\u001b[39m\u001b[38;5;124minversion_method\u001b[39m\u001b[38;5;124m'\u001b[39m] \u001b[38;5;241m=\u001b[39m INVERT_UNIVARIATE \u001b[38;5;241m|\u001b[39m SOLVE_LU\n\u001b[0;32m    985\u001b[0m \u001b[38;5;28mself\u001b[39m\u001b[38;5;241m.\u001b[39mupdate(params, transformed\u001b[38;5;241m=\u001b[39m\u001b[38;5;28;01mTrue\u001b[39;00m, includes_fixed\u001b[38;5;241m=\u001b[39m\u001b[38;5;28;01mTrue\u001b[39;00m,\n\u001b[0;32m    986\u001b[0m             complex_step\u001b[38;5;241m=\u001b[39mcomplex_step)\n\u001b[1;32m--> 988\u001b[0m \u001b[38;5;28;01mreturn\u001b[39;00m \u001b[38;5;28mself\u001b[39m\u001b[38;5;241m.\u001b[39mssm\u001b[38;5;241m.\u001b[39mloglikeobs(complex_step\u001b[38;5;241m=\u001b[39mcomplex_step, \u001b[38;5;241m*\u001b[39m\u001b[38;5;241m*\u001b[39mkwargs)\n",
      "File \u001b[1;32m~\\anaconda3\\lib\\site-packages\\statsmodels\\tsa\\statespace\\kalman_filter.py:1069\u001b[0m, in \u001b[0;36mKalmanFilter.loglikeobs\u001b[1;34m(self, **kwargs)\u001b[0m\n\u001b[0;32m   1065\u001b[0m     kwargs\u001b[38;5;241m.\u001b[39msetdefault(\n\u001b[0;32m   1066\u001b[0m         \u001b[38;5;124m'\u001b[39m\u001b[38;5;124mconserve_memory\u001b[39m\u001b[38;5;124m'\u001b[39m,\n\u001b[0;32m   1067\u001b[0m         MEMORY_CONSERVE \u001b[38;5;241m^\u001b[39m (MEMORY_NO_FORECAST \u001b[38;5;241m|\u001b[39m MEMORY_NO_LIKELIHOOD))\n\u001b[0;32m   1068\u001b[0m kfilter \u001b[38;5;241m=\u001b[39m \u001b[38;5;28mself\u001b[39m\u001b[38;5;241m.\u001b[39m_filter(\u001b[38;5;241m*\u001b[39m\u001b[38;5;241m*\u001b[39mkwargs)\n\u001b[1;32m-> 1069\u001b[0m llf_obs \u001b[38;5;241m=\u001b[39m \u001b[43mnp\u001b[49m\u001b[38;5;241;43m.\u001b[39;49m\u001b[43marray\u001b[49m\u001b[43m(\u001b[49m\u001b[43mkfilter\u001b[49m\u001b[38;5;241;43m.\u001b[39;49m\u001b[43mloglikelihood\u001b[49m\u001b[43m,\u001b[49m\u001b[43m \u001b[49m\u001b[43mcopy\u001b[49m\u001b[38;5;241;43m=\u001b[39;49m\u001b[38;5;28;43;01mTrue\u001b[39;49;00m\u001b[43m)\u001b[49m\n\u001b[0;32m   1070\u001b[0m loglikelihood_burn \u001b[38;5;241m=\u001b[39m kwargs\u001b[38;5;241m.\u001b[39mget(\u001b[38;5;124m'\u001b[39m\u001b[38;5;124mloglikelihood_burn\u001b[39m\u001b[38;5;124m'\u001b[39m,\n\u001b[0;32m   1071\u001b[0m                                 \u001b[38;5;28mself\u001b[39m\u001b[38;5;241m.\u001b[39mloglikelihood_burn)\n\u001b[0;32m   1073\u001b[0m \u001b[38;5;66;03m# If the scale was concentrated out of the log-likelihood function,\u001b[39;00m\n\u001b[0;32m   1074\u001b[0m \u001b[38;5;66;03m# then the llf_obs above is:\u001b[39;00m\n\u001b[0;32m   1075\u001b[0m \u001b[38;5;66;03m# -0.5 * k_endog * log 2 * pi - 0.5 * log |F_t|\u001b[39;00m\n\u001b[1;32m   (...)\u001b[0m\n\u001b[0;32m   1080\u001b[0m \u001b[38;5;66;03m# denominator of the scale computation and in the llf_obs adjustment\u001b[39;00m\n\u001b[0;32m   1081\u001b[0m \u001b[38;5;66;03m# to take into account missing values.\u001b[39;00m\n",
      "\u001b[1;31mKeyboardInterrupt\u001b[0m: "
     ]
    }
   ],
   "source": [
    "from pmdarima import auto_arima\n",
    "\n",
    "# Suponha que 'data' seja a sua série temporal\n",
    "auto_arima_config = auto_arima(arima_train, seasonal=True, m=12)  # m é o período da sazonalidade"
   ]
  },
  {
   "cell_type": "code",
   "execution_count": null,
   "id": "6349ead9",
   "metadata": {},
   "outputs": [],
   "source": [
    "# Obter os parâmetros 'order' e 'seasonal_order'\n",
    "order = auto_arima_config.order\n",
    "seasonal_order = auto_arima_config.seasonal_order\n",
    "auto_arima_config = [order,seasonal_order,'n']\n",
    "auto_arima_config"
   ]
  },
  {
   "cell_type": "markdown",
   "id": "045ed5b9",
   "metadata": {},
   "source": [
    "##### O Auto Arima retornou como parãmetros pdq = 0,1,0 e PDQ = 0,0,0"
   ]
  },
  {
   "cell_type": "markdown",
   "id": "e5426ed8",
   "metadata": {},
   "source": [
    "# Parâmetros com grid search"
   ]
  },
  {
   "cell_type": "markdown",
   "id": "493d86f5",
   "metadata": {},
   "source": [
    "## Carregando funções"
   ]
  },
  {
   "cell_type": "code",
   "execution_count": 66,
   "id": "399c7506",
   "metadata": {},
   "outputs": [],
   "source": [
    "import itertools\n",
    "def sarima_parameter_search(inicio, search_range, seasonal = [12]):\n",
    "    \"\"\"\n",
    "    Get all of the parameter combinations for a SARIMA model.\n",
    "    \"\"\"\n",
    "    p =d= q = range(inicio, search_range)\n",
    "    trend = ['n','c','t','ct']\n",
    "    pdq = list(itertools.product(p, d, q))\n",
    "    pdq_combinations = [(x[0], x[1], x[2], x[3], x[4]) for x in list(itertools.product(p, d, q, seasonal, trend))]\n",
    "    return pdq, pdq_combinations\n",
    "\n",
    "### EXECUTE IN MAIN FUNCTION ###\n",
    "order_combos, seasonal_order_combos = sarima_parameter_search(inicio = 0,search_range = 2)"
   ]
  },
  {
   "cell_type": "code",
   "execution_count": 67,
   "id": "7f991b40",
   "metadata": {},
   "outputs": [],
   "source": [
    "import numpy as np\n",
    "from statsmodels.tsa.statespace.sarimax import SARIMAX\n",
    "from statsmodels.tsa.arima.model import ARIMA\n",
    "from sklearn.metrics import mean_squared_error\n",
    "def seasonal_arima_model(time_series=None, order=None, seasonal_order=None, trend=None, steps=None, modo=None):\n",
    "    \"\"\"\n",
    "    Generate a seasonal ARIMA model using a set of hyperparameters. Returns the model fit, and the \n",
    "    associated model AIC and BIC values.\n",
    "    \"\"\" \n",
    "    try:\n",
    "        if modo == \"SARIMA\":\n",
    "            model = SARIMAX(time_series, \n",
    "                                       order=order, \n",
    "                                       seasonal_order=seasonal_order, \n",
    "                                       trend = trend,\n",
    "                                       enforce_stationarity=False, \n",
    "                                       enforce_invertibility=False)\n",
    "            model_fit = model.fit()\n",
    "            prediction = model_fit.forecast(steps=steps)\n",
    "            rmse = np.sqrt(mean_squared_error(arima_test, prediction))\n",
    "            return rmse, model_fit, prediction\n",
    "        elif modo == \"ARIMA\":         \n",
    "            model = ARIMA(time_series, order=order)\n",
    "            model_fit = model.fit()\n",
    "            prediction = model_fit.forecast(steps=steps)\n",
    "            rmse = np.sqrt(mean_squared_error(arima_test, prediction))\n",
    "            return rmse, model_fit, prediction\n",
    "    except:\n",
    "        print(\"Could not fit with the designated model parameters\")\n",
    "        return None, None, None\n",
    "\n",
    "def grid_search(order_combos,seasonal_order_combos, df, steps, modo):\n",
    "    lowest_rmse = 100000000000\n",
    "    \n",
    "    if modo == \"ARIMA\":\n",
    "        for order_combo in order_combos:\n",
    "            #Generate the ARIMA model\n",
    "            rmse,model_fit, prediction  = seasonal_arima_model(time_series = df, \n",
    "                                                        order = order_combo, \n",
    "                                                        steps=steps,\n",
    "                                                        modo=modo)\n",
    "            print(\"order-- \", order_combo, \", lowest_rmse--\",rmse)\n",
    "            if (rmse < lowest_rmse):\n",
    "                lowest_rmse = rmse\n",
    "                best_model = model_fit\n",
    "                best_order = order_combo\n",
    "        melhor_conf = best_order\n",
    "        return lowest_rmse,best_model,melhor_conf\n",
    "                \n",
    "    elif modo == \"SARIMA\":\n",
    "        #Generate  model for each of hyperparameter combination in a loop\n",
    "        for order_combo in order_combos:\n",
    "            for seasonal_order_combo in seasonal_order_combos:\n",
    "                #Convert the combination to list format\n",
    "                seasonal_order_combo = list(seasonal_order_combo)\n",
    "                #Generate the SARIMA model\n",
    "                rmse,model_fit, prediction  = seasonal_arima_model(time_series = df, \n",
    "                                                            order = order_combo, \n",
    "                                                            seasonal_order = seasonal_order_combo[0:4],\n",
    "                                                            trend = seasonal_order_combo[-1],\n",
    "                                                            steps=steps,\n",
    "                                                            modo=modo)\n",
    "                print(\"order-- \", order_combo, \", seasonal order-- \", seasonal_order_combo, \", lowest_rmse--\",rmse)\n",
    "                if (rmse < lowest_rmse):\n",
    "                    lowest_rmse = rmse\n",
    "                    best_model = model_fit\n",
    "                    best_order = order_combo\n",
    "                    best_seasonal_order = seasonal_order_combo\n",
    "\n",
    "                #print(\"Best model paramaters: order-- \", best_order, \", seasonal order-- \", best_seasonal_order, \", lowest_rmse--\",lowest_rmse)\n",
    "        melhor_conf = [best_order,tuple(best_seasonal_order[0:4]),best_seasonal_order[-1]]\n",
    "        return lowest_rmse, best_model,melhor_conf"
   ]
  },
  {
   "cell_type": "code",
   "execution_count": 68,
   "id": "382aa49f",
   "metadata": {},
   "outputs": [
    {
     "name": "stderr",
     "output_type": "stream",
     "text": [
      "C:\\Users\\alex\\anaconda3\\lib\\site-packages\\statsmodels\\base\\model.py:607: ConvergenceWarning: Maximum Likelihood optimization failed to converge. Check mle_retvals\n",
      "  warnings.warn(\"Maximum Likelihood optimization failed to \"\n"
     ]
    },
    {
     "name": "stdout",
     "output_type": "stream",
     "text": [
      "order--  (4, 1, 5) , seasonal order--  [0, 0, 0, 12, 'n'] , lowest_rmse-- 333.63588005932303\n"
     ]
    },
    {
     "name": "stderr",
     "output_type": "stream",
     "text": [
      "C:\\Users\\alex\\anaconda3\\lib\\site-packages\\statsmodels\\base\\model.py:607: ConvergenceWarning: Maximum Likelihood optimization failed to converge. Check mle_retvals\n",
      "  warnings.warn(\"Maximum Likelihood optimization failed to \"\n"
     ]
    },
    {
     "name": "stdout",
     "output_type": "stream",
     "text": [
      "order--  (4, 1, 5) , seasonal order--  [0, 0, 0, 12, 'c'] , lowest_rmse-- 297.4757369581716\n"
     ]
    },
    {
     "name": "stderr",
     "output_type": "stream",
     "text": [
      "C:\\Users\\alex\\anaconda3\\lib\\site-packages\\statsmodels\\base\\model.py:607: ConvergenceWarning: Maximum Likelihood optimization failed to converge. Check mle_retvals\n",
      "  warnings.warn(\"Maximum Likelihood optimization failed to \"\n"
     ]
    },
    {
     "name": "stdout",
     "output_type": "stream",
     "text": [
      "order--  (4, 1, 5) , seasonal order--  [0, 0, 0, 12, 't'] , lowest_rmse-- 782.2399516473379\n"
     ]
    },
    {
     "name": "stderr",
     "output_type": "stream",
     "text": [
      "C:\\Users\\alex\\anaconda3\\lib\\site-packages\\statsmodels\\base\\model.py:607: ConvergenceWarning: Maximum Likelihood optimization failed to converge. Check mle_retvals\n",
      "  warnings.warn(\"Maximum Likelihood optimization failed to \"\n"
     ]
    },
    {
     "name": "stdout",
     "output_type": "stream",
     "text": [
      "order--  (4, 1, 5) , seasonal order--  [0, 0, 0, 12, 'ct'] , lowest_rmse-- 853.3570300581365\n"
     ]
    },
    {
     "name": "stderr",
     "output_type": "stream",
     "text": [
      "C:\\Users\\alex\\anaconda3\\lib\\site-packages\\statsmodels\\base\\model.py:607: ConvergenceWarning: Maximum Likelihood optimization failed to converge. Check mle_retvals\n",
      "  warnings.warn(\"Maximum Likelihood optimization failed to \"\n"
     ]
    },
    {
     "name": "stdout",
     "output_type": "stream",
     "text": [
      "order--  (4, 1, 5) , seasonal order--  [0, 0, 1, 12, 'n'] , lowest_rmse-- 328.98052939496705\n"
     ]
    },
    {
     "name": "stderr",
     "output_type": "stream",
     "text": [
      "C:\\Users\\alex\\anaconda3\\lib\\site-packages\\statsmodels\\base\\model.py:607: ConvergenceWarning: Maximum Likelihood optimization failed to converge. Check mle_retvals\n",
      "  warnings.warn(\"Maximum Likelihood optimization failed to \"\n"
     ]
    },
    {
     "name": "stdout",
     "output_type": "stream",
     "text": [
      "order--  (4, 1, 5) , seasonal order--  [0, 0, 1, 12, 'c'] , lowest_rmse-- 299.36459392533476\n"
     ]
    },
    {
     "name": "stderr",
     "output_type": "stream",
     "text": [
      "C:\\Users\\alex\\anaconda3\\lib\\site-packages\\statsmodels\\base\\model.py:607: ConvergenceWarning: Maximum Likelihood optimization failed to converge. Check mle_retvals\n",
      "  warnings.warn(\"Maximum Likelihood optimization failed to \"\n"
     ]
    },
    {
     "name": "stdout",
     "output_type": "stream",
     "text": [
      "order--  (4, 1, 5) , seasonal order--  [0, 0, 1, 12, 't'] , lowest_rmse-- 798.6077909914769\n"
     ]
    },
    {
     "name": "stderr",
     "output_type": "stream",
     "text": [
      "C:\\Users\\alex\\anaconda3\\lib\\site-packages\\statsmodels\\base\\model.py:607: ConvergenceWarning: Maximum Likelihood optimization failed to converge. Check mle_retvals\n",
      "  warnings.warn(\"Maximum Likelihood optimization failed to \"\n"
     ]
    },
    {
     "name": "stdout",
     "output_type": "stream",
     "text": [
      "order--  (4, 1, 5) , seasonal order--  [0, 0, 1, 12, 'ct'] , lowest_rmse-- 778.1707201444917\n",
      "order--  (4, 1, 5) , seasonal order--  [0, 1, 0, 12, 'n'] , lowest_rmse-- 5586.425894723734\n"
     ]
    },
    {
     "name": "stderr",
     "output_type": "stream",
     "text": [
      "C:\\Users\\alex\\anaconda3\\lib\\site-packages\\statsmodels\\base\\model.py:607: ConvergenceWarning: Maximum Likelihood optimization failed to converge. Check mle_retvals\n",
      "  warnings.warn(\"Maximum Likelihood optimization failed to \"\n"
     ]
    },
    {
     "name": "stdout",
     "output_type": "stream",
     "text": [
      "order--  (4, 1, 5) , seasonal order--  [0, 1, 0, 12, 'c'] , lowest_rmse-- 6088.158437766732\n"
     ]
    },
    {
     "name": "stderr",
     "output_type": "stream",
     "text": [
      "C:\\Users\\alex\\anaconda3\\lib\\site-packages\\statsmodels\\base\\model.py:607: ConvergenceWarning: Maximum Likelihood optimization failed to converge. Check mle_retvals\n",
      "  warnings.warn(\"Maximum Likelihood optimization failed to \"\n"
     ]
    },
    {
     "name": "stdout",
     "output_type": "stream",
     "text": [
      "order--  (4, 1, 5) , seasonal order--  [0, 1, 0, 12, 't'] , lowest_rmse-- 23360.1638643039\n"
     ]
    },
    {
     "name": "stderr",
     "output_type": "stream",
     "text": [
      "C:\\Users\\alex\\anaconda3\\lib\\site-packages\\statsmodels\\base\\model.py:607: ConvergenceWarning: Maximum Likelihood optimization failed to converge. Check mle_retvals\n",
      "  warnings.warn(\"Maximum Likelihood optimization failed to \"\n"
     ]
    },
    {
     "name": "stdout",
     "output_type": "stream",
     "text": [
      "order--  (4, 1, 5) , seasonal order--  [0, 1, 0, 12, 'ct'] , lowest_rmse-- 13578.625086988988\n"
     ]
    },
    {
     "name": "stderr",
     "output_type": "stream",
     "text": [
      "C:\\Users\\alex\\anaconda3\\lib\\site-packages\\statsmodels\\base\\model.py:607: ConvergenceWarning: Maximum Likelihood optimization failed to converge. Check mle_retvals\n",
      "  warnings.warn(\"Maximum Likelihood optimization failed to \"\n"
     ]
    },
    {
     "name": "stdout",
     "output_type": "stream",
     "text": [
      "order--  (4, 1, 5) , seasonal order--  [0, 1, 1, 12, 'n'] , lowest_rmse-- 955.7313636767327\n"
     ]
    },
    {
     "name": "stderr",
     "output_type": "stream",
     "text": [
      "C:\\Users\\alex\\anaconda3\\lib\\site-packages\\statsmodels\\base\\model.py:607: ConvergenceWarning: Maximum Likelihood optimization failed to converge. Check mle_retvals\n",
      "  warnings.warn(\"Maximum Likelihood optimization failed to \"\n"
     ]
    },
    {
     "name": "stdout",
     "output_type": "stream",
     "text": [
      "order--  (4, 1, 5) , seasonal order--  [0, 1, 1, 12, 'c'] , lowest_rmse-- 1202.0226615022727\n"
     ]
    },
    {
     "name": "stderr",
     "output_type": "stream",
     "text": [
      "C:\\Users\\alex\\anaconda3\\lib\\site-packages\\statsmodels\\base\\model.py:607: ConvergenceWarning: Maximum Likelihood optimization failed to converge. Check mle_retvals\n",
      "  warnings.warn(\"Maximum Likelihood optimization failed to \"\n"
     ]
    },
    {
     "name": "stdout",
     "output_type": "stream",
     "text": [
      "order--  (4, 1, 5) , seasonal order--  [0, 1, 1, 12, 't'] , lowest_rmse-- 621.7374322928977\n"
     ]
    },
    {
     "name": "stderr",
     "output_type": "stream",
     "text": [
      "C:\\Users\\alex\\anaconda3\\lib\\site-packages\\statsmodels\\base\\model.py:607: ConvergenceWarning: Maximum Likelihood optimization failed to converge. Check mle_retvals\n",
      "  warnings.warn(\"Maximum Likelihood optimization failed to \"\n"
     ]
    },
    {
     "name": "stdout",
     "output_type": "stream",
     "text": [
      "order--  (4, 1, 5) , seasonal order--  [0, 1, 1, 12, 'ct'] , lowest_rmse-- 1135.4963028255163\n"
     ]
    },
    {
     "name": "stderr",
     "output_type": "stream",
     "text": [
      "C:\\Users\\alex\\anaconda3\\lib\\site-packages\\statsmodels\\base\\model.py:607: ConvergenceWarning: Maximum Likelihood optimization failed to converge. Check mle_retvals\n",
      "  warnings.warn(\"Maximum Likelihood optimization failed to \"\n"
     ]
    },
    {
     "name": "stdout",
     "output_type": "stream",
     "text": [
      "order--  (4, 1, 5) , seasonal order--  [1, 0, 0, 12, 'n'] , lowest_rmse-- 329.3010420205439\n"
     ]
    },
    {
     "name": "stderr",
     "output_type": "stream",
     "text": [
      "C:\\Users\\alex\\anaconda3\\lib\\site-packages\\statsmodels\\base\\model.py:607: ConvergenceWarning: Maximum Likelihood optimization failed to converge. Check mle_retvals\n",
      "  warnings.warn(\"Maximum Likelihood optimization failed to \"\n"
     ]
    },
    {
     "name": "stdout",
     "output_type": "stream",
     "text": [
      "order--  (4, 1, 5) , seasonal order--  [1, 0, 0, 12, 'c'] , lowest_rmse-- 299.6993014463535\n"
     ]
    },
    {
     "name": "stderr",
     "output_type": "stream",
     "text": [
      "C:\\Users\\alex\\anaconda3\\lib\\site-packages\\statsmodels\\base\\model.py:607: ConvergenceWarning: Maximum Likelihood optimization failed to converge. Check mle_retvals\n",
      "  warnings.warn(\"Maximum Likelihood optimization failed to \"\n"
     ]
    },
    {
     "name": "stdout",
     "output_type": "stream",
     "text": [
      "order--  (4, 1, 5) , seasonal order--  [1, 0, 0, 12, 't'] , lowest_rmse-- 797.3909408506275\n"
     ]
    },
    {
     "name": "stderr",
     "output_type": "stream",
     "text": [
      "C:\\Users\\alex\\anaconda3\\lib\\site-packages\\statsmodels\\base\\model.py:607: ConvergenceWarning: Maximum Likelihood optimization failed to converge. Check mle_retvals\n",
      "  warnings.warn(\"Maximum Likelihood optimization failed to \"\n"
     ]
    },
    {
     "name": "stdout",
     "output_type": "stream",
     "text": [
      "order--  (4, 1, 5) , seasonal order--  [1, 0, 0, 12, 'ct'] , lowest_rmse-- 753.8444617510289\n"
     ]
    },
    {
     "name": "stderr",
     "output_type": "stream",
     "text": [
      "C:\\Users\\alex\\anaconda3\\lib\\site-packages\\statsmodels\\base\\model.py:607: ConvergenceWarning: Maximum Likelihood optimization failed to converge. Check mle_retvals\n",
      "  warnings.warn(\"Maximum Likelihood optimization failed to \"\n"
     ]
    },
    {
     "name": "stdout",
     "output_type": "stream",
     "text": [
      "order--  (4, 1, 5) , seasonal order--  [1, 0, 1, 12, 'n'] , lowest_rmse-- 329.3140575216584\n"
     ]
    },
    {
     "name": "stderr",
     "output_type": "stream",
     "text": [
      "C:\\Users\\alex\\anaconda3\\lib\\site-packages\\statsmodels\\base\\model.py:607: ConvergenceWarning: Maximum Likelihood optimization failed to converge. Check mle_retvals\n",
      "  warnings.warn(\"Maximum Likelihood optimization failed to \"\n"
     ]
    },
    {
     "name": "stdout",
     "output_type": "stream",
     "text": [
      "order--  (4, 1, 5) , seasonal order--  [1, 0, 1, 12, 'c'] , lowest_rmse-- 311.1590120849998\n"
     ]
    },
    {
     "name": "stderr",
     "output_type": "stream",
     "text": [
      "C:\\Users\\alex\\anaconda3\\lib\\site-packages\\statsmodels\\base\\model.py:607: ConvergenceWarning: Maximum Likelihood optimization failed to converge. Check mle_retvals\n",
      "  warnings.warn(\"Maximum Likelihood optimization failed to \"\n"
     ]
    },
    {
     "name": "stdout",
     "output_type": "stream",
     "text": [
      "order--  (4, 1, 5) , seasonal order--  [1, 0, 1, 12, 't'] , lowest_rmse-- 800.0809937829227\n"
     ]
    },
    {
     "name": "stderr",
     "output_type": "stream",
     "text": [
      "C:\\Users\\alex\\anaconda3\\lib\\site-packages\\statsmodels\\base\\model.py:607: ConvergenceWarning: Maximum Likelihood optimization failed to converge. Check mle_retvals\n",
      "  warnings.warn(\"Maximum Likelihood optimization failed to \"\n"
     ]
    },
    {
     "name": "stdout",
     "output_type": "stream",
     "text": [
      "order--  (4, 1, 5) , seasonal order--  [1, 0, 1, 12, 'ct'] , lowest_rmse-- 800.6278396879637\n"
     ]
    },
    {
     "name": "stderr",
     "output_type": "stream",
     "text": [
      "C:\\Users\\alex\\anaconda3\\lib\\site-packages\\statsmodels\\base\\model.py:607: ConvergenceWarning: Maximum Likelihood optimization failed to converge. Check mle_retvals\n",
      "  warnings.warn(\"Maximum Likelihood optimization failed to \"\n"
     ]
    },
    {
     "name": "stdout",
     "output_type": "stream",
     "text": [
      "order--  (4, 1, 5) , seasonal order--  [1, 1, 0, 12, 'n'] , lowest_rmse-- 3967.5595556935173\n"
     ]
    },
    {
     "name": "stderr",
     "output_type": "stream",
     "text": [
      "C:\\Users\\alex\\anaconda3\\lib\\site-packages\\statsmodels\\base\\model.py:607: ConvergenceWarning: Maximum Likelihood optimization failed to converge. Check mle_retvals\n",
      "  warnings.warn(\"Maximum Likelihood optimization failed to \"\n"
     ]
    },
    {
     "name": "stdout",
     "output_type": "stream",
     "text": [
      "order--  (4, 1, 5) , seasonal order--  [1, 1, 0, 12, 'c'] , lowest_rmse-- 4168.152293733342\n"
     ]
    },
    {
     "name": "stderr",
     "output_type": "stream",
     "text": [
      "C:\\Users\\alex\\anaconda3\\lib\\site-packages\\statsmodels\\base\\model.py:607: ConvergenceWarning: Maximum Likelihood optimization failed to converge. Check mle_retvals\n",
      "  warnings.warn(\"Maximum Likelihood optimization failed to \"\n"
     ]
    },
    {
     "name": "stdout",
     "output_type": "stream",
     "text": [
      "order--  (4, 1, 5) , seasonal order--  [1, 1, 0, 12, 't'] , lowest_rmse-- 20318.1335924758\n"
     ]
    },
    {
     "name": "stderr",
     "output_type": "stream",
     "text": [
      "C:\\Users\\alex\\anaconda3\\lib\\site-packages\\statsmodels\\base\\model.py:607: ConvergenceWarning: Maximum Likelihood optimization failed to converge. Check mle_retvals\n",
      "  warnings.warn(\"Maximum Likelihood optimization failed to \"\n"
     ]
    },
    {
     "name": "stdout",
     "output_type": "stream",
     "text": [
      "order--  (4, 1, 5) , seasonal order--  [1, 1, 0, 12, 'ct'] , lowest_rmse-- 12239.65559558329\n"
     ]
    },
    {
     "name": "stderr",
     "output_type": "stream",
     "text": [
      "C:\\Users\\alex\\anaconda3\\lib\\site-packages\\statsmodels\\base\\model.py:607: ConvergenceWarning: Maximum Likelihood optimization failed to converge. Check mle_retvals\n",
      "  warnings.warn(\"Maximum Likelihood optimization failed to \"\n"
     ]
    },
    {
     "name": "stdout",
     "output_type": "stream",
     "text": [
      "order--  (4, 1, 5) , seasonal order--  [1, 1, 1, 12, 'n'] , lowest_rmse-- 593.5450723503628\n"
     ]
    },
    {
     "name": "stderr",
     "output_type": "stream",
     "text": [
      "C:\\Users\\alex\\anaconda3\\lib\\site-packages\\statsmodels\\base\\model.py:607: ConvergenceWarning: Maximum Likelihood optimization failed to converge. Check mle_retvals\n",
      "  warnings.warn(\"Maximum Likelihood optimization failed to \"\n"
     ]
    },
    {
     "name": "stdout",
     "output_type": "stream",
     "text": [
      "order--  (4, 1, 5) , seasonal order--  [1, 1, 1, 12, 'c'] , lowest_rmse-- 804.5471182276815\n"
     ]
    },
    {
     "name": "stderr",
     "output_type": "stream",
     "text": [
      "C:\\Users\\alex\\anaconda3\\lib\\site-packages\\statsmodels\\base\\model.py:607: ConvergenceWarning: Maximum Likelihood optimization failed to converge. Check mle_retvals\n",
      "  warnings.warn(\"Maximum Likelihood optimization failed to \"\n"
     ]
    },
    {
     "name": "stdout",
     "output_type": "stream",
     "text": [
      "order--  (4, 1, 5) , seasonal order--  [1, 1, 1, 12, 't'] , lowest_rmse-- 1832.2722136567188\n"
     ]
    },
    {
     "name": "stderr",
     "output_type": "stream",
     "text": [
      "C:\\Users\\alex\\anaconda3\\lib\\site-packages\\statsmodels\\base\\model.py:607: ConvergenceWarning: Maximum Likelihood optimization failed to converge. Check mle_retvals\n",
      "  warnings.warn(\"Maximum Likelihood optimization failed to \"\n"
     ]
    },
    {
     "name": "stdout",
     "output_type": "stream",
     "text": [
      "order--  (4, 1, 5) , seasonal order--  [1, 1, 1, 12, 'ct'] , lowest_rmse-- 853.2697694065968\n",
      "A melhor configuração para essa série temporal é:[(4, 1, 5), (0, 0, 0, 12), 'c']\n"
     ]
    }
   ],
   "source": [
    "rmse,model, grid_search_melhor_conf, = grid_search([(4, 1, 5)],seasonal_order_combos, arima_train, len(arima_test), \"SARIMA\")\n",
    "print(f\"A melhor configuração para essa série temporal é:{grid_search_melhor_conf}\")"
   ]
  },
  {
   "cell_type": "code",
   "execution_count": 69,
   "id": "1e36b51e",
   "metadata": {},
   "outputs": [
    {
     "name": "stdout",
     "output_type": "stream",
     "text": [
      "A melhor configuração para essa série temporal é:[(4, 1, 5), (0, 0, 0, 12), 'c']\n"
     ]
    }
   ],
   "source": [
    "print(f\"A melhor configuração para essa série temporal é:{grid_search_melhor_conf}\")"
   ]
  },
  {
   "cell_type": "markdown",
   "id": "9ac14132",
   "metadata": {},
   "source": [
    "\n",
    "##### O grid search retornou os parâmetros pdq = 0,1,0 e PDQ = 0,0,1"
   ]
  },
  {
   "cell_type": "markdown",
   "id": "d77684bf",
   "metadata": {},
   "source": [
    "# Selecionando a melhor configuração"
   ]
  },
  {
   "cell_type": "code",
   "execution_count": 72,
   "id": "04cf5207",
   "metadata": {},
   "outputs": [
    {
     "ename": "NameError",
     "evalue": "name 'ACF_PACF_config' is not defined",
     "output_type": "error",
     "traceback": [
      "\u001b[1;31m---------------------------------------------------------------------------\u001b[0m",
      "\u001b[1;31mNameError\u001b[0m                                 Traceback (most recent call last)",
      "Input \u001b[1;32mIn [72]\u001b[0m, in \u001b[0;36m<cell line: 1>\u001b[1;34m()\u001b[0m\n\u001b[1;32m----> 1\u001b[0m configs \u001b[38;5;241m=\u001b[39m [\u001b[43mACF_PACF_config\u001b[49m, auto_arima_config,grid_search_melhor_conf]\n\u001b[0;32m      2\u001b[0m rmse \u001b[38;5;241m=\u001b[39m \u001b[38;5;241m1000000\u001b[39m\n\u001b[0;32m      3\u001b[0m \u001b[38;5;28;01mfor\u001b[39;00m config \u001b[38;5;129;01min\u001b[39;00m configs: \n",
      "\u001b[1;31mNameError\u001b[0m: name 'ACF_PACF_config' is not defined"
     ]
    }
   ],
   "source": [
    "configs = [ACF_PACF_config, auto_arima_config,grid_search_melhor_conf]\n",
    "rmse = 1000000\n",
    "for config in configs: \n",
    "    rmse_pred,model_fit,predicao = seasonal_arima_model(arima_train, config[0], config[1], config[2],len(arima_test),\"SARIMA\")\n",
    "    if rmse_pred <= rmse:\n",
    "        melhor_model = model_fit\n",
    "        melhor_predicao =  predicao\n",
    "        rmse = rmse_pred\n",
    "    print(f\"RMSE da config: {config}: {rmse}\")"
   ]
  },
  {
   "cell_type": "markdown",
   "id": "3da9df2c",
   "metadata": {},
   "source": [
    "#### a melhor configuração é pdq = 0,1,0 e PDQ =0,0,1"
   ]
  },
  {
   "cell_type": "code",
   "execution_count": 126,
   "id": "856ce131",
   "metadata": {},
   "outputs": [],
   "source": [
    "rmse_pred,model_fit,melhor_predicao = seasonal_arima_model(arima_train, (3,1,3), (4,1,4,12),'ct',len(arima_test),\"SARIMA\")"
   ]
  },
  {
   "cell_type": "code",
   "execution_count": 33,
   "id": "c6babf21",
   "metadata": {},
   "outputs": [
    {
     "name": "stderr",
     "output_type": "stream",
     "text": [
      "C:\\Users\\alex\\anaconda3\\lib\\site-packages\\statsmodels\\tsa\\statespace\\representation.py:374: FutureWarning: Unknown keyword arguments: dict_keys(['alpha']).Passing unknown keyword arguments will raise a TypeError beginning in version 0.15.\n",
      "  warnings.warn(msg, FutureWarning)\n"
     ]
    }
   ],
   "source": [
    "import numpy as np\n",
    "import matplotlib.pyplot as plt\n",
    "from statsmodels.graphics.tsaplots import plot_predict\n",
    "\n",
    "# Fazendo previsões\n",
    "previsoes = melhor_model.get_forecast(steps=len(arima_test),alpha=0.05)\n",
    "intervalo_confianca = previsoes.conf_int()\n",
    "\n"
   ]
  },
  {
   "cell_type": "code",
   "execution_count": 34,
   "id": "cbd5790c",
   "metadata": {},
   "outputs": [
    {
     "data": {
      "image/png": "[encoded data removed]",
      "text/plain": [
       "<Figure size 1152x576 with 1 Axes>"
      ]
     },
     "metadata": {
      "needs_background": "light"
     },
     "output_type": "display_data"
    }
   ],
   "source": [
    "# Plotando os resultados\n",
    "plt.figure(figsize=(16, 8))\n",
    "\n",
    "# Linha da série temporal\n",
    "plt.plot(arima_test.index, arima_test['value'], label='Observado')\n",
    "\n",
    "# Linha das previsões\n",
    "plt.plot(previsoes.predicted_mean.index, previsoes.predicted_mean, color='red', label='Previsões')\n",
    "\n",
    "# Área do intervalo de confiança\n",
    "plt.fill_between(intervalo_confianca.index,\n",
    "                 intervalo_confianca.iloc[:, 0],\n",
    "                 intervalo_confianca.iloc[:, 1], color='pink', alpha=0.3)\n",
    "\n",
    "plt.legend()\n",
    "plt.show()"
   ]
  },
  {
   "cell_type": "code",
   "execution_count": 35,
   "id": "66130002",
   "metadata": {},
   "outputs": [
    {
     "data": {
      "text/plain": [
       "<matplotlib.legend.Legend at 0x1e4f18614f0>"
      ]
     },
     "execution_count": 35,
     "metadata": {},
     "output_type": "execute_result"
    },
    {
     "data": {
      "image/png": "[encoded data removed]",
      "text/plain": [
       "<Figure size 1152x288 with 1 Axes>"
      ]
     },
     "metadata": {
      "needs_background": "light"
     },
     "output_type": "display_data"
    }
   ],
   "source": [
    "import matplotlib.pyplot as plt\n",
    "plt.figure(figsize=(16,4))\n",
    "plt.plot(arima_test, label=\"Atual\")\n",
    "plt.plot(melhor_predicao, label=\"Previsto\")\n",
    "plt.title('', fontsize=20)\n",
    "plt.ylabel('Indice', fontsize=16)\n",
    "plt.legend()"
   ]
  },
  {
   "cell_type": "markdown",
   "id": "ffd07c2c",
   "metadata": {},
   "source": [
    "# Prophet"
   ]
  },
  {
   "cell_type": "markdown",
   "id": "9b6dc2c0",
   "metadata": {},
   "source": [
    "## carregando dados"
   ]
  },
  {
   "cell_type": "code",
   "execution_count": 792,
   "id": "59da55f6",
   "metadata": {},
   "outputs": [],
   "source": [
    "df = ler_csv('dados/ibovespa.csv')\n",
    "df_prophet = df_tratamento_dados(df)\n"
   ]
  },
  {
   "cell_type": "code",
   "execution_count": 567,
   "id": "b7ad7e15",
   "metadata": {},
   "outputs": [
    {
     "data": {
      "text/plain": [
       "5107"
      ]
     },
     "execution_count": 567,
     "metadata": {},
     "output_type": "execute_result"
    }
   ],
   "source": [
    "len(df_prophet)"
   ]
  },
  {
   "cell_type": "markdown",
   "id": "f5b598bf",
   "metadata": {},
   "source": [
    "## Adequando o df"
   ]
  },
  {
   "cell_type": "code",
   "execution_count": 793,
   "id": "6580d39b",
   "metadata": {},
   "outputs": [
    {
     "data": {
      "text/plain": [
       "5107"
      ]
     },
     "execution_count": 793,
     "metadata": {},
     "output_type": "execute_result"
    }
   ],
   "source": [
    "df_prophet['ds'] = df_prophet.index.copy()\n",
    "df_prophet.rename(columns={'value': 'y'}, inplace=True)\n",
    "df_prophet.reset_index(inplace=True, drop=True)\n",
    "df_prophet.dropna(inplace=True)\n",
    "df_prophet.tail(9)\n",
    "len(df_prophet)"
   ]
  },
  {
   "cell_type": "markdown",
   "id": "7918e5f1",
   "metadata": {},
   "source": [
    "## Separando treino e teste"
   ]
  },
  {
   "cell_type": "code",
   "execution_count": 794,
   "id": "cf3c124b",
   "metadata": {},
   "outputs": [
    {
     "name": "stdout",
     "output_type": "stream",
     "text": [
      "4085\n",
      "1022\n"
     ]
    }
   ],
   "source": [
    "prophet_train, prophet_test = split(df_prophet, 0.8) "
   ]
  },
  {
   "cell_type": "markdown",
   "id": "f5ec8628",
   "metadata": {},
   "source": [
    "## Ajustando o modelo"
   ]
  },
  {
   "cell_type": "code",
   "execution_count": 801,
   "id": "49630675",
   "metadata": {},
   "outputs": [
    {
     "name": "stderr",
     "output_type": "stream",
     "text": [
      "13:48:22 - cmdstanpy - INFO - Chain [1] start processing\n",
      "13:48:24 - cmdstanpy - INFO - Chain [1] done processing\n"
     ]
    },
    {
     "name": "stdout",
     "output_type": "stream",
     "text": [
      "Index(['ds', 'trend', 'yhat_lower', 'yhat_upper', 'trend_lower', 'trend_upper',\n",
      "       'additive_terms', 'additive_terms_lower', 'additive_terms_upper',\n",
      "       'weekly', 'weekly_lower', 'weekly_upper', 'yearly', 'yearly_lower',\n",
      "       'yearly_upper', 'multiplicative_terms', 'multiplicative_terms_lower',\n",
      "       'multiplicative_terms_upper', 'yhat'],\n",
      "      dtype='object')\n"
     ]
    },
    {
     "data": {
      "text/html": [
       "<div>\n",
       "<style scoped>\n",
       "    .dataframe tbody tr th:only-of-type {\n",
       "        vertical-align: middle;\n",
       "    }\n",
       "\n",
       "    .dataframe tbody tr th {\n",
       "        vertical-align: top;\n",
       "    }\n",
       "\n",
       "    .dataframe thead th {\n",
       "        text-align: right;\n",
       "    }\n",
       "</style>\n",
       "<table border=\"1\" class=\"dataframe\">\n",
       "  <thead>\n",
       "    <tr style=\"text-align: right;\">\n",
       "      <th></th>\n",
       "      <th>yhat_lower</th>\n",
       "      <th>yhat_upper</th>\n",
       "      <th>yhat</th>\n",
       "    </tr>\n",
       "  </thead>\n",
       "  <tbody>\n",
       "    <tr>\n",
       "      <th>0</th>\n",
       "      <td>62.355157</td>\n",
       "      <td>73.651893</td>\n",
       "      <td>68.087461</td>\n",
       "    </tr>\n",
       "    <tr>\n",
       "      <th>1</th>\n",
       "      <td>62.657518</td>\n",
       "      <td>73.930742</td>\n",
       "      <td>68.325620</td>\n",
       "    </tr>\n",
       "    <tr>\n",
       "      <th>2</th>\n",
       "      <td>62.711663</td>\n",
       "      <td>74.171578</td>\n",
       "      <td>68.469891</td>\n",
       "    </tr>\n",
       "    <tr>\n",
       "      <th>3</th>\n",
       "      <td>62.895818</td>\n",
       "      <td>74.184159</td>\n",
       "      <td>68.571497</td>\n",
       "    </tr>\n",
       "    <tr>\n",
       "      <th>4</th>\n",
       "      <td>63.490471</td>\n",
       "      <td>74.493802</td>\n",
       "      <td>68.639905</td>\n",
       "    </tr>\n",
       "  </tbody>\n",
       "</table>\n",
       "</div>"
      ],
      "text/plain": [
       "   yhat_lower  yhat_upper       yhat\n",
       "0   62.355157   73.651893  68.087461\n",
       "1   62.657518   73.930742  68.325620\n",
       "2   62.711663   74.171578  68.469891\n",
       "3   62.895818   74.184159  68.571497\n",
       "4   63.490471   74.493802  68.639905"
      ]
     },
     "execution_count": 801,
     "metadata": {},
     "output_type": "execute_result"
    }
   ],
   "source": [
    "# This function fits the prophet model to the input data and generates a forecast\n",
    "from prophet import Prophet\n",
    "def fit_and_forecast(df, periods, interval_width, changepoint_range=1):\n",
    "    # set the uncertainty interval\n",
    "    Prophet(interval_width=interval_width)\n",
    "    # Instantiate the model\n",
    "    model = Prophet(changepoint_range=changepoint_range)\n",
    "    # Fit the model\n",
    "    model.fit(df)\n",
    "    # Create a dataframe with a given number of dates\n",
    "    future_df = model.make_future_dataframe(periods=periods,freq='D')\n",
    "    # Generate a forecast for the given dates\n",
    "    forecast_df = model.predict(future_df)\n",
    "    #print(forecast_df.head())\n",
    "    return forecast_df, model, future_df\n",
    "# Forecast for 365 days with full data\n",
    "forecast_df, model, future_df = fit_and_forecast(prophet_train, len(prophet_test), 0.95)\n",
    "print(forecast_df.columns)\n",
    "forecast_df[['yhat_lower', 'yhat_upper', 'yhat']].head(5)"
   ]
  },
  {
   "cell_type": "code",
   "execution_count": 802,
   "id": "3af4d159",
   "metadata": {},
   "outputs": [
    {
     "data": {
      "image/png": "[encoded data removed]",
      "text/plain": [
       "<Figure size 720x432 with 1 Axes>"
      ]
     },
     "execution_count": 802,
     "metadata": {},
     "output_type": "execute_result"
    },
    {
     "data": {
      "image/png": "[encoded data removed]",
      "text/plain": [
       "<Figure size 720x432 with 1 Axes>"
      ]
     },
     "metadata": {},
     "output_type": "display_data"
    }
   ],
   "source": [
    "model.plot(forecast_df, uncertainty=True)"
   ]
  },
  {
   "cell_type": "code",
   "execution_count": 803,
   "id": "634ae884",
   "metadata": {},
   "outputs": [
    {
     "data": {
      "image/png": "[encoded data removed]",
      "text/plain": [
       "<Figure size 720x432 with 1 Axes>"
      ]
     },
     "metadata": {},
     "output_type": "display_data"
    }
   ],
   "source": [
    "from prophet.plot import add_changepoints_to_plot\n",
    "axislist = add_changepoints_to_plot(model.plot(forecast_df).gca(), model, forecast_df)"
   ]
  },
  {
   "cell_type": "code",
   "execution_count": 620,
   "id": "f845f1c0",
   "metadata": {},
   "outputs": [],
   "source": [
    "predicao = forecast_df[['ds','yhat']]\n",
    "predicao = predicao[len(prophet_train):]"
   ]
  },
  {
   "cell_type": "code",
   "execution_count": 621,
   "id": "3860eee4",
   "metadata": {},
   "outputs": [
    {
     "data": {
      "text/html": [
       "<div>\n",
       "<style scoped>\n",
       "    .dataframe tbody tr th:only-of-type {\n",
       "        vertical-align: middle;\n",
       "    }\n",
       "\n",
       "    .dataframe tbody tr th {\n",
       "        vertical-align: top;\n",
       "    }\n",
       "\n",
       "    .dataframe thead th {\n",
       "        text-align: right;\n",
       "    }\n",
       "</style>\n",
       "<table border=\"1\" class=\"dataframe\">\n",
       "  <thead>\n",
       "    <tr style=\"text-align: right;\">\n",
       "      <th></th>\n",
       "      <th>y</th>\n",
       "      <th>ds</th>\n",
       "    </tr>\n",
       "  </thead>\n",
       "  <tbody>\n",
       "    <tr>\n",
       "      <th>4596</th>\n",
       "      <td>106.472000</td>\n",
       "      <td>2022-08-05</td>\n",
       "    </tr>\n",
       "    <tr>\n",
       "      <th>4597</th>\n",
       "      <td>107.115333</td>\n",
       "      <td>2022-08-06</td>\n",
       "    </tr>\n",
       "    <tr>\n",
       "      <th>4598</th>\n",
       "      <td>107.758667</td>\n",
       "      <td>2022-08-07</td>\n",
       "    </tr>\n",
       "    <tr>\n",
       "      <th>4599</th>\n",
       "      <td>108.402000</td>\n",
       "      <td>2022-08-08</td>\n",
       "    </tr>\n",
       "    <tr>\n",
       "      <th>4600</th>\n",
       "      <td>108.651000</td>\n",
       "      <td>2022-08-09</td>\n",
       "    </tr>\n",
       "    <tr>\n",
       "      <th>...</th>\n",
       "      <td>...</td>\n",
       "      <td>...</td>\n",
       "    </tr>\n",
       "    <tr>\n",
       "      <th>5102</th>\n",
       "      <td>133.143000</td>\n",
       "      <td>2023-12-24</td>\n",
       "    </tr>\n",
       "    <tr>\n",
       "      <th>5103</th>\n",
       "      <td>133.338000</td>\n",
       "      <td>2023-12-25</td>\n",
       "    </tr>\n",
       "    <tr>\n",
       "      <th>5104</th>\n",
       "      <td>133.533000</td>\n",
       "      <td>2023-12-26</td>\n",
       "    </tr>\n",
       "    <tr>\n",
       "      <th>5105</th>\n",
       "      <td>134.194000</td>\n",
       "      <td>2023-12-27</td>\n",
       "    </tr>\n",
       "    <tr>\n",
       "      <th>5106</th>\n",
       "      <td>134.185000</td>\n",
       "      <td>2023-12-28</td>\n",
       "    </tr>\n",
       "  </tbody>\n",
       "</table>\n",
       "<p>511 rows × 2 columns</p>\n",
       "</div>"
      ],
      "text/plain": [
       "               y         ds\n",
       "4596  106.472000 2022-08-05\n",
       "4597  107.115333 2022-08-06\n",
       "4598  107.758667 2022-08-07\n",
       "4599  108.402000 2022-08-08\n",
       "4600  108.651000 2022-08-09\n",
       "...          ...        ...\n",
       "5102  133.143000 2023-12-24\n",
       "5103  133.338000 2023-12-25\n",
       "5104  133.533000 2023-12-26\n",
       "5105  134.194000 2023-12-27\n",
       "5106  134.185000 2023-12-28\n",
       "\n",
       "[511 rows x 2 columns]"
      ]
     },
     "execution_count": 621,
     "metadata": {},
     "output_type": "execute_result"
    }
   ],
   "source": [
    "prophet_test"
   ]
  },
  {
   "cell_type": "code",
   "execution_count": 623,
   "id": "ca8f44f9",
   "metadata": {},
   "outputs": [
    {
     "data": {
      "text/plain": [
       "7.821085174542876"
      ]
     },
     "execution_count": 623,
     "metadata": {},
     "output_type": "execute_result"
    }
   ],
   "source": [
    "rmse = np.sqrt(mean_squared_error(prophet_test['y'], predicao['yhat']))\n",
    "rmse"
   ]
  },
  {
   "cell_type": "markdown",
   "id": "207e9929",
   "metadata": {},
   "source": [
    "## Ajuste de hiperparâmetros"
   ]
  },
  {
   "cell_type": "code",
   "execution_count": 814,
   "id": "9884b5e8",
   "metadata": {},
   "outputs": [
    {
     "name": "stdout",
     "output_type": "stream",
     "text": [
      "Total Possible Models 240\n"
     ]
    }
   ],
   "source": [
    "from sklearn.model_selection import ParameterGrid\n",
    "params_grid = {'seasonality_mode':(['additive']),\n",
    "               'changepoint_prior_scale':[0.01, 0.05, 0.1],\n",
    "              'holidays_prior_scale': [5,10,15,20],\n",
    "               'changepoint_range':[0.8,0.84,0.85,0.9],\n",
    "              'n_changepoints' : [20,25,50,75,100]}\n",
    "grid = ParameterGrid(params_grid)\n",
    "cnt = 0\n",
    "for p in grid:\n",
    "    cnt = cnt+1\n",
    "\n",
    "print('Total Possible Models',cnt)"
   ]
  },
  {
   "cell_type": "code",
   "execution_count": 819,
   "id": "36b61dec",
   "metadata": {},
   "outputs": [
    {
     "name": "stdout",
     "output_type": "stream",
     "text": [
      "Total Possible Models 108\n"
     ]
    }
   ],
   "source": [
    "from sklearn.model_selection import ParameterGrid\n",
    "params_grid = {'seasonality_mode':(['additive']),\n",
    "               'changepoint_prior_scale':[0.035,0.04, 0.05],\n",
    "              'holidays_prior_scale': [10,15,20],\n",
    "               'changepoint_range':[0.8,0.85,0.9],\n",
    "              'n_changepoints' : [50,75,90,100]}\n",
    "grid = ParameterGrid(params_grid)\n",
    "cnt = 0\n",
    "for p in grid:\n",
    "    cnt = cnt+1\n",
    "\n",
    "print('Total Possible Models',cnt)"
   ]
  },
  {
   "cell_type": "code",
   "execution_count": 805,
   "id": "04d46057",
   "metadata": {},
   "outputs": [
    {
     "name": "stdout",
     "output_type": "stream",
     "text": [
      "          ds                     holiday\n",
      "0 2010-01-01  Confraternização Universal\n",
      "1 2010-04-02           Sexta-feira Santa\n",
      "2 2010-04-21                  Tiradentes\n",
      "3 2010-05-01          Dia do Trabalhador\n",
      "4 2010-09-07     Independência do Brasil\n"
     ]
    }
   ],
   "source": [
    "import holidays\n",
    "\n",
    "# Cria um DataFrame vazio para armazenar os feriados\n",
    "holiday = pd.DataFrame([])\n",
    "\n",
    "# Itera sobre os feriados do Brasil entre 2010 e 2023\n",
    "for date, name in sorted(holidays.Brazil(years=range(2010, 2024)).items()):\n",
    "    # Adiciona os feriados ao DataFrame\n",
    "    holiday = pd.concat([holiday, pd.DataFrame({'ds': date, 'holiday': name}, index=[0])], ignore_index=True)\n",
    "\n",
    "# Converte a coluna 'ds' para o formato datetime\n",
    "holiday['ds'] = pd.to_datetime(holiday['ds'], format='%Y-%m-%d', errors='ignore')\n",
    "\n",
    "# Exibe os primeiros registros do DataFrame\n",
    "print(holiday.head())"
   ]
  },
  {
   "cell_type": "code",
   "execution_count": 852,
   "id": "c68bdc0f",
   "metadata": {},
   "outputs": [
    {
     "name": "stdout",
     "output_type": "stream",
     "text": [
      "{'changepoint_prior_scale': 0.035, 'changepoint_range': 0.8, 'holidays_prior_scale': 10, 'n_changepoints': 50, 'seasonality_mode': 'additive'}\n"
     ]
    },
    {
     "name": "stderr",
     "output_type": "stream",
     "text": [
      "00:13:32 - cmdstanpy - INFO - Chain [1] start processing\n",
      "00:13:36 - cmdstanpy - INFO - Chain [1] done processing\n"
     ]
    },
    {
     "name": "stdout",
     "output_type": "stream",
     "text": [
      "Root Mean Square Error(RMSE)------------------------------------ 13.003066486983252\n",
      "total:  1.0\n",
      "{'changepoint_prior_scale': 0.035, 'changepoint_range': 0.8, 'holidays_prior_scale': 10, 'n_changepoints': 75, 'seasonality_mode': 'additive'}\n"
     ]
    },
    {
     "name": "stderr",
     "output_type": "stream",
     "text": [
      "C:\\Users\\alex\\AppData\\Local\\Temp\\ipykernel_7812\\1428016007.py:27: FutureWarning: The frame.append method is deprecated and will be removed from pandas in a future version. Use pandas.concat instead.\n",
      "  model_parameters = model_parameters.append({'RMSE':RMSE,'Parameters':p},ignore_index=True)\n",
      "00:13:37 - cmdstanpy - INFO - Chain [1] start processing\n",
      "00:13:39 - cmdstanpy - INFO - Chain [1] done processing\n"
     ]
    },
    {
     "name": "stdout",
     "output_type": "stream",
     "text": [
      "Root Mean Square Error(RMSE)------------------------------------ 12.951307385521933\n",
      "total:  2.0\n",
      "{'changepoint_prior_scale': 0.035, 'changepoint_range': 0.8, 'holidays_prior_scale': 10, 'n_changepoints': 90, 'seasonality_mode': 'additive'}\n"
     ]
    },
    {
     "name": "stderr",
     "output_type": "stream",
     "text": [
      "C:\\Users\\alex\\AppData\\Local\\Temp\\ipykernel_7812\\1428016007.py:27: FutureWarning: The frame.append method is deprecated and will be removed from pandas in a future version. Use pandas.concat instead.\n",
      "  model_parameters = model_parameters.append({'RMSE':RMSE,'Parameters':p},ignore_index=True)\n",
      "00:13:41 - cmdstanpy - INFO - Chain [1] start processing\n",
      "00:13:43 - cmdstanpy - INFO - Chain [1] done processing\n"
     ]
    },
    {
     "name": "stdout",
     "output_type": "stream",
     "text": [
      "Root Mean Square Error(RMSE)------------------------------------ 12.925453672146176\n",
      "total:  3.0\n",
      "{'changepoint_prior_scale': 0.035, 'changepoint_range': 0.8, 'holidays_prior_scale': 10, 'n_changepoints': 100, 'seasonality_mode': 'additive'}\n"
     ]
    },
    {
     "name": "stderr",
     "output_type": "stream",
     "text": [
      "C:\\Users\\alex\\AppData\\Local\\Temp\\ipykernel_7812\\1428016007.py:27: FutureWarning: The frame.append method is deprecated and will be removed from pandas in a future version. Use pandas.concat instead.\n",
      "  model_parameters = model_parameters.append({'RMSE':RMSE,'Parameters':p},ignore_index=True)\n",
      "00:13:44 - cmdstanpy - INFO - Chain [1] start processing\n",
      "00:13:47 - cmdstanpy - INFO - Chain [1] done processing\n"
     ]
    },
    {
     "name": "stdout",
     "output_type": "stream",
     "text": [
      "Root Mean Square Error(RMSE)------------------------------------ 13.060077803319086\n",
      "total:  4.0\n",
      "{'changepoint_prior_scale': 0.035, 'changepoint_range': 0.8, 'holidays_prior_scale': 15, 'n_changepoints': 50, 'seasonality_mode': 'additive'}\n"
     ]
    },
    {
     "name": "stderr",
     "output_type": "stream",
     "text": [
      "C:\\Users\\alex\\AppData\\Local\\Temp\\ipykernel_7812\\1428016007.py:27: FutureWarning: The frame.append method is deprecated and will be removed from pandas in a future version. Use pandas.concat instead.\n",
      "  model_parameters = model_parameters.append({'RMSE':RMSE,'Parameters':p},ignore_index=True)\n",
      "00:13:48 - cmdstanpy - INFO - Chain [1] start processing\n",
      "00:13:51 - cmdstanpy - INFO - Chain [1] done processing\n"
     ]
    },
    {
     "name": "stdout",
     "output_type": "stream",
     "text": [
      "Root Mean Square Error(RMSE)------------------------------------ 13.078519067113012\n",
      "total:  5.0\n",
      "{'changepoint_prior_scale': 0.035, 'changepoint_range': 0.8, 'holidays_prior_scale': 15, 'n_changepoints': 75, 'seasonality_mode': 'additive'}\n"
     ]
    },
    {
     "name": "stderr",
     "output_type": "stream",
     "text": [
      "C:\\Users\\alex\\AppData\\Local\\Temp\\ipykernel_7812\\1428016007.py:27: FutureWarning: The frame.append method is deprecated and will be removed from pandas in a future version. Use pandas.concat instead.\n",
      "  model_parameters = model_parameters.append({'RMSE':RMSE,'Parameters':p},ignore_index=True)\n",
      "00:13:52 - cmdstanpy - INFO - Chain [1] start processing\n",
      "00:13:54 - cmdstanpy - INFO - Chain [1] done processing\n"
     ]
    },
    {
     "name": "stdout",
     "output_type": "stream",
     "text": [
      "Root Mean Square Error(RMSE)------------------------------------ 12.939782871539757\n",
      "total:  6.0\n",
      "{'changepoint_prior_scale': 0.035, 'changepoint_range': 0.8, 'holidays_prior_scale': 15, 'n_changepoints': 90, 'seasonality_mode': 'additive'}\n"
     ]
    },
    {
     "name": "stderr",
     "output_type": "stream",
     "text": [
      "C:\\Users\\alex\\AppData\\Local\\Temp\\ipykernel_7812\\1428016007.py:27: FutureWarning: The frame.append method is deprecated and will be removed from pandas in a future version. Use pandas.concat instead.\n",
      "  model_parameters = model_parameters.append({'RMSE':RMSE,'Parameters':p},ignore_index=True)\n",
      "00:13:55 - cmdstanpy - INFO - Chain [1] start processing\n",
      "00:13:57 - cmdstanpy - INFO - Chain [1] done processing\n"
     ]
    },
    {
     "name": "stdout",
     "output_type": "stream",
     "text": [
      "Root Mean Square Error(RMSE)------------------------------------ 12.999454797666573\n",
      "total:  6.0\n",
      "{'changepoint_prior_scale': 0.035, 'changepoint_range': 0.8, 'holidays_prior_scale': 15, 'n_changepoints': 100, 'seasonality_mode': 'additive'}\n"
     ]
    },
    {
     "name": "stderr",
     "output_type": "stream",
     "text": [
      "C:\\Users\\alex\\AppData\\Local\\Temp\\ipykernel_7812\\1428016007.py:27: FutureWarning: The frame.append method is deprecated and will be removed from pandas in a future version. Use pandas.concat instead.\n",
      "  model_parameters = model_parameters.append({'RMSE':RMSE,'Parameters':p},ignore_index=True)\n",
      "00:13:58 - cmdstanpy - INFO - Chain [1] start processing\n",
      "00:14:01 - cmdstanpy - INFO - Chain [1] done processing\n"
     ]
    },
    {
     "name": "stdout",
     "output_type": "stream",
     "text": [
      "Root Mean Square Error(RMSE)------------------------------------ 13.015294152013613\n",
      "total:  7.000000000000001\n",
      "{'changepoint_prior_scale': 0.035, 'changepoint_range': 0.8, 'holidays_prior_scale': 20, 'n_changepoints': 50, 'seasonality_mode': 'additive'}\n"
     ]
    },
    {
     "name": "stderr",
     "output_type": "stream",
     "text": [
      "C:\\Users\\alex\\AppData\\Local\\Temp\\ipykernel_7812\\1428016007.py:27: FutureWarning: The frame.append method is deprecated and will be removed from pandas in a future version. Use pandas.concat instead.\n",
      "  model_parameters = model_parameters.append({'RMSE':RMSE,'Parameters':p},ignore_index=True)\n",
      "00:14:02 - cmdstanpy - INFO - Chain [1] start processing\n",
      "00:14:04 - cmdstanpy - INFO - Chain [1] done processing\n"
     ]
    },
    {
     "name": "stdout",
     "output_type": "stream",
     "text": [
      "Root Mean Square Error(RMSE)------------------------------------ 13.084864420030147\n",
      "total:  8.0\n",
      "{'changepoint_prior_scale': 0.035, 'changepoint_range': 0.8, 'holidays_prior_scale': 20, 'n_changepoints': 75, 'seasonality_mode': 'additive'}\n"
     ]
    },
    {
     "name": "stderr",
     "output_type": "stream",
     "text": [
      "C:\\Users\\alex\\AppData\\Local\\Temp\\ipykernel_7812\\1428016007.py:27: FutureWarning: The frame.append method is deprecated and will be removed from pandas in a future version. Use pandas.concat instead.\n",
      "  model_parameters = model_parameters.append({'RMSE':RMSE,'Parameters':p},ignore_index=True)\n",
      "00:14:05 - cmdstanpy - INFO - Chain [1] start processing\n",
      "00:14:08 - cmdstanpy - INFO - Chain [1] done processing\n"
     ]
    },
    {
     "name": "stdout",
     "output_type": "stream",
     "text": [
      "Root Mean Square Error(RMSE)------------------------------------ 12.801545516434043\n",
      "total:  9.0\n",
      "{'changepoint_prior_scale': 0.035, 'changepoint_range': 0.8, 'holidays_prior_scale': 20, 'n_changepoints': 90, 'seasonality_mode': 'additive'}\n"
     ]
    },
    {
     "name": "stderr",
     "output_type": "stream",
     "text": [
      "C:\\Users\\alex\\AppData\\Local\\Temp\\ipykernel_7812\\1428016007.py:27: FutureWarning: The frame.append method is deprecated and will be removed from pandas in a future version. Use pandas.concat instead.\n",
      "  model_parameters = model_parameters.append({'RMSE':RMSE,'Parameters':p},ignore_index=True)\n",
      "00:14:09 - cmdstanpy - INFO - Chain [1] start processing\n",
      "00:14:12 - cmdstanpy - INFO - Chain [1] done processing\n"
     ]
    },
    {
     "name": "stdout",
     "output_type": "stream",
     "text": [
      "Root Mean Square Error(RMSE)------------------------------------ 12.9969156106198\n",
      "total:  10.0\n",
      "{'changepoint_prior_scale': 0.035, 'changepoint_range': 0.8, 'holidays_prior_scale': 20, 'n_changepoints': 100, 'seasonality_mode': 'additive'}\n"
     ]
    },
    {
     "name": "stderr",
     "output_type": "stream",
     "text": [
      "C:\\Users\\alex\\AppData\\Local\\Temp\\ipykernel_7812\\1428016007.py:27: FutureWarning: The frame.append method is deprecated and will be removed from pandas in a future version. Use pandas.concat instead.\n",
      "  model_parameters = model_parameters.append({'RMSE':RMSE,'Parameters':p},ignore_index=True)\n",
      "00:14:13 - cmdstanpy - INFO - Chain [1] start processing\n",
      "00:14:16 - cmdstanpy - INFO - Chain [1] done processing\n"
     ]
    },
    {
     "name": "stdout",
     "output_type": "stream",
     "text": [
      "Root Mean Square Error(RMSE)------------------------------------ 12.969082617104116\n",
      "total:  11.0\n",
      "{'changepoint_prior_scale': 0.035, 'changepoint_range': 0.85, 'holidays_prior_scale': 10, 'n_changepoints': 50, 'seasonality_mode': 'additive'}\n"
     ]
    },
    {
     "name": "stderr",
     "output_type": "stream",
     "text": [
      "C:\\Users\\alex\\AppData\\Local\\Temp\\ipykernel_7812\\1428016007.py:27: FutureWarning: The frame.append method is deprecated and will be removed from pandas in a future version. Use pandas.concat instead.\n",
      "  model_parameters = model_parameters.append({'RMSE':RMSE,'Parameters':p},ignore_index=True)\n",
      "00:14:17 - cmdstanpy - INFO - Chain [1] start processing\n",
      "00:14:20 - cmdstanpy - INFO - Chain [1] done processing\n"
     ]
    },
    {
     "name": "stdout",
     "output_type": "stream",
     "text": [
      "Root Mean Square Error(RMSE)------------------------------------ 9.403804521352964\n",
      "total:  12.0\n",
      "{'changepoint_prior_scale': 0.035, 'changepoint_range': 0.85, 'holidays_prior_scale': 10, 'n_changepoints': 75, 'seasonality_mode': 'additive'}\n"
     ]
    },
    {
     "name": "stderr",
     "output_type": "stream",
     "text": [
      "C:\\Users\\alex\\AppData\\Local\\Temp\\ipykernel_7812\\1428016007.py:27: FutureWarning: The frame.append method is deprecated and will be removed from pandas in a future version. Use pandas.concat instead.\n",
      "  model_parameters = model_parameters.append({'RMSE':RMSE,'Parameters':p},ignore_index=True)\n",
      "00:14:21 - cmdstanpy - INFO - Chain [1] start processing\n",
      "00:14:24 - cmdstanpy - INFO - Chain [1] done processing\n"
     ]
    },
    {
     "name": "stdout",
     "output_type": "stream",
     "text": [
      "Root Mean Square Error(RMSE)------------------------------------ 9.407548197182063\n",
      "total:  13.0\n",
      "{'changepoint_prior_scale': 0.035, 'changepoint_range': 0.85, 'holidays_prior_scale': 10, 'n_changepoints': 90, 'seasonality_mode': 'additive'}\n"
     ]
    },
    {
     "name": "stderr",
     "output_type": "stream",
     "text": [
      "C:\\Users\\alex\\AppData\\Local\\Temp\\ipykernel_7812\\1428016007.py:27: FutureWarning: The frame.append method is deprecated and will be removed from pandas in a future version. Use pandas.concat instead.\n",
      "  model_parameters = model_parameters.append({'RMSE':RMSE,'Parameters':p},ignore_index=True)\n",
      "00:14:25 - cmdstanpy - INFO - Chain [1] start processing\n",
      "00:14:28 - cmdstanpy - INFO - Chain [1] done processing\n"
     ]
    },
    {
     "name": "stdout",
     "output_type": "stream",
     "text": [
      "Root Mean Square Error(RMSE)------------------------------------ 9.408928590346978\n",
      "total:  14.000000000000002\n",
      "{'changepoint_prior_scale': 0.035, 'changepoint_range': 0.85, 'holidays_prior_scale': 10, 'n_changepoints': 100, 'seasonality_mode': 'additive'}\n"
     ]
    },
    {
     "name": "stderr",
     "output_type": "stream",
     "text": [
      "C:\\Users\\alex\\AppData\\Local\\Temp\\ipykernel_7812\\1428016007.py:27: FutureWarning: The frame.append method is deprecated and will be removed from pandas in a future version. Use pandas.concat instead.\n",
      "  model_parameters = model_parameters.append({'RMSE':RMSE,'Parameters':p},ignore_index=True)\n",
      "00:14:29 - cmdstanpy - INFO - Chain [1] start processing\n",
      "00:14:32 - cmdstanpy - INFO - Chain [1] done processing\n"
     ]
    },
    {
     "name": "stdout",
     "output_type": "stream",
     "text": [
      "Root Mean Square Error(RMSE)------------------------------------ 9.412540531686124\n",
      "total:  15.0\n",
      "{'changepoint_prior_scale': 0.035, 'changepoint_range': 0.85, 'holidays_prior_scale': 15, 'n_changepoints': 50, 'seasonality_mode': 'additive'}\n"
     ]
    },
    {
     "name": "stderr",
     "output_type": "stream",
     "text": [
      "C:\\Users\\alex\\AppData\\Local\\Temp\\ipykernel_7812\\1428016007.py:27: FutureWarning: The frame.append method is deprecated and will be removed from pandas in a future version. Use pandas.concat instead.\n",
      "  model_parameters = model_parameters.append({'RMSE':RMSE,'Parameters':p},ignore_index=True)\n",
      "00:14:33 - cmdstanpy - INFO - Chain [1] start processing\n",
      "00:14:35 - cmdstanpy - INFO - Chain [1] done processing\n"
     ]
    },
    {
     "name": "stdout",
     "output_type": "stream",
     "text": [
      "Root Mean Square Error(RMSE)------------------------------------ 9.407969077692231\n",
      "total:  16.0\n",
      "{'changepoint_prior_scale': 0.035, 'changepoint_range': 0.85, 'holidays_prior_scale': 15, 'n_changepoints': 75, 'seasonality_mode': 'additive'}\n"
     ]
    },
    {
     "name": "stderr",
     "output_type": "stream",
     "text": [
      "C:\\Users\\alex\\AppData\\Local\\Temp\\ipykernel_7812\\1428016007.py:27: FutureWarning: The frame.append method is deprecated and will be removed from pandas in a future version. Use pandas.concat instead.\n",
      "  model_parameters = model_parameters.append({'RMSE':RMSE,'Parameters':p},ignore_index=True)\n",
      "00:14:36 - cmdstanpy - INFO - Chain [1] start processing\n",
      "00:14:40 - cmdstanpy - INFO - Chain [1] done processing\n"
     ]
    },
    {
     "name": "stdout",
     "output_type": "stream",
     "text": [
      "Root Mean Square Error(RMSE)------------------------------------ 9.408763488647157\n",
      "total:  17.0\n",
      "{'changepoint_prior_scale': 0.035, 'changepoint_range': 0.85, 'holidays_prior_scale': 15, 'n_changepoints': 90, 'seasonality_mode': 'additive'}\n"
     ]
    },
    {
     "name": "stderr",
     "output_type": "stream",
     "text": [
      "C:\\Users\\alex\\AppData\\Local\\Temp\\ipykernel_7812\\1428016007.py:27: FutureWarning: The frame.append method is deprecated and will be removed from pandas in a future version. Use pandas.concat instead.\n",
      "  model_parameters = model_parameters.append({'RMSE':RMSE,'Parameters':p},ignore_index=True)\n",
      "00:14:41 - cmdstanpy - INFO - Chain [1] start processing\n",
      "00:14:44 - cmdstanpy - INFO - Chain [1] done processing\n"
     ]
    },
    {
     "name": "stdout",
     "output_type": "stream",
     "text": [
      "Root Mean Square Error(RMSE)------------------------------------ 9.40907798026911\n",
      "total:  18.0\n",
      "{'changepoint_prior_scale': 0.035, 'changepoint_range': 0.85, 'holidays_prior_scale': 15, 'n_changepoints': 100, 'seasonality_mode': 'additive'}\n"
     ]
    },
    {
     "name": "stderr",
     "output_type": "stream",
     "text": [
      "C:\\Users\\alex\\AppData\\Local\\Temp\\ipykernel_7812\\1428016007.py:27: FutureWarning: The frame.append method is deprecated and will be removed from pandas in a future version. Use pandas.concat instead.\n",
      "  model_parameters = model_parameters.append({'RMSE':RMSE,'Parameters':p},ignore_index=True)\n",
      "00:14:45 - cmdstanpy - INFO - Chain [1] start processing\n",
      "00:14:49 - cmdstanpy - INFO - Chain [1] done processing\n"
     ]
    },
    {
     "name": "stdout",
     "output_type": "stream",
     "text": [
      "Root Mean Square Error(RMSE)------------------------------------ 9.407933627942173\n",
      "total:  19.0\n",
      "{'changepoint_prior_scale': 0.035, 'changepoint_range': 0.85, 'holidays_prior_scale': 20, 'n_changepoints': 50, 'seasonality_mode': 'additive'}\n"
     ]
    },
    {
     "name": "stderr",
     "output_type": "stream",
     "text": [
      "C:\\Users\\alex\\AppData\\Local\\Temp\\ipykernel_7812\\1428016007.py:27: FutureWarning: The frame.append method is deprecated and will be removed from pandas in a future version. Use pandas.concat instead.\n",
      "  model_parameters = model_parameters.append({'RMSE':RMSE,'Parameters':p},ignore_index=True)\n",
      "00:14:50 - cmdstanpy - INFO - Chain [1] start processing\n",
      "00:14:53 - cmdstanpy - INFO - Chain [1] done processing\n"
     ]
    },
    {
     "name": "stdout",
     "output_type": "stream",
     "text": [
      "Root Mean Square Error(RMSE)------------------------------------ 9.407710991670397\n",
      "total:  19.0\n",
      "{'changepoint_prior_scale': 0.035, 'changepoint_range': 0.85, 'holidays_prior_scale': 20, 'n_changepoints': 75, 'seasonality_mode': 'additive'}\n"
     ]
    },
    {
     "name": "stderr",
     "output_type": "stream",
     "text": [
      "C:\\Users\\alex\\AppData\\Local\\Temp\\ipykernel_7812\\1428016007.py:27: FutureWarning: The frame.append method is deprecated and will be removed from pandas in a future version. Use pandas.concat instead.\n",
      "  model_parameters = model_parameters.append({'RMSE':RMSE,'Parameters':p},ignore_index=True)\n",
      "00:14:54 - cmdstanpy - INFO - Chain [1] start processing\n",
      "00:14:58 - cmdstanpy - INFO - Chain [1] done processing\n"
     ]
    },
    {
     "name": "stdout",
     "output_type": "stream",
     "text": [
      "Root Mean Square Error(RMSE)------------------------------------ 9.410262523990069\n",
      "total:  20.0\n",
      "{'changepoint_prior_scale': 0.035, 'changepoint_range': 0.85, 'holidays_prior_scale': 20, 'n_changepoints': 90, 'seasonality_mode': 'additive'}\n"
     ]
    },
    {
     "name": "stderr",
     "output_type": "stream",
     "text": [
      "C:\\Users\\alex\\AppData\\Local\\Temp\\ipykernel_7812\\1428016007.py:27: FutureWarning: The frame.append method is deprecated and will be removed from pandas in a future version. Use pandas.concat instead.\n",
      "  model_parameters = model_parameters.append({'RMSE':RMSE,'Parameters':p},ignore_index=True)\n",
      "00:14:59 - cmdstanpy - INFO - Chain [1] start processing\n",
      "00:15:02 - cmdstanpy - INFO - Chain [1] done processing\n"
     ]
    },
    {
     "name": "stdout",
     "output_type": "stream",
     "text": [
      "Root Mean Square Error(RMSE)------------------------------------ 9.40794086169973\n",
      "total:  21.0\n",
      "{'changepoint_prior_scale': 0.035, 'changepoint_range': 0.85, 'holidays_prior_scale': 20, 'n_changepoints': 100, 'seasonality_mode': 'additive'}\n"
     ]
    },
    {
     "name": "stderr",
     "output_type": "stream",
     "text": [
      "C:\\Users\\alex\\AppData\\Local\\Temp\\ipykernel_7812\\1428016007.py:27: FutureWarning: The frame.append method is deprecated and will be removed from pandas in a future version. Use pandas.concat instead.\n",
      "  model_parameters = model_parameters.append({'RMSE':RMSE,'Parameters':p},ignore_index=True)\n",
      "00:15:03 - cmdstanpy - INFO - Chain [1] start processing\n",
      "00:15:07 - cmdstanpy - INFO - Chain [1] done processing\n"
     ]
    },
    {
     "name": "stdout",
     "output_type": "stream",
     "text": [
      "Root Mean Square Error(RMSE)------------------------------------ 9.41400612145023\n",
      "total:  22.0\n",
      "{'changepoint_prior_scale': 0.035, 'changepoint_range': 0.9, 'holidays_prior_scale': 10, 'n_changepoints': 50, 'seasonality_mode': 'additive'}\n"
     ]
    },
    {
     "name": "stderr",
     "output_type": "stream",
     "text": [
      "C:\\Users\\alex\\AppData\\Local\\Temp\\ipykernel_7812\\1428016007.py:27: FutureWarning: The frame.append method is deprecated and will be removed from pandas in a future version. Use pandas.concat instead.\n",
      "  model_parameters = model_parameters.append({'RMSE':RMSE,'Parameters':p},ignore_index=True)\n",
      "00:15:08 - cmdstanpy - INFO - Chain [1] start processing\n",
      "00:15:12 - cmdstanpy - INFO - Chain [1] done processing\n"
     ]
    },
    {
     "name": "stdout",
     "output_type": "stream",
     "text": [
      "Root Mean Square Error(RMSE)------------------------------------ 11.496612981326429\n",
      "total:  23.0\n",
      "{'changepoint_prior_scale': 0.035, 'changepoint_range': 0.9, 'holidays_prior_scale': 10, 'n_changepoints': 75, 'seasonality_mode': 'additive'}\n"
     ]
    },
    {
     "name": "stderr",
     "output_type": "stream",
     "text": [
      "C:\\Users\\alex\\AppData\\Local\\Temp\\ipykernel_7812\\1428016007.py:27: FutureWarning: The frame.append method is deprecated and will be removed from pandas in a future version. Use pandas.concat instead.\n",
      "  model_parameters = model_parameters.append({'RMSE':RMSE,'Parameters':p},ignore_index=True)\n",
      "00:15:13 - cmdstanpy - INFO - Chain [1] start processing\n",
      "00:15:17 - cmdstanpy - INFO - Chain [1] done processing\n"
     ]
    },
    {
     "name": "stdout",
     "output_type": "stream",
     "text": [
      "Root Mean Square Error(RMSE)------------------------------------ 10.535086693129692\n",
      "total:  24.0\n",
      "{'changepoint_prior_scale': 0.035, 'changepoint_range': 0.9, 'holidays_prior_scale': 10, 'n_changepoints': 90, 'seasonality_mode': 'additive'}\n"
     ]
    },
    {
     "name": "stderr",
     "output_type": "stream",
     "text": [
      "C:\\Users\\alex\\AppData\\Local\\Temp\\ipykernel_7812\\1428016007.py:27: FutureWarning: The frame.append method is deprecated and will be removed from pandas in a future version. Use pandas.concat instead.\n",
      "  model_parameters = model_parameters.append({'RMSE':RMSE,'Parameters':p},ignore_index=True)\n",
      "00:15:20 - cmdstanpy - INFO - Chain [1] start processing\n",
      "00:15:23 - cmdstanpy - INFO - Chain [1] done processing\n"
     ]
    },
    {
     "name": "stdout",
     "output_type": "stream",
     "text": [
      "Root Mean Square Error(RMSE)------------------------------------ 10.70683327580475\n",
      "total:  25.0\n",
      "{'changepoint_prior_scale': 0.035, 'changepoint_range': 0.9, 'holidays_prior_scale': 10, 'n_changepoints': 100, 'seasonality_mode': 'additive'}\n"
     ]
    },
    {
     "name": "stderr",
     "output_type": "stream",
     "text": [
      "C:\\Users\\alex\\AppData\\Local\\Temp\\ipykernel_7812\\1428016007.py:27: FutureWarning: The frame.append method is deprecated and will be removed from pandas in a future version. Use pandas.concat instead.\n",
      "  model_parameters = model_parameters.append({'RMSE':RMSE,'Parameters':p},ignore_index=True)\n",
      "00:15:25 - cmdstanpy - INFO - Chain [1] start processing\n",
      "00:15:29 - cmdstanpy - INFO - Chain [1] done processing\n"
     ]
    },
    {
     "name": "stdout",
     "output_type": "stream",
     "text": [
      "Root Mean Square Error(RMSE)------------------------------------ 10.913798225344284\n",
      "total:  26.0\n",
      "{'changepoint_prior_scale': 0.035, 'changepoint_range': 0.9, 'holidays_prior_scale': 15, 'n_changepoints': 50, 'seasonality_mode': 'additive'}\n"
     ]
    },
    {
     "name": "stderr",
     "output_type": "stream",
     "text": [
      "C:\\Users\\alex\\AppData\\Local\\Temp\\ipykernel_7812\\1428016007.py:27: FutureWarning: The frame.append method is deprecated and will be removed from pandas in a future version. Use pandas.concat instead.\n",
      "  model_parameters = model_parameters.append({'RMSE':RMSE,'Parameters':p},ignore_index=True)\n",
      "00:15:30 - cmdstanpy - INFO - Chain [1] start processing\n",
      "00:15:34 - cmdstanpy - INFO - Chain [1] done processing\n"
     ]
    },
    {
     "name": "stdout",
     "output_type": "stream",
     "text": [
      "Root Mean Square Error(RMSE)------------------------------------ 11.621730526987854\n",
      "total:  27.0\n",
      "{'changepoint_prior_scale': 0.035, 'changepoint_range': 0.9, 'holidays_prior_scale': 15, 'n_changepoints': 75, 'seasonality_mode': 'additive'}\n"
     ]
    },
    {
     "name": "stderr",
     "output_type": "stream",
     "text": [
      "C:\\Users\\alex\\AppData\\Local\\Temp\\ipykernel_7812\\1428016007.py:27: FutureWarning: The frame.append method is deprecated and will be removed from pandas in a future version. Use pandas.concat instead.\n",
      "  model_parameters = model_parameters.append({'RMSE':RMSE,'Parameters':p},ignore_index=True)\n",
      "00:15:35 - cmdstanpy - INFO - Chain [1] start processing\n",
      "00:15:38 - cmdstanpy - INFO - Chain [1] done processing\n"
     ]
    },
    {
     "name": "stdout",
     "output_type": "stream",
     "text": [
      "Root Mean Square Error(RMSE)------------------------------------ 11.625175883590762\n",
      "total:  28.000000000000004\n",
      "{'changepoint_prior_scale': 0.035, 'changepoint_range': 0.9, 'holidays_prior_scale': 15, 'n_changepoints': 90, 'seasonality_mode': 'additive'}\n"
     ]
    },
    {
     "name": "stderr",
     "output_type": "stream",
     "text": [
      "C:\\Users\\alex\\AppData\\Local\\Temp\\ipykernel_7812\\1428016007.py:27: FutureWarning: The frame.append method is deprecated and will be removed from pandas in a future version. Use pandas.concat instead.\n",
      "  model_parameters = model_parameters.append({'RMSE':RMSE,'Parameters':p},ignore_index=True)\n",
      "00:15:39 - cmdstanpy - INFO - Chain [1] start processing\n",
      "00:15:44 - cmdstanpy - INFO - Chain [1] done processing\n"
     ]
    },
    {
     "name": "stdout",
     "output_type": "stream",
     "text": [
      "Root Mean Square Error(RMSE)------------------------------------ 11.152052995297089\n",
      "total:  28.999999999999996\n",
      "{'changepoint_prior_scale': 0.035, 'changepoint_range': 0.9, 'holidays_prior_scale': 15, 'n_changepoints': 100, 'seasonality_mode': 'additive'}\n"
     ]
    },
    {
     "name": "stderr",
     "output_type": "stream",
     "text": [
      "C:\\Users\\alex\\AppData\\Local\\Temp\\ipykernel_7812\\1428016007.py:27: FutureWarning: The frame.append method is deprecated and will be removed from pandas in a future version. Use pandas.concat instead.\n",
      "  model_parameters = model_parameters.append({'RMSE':RMSE,'Parameters':p},ignore_index=True)\n",
      "00:15:45 - cmdstanpy - INFO - Chain [1] start processing\n",
      "00:15:50 - cmdstanpy - INFO - Chain [1] done processing\n"
     ]
    },
    {
     "name": "stdout",
     "output_type": "stream",
     "text": [
      "Root Mean Square Error(RMSE)------------------------------------ 10.932137518733365\n",
      "total:  30.0\n",
      "{'changepoint_prior_scale': 0.035, 'changepoint_range': 0.9, 'holidays_prior_scale': 20, 'n_changepoints': 50, 'seasonality_mode': 'additive'}\n"
     ]
    },
    {
     "name": "stderr",
     "output_type": "stream",
     "text": [
      "C:\\Users\\alex\\AppData\\Local\\Temp\\ipykernel_7812\\1428016007.py:27: FutureWarning: The frame.append method is deprecated and will be removed from pandas in a future version. Use pandas.concat instead.\n",
      "  model_parameters = model_parameters.append({'RMSE':RMSE,'Parameters':p},ignore_index=True)\n",
      "00:15:51 - cmdstanpy - INFO - Chain [1] start processing\n",
      "00:15:54 - cmdstanpy - INFO - Chain [1] done processing\n"
     ]
    },
    {
     "name": "stdout",
     "output_type": "stream",
     "text": [
      "Root Mean Square Error(RMSE)------------------------------------ 11.642200087097367\n",
      "total:  31.0\n",
      "{'changepoint_prior_scale': 0.035, 'changepoint_range': 0.9, 'holidays_prior_scale': 20, 'n_changepoints': 75, 'seasonality_mode': 'additive'}\n"
     ]
    },
    {
     "name": "stderr",
     "output_type": "stream",
     "text": [
      "C:\\Users\\alex\\AppData\\Local\\Temp\\ipykernel_7812\\1428016007.py:27: FutureWarning: The frame.append method is deprecated and will be removed from pandas in a future version. Use pandas.concat instead.\n",
      "  model_parameters = model_parameters.append({'RMSE':RMSE,'Parameters':p},ignore_index=True)\n",
      "00:15:55 - cmdstanpy - INFO - Chain [1] start processing\n",
      "00:15:59 - cmdstanpy - INFO - Chain [1] done processing\n"
     ]
    },
    {
     "name": "stdout",
     "output_type": "stream",
     "text": [
      "Root Mean Square Error(RMSE)------------------------------------ 11.04583589462563\n",
      "total:  31.0\n",
      "{'changepoint_prior_scale': 0.035, 'changepoint_range': 0.9, 'holidays_prior_scale': 20, 'n_changepoints': 90, 'seasonality_mode': 'additive'}\n"
     ]
    },
    {
     "name": "stderr",
     "output_type": "stream",
     "text": [
      "C:\\Users\\alex\\AppData\\Local\\Temp\\ipykernel_7812\\1428016007.py:27: FutureWarning: The frame.append method is deprecated and will be removed from pandas in a future version. Use pandas.concat instead.\n",
      "  model_parameters = model_parameters.append({'RMSE':RMSE,'Parameters':p},ignore_index=True)\n",
      "00:16:00 - cmdstanpy - INFO - Chain [1] start processing\n",
      "00:16:03 - cmdstanpy - INFO - Chain [1] done processing\n"
     ]
    },
    {
     "name": "stdout",
     "output_type": "stream",
     "text": [
      "Root Mean Square Error(RMSE)------------------------------------ 10.819099806354613\n",
      "total:  32.0\n",
      "{'changepoint_prior_scale': 0.035, 'changepoint_range': 0.9, 'holidays_prior_scale': 20, 'n_changepoints': 100, 'seasonality_mode': 'additive'}\n"
     ]
    },
    {
     "name": "stderr",
     "output_type": "stream",
     "text": [
      "C:\\Users\\alex\\AppData\\Local\\Temp\\ipykernel_7812\\1428016007.py:27: FutureWarning: The frame.append method is deprecated and will be removed from pandas in a future version. Use pandas.concat instead.\n",
      "  model_parameters = model_parameters.append({'RMSE':RMSE,'Parameters':p},ignore_index=True)\n",
      "00:16:04 - cmdstanpy - INFO - Chain [1] start processing\n",
      "00:16:11 - cmdstanpy - INFO - Chain [1] done processing\n"
     ]
    },
    {
     "name": "stdout",
     "output_type": "stream",
     "text": [
      "Root Mean Square Error(RMSE)------------------------------------ 10.743344311708949\n",
      "total:  33.0\n",
      "{'changepoint_prior_scale': 0.04, 'changepoint_range': 0.8, 'holidays_prior_scale': 10, 'n_changepoints': 50, 'seasonality_mode': 'additive'}\n"
     ]
    },
    {
     "name": "stderr",
     "output_type": "stream",
     "text": [
      "C:\\Users\\alex\\AppData\\Local\\Temp\\ipykernel_7812\\1428016007.py:27: FutureWarning: The frame.append method is deprecated and will be removed from pandas in a future version. Use pandas.concat instead.\n",
      "  model_parameters = model_parameters.append({'RMSE':RMSE,'Parameters':p},ignore_index=True)\n",
      "00:16:12 - cmdstanpy - INFO - Chain [1] start processing\n",
      "00:16:15 - cmdstanpy - INFO - Chain [1] done processing\n"
     ]
    },
    {
     "name": "stdout",
     "output_type": "stream",
     "text": [
      "Root Mean Square Error(RMSE)------------------------------------ 12.824485539285796\n",
      "total:  34.0\n",
      "{'changepoint_prior_scale': 0.04, 'changepoint_range': 0.8, 'holidays_prior_scale': 10, 'n_changepoints': 75, 'seasonality_mode': 'additive'}\n"
     ]
    },
    {
     "name": "stderr",
     "output_type": "stream",
     "text": [
      "C:\\Users\\alex\\AppData\\Local\\Temp\\ipykernel_7812\\1428016007.py:27: FutureWarning: The frame.append method is deprecated and will be removed from pandas in a future version. Use pandas.concat instead.\n",
      "  model_parameters = model_parameters.append({'RMSE':RMSE,'Parameters':p},ignore_index=True)\n",
      "00:16:16 - cmdstanpy - INFO - Chain [1] start processing\n",
      "00:16:19 - cmdstanpy - INFO - Chain [1] done processing\n"
     ]
    },
    {
     "name": "stdout",
     "output_type": "stream",
     "text": [
      "Root Mean Square Error(RMSE)------------------------------------ 12.851251744331849\n",
      "total:  35.0\n",
      "{'changepoint_prior_scale': 0.04, 'changepoint_range': 0.8, 'holidays_prior_scale': 10, 'n_changepoints': 90, 'seasonality_mode': 'additive'}\n"
     ]
    },
    {
     "name": "stderr",
     "output_type": "stream",
     "text": [
      "C:\\Users\\alex\\AppData\\Local\\Temp\\ipykernel_7812\\1428016007.py:27: FutureWarning: The frame.append method is deprecated and will be removed from pandas in a future version. Use pandas.concat instead.\n",
      "  model_parameters = model_parameters.append({'RMSE':RMSE,'Parameters':p},ignore_index=True)\n",
      "00:16:20 - cmdstanpy - INFO - Chain [1] start processing\n",
      "00:16:23 - cmdstanpy - INFO - Chain [1] done processing\n"
     ]
    },
    {
     "name": "stdout",
     "output_type": "stream",
     "text": [
      "Root Mean Square Error(RMSE)------------------------------------ 12.892541852598894\n",
      "total:  36.0\n",
      "{'changepoint_prior_scale': 0.04, 'changepoint_range': 0.8, 'holidays_prior_scale': 10, 'n_changepoints': 100, 'seasonality_mode': 'additive'}\n"
     ]
    },
    {
     "name": "stderr",
     "output_type": "stream",
     "text": [
      "C:\\Users\\alex\\AppData\\Local\\Temp\\ipykernel_7812\\1428016007.py:27: FutureWarning: The frame.append method is deprecated and will be removed from pandas in a future version. Use pandas.concat instead.\n",
      "  model_parameters = model_parameters.append({'RMSE':RMSE,'Parameters':p},ignore_index=True)\n",
      "00:16:24 - cmdstanpy - INFO - Chain [1] start processing\n",
      "00:16:30 - cmdstanpy - INFO - Chain [1] done processing\n"
     ]
    },
    {
     "name": "stdout",
     "output_type": "stream",
     "text": [
      "Root Mean Square Error(RMSE)------------------------------------ 12.869795903104993\n",
      "total:  37.0\n",
      "{'changepoint_prior_scale': 0.04, 'changepoint_range': 0.8, 'holidays_prior_scale': 15, 'n_changepoints': 50, 'seasonality_mode': 'additive'}\n"
     ]
    },
    {
     "name": "stderr",
     "output_type": "stream",
     "text": [
      "C:\\Users\\alex\\AppData\\Local\\Temp\\ipykernel_7812\\1428016007.py:27: FutureWarning: The frame.append method is deprecated and will be removed from pandas in a future version. Use pandas.concat instead.\n",
      "  model_parameters = model_parameters.append({'RMSE':RMSE,'Parameters':p},ignore_index=True)\n",
      "00:16:32 - cmdstanpy - INFO - Chain [1] start processing\n",
      "00:16:34 - cmdstanpy - INFO - Chain [1] done processing\n"
     ]
    },
    {
     "name": "stdout",
     "output_type": "stream",
     "text": [
      "Root Mean Square Error(RMSE)------------------------------------ 12.856196033949054\n",
      "total:  38.0\n",
      "{'changepoint_prior_scale': 0.04, 'changepoint_range': 0.8, 'holidays_prior_scale': 15, 'n_changepoints': 75, 'seasonality_mode': 'additive'}\n"
     ]
    },
    {
     "name": "stderr",
     "output_type": "stream",
     "text": [
      "C:\\Users\\alex\\AppData\\Local\\Temp\\ipykernel_7812\\1428016007.py:27: FutureWarning: The frame.append method is deprecated and will be removed from pandas in a future version. Use pandas.concat instead.\n",
      "  model_parameters = model_parameters.append({'RMSE':RMSE,'Parameters':p},ignore_index=True)\n",
      "00:16:35 - cmdstanpy - INFO - Chain [1] start processing\n",
      "00:16:37 - cmdstanpy - INFO - Chain [1] done processing\n"
     ]
    },
    {
     "name": "stdout",
     "output_type": "stream",
     "text": [
      "Root Mean Square Error(RMSE)------------------------------------ 12.868255027342798\n",
      "total:  39.0\n",
      "{'changepoint_prior_scale': 0.04, 'changepoint_range': 0.8, 'holidays_prior_scale': 15, 'n_changepoints': 90, 'seasonality_mode': 'additive'}\n"
     ]
    },
    {
     "name": "stderr",
     "output_type": "stream",
     "text": [
      "C:\\Users\\alex\\AppData\\Local\\Temp\\ipykernel_7812\\1428016007.py:27: FutureWarning: The frame.append method is deprecated and will be removed from pandas in a future version. Use pandas.concat instead.\n",
      "  model_parameters = model_parameters.append({'RMSE':RMSE,'Parameters':p},ignore_index=True)\n",
      "00:16:39 - cmdstanpy - INFO - Chain [1] start processing\n",
      "00:16:40 - cmdstanpy - INFO - Chain [1] done processing\n"
     ]
    },
    {
     "name": "stdout",
     "output_type": "stream",
     "text": [
      "Root Mean Square Error(RMSE)------------------------------------ 12.982990315718427\n",
      "total:  40.0\n",
      "{'changepoint_prior_scale': 0.04, 'changepoint_range': 0.8, 'holidays_prior_scale': 15, 'n_changepoints': 100, 'seasonality_mode': 'additive'}\n"
     ]
    },
    {
     "name": "stderr",
     "output_type": "stream",
     "text": [
      "C:\\Users\\alex\\AppData\\Local\\Temp\\ipykernel_7812\\1428016007.py:27: FutureWarning: The frame.append method is deprecated and will be removed from pandas in a future version. Use pandas.concat instead.\n",
      "  model_parameters = model_parameters.append({'RMSE':RMSE,'Parameters':p},ignore_index=True)\n",
      "00:16:41 - cmdstanpy - INFO - Chain [1] start processing\n",
      "00:16:43 - cmdstanpy - INFO - Chain [1] done processing\n"
     ]
    },
    {
     "name": "stdout",
     "output_type": "stream",
     "text": [
      "Root Mean Square Error(RMSE)------------------------------------ 12.995357141367164\n",
      "total:  41.0\n",
      "{'changepoint_prior_scale': 0.04, 'changepoint_range': 0.8, 'holidays_prior_scale': 20, 'n_changepoints': 50, 'seasonality_mode': 'additive'}\n"
     ]
    },
    {
     "name": "stderr",
     "output_type": "stream",
     "text": [
      "C:\\Users\\alex\\AppData\\Local\\Temp\\ipykernel_7812\\1428016007.py:27: FutureWarning: The frame.append method is deprecated and will be removed from pandas in a future version. Use pandas.concat instead.\n",
      "  model_parameters = model_parameters.append({'RMSE':RMSE,'Parameters':p},ignore_index=True)\n",
      "00:16:44 - cmdstanpy - INFO - Chain [1] start processing\n",
      "00:16:46 - cmdstanpy - INFO - Chain [1] done processing\n"
     ]
    },
    {
     "name": "stdout",
     "output_type": "stream",
     "text": [
      "Root Mean Square Error(RMSE)------------------------------------ 12.83807034545682\n",
      "total:  42.0\n",
      "{'changepoint_prior_scale': 0.04, 'changepoint_range': 0.8, 'holidays_prior_scale': 20, 'n_changepoints': 75, 'seasonality_mode': 'additive'}\n"
     ]
    },
    {
     "name": "stderr",
     "output_type": "stream",
     "text": [
      "C:\\Users\\alex\\AppData\\Local\\Temp\\ipykernel_7812\\1428016007.py:27: FutureWarning: The frame.append method is deprecated and will be removed from pandas in a future version. Use pandas.concat instead.\n",
      "  model_parameters = model_parameters.append({'RMSE':RMSE,'Parameters':p},ignore_index=True)\n",
      "00:16:47 - cmdstanpy - INFO - Chain [1] start processing\n",
      "00:16:50 - cmdstanpy - INFO - Chain [1] done processing\n"
     ]
    },
    {
     "name": "stdout",
     "output_type": "stream",
     "text": [
      "Root Mean Square Error(RMSE)------------------------------------ 12.695354603201002\n",
      "total:  43.0\n",
      "{'changepoint_prior_scale': 0.04, 'changepoint_range': 0.8, 'holidays_prior_scale': 20, 'n_changepoints': 90, 'seasonality_mode': 'additive'}\n"
     ]
    },
    {
     "name": "stderr",
     "output_type": "stream",
     "text": [
      "C:\\Users\\alex\\AppData\\Local\\Temp\\ipykernel_7812\\1428016007.py:27: FutureWarning: The frame.append method is deprecated and will be removed from pandas in a future version. Use pandas.concat instead.\n",
      "  model_parameters = model_parameters.append({'RMSE':RMSE,'Parameters':p},ignore_index=True)\n",
      "00:16:51 - cmdstanpy - INFO - Chain [1] start processing\n",
      "00:16:53 - cmdstanpy - INFO - Chain [1] done processing\n"
     ]
    },
    {
     "name": "stdout",
     "output_type": "stream",
     "text": [
      "Root Mean Square Error(RMSE)------------------------------------ 12.865017223805577\n",
      "total:  44.0\n",
      "{'changepoint_prior_scale': 0.04, 'changepoint_range': 0.8, 'holidays_prior_scale': 20, 'n_changepoints': 100, 'seasonality_mode': 'additive'}\n"
     ]
    },
    {
     "name": "stderr",
     "output_type": "stream",
     "text": [
      "C:\\Users\\alex\\AppData\\Local\\Temp\\ipykernel_7812\\1428016007.py:27: FutureWarning: The frame.append method is deprecated and will be removed from pandas in a future version. Use pandas.concat instead.\n",
      "  model_parameters = model_parameters.append({'RMSE':RMSE,'Parameters':p},ignore_index=True)\n",
      "00:16:54 - cmdstanpy - INFO - Chain [1] start processing\n",
      "00:16:57 - cmdstanpy - INFO - Chain [1] done processing\n"
     ]
    },
    {
     "name": "stdout",
     "output_type": "stream",
     "text": [
      "Root Mean Square Error(RMSE)------------------------------------ 12.896111108318198\n",
      "total:  44.0\n",
      "{'changepoint_prior_scale': 0.04, 'changepoint_range': 0.85, 'holidays_prior_scale': 10, 'n_changepoints': 50, 'seasonality_mode': 'additive'}\n"
     ]
    },
    {
     "name": "stderr",
     "output_type": "stream",
     "text": [
      "C:\\Users\\alex\\AppData\\Local\\Temp\\ipykernel_7812\\1428016007.py:27: FutureWarning: The frame.append method is deprecated and will be removed from pandas in a future version. Use pandas.concat instead.\n",
      "  model_parameters = model_parameters.append({'RMSE':RMSE,'Parameters':p},ignore_index=True)\n",
      "00:16:58 - cmdstanpy - INFO - Chain [1] start processing\n",
      "00:17:01 - cmdstanpy - INFO - Chain [1] done processing\n"
     ]
    },
    {
     "name": "stdout",
     "output_type": "stream",
     "text": [
      "Root Mean Square Error(RMSE)------------------------------------ 9.478555989672872\n",
      "total:  45.0\n",
      "{'changepoint_prior_scale': 0.04, 'changepoint_range': 0.85, 'holidays_prior_scale': 10, 'n_changepoints': 75, 'seasonality_mode': 'additive'}\n"
     ]
    },
    {
     "name": "stderr",
     "output_type": "stream",
     "text": [
      "C:\\Users\\alex\\AppData\\Local\\Temp\\ipykernel_7812\\1428016007.py:27: FutureWarning: The frame.append method is deprecated and will be removed from pandas in a future version. Use pandas.concat instead.\n",
      "  model_parameters = model_parameters.append({'RMSE':RMSE,'Parameters':p},ignore_index=True)\n",
      "00:17:02 - cmdstanpy - INFO - Chain [1] start processing\n",
      "00:17:06 - cmdstanpy - INFO - Chain [1] done processing\n"
     ]
    },
    {
     "name": "stdout",
     "output_type": "stream",
     "text": [
      "Root Mean Square Error(RMSE)------------------------------------ 9.45731672717232\n",
      "total:  46.0\n",
      "{'changepoint_prior_scale': 0.04, 'changepoint_range': 0.85, 'holidays_prior_scale': 10, 'n_changepoints': 90, 'seasonality_mode': 'additive'}\n"
     ]
    },
    {
     "name": "stderr",
     "output_type": "stream",
     "text": [
      "C:\\Users\\alex\\AppData\\Local\\Temp\\ipykernel_7812\\1428016007.py:27: FutureWarning: The frame.append method is deprecated and will be removed from pandas in a future version. Use pandas.concat instead.\n",
      "  model_parameters = model_parameters.append({'RMSE':RMSE,'Parameters':p},ignore_index=True)\n",
      "00:17:08 - cmdstanpy - INFO - Chain [1] start processing\n",
      "00:17:14 - cmdstanpy - INFO - Chain [1] done processing\n"
     ]
    },
    {
     "name": "stdout",
     "output_type": "stream",
     "text": [
      "Root Mean Square Error(RMSE)------------------------------------ 9.423830216596683\n",
      "total:  47.0\n",
      "{'changepoint_prior_scale': 0.04, 'changepoint_range': 0.85, 'holidays_prior_scale': 10, 'n_changepoints': 100, 'seasonality_mode': 'additive'}\n"
     ]
    },
    {
     "name": "stderr",
     "output_type": "stream",
     "text": [
      "C:\\Users\\alex\\AppData\\Local\\Temp\\ipykernel_7812\\1428016007.py:27: FutureWarning: The frame.append method is deprecated and will be removed from pandas in a future version. Use pandas.concat instead.\n",
      "  model_parameters = model_parameters.append({'RMSE':RMSE,'Parameters':p},ignore_index=True)\n",
      "00:17:15 - cmdstanpy - INFO - Chain [1] start processing\n",
      "00:17:20 - cmdstanpy - INFO - Chain [1] done processing\n"
     ]
    },
    {
     "name": "stdout",
     "output_type": "stream",
     "text": [
      "Root Mean Square Error(RMSE)------------------------------------ 9.426421643511208\n",
      "total:  48.0\n",
      "{'changepoint_prior_scale': 0.04, 'changepoint_range': 0.85, 'holidays_prior_scale': 15, 'n_changepoints': 50, 'seasonality_mode': 'additive'}\n"
     ]
    },
    {
     "name": "stderr",
     "output_type": "stream",
     "text": [
      "C:\\Users\\alex\\AppData\\Local\\Temp\\ipykernel_7812\\1428016007.py:27: FutureWarning: The frame.append method is deprecated and will be removed from pandas in a future version. Use pandas.concat instead.\n",
      "  model_parameters = model_parameters.append({'RMSE':RMSE,'Parameters':p},ignore_index=True)\n",
      "00:17:21 - cmdstanpy - INFO - Chain [1] start processing\n",
      "00:17:24 - cmdstanpy - INFO - Chain [1] done processing\n"
     ]
    },
    {
     "name": "stdout",
     "output_type": "stream",
     "text": [
      "Root Mean Square Error(RMSE)------------------------------------ 9.439111732524234\n",
      "total:  49.0\n",
      "{'changepoint_prior_scale': 0.04, 'changepoint_range': 0.85, 'holidays_prior_scale': 15, 'n_changepoints': 75, 'seasonality_mode': 'additive'}\n"
     ]
    },
    {
     "name": "stderr",
     "output_type": "stream",
     "text": [
      "C:\\Users\\alex\\AppData\\Local\\Temp\\ipykernel_7812\\1428016007.py:27: FutureWarning: The frame.append method is deprecated and will be removed from pandas in a future version. Use pandas.concat instead.\n",
      "  model_parameters = model_parameters.append({'RMSE':RMSE,'Parameters':p},ignore_index=True)\n",
      "00:17:25 - cmdstanpy - INFO - Chain [1] start processing\n",
      "00:17:31 - cmdstanpy - INFO - Chain [1] done processing\n"
     ]
    },
    {
     "name": "stdout",
     "output_type": "stream",
     "text": [
      "Root Mean Square Error(RMSE)------------------------------------ 9.44133399145469\n",
      "total:  50.0\n",
      "{'changepoint_prior_scale': 0.04, 'changepoint_range': 0.85, 'holidays_prior_scale': 15, 'n_changepoints': 90, 'seasonality_mode': 'additive'}\n"
     ]
    },
    {
     "name": "stderr",
     "output_type": "stream",
     "text": [
      "C:\\Users\\alex\\AppData\\Local\\Temp\\ipykernel_7812\\1428016007.py:27: FutureWarning: The frame.append method is deprecated and will be removed from pandas in a future version. Use pandas.concat instead.\n",
      "  model_parameters = model_parameters.append({'RMSE':RMSE,'Parameters':p},ignore_index=True)\n",
      "00:17:33 - cmdstanpy - INFO - Chain [1] start processing\n",
      "00:17:37 - cmdstanpy - INFO - Chain [1] done processing\n"
     ]
    },
    {
     "name": "stdout",
     "output_type": "stream",
     "text": [
      "Root Mean Square Error(RMSE)------------------------------------ 9.437932927011934\n",
      "total:  51.0\n",
      "{'changepoint_prior_scale': 0.04, 'changepoint_range': 0.85, 'holidays_prior_scale': 15, 'n_changepoints': 100, 'seasonality_mode': 'additive'}\n"
     ]
    },
    {
     "name": "stderr",
     "output_type": "stream",
     "text": [
      "C:\\Users\\alex\\AppData\\Local\\Temp\\ipykernel_7812\\1428016007.py:27: FutureWarning: The frame.append method is deprecated and will be removed from pandas in a future version. Use pandas.concat instead.\n",
      "  model_parameters = model_parameters.append({'RMSE':RMSE,'Parameters':p},ignore_index=True)\n",
      "00:17:39 - cmdstanpy - INFO - Chain [1] start processing\n",
      "00:17:46 - cmdstanpy - INFO - Chain [1] done processing\n"
     ]
    },
    {
     "name": "stdout",
     "output_type": "stream",
     "text": [
      "Root Mean Square Error(RMSE)------------------------------------ 9.438168220414287\n",
      "total:  52.0\n",
      "{'changepoint_prior_scale': 0.04, 'changepoint_range': 0.85, 'holidays_prior_scale': 20, 'n_changepoints': 50, 'seasonality_mode': 'additive'}\n"
     ]
    },
    {
     "name": "stderr",
     "output_type": "stream",
     "text": [
      "C:\\Users\\alex\\AppData\\Local\\Temp\\ipykernel_7812\\1428016007.py:27: FutureWarning: The frame.append method is deprecated and will be removed from pandas in a future version. Use pandas.concat instead.\n",
      "  model_parameters = model_parameters.append({'RMSE':RMSE,'Parameters':p},ignore_index=True)\n",
      "00:17:48 - cmdstanpy - INFO - Chain [1] start processing\n",
      "00:17:51 - cmdstanpy - INFO - Chain [1] done processing\n"
     ]
    },
    {
     "name": "stdout",
     "output_type": "stream",
     "text": [
      "Root Mean Square Error(RMSE)------------------------------------ 9.47092995818736\n",
      "total:  53.0\n",
      "{'changepoint_prior_scale': 0.04, 'changepoint_range': 0.85, 'holidays_prior_scale': 20, 'n_changepoints': 75, 'seasonality_mode': 'additive'}\n"
     ]
    },
    {
     "name": "stderr",
     "output_type": "stream",
     "text": [
      "C:\\Users\\alex\\AppData\\Local\\Temp\\ipykernel_7812\\1428016007.py:27: FutureWarning: The frame.append method is deprecated and will be removed from pandas in a future version. Use pandas.concat instead.\n",
      "  model_parameters = model_parameters.append({'RMSE':RMSE,'Parameters':p},ignore_index=True)\n",
      "00:17:52 - cmdstanpy - INFO - Chain [1] start processing\n",
      "00:17:55 - cmdstanpy - INFO - Chain [1] done processing\n"
     ]
    },
    {
     "name": "stdout",
     "output_type": "stream",
     "text": [
      "Root Mean Square Error(RMSE)------------------------------------ 9.461632029458485\n",
      "total:  54.0\n",
      "{'changepoint_prior_scale': 0.04, 'changepoint_range': 0.85, 'holidays_prior_scale': 20, 'n_changepoints': 90, 'seasonality_mode': 'additive'}\n"
     ]
    },
    {
     "name": "stderr",
     "output_type": "stream",
     "text": [
      "C:\\Users\\alex\\AppData\\Local\\Temp\\ipykernel_7812\\1428016007.py:27: FutureWarning: The frame.append method is deprecated and will be removed from pandas in a future version. Use pandas.concat instead.\n",
      "  model_parameters = model_parameters.append({'RMSE':RMSE,'Parameters':p},ignore_index=True)\n",
      "00:17:56 - cmdstanpy - INFO - Chain [1] start processing\n",
      "00:18:00 - cmdstanpy - INFO - Chain [1] done processing\n"
     ]
    },
    {
     "name": "stdout",
     "output_type": "stream",
     "text": [
      "Root Mean Square Error(RMSE)------------------------------------ 9.42435742874232\n",
      "total:  55.00000000000001\n",
      "{'changepoint_prior_scale': 0.04, 'changepoint_range': 0.85, 'holidays_prior_scale': 20, 'n_changepoints': 100, 'seasonality_mode': 'additive'}\n"
     ]
    },
    {
     "name": "stderr",
     "output_type": "stream",
     "text": [
      "C:\\Users\\alex\\AppData\\Local\\Temp\\ipykernel_7812\\1428016007.py:27: FutureWarning: The frame.append method is deprecated and will be removed from pandas in a future version. Use pandas.concat instead.\n",
      "  model_parameters = model_parameters.append({'RMSE':RMSE,'Parameters':p},ignore_index=True)\n",
      "00:18:01 - cmdstanpy - INFO - Chain [1] start processing\n",
      "00:18:05 - cmdstanpy - INFO - Chain [1] done processing\n"
     ]
    },
    {
     "name": "stdout",
     "output_type": "stream",
     "text": [
      "Root Mean Square Error(RMSE)------------------------------------ 9.430394465931995\n",
      "total:  56.00000000000001\n",
      "{'changepoint_prior_scale': 0.04, 'changepoint_range': 0.9, 'holidays_prior_scale': 10, 'n_changepoints': 50, 'seasonality_mode': 'additive'}\n"
     ]
    },
    {
     "name": "stderr",
     "output_type": "stream",
     "text": [
      "C:\\Users\\alex\\AppData\\Local\\Temp\\ipykernel_7812\\1428016007.py:27: FutureWarning: The frame.append method is deprecated and will be removed from pandas in a future version. Use pandas.concat instead.\n",
      "  model_parameters = model_parameters.append({'RMSE':RMSE,'Parameters':p},ignore_index=True)\n",
      "00:18:06 - cmdstanpy - INFO - Chain [1] start processing\n",
      "00:18:09 - cmdstanpy - INFO - Chain [1] done processing\n"
     ]
    },
    {
     "name": "stdout",
     "output_type": "stream",
     "text": [
      "Root Mean Square Error(RMSE)------------------------------------ 12.700425614750735\n",
      "total:  56.00000000000001\n",
      "{'changepoint_prior_scale': 0.04, 'changepoint_range': 0.9, 'holidays_prior_scale': 10, 'n_changepoints': 75, 'seasonality_mode': 'additive'}\n"
     ]
    },
    {
     "name": "stderr",
     "output_type": "stream",
     "text": [
      "C:\\Users\\alex\\AppData\\Local\\Temp\\ipykernel_7812\\1428016007.py:27: FutureWarning: The frame.append method is deprecated and will be removed from pandas in a future version. Use pandas.concat instead.\n",
      "  model_parameters = model_parameters.append({'RMSE':RMSE,'Parameters':p},ignore_index=True)\n",
      "00:18:10 - cmdstanpy - INFO - Chain [1] start processing\n",
      "00:18:13 - cmdstanpy - INFO - Chain [1] done processing\n"
     ]
    },
    {
     "name": "stdout",
     "output_type": "stream",
     "text": [
      "Root Mean Square Error(RMSE)------------------------------------ 11.782336434098708\n",
      "total:  56.99999999999999\n",
      "{'changepoint_prior_scale': 0.04, 'changepoint_range': 0.9, 'holidays_prior_scale': 10, 'n_changepoints': 90, 'seasonality_mode': 'additive'}\n"
     ]
    },
    {
     "name": "stderr",
     "output_type": "stream",
     "text": [
      "C:\\Users\\alex\\AppData\\Local\\Temp\\ipykernel_7812\\1428016007.py:27: FutureWarning: The frame.append method is deprecated and will be removed from pandas in a future version. Use pandas.concat instead.\n",
      "  model_parameters = model_parameters.append({'RMSE':RMSE,'Parameters':p},ignore_index=True)\n",
      "00:18:14 - cmdstanpy - INFO - Chain [1] start processing\n",
      "00:18:18 - cmdstanpy - INFO - Chain [1] done processing\n"
     ]
    },
    {
     "name": "stdout",
     "output_type": "stream",
     "text": [
      "Root Mean Square Error(RMSE)------------------------------------ 12.349832350018522\n",
      "total:  57.99999999999999\n",
      "{'changepoint_prior_scale': 0.04, 'changepoint_range': 0.9, 'holidays_prior_scale': 10, 'n_changepoints': 100, 'seasonality_mode': 'additive'}\n"
     ]
    },
    {
     "name": "stderr",
     "output_type": "stream",
     "text": [
      "C:\\Users\\alex\\AppData\\Local\\Temp\\ipykernel_7812\\1428016007.py:27: FutureWarning: The frame.append method is deprecated and will be removed from pandas in a future version. Use pandas.concat instead.\n",
      "  model_parameters = model_parameters.append({'RMSE':RMSE,'Parameters':p},ignore_index=True)\n",
      "00:18:19 - cmdstanpy - INFO - Chain [1] start processing\n",
      "00:18:24 - cmdstanpy - INFO - Chain [1] done processing\n"
     ]
    },
    {
     "name": "stdout",
     "output_type": "stream",
     "text": [
      "Root Mean Square Error(RMSE)------------------------------------ 12.0140393606373\n",
      "total:  59.0\n",
      "{'changepoint_prior_scale': 0.04, 'changepoint_range': 0.9, 'holidays_prior_scale': 15, 'n_changepoints': 50, 'seasonality_mode': 'additive'}\n"
     ]
    },
    {
     "name": "stderr",
     "output_type": "stream",
     "text": [
      "C:\\Users\\alex\\AppData\\Local\\Temp\\ipykernel_7812\\1428016007.py:27: FutureWarning: The frame.append method is deprecated and will be removed from pandas in a future version. Use pandas.concat instead.\n",
      "  model_parameters = model_parameters.append({'RMSE':RMSE,'Parameters':p},ignore_index=True)\n",
      "00:18:25 - cmdstanpy - INFO - Chain [1] start processing\n",
      "00:18:26 - cmdstanpy - INFO - Chain [1] done processing\n"
     ]
    },
    {
     "name": "stdout",
     "output_type": "stream",
     "text": [
      "Root Mean Square Error(RMSE)------------------------------------ 11.918603071412551\n",
      "total:  60.0\n",
      "{'changepoint_prior_scale': 0.04, 'changepoint_range': 0.9, 'holidays_prior_scale': 15, 'n_changepoints': 75, 'seasonality_mode': 'additive'}\n"
     ]
    },
    {
     "name": "stderr",
     "output_type": "stream",
     "text": [
      "C:\\Users\\alex\\AppData\\Local\\Temp\\ipykernel_7812\\1428016007.py:27: FutureWarning: The frame.append method is deprecated and will be removed from pandas in a future version. Use pandas.concat instead.\n",
      "  model_parameters = model_parameters.append({'RMSE':RMSE,'Parameters':p},ignore_index=True)\n",
      "00:18:27 - cmdstanpy - INFO - Chain [1] start processing\n",
      "00:18:34 - cmdstanpy - INFO - Chain [1] done processing\n"
     ]
    },
    {
     "name": "stdout",
     "output_type": "stream",
     "text": [
      "Root Mean Square Error(RMSE)------------------------------------ 12.122868349504706\n",
      "total:  61.0\n",
      "{'changepoint_prior_scale': 0.04, 'changepoint_range': 0.9, 'holidays_prior_scale': 15, 'n_changepoints': 90, 'seasonality_mode': 'additive'}\n"
     ]
    },
    {
     "name": "stderr",
     "output_type": "stream",
     "text": [
      "C:\\Users\\alex\\AppData\\Local\\Temp\\ipykernel_7812\\1428016007.py:27: FutureWarning: The frame.append method is deprecated and will be removed from pandas in a future version. Use pandas.concat instead.\n",
      "  model_parameters = model_parameters.append({'RMSE':RMSE,'Parameters':p},ignore_index=True)\n",
      "00:18:36 - cmdstanpy - INFO - Chain [1] start processing\n",
      "00:18:41 - cmdstanpy - INFO - Chain [1] done processing\n"
     ]
    },
    {
     "name": "stdout",
     "output_type": "stream",
     "text": [
      "Root Mean Square Error(RMSE)------------------------------------ 12.537270516179476\n",
      "total:  62.0\n",
      "{'changepoint_prior_scale': 0.04, 'changepoint_range': 0.9, 'holidays_prior_scale': 15, 'n_changepoints': 100, 'seasonality_mode': 'additive'}\n"
     ]
    },
    {
     "name": "stderr",
     "output_type": "stream",
     "text": [
      "C:\\Users\\alex\\AppData\\Local\\Temp\\ipykernel_7812\\1428016007.py:27: FutureWarning: The frame.append method is deprecated and will be removed from pandas in a future version. Use pandas.concat instead.\n",
      "  model_parameters = model_parameters.append({'RMSE':RMSE,'Parameters':p},ignore_index=True)\n",
      "00:18:42 - cmdstanpy - INFO - Chain [1] start processing\n",
      "00:18:45 - cmdstanpy - INFO - Chain [1] done processing\n"
     ]
    },
    {
     "name": "stdout",
     "output_type": "stream",
     "text": [
      "Root Mean Square Error(RMSE)------------------------------------ 11.723833252913751\n",
      "total:  63.0\n",
      "{'changepoint_prior_scale': 0.04, 'changepoint_range': 0.9, 'holidays_prior_scale': 20, 'n_changepoints': 50, 'seasonality_mode': 'additive'}\n"
     ]
    },
    {
     "name": "stderr",
     "output_type": "stream",
     "text": [
      "C:\\Users\\alex\\AppData\\Local\\Temp\\ipykernel_7812\\1428016007.py:27: FutureWarning: The frame.append method is deprecated and will be removed from pandas in a future version. Use pandas.concat instead.\n",
      "  model_parameters = model_parameters.append({'RMSE':RMSE,'Parameters':p},ignore_index=True)\n",
      "00:18:46 - cmdstanpy - INFO - Chain [1] start processing\n",
      "00:18:49 - cmdstanpy - INFO - Chain [1] done processing\n"
     ]
    },
    {
     "name": "stdout",
     "output_type": "stream",
     "text": [
      "Root Mean Square Error(RMSE)------------------------------------ 12.638326971973076\n",
      "total:  64.0\n",
      "{'changepoint_prior_scale': 0.04, 'changepoint_range': 0.9, 'holidays_prior_scale': 20, 'n_changepoints': 75, 'seasonality_mode': 'additive'}\n"
     ]
    },
    {
     "name": "stderr",
     "output_type": "stream",
     "text": [
      "C:\\Users\\alex\\AppData\\Local\\Temp\\ipykernel_7812\\1428016007.py:27: FutureWarning: The frame.append method is deprecated and will be removed from pandas in a future version. Use pandas.concat instead.\n",
      "  model_parameters = model_parameters.append({'RMSE':RMSE,'Parameters':p},ignore_index=True)\n",
      "00:18:50 - cmdstanpy - INFO - Chain [1] start processing\n",
      "00:18:54 - cmdstanpy - INFO - Chain [1] done processing\n"
     ]
    },
    {
     "name": "stdout",
     "output_type": "stream",
     "text": [
      "Root Mean Square Error(RMSE)------------------------------------ 12.5918100372854\n",
      "total:  65.0\n",
      "{'changepoint_prior_scale': 0.04, 'changepoint_range': 0.9, 'holidays_prior_scale': 20, 'n_changepoints': 90, 'seasonality_mode': 'additive'}\n"
     ]
    },
    {
     "name": "stderr",
     "output_type": "stream",
     "text": [
      "C:\\Users\\alex\\AppData\\Local\\Temp\\ipykernel_7812\\1428016007.py:27: FutureWarning: The frame.append method is deprecated and will be removed from pandas in a future version. Use pandas.concat instead.\n",
      "  model_parameters = model_parameters.append({'RMSE':RMSE,'Parameters':p},ignore_index=True)\n",
      "00:18:55 - cmdstanpy - INFO - Chain [1] start processing\n",
      "00:18:59 - cmdstanpy - INFO - Chain [1] done processing\n"
     ]
    },
    {
     "name": "stdout",
     "output_type": "stream",
     "text": [
      "Root Mean Square Error(RMSE)------------------------------------ 12.204825273771485\n",
      "total:  66.0\n",
      "{'changepoint_prior_scale': 0.04, 'changepoint_range': 0.9, 'holidays_prior_scale': 20, 'n_changepoints': 100, 'seasonality_mode': 'additive'}\n"
     ]
    },
    {
     "name": "stderr",
     "output_type": "stream",
     "text": [
      "C:\\Users\\alex\\AppData\\Local\\Temp\\ipykernel_7812\\1428016007.py:27: FutureWarning: The frame.append method is deprecated and will be removed from pandas in a future version. Use pandas.concat instead.\n",
      "  model_parameters = model_parameters.append({'RMSE':RMSE,'Parameters':p},ignore_index=True)\n",
      "00:19:00 - cmdstanpy - INFO - Chain [1] start processing\n",
      "00:19:08 - cmdstanpy - INFO - Chain [1] done processing\n"
     ]
    },
    {
     "name": "stdout",
     "output_type": "stream",
     "text": [
      "Root Mean Square Error(RMSE)------------------------------------ 12.2879121071378\n",
      "total:  67.0\n",
      "{'changepoint_prior_scale': 0.05, 'changepoint_range': 0.8, 'holidays_prior_scale': 10, 'n_changepoints': 50, 'seasonality_mode': 'additive'}\n"
     ]
    },
    {
     "name": "stderr",
     "output_type": "stream",
     "text": [
      "C:\\Users\\alex\\AppData\\Local\\Temp\\ipykernel_7812\\1428016007.py:27: FutureWarning: The frame.append method is deprecated and will be removed from pandas in a future version. Use pandas.concat instead.\n",
      "  model_parameters = model_parameters.append({'RMSE':RMSE,'Parameters':p},ignore_index=True)\n",
      "00:19:10 - cmdstanpy - INFO - Chain [1] start processing\n",
      "00:19:12 - cmdstanpy - INFO - Chain [1] done processing\n"
     ]
    },
    {
     "name": "stdout",
     "output_type": "stream",
     "text": [
      "Root Mean Square Error(RMSE)------------------------------------ 12.473696327374423\n",
      "total:  68.0\n",
      "{'changepoint_prior_scale': 0.05, 'changepoint_range': 0.8, 'holidays_prior_scale': 10, 'n_changepoints': 75, 'seasonality_mode': 'additive'}\n"
     ]
    },
    {
     "name": "stderr",
     "output_type": "stream",
     "text": [
      "C:\\Users\\alex\\AppData\\Local\\Temp\\ipykernel_7812\\1428016007.py:27: FutureWarning: The frame.append method is deprecated and will be removed from pandas in a future version. Use pandas.concat instead.\n",
      "  model_parameters = model_parameters.append({'RMSE':RMSE,'Parameters':p},ignore_index=True)\n",
      "00:19:13 - cmdstanpy - INFO - Chain [1] start processing\n",
      "00:19:16 - cmdstanpy - INFO - Chain [1] done processing\n"
     ]
    },
    {
     "name": "stdout",
     "output_type": "stream",
     "text": [
      "Root Mean Square Error(RMSE)------------------------------------ 12.568400447587447\n",
      "total:  69.0\n",
      "{'changepoint_prior_scale': 0.05, 'changepoint_range': 0.8, 'holidays_prior_scale': 10, 'n_changepoints': 90, 'seasonality_mode': 'additive'}\n"
     ]
    },
    {
     "name": "stderr",
     "output_type": "stream",
     "text": [
      "C:\\Users\\alex\\AppData\\Local\\Temp\\ipykernel_7812\\1428016007.py:27: FutureWarning: The frame.append method is deprecated and will be removed from pandas in a future version. Use pandas.concat instead.\n",
      "  model_parameters = model_parameters.append({'RMSE':RMSE,'Parameters':p},ignore_index=True)\n",
      "00:19:17 - cmdstanpy - INFO - Chain [1] start processing\n",
      "00:19:21 - cmdstanpy - INFO - Chain [1] done processing\n"
     ]
    },
    {
     "name": "stdout",
     "output_type": "stream",
     "text": [
      "Root Mean Square Error(RMSE)------------------------------------ 12.447163281320119\n",
      "total:  69.0\n",
      "{'changepoint_prior_scale': 0.05, 'changepoint_range': 0.8, 'holidays_prior_scale': 10, 'n_changepoints': 100, 'seasonality_mode': 'additive'}\n"
     ]
    },
    {
     "name": "stderr",
     "output_type": "stream",
     "text": [
      "C:\\Users\\alex\\AppData\\Local\\Temp\\ipykernel_7812\\1428016007.py:27: FutureWarning: The frame.append method is deprecated and will be removed from pandas in a future version. Use pandas.concat instead.\n",
      "  model_parameters = model_parameters.append({'RMSE':RMSE,'Parameters':p},ignore_index=True)\n",
      "00:19:22 - cmdstanpy - INFO - Chain [1] start processing\n",
      "00:19:26 - cmdstanpy - INFO - Chain [1] done processing\n"
     ]
    },
    {
     "name": "stdout",
     "output_type": "stream",
     "text": [
      "Root Mean Square Error(RMSE)------------------------------------ 12.530548336430705\n",
      "total:  70.0\n",
      "{'changepoint_prior_scale': 0.05, 'changepoint_range': 0.8, 'holidays_prior_scale': 15, 'n_changepoints': 50, 'seasonality_mode': 'additive'}\n"
     ]
    },
    {
     "name": "stderr",
     "output_type": "stream",
     "text": [
      "C:\\Users\\alex\\AppData\\Local\\Temp\\ipykernel_7812\\1428016007.py:27: FutureWarning: The frame.append method is deprecated and will be removed from pandas in a future version. Use pandas.concat instead.\n",
      "  model_parameters = model_parameters.append({'RMSE':RMSE,'Parameters':p},ignore_index=True)\n",
      "00:19:27 - cmdstanpy - INFO - Chain [1] start processing\n",
      "00:19:29 - cmdstanpy - INFO - Chain [1] done processing\n"
     ]
    },
    {
     "name": "stdout",
     "output_type": "stream",
     "text": [
      "Root Mean Square Error(RMSE)------------------------------------ 12.393927536849136\n",
      "total:  71.0\n",
      "{'changepoint_prior_scale': 0.05, 'changepoint_range': 0.8, 'holidays_prior_scale': 15, 'n_changepoints': 75, 'seasonality_mode': 'additive'}\n"
     ]
    },
    {
     "name": "stderr",
     "output_type": "stream",
     "text": [
      "C:\\Users\\alex\\AppData\\Local\\Temp\\ipykernel_7812\\1428016007.py:27: FutureWarning: The frame.append method is deprecated and will be removed from pandas in a future version. Use pandas.concat instead.\n",
      "  model_parameters = model_parameters.append({'RMSE':RMSE,'Parameters':p},ignore_index=True)\n",
      "00:19:30 - cmdstanpy - INFO - Chain [1] start processing\n",
      "00:19:34 - cmdstanpy - INFO - Chain [1] done processing\n"
     ]
    },
    {
     "name": "stdout",
     "output_type": "stream",
     "text": [
      "Root Mean Square Error(RMSE)------------------------------------ 12.413342080051319\n",
      "total:  72.0\n",
      "{'changepoint_prior_scale': 0.05, 'changepoint_range': 0.8, 'holidays_prior_scale': 15, 'n_changepoints': 90, 'seasonality_mode': 'additive'}\n"
     ]
    },
    {
     "name": "stderr",
     "output_type": "stream",
     "text": [
      "C:\\Users\\alex\\AppData\\Local\\Temp\\ipykernel_7812\\1428016007.py:27: FutureWarning: The frame.append method is deprecated and will be removed from pandas in a future version. Use pandas.concat instead.\n",
      "  model_parameters = model_parameters.append({'RMSE':RMSE,'Parameters':p},ignore_index=True)\n",
      "00:19:36 - cmdstanpy - INFO - Chain [1] start processing\n",
      "00:19:43 - cmdstanpy - INFO - Chain [1] done processing\n"
     ]
    },
    {
     "name": "stdout",
     "output_type": "stream",
     "text": [
      "Root Mean Square Error(RMSE)------------------------------------ 12.650994840293821\n",
      "total:  73.0\n",
      "{'changepoint_prior_scale': 0.05, 'changepoint_range': 0.8, 'holidays_prior_scale': 15, 'n_changepoints': 100, 'seasonality_mode': 'additive'}\n"
     ]
    },
    {
     "name": "stderr",
     "output_type": "stream",
     "text": [
      "C:\\Users\\alex\\AppData\\Local\\Temp\\ipykernel_7812\\1428016007.py:27: FutureWarning: The frame.append method is deprecated and will be removed from pandas in a future version. Use pandas.concat instead.\n",
      "  model_parameters = model_parameters.append({'RMSE':RMSE,'Parameters':p},ignore_index=True)\n",
      "00:19:45 - cmdstanpy - INFO - Chain [1] start processing\n",
      "00:19:51 - cmdstanpy - INFO - Chain [1] done processing\n"
     ]
    },
    {
     "name": "stdout",
     "output_type": "stream",
     "text": [
      "Root Mean Square Error(RMSE)------------------------------------ 12.469134996491615\n",
      "total:  74.0\n",
      "{'changepoint_prior_scale': 0.05, 'changepoint_range': 0.8, 'holidays_prior_scale': 20, 'n_changepoints': 50, 'seasonality_mode': 'additive'}\n"
     ]
    },
    {
     "name": "stderr",
     "output_type": "stream",
     "text": [
      "C:\\Users\\alex\\AppData\\Local\\Temp\\ipykernel_7812\\1428016007.py:27: FutureWarning: The frame.append method is deprecated and will be removed from pandas in a future version. Use pandas.concat instead.\n",
      "  model_parameters = model_parameters.append({'RMSE':RMSE,'Parameters':p},ignore_index=True)\n",
      "00:19:52 - cmdstanpy - INFO - Chain [1] start processing\n",
      "00:19:54 - cmdstanpy - INFO - Chain [1] done processing\n"
     ]
    },
    {
     "name": "stdout",
     "output_type": "stream",
     "text": [
      "Root Mean Square Error(RMSE)------------------------------------ 12.40485629924539\n",
      "total:  75.0\n",
      "{'changepoint_prior_scale': 0.05, 'changepoint_range': 0.8, 'holidays_prior_scale': 20, 'n_changepoints': 75, 'seasonality_mode': 'additive'}\n"
     ]
    },
    {
     "name": "stderr",
     "output_type": "stream",
     "text": [
      "C:\\Users\\alex\\AppData\\Local\\Temp\\ipykernel_7812\\1428016007.py:27: FutureWarning: The frame.append method is deprecated and will be removed from pandas in a future version. Use pandas.concat instead.\n",
      "  model_parameters = model_parameters.append({'RMSE':RMSE,'Parameters':p},ignore_index=True)\n",
      "00:19:55 - cmdstanpy - INFO - Chain [1] start processing\n",
      "00:19:58 - cmdstanpy - INFO - Chain [1] done processing\n"
     ]
    },
    {
     "name": "stdout",
     "output_type": "stream",
     "text": [
      "Root Mean Square Error(RMSE)------------------------------------ 12.58106718967965\n",
      "total:  76.0\n",
      "{'changepoint_prior_scale': 0.05, 'changepoint_range': 0.8, 'holidays_prior_scale': 20, 'n_changepoints': 90, 'seasonality_mode': 'additive'}\n"
     ]
    },
    {
     "name": "stderr",
     "output_type": "stream",
     "text": [
      "C:\\Users\\alex\\AppData\\Local\\Temp\\ipykernel_7812\\1428016007.py:27: FutureWarning: The frame.append method is deprecated and will be removed from pandas in a future version. Use pandas.concat instead.\n",
      "  model_parameters = model_parameters.append({'RMSE':RMSE,'Parameters':p},ignore_index=True)\n",
      "00:19:59 - cmdstanpy - INFO - Chain [1] start processing\n",
      "00:20:03 - cmdstanpy - INFO - Chain [1] done processing\n"
     ]
    },
    {
     "name": "stdout",
     "output_type": "stream",
     "text": [
      "Root Mean Square Error(RMSE)------------------------------------ 12.497221599936713\n",
      "total:  77.0\n",
      "{'changepoint_prior_scale': 0.05, 'changepoint_range': 0.8, 'holidays_prior_scale': 20, 'n_changepoints': 100, 'seasonality_mode': 'additive'}\n"
     ]
    },
    {
     "name": "stderr",
     "output_type": "stream",
     "text": [
      "C:\\Users\\alex\\AppData\\Local\\Temp\\ipykernel_7812\\1428016007.py:27: FutureWarning: The frame.append method is deprecated and will be removed from pandas in a future version. Use pandas.concat instead.\n",
      "  model_parameters = model_parameters.append({'RMSE':RMSE,'Parameters':p},ignore_index=True)\n",
      "00:20:04 - cmdstanpy - INFO - Chain [1] start processing\n",
      "00:20:08 - cmdstanpy - INFO - Chain [1] done processing\n"
     ]
    },
    {
     "name": "stdout",
     "output_type": "stream",
     "text": [
      "Root Mean Square Error(RMSE)------------------------------------ 12.486541728983816\n",
      "total:  78.0\n",
      "{'changepoint_prior_scale': 0.05, 'changepoint_range': 0.85, 'holidays_prior_scale': 10, 'n_changepoints': 50, 'seasonality_mode': 'additive'}\n"
     ]
    },
    {
     "name": "stderr",
     "output_type": "stream",
     "text": [
      "C:\\Users\\alex\\AppData\\Local\\Temp\\ipykernel_7812\\1428016007.py:27: FutureWarning: The frame.append method is deprecated and will be removed from pandas in a future version. Use pandas.concat instead.\n",
      "  model_parameters = model_parameters.append({'RMSE':RMSE,'Parameters':p},ignore_index=True)\n",
      "00:20:09 - cmdstanpy - INFO - Chain [1] start processing\n",
      "00:20:13 - cmdstanpy - INFO - Chain [1] done processing\n"
     ]
    },
    {
     "name": "stdout",
     "output_type": "stream",
     "text": [
      "Root Mean Square Error(RMSE)------------------------------------ 9.568115570967866\n",
      "total:  79.0\n",
      "{'changepoint_prior_scale': 0.05, 'changepoint_range': 0.85, 'holidays_prior_scale': 10, 'n_changepoints': 75, 'seasonality_mode': 'additive'}\n"
     ]
    },
    {
     "name": "stderr",
     "output_type": "stream",
     "text": [
      "C:\\Users\\alex\\AppData\\Local\\Temp\\ipykernel_7812\\1428016007.py:27: FutureWarning: The frame.append method is deprecated and will be removed from pandas in a future version. Use pandas.concat instead.\n",
      "  model_parameters = model_parameters.append({'RMSE':RMSE,'Parameters':p},ignore_index=True)\n",
      "00:20:14 - cmdstanpy - INFO - Chain [1] start processing\n",
      "00:20:23 - cmdstanpy - INFO - Chain [1] done processing\n"
     ]
    },
    {
     "name": "stdout",
     "output_type": "stream",
     "text": [
      "Root Mean Square Error(RMSE)------------------------------------ 9.57330053465607\n",
      "total:  80.0\n",
      "{'changepoint_prior_scale': 0.05, 'changepoint_range': 0.85, 'holidays_prior_scale': 10, 'n_changepoints': 90, 'seasonality_mode': 'additive'}\n"
     ]
    },
    {
     "name": "stderr",
     "output_type": "stream",
     "text": [
      "C:\\Users\\alex\\AppData\\Local\\Temp\\ipykernel_7812\\1428016007.py:27: FutureWarning: The frame.append method is deprecated and will be removed from pandas in a future version. Use pandas.concat instead.\n",
      "  model_parameters = model_parameters.append({'RMSE':RMSE,'Parameters':p},ignore_index=True)\n",
      "00:20:24 - cmdstanpy - INFO - Chain [1] start processing\n",
      "00:20:29 - cmdstanpy - INFO - Chain [1] done processing\n"
     ]
    },
    {
     "name": "stdout",
     "output_type": "stream",
     "text": [
      "Root Mean Square Error(RMSE)------------------------------------ 9.569583299328945\n",
      "total:  81.0\n",
      "{'changepoint_prior_scale': 0.05, 'changepoint_range': 0.85, 'holidays_prior_scale': 10, 'n_changepoints': 100, 'seasonality_mode': 'additive'}\n"
     ]
    },
    {
     "name": "stderr",
     "output_type": "stream",
     "text": [
      "C:\\Users\\alex\\AppData\\Local\\Temp\\ipykernel_7812\\1428016007.py:27: FutureWarning: The frame.append method is deprecated and will be removed from pandas in a future version. Use pandas.concat instead.\n",
      "  model_parameters = model_parameters.append({'RMSE':RMSE,'Parameters':p},ignore_index=True)\n",
      "00:20:30 - cmdstanpy - INFO - Chain [1] start processing\n",
      "00:20:33 - cmdstanpy - INFO - Chain [1] done processing\n"
     ]
    },
    {
     "name": "stdout",
     "output_type": "stream",
     "text": [
      "Root Mean Square Error(RMSE)------------------------------------ 9.522114968088873\n",
      "total:  81.0\n",
      "{'changepoint_prior_scale': 0.05, 'changepoint_range': 0.85, 'holidays_prior_scale': 15, 'n_changepoints': 50, 'seasonality_mode': 'additive'}\n"
     ]
    },
    {
     "name": "stderr",
     "output_type": "stream",
     "text": [
      "C:\\Users\\alex\\AppData\\Local\\Temp\\ipykernel_7812\\1428016007.py:27: FutureWarning: The frame.append method is deprecated and will be removed from pandas in a future version. Use pandas.concat instead.\n",
      "  model_parameters = model_parameters.append({'RMSE':RMSE,'Parameters':p},ignore_index=True)\n",
      "00:20:34 - cmdstanpy - INFO - Chain [1] start processing\n",
      "00:20:36 - cmdstanpy - INFO - Chain [1] done processing\n"
     ]
    },
    {
     "name": "stdout",
     "output_type": "stream",
     "text": [
      "Root Mean Square Error(RMSE)------------------------------------ 9.53305378197096\n",
      "total:  82.0\n",
      "{'changepoint_prior_scale': 0.05, 'changepoint_range': 0.85, 'holidays_prior_scale': 15, 'n_changepoints': 75, 'seasonality_mode': 'additive'}\n"
     ]
    },
    {
     "name": "stderr",
     "output_type": "stream",
     "text": [
      "C:\\Users\\alex\\AppData\\Local\\Temp\\ipykernel_7812\\1428016007.py:27: FutureWarning: The frame.append method is deprecated and will be removed from pandas in a future version. Use pandas.concat instead.\n",
      "  model_parameters = model_parameters.append({'RMSE':RMSE,'Parameters':p},ignore_index=True)\n",
      "00:20:37 - cmdstanpy - INFO - Chain [1] start processing\n",
      "00:20:41 - cmdstanpy - INFO - Chain [1] done processing\n"
     ]
    },
    {
     "name": "stdout",
     "output_type": "stream",
     "text": [
      "Root Mean Square Error(RMSE)------------------------------------ 9.550726410732503\n",
      "total:  83.0\n",
      "{'changepoint_prior_scale': 0.05, 'changepoint_range': 0.85, 'holidays_prior_scale': 15, 'n_changepoints': 90, 'seasonality_mode': 'additive'}\n"
     ]
    },
    {
     "name": "stderr",
     "output_type": "stream",
     "text": [
      "C:\\Users\\alex\\AppData\\Local\\Temp\\ipykernel_7812\\1428016007.py:27: FutureWarning: The frame.append method is deprecated and will be removed from pandas in a future version. Use pandas.concat instead.\n",
      "  model_parameters = model_parameters.append({'RMSE':RMSE,'Parameters':p},ignore_index=True)\n",
      "00:20:42 - cmdstanpy - INFO - Chain [1] start processing\n",
      "00:20:48 - cmdstanpy - INFO - Chain [1] done processing\n"
     ]
    },
    {
     "name": "stdout",
     "output_type": "stream",
     "text": [
      "Root Mean Square Error(RMSE)------------------------------------ 9.516081652952458\n",
      "total:  84.0\n",
      "{'changepoint_prior_scale': 0.05, 'changepoint_range': 0.85, 'holidays_prior_scale': 15, 'n_changepoints': 100, 'seasonality_mode': 'additive'}\n"
     ]
    },
    {
     "name": "stderr",
     "output_type": "stream",
     "text": [
      "C:\\Users\\alex\\AppData\\Local\\Temp\\ipykernel_7812\\1428016007.py:27: FutureWarning: The frame.append method is deprecated and will be removed from pandas in a future version. Use pandas.concat instead.\n",
      "  model_parameters = model_parameters.append({'RMSE':RMSE,'Parameters':p},ignore_index=True)\n",
      "00:20:50 - cmdstanpy - INFO - Chain [1] start processing\n",
      "00:20:56 - cmdstanpy - INFO - Chain [1] done processing\n"
     ]
    },
    {
     "name": "stdout",
     "output_type": "stream",
     "text": [
      "Root Mean Square Error(RMSE)------------------------------------ 9.55052216225885\n",
      "total:  85.0\n",
      "{'changepoint_prior_scale': 0.05, 'changepoint_range': 0.85, 'holidays_prior_scale': 20, 'n_changepoints': 50, 'seasonality_mode': 'additive'}\n"
     ]
    },
    {
     "name": "stderr",
     "output_type": "stream",
     "text": [
      "C:\\Users\\alex\\AppData\\Local\\Temp\\ipykernel_7812\\1428016007.py:27: FutureWarning: The frame.append method is deprecated and will be removed from pandas in a future version. Use pandas.concat instead.\n",
      "  model_parameters = model_parameters.append({'RMSE':RMSE,'Parameters':p},ignore_index=True)\n",
      "00:20:57 - cmdstanpy - INFO - Chain [1] start processing\n",
      "00:21:00 - cmdstanpy - INFO - Chain [1] done processing\n"
     ]
    },
    {
     "name": "stdout",
     "output_type": "stream",
     "text": [
      "Root Mean Square Error(RMSE)------------------------------------ 9.536680073803382\n",
      "total:  86.0\n",
      "{'changepoint_prior_scale': 0.05, 'changepoint_range': 0.85, 'holidays_prior_scale': 20, 'n_changepoints': 75, 'seasonality_mode': 'additive'}\n"
     ]
    },
    {
     "name": "stderr",
     "output_type": "stream",
     "text": [
      "C:\\Users\\alex\\AppData\\Local\\Temp\\ipykernel_7812\\1428016007.py:27: FutureWarning: The frame.append method is deprecated and will be removed from pandas in a future version. Use pandas.concat instead.\n",
      "  model_parameters = model_parameters.append({'RMSE':RMSE,'Parameters':p},ignore_index=True)\n",
      "00:21:01 - cmdstanpy - INFO - Chain [1] start processing\n",
      "00:21:04 - cmdstanpy - INFO - Chain [1] done processing\n"
     ]
    },
    {
     "name": "stdout",
     "output_type": "stream",
     "text": [
      "Root Mean Square Error(RMSE)------------------------------------ 9.542041630244045\n",
      "total:  87.0\n",
      "{'changepoint_prior_scale': 0.05, 'changepoint_range': 0.85, 'holidays_prior_scale': 20, 'n_changepoints': 90, 'seasonality_mode': 'additive'}\n"
     ]
    },
    {
     "name": "stderr",
     "output_type": "stream",
     "text": [
      "C:\\Users\\alex\\AppData\\Local\\Temp\\ipykernel_7812\\1428016007.py:27: FutureWarning: The frame.append method is deprecated and will be removed from pandas in a future version. Use pandas.concat instead.\n",
      "  model_parameters = model_parameters.append({'RMSE':RMSE,'Parameters':p},ignore_index=True)\n",
      "00:21:05 - cmdstanpy - INFO - Chain [1] start processing\n",
      "00:21:09 - cmdstanpy - INFO - Chain [1] done processing\n"
     ]
    },
    {
     "name": "stdout",
     "output_type": "stream",
     "text": [
      "Root Mean Square Error(RMSE)------------------------------------ 9.529378742594266\n",
      "total:  88.0\n",
      "{'changepoint_prior_scale': 0.05, 'changepoint_range': 0.85, 'holidays_prior_scale': 20, 'n_changepoints': 100, 'seasonality_mode': 'additive'}\n"
     ]
    },
    {
     "name": "stderr",
     "output_type": "stream",
     "text": [
      "C:\\Users\\alex\\AppData\\Local\\Temp\\ipykernel_7812\\1428016007.py:27: FutureWarning: The frame.append method is deprecated and will be removed from pandas in a future version. Use pandas.concat instead.\n",
      "  model_parameters = model_parameters.append({'RMSE':RMSE,'Parameters':p},ignore_index=True)\n",
      "00:21:10 - cmdstanpy - INFO - Chain [1] start processing\n",
      "00:21:14 - cmdstanpy - INFO - Chain [1] done processing\n"
     ]
    },
    {
     "name": "stdout",
     "output_type": "stream",
     "text": [
      "Root Mean Square Error(RMSE)------------------------------------ 9.51449618253637\n",
      "total:  89.0\n",
      "{'changepoint_prior_scale': 0.05, 'changepoint_range': 0.9, 'holidays_prior_scale': 10, 'n_changepoints': 50, 'seasonality_mode': 'additive'}\n"
     ]
    },
    {
     "name": "stderr",
     "output_type": "stream",
     "text": [
      "C:\\Users\\alex\\AppData\\Local\\Temp\\ipykernel_7812\\1428016007.py:27: FutureWarning: The frame.append method is deprecated and will be removed from pandas in a future version. Use pandas.concat instead.\n",
      "  model_parameters = model_parameters.append({'RMSE':RMSE,'Parameters':p},ignore_index=True)\n",
      "00:21:15 - cmdstanpy - INFO - Chain [1] start processing\n",
      "00:21:18 - cmdstanpy - INFO - Chain [1] done processing\n"
     ]
    },
    {
     "name": "stdout",
     "output_type": "stream",
     "text": [
      "Root Mean Square Error(RMSE)------------------------------------ 14.755764233380392\n",
      "total:  90.0\n",
      "{'changepoint_prior_scale': 0.05, 'changepoint_range': 0.9, 'holidays_prior_scale': 10, 'n_changepoints': 75, 'seasonality_mode': 'additive'}\n"
     ]
    },
    {
     "name": "stderr",
     "output_type": "stream",
     "text": [
      "C:\\Users\\alex\\AppData\\Local\\Temp\\ipykernel_7812\\1428016007.py:27: FutureWarning: The frame.append method is deprecated and will be removed from pandas in a future version. Use pandas.concat instead.\n",
      "  model_parameters = model_parameters.append({'RMSE':RMSE,'Parameters':p},ignore_index=True)\n",
      "00:21:19 - cmdstanpy - INFO - Chain [1] start processing\n",
      "00:21:23 - cmdstanpy - INFO - Chain [1] done processing\n"
     ]
    },
    {
     "name": "stdout",
     "output_type": "stream",
     "text": [
      "Root Mean Square Error(RMSE)------------------------------------ 14.554074380720664\n",
      "total:  91.0\n",
      "{'changepoint_prior_scale': 0.05, 'changepoint_range': 0.9, 'holidays_prior_scale': 10, 'n_changepoints': 90, 'seasonality_mode': 'additive'}\n"
     ]
    },
    {
     "name": "stderr",
     "output_type": "stream",
     "text": [
      "C:\\Users\\alex\\AppData\\Local\\Temp\\ipykernel_7812\\1428016007.py:27: FutureWarning: The frame.append method is deprecated and will be removed from pandas in a future version. Use pandas.concat instead.\n",
      "  model_parameters = model_parameters.append({'RMSE':RMSE,'Parameters':p},ignore_index=True)\n",
      "00:21:24 - cmdstanpy - INFO - Chain [1] start processing\n",
      "00:21:29 - cmdstanpy - INFO - Chain [1] done processing\n"
     ]
    },
    {
     "name": "stdout",
     "output_type": "stream",
     "text": [
      "Root Mean Square Error(RMSE)------------------------------------ 13.858580678314187\n",
      "total:  92.0\n",
      "{'changepoint_prior_scale': 0.05, 'changepoint_range': 0.9, 'holidays_prior_scale': 10, 'n_changepoints': 100, 'seasonality_mode': 'additive'}\n"
     ]
    },
    {
     "name": "stderr",
     "output_type": "stream",
     "text": [
      "C:\\Users\\alex\\AppData\\Local\\Temp\\ipykernel_7812\\1428016007.py:27: FutureWarning: The frame.append method is deprecated and will be removed from pandas in a future version. Use pandas.concat instead.\n",
      "  model_parameters = model_parameters.append({'RMSE':RMSE,'Parameters':p},ignore_index=True)\n",
      "00:21:30 - cmdstanpy - INFO - Chain [1] start processing\n",
      "00:21:40 - cmdstanpy - INFO - Chain [1] done processing\n"
     ]
    },
    {
     "name": "stdout",
     "output_type": "stream",
     "text": [
      "Root Mean Square Error(RMSE)------------------------------------ 14.04443817541299\n",
      "total:  93.0\n",
      "{'changepoint_prior_scale': 0.05, 'changepoint_range': 0.9, 'holidays_prior_scale': 15, 'n_changepoints': 50, 'seasonality_mode': 'additive'}\n"
     ]
    },
    {
     "name": "stderr",
     "output_type": "stream",
     "text": [
      "C:\\Users\\alex\\AppData\\Local\\Temp\\ipykernel_7812\\1428016007.py:27: FutureWarning: The frame.append method is deprecated and will be removed from pandas in a future version. Use pandas.concat instead.\n",
      "  model_parameters = model_parameters.append({'RMSE':RMSE,'Parameters':p},ignore_index=True)\n",
      "00:21:41 - cmdstanpy - INFO - Chain [1] start processing\n",
      "00:21:44 - cmdstanpy - INFO - Chain [1] done processing\n"
     ]
    },
    {
     "name": "stdout",
     "output_type": "stream",
     "text": [
      "Root Mean Square Error(RMSE)------------------------------------ 14.951416261890078\n",
      "total:  94.0\n",
      "{'changepoint_prior_scale': 0.05, 'changepoint_range': 0.9, 'holidays_prior_scale': 15, 'n_changepoints': 75, 'seasonality_mode': 'additive'}\n"
     ]
    },
    {
     "name": "stderr",
     "output_type": "stream",
     "text": [
      "C:\\Users\\alex\\AppData\\Local\\Temp\\ipykernel_7812\\1428016007.py:27: FutureWarning: The frame.append method is deprecated and will be removed from pandas in a future version. Use pandas.concat instead.\n",
      "  model_parameters = model_parameters.append({'RMSE':RMSE,'Parameters':p},ignore_index=True)\n",
      "00:21:46 - cmdstanpy - INFO - Chain [1] start processing\n",
      "00:21:51 - cmdstanpy - INFO - Chain [1] done processing\n"
     ]
    },
    {
     "name": "stdout",
     "output_type": "stream",
     "text": [
      "Root Mean Square Error(RMSE)------------------------------------ 14.739422091865082\n",
      "total:  94.0\n",
      "{'changepoint_prior_scale': 0.05, 'changepoint_range': 0.9, 'holidays_prior_scale': 15, 'n_changepoints': 90, 'seasonality_mode': 'additive'}\n"
     ]
    },
    {
     "name": "stderr",
     "output_type": "stream",
     "text": [
      "C:\\Users\\alex\\AppData\\Local\\Temp\\ipykernel_7812\\1428016007.py:27: FutureWarning: The frame.append method is deprecated and will be removed from pandas in a future version. Use pandas.concat instead.\n",
      "  model_parameters = model_parameters.append({'RMSE':RMSE,'Parameters':p},ignore_index=True)\n",
      "00:21:52 - cmdstanpy - INFO - Chain [1] start processing\n",
      "00:22:00 - cmdstanpy - INFO - Chain [1] done processing\n"
     ]
    },
    {
     "name": "stdout",
     "output_type": "stream",
     "text": [
      "Root Mean Square Error(RMSE)------------------------------------ 14.169793009247472\n",
      "total:  95.0\n",
      "{'changepoint_prior_scale': 0.05, 'changepoint_range': 0.9, 'holidays_prior_scale': 15, 'n_changepoints': 100, 'seasonality_mode': 'additive'}\n"
     ]
    },
    {
     "name": "stderr",
     "output_type": "stream",
     "text": [
      "C:\\Users\\alex\\AppData\\Local\\Temp\\ipykernel_7812\\1428016007.py:27: FutureWarning: The frame.append method is deprecated and will be removed from pandas in a future version. Use pandas.concat instead.\n",
      "  model_parameters = model_parameters.append({'RMSE':RMSE,'Parameters':p},ignore_index=True)\n",
      "00:22:01 - cmdstanpy - INFO - Chain [1] start processing\n",
      "00:22:08 - cmdstanpy - INFO - Chain [1] done processing\n"
     ]
    },
    {
     "name": "stdout",
     "output_type": "stream",
     "text": [
      "Root Mean Square Error(RMSE)------------------------------------ 15.15582809962575\n",
      "total:  96.0\n",
      "{'changepoint_prior_scale': 0.05, 'changepoint_range': 0.9, 'holidays_prior_scale': 20, 'n_changepoints': 50, 'seasonality_mode': 'additive'}\n"
     ]
    },
    {
     "name": "stderr",
     "output_type": "stream",
     "text": [
      "C:\\Users\\alex\\AppData\\Local\\Temp\\ipykernel_7812\\1428016007.py:27: FutureWarning: The frame.append method is deprecated and will be removed from pandas in a future version. Use pandas.concat instead.\n",
      "  model_parameters = model_parameters.append({'RMSE':RMSE,'Parameters':p},ignore_index=True)\n",
      "00:22:09 - cmdstanpy - INFO - Chain [1] start processing\n",
      "00:22:12 - cmdstanpy - INFO - Chain [1] done processing\n"
     ]
    },
    {
     "name": "stdout",
     "output_type": "stream",
     "text": [
      "Root Mean Square Error(RMSE)------------------------------------ 14.675247588300586\n",
      "total:  97.0\n",
      "{'changepoint_prior_scale': 0.05, 'changepoint_range': 0.9, 'holidays_prior_scale': 20, 'n_changepoints': 75, 'seasonality_mode': 'additive'}\n"
     ]
    },
    {
     "name": "stderr",
     "output_type": "stream",
     "text": [
      "C:\\Users\\alex\\AppData\\Local\\Temp\\ipykernel_7812\\1428016007.py:27: FutureWarning: The frame.append method is deprecated and will be removed from pandas in a future version. Use pandas.concat instead.\n",
      "  model_parameters = model_parameters.append({'RMSE':RMSE,'Parameters':p},ignore_index=True)\n",
      "00:22:13 - cmdstanpy - INFO - Chain [1] start processing\n",
      "00:22:23 - cmdstanpy - INFO - Chain [1] done processing\n"
     ]
    },
    {
     "name": "stdout",
     "output_type": "stream",
     "text": [
      "Root Mean Square Error(RMSE)------------------------------------ 14.722791875000457\n",
      "total:  98.0\n",
      "{'changepoint_prior_scale': 0.05, 'changepoint_range': 0.9, 'holidays_prior_scale': 20, 'n_changepoints': 90, 'seasonality_mode': 'additive'}\n"
     ]
    },
    {
     "name": "stderr",
     "output_type": "stream",
     "text": [
      "C:\\Users\\alex\\AppData\\Local\\Temp\\ipykernel_7812\\1428016007.py:27: FutureWarning: The frame.append method is deprecated and will be removed from pandas in a future version. Use pandas.concat instead.\n",
      "  model_parameters = model_parameters.append({'RMSE':RMSE,'Parameters':p},ignore_index=True)\n",
      "00:22:24 - cmdstanpy - INFO - Chain [1] start processing\n",
      "00:22:29 - cmdstanpy - INFO - Chain [1] done processing\n"
     ]
    },
    {
     "name": "stdout",
     "output_type": "stream",
     "text": [
      "Root Mean Square Error(RMSE)------------------------------------ 15.029314762891762\n",
      "total:  99.0\n",
      "{'changepoint_prior_scale': 0.05, 'changepoint_range': 0.9, 'holidays_prior_scale': 20, 'n_changepoints': 100, 'seasonality_mode': 'additive'}\n"
     ]
    },
    {
     "name": "stderr",
     "output_type": "stream",
     "text": [
      "C:\\Users\\alex\\AppData\\Local\\Temp\\ipykernel_7812\\1428016007.py:27: FutureWarning: The frame.append method is deprecated and will be removed from pandas in a future version. Use pandas.concat instead.\n",
      "  model_parameters = model_parameters.append({'RMSE':RMSE,'Parameters':p},ignore_index=True)\n",
      "00:22:30 - cmdstanpy - INFO - Chain [1] start processing\n",
      "00:22:35 - cmdstanpy - INFO - Chain [1] done processing\n"
     ]
    },
    {
     "name": "stdout",
     "output_type": "stream",
     "text": [
      "Root Mean Square Error(RMSE)------------------------------------ 13.671801462165176\n",
      "total:  100.0\n"
     ]
    },
    {
     "name": "stderr",
     "output_type": "stream",
     "text": [
      "C:\\Users\\alex\\AppData\\Local\\Temp\\ipykernel_7812\\1428016007.py:27: FutureWarning: The frame.append method is deprecated and will be removed from pandas in a future version. Use pandas.concat instead.\n",
      "  model_parameters = model_parameters.append({'RMSE':RMSE,'Parameters':p},ignore_index=True)\n"
     ]
    }
   ],
   "source": [
    "import random\n",
    "model_parameters = pd.DataFrame(columns = ['RMSE','Parameters'])\n",
    "count = 0\n",
    "for p in grid:\n",
    "    \n",
    "    test = pd.DataFrame()\n",
    "    print(p)\n",
    "    random.seed(0)\n",
    "    train_model =Prophet(changepoint_prior_scale = p['changepoint_prior_scale'],\n",
    "                         holidays_prior_scale = p['holidays_prior_scale'],\n",
    "                         n_changepoints = p['n_changepoints'],\n",
    "                         changepoint_range=p['changepoint_range'],\n",
    "                         seasonality_mode = p['seasonality_mode'],\n",
    "                         weekly_seasonality=True,\n",
    "                         daily_seasonality = True,\n",
    "                         yearly_seasonality = True,\n",
    "                         holidays=holiday, \n",
    "                         interval_width=0.95)\n",
    "    train_model.add_country_holidays(country_name='BR')\n",
    "    train_model.fit(prophet_train)\n",
    "    train_forecast = train_model.make_future_dataframe(periods=len(prophet_test), freq='D',include_history = False)\n",
    "    train_forecast = train_model.predict(train_forecast)\n",
    "    predicao=train_forecast[['ds','yhat']]\n",
    "    Actual = prophet_test\n",
    "    RMSE = np.sqrt(mean_squared_error(Actual['y'], predicao['yhat']))\n",
    "    print('Root Mean Square Error(RMSE)------------------------------------',RMSE)\n",
    "    model_parameters = model_parameters.append({'RMSE':RMSE,'Parameters':p},ignore_index=True)\n",
    "    count += 1\n",
    "    print(\"total: \" ,round(count/cnt,2)*100)"
   ]
  },
  {
   "cell_type": "code",
   "execution_count": 853,
   "id": "bfb8fb99",
   "metadata": {},
   "outputs": [
    {
     "data": {
      "text/html": [
       "<div>\n",
       "<style scoped>\n",
       "    .dataframe tbody tr th:only-of-type {\n",
       "        vertical-align: middle;\n",
       "    }\n",
       "\n",
       "    .dataframe tbody tr th {\n",
       "        vertical-align: top;\n",
       "    }\n",
       "\n",
       "    .dataframe thead th {\n",
       "        text-align: right;\n",
       "    }\n",
       "</style>\n",
       "<table border=\"1\" class=\"dataframe\">\n",
       "  <thead>\n",
       "    <tr style=\"text-align: right;\">\n",
       "      <th></th>\n",
       "      <th>RMSE</th>\n",
       "      <th>Parameters</th>\n",
       "    </tr>\n",
       "  </thead>\n",
       "  <tbody>\n",
       "    <tr>\n",
       "      <th>0</th>\n",
       "      <td>9.403805</td>\n",
       "      <td>{'changepoint_prior_scale': 0.035, 'changepoin...</td>\n",
       "    </tr>\n",
       "    <tr>\n",
       "      <th>1</th>\n",
       "      <td>9.407548</td>\n",
       "      <td>{'changepoint_prior_scale': 0.035, 'changepoin...</td>\n",
       "    </tr>\n",
       "    <tr>\n",
       "      <th>2</th>\n",
       "      <td>9.407711</td>\n",
       "      <td>{'changepoint_prior_scale': 0.035, 'changepoin...</td>\n",
       "    </tr>\n",
       "    <tr>\n",
       "      <th>3</th>\n",
       "      <td>9.407934</td>\n",
       "      <td>{'changepoint_prior_scale': 0.035, 'changepoin...</td>\n",
       "    </tr>\n",
       "    <tr>\n",
       "      <th>4</th>\n",
       "      <td>9.407941</td>\n",
       "      <td>{'changepoint_prior_scale': 0.035, 'changepoin...</td>\n",
       "    </tr>\n",
       "  </tbody>\n",
       "</table>\n",
       "</div>"
      ],
      "text/plain": [
       "       RMSE                                         Parameters\n",
       "0  9.403805  {'changepoint_prior_scale': 0.035, 'changepoin...\n",
       "1  9.407548  {'changepoint_prior_scale': 0.035, 'changepoin...\n",
       "2  9.407711  {'changepoint_prior_scale': 0.035, 'changepoin...\n",
       "3  9.407934  {'changepoint_prior_scale': 0.035, 'changepoin...\n",
       "4  9.407941  {'changepoint_prior_scale': 0.035, 'changepoin..."
      ]
     },
     "execution_count": 853,
     "metadata": {},
     "output_type": "execute_result"
    }
   ],
   "source": [
    "parameters = model_parameters.sort_values(by=['RMSE'])\n",
    "parameters = parameters.reset_index(drop=True)\n",
    "parameters.head()"
   ]
  },
  {
   "cell_type": "code",
   "execution_count": 822,
   "id": "cb6abf8b",
   "metadata": {},
   "outputs": [
    {
     "name": "stdout",
     "output_type": "stream",
     "text": [
      "9.403804521352964\n",
      "{'changepoint_prior_scale': 0.035, 'changepoint_range': 0.85, 'holidays_prior_scale': 10, 'n_changepoints': 50, 'seasonality_mode': 'additive'}\n"
     ]
    }
   ],
   "source": [
    "print(parameters.loc[0, 'RMSE'])\n",
    "print(parameters.loc[0, 'Parameters'])"
   ]
  },
  {
   "cell_type": "code",
   "execution_count": 857,
   "id": "2db0e1fa",
   "metadata": {},
   "outputs": [
    {
     "data": {
      "image/png": "[encoded data removed]",
      "text/plain": [
       "<Figure size 1152x288 with 1 Axes>"
      ]
     },
     "metadata": {
      "needs_background": "light"
     },
     "output_type": "display_data"
    }
   ],
   "source": [
    "import matplotlib.pyplot as plt\n",
    "plt.figure(figsize=(16,4))\n",
    "# Plotando o primeiro gráfico\n",
    "plt.plot(predicao['ds'], predicao['yhat'], label='Predito')\n",
    "# Plotando o segundo gráfico\n",
    "plt.plot(prophet_test['ds'], prophet_test['y'], label='Teste')\n",
    "# Adicionando uma legenda\n",
    "plt.legend()\n",
    "\n",
    "# Exibindo o gráfico\n",
    "plt.show()"
   ]
  },
  {
   "cell_type": "code",
   "execution_count": 869,
   "id": "fe9a10b1",
   "metadata": {},
   "outputs": [
    {
     "data": {
      "image/png": "[encoded data removed]",
      "text/plain": [
       "<Figure size 720x360 with 1 Axes>"
      ]
     },
     "metadata": {
      "needs_background": "light"
     },
     "output_type": "display_data"
    }
   ],
   "source": [
    "# Plotando os resultados\n",
    "plt.figure(figsize=(10, 5))\n",
    "\n",
    "# Linha da série temporal\n",
    "plt.plot(prophet_test['ds'], prophet_test['y'], label='Observado')\n",
    "\n",
    "# Linha das previsões\n",
    "plt.plot(train_forecast['ds'], train_forecast['yhat'], color='red', label='Previsões')\n",
    "\n",
    "# Área do intervalo de confiança\n",
    "plt.fill_between(train_forecast['ds'],\n",
    "                 train_forecast['yhat_lower'],\n",
    "                 train_forecast['yhat_upper'], color='pink', alpha=0.5)\n",
    "\n",
    "plt.legend()\n",
    "plt.show()"
   ]
  },
  {
   "cell_type": "code",
   "execution_count": 867,
   "id": "1e9e3108",
   "metadata": {},
   "outputs": [
    {
     "data": {
      "text/html": [
       "<div>\n",
       "<style scoped>\n",
       "    .dataframe tbody tr th:only-of-type {\n",
       "        vertical-align: middle;\n",
       "    }\n",
       "\n",
       "    .dataframe tbody tr th {\n",
       "        vertical-align: top;\n",
       "    }\n",
       "\n",
       "    .dataframe thead th {\n",
       "        text-align: right;\n",
       "    }\n",
       "</style>\n",
       "<table border=\"1\" class=\"dataframe\">\n",
       "  <thead>\n",
       "    <tr style=\"text-align: right;\">\n",
       "      <th></th>\n",
       "      <th>value</th>\n",
       "    </tr>\n",
       "    <tr>\n",
       "      <th>data</th>\n",
       "      <th></th>\n",
       "    </tr>\n",
       "  </thead>\n",
       "  <tbody>\n",
       "    <tr>\n",
       "      <th>2022-08-05</th>\n",
       "      <td>106.472000</td>\n",
       "    </tr>\n",
       "    <tr>\n",
       "      <th>2022-08-06</th>\n",
       "      <td>107.115333</td>\n",
       "    </tr>\n",
       "    <tr>\n",
       "      <th>2022-08-07</th>\n",
       "      <td>107.758667</td>\n",
       "    </tr>\n",
       "    <tr>\n",
       "      <th>2022-08-08</th>\n",
       "      <td>108.402000</td>\n",
       "    </tr>\n",
       "    <tr>\n",
       "      <th>2022-08-09</th>\n",
       "      <td>108.651000</td>\n",
       "    </tr>\n",
       "    <tr>\n",
       "      <th>...</th>\n",
       "      <td>...</td>\n",
       "    </tr>\n",
       "    <tr>\n",
       "      <th>2023-12-24</th>\n",
       "      <td>133.143000</td>\n",
       "    </tr>\n",
       "    <tr>\n",
       "      <th>2023-12-25</th>\n",
       "      <td>133.338000</td>\n",
       "    </tr>\n",
       "    <tr>\n",
       "      <th>2023-12-26</th>\n",
       "      <td>133.533000</td>\n",
       "    </tr>\n",
       "    <tr>\n",
       "      <th>2023-12-27</th>\n",
       "      <td>134.194000</td>\n",
       "    </tr>\n",
       "    <tr>\n",
       "      <th>2023-12-28</th>\n",
       "      <td>134.185000</td>\n",
       "    </tr>\n",
       "  </tbody>\n",
       "</table>\n",
       "<p>511 rows × 1 columns</p>\n",
       "</div>"
      ],
      "text/plain": [
       "                 value\n",
       "data                  \n",
       "2022-08-05  106.472000\n",
       "2022-08-06  107.115333\n",
       "2022-08-07  107.758667\n",
       "2022-08-08  108.402000\n",
       "2022-08-09  108.651000\n",
       "...                ...\n",
       "2023-12-24  133.143000\n",
       "2023-12-25  133.338000\n",
       "2023-12-26  133.533000\n",
       "2023-12-27  134.194000\n",
       "2023-12-28  134.185000\n",
       "\n",
       "[511 rows x 1 columns]"
      ]
     },
     "execution_count": 867,
     "metadata": {},
     "output_type": "execute_result"
    }
   ],
   "source": [
    "arima_test"
   ]
  }
 ],
 "metadata": {
  "kernelspec": {
   "display_name": "Python 3 (ipykernel)",
   "language": "python",
   "name": "python3"
  },
  "language_info": {
   "codemirror_mode": {
    "name": "ipython",
    "version": 3
   },
   "file_extension": ".py",
   "mimetype": "text/x-python",
   "name": "python",
   "nbconvert_exporter": "python",
   "pygments_lexer": "ipython3",
   "version": "3.9.12"
  }
 },
 "nbformat": 4,
 "nbformat_minor": 5
}
